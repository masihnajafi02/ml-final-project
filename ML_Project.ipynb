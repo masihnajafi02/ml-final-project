{
  "cells": [
    {
      "cell_type": "markdown",
      "id": "5902c1f3",
      "metadata": {
        "id": "5902c1f3"
      },
      "source": [
        "<img src='http://www-scf.usc.edu/~ghasemig/images/sharif.png' alt=\"SUT logo\" width=200 height=200 align=left class=\"saturate\" >\n",
        "\n",
        "<br>\n",
        "<font face=\"Times New Roman\">\n",
        "<div dir=ltr align=center>\n",
        "<font color=0F5298 size=7>\n",
        "    Introduction to Machine Learning <br>\n",
        "<font color=2565AE size=5>\n",
        "    Computer Engineering Department <br>\n",
        "    Fall 2022<br>\n",
        "<font color=3C99D size=5>\n",
        "    Project <br>\n",
        "<font color=696880 size=4>\n",
        "    Project Team \n",
        "    \n",
        "    \n",
        "____\n"
      ]
    },
    {
      "attachments": {},
      "cell_type": "markdown",
      "id": "5e85f16a",
      "metadata": {
        "id": "5e85f16a"
      },
      "source": [
        "### Full Name : Mohammad Bagher Soltani, Seyed Mohammad Yousef Najafi\n",
        "### Student Number : 98105813, 99102361\n",
        "___"
      ]
    },
    {
      "cell_type": "markdown",
      "id": "40df5e74",
      "metadata": {
        "id": "40df5e74"
      },
      "source": [
        "# Introduction"
      ]
    },
    {
      "cell_type": "markdown",
      "id": "5a627177",
      "metadata": {
        "id": "5a627177"
      },
      "source": [
        "In this project, we are going to have a brief and elementary hands-on real-world project, predicting breast cancer survival using machine learning models with clinical data and gene expression profiles."
      ]
    },
    {
      "cell_type": "code",
      "execution_count": 345,
      "id": "2970285a",
      "metadata": {
        "id": "2970285a"
      },
      "outputs": [],
      "source": [
        "# imports\n",
        "import numpy as np\n",
        "import pandas as pd\n",
        "from sklearn.preprocessing import OrdinalEncoder, StandardScaler\n",
        "from sklearn.decomposition import PCA\n",
        "from sklearn.linear_model import LinearRegression\n",
        "from sklearn.impute import SimpleImputer\n",
        "import umap\n",
        "import matplotlib.pyplot as plt\n",
        "import seaborn as sns\n",
        "from sklearn.metrics import accuracy_score\n",
        "from sklearn.model_selection import train_test_split\n",
        "from sklearn.ensemble import RandomForestClassifier\n",
        "from sklearn.svm import SVC\n",
        "import torch\n",
        "import torch.nn as nn\n",
        "from torch.utils.data import Dataset, DataLoader\n",
        "from tqdm.std import tqdm\n",
        "from torch.optim import Adam\n",
        "from copy import deepcopy"
      ]
    },
    {
      "cell_type": "code",
      "execution_count": 346,
      "id": "4dac6eb7",
      "metadata": {},
      "outputs": [],
      "source": [
        "SEED = 99"
      ]
    },
    {
      "cell_type": "code",
      "execution_count": 347,
      "id": "88e8d521",
      "metadata": {
        "id": "88e8d521"
      },
      "outputs": [],
      "source": [
        "np.random.seed(SEED)"
      ]
    },
    {
      "cell_type": "markdown",
      "id": "b1e52cbc",
      "metadata": {
        "id": "b1e52cbc"
      },
      "source": [
        "# Data Documentation"
      ]
    },
    {
      "cell_type": "markdown",
      "id": "254cb90f",
      "metadata": {
        "ExecuteTime": {
          "end_time": "2023-01-29T19:31:29.604891Z",
          "start_time": "2023-01-29T19:31:29.601061Z"
        },
        "id": "254cb90f"
      },
      "source": [
        "For this purpose, we will use \"Breast Cancer Gene Expression Profiles (METABRIC)\" data. \n",
        "The first 31 columns of data contain clinical information including death status.\n",
        "The next columns of the data contain gene's related information which includes both gene expressions and mutation information. (gene's mutation info columns have been marked with \"_mut\" at the end of the names of the columns) \n",
        "For more information please read the [data documentation](https://www.kaggle.com/datasets/raghadalharbi/breast-cancer-gene-expression-profiles-metabric)."
      ]
    },
    {
      "cell_type": "markdown",
      "id": "9cef1d4a",
      "metadata": {
        "id": "9cef1d4a"
      },
      "source": [
        "# Data Preparation (15 Points)"
      ]
    },
    {
      "cell_type": "markdown",
      "id": "f3240d5d",
      "metadata": {
        "id": "f3240d5d"
      },
      "source": [
        "In this section you must first split data into three datasets:\n",
        "<br>\n",
        "1- clinical dataset\n",
        "<br>\n",
        "2- gene expressions dataset\n",
        "<br>\n",
        "3- gene mutation dataset. (We will not use this dataset in further steps of the project)"
      ]
    },
    {
      "cell_type": "markdown",
      "id": "cc42f2b1",
      "metadata": {
        "id": "cc42f2b1"
      },
      "source": [
        "## Data Loading & Splitting"
      ]
    },
    {
      "cell_type": "code",
      "execution_count": 348,
      "id": "463b243b",
      "metadata": {
        "colab": {
          "base_uri": "https://localhost:8080/",
          "height": 404
        },
        "id": "463b243b",
        "outputId": "0a9a21cf-8dbf-4860-e2c6-8b47d54c516c"
      },
      "outputs": [
        {
          "data": {
            "text/html": [
              "<div>\n",
              "<style scoped>\n",
              "    .dataframe tbody tr th:only-of-type {\n",
              "        vertical-align: middle;\n",
              "    }\n",
              "\n",
              "    .dataframe tbody tr th {\n",
              "        vertical-align: top;\n",
              "    }\n",
              "\n",
              "    .dataframe thead th {\n",
              "        text-align: right;\n",
              "    }\n",
              "</style>\n",
              "<table border=\"1\" class=\"dataframe\">\n",
              "  <thead>\n",
              "    <tr style=\"text-align: right;\">\n",
              "      <th></th>\n",
              "      <th>patient_id</th>\n",
              "      <th>age_at_diagnosis</th>\n",
              "      <th>type_of_breast_surgery</th>\n",
              "      <th>cancer_type</th>\n",
              "      <th>cancer_type_detailed</th>\n",
              "      <th>cellularity</th>\n",
              "      <th>chemotherapy</th>\n",
              "      <th>pam50_+_claudin-low_subtype</th>\n",
              "      <th>cohort</th>\n",
              "      <th>er_status_measured_by_ihc</th>\n",
              "      <th>...</th>\n",
              "      <th>mtap_mut</th>\n",
              "      <th>ppp2cb_mut</th>\n",
              "      <th>smarcd1_mut</th>\n",
              "      <th>nras_mut</th>\n",
              "      <th>ndfip1_mut</th>\n",
              "      <th>hras_mut</th>\n",
              "      <th>prps2_mut</th>\n",
              "      <th>smarcb1_mut</th>\n",
              "      <th>stmn2_mut</th>\n",
              "      <th>siah1_mut</th>\n",
              "    </tr>\n",
              "  </thead>\n",
              "  <tbody>\n",
              "    <tr>\n",
              "      <th>0</th>\n",
              "      <td>0</td>\n",
              "      <td>75.65</td>\n",
              "      <td>MASTECTOMY</td>\n",
              "      <td>Breast Cancer</td>\n",
              "      <td>Breast Invasive Ductal Carcinoma</td>\n",
              "      <td>NaN</td>\n",
              "      <td>0</td>\n",
              "      <td>claudin-low</td>\n",
              "      <td>1.0</td>\n",
              "      <td>Positve</td>\n",
              "      <td>...</td>\n",
              "      <td>0</td>\n",
              "      <td>0</td>\n",
              "      <td>0</td>\n",
              "      <td>0</td>\n",
              "      <td>0</td>\n",
              "      <td>0</td>\n",
              "      <td>0</td>\n",
              "      <td>0</td>\n",
              "      <td>0</td>\n",
              "      <td>0</td>\n",
              "    </tr>\n",
              "    <tr>\n",
              "      <th>1</th>\n",
              "      <td>2</td>\n",
              "      <td>43.19</td>\n",
              "      <td>BREAST CONSERVING</td>\n",
              "      <td>Breast Cancer</td>\n",
              "      <td>Breast Invasive Ductal Carcinoma</td>\n",
              "      <td>High</td>\n",
              "      <td>0</td>\n",
              "      <td>LumA</td>\n",
              "      <td>1.0</td>\n",
              "      <td>Positve</td>\n",
              "      <td>...</td>\n",
              "      <td>0</td>\n",
              "      <td>0</td>\n",
              "      <td>0</td>\n",
              "      <td>0</td>\n",
              "      <td>0</td>\n",
              "      <td>0</td>\n",
              "      <td>0</td>\n",
              "      <td>0</td>\n",
              "      <td>0</td>\n",
              "      <td>0</td>\n",
              "    </tr>\n",
              "    <tr>\n",
              "      <th>2</th>\n",
              "      <td>5</td>\n",
              "      <td>48.87</td>\n",
              "      <td>MASTECTOMY</td>\n",
              "      <td>Breast Cancer</td>\n",
              "      <td>Breast Invasive Ductal Carcinoma</td>\n",
              "      <td>High</td>\n",
              "      <td>1</td>\n",
              "      <td>LumB</td>\n",
              "      <td>1.0</td>\n",
              "      <td>Positve</td>\n",
              "      <td>...</td>\n",
              "      <td>0</td>\n",
              "      <td>0</td>\n",
              "      <td>0</td>\n",
              "      <td>0</td>\n",
              "      <td>0</td>\n",
              "      <td>0</td>\n",
              "      <td>0</td>\n",
              "      <td>0</td>\n",
              "      <td>0</td>\n",
              "      <td>0</td>\n",
              "    </tr>\n",
              "    <tr>\n",
              "      <th>3</th>\n",
              "      <td>6</td>\n",
              "      <td>47.68</td>\n",
              "      <td>MASTECTOMY</td>\n",
              "      <td>Breast Cancer</td>\n",
              "      <td>Breast Mixed Ductal and Lobular Carcinoma</td>\n",
              "      <td>Moderate</td>\n",
              "      <td>1</td>\n",
              "      <td>LumB</td>\n",
              "      <td>1.0</td>\n",
              "      <td>Positve</td>\n",
              "      <td>...</td>\n",
              "      <td>0</td>\n",
              "      <td>0</td>\n",
              "      <td>0</td>\n",
              "      <td>0</td>\n",
              "      <td>0</td>\n",
              "      <td>0</td>\n",
              "      <td>0</td>\n",
              "      <td>0</td>\n",
              "      <td>0</td>\n",
              "      <td>0</td>\n",
              "    </tr>\n",
              "    <tr>\n",
              "      <th>4</th>\n",
              "      <td>8</td>\n",
              "      <td>76.97</td>\n",
              "      <td>MASTECTOMY</td>\n",
              "      <td>Breast Cancer</td>\n",
              "      <td>Breast Mixed Ductal and Lobular Carcinoma</td>\n",
              "      <td>High</td>\n",
              "      <td>1</td>\n",
              "      <td>LumB</td>\n",
              "      <td>1.0</td>\n",
              "      <td>Positve</td>\n",
              "      <td>...</td>\n",
              "      <td>0</td>\n",
              "      <td>0</td>\n",
              "      <td>0</td>\n",
              "      <td>0</td>\n",
              "      <td>0</td>\n",
              "      <td>0</td>\n",
              "      <td>0</td>\n",
              "      <td>0</td>\n",
              "      <td>0</td>\n",
              "      <td>0</td>\n",
              "    </tr>\n",
              "  </tbody>\n",
              "</table>\n",
              "<p>5 rows × 693 columns</p>\n",
              "</div>"
            ],
            "text/plain": [
              "   patient_id  age_at_diagnosis type_of_breast_surgery    cancer_type  \\\n",
              "0           0             75.65             MASTECTOMY  Breast Cancer   \n",
              "1           2             43.19      BREAST CONSERVING  Breast Cancer   \n",
              "2           5             48.87             MASTECTOMY  Breast Cancer   \n",
              "3           6             47.68             MASTECTOMY  Breast Cancer   \n",
              "4           8             76.97             MASTECTOMY  Breast Cancer   \n",
              "\n",
              "                        cancer_type_detailed cellularity  chemotherapy  \\\n",
              "0           Breast Invasive Ductal Carcinoma         NaN             0   \n",
              "1           Breast Invasive Ductal Carcinoma        High             0   \n",
              "2           Breast Invasive Ductal Carcinoma        High             1   \n",
              "3  Breast Mixed Ductal and Lobular Carcinoma    Moderate             1   \n",
              "4  Breast Mixed Ductal and Lobular Carcinoma        High             1   \n",
              "\n",
              "  pam50_+_claudin-low_subtype  cohort er_status_measured_by_ihc  ... mtap_mut  \\\n",
              "0                 claudin-low     1.0                   Positve  ...        0   \n",
              "1                        LumA     1.0                   Positve  ...        0   \n",
              "2                        LumB     1.0                   Positve  ...        0   \n",
              "3                        LumB     1.0                   Positve  ...        0   \n",
              "4                        LumB     1.0                   Positve  ...        0   \n",
              "\n",
              "   ppp2cb_mut smarcd1_mut nras_mut ndfip1_mut  hras_mut prps2_mut smarcb1_mut  \\\n",
              "0           0           0        0          0         0         0           0   \n",
              "1           0           0        0          0         0         0           0   \n",
              "2           0           0        0          0         0         0           0   \n",
              "3           0           0        0          0         0         0           0   \n",
              "4           0           0        0          0         0         0           0   \n",
              "\n",
              "  stmn2_mut  siah1_mut  \n",
              "0         0          0  \n",
              "1         0          0  \n",
              "2         0          0  \n",
              "3         0          0  \n",
              "4         0          0  \n",
              "\n",
              "[5 rows x 693 columns]"
            ]
          },
          "execution_count": 348,
          "metadata": {},
          "output_type": "execute_result"
        }
      ],
      "source": [
        "# TODO\n",
        "df = pd.read_csv('METABRIC_RNA_Mutation.csv', low_memory=False)\n",
        "df.head(5)"
      ]
    },
    {
      "cell_type": "code",
      "execution_count": 349,
      "id": "3468645e",
      "metadata": {
        "colab": {
          "base_uri": "https://localhost:8080/"
        },
        "id": "3468645e",
        "outputId": "eefa0c60-d8b3-454d-f1a5-fa9d1ba16e40"
      },
      "outputs": [
        {
          "name": "stdout",
          "output_type": "stream",
          "text": [
            "Number of clinical columns 31\n",
            "Number of gene expression columns 489\n",
            "Number of gene mutation columns 173\n"
          ]
        }
      ],
      "source": [
        "# Get column names for clinical, gene expression and gene mutation datasets\n",
        "\n",
        "columns = df.columns\n",
        "clinical_columns = columns[:31]\n",
        "clinical_data_columns = df.columns[:24].append(df.columns[25:30])\n",
        "label_column = columns[24]\n",
        "gene_columns = columns[31:]\n",
        "gene_mut_columns = pd.Index(filter(lambda s: s.endswith('_mut'),columns))\n",
        "gene_expr_columns = pd.Index(set(gene_columns) - set(gene_mut_columns))\n",
        "\n",
        "print(f'Number of clinical columns {len(clinical_columns)}')\n",
        "print(f'Number of gene expression columns {len(gene_expr_columns)}')\n",
        "print(f'Number of gene mutation columns {len(gene_mut_columns)}')"
      ]
    },
    {
      "cell_type": "code",
      "execution_count": 350,
      "id": "7c9ea55a",
      "metadata": {
        "id": "7c9ea55a"
      },
      "outputs": [],
      "source": [
        "clinical_dataset = df[clinical_columns]\n",
        "gene_expr_dataset = df[gene_expr_columns]\n",
        "gene_mut_dataset = df[gene_mut_columns]"
      ]
    },
    {
      "cell_type": "markdown",
      "id": "aebfdb6b",
      "metadata": {
        "id": "aebfdb6b"
      },
      "source": [
        "## EDA"
      ]
    },
    {
      "cell_type": "markdown",
      "id": "e87d59d7",
      "metadata": {
        "id": "e87d59d7"
      },
      "source": [
        "For each dataset, you must perform a sufficient EDA."
      ]
    },
    {
      "cell_type": "code",
      "execution_count": 351,
      "id": "d3815455",
      "metadata": {
        "colab": {
          "base_uri": "https://localhost:8080/"
        },
        "id": "d3815455",
        "outputId": "d5469703-3858-4721-9bd3-8440d1c14727"
      },
      "outputs": [
        {
          "name": "stdout",
          "output_type": "stream",
          "text": [
            "<class 'pandas.core.frame.DataFrame'>\n",
            "RangeIndex: 1904 entries, 0 to 1903\n",
            "Data columns (total 31 columns):\n",
            " #   Column                          Non-Null Count  Dtype  \n",
            "---  ------                          --------------  -----  \n",
            " 0   patient_id                      1904 non-null   int64  \n",
            " 1   age_at_diagnosis                1904 non-null   float64\n",
            " 2   type_of_breast_surgery          1882 non-null   object \n",
            " 3   cancer_type                     1904 non-null   object \n",
            " 4   cancer_type_detailed            1889 non-null   object \n",
            " 5   cellularity                     1850 non-null   object \n",
            " 6   chemotherapy                    1904 non-null   int64  \n",
            " 7   pam50_+_claudin-low_subtype     1904 non-null   object \n",
            " 8   cohort                          1904 non-null   float64\n",
            " 9   er_status_measured_by_ihc       1874 non-null   object \n",
            " 10  er_status                       1904 non-null   object \n",
            " 11  neoplasm_histologic_grade       1832 non-null   float64\n",
            " 12  her2_status_measured_by_snp6    1904 non-null   object \n",
            " 13  her2_status                     1904 non-null   object \n",
            " 14  tumor_other_histologic_subtype  1889 non-null   object \n",
            " 15  hormone_therapy                 1904 non-null   int64  \n",
            " 16  inferred_menopausal_state       1904 non-null   object \n",
            " 17  integrative_cluster             1904 non-null   object \n",
            " 18  primary_tumor_laterality        1798 non-null   object \n",
            " 19  lymph_nodes_examined_positive   1904 non-null   float64\n",
            " 20  mutation_count                  1859 non-null   float64\n",
            " 21  nottingham_prognostic_index     1904 non-null   float64\n",
            " 22  oncotree_code                   1889 non-null   object \n",
            " 23  overall_survival_months         1904 non-null   float64\n",
            " 24  overall_survival                1904 non-null   int64  \n",
            " 25  pr_status                       1904 non-null   object \n",
            " 26  radio_therapy                   1904 non-null   int64  \n",
            " 27  3-gene_classifier_subtype       1700 non-null   object \n",
            " 28  tumor_size                      1884 non-null   float64\n",
            " 29  tumor_stage                     1403 non-null   float64\n",
            " 30  death_from_cancer               1903 non-null   object \n",
            "dtypes: float64(9), int64(5), object(17)\n",
            "memory usage: 461.2+ KB\n"
          ]
        }
      ],
      "source": [
        "clinical_dataset.info()"
      ]
    },
    {
      "cell_type": "code",
      "execution_count": 352,
      "id": "1f838902",
      "metadata": {
        "colab": {
          "base_uri": "https://localhost:8080/",
          "height": 364
        },
        "id": "1f838902",
        "outputId": "27089416-58f1-4075-9e5a-f024a86654b7"
      },
      "outputs": [
        {
          "data": {
            "text/html": [
              "<div>\n",
              "<style scoped>\n",
              "    .dataframe tbody tr th:only-of-type {\n",
              "        vertical-align: middle;\n",
              "    }\n",
              "\n",
              "    .dataframe tbody tr th {\n",
              "        vertical-align: top;\n",
              "    }\n",
              "\n",
              "    .dataframe thead th {\n",
              "        text-align: right;\n",
              "    }\n",
              "</style>\n",
              "<table border=\"1\" class=\"dataframe\">\n",
              "  <thead>\n",
              "    <tr style=\"text-align: right;\">\n",
              "      <th></th>\n",
              "      <th>patient_id</th>\n",
              "      <th>age_at_diagnosis</th>\n",
              "      <th>chemotherapy</th>\n",
              "      <th>cohort</th>\n",
              "      <th>neoplasm_histologic_grade</th>\n",
              "      <th>hormone_therapy</th>\n",
              "      <th>lymph_nodes_examined_positive</th>\n",
              "      <th>mutation_count</th>\n",
              "      <th>nottingham_prognostic_index</th>\n",
              "      <th>overall_survival_months</th>\n",
              "      <th>overall_survival</th>\n",
              "      <th>radio_therapy</th>\n",
              "      <th>tumor_size</th>\n",
              "      <th>tumor_stage</th>\n",
              "    </tr>\n",
              "  </thead>\n",
              "  <tbody>\n",
              "    <tr>\n",
              "      <th>count</th>\n",
              "      <td>1904.000000</td>\n",
              "      <td>1904.000000</td>\n",
              "      <td>1904.000000</td>\n",
              "      <td>1904.000000</td>\n",
              "      <td>1832.000000</td>\n",
              "      <td>1904.000000</td>\n",
              "      <td>1904.000000</td>\n",
              "      <td>1859.000000</td>\n",
              "      <td>1904.000000</td>\n",
              "      <td>1904.000000</td>\n",
              "      <td>1904.000000</td>\n",
              "      <td>1904.000000</td>\n",
              "      <td>1884.000000</td>\n",
              "      <td>1403.000000</td>\n",
              "    </tr>\n",
              "    <tr>\n",
              "      <th>mean</th>\n",
              "      <td>3921.982143</td>\n",
              "      <td>61.087054</td>\n",
              "      <td>0.207983</td>\n",
              "      <td>2.643908</td>\n",
              "      <td>2.415939</td>\n",
              "      <td>0.616597</td>\n",
              "      <td>2.002101</td>\n",
              "      <td>5.697687</td>\n",
              "      <td>4.033019</td>\n",
              "      <td>125.121324</td>\n",
              "      <td>0.420693</td>\n",
              "      <td>0.597164</td>\n",
              "      <td>26.238726</td>\n",
              "      <td>1.750535</td>\n",
              "    </tr>\n",
              "    <tr>\n",
              "      <th>std</th>\n",
              "      <td>2358.478332</td>\n",
              "      <td>12.978711</td>\n",
              "      <td>0.405971</td>\n",
              "      <td>1.228615</td>\n",
              "      <td>0.650612</td>\n",
              "      <td>0.486343</td>\n",
              "      <td>4.079993</td>\n",
              "      <td>4.058778</td>\n",
              "      <td>1.144492</td>\n",
              "      <td>76.334148</td>\n",
              "      <td>0.493800</td>\n",
              "      <td>0.490597</td>\n",
              "      <td>15.160976</td>\n",
              "      <td>0.628999</td>\n",
              "    </tr>\n",
              "    <tr>\n",
              "      <th>min</th>\n",
              "      <td>0.000000</td>\n",
              "      <td>21.930000</td>\n",
              "      <td>0.000000</td>\n",
              "      <td>1.000000</td>\n",
              "      <td>1.000000</td>\n",
              "      <td>0.000000</td>\n",
              "      <td>0.000000</td>\n",
              "      <td>1.000000</td>\n",
              "      <td>1.000000</td>\n",
              "      <td>0.000000</td>\n",
              "      <td>0.000000</td>\n",
              "      <td>0.000000</td>\n",
              "      <td>1.000000</td>\n",
              "      <td>0.000000</td>\n",
              "    </tr>\n",
              "    <tr>\n",
              "      <th>25%</th>\n",
              "      <td>896.500000</td>\n",
              "      <td>51.375000</td>\n",
              "      <td>0.000000</td>\n",
              "      <td>1.000000</td>\n",
              "      <td>2.000000</td>\n",
              "      <td>0.000000</td>\n",
              "      <td>0.000000</td>\n",
              "      <td>3.000000</td>\n",
              "      <td>3.046000</td>\n",
              "      <td>60.825000</td>\n",
              "      <td>0.000000</td>\n",
              "      <td>0.000000</td>\n",
              "      <td>17.000000</td>\n",
              "      <td>1.000000</td>\n",
              "    </tr>\n",
              "    <tr>\n",
              "      <th>50%</th>\n",
              "      <td>4730.500000</td>\n",
              "      <td>61.770000</td>\n",
              "      <td>0.000000</td>\n",
              "      <td>3.000000</td>\n",
              "      <td>3.000000</td>\n",
              "      <td>1.000000</td>\n",
              "      <td>0.000000</td>\n",
              "      <td>5.000000</td>\n",
              "      <td>4.042000</td>\n",
              "      <td>115.616667</td>\n",
              "      <td>0.000000</td>\n",
              "      <td>1.000000</td>\n",
              "      <td>23.000000</td>\n",
              "      <td>2.000000</td>\n",
              "    </tr>\n",
              "    <tr>\n",
              "      <th>75%</th>\n",
              "      <td>5536.250000</td>\n",
              "      <td>70.592500</td>\n",
              "      <td>0.000000</td>\n",
              "      <td>3.000000</td>\n",
              "      <td>3.000000</td>\n",
              "      <td>1.000000</td>\n",
              "      <td>2.000000</td>\n",
              "      <td>7.000000</td>\n",
              "      <td>5.040250</td>\n",
              "      <td>184.716667</td>\n",
              "      <td>1.000000</td>\n",
              "      <td>1.000000</td>\n",
              "      <td>30.000000</td>\n",
              "      <td>2.000000</td>\n",
              "    </tr>\n",
              "    <tr>\n",
              "      <th>max</th>\n",
              "      <td>7299.000000</td>\n",
              "      <td>96.290000</td>\n",
              "      <td>1.000000</td>\n",
              "      <td>5.000000</td>\n",
              "      <td>3.000000</td>\n",
              "      <td>1.000000</td>\n",
              "      <td>45.000000</td>\n",
              "      <td>80.000000</td>\n",
              "      <td>6.360000</td>\n",
              "      <td>355.200000</td>\n",
              "      <td>1.000000</td>\n",
              "      <td>1.000000</td>\n",
              "      <td>182.000000</td>\n",
              "      <td>4.000000</td>\n",
              "    </tr>\n",
              "  </tbody>\n",
              "</table>\n",
              "</div>"
            ],
            "text/plain": [
              "        patient_id  age_at_diagnosis  chemotherapy       cohort  \\\n",
              "count  1904.000000       1904.000000   1904.000000  1904.000000   \n",
              "mean   3921.982143         61.087054      0.207983     2.643908   \n",
              "std    2358.478332         12.978711      0.405971     1.228615   \n",
              "min       0.000000         21.930000      0.000000     1.000000   \n",
              "25%     896.500000         51.375000      0.000000     1.000000   \n",
              "50%    4730.500000         61.770000      0.000000     3.000000   \n",
              "75%    5536.250000         70.592500      0.000000     3.000000   \n",
              "max    7299.000000         96.290000      1.000000     5.000000   \n",
              "\n",
              "       neoplasm_histologic_grade  hormone_therapy  \\\n",
              "count                1832.000000      1904.000000   \n",
              "mean                    2.415939         0.616597   \n",
              "std                     0.650612         0.486343   \n",
              "min                     1.000000         0.000000   \n",
              "25%                     2.000000         0.000000   \n",
              "50%                     3.000000         1.000000   \n",
              "75%                     3.000000         1.000000   \n",
              "max                     3.000000         1.000000   \n",
              "\n",
              "       lymph_nodes_examined_positive  mutation_count  \\\n",
              "count                    1904.000000     1859.000000   \n",
              "mean                        2.002101        5.697687   \n",
              "std                         4.079993        4.058778   \n",
              "min                         0.000000        1.000000   \n",
              "25%                         0.000000        3.000000   \n",
              "50%                         0.000000        5.000000   \n",
              "75%                         2.000000        7.000000   \n",
              "max                        45.000000       80.000000   \n",
              "\n",
              "       nottingham_prognostic_index  overall_survival_months  overall_survival  \\\n",
              "count                  1904.000000              1904.000000       1904.000000   \n",
              "mean                      4.033019               125.121324          0.420693   \n",
              "std                       1.144492                76.334148          0.493800   \n",
              "min                       1.000000                 0.000000          0.000000   \n",
              "25%                       3.046000                60.825000          0.000000   \n",
              "50%                       4.042000               115.616667          0.000000   \n",
              "75%                       5.040250               184.716667          1.000000   \n",
              "max                       6.360000               355.200000          1.000000   \n",
              "\n",
              "       radio_therapy   tumor_size  tumor_stage  \n",
              "count    1904.000000  1884.000000  1403.000000  \n",
              "mean        0.597164    26.238726     1.750535  \n",
              "std         0.490597    15.160976     0.628999  \n",
              "min         0.000000     1.000000     0.000000  \n",
              "25%         0.000000    17.000000     1.000000  \n",
              "50%         1.000000    23.000000     2.000000  \n",
              "75%         1.000000    30.000000     2.000000  \n",
              "max         1.000000   182.000000     4.000000  "
            ]
          },
          "execution_count": 352,
          "metadata": {},
          "output_type": "execute_result"
        }
      ],
      "source": [
        "clinical_dataset.describe()"
      ]
    },
    {
      "cell_type": "code",
      "execution_count": 353,
      "id": "539e4ddf",
      "metadata": {
        "colab": {
          "base_uri": "https://localhost:8080/"
        },
        "id": "539e4ddf",
        "outputId": "bcdec4fc-5f21-4cb7-b6bf-841f76bd33e8"
      },
      "outputs": [
        {
          "name": "stdout",
          "output_type": "stream",
          "text": [
            "<class 'pandas.core.frame.DataFrame'>\n",
            "RangeIndex: 1904 entries, 0 to 1903\n",
            "Columns: 489 entries, tgfbr2 to tbl1xr1\n",
            "dtypes: float64(489)\n",
            "memory usage: 7.1 MB\n"
          ]
        }
      ],
      "source": [
        "gene_expr_dataset.info()"
      ]
    },
    {
      "cell_type": "code",
      "execution_count": 354,
      "id": "9a290365",
      "metadata": {
        "colab": {
          "base_uri": "https://localhost:8080/",
          "height": 394
        },
        "id": "9a290365",
        "outputId": "3010c27f-ca55-4194-a387-e3f97a4a4fd8"
      },
      "outputs": [
        {
          "data": {
            "text/html": [
              "<div>\n",
              "<style scoped>\n",
              "    .dataframe tbody tr th:only-of-type {\n",
              "        vertical-align: middle;\n",
              "    }\n",
              "\n",
              "    .dataframe tbody tr th {\n",
              "        vertical-align: top;\n",
              "    }\n",
              "\n",
              "    .dataframe thead th {\n",
              "        text-align: right;\n",
              "    }\n",
              "</style>\n",
              "<table border=\"1\" class=\"dataframe\">\n",
              "  <thead>\n",
              "    <tr style=\"text-align: right;\">\n",
              "      <th></th>\n",
              "      <th>tgfbr2</th>\n",
              "      <th>ahnak</th>\n",
              "      <th>erbb3</th>\n",
              "      <th>ptprd</th>\n",
              "      <th>bcl2</th>\n",
              "      <th>ttyh1</th>\n",
              "      <th>bmp6</th>\n",
              "      <th>abcc10</th>\n",
              "      <th>maml1</th>\n",
              "      <th>fbxw7</th>\n",
              "      <th>...</th>\n",
              "      <th>diras3</th>\n",
              "      <th>tubb4a</th>\n",
              "      <th>srd5a2</th>\n",
              "      <th>agmo</th>\n",
              "      <th>ccna1</th>\n",
              "      <th>csf1</th>\n",
              "      <th>bap1</th>\n",
              "      <th>rasgef1b</th>\n",
              "      <th>nt5e</th>\n",
              "      <th>tbl1xr1</th>\n",
              "    </tr>\n",
              "  </thead>\n",
              "  <tbody>\n",
              "    <tr>\n",
              "      <th>count</th>\n",
              "      <td>1.904000e+03</td>\n",
              "      <td>1904.000000</td>\n",
              "      <td>1.904000e+03</td>\n",
              "      <td>1.904000e+03</td>\n",
              "      <td>1.904000e+03</td>\n",
              "      <td>1.904000e+03</td>\n",
              "      <td>1904.000000</td>\n",
              "      <td>1904.000000</td>\n",
              "      <td>1904.000000</td>\n",
              "      <td>1904.000000</td>\n",
              "      <td>...</td>\n",
              "      <td>1904.000000</td>\n",
              "      <td>1.904000e+03</td>\n",
              "      <td>1.904000e+03</td>\n",
              "      <td>1.904000e+03</td>\n",
              "      <td>1.904000e+03</td>\n",
              "      <td>1904.000000</td>\n",
              "      <td>1.904000e+03</td>\n",
              "      <td>1.904000e+03</td>\n",
              "      <td>1.904000e+03</td>\n",
              "      <td>1.904000e+03</td>\n",
              "    </tr>\n",
              "    <tr>\n",
              "      <th>mean</th>\n",
              "      <td>1.050420e-07</td>\n",
              "      <td>-0.000003</td>\n",
              "      <td>5.252101e-08</td>\n",
              "      <td>5.777311e-07</td>\n",
              "      <td>-6.302521e-07</td>\n",
              "      <td>8.928571e-07</td>\n",
              "      <td>0.000000</td>\n",
              "      <td>0.000002</td>\n",
              "      <td>0.000000</td>\n",
              "      <td>0.000001</td>\n",
              "      <td>...</td>\n",
              "      <td>-0.000001</td>\n",
              "      <td>9.453782e-07</td>\n",
              "      <td>-3.676471e-07</td>\n",
              "      <td>-6.827731e-07</td>\n",
              "      <td>-5.777311e-07</td>\n",
              "      <td>0.000001</td>\n",
              "      <td>8.928571e-07</td>\n",
              "      <td>-5.252101e-07</td>\n",
              "      <td>4.726891e-07</td>\n",
              "      <td>-3.676471e-07</td>\n",
              "    </tr>\n",
              "    <tr>\n",
              "      <th>std</th>\n",
              "      <td>1.000262e+00</td>\n",
              "      <td>1.000262</td>\n",
              "      <td>1.000263e+00</td>\n",
              "      <td>1.000263e+00</td>\n",
              "      <td>1.000261e+00</td>\n",
              "      <td>1.000263e+00</td>\n",
              "      <td>1.000262</td>\n",
              "      <td>1.000263</td>\n",
              "      <td>1.000263</td>\n",
              "      <td>1.000264</td>\n",
              "      <td>...</td>\n",
              "      <td>1.000262</td>\n",
              "      <td>1.000263e+00</td>\n",
              "      <td>1.000262e+00</td>\n",
              "      <td>1.000262e+00</td>\n",
              "      <td>1.000263e+00</td>\n",
              "      <td>1.000262</td>\n",
              "      <td>1.000262e+00</td>\n",
              "      <td>1.000263e+00</td>\n",
              "      <td>1.000263e+00</td>\n",
              "      <td>1.000263e+00</td>\n",
              "    </tr>\n",
              "    <tr>\n",
              "      <th>min</th>\n",
              "      <td>-4.260800e+00</td>\n",
              "      <td>-5.198200</td>\n",
              "      <td>-5.283000e+00</td>\n",
              "      <td>-1.821600e+00</td>\n",
              "      <td>-2.791900e+00</td>\n",
              "      <td>-9.160000e-01</td>\n",
              "      <td>-2.967900</td>\n",
              "      <td>-2.766800</td>\n",
              "      <td>-3.812000</td>\n",
              "      <td>-2.071300</td>\n",
              "      <td>...</td>\n",
              "      <td>-1.399500</td>\n",
              "      <td>-1.553900e+00</td>\n",
              "      <td>-3.364800e+00</td>\n",
              "      <td>-3.388800e+00</td>\n",
              "      <td>-1.445600e+00</td>\n",
              "      <td>-2.819000</td>\n",
              "      <td>-5.575900e+00</td>\n",
              "      <td>-4.132600e+00</td>\n",
              "      <td>-2.036800e+00</td>\n",
              "      <td>-3.897100e+00</td>\n",
              "    </tr>\n",
              "    <tr>\n",
              "      <th>25%</th>\n",
              "      <td>-5.905000e-01</td>\n",
              "      <td>-0.544700</td>\n",
              "      <td>-5.245250e-01</td>\n",
              "      <td>-7.234500e-01</td>\n",
              "      <td>-6.990750e-01</td>\n",
              "      <td>-5.096500e-01</td>\n",
              "      <td>-0.607425</td>\n",
              "      <td>-0.663950</td>\n",
              "      <td>-0.634050</td>\n",
              "      <td>-0.701950</td>\n",
              "      <td>...</td>\n",
              "      <td>-0.547400</td>\n",
              "      <td>-4.556500e-01</td>\n",
              "      <td>-6.104750e-01</td>\n",
              "      <td>-6.374250e-01</td>\n",
              "      <td>-4.711500e-01</td>\n",
              "      <td>-0.648975</td>\n",
              "      <td>-5.884250e-01</td>\n",
              "      <td>-6.552250e-01</td>\n",
              "      <td>-6.752000e-01</td>\n",
              "      <td>-6.138500e-01</td>\n",
              "    </tr>\n",
              "    <tr>\n",
              "      <th>50%</th>\n",
              "      <td>7.800000e-02</td>\n",
              "      <td>0.114400</td>\n",
              "      <td>1.574000e-01</td>\n",
              "      <td>-1.658500e-01</td>\n",
              "      <td>1.056500e-01</td>\n",
              "      <td>-3.346500e-01</td>\n",
              "      <td>-0.131500</td>\n",
              "      <td>-0.116650</td>\n",
              "      <td>-0.031050</td>\n",
              "      <td>-0.141250</td>\n",
              "      <td>...</td>\n",
              "      <td>-0.245250</td>\n",
              "      <td>-1.721500e-01</td>\n",
              "      <td>-4.690000e-02</td>\n",
              "      <td>-7.850000e-03</td>\n",
              "      <td>-2.117000e-01</td>\n",
              "      <td>-0.121500</td>\n",
              "      <td>-1.275000e-02</td>\n",
              "      <td>-9.600000e-03</td>\n",
              "      <td>-1.580000e-01</td>\n",
              "      <td>-7.585000e-02</td>\n",
              "    </tr>\n",
              "    <tr>\n",
              "      <th>75%</th>\n",
              "      <td>6.646750e-01</td>\n",
              "      <td>0.630100</td>\n",
              "      <td>6.818250e-01</td>\n",
              "      <td>5.258250e-01</td>\n",
              "      <td>7.437250e-01</td>\n",
              "      <td>1.047500e-02</td>\n",
              "      <td>0.409000</td>\n",
              "      <td>0.509700</td>\n",
              "      <td>0.616350</td>\n",
              "      <td>0.562725</td>\n",
              "      <td>...</td>\n",
              "      <td>0.211950</td>\n",
              "      <td>1.253750e-01</td>\n",
              "      <td>5.144500e-01</td>\n",
              "      <td>5.966000e-01</td>\n",
              "      <td>1.009250e-01</td>\n",
              "      <td>0.528150</td>\n",
              "      <td>5.768500e-01</td>\n",
              "      <td>6.355750e-01</td>\n",
              "      <td>5.088500e-01</td>\n",
              "      <td>5.130500e-01</td>\n",
              "    </tr>\n",
              "    <tr>\n",
              "      <th>max</th>\n",
              "      <td>2.563400e+00</td>\n",
              "      <td>3.329000</td>\n",
              "      <td>2.276100e+00</td>\n",
              "      <td>6.305800e+00</td>\n",
              "      <td>2.656100e+00</td>\n",
              "      <td>6.412300e+00</td>\n",
              "      <td>9.859300</td>\n",
              "      <td>5.684900</td>\n",
              "      <td>4.410500</td>\n",
              "      <td>4.713900</td>\n",
              "      <td>...</td>\n",
              "      <td>10.272700</td>\n",
              "      <td>1.863510e+01</td>\n",
              "      <td>1.027030e+01</td>\n",
              "      <td>1.272860e+01</td>\n",
              "      <td>1.061350e+01</td>\n",
              "      <td>6.280700</td>\n",
              "      <td>3.872200e+00</td>\n",
              "      <td>4.182200e+00</td>\n",
              "      <td>8.739500e+00</td>\n",
              "      <td>7.064900e+00</td>\n",
              "    </tr>\n",
              "  </tbody>\n",
              "</table>\n",
              "<p>8 rows × 489 columns</p>\n",
              "</div>"
            ],
            "text/plain": [
              "             tgfbr2        ahnak         erbb3         ptprd          bcl2  \\\n",
              "count  1.904000e+03  1904.000000  1.904000e+03  1.904000e+03  1.904000e+03   \n",
              "mean   1.050420e-07    -0.000003  5.252101e-08  5.777311e-07 -6.302521e-07   \n",
              "std    1.000262e+00     1.000262  1.000263e+00  1.000263e+00  1.000261e+00   \n",
              "min   -4.260800e+00    -5.198200 -5.283000e+00 -1.821600e+00 -2.791900e+00   \n",
              "25%   -5.905000e-01    -0.544700 -5.245250e-01 -7.234500e-01 -6.990750e-01   \n",
              "50%    7.800000e-02     0.114400  1.574000e-01 -1.658500e-01  1.056500e-01   \n",
              "75%    6.646750e-01     0.630100  6.818250e-01  5.258250e-01  7.437250e-01   \n",
              "max    2.563400e+00     3.329000  2.276100e+00  6.305800e+00  2.656100e+00   \n",
              "\n",
              "              ttyh1         bmp6       abcc10        maml1        fbxw7  ...  \\\n",
              "count  1.904000e+03  1904.000000  1904.000000  1904.000000  1904.000000  ...   \n",
              "mean   8.928571e-07     0.000000     0.000002     0.000000     0.000001  ...   \n",
              "std    1.000263e+00     1.000262     1.000263     1.000263     1.000264  ...   \n",
              "min   -9.160000e-01    -2.967900    -2.766800    -3.812000    -2.071300  ...   \n",
              "25%   -5.096500e-01    -0.607425    -0.663950    -0.634050    -0.701950  ...   \n",
              "50%   -3.346500e-01    -0.131500    -0.116650    -0.031050    -0.141250  ...   \n",
              "75%    1.047500e-02     0.409000     0.509700     0.616350     0.562725  ...   \n",
              "max    6.412300e+00     9.859300     5.684900     4.410500     4.713900  ...   \n",
              "\n",
              "            diras3        tubb4a        srd5a2          agmo         ccna1  \\\n",
              "count  1904.000000  1.904000e+03  1.904000e+03  1.904000e+03  1.904000e+03   \n",
              "mean     -0.000001  9.453782e-07 -3.676471e-07 -6.827731e-07 -5.777311e-07   \n",
              "std       1.000262  1.000263e+00  1.000262e+00  1.000262e+00  1.000263e+00   \n",
              "min      -1.399500 -1.553900e+00 -3.364800e+00 -3.388800e+00 -1.445600e+00   \n",
              "25%      -0.547400 -4.556500e-01 -6.104750e-01 -6.374250e-01 -4.711500e-01   \n",
              "50%      -0.245250 -1.721500e-01 -4.690000e-02 -7.850000e-03 -2.117000e-01   \n",
              "75%       0.211950  1.253750e-01  5.144500e-01  5.966000e-01  1.009250e-01   \n",
              "max      10.272700  1.863510e+01  1.027030e+01  1.272860e+01  1.061350e+01   \n",
              "\n",
              "              csf1          bap1      rasgef1b          nt5e       tbl1xr1  \n",
              "count  1904.000000  1.904000e+03  1.904000e+03  1.904000e+03  1.904000e+03  \n",
              "mean      0.000001  8.928571e-07 -5.252101e-07  4.726891e-07 -3.676471e-07  \n",
              "std       1.000262  1.000262e+00  1.000263e+00  1.000263e+00  1.000263e+00  \n",
              "min      -2.819000 -5.575900e+00 -4.132600e+00 -2.036800e+00 -3.897100e+00  \n",
              "25%      -0.648975 -5.884250e-01 -6.552250e-01 -6.752000e-01 -6.138500e-01  \n",
              "50%      -0.121500 -1.275000e-02 -9.600000e-03 -1.580000e-01 -7.585000e-02  \n",
              "75%       0.528150  5.768500e-01  6.355750e-01  5.088500e-01  5.130500e-01  \n",
              "max       6.280700  3.872200e+00  4.182200e+00  8.739500e+00  7.064900e+00  \n",
              "\n",
              "[8 rows x 489 columns]"
            ]
          },
          "execution_count": 354,
          "metadata": {},
          "output_type": "execute_result"
        }
      ],
      "source": [
        "gene_expr_dataset.describe()"
      ]
    },
    {
      "cell_type": "code",
      "execution_count": 355,
      "id": "8a055385",
      "metadata": {
        "colab": {
          "base_uri": "https://localhost:8080/"
        },
        "id": "8a055385",
        "outputId": "fbc09f2e-3a60-4302-ba09-0659a3192c20"
      },
      "outputs": [
        {
          "name": "stdout",
          "output_type": "stream",
          "text": [
            "<class 'pandas.core.frame.DataFrame'>\n",
            "RangeIndex: 1904 entries, 0 to 1903\n",
            "Columns: 173 entries, pik3ca_mut to siah1_mut\n",
            "dtypes: object(173)\n",
            "memory usage: 2.5+ MB\n"
          ]
        }
      ],
      "source": [
        "gene_mut_dataset.info()"
      ]
    },
    {
      "cell_type": "code",
      "execution_count": 356,
      "id": "0336013c",
      "metadata": {
        "colab": {
          "base_uri": "https://localhost:8080/",
          "height": 268
        },
        "id": "0336013c",
        "outputId": "8c4bb461-60ef-44f5-efd5-c2ccc9bce0f4"
      },
      "outputs": [
        {
          "data": {
            "text/html": [
              "<div>\n",
              "<style scoped>\n",
              "    .dataframe tbody tr th:only-of-type {\n",
              "        vertical-align: middle;\n",
              "    }\n",
              "\n",
              "    .dataframe tbody tr th {\n",
              "        vertical-align: top;\n",
              "    }\n",
              "\n",
              "    .dataframe thead th {\n",
              "        text-align: right;\n",
              "    }\n",
              "</style>\n",
              "<table border=\"1\" class=\"dataframe\">\n",
              "  <thead>\n",
              "    <tr style=\"text-align: right;\">\n",
              "      <th></th>\n",
              "      <th>pik3ca_mut</th>\n",
              "      <th>tp53_mut</th>\n",
              "      <th>muc16_mut</th>\n",
              "      <th>ahnak2_mut</th>\n",
              "      <th>kmt2c_mut</th>\n",
              "      <th>syne1_mut</th>\n",
              "      <th>gata3_mut</th>\n",
              "      <th>map3k1_mut</th>\n",
              "      <th>ahnak_mut</th>\n",
              "      <th>dnah11_mut</th>\n",
              "      <th>...</th>\n",
              "      <th>mtap_mut</th>\n",
              "      <th>ppp2cb_mut</th>\n",
              "      <th>smarcd1_mut</th>\n",
              "      <th>nras_mut</th>\n",
              "      <th>ndfip1_mut</th>\n",
              "      <th>hras_mut</th>\n",
              "      <th>prps2_mut</th>\n",
              "      <th>smarcb1_mut</th>\n",
              "      <th>stmn2_mut</th>\n",
              "      <th>siah1_mut</th>\n",
              "    </tr>\n",
              "  </thead>\n",
              "  <tbody>\n",
              "    <tr>\n",
              "      <th>count</th>\n",
              "      <td>1904</td>\n",
              "      <td>1904</td>\n",
              "      <td>1904</td>\n",
              "      <td>1904</td>\n",
              "      <td>1904</td>\n",
              "      <td>1904</td>\n",
              "      <td>1904</td>\n",
              "      <td>1904</td>\n",
              "      <td>1904</td>\n",
              "      <td>1904</td>\n",
              "      <td>...</td>\n",
              "      <td>1904</td>\n",
              "      <td>1904</td>\n",
              "      <td>1904</td>\n",
              "      <td>1904</td>\n",
              "      <td>1904</td>\n",
              "      <td>1904</td>\n",
              "      <td>1904</td>\n",
              "      <td>1904</td>\n",
              "      <td>1904</td>\n",
              "      <td>1904</td>\n",
              "    </tr>\n",
              "    <tr>\n",
              "      <th>unique</th>\n",
              "      <td>160</td>\n",
              "      <td>343</td>\n",
              "      <td>298</td>\n",
              "      <td>248</td>\n",
              "      <td>222</td>\n",
              "      <td>200</td>\n",
              "      <td>128</td>\n",
              "      <td>194</td>\n",
              "      <td>153</td>\n",
              "      <td>154</td>\n",
              "      <td>...</td>\n",
              "      <td>5</td>\n",
              "      <td>5</td>\n",
              "      <td>5</td>\n",
              "      <td>4</td>\n",
              "      <td>4</td>\n",
              "      <td>3</td>\n",
              "      <td>3</td>\n",
              "      <td>3</td>\n",
              "      <td>3</td>\n",
              "      <td>2</td>\n",
              "    </tr>\n",
              "    <tr>\n",
              "      <th>top</th>\n",
              "      <td>0</td>\n",
              "      <td>0</td>\n",
              "      <td>0</td>\n",
              "      <td>0</td>\n",
              "      <td>0</td>\n",
              "      <td>0</td>\n",
              "      <td>0</td>\n",
              "      <td>0</td>\n",
              "      <td>0</td>\n",
              "      <td>0</td>\n",
              "      <td>...</td>\n",
              "      <td>0</td>\n",
              "      <td>0</td>\n",
              "      <td>0</td>\n",
              "      <td>0</td>\n",
              "      <td>0</td>\n",
              "      <td>0</td>\n",
              "      <td>0</td>\n",
              "      <td>0</td>\n",
              "      <td>0</td>\n",
              "      <td>0</td>\n",
              "    </tr>\n",
              "    <tr>\n",
              "      <th>freq</th>\n",
              "      <td>1109</td>\n",
              "      <td>1245</td>\n",
              "      <td>1578</td>\n",
              "      <td>1593</td>\n",
              "      <td>1670</td>\n",
              "      <td>1672</td>\n",
              "      <td>1674</td>\n",
              "      <td>1706</td>\n",
              "      <td>1728</td>\n",
              "      <td>1729</td>\n",
              "      <td>...</td>\n",
              "      <td>1900</td>\n",
              "      <td>1900</td>\n",
              "      <td>1900</td>\n",
              "      <td>1901</td>\n",
              "      <td>1901</td>\n",
              "      <td>1902</td>\n",
              "      <td>1902</td>\n",
              "      <td>1902</td>\n",
              "      <td>1902</td>\n",
              "      <td>1903</td>\n",
              "    </tr>\n",
              "  </tbody>\n",
              "</table>\n",
              "<p>4 rows × 173 columns</p>\n",
              "</div>"
            ],
            "text/plain": [
              "       pik3ca_mut tp53_mut muc16_mut ahnak2_mut kmt2c_mut syne1_mut gata3_mut  \\\n",
              "count        1904     1904      1904       1904      1904      1904      1904   \n",
              "unique        160      343       298        248       222       200       128   \n",
              "top             0        0         0          0         0         0         0   \n",
              "freq         1109     1245      1578       1593      1670      1672      1674   \n",
              "\n",
              "       map3k1_mut ahnak_mut dnah11_mut  ... mtap_mut ppp2cb_mut smarcd1_mut  \\\n",
              "count        1904      1904       1904  ...     1904       1904        1904   \n",
              "unique        194       153        154  ...        5          5           5   \n",
              "top             0         0          0  ...        0          0           0   \n",
              "freq         1706      1728       1729  ...     1900       1900        1900   \n",
              "\n",
              "       nras_mut ndfip1_mut hras_mut prps2_mut smarcb1_mut stmn2_mut siah1_mut  \n",
              "count      1904       1904     1904      1904        1904      1904      1904  \n",
              "unique        4          4        3         3           3         3         2  \n",
              "top           0          0        0         0           0         0         0  \n",
              "freq       1901       1901     1902      1902        1902      1902      1903  \n",
              "\n",
              "[4 rows x 173 columns]"
            ]
          },
          "execution_count": 356,
          "metadata": {},
          "output_type": "execute_result"
        }
      ],
      "source": [
        "gene_mut_dataset.describe()"
      ]
    },
    {
      "cell_type": "code",
      "execution_count": 357,
      "id": "3fc5a137",
      "metadata": {
        "colab": {
          "base_uri": "https://localhost:8080/"
        },
        "id": "3fc5a137",
        "outputId": "750bf9b4-9a35-4fa3-f86c-6bf03a929c56"
      },
      "outputs": [
        {
          "name": "stdout",
          "output_type": "stream",
          "text": [
            "Clinical dataset clean data: 1092\n",
            "Gene expression dataset clean data: 1904\n",
            "Gene mutation dataset clean data: 1904\n"
          ]
        }
      ],
      "source": [
        "# clean data means data with no NaN value in any column\n",
        "def clean_stats(ds):\n",
        "    return '''clean data: {0}'''.format(ds.shape[0] - ds.isnull().any(axis=1).sum())\n",
        "\n",
        "print(f'Clinical dataset {clean_stats(clinical_dataset)}')\n",
        "print(f'Gene expression dataset {clean_stats(gene_expr_dataset)}')\n",
        "print(f'Gene mutation dataset {clean_stats(gene_mut_dataset)}')"
      ]
    },
    {
      "cell_type": "code",
      "execution_count": 358,
      "id": "0f730892",
      "metadata": {
        "colab": {
          "base_uri": "https://localhost:8080/"
        },
        "id": "0f730892",
        "outputId": "42b12e02-832c-4bf8-ebf9-3635c298918f"
      },
      "outputs": [
        {
          "data": {
            "text/plain": [
              "patient_id                          int64\n",
              "age_at_diagnosis                  float64\n",
              "type_of_breast_surgery             object\n",
              "cancer_type                        object\n",
              "cancer_type_detailed               object\n",
              "cellularity                        object\n",
              "chemotherapy                        int64\n",
              "pam50_+_claudin-low_subtype        object\n",
              "cohort                            float64\n",
              "er_status_measured_by_ihc          object\n",
              "er_status                          object\n",
              "neoplasm_histologic_grade         float64\n",
              "her2_status_measured_by_snp6       object\n",
              "her2_status                        object\n",
              "tumor_other_histologic_subtype     object\n",
              "hormone_therapy                     int64\n",
              "inferred_menopausal_state          object\n",
              "integrative_cluster                object\n",
              "primary_tumor_laterality           object\n",
              "lymph_nodes_examined_positive     float64\n",
              "mutation_count                    float64\n",
              "nottingham_prognostic_index       float64\n",
              "oncotree_code                      object\n",
              "overall_survival_months           float64\n",
              "overall_survival                    int64\n",
              "pr_status                          object\n",
              "radio_therapy                       int64\n",
              "3-gene_classifier_subtype          object\n",
              "tumor_size                        float64\n",
              "tumor_stage                       float64\n",
              "death_from_cancer                  object\n",
              "dtype: object"
            ]
          },
          "execution_count": 358,
          "metadata": {},
          "output_type": "execute_result"
        }
      ],
      "source": [
        "clinical_dataset.dtypes"
      ]
    },
    {
      "cell_type": "code",
      "execution_count": 359,
      "id": "935fefb0",
      "metadata": {
        "colab": {
          "base_uri": "https://localhost:8080/"
        },
        "id": "935fefb0",
        "outputId": "f1698807-76f3-4df7-cbef-8b7a9f49b603"
      },
      "outputs": [
        {
          "name": "stdout",
          "output_type": "stream",
          "text": [
            "Clinical dataset: \n",
            "    columns: 31, object columns: 17, int columns: 5, float columns: 9\n",
            "    \n",
            "Gene expression dataset: \n",
            "    columns: 489, object columns: 0, int columns: 0, float columns: 489\n",
            "    \n",
            "Gene mutation dataset: \n",
            "    columns: 173, object columns: 173, int columns: 0, float columns: 0\n",
            "    \n"
          ]
        }
      ],
      "source": [
        "def dtype_stats(ds):\n",
        "    return '''\n",
        "    columns: {0}, object columns: {1}, int columns: {2}, float columns: {3}\n",
        "    '''.format(len(ds.columns),\n",
        "               (ds.dtypes == 'object').sum(),\n",
        "               (ds.dtypes == 'int64').sum(),\n",
        "               (ds.dtypes == 'float64').sum())\n",
        "\n",
        "print(f'Clinical dataset: {dtype_stats(clinical_dataset)}')\n",
        "print(f'Gene expression dataset: {dtype_stats(gene_expr_dataset)}')\n",
        "print(f'Gene mutation dataset: {dtype_stats(gene_mut_dataset)}')"
      ]
    },
    {
      "cell_type": "code",
      "execution_count": 360,
      "id": "70dfb89d",
      "metadata": {
        "colab": {
          "base_uri": "https://localhost:8080/",
          "height": 206
        },
        "id": "70dfb89d",
        "outputId": "bb64426b-b8db-4bd1-8cf3-b26d71b7439a"
      },
      "outputs": [
        {
          "data": {
            "text/html": [
              "<div>\n",
              "<style scoped>\n",
              "    .dataframe tbody tr th:only-of-type {\n",
              "        vertical-align: middle;\n",
              "    }\n",
              "\n",
              "    .dataframe tbody tr th {\n",
              "        vertical-align: top;\n",
              "    }\n",
              "\n",
              "    .dataframe thead th {\n",
              "        text-align: right;\n",
              "    }\n",
              "</style>\n",
              "<table border=\"1\" class=\"dataframe\">\n",
              "  <thead>\n",
              "    <tr style=\"text-align: right;\">\n",
              "      <th></th>\n",
              "      <th>patient_id</th>\n",
              "      <th>chemotherapy</th>\n",
              "      <th>hormone_therapy</th>\n",
              "      <th>overall_survival</th>\n",
              "      <th>radio_therapy</th>\n",
              "    </tr>\n",
              "  </thead>\n",
              "  <tbody>\n",
              "    <tr>\n",
              "      <th>0</th>\n",
              "      <td>0</td>\n",
              "      <td>0</td>\n",
              "      <td>1</td>\n",
              "      <td>1</td>\n",
              "      <td>1</td>\n",
              "    </tr>\n",
              "    <tr>\n",
              "      <th>1</th>\n",
              "      <td>2</td>\n",
              "      <td>0</td>\n",
              "      <td>1</td>\n",
              "      <td>1</td>\n",
              "      <td>1</td>\n",
              "    </tr>\n",
              "    <tr>\n",
              "      <th>2</th>\n",
              "      <td>5</td>\n",
              "      <td>1</td>\n",
              "      <td>1</td>\n",
              "      <td>0</td>\n",
              "      <td>0</td>\n",
              "    </tr>\n",
              "    <tr>\n",
              "      <th>3</th>\n",
              "      <td>6</td>\n",
              "      <td>1</td>\n",
              "      <td>1</td>\n",
              "      <td>1</td>\n",
              "      <td>1</td>\n",
              "    </tr>\n",
              "    <tr>\n",
              "      <th>4</th>\n",
              "      <td>8</td>\n",
              "      <td>1</td>\n",
              "      <td>1</td>\n",
              "      <td>0</td>\n",
              "      <td>1</td>\n",
              "    </tr>\n",
              "  </tbody>\n",
              "</table>\n",
              "</div>"
            ],
            "text/plain": [
              "   patient_id  chemotherapy  hormone_therapy  overall_survival  radio_therapy\n",
              "0           0             0                1                 1              1\n",
              "1           2             0                1                 1              1\n",
              "2           5             1                1                 0              0\n",
              "3           6             1                1                 1              1\n",
              "4           8             1                1                 0              1"
            ]
          },
          "execution_count": 360,
          "metadata": {},
          "output_type": "execute_result"
        }
      ],
      "source": [
        "# check if int data needs scaling\n",
        "clinical_dataset[clinical_columns[clinical_dataset.dtypes == 'int64']].head(5)"
      ]
    },
    {
      "cell_type": "code",
      "execution_count": 361,
      "id": "00a64091",
      "metadata": {
        "id": "00a64091"
      },
      "outputs": [],
      "source": [
        "# define data and labels for each dataset\n",
        "\n",
        "labels = clinical_dataset[label_column].to_numpy()\n",
        "clinical_data = clinical_dataset[clinical_data_columns].to_numpy()\n",
        "gene_expr_data = gene_expr_dataset.to_numpy()"
      ]
    },
    {
      "cell_type": "code",
      "execution_count": 362,
      "id": "99c8a4bc",
      "metadata": {
        "id": "99c8a4bc"
      },
      "outputs": [],
      "source": [
        "# Convert categorical data to numerical data for clinical dataset\n",
        "ordinal_encoder = OrdinalEncoder()\n",
        "clinical_data = ordinal_encoder.fit_transform(clinical_data)"
      ]
    },
    {
      "cell_type": "code",
      "execution_count": 363,
      "id": "9da8ca52",
      "metadata": {
        "id": "9da8ca52"
      },
      "outputs": [],
      "source": [
        "# Perform data imputation for clinical dataset\n",
        "imputer = SimpleImputer(missing_values=np.nan, strategy='mean')\n",
        "clinical_data = imputer.fit_transform(clinical_data)"
      ]
    },
    {
      "cell_type": "code",
      "execution_count": 364,
      "id": "1BFAjN9wKRUu",
      "metadata": {
        "id": "1BFAjN9wKRUu"
      },
      "outputs": [],
      "source": [
        "scaler = StandardScaler()\n",
        "clinical_data = scaler.fit_transform(clinical_data)"
      ]
    },
    {
      "cell_type": "code",
      "execution_count": 365,
      "id": "eG4CkK4IC9d-",
      "metadata": {
        "id": "eG4CkK4IC9d-"
      },
      "outputs": [],
      "source": [
        "_clinical_train_X, _clinical_test_X, _clinical_train_y, _clinical_test_y = train_test_split(clinical_data, labels, test_size=0.10, random_state=SEED)\n",
        "_clinical_train_X, _clinical_val_X, _clinical_train_y, _clinical_val_y = train_test_split(_clinical_train_X, _clinical_train_y, test_size=0.10, random_state=SEED)\n",
        "\n",
        "_gene_expr_train_X, _gene_expr_test_X, _gene_expr_train_y, _gene_expr_test_y = train_test_split(gene_expr_data, labels, test_size=0.10, random_state=SEED)\n",
        "_gene_expr_train_X, _gene_expr_val_X, _gene_expr_train_y, _gene_expr_val_y = train_test_split(_gene_expr_train_X, _gene_expr_train_y, test_size=0.10, random_state=SEED)\n",
        "\n",
        "dataset = {\n",
        "    'clinical':{\n",
        "        'X_train': _clinical_train_X,\n",
        "        'X_val': _clinical_val_X,\n",
        "        'X_test': _clinical_test_X,\n",
        "        'y_train': _clinical_train_y,\n",
        "        'y_val': _clinical_val_y,\n",
        "        'y_test': _clinical_test_y\n",
        "    },\n",
        "    'gene_expr':{\n",
        "        'X_train': _gene_expr_train_X,\n",
        "        'X_val': _gene_expr_val_X,\n",
        "        'X_test': _gene_expr_test_X,\n",
        "        'y_train': _gene_expr_train_y,\n",
        "        'y_val': _gene_expr_val_y,\n",
        "        'y_test': _gene_expr_test_y\n",
        "    },\n",
        "    'gene_expr_reduced':{\n",
        "    }\n",
        "}"
      ]
    },
    {
      "cell_type": "markdown",
      "id": "e2c3821f",
      "metadata": {
        "id": "e2c3821f"
      },
      "source": [
        "## Dimension Reduction (20 + Up to 10 Points Optional)"
      ]
    },
    {
      "cell_type": "markdown",
      "id": "b925e2cf",
      "metadata": {
        "id": "b925e2cf"
      },
      "source": [
        "For each dataset, investigate whether it is needed to use a dimensionality reduction approach or not. If yes, please reduce the dataset's dimension. You can use UMAP for this purpose but any other approach is acceptable. Finding the most important features contains extra points."
      ]
    },
    {
      "cell_type": "markdown",
      "id": "b14cefb7",
      "metadata": {
        "id": "b14cefb7"
      },
      "source": [
        "<span style=\"color:orange\">\n",
        "    we check if dimensionality reduction is needed by using a simple linear regression model as a baseline .\n",
        "</span>\n",
        "\n"
      ]
    },
    {
      "cell_type": "code",
      "execution_count": 366,
      "id": "f0666a0d",
      "metadata": {
        "colab": {
          "base_uri": "https://localhost:8080/"
        },
        "id": "f0666a0d",
        "outputId": "3e374600-946f-4995-c0bb-a9e6eaed661c"
      },
      "outputs": [
        {
          "name": "stdout",
          "output_type": "stream",
          "text": [
            "Accuracy of simple linear regression model on clinical data: 0.723\n",
            "Accuracy of simple linear regression model on gene expression data: 0.618\n"
          ]
        }
      ],
      "source": [
        "# predict for the clinical dataset using linear regression\n",
        "_clf = LinearRegression()\n",
        "_clf.fit(dataset['clinical']['X_train'], dataset['clinical']['y_train'])\n",
        "_clinical_baseline_pred = np.round(_clf.predict(dataset['clinical']['X_test']))\n",
        "_clinical_baseline_accuracy = accuracy_score(dataset['clinical']['y_test'], _clinical_baseline_pred)\n",
        "\n",
        "# predict for the gene expression dataset using linear regression\n",
        "_clf = LinearRegression()\n",
        "_clf.fit(dataset['gene_expr']['X_train'], dataset['gene_expr']['y_train'])\n",
        "_gene_expr_baseline_pred = np.round(_clf.predict(dataset['gene_expr']['X_test']))\n",
        "_gene_expr_baseline_accuracy = accuracy_score(dataset['gene_expr']['y_test'], _gene_expr_baseline_pred)\n",
        "\n",
        "print(f'Accuracy of simple linear regression model on clinical data: {_clinical_baseline_accuracy:.3f}')\n",
        "print(f'Accuracy of simple linear regression model on gene expression data: {_gene_expr_baseline_accuracy:.3f}')"
      ]
    },
    {
      "cell_type": "markdown",
      "id": "29e2dbe8",
      "metadata": {
        "id": "29e2dbe8"
      },
      "source": [
        "<span style=\"color:orange\">\n",
        "    As we can see, the results are much better for the clinical dataset which has few dimensions, but not so much for the gene expession dataset.\n",
        "    Therefore, we will only reduce the dimensions for gene expression dataset.\n",
        "</span>\n",
        "\n"
      ]
    },
    {
      "cell_type": "code",
      "execution_count": 367,
      "id": "a3f0b1a2",
      "metadata": {
        "colab": {
          "base_uri": "https://localhost:8080/"
        },
        "id": "a3f0b1a2",
        "outputId": "7ecc82fe-56cf-4b18-844a-e15dcde3a0c8"
      },
      "outputs": [
        {
          "name": "stdout",
          "output_type": "stream",
          "text": [
            "Accuracy of simple linear regression model on reduced clinical data: 0.613\n",
            "Accuracy of simple linear regression model on reduced gene expression data: 0.649\n"
          ]
        }
      ],
      "source": [
        "# reduce the dimensions for clinical data and predict using baseline model\n",
        "CLINICAL_REDUCED_DIMENSIONS = 10\n",
        "GENE_EXPR_REDUCED_DIMENSIONS = 30\n",
        "\n",
        "\n",
        "_reducer = umap.UMAP(n_components=CLINICAL_REDUCED_DIMENSIONS, random_state=SEED)\n",
        "_reducer.fit(clinical_data)\n",
        "_reduced_X_train = _reducer.transform(dataset['clinical']['X_train'])\n",
        "_reduced_X_test = _reducer.transform(dataset['clinical']['X_test'])\n",
        "\n",
        "_clf = LinearRegression()\n",
        "_clf.fit(_reduced_X_train, dataset['clinical']['y_train'])\n",
        "_clinical_reduced_baseline_pred = np.round(_clf.predict(_reduced_X_test))\n",
        "_clinical_reduced_baseline_accuracy = accuracy_score(dataset['clinical']['y_test'], _clinical_reduced_baseline_pred)\n",
        "\n",
        "# reduce the dimensions for gene expression data and predict using baseline model\n",
        "_reducer = umap.UMAP(n_components=GENE_EXPR_REDUCED_DIMENSIONS, random_state=SEED)\n",
        "_reducer.fit(gene_expr_data)\n",
        "_reduced_X_train = _reducer.transform(dataset['gene_expr']['X_train'])\n",
        "_reduced_X_val = _reducer.transform(dataset['gene_expr']['X_val'])\n",
        "_reduced_X_test = _reducer.transform(dataset['gene_expr']['X_test'])\n",
        "\n",
        "_clf = LinearRegression()\n",
        "_clf.fit(_reduced_X_train, dataset['gene_expr']['y_train'])\n",
        "_gene_expr_reduced_baseline_pred = np.round(_clf.predict(_reduced_X_test))\n",
        "_gene_expr_reduced_baseline_accuracy = accuracy_score(dataset['gene_expr']['y_test'], _gene_expr_reduced_baseline_pred)\n",
        "\n",
        "print(f'Accuracy of simple linear regression model on reduced clinical data: {_clinical_reduced_baseline_accuracy:.3f}')\n",
        "print(f'Accuracy of simple linear regression model on reduced gene expression data: {_gene_expr_reduced_baseline_accuracy:.3f}')"
      ]
    },
    {
      "cell_type": "markdown",
      "id": "578ec633",
      "metadata": {
        "id": "578ec633"
      },
      "source": [
        "<span style=\"color:orange\">\n",
        "    As we can see, applying dimension reduction on the clinical dataset leads to worse results, while on gene expression dataset improves the predictions.\n",
        "    Therefore, we choose to reduce the dimensions of only the gene expression dataset. \n",
        "</span>\n",
        "\n"
      ]
    },
    {
      "cell_type": "code",
      "execution_count": 368,
      "id": "1dc64a2b",
      "metadata": {
        "id": "1dc64a2b"
      },
      "outputs": [],
      "source": [
        "dataset['gene_expr_reduced'] = {\n",
        "    'X_train': _reduced_X_train,\n",
        "    'X_val': _reduced_X_val,\n",
        "    'X_test': _reduced_X_test,\n",
        "    'y_train': _gene_expr_train_y,\n",
        "    'y_val': _gene_expr_val_y,\n",
        "    'y_test': _gene_expr_test_y\n",
        "}"
      ]
    },
    {
      "cell_type": "markdown",
      "id": "bf0ea4bb",
      "metadata": {
        "id": "bf0ea4bb"
      },
      "source": [
        "# Classic Model (25 Points)"
      ]
    },
    {
      "cell_type": "markdown",
      "id": "389c5d75",
      "metadata": {
        "id": "389c5d75"
      },
      "source": [
        "In this section, you must implement a classic classification model for clinical, gene expressions, and reduced gene expressions datasets. Using Random Forest is suggested. (minimum acceptable accuracy = 60%)"
      ]
    },
    {
      "cell_type": "code",
      "execution_count": 369,
      "id": "34ec1dd7",
      "metadata": {
        "colab": {
          "base_uri": "https://localhost:8080/"
        },
        "id": "34ec1dd7",
        "outputId": "a3d27908-e6d9-4dc5-d5ad-1ec701bee93e"
      },
      "outputs": [
        {
          "name": "stdout",
          "output_type": "stream",
          "text": [
            "random forest on clinical dataset had accuracy of 0.7435\n",
            "random forest on gene_expr dataset had accuracy of 0.6859\n",
            "random forest on gene_expr_reduced dataset had accuracy of 0.6073\n",
            "svm on clinical dataset had accuracy of 0.7382\n",
            "svm on gene_expr dataset had accuracy of 0.6597\n",
            "svm on gene_expr_reduced dataset had accuracy of 0.5812\n"
          ]
        }
      ],
      "source": [
        "random_forst_models = {\n",
        "    'clinical': None,\n",
        "    'gene_expr': None,\n",
        "    'gene_expr_reduced': None\n",
        "}\n",
        "\n",
        "for ds_name in random_forst_models:\n",
        "    clf = RandomForestClassifier(random_state=SEED)\n",
        "    ds = dataset[ds_name]\n",
        "    clf.fit(ds['X_train'], ds['y_train'])\n",
        "    y_pred = clf.predict(ds['X_test'])\n",
        "    acc = accuracy_score(ds['y_test'], y_pred)\n",
        "    random_forst_models[ds_name] = {\n",
        "        'model': clf,\n",
        "        'accuracy': acc\n",
        "    }\n",
        "\n",
        "    print(f'random forest on {ds_name} dataset had accuracy of {acc:.4f}')\n",
        "\n",
        "svm_models = random_forst_models.copy()\n",
        "\n",
        "for ds_name in random_forst_models:\n",
        "    clf = SVC(random_state=SEED)\n",
        "    ds = dataset[ds_name]\n",
        "    clf.fit(ds['X_train'], ds['y_train'])\n",
        "    y_pred = clf.predict(ds['X_test'])\n",
        "    acc = accuracy_score(ds['y_test'], y_pred)\n",
        "    random_forst_models[ds_name] = {\n",
        "        'model': clf,\n",
        "        'accuracy': acc\n",
        "    }\n",
        "\n",
        "    print(f'svm on {ds_name} dataset had accuracy of {acc:.4f}')\n",
        "\n"
      ]
    },
    {
      "cell_type": "markdown",
      "id": "50146d67",
      "metadata": {
        "id": "50146d67"
      },
      "source": [
        "# Neural Network (30 Points)"
      ]
    },
    {
      "cell_type": "markdown",
      "id": "485c4047",
      "metadata": {
        "id": "485c4047"
      },
      "source": [
        "In this section, you must implement a neural network model for clinical, gene expressions and reduced gene expressions datasets. Using the MPL models is suggested. (minimum acceptable accuracy = 60%)"
      ]
    },
    {
      "cell_type": "code",
      "execution_count": 370,
      "id": "c74a41b9",
      "metadata": {
        "colab": {
          "base_uri": "https://localhost:8080/"
        },
        "id": "c74a41b9",
        "outputId": "7284b7ce-3ebe-4be2-8d4b-972c2697bdfb"
      },
      "outputs": [
        {
          "data": {
            "text/plain": [
              "device(type='cuda', index=0)"
            ]
          },
          "execution_count": 370,
          "metadata": {},
          "output_type": "execute_result"
        }
      ],
      "source": [
        "device = torch.device('cuda:0' if torch.cuda.is_available() else 'cpu')\n",
        "device"
      ]
    },
    {
      "cell_type": "code",
      "execution_count": 371,
      "id": "2ecdff3a",
      "metadata": {
        "id": "2ecdff3a"
      },
      "outputs": [],
      "source": [
        "class CancerDataset(Dataset):\n",
        "\n",
        "    def __init__(self, X, y) -> None:\n",
        "        super().__init__()\n",
        "        self.X = X\n",
        "        self.y = y\n",
        "\n",
        "    def __len__(self):\n",
        "        return len(self.X)\n",
        "    \n",
        "    def __getitem__(self, idx):\n",
        "        return self.X[idx].astype(np.float32), self.y[idx].astype(np.float32)\n"
      ]
    },
    {
      "cell_type": "code",
      "execution_count": 372,
      "id": "aaa2d935",
      "metadata": {
        "id": "aaa2d935"
      },
      "outputs": [],
      "source": [
        "dataloaders = {}\n",
        "batch_size = 64\n",
        "\n",
        "for ds_name, ds_split in dataset.items():\n",
        "    dataloaders[ds_name] = {}\n",
        "    X_train = ds_split['X_train']\n",
        "    X_val = ds_split['X_val']\n",
        "    X_test = ds_split['X_test']\n",
        "    y_train = ds_split['y_train']\n",
        "    y_val = ds_split['y_val']\n",
        "    y_test = ds_split['y_test']\n",
        "    \n",
        "    train_ds = CancerDataset(X_train, y_train)\n",
        "    val_ds = CancerDataset(X_val, y_val)\n",
        "    test_ds = CancerDataset(X_test, y_test)\n",
        "\n",
        "    train_dl = DataLoader(train_ds, batch_size=batch_size, shuffle=True)\n",
        "    val_dl = DataLoader(val_ds, batch_size=batch_size, shuffle=True)\n",
        "    test_dl = DataLoader(test_ds, batch_size=batch_size, shuffle=True)\n",
        "\n",
        "    dataloaders[ds_name]['train'] = train_dl\n",
        "    dataloaders[ds_name]['val'] = val_dl\n",
        "    dataloaders[ds_name]['test'] = test_dl"
      ]
    },
    {
      "cell_type": "code",
      "execution_count": 373,
      "id": "ef943c44",
      "metadata": {},
      "outputs": [],
      "source": [
        "def precision(confusion):\n",
        "    return confusion[1, 1] / (confusion[1, 1] + confusion[1, 0])"
      ]
    },
    {
      "cell_type": "code",
      "execution_count": 374,
      "id": "e09b99a3",
      "metadata": {},
      "outputs": [],
      "source": [
        "def recall(confusion):\n",
        "    return confusion[1, 1] / (confusion[1, 1] + confusion[0, 1])"
      ]
    },
    {
      "cell_type": "code",
      "execution_count": 375,
      "id": "cfe3e2f3",
      "metadata": {},
      "outputs": [],
      "source": [
        "def f1_score(confusion):\n",
        "    return confusion[1, 1] / (confusion[1, 1] + 0.5 * (confusion[1, 0] + confusion[0, 1]))"
      ]
    },
    {
      "cell_type": "code",
      "execution_count": 376,
      "id": "e40af097",
      "metadata": {},
      "outputs": [],
      "source": [
        "def update_confusion_matrix(confusion, out, labels):\n",
        "    out = out.astype(int)\n",
        "    labels = labels.astype(int)\n",
        "    for i in range(confusion.shape[0]):\n",
        "        for j in range(confusion.shape[1]):\n",
        "            confusion[i, j] += ((out == i) & (labels == j)).sum()\n",
        "    \n",
        "    return confusion"
      ]
    },
    {
      "cell_type": "code",
      "execution_count": 377,
      "id": "JbseSF_CQnR1",
      "metadata": {
        "id": "JbseSF_CQnR1"
      },
      "outputs": [],
      "source": [
        "def evaluate(model, dataloader):\n",
        "    model.eval()\n",
        "    total, correct = 0, 0\n",
        "    confusion = np.zeros((2, 2))\n",
        "    with torch.no_grad():\n",
        "        for _, (data, labels) in enumerate(dataloader):\n",
        "            data, labels = data.to(device), labels.to(device)\n",
        "\n",
        "            pred = model(data).squeeze()\n",
        "            out = torch.round(pred)\n",
        "            update_confusion_matrix(confusion, out.cpu().numpy(), labels.cpu().numpy())\n",
        "\n",
        "            correct = correct + (labels == out).sum().detach().cpu().numpy()\n",
        "            total = total + len(data)\n",
        "    \n",
        "    return correct / total, confusion"
      ]
    },
    {
      "cell_type": "code",
      "execution_count": 378,
      "id": "2992ff5a",
      "metadata": {
        "id": "2992ff5a"
      },
      "outputs": [],
      "source": [
        "def train(model, criterion, optimizer, train_dataloader, val_dataloader, num_epochs, verbose=False):\n",
        "    best_model = model\n",
        "    train_losses = []\n",
        "    val_losses = []\n",
        "    train_accs = []\n",
        "    val_accs = []\n",
        "    best_val_loss = np.inf\n",
        "\n",
        "    for epoch in range(num_epochs):\n",
        "        # train \n",
        "        model.train()\n",
        "        total, correct = 0, 0\n",
        "        train_loss = 0.0\n",
        "        with tqdm(enumerate(train_dataloader), total=len(train_dataloader), disable= not verbose) as pbar:\n",
        "            for i, (data, labels) in pbar:\n",
        "                data, labels = data.to(device), labels.to(device)\n",
        "                optimizer.zero_grad()\n",
        "\n",
        "                pred = model(data).squeeze()\n",
        "                out = pred.detach().round()\n",
        "\n",
        "                total = total + len(data)\n",
        "                correct = correct + (labels == out).sum().detach().cpu().numpy()\n",
        "                \n",
        "                loss = criterion(pred, labels)\n",
        "                loss.backward()\n",
        "                optimizer.step()\n",
        "\n",
        "                train_loss = train_loss + loss.detach().cpu().numpy()\n",
        "                \n",
        "                if verbose:\n",
        "                    pbar.set_description('Epoch {0}: train loss={1}, train accuracy={2}'.format(epoch, train_loss / total,\n",
        "                                                                                            correct / total))\n",
        "        \n",
        "        train_losses.append(train_loss / total)\n",
        "        train_accs.append((correct / total))\n",
        "        \n",
        "        # validation\n",
        "        model.eval()\n",
        "        total, correct = 0, 0\n",
        "        val_loss = 0.0\n",
        "        with torch.no_grad():\n",
        "            with tqdm(enumerate(val_dataloader), total=len(val_dataloader), disable= not verbose) as pbar:\n",
        "                for i, (data, labels) in pbar:\n",
        "                    data, labels = data.to(device), labels.to(device)\n",
        "\n",
        "                    pred = model(data).squeeze()\n",
        "                    out = torch.round(pred)\n",
        "\n",
        "                    correct = correct + (labels == out).sum().detach().cpu().numpy()\n",
        "                    total = total + len(data)\n",
        "\n",
        "                    val_loss += criterion(pred, labels).detach().cpu().numpy()\n",
        "                    \n",
        "                    if verbose:\n",
        "                        pbar.set_description('Epoch {0}: val loss={1}, val accuracy={2}'.format(epoch, val_loss / total,\n",
        "                                                                                                correct / total))\n",
        "        \n",
        "\n",
        "            val_losses.append(val_loss / total)\n",
        "            val_accs.append(correct / total)\n",
        "        \n",
        "\n",
        "        val_loss = val_loss / total\n",
        "        if val_loss < best_val_loss:\n",
        "            if verbose:\n",
        "                print('New model saved, val loss {0} -> {1}'.format(best_val_loss, val_loss))\n",
        "            best_val_loss = val_loss\n",
        "            best_model = deepcopy(model)\n",
        "\n",
        "    return train_losses, val_losses, train_accs, val_accs, best_model"
      ]
    },
    {
      "cell_type": "code",
      "execution_count": 379,
      "id": "344e1754",
      "metadata": {
        "colab": {
          "base_uri": "https://localhost:8080/",
          "height": 1000
        },
        "id": "344e1754",
        "outputId": "26ba861a-ac7c-4d82-cb1c-6fb2436811cd"
      },
      "outputs": [],
      "source": [
        "mlp_models = random_forst_models.copy()\n",
        "lr = 1e-4\n",
        "num_epochs = 100\n",
        "torch.manual_seed(SEED)\n",
        "\n",
        "for ds_name in mlp_models:\n",
        "\n",
        "    net = nn.Sequential(\n",
        "        nn.Dropout(0.2),\n",
        "        nn.Linear(dataset[ds_name]['X_train'].shape[1], 128),\n",
        "        nn.BatchNorm1d(128),\n",
        "        nn.Tanh(),\n",
        "        nn.Linear(128, 64),\n",
        "        nn.BatchNorm1d(64),\n",
        "        nn.Tanh(),\n",
        "        nn.Linear(64, 16),\n",
        "        nn.BatchNorm1d(16),\n",
        "        nn.Tanh(),\n",
        "        nn.Dropout(0.2),\n",
        "        nn.Linear(16, 1),\n",
        "        nn.Sigmoid()\n",
        "    )\n",
        "    net = net.to(device)\n",
        "    optimizer = Adam(net.parameters(), lr=lr)\n",
        "    criterion = nn.BCELoss()\n",
        "    train_dl = dataloaders[ds_name]['train']\n",
        "    val_dl = dataloaders[ds_name]['val']\n",
        "    test_dl = dataloaders[ds_name]['test']\n",
        "\n",
        "    return_vals = train(net, criterion, optimizer, train_dl, val_dl, num_epochs)\n",
        "    train_losses, val_losses, train_accs, val_accs, best_model = return_vals\n",
        "    mlp_models[ds_name] = {\n",
        "        'model': best_model,\n",
        "        'train_losses': train_losses,\n",
        "        'val_losses': val_losses,\n",
        "        'train_accs': train_accs,\n",
        "        'val_accs': val_accs\n",
        "    }"
      ]
    },
    {
      "cell_type": "code",
      "execution_count": 380,
      "id": "hFjQ3KUhUqk4",
      "metadata": {
        "id": "hFjQ3KUhUqk4"
      },
      "outputs": [
        {
          "name": "stdout",
          "output_type": "stream",
          "text": [
            "mlp accuracy on clinical dataset had accuracy of 0.6754\n",
            "mlp accuracy on gene_expr dataset had accuracy of 0.6754\n",
            "mlp accuracy on gene_expr_reduced dataset had accuracy of 0.6283\n"
          ]
        }
      ],
      "source": [
        "for ds_name in mlp_models:\n",
        "    # test\n",
        "    best_model = mlp_models[ds_name]['model']\n",
        "    test_dl = dataloaders[ds_name]['test']\n",
        "    acc, confusion = evaluate(best_model, test_dl)\n",
        "    mlp_models[ds_name]['accuracy'] = acc\n",
        "    mlp_models[ds_name]['confusion'] = confusion\n",
        "    print(f'mlp accuracy on {ds_name} dataset had accuracy of {acc:.4f}')"
      ]
    },
    {
      "cell_type": "code",
      "execution_count": 381,
      "id": "eedc24e3",
      "metadata": {},
      "outputs": [
        {
          "data": {
            "image/png": "[encoded data removed]",
            "text/plain": [
              "<Figure size 432x288 with 2 Axes>"
            ]
          },
          "metadata": {
            "needs_background": "light"
          },
          "output_type": "display_data"
        }
      ],
      "source": [
        "labels=mlp_models['clinical']['confusion']\n",
        "sns.heatmap(mlp_models['clinical']['confusion'],annot=labels)\n",
        "plt.show()"
      ]
    },
    {
      "cell_type": "code",
      "execution_count": 382,
      "id": "1d56867f",
      "metadata": {},
      "outputs": [
        {
          "name": "stdout",
          "output_type": "stream",
          "text": [
            "0.425\n",
            "0.4892086330935252\n",
            "0.576271186440678\n"
          ]
        }
      ],
      "source": [
        "conf = mlp_models['gene_expr_reduced']['confusion']\n",
        "print(recall(conf))\n",
        "print(f1_score(conf))\n",
        "print(precision(conf))"
      ]
    },
    {
      "cell_type": "code",
      "execution_count": 383,
      "id": "f43ca6c8",
      "metadata": {},
      "outputs": [
        {
          "data": {
            "image/png": "[encoded data removed]",
            "text/plain": [
              "<Figure size 432x288 with 1 Axes>"
            ]
          },
          "metadata": {
            "needs_background": "light"
          },
          "output_type": "display_data"
        },
        {
          "data": {
            "image/png": "[encoded data removed]",
            "text/plain": [
              "<Figure size 432x288 with 1 Axes>"
            ]
          },
          "metadata": {
            "needs_background": "light"
          },
          "output_type": "display_data"
        },
        {
          "data": {
            "image/png": "[encoded data removed]",
            "text/plain": [
              "<Figure size 432x288 with 1 Axes>"
            ]
          },
          "metadata": {
            "needs_background": "light"
          },
          "output_type": "display_data"
        },
        {
          "data": {
            "image/png": "[encoded data removed]",
            "text/plain": [
              "<Figure size 432x288 with 1 Axes>"
            ]
          },
          "metadata": {
            "needs_background": "light"
          },
          "output_type": "display_data"
        },
        {
          "data": {
            "image/png": "[encoded data removed]",
            "text/plain": [
              "<Figure size 432x288 with 1 Axes>"
            ]
          },
          "metadata": {
            "needs_background": "light"
          },
          "output_type": "display_data"
        },
        {
          "data": {
            "image/png": "[encoded data removed]",
            "text/plain": [
              "<Figure size 432x288 with 1 Axes>"
            ]
          },
          "metadata": {
            "needs_background": "light"
          },
          "output_type": "display_data"
        }
      ],
      "source": [
        "#plot the loss and accuracy curves for all ds_names in mlp_models\n",
        "for ds_name in mlp_models:\n",
        "    plt.plot(mlp_models[ds_name]['train_losses'], label='train loss')\n",
        "    plt.plot(mlp_models[ds_name]['val_losses'], label='val loss')\n",
        "    plt.title(f'{ds_name} loss')\n",
        "    plt.legend()\n",
        "    plt.show()\n",
        "\n",
        "    plt.plot(mlp_models[ds_name]['train_accs'], label='train acc')\n",
        "    plt.plot(mlp_models[ds_name]['val_accs'], label='val acc')\n",
        "    plt.title(f'{ds_name} accuracy')\n",
        "    plt.legend()\n",
        "    plt.show()"
      ]
    },
    {
      "cell_type": "markdown",
      "id": "56877dc4",
      "metadata": {
        "id": "56877dc4"
      },
      "source": [
        "# Model Comparison (10 Points)"
      ]
    },
    {
      "cell_type": "markdown",
      "id": "509fe56a",
      "metadata": {
        "id": "509fe56a"
      },
      "source": [
        "Compare different models and different datasets (clinical, gene expressions, and gene reduced expressions) and try to explain their differences."
      ]
    },
    {
      "cell_type": "markdown",
      "id": "c2f05a73",
      "metadata": {
        "id": "c2f05a73"
      },
      "source": [
        "#### \\# TODO"
      ]
    },
    {
      "attachments": {},
      "cell_type": "markdown",
      "id": "207171dd",
      "metadata": {},
      "source": [
        "| Model/Dataset | Clinical   |   Gene Expression | Reduced Gene Expression |\n",
        "| ----------- | ----------- | ---------------| --------------- |\n",
        "| Random Forest   |  Best  |  Good  | Good |\n",
        "| SVM   |    Good  |   Medium    |    Bad   |\n",
        "| MLP  | Good  |   Best | Best |"
      ]
    },
    {
      "attachments": {},
      "cell_type": "markdown",
      "id": "c2e159ff",
      "metadata": {},
      "source": [
        "Since we previously expected this, random forrest has a better performance on categorial datasets because decision tree does not need to convert features to numeric form to train the model and generally it achieves higher accuracy.\n",
        "The reason why MLP performs better than the two other models on Gene Expression and Reduced Gene Expression is because MLP models can draw more complex patterns from numeric(floating point) data.\n",
        "SVM is just a simpler version of MLP so it is expected that MLP performs better than SVM.\n",
        "\n",
        "We also used Linear Regression as a baseline to find out whether the dimensionality of the data needs reduction.\n",
        "Generally Linear regression doesn't perform well because it's too simple and the data may not always be linearly separable.\n"
      ]
    }
  ],
  "metadata": {
    "colab": {
      "provenance": []
    },
    "kernelspec": {
      "display_name": "Python 3",
      "language": "python",
      "name": "python3"
    },
    "language_info": {
      "codemirror_mode": {
        "name": "ipython",
        "version": 3
      },
      "file_extension": ".py",
      "mimetype": "text/x-python",
      "name": "python",
      "nbconvert_exporter": "python",
      "pygments_lexer": "ipython3",
      "version": "3.10.2"
    },
    "toc": {
      "base_numbering": 1,
      "nav_menu": {},
      "number_sections": true,
      "sideBar": true,
      "skip_h1_title": false,
      "title_cell": "Table of Contents",
      "title_sidebar": "Contents",
      "toc_cell": false,
      "toc_position": {},
      "toc_section_display": true,
      "toc_window_display": false
    },
    "varInspector": {
      "cols": {
        "lenName": 16,
        "lenType": 16,
        "lenVar": 40
      },
      "kernels_config": {
        "python": {
          "delete_cmd_postfix": "",
          "delete_cmd_prefix": "del ",
          "library": "var_list.py",
          "varRefreshCmd": "print(var_dic_list())"
        },
        "r": {
          "delete_cmd_postfix": ") ",
          "delete_cmd_prefix": "rm(",
          "library": "var_list.r",
          "varRefreshCmd": "cat(var_dic_list()) "
        }
      },
      "types_to_exclude": [
        "module",
        "function",
        "builtin_function_or_method",
        "instance",
        "_Feature"
      ],
      "window_display": false
    },
    "vscode": {
      "interpreter": {
        "hash": "2b61712f8de5c4255c7ccdac8e80a2f17f4378d0d837f4a77cc18a4caa97a5d5"
      }
    }
  },
  "nbformat": 4,
  "nbformat_minor": 5
}
