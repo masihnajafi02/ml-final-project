{
  "cells": [
    {
      "cell_type": "markdown",
      "id": "5902c1f3",
      "metadata": {
        "id": "5902c1f3"
      },
      "source": [
        "<img src='http://www-scf.usc.edu/~ghasemig/images/sharif.png' alt=\"SUT logo\" width=200 height=200 align=left class=\"saturate\" >\n",
        "\n",
        "<br>\n",
        "<font face=\"Times New Roman\">\n",
        "<div dir=ltr align=center>\n",
        "<font color=0F5298 size=7>\n",
        "    Introduction to Machine Learning <br>\n",
        "<font color=2565AE size=5>\n",
        "    Computer Engineering Department <br>\n",
        "    Fall 2022<br>\n",
        "<font color=3C99D size=5>\n",
        "    Project <br>\n",
        "<font color=696880 size=4>\n",
        "    Project Team \n",
        "    \n",
        "    \n",
        "____\n"
      ]
    },
    {
      "attachments": {},
      "cell_type": "markdown",
      "id": "5e85f16a",
      "metadata": {
        "id": "5e85f16a"
      },
      "source": [
        "### Full Name : Mohammad Bagher Soltani, Seyed Mohammad Yousef Najafi\n",
        "### Student Number : 98105813, 99102361\n",
        "___"
      ]
    },
    {
      "cell_type": "markdown",
      "id": "40df5e74",
      "metadata": {
        "id": "40df5e74"
      },
      "source": [
        "# Introduction"
      ]
    },
    {
      "cell_type": "markdown",
      "id": "5a627177",
      "metadata": {
        "id": "5a627177"
      },
      "source": [
        "In this project, we are going to have a brief and elementary hands-on real-world project, predicting breast cancer survival using machine learning models with clinical data and gene expression profiles."
      ]
    },
    {
      "cell_type": "code",
      "execution_count": 158,
      "id": "2970285a",
      "metadata": {
        "id": "2970285a"
      },
      "outputs": [],
      "source": [
        "# imports\n",
        "import numpy as np\n",
        "import pandas as pd\n",
        "from sklearn.preprocessing import OrdinalEncoder, StandardScaler\n",
        "from sklearn.decomposition import PCA\n",
        "from sklearn.linear_model import LinearRegression\n",
        "from sklearn.impute import SimpleImputer\n",
        "import umap\n",
        "import matplotlib.pyplot as plt\n",
        "import seaborn as sns\n",
        "from sklearn.metrics import accuracy_score\n",
        "from sklearn.model_selection import train_test_split\n",
        "from sklearn.ensemble import RandomForestClassifier\n",
        "from sklearn.svm import SVC\n",
        "import torch\n",
        "import torch.nn as nn\n",
        "from torch.utils.data import Dataset, DataLoader\n",
        "from tqdm.std import tqdm\n",
        "from torch.optim import Adam\n",
        "from copy import deepcopy"
      ]
    },
    {
      "cell_type": "code",
      "execution_count": 159,
      "id": "4dac6eb7",
      "metadata": {},
      "outputs": [],
      "source": [
        "SEED = 111"
      ]
    },
    {
      "cell_type": "code",
      "execution_count": 160,
      "id": "88e8d521",
      "metadata": {
        "id": "88e8d521"
      },
      "outputs": [],
      "source": [
        "np.random.seed(SEED)"
      ]
    },
    {
      "cell_type": "markdown",
      "id": "b1e52cbc",
      "metadata": {
        "id": "b1e52cbc"
      },
      "source": [
        "# Data Documentation"
      ]
    },
    {
      "cell_type": "markdown",
      "id": "254cb90f",
      "metadata": {
        "ExecuteTime": {
          "end_time": "2023-01-29T19:31:29.604891Z",
          "start_time": "2023-01-29T19:31:29.601061Z"
        },
        "id": "254cb90f"
      },
      "source": [
        "For this purpose, we will use \"Breast Cancer Gene Expression Profiles (METABRIC)\" data. \n",
        "The first 31 columns of data contain clinical information including death status.\n",
        "The next columns of the data contain gene's related information which includes both gene expressions and mutation information. (gene's mutation info columns have been marked with \"_mut\" at the end of the names of the columns) \n",
        "For more information please read the [data documentation](https://www.kaggle.com/datasets/raghadalharbi/breast-cancer-gene-expression-profiles-metabric)."
      ]
    },
    {
      "cell_type": "markdown",
      "id": "9cef1d4a",
      "metadata": {
        "id": "9cef1d4a"
      },
      "source": [
        "# Data Preparation (15 Points)"
      ]
    },
    {
      "cell_type": "markdown",
      "id": "f3240d5d",
      "metadata": {
        "id": "f3240d5d"
      },
      "source": [
        "In this section you must first split data into three datasets:\n",
        "<br>\n",
        "1- clinical dataset\n",
        "<br>\n",
        "2- gene expressions dataset\n",
        "<br>\n",
        "3- gene mutation dataset. (We will not use this dataset in further steps of the project)"
      ]
    },
    {
      "cell_type": "markdown",
      "id": "cc42f2b1",
      "metadata": {
        "id": "cc42f2b1"
      },
      "source": [
        "## Data Loading & Splitting"
      ]
    },
    {
      "cell_type": "code",
      "execution_count": 161,
      "id": "463b243b",
      "metadata": {
        "colab": {
          "base_uri": "https://localhost:8080/",
          "height": 404
        },
        "id": "463b243b",
        "outputId": "0a9a21cf-8dbf-4860-e2c6-8b47d54c516c"
      },
      "outputs": [
        {
          "data": {
            "text/html": [
              "<div>\n",
              "<style scoped>\n",
              "    .dataframe tbody tr th:only-of-type {\n",
              "        vertical-align: middle;\n",
              "    }\n",
              "\n",
              "    .dataframe tbody tr th {\n",
              "        vertical-align: top;\n",
              "    }\n",
              "\n",
              "    .dataframe thead th {\n",
              "        text-align: right;\n",
              "    }\n",
              "</style>\n",
              "<table border=\"1\" class=\"dataframe\">\n",
              "  <thead>\n",
              "    <tr style=\"text-align: right;\">\n",
              "      <th></th>\n",
              "      <th>patient_id</th>\n",
              "      <th>age_at_diagnosis</th>\n",
              "      <th>type_of_breast_surgery</th>\n",
              "      <th>cancer_type</th>\n",
              "      <th>cancer_type_detailed</th>\n",
              "      <th>cellularity</th>\n",
              "      <th>chemotherapy</th>\n",
              "      <th>pam50_+_claudin-low_subtype</th>\n",
              "      <th>cohort</th>\n",
              "      <th>er_status_measured_by_ihc</th>\n",
              "      <th>...</th>\n",
              "      <th>mtap_mut</th>\n",
              "      <th>ppp2cb_mut</th>\n",
              "      <th>smarcd1_mut</th>\n",
              "      <th>nras_mut</th>\n",
              "      <th>ndfip1_mut</th>\n",
              "      <th>hras_mut</th>\n",
              "      <th>prps2_mut</th>\n",
              "      <th>smarcb1_mut</th>\n",
              "      <th>stmn2_mut</th>\n",
              "      <th>siah1_mut</th>\n",
              "    </tr>\n",
              "  </thead>\n",
              "  <tbody>\n",
              "    <tr>\n",
              "      <th>0</th>\n",
              "      <td>0</td>\n",
              "      <td>75.65</td>\n",
              "      <td>MASTECTOMY</td>\n",
              "      <td>Breast Cancer</td>\n",
              "      <td>Breast Invasive Ductal Carcinoma</td>\n",
              "      <td>NaN</td>\n",
              "      <td>0</td>\n",
              "      <td>claudin-low</td>\n",
              "      <td>1.0</td>\n",
              "      <td>Positve</td>\n",
              "      <td>...</td>\n",
              "      <td>0</td>\n",
              "      <td>0</td>\n",
              "      <td>0</td>\n",
              "      <td>0</td>\n",
              "      <td>0</td>\n",
              "      <td>0</td>\n",
              "      <td>0</td>\n",
              "      <td>0</td>\n",
              "      <td>0</td>\n",
              "      <td>0</td>\n",
              "    </tr>\n",
              "    <tr>\n",
              "      <th>1</th>\n",
              "      <td>2</td>\n",
              "      <td>43.19</td>\n",
              "      <td>BREAST CONSERVING</td>\n",
              "      <td>Breast Cancer</td>\n",
              "      <td>Breast Invasive Ductal Carcinoma</td>\n",
              "      <td>High</td>\n",
              "      <td>0</td>\n",
              "      <td>LumA</td>\n",
              "      <td>1.0</td>\n",
              "      <td>Positve</td>\n",
              "      <td>...</td>\n",
              "      <td>0</td>\n",
              "      <td>0</td>\n",
              "      <td>0</td>\n",
              "      <td>0</td>\n",
              "      <td>0</td>\n",
              "      <td>0</td>\n",
              "      <td>0</td>\n",
              "      <td>0</td>\n",
              "      <td>0</td>\n",
              "      <td>0</td>\n",
              "    </tr>\n",
              "    <tr>\n",
              "      <th>2</th>\n",
              "      <td>5</td>\n",
              "      <td>48.87</td>\n",
              "      <td>MASTECTOMY</td>\n",
              "      <td>Breast Cancer</td>\n",
              "      <td>Breast Invasive Ductal Carcinoma</td>\n",
              "      <td>High</td>\n",
              "      <td>1</td>\n",
              "      <td>LumB</td>\n",
              "      <td>1.0</td>\n",
              "      <td>Positve</td>\n",
              "      <td>...</td>\n",
              "      <td>0</td>\n",
              "      <td>0</td>\n",
              "      <td>0</td>\n",
              "      <td>0</td>\n",
              "      <td>0</td>\n",
              "      <td>0</td>\n",
              "      <td>0</td>\n",
              "      <td>0</td>\n",
              "      <td>0</td>\n",
              "      <td>0</td>\n",
              "    </tr>\n",
              "    <tr>\n",
              "      <th>3</th>\n",
              "      <td>6</td>\n",
              "      <td>47.68</td>\n",
              "      <td>MASTECTOMY</td>\n",
              "      <td>Breast Cancer</td>\n",
              "      <td>Breast Mixed Ductal and Lobular Carcinoma</td>\n",
              "      <td>Moderate</td>\n",
              "      <td>1</td>\n",
              "      <td>LumB</td>\n",
              "      <td>1.0</td>\n",
              "      <td>Positve</td>\n",
              "      <td>...</td>\n",
              "      <td>0</td>\n",
              "      <td>0</td>\n",
              "      <td>0</td>\n",
              "      <td>0</td>\n",
              "      <td>0</td>\n",
              "      <td>0</td>\n",
              "      <td>0</td>\n",
              "      <td>0</td>\n",
              "      <td>0</td>\n",
              "      <td>0</td>\n",
              "    </tr>\n",
              "    <tr>\n",
              "      <th>4</th>\n",
              "      <td>8</td>\n",
              "      <td>76.97</td>\n",
              "      <td>MASTECTOMY</td>\n",
              "      <td>Breast Cancer</td>\n",
              "      <td>Breast Mixed Ductal and Lobular Carcinoma</td>\n",
              "      <td>High</td>\n",
              "      <td>1</td>\n",
              "      <td>LumB</td>\n",
              "      <td>1.0</td>\n",
              "      <td>Positve</td>\n",
              "      <td>...</td>\n",
              "      <td>0</td>\n",
              "      <td>0</td>\n",
              "      <td>0</td>\n",
              "      <td>0</td>\n",
              "      <td>0</td>\n",
              "      <td>0</td>\n",
              "      <td>0</td>\n",
              "      <td>0</td>\n",
              "      <td>0</td>\n",
              "      <td>0</td>\n",
              "    </tr>\n",
              "  </tbody>\n",
              "</table>\n",
              "<p>5 rows × 693 columns</p>\n",
              "</div>"
            ],
            "text/plain": [
              "   patient_id  age_at_diagnosis type_of_breast_surgery    cancer_type  \\\n",
              "0           0             75.65             MASTECTOMY  Breast Cancer   \n",
              "1           2             43.19      BREAST CONSERVING  Breast Cancer   \n",
              "2           5             48.87             MASTECTOMY  Breast Cancer   \n",
              "3           6             47.68             MASTECTOMY  Breast Cancer   \n",
              "4           8             76.97             MASTECTOMY  Breast Cancer   \n",
              "\n",
              "                        cancer_type_detailed cellularity  chemotherapy  \\\n",
              "0           Breast Invasive Ductal Carcinoma         NaN             0   \n",
              "1           Breast Invasive Ductal Carcinoma        High             0   \n",
              "2           Breast Invasive Ductal Carcinoma        High             1   \n",
              "3  Breast Mixed Ductal and Lobular Carcinoma    Moderate             1   \n",
              "4  Breast Mixed Ductal and Lobular Carcinoma        High             1   \n",
              "\n",
              "  pam50_+_claudin-low_subtype  cohort er_status_measured_by_ihc  ... mtap_mut  \\\n",
              "0                 claudin-low     1.0                   Positve  ...        0   \n",
              "1                        LumA     1.0                   Positve  ...        0   \n",
              "2                        LumB     1.0                   Positve  ...        0   \n",
              "3                        LumB     1.0                   Positve  ...        0   \n",
              "4                        LumB     1.0                   Positve  ...        0   \n",
              "\n",
              "   ppp2cb_mut smarcd1_mut nras_mut ndfip1_mut  hras_mut prps2_mut smarcb1_mut  \\\n",
              "0           0           0        0          0         0         0           0   \n",
              "1           0           0        0          0         0         0           0   \n",
              "2           0           0        0          0         0         0           0   \n",
              "3           0           0        0          0         0         0           0   \n",
              "4           0           0        0          0         0         0           0   \n",
              "\n",
              "  stmn2_mut  siah1_mut  \n",
              "0         0          0  \n",
              "1         0          0  \n",
              "2         0          0  \n",
              "3         0          0  \n",
              "4         0          0  \n",
              "\n",
              "[5 rows x 693 columns]"
            ]
          },
          "execution_count": 161,
          "metadata": {},
          "output_type": "execute_result"
        }
      ],
      "source": [
        "# TODO\n",
        "df = pd.read_csv('METABRIC_RNA_Mutation.csv', low_memory=False)\n",
        "df.head(5)"
      ]
    },
    {
      "cell_type": "code",
      "execution_count": 162,
      "id": "3468645e",
      "metadata": {
        "colab": {
          "base_uri": "https://localhost:8080/"
        },
        "id": "3468645e",
        "outputId": "eefa0c60-d8b3-454d-f1a5-fa9d1ba16e40"
      },
      "outputs": [
        {
          "name": "stdout",
          "output_type": "stream",
          "text": [
            "Number of clinical columns 31\n",
            "Number of gene expression columns 489\n",
            "Number of gene mutation columns 173\n"
          ]
        }
      ],
      "source": [
        "# Get column names for clinical, gene expression and gene mutation datasets\n",
        "\n",
        "columns = df.columns\n",
        "clinical_columns = columns[:31]\n",
        "clinical_data_columns = df.columns[:24].append(df.columns[25:30])\n",
        "label_column = columns[24]\n",
        "gene_columns = columns[31:]\n",
        "gene_mut_columns = pd.Index(filter(lambda s: s.endswith('_mut'),columns))\n",
        "gene_expr_columns = pd.Index(set(gene_columns) - set(gene_mut_columns))\n",
        "\n",
        "print(f'Number of clinical columns {len(clinical_columns)}')\n",
        "print(f'Number of gene expression columns {len(gene_expr_columns)}')\n",
        "print(f'Number of gene mutation columns {len(gene_mut_columns)}')"
      ]
    },
    {
      "cell_type": "code",
      "execution_count": 163,
      "id": "7c9ea55a",
      "metadata": {
        "id": "7c9ea55a"
      },
      "outputs": [],
      "source": [
        "clinical_dataset = df[clinical_columns]\n",
        "gene_expr_dataset = df[gene_expr_columns]\n",
        "gene_mut_dataset = df[gene_mut_columns]"
      ]
    },
    {
      "cell_type": "markdown",
      "id": "aebfdb6b",
      "metadata": {
        "id": "aebfdb6b"
      },
      "source": [
        "## EDA"
      ]
    },
    {
      "cell_type": "markdown",
      "id": "e87d59d7",
      "metadata": {
        "id": "e87d59d7"
      },
      "source": [
        "For each dataset, you must perform a sufficient EDA."
      ]
    },
    {
      "cell_type": "code",
      "execution_count": 164,
      "id": "d3815455",
      "metadata": {
        "colab": {
          "base_uri": "https://localhost:8080/"
        },
        "id": "d3815455",
        "outputId": "d5469703-3858-4721-9bd3-8440d1c14727"
      },
      "outputs": [
        {
          "name": "stdout",
          "output_type": "stream",
          "text": [
            "<class 'pandas.core.frame.DataFrame'>\n",
            "RangeIndex: 1904 entries, 0 to 1903\n",
            "Data columns (total 31 columns):\n",
            " #   Column                          Non-Null Count  Dtype  \n",
            "---  ------                          --------------  -----  \n",
            " 0   patient_id                      1904 non-null   int64  \n",
            " 1   age_at_diagnosis                1904 non-null   float64\n",
            " 2   type_of_breast_surgery          1882 non-null   object \n",
            " 3   cancer_type                     1904 non-null   object \n",
            " 4   cancer_type_detailed            1889 non-null   object \n",
            " 5   cellularity                     1850 non-null   object \n",
            " 6   chemotherapy                    1904 non-null   int64  \n",
            " 7   pam50_+_claudin-low_subtype     1904 non-null   object \n",
            " 8   cohort                          1904 non-null   float64\n",
            " 9   er_status_measured_by_ihc       1874 non-null   object \n",
            " 10  er_status                       1904 non-null   object \n",
            " 11  neoplasm_histologic_grade       1832 non-null   float64\n",
            " 12  her2_status_measured_by_snp6    1904 non-null   object \n",
            " 13  her2_status                     1904 non-null   object \n",
            " 14  tumor_other_histologic_subtype  1889 non-null   object \n",
            " 15  hormone_therapy                 1904 non-null   int64  \n",
            " 16  inferred_menopausal_state       1904 non-null   object \n",
            " 17  integrative_cluster             1904 non-null   object \n",
            " 18  primary_tumor_laterality        1798 non-null   object \n",
            " 19  lymph_nodes_examined_positive   1904 non-null   float64\n",
            " 20  mutation_count                  1859 non-null   float64\n",
            " 21  nottingham_prognostic_index     1904 non-null   float64\n",
            " 22  oncotree_code                   1889 non-null   object \n",
            " 23  overall_survival_months         1904 non-null   float64\n",
            " 24  overall_survival                1904 non-null   int64  \n",
            " 25  pr_status                       1904 non-null   object \n",
            " 26  radio_therapy                   1904 non-null   int64  \n",
            " 27  3-gene_classifier_subtype       1700 non-null   object \n",
            " 28  tumor_size                      1884 non-null   float64\n",
            " 29  tumor_stage                     1403 non-null   float64\n",
            " 30  death_from_cancer               1903 non-null   object \n",
            "dtypes: float64(9), int64(5), object(17)\n",
            "memory usage: 461.2+ KB\n"
          ]
        }
      ],
      "source": [
        "clinical_dataset.info()"
      ]
    },
    {
      "cell_type": "code",
      "execution_count": 165,
      "id": "1f838902",
      "metadata": {
        "colab": {
          "base_uri": "https://localhost:8080/",
          "height": 364
        },
        "id": "1f838902",
        "outputId": "27089416-58f1-4075-9e5a-f024a86654b7"
      },
      "outputs": [
        {
          "data": {
            "text/html": [
              "<div>\n",
              "<style scoped>\n",
              "    .dataframe tbody tr th:only-of-type {\n",
              "        vertical-align: middle;\n",
              "    }\n",
              "\n",
              "    .dataframe tbody tr th {\n",
              "        vertical-align: top;\n",
              "    }\n",
              "\n",
              "    .dataframe thead th {\n",
              "        text-align: right;\n",
              "    }\n",
              "</style>\n",
              "<table border=\"1\" class=\"dataframe\">\n",
              "  <thead>\n",
              "    <tr style=\"text-align: right;\">\n",
              "      <th></th>\n",
              "      <th>patient_id</th>\n",
              "      <th>age_at_diagnosis</th>\n",
              "      <th>chemotherapy</th>\n",
              "      <th>cohort</th>\n",
              "      <th>neoplasm_histologic_grade</th>\n",
              "      <th>hormone_therapy</th>\n",
              "      <th>lymph_nodes_examined_positive</th>\n",
              "      <th>mutation_count</th>\n",
              "      <th>nottingham_prognostic_index</th>\n",
              "      <th>overall_survival_months</th>\n",
              "      <th>overall_survival</th>\n",
              "      <th>radio_therapy</th>\n",
              "      <th>tumor_size</th>\n",
              "      <th>tumor_stage</th>\n",
              "    </tr>\n",
              "  </thead>\n",
              "  <tbody>\n",
              "    <tr>\n",
              "      <th>count</th>\n",
              "      <td>1904.000000</td>\n",
              "      <td>1904.000000</td>\n",
              "      <td>1904.000000</td>\n",
              "      <td>1904.000000</td>\n",
              "      <td>1832.000000</td>\n",
              "      <td>1904.000000</td>\n",
              "      <td>1904.000000</td>\n",
              "      <td>1859.000000</td>\n",
              "      <td>1904.000000</td>\n",
              "      <td>1904.000000</td>\n",
              "      <td>1904.000000</td>\n",
              "      <td>1904.000000</td>\n",
              "      <td>1884.000000</td>\n",
              "      <td>1403.000000</td>\n",
              "    </tr>\n",
              "    <tr>\n",
              "      <th>mean</th>\n",
              "      <td>3921.982143</td>\n",
              "      <td>61.087054</td>\n",
              "      <td>0.207983</td>\n",
              "      <td>2.643908</td>\n",
              "      <td>2.415939</td>\n",
              "      <td>0.616597</td>\n",
              "      <td>2.002101</td>\n",
              "      <td>5.697687</td>\n",
              "      <td>4.033019</td>\n",
              "      <td>125.121324</td>\n",
              "      <td>0.420693</td>\n",
              "      <td>0.597164</td>\n",
              "      <td>26.238726</td>\n",
              "      <td>1.750535</td>\n",
              "    </tr>\n",
              "    <tr>\n",
              "      <th>std</th>\n",
              "      <td>2358.478332</td>\n",
              "      <td>12.978711</td>\n",
              "      <td>0.405971</td>\n",
              "      <td>1.228615</td>\n",
              "      <td>0.650612</td>\n",
              "      <td>0.486343</td>\n",
              "      <td>4.079993</td>\n",
              "      <td>4.058778</td>\n",
              "      <td>1.144492</td>\n",
              "      <td>76.334148</td>\n",
              "      <td>0.493800</td>\n",
              "      <td>0.490597</td>\n",
              "      <td>15.160976</td>\n",
              "      <td>0.628999</td>\n",
              "    </tr>\n",
              "    <tr>\n",
              "      <th>min</th>\n",
              "      <td>0.000000</td>\n",
              "      <td>21.930000</td>\n",
              "      <td>0.000000</td>\n",
              "      <td>1.000000</td>\n",
              "      <td>1.000000</td>\n",
              "      <td>0.000000</td>\n",
              "      <td>0.000000</td>\n",
              "      <td>1.000000</td>\n",
              "      <td>1.000000</td>\n",
              "      <td>0.000000</td>\n",
              "      <td>0.000000</td>\n",
              "      <td>0.000000</td>\n",
              "      <td>1.000000</td>\n",
              "      <td>0.000000</td>\n",
              "    </tr>\n",
              "    <tr>\n",
              "      <th>25%</th>\n",
              "      <td>896.500000</td>\n",
              "      <td>51.375000</td>\n",
              "      <td>0.000000</td>\n",
              "      <td>1.000000</td>\n",
              "      <td>2.000000</td>\n",
              "      <td>0.000000</td>\n",
              "      <td>0.000000</td>\n",
              "      <td>3.000000</td>\n",
              "      <td>3.046000</td>\n",
              "      <td>60.825000</td>\n",
              "      <td>0.000000</td>\n",
              "      <td>0.000000</td>\n",
              "      <td>17.000000</td>\n",
              "      <td>1.000000</td>\n",
              "    </tr>\n",
              "    <tr>\n",
              "      <th>50%</th>\n",
              "      <td>4730.500000</td>\n",
              "      <td>61.770000</td>\n",
              "      <td>0.000000</td>\n",
              "      <td>3.000000</td>\n",
              "      <td>3.000000</td>\n",
              "      <td>1.000000</td>\n",
              "      <td>0.000000</td>\n",
              "      <td>5.000000</td>\n",
              "      <td>4.042000</td>\n",
              "      <td>115.616667</td>\n",
              "      <td>0.000000</td>\n",
              "      <td>1.000000</td>\n",
              "      <td>23.000000</td>\n",
              "      <td>2.000000</td>\n",
              "    </tr>\n",
              "    <tr>\n",
              "      <th>75%</th>\n",
              "      <td>5536.250000</td>\n",
              "      <td>70.592500</td>\n",
              "      <td>0.000000</td>\n",
              "      <td>3.000000</td>\n",
              "      <td>3.000000</td>\n",
              "      <td>1.000000</td>\n",
              "      <td>2.000000</td>\n",
              "      <td>7.000000</td>\n",
              "      <td>5.040250</td>\n",
              "      <td>184.716667</td>\n",
              "      <td>1.000000</td>\n",
              "      <td>1.000000</td>\n",
              "      <td>30.000000</td>\n",
              "      <td>2.000000</td>\n",
              "    </tr>\n",
              "    <tr>\n",
              "      <th>max</th>\n",
              "      <td>7299.000000</td>\n",
              "      <td>96.290000</td>\n",
              "      <td>1.000000</td>\n",
              "      <td>5.000000</td>\n",
              "      <td>3.000000</td>\n",
              "      <td>1.000000</td>\n",
              "      <td>45.000000</td>\n",
              "      <td>80.000000</td>\n",
              "      <td>6.360000</td>\n",
              "      <td>355.200000</td>\n",
              "      <td>1.000000</td>\n",
              "      <td>1.000000</td>\n",
              "      <td>182.000000</td>\n",
              "      <td>4.000000</td>\n",
              "    </tr>\n",
              "  </tbody>\n",
              "</table>\n",
              "</div>"
            ],
            "text/plain": [
              "        patient_id  age_at_diagnosis  chemotherapy       cohort  \\\n",
              "count  1904.000000       1904.000000   1904.000000  1904.000000   \n",
              "mean   3921.982143         61.087054      0.207983     2.643908   \n",
              "std    2358.478332         12.978711      0.405971     1.228615   \n",
              "min       0.000000         21.930000      0.000000     1.000000   \n",
              "25%     896.500000         51.375000      0.000000     1.000000   \n",
              "50%    4730.500000         61.770000      0.000000     3.000000   \n",
              "75%    5536.250000         70.592500      0.000000     3.000000   \n",
              "max    7299.000000         96.290000      1.000000     5.000000   \n",
              "\n",
              "       neoplasm_histologic_grade  hormone_therapy  \\\n",
              "count                1832.000000      1904.000000   \n",
              "mean                    2.415939         0.616597   \n",
              "std                     0.650612         0.486343   \n",
              "min                     1.000000         0.000000   \n",
              "25%                     2.000000         0.000000   \n",
              "50%                     3.000000         1.000000   \n",
              "75%                     3.000000         1.000000   \n",
              "max                     3.000000         1.000000   \n",
              "\n",
              "       lymph_nodes_examined_positive  mutation_count  \\\n",
              "count                    1904.000000     1859.000000   \n",
              "mean                        2.002101        5.697687   \n",
              "std                         4.079993        4.058778   \n",
              "min                         0.000000        1.000000   \n",
              "25%                         0.000000        3.000000   \n",
              "50%                         0.000000        5.000000   \n",
              "75%                         2.000000        7.000000   \n",
              "max                        45.000000       80.000000   \n",
              "\n",
              "       nottingham_prognostic_index  overall_survival_months  overall_survival  \\\n",
              "count                  1904.000000              1904.000000       1904.000000   \n",
              "mean                      4.033019               125.121324          0.420693   \n",
              "std                       1.144492                76.334148          0.493800   \n",
              "min                       1.000000                 0.000000          0.000000   \n",
              "25%                       3.046000                60.825000          0.000000   \n",
              "50%                       4.042000               115.616667          0.000000   \n",
              "75%                       5.040250               184.716667          1.000000   \n",
              "max                       6.360000               355.200000          1.000000   \n",
              "\n",
              "       radio_therapy   tumor_size  tumor_stage  \n",
              "count    1904.000000  1884.000000  1403.000000  \n",
              "mean        0.597164    26.238726     1.750535  \n",
              "std         0.490597    15.160976     0.628999  \n",
              "min         0.000000     1.000000     0.000000  \n",
              "25%         0.000000    17.000000     1.000000  \n",
              "50%         1.000000    23.000000     2.000000  \n",
              "75%         1.000000    30.000000     2.000000  \n",
              "max         1.000000   182.000000     4.000000  "
            ]
          },
          "execution_count": 165,
          "metadata": {},
          "output_type": "execute_result"
        }
      ],
      "source": [
        "clinical_dataset.describe()"
      ]
    },
    {
      "cell_type": "code",
      "execution_count": 166,
      "id": "539e4ddf",
      "metadata": {
        "colab": {
          "base_uri": "https://localhost:8080/"
        },
        "id": "539e4ddf",
        "outputId": "bcdec4fc-5f21-4cb7-b6bf-841f76bd33e8"
      },
      "outputs": [
        {
          "name": "stdout",
          "output_type": "stream",
          "text": [
            "<class 'pandas.core.frame.DataFrame'>\n",
            "RangeIndex: 1904 entries, 0 to 1903\n",
            "Columns: 489 entries, peg3 to brca1\n",
            "dtypes: float64(489)\n",
            "memory usage: 7.1 MB\n"
          ]
        }
      ],
      "source": [
        "gene_expr_dataset.info()"
      ]
    },
    {
      "cell_type": "code",
      "execution_count": 167,
      "id": "9a290365",
      "metadata": {
        "colab": {
          "base_uri": "https://localhost:8080/",
          "height": 394
        },
        "id": "9a290365",
        "outputId": "3010c27f-ca55-4194-a387-e3f97a4a4fd8"
      },
      "outputs": [
        {
          "data": {
            "text/html": [
              "<div>\n",
              "<style scoped>\n",
              "    .dataframe tbody tr th:only-of-type {\n",
              "        vertical-align: middle;\n",
              "    }\n",
              "\n",
              "    .dataframe tbody tr th {\n",
              "        vertical-align: top;\n",
              "    }\n",
              "\n",
              "    .dataframe thead th {\n",
              "        text-align: right;\n",
              "    }\n",
              "</style>\n",
              "<table border=\"1\" class=\"dataframe\">\n",
              "  <thead>\n",
              "    <tr style=\"text-align: right;\">\n",
              "      <th></th>\n",
              "      <th>peg3</th>\n",
              "      <th>tubb4b</th>\n",
              "      <th>tbl1xr1</th>\n",
              "      <th>cdk6</th>\n",
              "      <th>fanca</th>\n",
              "      <th>rassf1</th>\n",
              "      <th>epcam</th>\n",
              "      <th>tp53bp1</th>\n",
              "      <th>tgfb1</th>\n",
              "      <th>dtx2</th>\n",
              "      <th>...</th>\n",
              "      <th>rasgef1b</th>\n",
              "      <th>vegfa</th>\n",
              "      <th>eif4ebp1</th>\n",
              "      <th>hsd3b2</th>\n",
              "      <th>prkg1</th>\n",
              "      <th>bmp2</th>\n",
              "      <th>folr1</th>\n",
              "      <th>akr1c2</th>\n",
              "      <th>map2</th>\n",
              "      <th>brca1</th>\n",
              "    </tr>\n",
              "  </thead>\n",
              "  <tbody>\n",
              "    <tr>\n",
              "      <th>count</th>\n",
              "      <td>1.904000e+03</td>\n",
              "      <td>1.904000e+03</td>\n",
              "      <td>1.904000e+03</td>\n",
              "      <td>1.904000e+03</td>\n",
              "      <td>1.904000e+03</td>\n",
              "      <td>1.904000e+03</td>\n",
              "      <td>1.904000e+03</td>\n",
              "      <td>1.904000e+03</td>\n",
              "      <td>1.904000e+03</td>\n",
              "      <td>1904.000000</td>\n",
              "      <td>...</td>\n",
              "      <td>1.904000e+03</td>\n",
              "      <td>1.904000e+03</td>\n",
              "      <td>1.904000e+03</td>\n",
              "      <td>1.904000e+03</td>\n",
              "      <td>1.904000e+03</td>\n",
              "      <td>1.904000e+03</td>\n",
              "      <td>1.904000e+03</td>\n",
              "      <td>1.904000e+03</td>\n",
              "      <td>1.904000e+03</td>\n",
              "      <td>1.904000e+03</td>\n",
              "    </tr>\n",
              "    <tr>\n",
              "      <th>mean</th>\n",
              "      <td>-4.726891e-07</td>\n",
              "      <td>-1.050420e-07</td>\n",
              "      <td>-3.676471e-07</td>\n",
              "      <td>6.302521e-07</td>\n",
              "      <td>4.201681e-07</td>\n",
              "      <td>-3.151261e-07</td>\n",
              "      <td>1.492737e-17</td>\n",
              "      <td>8.928571e-07</td>\n",
              "      <td>-2.626050e-07</td>\n",
              "      <td>-0.000001</td>\n",
              "      <td>...</td>\n",
              "      <td>-5.252101e-07</td>\n",
              "      <td>5.252101e-07</td>\n",
              "      <td>-4.201681e-07</td>\n",
              "      <td>1.050420e-07</td>\n",
              "      <td>1.050420e-07</td>\n",
              "      <td>6.302521e-07</td>\n",
              "      <td>-9.978992e-07</td>\n",
              "      <td>4.726891e-07</td>\n",
              "      <td>-6.827731e-07</td>\n",
              "      <td>-6.302521e-07</td>\n",
              "    </tr>\n",
              "    <tr>\n",
              "      <th>std</th>\n",
              "      <td>1.000264e+00</td>\n",
              "      <td>1.000263e+00</td>\n",
              "      <td>1.000263e+00</td>\n",
              "      <td>1.000263e+00</td>\n",
              "      <td>1.000262e+00</td>\n",
              "      <td>1.000264e+00</td>\n",
              "      <td>1.000263e+00</td>\n",
              "      <td>1.000262e+00</td>\n",
              "      <td>1.000262e+00</td>\n",
              "      <td>1.000262</td>\n",
              "      <td>...</td>\n",
              "      <td>1.000263e+00</td>\n",
              "      <td>1.000263e+00</td>\n",
              "      <td>1.000263e+00</td>\n",
              "      <td>1.000262e+00</td>\n",
              "      <td>1.000263e+00</td>\n",
              "      <td>1.000262e+00</td>\n",
              "      <td>1.000263e+00</td>\n",
              "      <td>1.000263e+00</td>\n",
              "      <td>1.000263e+00</td>\n",
              "      <td>1.000262e+00</td>\n",
              "    </tr>\n",
              "    <tr>\n",
              "      <th>min</th>\n",
              "      <td>-1.464100e+00</td>\n",
              "      <td>-3.667700e+00</td>\n",
              "      <td>-3.897100e+00</td>\n",
              "      <td>-2.278400e+00</td>\n",
              "      <td>-3.873400e+00</td>\n",
              "      <td>-2.756700e+00</td>\n",
              "      <td>-2.165900e+00</td>\n",
              "      <td>-3.852700e+00</td>\n",
              "      <td>-3.812600e+00</td>\n",
              "      <td>-4.502600</td>\n",
              "      <td>...</td>\n",
              "      <td>-4.132600e+00</td>\n",
              "      <td>-1.934400e+00</td>\n",
              "      <td>-1.811200e+00</td>\n",
              "      <td>-3.820900e+00</td>\n",
              "      <td>-4.039200e+00</td>\n",
              "      <td>-1.571300e+00</td>\n",
              "      <td>-1.150500e+00</td>\n",
              "      <td>-1.467500e+00</td>\n",
              "      <td>-1.801200e+00</td>\n",
              "      <td>-2.444400e+00</td>\n",
              "    </tr>\n",
              "    <tr>\n",
              "      <th>25%</th>\n",
              "      <td>-7.087250e-01</td>\n",
              "      <td>-6.646250e-01</td>\n",
              "      <td>-6.138500e-01</td>\n",
              "      <td>-6.680750e-01</td>\n",
              "      <td>-6.873250e-01</td>\n",
              "      <td>-6.983500e-01</td>\n",
              "      <td>-6.860000e-01</td>\n",
              "      <td>-6.718750e-01</td>\n",
              "      <td>-6.600000e-01</td>\n",
              "      <td>-0.683300</td>\n",
              "      <td>...</td>\n",
              "      <td>-6.552250e-01</td>\n",
              "      <td>-6.937500e-01</td>\n",
              "      <td>-6.632500e-01</td>\n",
              "      <td>-6.573000e-01</td>\n",
              "      <td>-6.861500e-01</td>\n",
              "      <td>-5.201500e-01</td>\n",
              "      <td>-6.967250e-01</td>\n",
              "      <td>-7.351500e-01</td>\n",
              "      <td>-5.506000e-01</td>\n",
              "      <td>-7.198500e-01</td>\n",
              "    </tr>\n",
              "    <tr>\n",
              "      <th>50%</th>\n",
              "      <td>-2.802000e-01</td>\n",
              "      <td>-2.600000e-03</td>\n",
              "      <td>-7.585000e-02</td>\n",
              "      <td>-1.958000e-01</td>\n",
              "      <td>2.200000e-03</td>\n",
              "      <td>-7.700000e-02</td>\n",
              "      <td>-1.494500e-01</td>\n",
              "      <td>1.315000e-02</td>\n",
              "      <td>1.440000e-02</td>\n",
              "      <td>-0.097000</td>\n",
              "      <td>...</td>\n",
              "      <td>-9.600000e-03</td>\n",
              "      <td>-1.639000e-01</td>\n",
              "      <td>-2.543500e-01</td>\n",
              "      <td>-1.145000e-02</td>\n",
              "      <td>-5.055000e-02</td>\n",
              "      <td>-2.013500e-01</td>\n",
              "      <td>-4.091000e-01</td>\n",
              "      <td>-1.955500e-01</td>\n",
              "      <td>-2.434000e-01</td>\n",
              "      <td>-1.244500e-01</td>\n",
              "    </tr>\n",
              "    <tr>\n",
              "      <th>75%</th>\n",
              "      <td>4.066250e-01</td>\n",
              "      <td>6.491250e-01</td>\n",
              "      <td>5.130500e-01</td>\n",
              "      <td>4.241000e-01</td>\n",
              "      <td>6.179500e-01</td>\n",
              "      <td>6.200000e-01</td>\n",
              "      <td>5.255000e-01</td>\n",
              "      <td>6.924750e-01</td>\n",
              "      <td>6.339250e-01</td>\n",
              "      <td>0.555800</td>\n",
              "      <td>...</td>\n",
              "      <td>6.355750e-01</td>\n",
              "      <td>5.131250e-01</td>\n",
              "      <td>3.648500e-01</td>\n",
              "      <td>6.380750e-01</td>\n",
              "      <td>6.064500e-01</td>\n",
              "      <td>2.314250e-01</td>\n",
              "      <td>3.300500e-01</td>\n",
              "      <td>5.003500e-01</td>\n",
              "      <td>2.167000e-01</td>\n",
              "      <td>5.532250e-01</td>\n",
              "    </tr>\n",
              "    <tr>\n",
              "      <th>max</th>\n",
              "      <td>5.004300e+00</td>\n",
              "      <td>5.271600e+00</td>\n",
              "      <td>7.064900e+00</td>\n",
              "      <td>7.380700e+00</td>\n",
              "      <td>4.573600e+00</td>\n",
              "      <td>4.517100e+00</td>\n",
              "      <td>6.953900e+00</td>\n",
              "      <td>4.534900e+00</td>\n",
              "      <td>4.610500e+00</td>\n",
              "      <td>4.039700</td>\n",
              "      <td>...</td>\n",
              "      <td>4.182200e+00</td>\n",
              "      <td>5.131900e+00</td>\n",
              "      <td>7.403600e+00</td>\n",
              "      <td>8.560800e+00</td>\n",
              "      <td>5.169200e+00</td>\n",
              "      <td>1.154290e+01</td>\n",
              "      <td>4.441700e+00</td>\n",
              "      <td>4.417200e+00</td>\n",
              "      <td>6.900500e+00</td>\n",
              "      <td>4.554200e+00</td>\n",
              "    </tr>\n",
              "  </tbody>\n",
              "</table>\n",
              "<p>8 rows × 489 columns</p>\n",
              "</div>"
            ],
            "text/plain": [
              "               peg3        tubb4b       tbl1xr1          cdk6         fanca  \\\n",
              "count  1.904000e+03  1.904000e+03  1.904000e+03  1.904000e+03  1.904000e+03   \n",
              "mean  -4.726891e-07 -1.050420e-07 -3.676471e-07  6.302521e-07  4.201681e-07   \n",
              "std    1.000264e+00  1.000263e+00  1.000263e+00  1.000263e+00  1.000262e+00   \n",
              "min   -1.464100e+00 -3.667700e+00 -3.897100e+00 -2.278400e+00 -3.873400e+00   \n",
              "25%   -7.087250e-01 -6.646250e-01 -6.138500e-01 -6.680750e-01 -6.873250e-01   \n",
              "50%   -2.802000e-01 -2.600000e-03 -7.585000e-02 -1.958000e-01  2.200000e-03   \n",
              "75%    4.066250e-01  6.491250e-01  5.130500e-01  4.241000e-01  6.179500e-01   \n",
              "max    5.004300e+00  5.271600e+00  7.064900e+00  7.380700e+00  4.573600e+00   \n",
              "\n",
              "             rassf1         epcam       tp53bp1         tgfb1         dtx2  \\\n",
              "count  1.904000e+03  1.904000e+03  1.904000e+03  1.904000e+03  1904.000000   \n",
              "mean  -3.151261e-07  1.492737e-17  8.928571e-07 -2.626050e-07    -0.000001   \n",
              "std    1.000264e+00  1.000263e+00  1.000262e+00  1.000262e+00     1.000262   \n",
              "min   -2.756700e+00 -2.165900e+00 -3.852700e+00 -3.812600e+00    -4.502600   \n",
              "25%   -6.983500e-01 -6.860000e-01 -6.718750e-01 -6.600000e-01    -0.683300   \n",
              "50%   -7.700000e-02 -1.494500e-01  1.315000e-02  1.440000e-02    -0.097000   \n",
              "75%    6.200000e-01  5.255000e-01  6.924750e-01  6.339250e-01     0.555800   \n",
              "max    4.517100e+00  6.953900e+00  4.534900e+00  4.610500e+00     4.039700   \n",
              "\n",
              "       ...      rasgef1b         vegfa      eif4ebp1        hsd3b2  \\\n",
              "count  ...  1.904000e+03  1.904000e+03  1.904000e+03  1.904000e+03   \n",
              "mean   ... -5.252101e-07  5.252101e-07 -4.201681e-07  1.050420e-07   \n",
              "std    ...  1.000263e+00  1.000263e+00  1.000263e+00  1.000262e+00   \n",
              "min    ... -4.132600e+00 -1.934400e+00 -1.811200e+00 -3.820900e+00   \n",
              "25%    ... -6.552250e-01 -6.937500e-01 -6.632500e-01 -6.573000e-01   \n",
              "50%    ... -9.600000e-03 -1.639000e-01 -2.543500e-01 -1.145000e-02   \n",
              "75%    ...  6.355750e-01  5.131250e-01  3.648500e-01  6.380750e-01   \n",
              "max    ...  4.182200e+00  5.131900e+00  7.403600e+00  8.560800e+00   \n",
              "\n",
              "              prkg1          bmp2         folr1        akr1c2          map2  \\\n",
              "count  1.904000e+03  1.904000e+03  1.904000e+03  1.904000e+03  1.904000e+03   \n",
              "mean   1.050420e-07  6.302521e-07 -9.978992e-07  4.726891e-07 -6.827731e-07   \n",
              "std    1.000263e+00  1.000262e+00  1.000263e+00  1.000263e+00  1.000263e+00   \n",
              "min   -4.039200e+00 -1.571300e+00 -1.150500e+00 -1.467500e+00 -1.801200e+00   \n",
              "25%   -6.861500e-01 -5.201500e-01 -6.967250e-01 -7.351500e-01 -5.506000e-01   \n",
              "50%   -5.055000e-02 -2.013500e-01 -4.091000e-01 -1.955500e-01 -2.434000e-01   \n",
              "75%    6.064500e-01  2.314250e-01  3.300500e-01  5.003500e-01  2.167000e-01   \n",
              "max    5.169200e+00  1.154290e+01  4.441700e+00  4.417200e+00  6.900500e+00   \n",
              "\n",
              "              brca1  \n",
              "count  1.904000e+03  \n",
              "mean  -6.302521e-07  \n",
              "std    1.000262e+00  \n",
              "min   -2.444400e+00  \n",
              "25%   -7.198500e-01  \n",
              "50%   -1.244500e-01  \n",
              "75%    5.532250e-01  \n",
              "max    4.554200e+00  \n",
              "\n",
              "[8 rows x 489 columns]"
            ]
          },
          "execution_count": 167,
          "metadata": {},
          "output_type": "execute_result"
        }
      ],
      "source": [
        "gene_expr_dataset.describe()"
      ]
    },
    {
      "cell_type": "code",
      "execution_count": 168,
      "id": "8a055385",
      "metadata": {
        "colab": {
          "base_uri": "https://localhost:8080/"
        },
        "id": "8a055385",
        "outputId": "fbc09f2e-3a60-4302-ba09-0659a3192c20"
      },
      "outputs": [
        {
          "name": "stdout",
          "output_type": "stream",
          "text": [
            "<class 'pandas.core.frame.DataFrame'>\n",
            "RangeIndex: 1904 entries, 0 to 1903\n",
            "Columns: 173 entries, pik3ca_mut to siah1_mut\n",
            "dtypes: object(173)\n",
            "memory usage: 2.5+ MB\n"
          ]
        }
      ],
      "source": [
        "gene_mut_dataset.info()"
      ]
    },
    {
      "cell_type": "code",
      "execution_count": 169,
      "id": "0336013c",
      "metadata": {
        "colab": {
          "base_uri": "https://localhost:8080/",
          "height": 268
        },
        "id": "0336013c",
        "outputId": "8c4bb461-60ef-44f5-efd5-c2ccc9bce0f4"
      },
      "outputs": [
        {
          "data": {
            "text/html": [
              "<div>\n",
              "<style scoped>\n",
              "    .dataframe tbody tr th:only-of-type {\n",
              "        vertical-align: middle;\n",
              "    }\n",
              "\n",
              "    .dataframe tbody tr th {\n",
              "        vertical-align: top;\n",
              "    }\n",
              "\n",
              "    .dataframe thead th {\n",
              "        text-align: right;\n",
              "    }\n",
              "</style>\n",
              "<table border=\"1\" class=\"dataframe\">\n",
              "  <thead>\n",
              "    <tr style=\"text-align: right;\">\n",
              "      <th></th>\n",
              "      <th>pik3ca_mut</th>\n",
              "      <th>tp53_mut</th>\n",
              "      <th>muc16_mut</th>\n",
              "      <th>ahnak2_mut</th>\n",
              "      <th>kmt2c_mut</th>\n",
              "      <th>syne1_mut</th>\n",
              "      <th>gata3_mut</th>\n",
              "      <th>map3k1_mut</th>\n",
              "      <th>ahnak_mut</th>\n",
              "      <th>dnah11_mut</th>\n",
              "      <th>...</th>\n",
              "      <th>mtap_mut</th>\n",
              "      <th>ppp2cb_mut</th>\n",
              "      <th>smarcd1_mut</th>\n",
              "      <th>nras_mut</th>\n",
              "      <th>ndfip1_mut</th>\n",
              "      <th>hras_mut</th>\n",
              "      <th>prps2_mut</th>\n",
              "      <th>smarcb1_mut</th>\n",
              "      <th>stmn2_mut</th>\n",
              "      <th>siah1_mut</th>\n",
              "    </tr>\n",
              "  </thead>\n",
              "  <tbody>\n",
              "    <tr>\n",
              "      <th>count</th>\n",
              "      <td>1904</td>\n",
              "      <td>1904</td>\n",
              "      <td>1904</td>\n",
              "      <td>1904</td>\n",
              "      <td>1904</td>\n",
              "      <td>1904</td>\n",
              "      <td>1904</td>\n",
              "      <td>1904</td>\n",
              "      <td>1904</td>\n",
              "      <td>1904</td>\n",
              "      <td>...</td>\n",
              "      <td>1904</td>\n",
              "      <td>1904</td>\n",
              "      <td>1904</td>\n",
              "      <td>1904</td>\n",
              "      <td>1904</td>\n",
              "      <td>1904</td>\n",
              "      <td>1904</td>\n",
              "      <td>1904</td>\n",
              "      <td>1904</td>\n",
              "      <td>1904</td>\n",
              "    </tr>\n",
              "    <tr>\n",
              "      <th>unique</th>\n",
              "      <td>160</td>\n",
              "      <td>343</td>\n",
              "      <td>298</td>\n",
              "      <td>248</td>\n",
              "      <td>222</td>\n",
              "      <td>200</td>\n",
              "      <td>128</td>\n",
              "      <td>194</td>\n",
              "      <td>153</td>\n",
              "      <td>154</td>\n",
              "      <td>...</td>\n",
              "      <td>5</td>\n",
              "      <td>5</td>\n",
              "      <td>5</td>\n",
              "      <td>4</td>\n",
              "      <td>4</td>\n",
              "      <td>3</td>\n",
              "      <td>3</td>\n",
              "      <td>3</td>\n",
              "      <td>3</td>\n",
              "      <td>2</td>\n",
              "    </tr>\n",
              "    <tr>\n",
              "      <th>top</th>\n",
              "      <td>0</td>\n",
              "      <td>0</td>\n",
              "      <td>0</td>\n",
              "      <td>0</td>\n",
              "      <td>0</td>\n",
              "      <td>0</td>\n",
              "      <td>0</td>\n",
              "      <td>0</td>\n",
              "      <td>0</td>\n",
              "      <td>0</td>\n",
              "      <td>...</td>\n",
              "      <td>0</td>\n",
              "      <td>0</td>\n",
              "      <td>0</td>\n",
              "      <td>0</td>\n",
              "      <td>0</td>\n",
              "      <td>0</td>\n",
              "      <td>0</td>\n",
              "      <td>0</td>\n",
              "      <td>0</td>\n",
              "      <td>0</td>\n",
              "    </tr>\n",
              "    <tr>\n",
              "      <th>freq</th>\n",
              "      <td>1109</td>\n",
              "      <td>1245</td>\n",
              "      <td>1578</td>\n",
              "      <td>1593</td>\n",
              "      <td>1670</td>\n",
              "      <td>1672</td>\n",
              "      <td>1674</td>\n",
              "      <td>1706</td>\n",
              "      <td>1728</td>\n",
              "      <td>1729</td>\n",
              "      <td>...</td>\n",
              "      <td>1900</td>\n",
              "      <td>1900</td>\n",
              "      <td>1900</td>\n",
              "      <td>1901</td>\n",
              "      <td>1901</td>\n",
              "      <td>1902</td>\n",
              "      <td>1902</td>\n",
              "      <td>1902</td>\n",
              "      <td>1902</td>\n",
              "      <td>1903</td>\n",
              "    </tr>\n",
              "  </tbody>\n",
              "</table>\n",
              "<p>4 rows × 173 columns</p>\n",
              "</div>"
            ],
            "text/plain": [
              "       pik3ca_mut tp53_mut muc16_mut ahnak2_mut kmt2c_mut syne1_mut gata3_mut  \\\n",
              "count        1904     1904      1904       1904      1904      1904      1904   \n",
              "unique        160      343       298        248       222       200       128   \n",
              "top             0        0         0          0         0         0         0   \n",
              "freq         1109     1245      1578       1593      1670      1672      1674   \n",
              "\n",
              "       map3k1_mut ahnak_mut dnah11_mut  ... mtap_mut ppp2cb_mut smarcd1_mut  \\\n",
              "count        1904      1904       1904  ...     1904       1904        1904   \n",
              "unique        194       153        154  ...        5          5           5   \n",
              "top             0         0          0  ...        0          0           0   \n",
              "freq         1706      1728       1729  ...     1900       1900        1900   \n",
              "\n",
              "       nras_mut ndfip1_mut hras_mut prps2_mut smarcb1_mut stmn2_mut siah1_mut  \n",
              "count      1904       1904     1904      1904        1904      1904      1904  \n",
              "unique        4          4        3         3           3         3         2  \n",
              "top           0          0        0         0           0         0         0  \n",
              "freq       1901       1901     1902      1902        1902      1902      1903  \n",
              "\n",
              "[4 rows x 173 columns]"
            ]
          },
          "execution_count": 169,
          "metadata": {},
          "output_type": "execute_result"
        }
      ],
      "source": [
        "gene_mut_dataset.describe()"
      ]
    },
    {
      "cell_type": "code",
      "execution_count": 170,
      "id": "3fc5a137",
      "metadata": {
        "colab": {
          "base_uri": "https://localhost:8080/"
        },
        "id": "3fc5a137",
        "outputId": "750bf9b4-9a35-4fa3-f86c-6bf03a929c56"
      },
      "outputs": [
        {
          "name": "stdout",
          "output_type": "stream",
          "text": [
            "Clinical dataset clean data: 1092\n",
            "Gene expression dataset clean data: 1904\n",
            "Gene mutation dataset clean data: 1904\n"
          ]
        }
      ],
      "source": [
        "# clean data means data with no NaN value in any column\n",
        "def clean_stats(ds):\n",
        "    return '''clean data: {0}'''.format(ds.shape[0] - ds.isnull().any(axis=1).sum())\n",
        "\n",
        "print(f'Clinical dataset {clean_stats(clinical_dataset)}')\n",
        "print(f'Gene expression dataset {clean_stats(gene_expr_dataset)}')\n",
        "print(f'Gene mutation dataset {clean_stats(gene_mut_dataset)}')"
      ]
    },
    {
      "cell_type": "code",
      "execution_count": 171,
      "id": "0f730892",
      "metadata": {
        "colab": {
          "base_uri": "https://localhost:8080/"
        },
        "id": "0f730892",
        "outputId": "42b12e02-832c-4bf8-ebf9-3635c298918f"
      },
      "outputs": [
        {
          "data": {
            "text/plain": [
              "patient_id                          int64\n",
              "age_at_diagnosis                  float64\n",
              "type_of_breast_surgery             object\n",
              "cancer_type                        object\n",
              "cancer_type_detailed               object\n",
              "cellularity                        object\n",
              "chemotherapy                        int64\n",
              "pam50_+_claudin-low_subtype        object\n",
              "cohort                            float64\n",
              "er_status_measured_by_ihc          object\n",
              "er_status                          object\n",
              "neoplasm_histologic_grade         float64\n",
              "her2_status_measured_by_snp6       object\n",
              "her2_status                        object\n",
              "tumor_other_histologic_subtype     object\n",
              "hormone_therapy                     int64\n",
              "inferred_menopausal_state          object\n",
              "integrative_cluster                object\n",
              "primary_tumor_laterality           object\n",
              "lymph_nodes_examined_positive     float64\n",
              "mutation_count                    float64\n",
              "nottingham_prognostic_index       float64\n",
              "oncotree_code                      object\n",
              "overall_survival_months           float64\n",
              "overall_survival                    int64\n",
              "pr_status                          object\n",
              "radio_therapy                       int64\n",
              "3-gene_classifier_subtype          object\n",
              "tumor_size                        float64\n",
              "tumor_stage                       float64\n",
              "death_from_cancer                  object\n",
              "dtype: object"
            ]
          },
          "execution_count": 171,
          "metadata": {},
          "output_type": "execute_result"
        }
      ],
      "source": [
        "clinical_dataset.dtypes"
      ]
    },
    {
      "cell_type": "code",
      "execution_count": 172,
      "id": "935fefb0",
      "metadata": {
        "colab": {
          "base_uri": "https://localhost:8080/"
        },
        "id": "935fefb0",
        "outputId": "f1698807-76f3-4df7-cbef-8b7a9f49b603"
      },
      "outputs": [
        {
          "name": "stdout",
          "output_type": "stream",
          "text": [
            "Clinical dataset: \n",
            "    columns: 31, object columns: 17, int columns: 5, float columns: 9\n",
            "    \n",
            "Gene expression dataset: \n",
            "    columns: 489, object columns: 0, int columns: 0, float columns: 489\n",
            "    \n",
            "Gene mutation dataset: \n",
            "    columns: 173, object columns: 173, int columns: 0, float columns: 0\n",
            "    \n"
          ]
        }
      ],
      "source": [
        "def dtype_stats(ds):\n",
        "    return '''\n",
        "    columns: {0}, object columns: {1}, int columns: {2}, float columns: {3}\n",
        "    '''.format(len(ds.columns),\n",
        "               (ds.dtypes == 'object').sum(),\n",
        "               (ds.dtypes == 'int64').sum(),\n",
        "               (ds.dtypes == 'float64').sum())\n",
        "\n",
        "print(f'Clinical dataset: {dtype_stats(clinical_dataset)}')\n",
        "print(f'Gene expression dataset: {dtype_stats(gene_expr_dataset)}')\n",
        "print(f'Gene mutation dataset: {dtype_stats(gene_mut_dataset)}')"
      ]
    },
    {
      "cell_type": "code",
      "execution_count": 173,
      "id": "70dfb89d",
      "metadata": {
        "colab": {
          "base_uri": "https://localhost:8080/",
          "height": 206
        },
        "id": "70dfb89d",
        "outputId": "bb64426b-b8db-4bd1-8cf3-b26d71b7439a"
      },
      "outputs": [
        {
          "data": {
            "text/html": [
              "<div>\n",
              "<style scoped>\n",
              "    .dataframe tbody tr th:only-of-type {\n",
              "        vertical-align: middle;\n",
              "    }\n",
              "\n",
              "    .dataframe tbody tr th {\n",
              "        vertical-align: top;\n",
              "    }\n",
              "\n",
              "    .dataframe thead th {\n",
              "        text-align: right;\n",
              "    }\n",
              "</style>\n",
              "<table border=\"1\" class=\"dataframe\">\n",
              "  <thead>\n",
              "    <tr style=\"text-align: right;\">\n",
              "      <th></th>\n",
              "      <th>patient_id</th>\n",
              "      <th>chemotherapy</th>\n",
              "      <th>hormone_therapy</th>\n",
              "      <th>overall_survival</th>\n",
              "      <th>radio_therapy</th>\n",
              "    </tr>\n",
              "  </thead>\n",
              "  <tbody>\n",
              "    <tr>\n",
              "      <th>0</th>\n",
              "      <td>0</td>\n",
              "      <td>0</td>\n",
              "      <td>1</td>\n",
              "      <td>1</td>\n",
              "      <td>1</td>\n",
              "    </tr>\n",
              "    <tr>\n",
              "      <th>1</th>\n",
              "      <td>2</td>\n",
              "      <td>0</td>\n",
              "      <td>1</td>\n",
              "      <td>1</td>\n",
              "      <td>1</td>\n",
              "    </tr>\n",
              "    <tr>\n",
              "      <th>2</th>\n",
              "      <td>5</td>\n",
              "      <td>1</td>\n",
              "      <td>1</td>\n",
              "      <td>0</td>\n",
              "      <td>0</td>\n",
              "    </tr>\n",
              "    <tr>\n",
              "      <th>3</th>\n",
              "      <td>6</td>\n",
              "      <td>1</td>\n",
              "      <td>1</td>\n",
              "      <td>1</td>\n",
              "      <td>1</td>\n",
              "    </tr>\n",
              "    <tr>\n",
              "      <th>4</th>\n",
              "      <td>8</td>\n",
              "      <td>1</td>\n",
              "      <td>1</td>\n",
              "      <td>0</td>\n",
              "      <td>1</td>\n",
              "    </tr>\n",
              "  </tbody>\n",
              "</table>\n",
              "</div>"
            ],
            "text/plain": [
              "   patient_id  chemotherapy  hormone_therapy  overall_survival  radio_therapy\n",
              "0           0             0                1                 1              1\n",
              "1           2             0                1                 1              1\n",
              "2           5             1                1                 0              0\n",
              "3           6             1                1                 1              1\n",
              "4           8             1                1                 0              1"
            ]
          },
          "execution_count": 173,
          "metadata": {},
          "output_type": "execute_result"
        }
      ],
      "source": [
        "# check if int data needs scaling\n",
        "clinical_dataset[clinical_columns[clinical_dataset.dtypes == 'int64']].head(5)"
      ]
    },
    {
      "cell_type": "code",
      "execution_count": 174,
      "id": "00a64091",
      "metadata": {
        "id": "00a64091"
      },
      "outputs": [],
      "source": [
        "# define data and labels for each dataset\n",
        "\n",
        "labels = clinical_dataset[label_column].to_numpy()\n",
        "clinical_data = clinical_dataset[clinical_data_columns].to_numpy()\n",
        "gene_expr_data = gene_expr_dataset.to_numpy()"
      ]
    },
    {
      "cell_type": "code",
      "execution_count": 175,
      "id": "99c8a4bc",
      "metadata": {
        "id": "99c8a4bc"
      },
      "outputs": [],
      "source": [
        "# Convert categorical data to numerical data for clinical dataset\n",
        "ordinal_encoder = OrdinalEncoder()\n",
        "clinical_data = ordinal_encoder.fit_transform(clinical_data)"
      ]
    },
    {
      "cell_type": "code",
      "execution_count": 176,
      "id": "9da8ca52",
      "metadata": {
        "id": "9da8ca52"
      },
      "outputs": [],
      "source": [
        "# Perform data imputation for clinical dataset\n",
        "imputer = SimpleImputer(missing_values=np.nan, strategy='mean')\n",
        "clinical_data = imputer.fit_transform(clinical_data)"
      ]
    },
    {
      "cell_type": "code",
      "execution_count": 177,
      "id": "1BFAjN9wKRUu",
      "metadata": {
        "id": "1BFAjN9wKRUu"
      },
      "outputs": [],
      "source": [
        "scaler = StandardScaler()\n",
        "clinical_data = scaler.fit_transform(clinical_data)"
      ]
    },
    {
      "cell_type": "code",
      "execution_count": 178,
      "id": "eG4CkK4IC9d-",
      "metadata": {
        "id": "eG4CkK4IC9d-"
      },
      "outputs": [],
      "source": [
        "_clinical_train_X, _clinical_test_X, _clinical_train_y, _clinical_test_y = train_test_split(clinical_data, labels, test_size=0.10, random_state=SEED)\n",
        "_clinical_train_X, _clinical_val_X, _clinical_train_y, _clinical_val_y = train_test_split(_clinical_train_X, _clinical_train_y, test_size=0.10, random_state=SEED)\n",
        "\n",
        "_gene_expr_train_X, _gene_expr_test_X, _gene_expr_train_y, _gene_expr_test_y = train_test_split(gene_expr_data, labels, test_size=0.10, random_state=SEED)\n",
        "_gene_expr_train_X, _gene_expr_val_X, _gene_expr_train_y, _gene_expr_val_y = train_test_split(_gene_expr_train_X, _gene_expr_train_y, test_size=0.10, random_state=SEED)\n",
        "\n",
        "dataset = {\n",
        "    'clinical':{\n",
        "        'X_train': _clinical_train_X,\n",
        "        'X_val': _clinical_val_X,\n",
        "        'X_test': _clinical_test_X,\n",
        "        'y_train': _clinical_train_y,\n",
        "        'y_val': _clinical_val_y,\n",
        "        'y_test': _clinical_test_y\n",
        "    },\n",
        "    'gene_expr':{\n",
        "        'X_train': _gene_expr_train_X,\n",
        "        'X_val': _gene_expr_val_X,\n",
        "        'X_test': _gene_expr_test_X,\n",
        "        'y_train': _gene_expr_train_y,\n",
        "        'y_val': _gene_expr_val_y,\n",
        "        'y_test': _gene_expr_test_y\n",
        "    },\n",
        "    'gene_expr_reduced':{\n",
        "    }\n",
        "}"
      ]
    },
    {
      "cell_type": "markdown",
      "id": "e2c3821f",
      "metadata": {
        "id": "e2c3821f"
      },
      "source": [
        "## Dimension Reduction (20 + Up to 10 Points Optional)"
      ]
    },
    {
      "cell_type": "markdown",
      "id": "b925e2cf",
      "metadata": {
        "id": "b925e2cf"
      },
      "source": [
        "For each dataset, investigate whether it is needed to use a dimensionality reduction approach or not. If yes, please reduce the dataset's dimension. You can use UMAP for this purpose but any other approach is acceptable. Finding the most important features contains extra points."
      ]
    },
    {
      "cell_type": "markdown",
      "id": "b14cefb7",
      "metadata": {
        "id": "b14cefb7"
      },
      "source": [
        "<span style=\"color:orange\">\n",
        "    we check if dimensionality reduction is needed by using a simple linear regression model as a baseline .\n",
        "</span>\n",
        "\n"
      ]
    },
    {
      "cell_type": "code",
      "execution_count": 179,
      "id": "f0666a0d",
      "metadata": {
        "colab": {
          "base_uri": "https://localhost:8080/"
        },
        "id": "f0666a0d",
        "outputId": "3e374600-946f-4995-c0bb-a9e6eaed661c"
      },
      "outputs": [
        {
          "name": "stdout",
          "output_type": "stream",
          "text": [
            "Accuracy of simple linear regression model on clinical data: 0.733\n",
            "Accuracy of simple linear regression model on gene expression data: 0.550\n"
          ]
        }
      ],
      "source": [
        "# predict for the clinical dataset using linear regression\n",
        "_clf = LinearRegression()\n",
        "_clf.fit(dataset['clinical']['X_train'], dataset['clinical']['y_train'])\n",
        "_clinical_baseline_pred = np.round(_clf.predict(dataset['clinical']['X_test']))\n",
        "_clinical_baseline_accuracy = accuracy_score(dataset['clinical']['y_test'], _clinical_baseline_pred)\n",
        "\n",
        "# predict for the gene expression dataset using linear regression\n",
        "_clf = LinearRegression()\n",
        "_clf.fit(dataset['gene_expr']['X_train'], dataset['gene_expr']['y_train'])\n",
        "_gene_expr_baseline_pred = np.round(_clf.predict(dataset['gene_expr']['X_test']))\n",
        "_gene_expr_baseline_accuracy = accuracy_score(dataset['gene_expr']['y_test'], _gene_expr_baseline_pred)\n",
        "\n",
        "print(f'Accuracy of simple linear regression model on clinical data: {_clinical_baseline_accuracy:.3f}')\n",
        "print(f'Accuracy of simple linear regression model on gene expression data: {_gene_expr_baseline_accuracy:.3f}')"
      ]
    },
    {
      "cell_type": "markdown",
      "id": "29e2dbe8",
      "metadata": {
        "id": "29e2dbe8"
      },
      "source": [
        "<span style=\"color:orange\">\n",
        "    As we can see, the results are much better for the clinical dataset which has few dimensions, but not so much for the gene expession dataset.\n",
        "    Therefore, we will only reduce the dimensions for gene expression dataset.\n",
        "</span>\n",
        "\n"
      ]
    },
    {
      "cell_type": "code",
      "execution_count": 180,
      "id": "a3f0b1a2",
      "metadata": {
        "colab": {
          "base_uri": "https://localhost:8080/"
        },
        "id": "a3f0b1a2",
        "outputId": "7ecc82fe-56cf-4b18-844a-e15dcde3a0c8"
      },
      "outputs": [
        {
          "name": "stdout",
          "output_type": "stream",
          "text": [
            "Accuracy of simple linear regression model on reduced clinical data: 0.634\n",
            "Accuracy of simple linear regression model on reduced gene expression data: 0.607\n"
          ]
        }
      ],
      "source": [
        "# reduce the dimensions for clinical data and predict using baseline model\n",
        "CLINICAL_REDUCED_DIMENSIONS = 10\n",
        "GENE_EXPR_REDUCED_DIMENSIONS = 20\n",
        "\n",
        "\n",
        "_reducer = umap.UMAP(n_components=CLINICAL_REDUCED_DIMENSIONS, random_state=SEED)\n",
        "_reducer.fit(clinical_data)\n",
        "_reduced_X_train = _reducer.transform(dataset['clinical']['X_train'])\n",
        "_reduced_X_test = _reducer.transform(dataset['clinical']['X_test'])\n",
        "\n",
        "_clf = LinearRegression()\n",
        "_clf.fit(_reduced_X_train, dataset['clinical']['y_train'])\n",
        "_clinical_reduced_baseline_pred = np.round(_clf.predict(_reduced_X_test))\n",
        "_clinical_reduced_baseline_accuracy = accuracy_score(dataset['clinical']['y_test'], _clinical_reduced_baseline_pred)\n",
        "\n",
        "# reduce the dimensions for gene expression data and predict using baseline model\n",
        "_reducer = umap.UMAP(n_components=GENE_EXPR_REDUCED_DIMENSIONS, random_state=SEED)\n",
        "_reducer.fit(gene_expr_data)\n",
        "_reduced_X_train = _reducer.transform(dataset['gene_expr']['X_train'])\n",
        "_reduced_X_val = _reducer.transform(dataset['gene_expr']['X_val'])\n",
        "_reduced_X_test = _reducer.transform(dataset['gene_expr']['X_test'])\n",
        "\n",
        "_clf = LinearRegression()\n",
        "_clf.fit(_reduced_X_train, dataset['gene_expr']['y_train'])\n",
        "_gene_expr_reduced_baseline_pred = np.round(_clf.predict(_reduced_X_test))\n",
        "_gene_expr_reduced_baseline_accuracy = accuracy_score(dataset['gene_expr']['y_test'], _gene_expr_reduced_baseline_pred)\n",
        "\n",
        "print(f'Accuracy of simple linear regression model on reduced clinical data: {_clinical_reduced_baseline_accuracy:.3f}')\n",
        "print(f'Accuracy of simple linear regression model on reduced gene expression data: {_gene_expr_reduced_baseline_accuracy:.3f}')"
      ]
    },
    {
      "cell_type": "markdown",
      "id": "578ec633",
      "metadata": {
        "id": "578ec633"
      },
      "source": [
        "<span style=\"color:orange\">\n",
        "    As we can see, applying dimension reduction on the clinical dataset leads to worse results, while on gene expression dataset improves the predictions.\n",
        "    Therefore, we choose to reduce the dimensions of only the gene expression dataset. \n",
        "</span>\n",
        "\n"
      ]
    },
    {
      "cell_type": "code",
      "execution_count": 181,
      "id": "1dc64a2b",
      "metadata": {
        "id": "1dc64a2b"
      },
      "outputs": [],
      "source": [
        "dataset['gene_expr_reduced'] = {\n",
        "    'X_train': _reduced_X_train,\n",
        "    'X_val': _reduced_X_val,\n",
        "    'X_test': _reduced_X_test,\n",
        "    'y_train': _gene_expr_train_y,\n",
        "    'y_val': _gene_expr_val_y,\n",
        "    'y_test': _gene_expr_test_y\n",
        "}"
      ]
    },
    {
      "cell_type": "markdown",
      "id": "bf0ea4bb",
      "metadata": {
        "id": "bf0ea4bb"
      },
      "source": [
        "# Classic Model (25 Points)"
      ]
    },
    {
      "cell_type": "markdown",
      "id": "389c5d75",
      "metadata": {
        "id": "389c5d75"
      },
      "source": [
        "In this section, you must implement a classic classification model for clinical, gene expressions, and reduced gene expressions datasets. Using Random Forest is suggested. (minimum acceptable accuracy = 60%)"
      ]
    },
    {
      "cell_type": "code",
      "execution_count": 182,
      "id": "34ec1dd7",
      "metadata": {
        "colab": {
          "base_uri": "https://localhost:8080/"
        },
        "id": "34ec1dd7",
        "outputId": "a3d27908-e6d9-4dc5-d5ad-1ec701bee93e"
      },
      "outputs": [
        {
          "name": "stdout",
          "output_type": "stream",
          "text": [
            "random forest on clinical dataset had accuracy of 0.7435\n",
            "random forest on gene_expr dataset had accuracy of 0.6230\n",
            "random forest on gene_expr_reduced dataset had accuracy of 0.6126\n",
            "svm on clinical dataset had accuracy of 0.7016\n",
            "svm on gene_expr dataset had accuracy of 0.6178\n",
            "svm on gene_expr_reduced dataset had accuracy of 0.5654\n"
          ]
        }
      ],
      "source": [
        "random_forst_models = {\n",
        "    'clinical': None,\n",
        "    'gene_expr': None,\n",
        "    'gene_expr_reduced': None\n",
        "}\n",
        "\n",
        "for ds_name in random_forst_models:\n",
        "    clf = RandomForestClassifier(random_state=SEED)\n",
        "    ds = dataset[ds_name]\n",
        "    clf.fit(ds['X_train'], ds['y_train'])\n",
        "    y_pred = clf.predict(ds['X_test'])\n",
        "    acc = accuracy_score(ds['y_test'], y_pred)\n",
        "    random_forst_models[ds_name] = {\n",
        "        'model': clf,\n",
        "        'accuracy': acc\n",
        "    }\n",
        "\n",
        "    print(f'random forest on {ds_name} dataset had accuracy of {acc:.4f}')\n",
        "\n",
        "svm_models = random_forst_models.copy()\n",
        "\n",
        "for ds_name in random_forst_models:\n",
        "    clf = SVC(random_state=SEED)\n",
        "    ds = dataset[ds_name]\n",
        "    clf.fit(ds['X_train'], ds['y_train'])\n",
        "    y_pred = clf.predict(ds['X_test'])\n",
        "    acc = accuracy_score(ds['y_test'], y_pred)\n",
        "    random_forst_models[ds_name] = {\n",
        "        'model': clf,\n",
        "        'accuracy': acc\n",
        "    }\n",
        "\n",
        "    print(f'svm on {ds_name} dataset had accuracy of {acc:.4f}')\n",
        "\n"
      ]
    },
    {
      "cell_type": "markdown",
      "id": "50146d67",
      "metadata": {
        "id": "50146d67"
      },
      "source": [
        "# Neural Network (30 Points)"
      ]
    },
    {
      "cell_type": "markdown",
      "id": "485c4047",
      "metadata": {
        "id": "485c4047"
      },
      "source": [
        "In this section, you must implement a neural network model for clinical, gene expressions and reduced gene expressions datasets. Using the MPL models is suggested. (minimum acceptable accuracy = 60%)"
      ]
    },
    {
      "cell_type": "code",
      "execution_count": 183,
      "id": "c74a41b9",
      "metadata": {
        "colab": {
          "base_uri": "https://localhost:8080/"
        },
        "id": "c74a41b9",
        "outputId": "7284b7ce-3ebe-4be2-8d4b-972c2697bdfb"
      },
      "outputs": [
        {
          "data": {
            "text/plain": [
              "device(type='cpu')"
            ]
          },
          "execution_count": 183,
          "metadata": {},
          "output_type": "execute_result"
        }
      ],
      "source": [
        "device = torch.device('cuda:0' if torch.cuda.is_available() else 'cpu')\n",
        "device"
      ]
    },
    {
      "cell_type": "code",
      "execution_count": 184,
      "id": "2ecdff3a",
      "metadata": {
        "id": "2ecdff3a"
      },
      "outputs": [],
      "source": [
        "class CancerDataset(Dataset):\n",
        "\n",
        "    def __init__(self, X, y) -> None:\n",
        "        super().__init__()\n",
        "        self.X = X\n",
        "        self.y = y\n",
        "\n",
        "    def __len__(self):\n",
        "        return len(self.X)\n",
        "    \n",
        "    def __getitem__(self, idx):\n",
        "        return self.X[idx].astype(np.float32), self.y[idx].astype(np.float32)\n"
      ]
    },
    {
      "cell_type": "code",
      "execution_count": 185,
      "id": "aaa2d935",
      "metadata": {
        "id": "aaa2d935"
      },
      "outputs": [],
      "source": [
        "dataloaders = {}\n",
        "batch_size = 64\n",
        "\n",
        "for ds_name, ds_split in dataset.items():\n",
        "    dataloaders[ds_name] = {}\n",
        "    X_train = ds_split['X_train']\n",
        "    X_val = ds_split['X_val']\n",
        "    X_test = ds_split['X_test']\n",
        "    y_train = ds_split['y_train']\n",
        "    y_val = ds_split['y_val']\n",
        "    y_test = ds_split['y_test']\n",
        "    \n",
        "    train_ds = CancerDataset(X_train, y_train)\n",
        "    val_ds = CancerDataset(X_val, y_val)\n",
        "    test_ds = CancerDataset(X_test, y_test)\n",
        "\n",
        "    train_dl = DataLoader(train_ds, batch_size=batch_size, shuffle=True)\n",
        "    val_dl = DataLoader(val_ds, batch_size=batch_size, shuffle=True)\n",
        "    test_dl = DataLoader(test_ds, batch_size=batch_size, shuffle=True)\n",
        "\n",
        "    dataloaders[ds_name]['train'] = train_dl\n",
        "    dataloaders[ds_name]['val'] = val_dl\n",
        "    dataloaders[ds_name]['test'] = test_dl"
      ]
    },
    {
      "cell_type": "code",
      "execution_count": 186,
      "id": "ef943c44",
      "metadata": {},
      "outputs": [],
      "source": [
        "def precision(confusion):\n",
        "    return confusion[1, 1] / (confusion[1, 1] + confusion[1, 0])"
      ]
    },
    {
      "cell_type": "code",
      "execution_count": 187,
      "id": "e09b99a3",
      "metadata": {},
      "outputs": [],
      "source": [
        "def recall(confusion):\n",
        "    return confusion[1, 1] / (confusion[1, 1] + confusion[0, 1])"
      ]
    },
    {
      "cell_type": "code",
      "execution_count": 188,
      "id": "cfe3e2f3",
      "metadata": {},
      "outputs": [],
      "source": [
        "def f1_score(confusion):\n",
        "    return confusion[1, 1] / (confusion[1, 1] + 0.5 * (confusion[1, 0] + confusion[0, 1]))"
      ]
    },
    {
      "cell_type": "code",
      "execution_count": 189,
      "id": "e40af097",
      "metadata": {},
      "outputs": [],
      "source": [
        "def update_confusion_matrix(confusion, out, labels):\n",
        "    out = out.astype(int)\n",
        "    labels = labels.astype(int)\n",
        "    for i in range(confusion.shape[0]):\n",
        "        for j in range(confusion.shape[1]):\n",
        "            confusion[i, j] += ((out == i) & (labels == j)).sum()\n",
        "    \n",
        "    return confusion"
      ]
    },
    {
      "cell_type": "code",
      "execution_count": 190,
      "id": "JbseSF_CQnR1",
      "metadata": {
        "id": "JbseSF_CQnR1"
      },
      "outputs": [],
      "source": [
        "def evaluate(model, dataloader):\n",
        "    model.eval()\n",
        "    total, correct = 0, 0\n",
        "    confusion = np.zeros((2, 2))\n",
        "    with torch.no_grad():\n",
        "        for _, (data, labels) in enumerate(dataloader):\n",
        "            data, labels = data.to(device), labels.to(device)\n",
        "\n",
        "            pred = model(data).squeeze()\n",
        "            out = torch.round(pred)\n",
        "            update_confusion_matrix(confusion, out.cpu().numpy(), labels.cpu().numpy())\n",
        "\n",
        "            correct = correct + (labels == out).sum().detach().cpu().numpy()\n",
        "            total = total + len(data)\n",
        "    \n",
        "    return correct / total, confusion"
      ]
    },
    {
      "cell_type": "code",
      "execution_count": 191,
      "id": "2992ff5a",
      "metadata": {
        "id": "2992ff5a"
      },
      "outputs": [],
      "source": [
        "def train(model, criterion, optimizer, train_dataloader, val_dataloader, num_epochs):\n",
        "    best_model = model\n",
        "    train_losses = []\n",
        "    val_losses = []\n",
        "    train_accs = []\n",
        "    val_accs = []\n",
        "    best_val_loss = np.inf\n",
        "\n",
        "    for epoch in range(num_epochs):\n",
        "        # train \n",
        "        model.train()\n",
        "        total, correct = 0, 0\n",
        "        train_loss = 0.0\n",
        "        with tqdm(enumerate(train_dataloader), total=len(train_dataloader)) as pbar:\n",
        "            for i, (data, labels) in pbar:\n",
        "                data, labels = data.to(device), labels.to(device)\n",
        "                optimizer.zero_grad()\n",
        "\n",
        "                pred = model(data).squeeze()\n",
        "                out = pred.detach().round()\n",
        "\n",
        "                total = total + len(data)\n",
        "                correct = correct + (labels == out).sum().detach().cpu().numpy()\n",
        "                \n",
        "                loss = criterion(pred, labels)\n",
        "                loss.backward()\n",
        "                optimizer.step()\n",
        "\n",
        "                train_loss = train_loss + loss.detach().cpu().numpy()\n",
        "                \n",
        "                pbar.set_description('Epoch {0}: train loss={1}, train accuracy={2}'.format(epoch, train_loss / total,\n",
        "                                                                                            correct / total))\n",
        "        \n",
        "        train_losses.append(train_loss)\n",
        "        train_accs.append((correct / total))\n",
        "        \n",
        "        # validation\n",
        "        model.eval()\n",
        "        total, correct = 0, 0\n",
        "        val_loss = 0.0\n",
        "        with torch.no_grad():\n",
        "            with tqdm(enumerate(val_dataloader), total=len(val_dataloader)) as pbar:\n",
        "                for i, (data, labels) in pbar:\n",
        "                    data, labels = data.to(device), labels.to(device)\n",
        "\n",
        "                    pred = model(data).squeeze()\n",
        "                    out = torch.round(pred)\n",
        "\n",
        "                    correct = correct + (labels == out).sum().detach().cpu().numpy()\n",
        "                    total = total + len(data)\n",
        "\n",
        "                    val_loss += criterion(pred, labels).detach().cpu().numpy()\n",
        "                    \n",
        "                    pbar.set_description('Epoch {0}: val loss={1}, val accuracy={2}'.format(epoch, val_loss / total,\n",
        "                                                                                                correct / total))\n",
        "        \n",
        "        val_loss = val_loss / total\n",
        "        if val_loss < best_val_loss:\n",
        "            print('New model saved, val loss {0} -> {1}'.format(best_val_loss, val_loss))\n",
        "            best_val_loss = val_loss\n",
        "            best_model = deepcopy(model)\n",
        "\n",
        "    return train_losses, val_losses, train_accs, val_accs, best_model"
      ]
    },
    {
      "cell_type": "code",
      "execution_count": 192,
      "id": "344e1754",
      "metadata": {
        "colab": {
          "base_uri": "https://localhost:8080/",
          "height": 1000
        },
        "id": "344e1754",
        "outputId": "26ba861a-ac7c-4d82-cb1c-6fb2436811cd"
      },
      "outputs": [
        {
          "name": "stderr",
          "output_type": "stream",
          "text": [
            "Epoch 0: train loss=0.004186856967145015, train accuracy=0.5139519792342635: 100%|██████████| 25/25 [00:00<00:00, 150.93it/s] \n",
            "Epoch 0: val loss=0.004254257869581843, val accuracy=0.5813953488372093: 100%|██████████| 3/3 [00:00<00:00, 240.97it/s]\n"
          ]
        },
        {
          "name": "stdout",
          "output_type": "stream",
          "text": [
            "New model saved, val loss inf -> 0.004254257869581843\n"
          ]
        },
        {
          "name": "stderr",
          "output_type": "stream",
          "text": [
            "Epoch 1: train loss=0.0037064810684174394, train accuracy=0.6417910447761194: 100%|██████████| 25/25 [00:00<00:00, 104.78it/s]\n",
            "Epoch 1: val loss=0.0037059890496176345, val accuracy=0.6918604651162791: 100%|██████████| 3/3 [00:00<00:00, 196.58it/s]\n"
          ]
        },
        {
          "name": "stdout",
          "output_type": "stream",
          "text": [
            "New model saved, val loss 0.004254257869581843 -> 0.0037059890496176345\n"
          ]
        },
        {
          "name": "stderr",
          "output_type": "stream",
          "text": [
            "Epoch 2: train loss=0.0034773017507648404, train accuracy=0.6904607397793641: 100%|██████████| 25/25 [00:00<00:00, 188.42it/s]\n",
            "Epoch 2: val loss=0.0034422749696775925, val accuracy=0.7441860465116279: 100%|██████████| 3/3 [00:00<00:00, 377.85it/s]\n"
          ]
        },
        {
          "name": "stdout",
          "output_type": "stream",
          "text": [
            "New model saved, val loss 0.0037059890496176345 -> 0.0034422749696775925\n"
          ]
        },
        {
          "name": "stderr",
          "output_type": "stream",
          "text": [
            "Epoch 3: train loss=0.00339070426651907, train accuracy=0.7047371836469825: 100%|██████████| 25/25 [00:00<00:00, 168.04it/s]  \n",
            "Epoch 3: val loss=0.003305201093817866, val accuracy=0.7732558139534884: 100%|██████████| 3/3 [00:00<00:00, 407.98it/s]\n"
          ]
        },
        {
          "name": "stdout",
          "output_type": "stream",
          "text": [
            "New model saved, val loss 0.0034422749696775925 -> 0.003305201093817866\n"
          ]
        },
        {
          "name": "stderr",
          "output_type": "stream",
          "text": [
            "Epoch 4: train loss=0.0032397705208241823, train accuracy=0.7177157689811811: 100%|██████████| 25/25 [00:00<00:00, 168.16it/s]\n",
            "Epoch 4: val loss=0.003174818272507468, val accuracy=0.7732558139534884: 100%|██████████| 3/3 [00:00<00:00, 342.25it/s]\n"
          ]
        },
        {
          "name": "stdout",
          "output_type": "stream",
          "text": [
            "New model saved, val loss 0.003305201093817866 -> 0.003174818272507468\n"
          ]
        },
        {
          "name": "stderr",
          "output_type": "stream",
          "text": [
            "Epoch 5: train loss=0.0032003552475817244, train accuracy=0.7287475665152499: 100%|██████████| 25/25 [00:00<00:00, 207.16it/s]\n",
            "Epoch 5: val loss=0.0030229011074055074, val accuracy=0.75: 100%|██████████| 3/3 [00:00<00:00, 309.16it/s]\n"
          ]
        },
        {
          "name": "stdout",
          "output_type": "stream",
          "text": [
            "New model saved, val loss 0.003174818272507468 -> 0.0030229011074055074\n"
          ]
        },
        {
          "name": "stderr",
          "output_type": "stream",
          "text": [
            "Epoch 6: train loss=0.003107124474201784, train accuracy=0.7391304347826086: 100%|██████████| 25/25 [00:00<00:00, 187.95it/s] \n",
            "Epoch 6: val loss=0.002880395411751991, val accuracy=0.7616279069767442: 100%|██████████| 3/3 [00:00<00:00, 396.22it/s]\n"
          ]
        },
        {
          "name": "stdout",
          "output_type": "stream",
          "text": [
            "New model saved, val loss 0.0030229011074055074 -> 0.002880395411751991\n"
          ]
        },
        {
          "name": "stderr",
          "output_type": "stream",
          "text": [
            "Epoch 7: train loss=0.0030752084883368686, train accuracy=0.7404282933160286: 100%|██████████| 25/25 [00:00<00:00, 200.49it/s]\n",
            "Epoch 7: val loss=0.0028898170174554336, val accuracy=0.7732558139534884: 100%|██████████| 3/3 [00:00<00:00, 419.37it/s]\n",
            "Epoch 8: train loss=0.002968142204358932, train accuracy=0.7488643737832577: 100%|██████████| 25/25 [00:00<00:00, 197.88it/s] \n",
            "Epoch 8: val loss=0.002813892568959746, val accuracy=0.7616279069767442: 100%|██████████| 3/3 [00:00<00:00, 370.23it/s]\n"
          ]
        },
        {
          "name": "stdout",
          "output_type": "stream",
          "text": [
            "New model saved, val loss 0.002880395411751991 -> 0.002813892568959746\n"
          ]
        },
        {
          "name": "stderr",
          "output_type": "stream",
          "text": [
            "Epoch 9: train loss=0.002925142462109684, train accuracy=0.7527579493835171: 100%|██████████| 25/25 [00:00<00:00, 208.37it/s] \n",
            "Epoch 9: val loss=0.0027268128686173017, val accuracy=0.7848837209302325: 100%|██████████| 3/3 [00:00<00:00, 318.22it/s]\n"
          ]
        },
        {
          "name": "stdout",
          "output_type": "stream",
          "text": [
            "New model saved, val loss 0.002813892568959746 -> 0.0027268128686173017\n"
          ]
        },
        {
          "name": "stderr",
          "output_type": "stream",
          "text": [
            "Epoch 10: train loss=0.0028837161026242335, train accuracy=0.7475665152498377: 100%|██████████| 25/25 [00:00<00:00, 136.52it/s]\n",
            "Epoch 10: val loss=0.002699995889913204, val accuracy=0.7848837209302325: 100%|██████████| 3/3 [00:00<00:00, 284.49it/s]\n"
          ]
        },
        {
          "name": "stdout",
          "output_type": "stream",
          "text": [
            "New model saved, val loss 0.0027268128686173017 -> 0.002699995889913204\n"
          ]
        },
        {
          "name": "stderr",
          "output_type": "stream",
          "text": [
            "Epoch 11: train loss=0.0028487961645021135, train accuracy=0.7560025957170668: 100%|██████████| 25/25 [00:00<00:00, 196.40it/s]\n",
            "Epoch 11: val loss=0.0027269654322502226, val accuracy=0.7906976744186046: 100%|██████████| 3/3 [00:00<00:00, 316.37it/s]\n",
            "Epoch 12: train loss=0.0028345436824752787, train accuracy=0.7560025957170668: 100%|██████████| 25/25 [00:00<00:00, 207.04it/s]\n",
            "Epoch 12: val loss=0.0027188251531401345, val accuracy=0.7965116279069767: 100%|██████████| 3/3 [00:00<00:00, 301.24it/s]\n",
            "Epoch 13: train loss=0.002853294110468345, train accuracy=0.7592472420506164: 100%|██████████| 25/25 [00:00<00:00, 202.78it/s] \n",
            "Epoch 13: val loss=0.0026331491075282875, val accuracy=0.813953488372093: 100%|██████████| 3/3 [00:00<00:00, 441.97it/s]\n"
          ]
        },
        {
          "name": "stdout",
          "output_type": "stream",
          "text": [
            "New model saved, val loss 0.002699995889913204 -> 0.0026331491075282875\n"
          ]
        },
        {
          "name": "stderr",
          "output_type": "stream",
          "text": [
            "Epoch 14: train loss=0.0027483349096689962, train accuracy=0.7560025957170668: 100%|██████████| 25/25 [00:00<00:00, 183.88it/s]\n",
            "Epoch 14: val loss=0.0027068248668382336, val accuracy=0.8023255813953488: 100%|██████████| 3/3 [00:00<00:00, 393.40it/s]\n",
            "Epoch 15: train loss=0.0027736915997063315, train accuracy=0.7611940298507462: 100%|██████████| 25/25 [00:00<00:00, 198.32it/s]\n",
            "Epoch 15: val loss=0.00258590194375016, val accuracy=0.8023255813953488: 100%|██████████| 3/3 [00:00<00:00, 263.40it/s]\n"
          ]
        },
        {
          "name": "stdout",
          "output_type": "stream",
          "text": [
            "New model saved, val loss 0.0026331491075282875 -> 0.00258590194375016\n"
          ]
        },
        {
          "name": "stderr",
          "output_type": "stream",
          "text": [
            "Epoch 16: train loss=0.0027997727269556986, train accuracy=0.7566515249837767: 100%|██████████| 25/25 [00:00<00:00, 140.42it/s]\n",
            "Epoch 16: val loss=0.0025719812702994014, val accuracy=0.8081395348837209: 100%|██████████| 3/3 [00:00<00:00, 612.55it/s]\n"
          ]
        },
        {
          "name": "stdout",
          "output_type": "stream",
          "text": [
            "New model saved, val loss 0.00258590194375016 -> 0.0025719812702994014\n"
          ]
        },
        {
          "name": "stderr",
          "output_type": "stream",
          "text": [
            "Epoch 17: train loss=0.0027526871414249553, train accuracy=0.7598961713173265: 100%|██████████| 25/25 [00:00<00:00, 202.14it/s]\n",
            "Epoch 17: val loss=0.002607990489449612, val accuracy=0.7965116279069767: 100%|██████████| 3/3 [00:00<00:00, 304.74it/s]\n",
            "Epoch 18: train loss=0.0027753340780232185, train accuracy=0.7637897469175859: 100%|██████████| 25/25 [00:00<00:00, 217.83it/s]\n",
            "Epoch 18: val loss=0.002621636401082194, val accuracy=0.7848837209302325: 100%|██████████| 3/3 [00:00<00:00, 459.15it/s]\n",
            "Epoch 19: train loss=0.0027289823529242233, train accuracy=0.7624918883841661: 100%|██████████| 25/25 [00:00<00:00, 173.68it/s]\n",
            "Epoch 19: val loss=0.002621595249619595, val accuracy=0.7965116279069767: 100%|██████████| 3/3 [00:00<00:00, 99.63it/s]\n",
            "Epoch 20: train loss=0.0028638460762233104, train accuracy=0.7696301103179753: 100%|██████████| 25/25 [00:00<00:00, 180.54it/s]\n",
            "Epoch 20: val loss=0.002595704048871994, val accuracy=0.7906976744186046: 100%|██████████| 3/3 [00:00<00:00, 287.58it/s]\n",
            "Epoch 21: train loss=0.002707715857578206, train accuracy=0.7637897469175859: 100%|██████████| 25/25 [00:00<00:00, 193.45it/s]\n",
            "Epoch 21: val loss=0.002631618533023568, val accuracy=0.7906976744186046: 100%|██████████| 3/3 [00:00<00:00, 391.77it/s]\n",
            "Epoch 22: train loss=0.002763423853536305, train accuracy=0.7598961713173265: 100%|██████████| 25/25 [00:00<00:00, 160.24it/s] \n",
            "Epoch 22: val loss=0.002551177646531615, val accuracy=0.8023255813953488: 100%|██████████| 3/3 [00:00<00:00, 341.31it/s]\n"
          ]
        },
        {
          "name": "stdout",
          "output_type": "stream",
          "text": [
            "New model saved, val loss 0.0025719812702994014 -> 0.002551177646531615\n"
          ]
        },
        {
          "name": "stderr",
          "output_type": "stream",
          "text": [
            "Epoch 23: train loss=0.0027141138611483464, train accuracy=0.7573004542504866: 100%|██████████| 25/25 [00:00<00:00, 177.04it/s]\n",
            "Epoch 23: val loss=0.002567628528489623, val accuracy=0.8023255813953488: 100%|██████████| 3/3 [00:00<00:00, 556.64it/s]\n",
            "Epoch 24: train loss=0.0027447439764011687, train accuracy=0.7573004542504866: 100%|██████████| 25/25 [00:00<00:00, 194.02it/s]\n",
            "Epoch 24: val loss=0.0025692005143609156, val accuracy=0.813953488372093: 100%|██████████| 3/3 [00:00<00:00, 335.60it/s]\n",
            "Epoch 25: train loss=0.00272359846475293, train accuracy=0.763140817650876: 100%|██████████| 25/25 [00:00<00:00, 148.35it/s]   \n",
            "Epoch 25: val loss=0.0025356145099151967, val accuracy=0.8081395348837209: 100%|██████████| 3/3 [00:00<00:00, 286.99it/s]\n"
          ]
        },
        {
          "name": "stdout",
          "output_type": "stream",
          "text": [
            "New model saved, val loss 0.002551177646531615 -> 0.0025356145099151967\n"
          ]
        },
        {
          "name": "stderr",
          "output_type": "stream",
          "text": [
            "Epoch 26: train loss=0.0026885297470940622, train accuracy=0.7637897469175859: 100%|██████████| 25/25 [00:00<00:00, 180.16it/s]\n",
            "Epoch 26: val loss=0.002571676446254863, val accuracy=0.8081395348837209: 100%|██████████| 3/3 [00:00<00:00, 401.92it/s]\n",
            "Epoch 27: train loss=0.002727919656452152, train accuracy=0.7657365347177157: 100%|██████████| 25/25 [00:00<00:00, 195.60it/s] \n",
            "Epoch 27: val loss=0.0024787207935438598, val accuracy=0.7906976744186046: 100%|██████████| 3/3 [00:00<00:00, 380.75it/s]\n"
          ]
        },
        {
          "name": "stdout",
          "output_type": "stream",
          "text": [
            "New model saved, val loss 0.0025356145099151967 -> 0.0024787207935438598\n"
          ]
        },
        {
          "name": "stderr",
          "output_type": "stream",
          "text": [
            "Epoch 28: train loss=0.002778125541268967, train accuracy=0.7585983127839065: 100%|██████████| 25/25 [00:00<00:00, 169.16it/s] \n",
            "Epoch 28: val loss=0.002591439544461494, val accuracy=0.813953488372093: 100%|██████████| 3/3 [00:00<00:00, 332.81it/s]\n",
            "Epoch 29: train loss=0.002743010606802879, train accuracy=0.7689811810512654: 100%|██████████| 25/25 [00:00<00:00, 131.64it/s] \n",
            "Epoch 29: val loss=0.002566968892202821, val accuracy=0.8023255813953488: 100%|██████████| 3/3 [00:00<00:00, 276.10it/s]\n",
            "Epoch 30: train loss=0.0026513175007818893, train accuracy=0.7696301103179753: 100%|██████████| 25/25 [00:00<00:00, 164.98it/s]\n",
            "Epoch 30: val loss=0.002582995091066804, val accuracy=0.813953488372093: 100%|██████████| 3/3 [00:00<00:00, 346.13it/s]\n",
            "Epoch 31: train loss=0.0027099148376973554, train accuracy=0.7709279688513953: 100%|██████████| 25/25 [00:00<00:00, 210.26it/s]\n",
            "Epoch 31: val loss=0.002633061000080996, val accuracy=0.7965116279069767: 100%|██████████| 3/3 [00:00<00:00, 323.76it/s]\n",
            "Epoch 32: train loss=0.002782637817878216, train accuracy=0.7761194029850746: 100%|██████████| 25/25 [00:00<00:00, 150.31it/s] \n",
            "Epoch 32: val loss=0.0024704339719095894, val accuracy=0.7965116279069767: 100%|██████████| 3/3 [00:00<00:00, 336.72it/s]\n"
          ]
        },
        {
          "name": "stdout",
          "output_type": "stream",
          "text": [
            "New model saved, val loss 0.0024787207935438598 -> 0.0024704339719095894\n"
          ]
        },
        {
          "name": "stderr",
          "output_type": "stream",
          "text": [
            "Epoch 33: train loss=0.002705953555939493, train accuracy=0.7767683322517845: 100%|██████████| 25/25 [00:00<00:00, 176.30it/s] \n",
            "Epoch 33: val loss=0.0025094675636568734, val accuracy=0.813953488372093: 100%|██████████| 3/3 [00:00<00:00, 267.18it/s]\n",
            "Epoch 34: train loss=0.0027064185040790796, train accuracy=0.7761194029850746: 100%|██████████| 25/25 [00:00<00:00, 184.83it/s]\n",
            "Epoch 34: val loss=0.0024982565190902976, val accuracy=0.8081395348837209: 100%|██████████| 3/3 [00:00<00:00, 465.78it/s]\n",
            "Epoch 35: train loss=0.0027804336209021783, train accuracy=0.7702790395846852: 100%|██████████| 25/25 [00:00<00:00, 184.97it/s]\n",
            "Epoch 35: val loss=0.00249504410596781, val accuracy=0.813953488372093: 100%|██████████| 3/3 [00:00<00:00, 289.44it/s]\n",
            "Epoch 36: train loss=0.0026349667641035078, train accuracy=0.773523685918235: 100%|██████████| 25/25 [00:00<00:00, 159.15it/s] \n",
            "Epoch 36: val loss=0.0025194613046424334, val accuracy=0.8081395348837209: 100%|██████████| 3/3 [00:00<00:00, 478.18it/s]\n",
            "Epoch 37: train loss=0.0025920738054513157, train accuracy=0.7696301103179753: 100%|██████████| 25/25 [00:00<00:00, 174.77it/s]\n",
            "Epoch 37: val loss=0.002500262371329374, val accuracy=0.7965116279069767: 100%|██████████| 3/3 [00:00<00:00, 387.72it/s]\n",
            "Epoch 38: train loss=0.0026632624205097915, train accuracy=0.7780661907852044: 100%|██████████| 25/25 [00:00<00:00, 176.19it/s]\n",
            "Epoch 38: val loss=0.0025618681034376453, val accuracy=0.813953488372093: 100%|██████████| 3/3 [00:00<00:00, 253.80it/s]\n",
            "Epoch 39: train loss=0.002638009192493347, train accuracy=0.7774172615184944: 100%|██████████| 25/25 [00:00<00:00, 140.72it/s] \n",
            "Epoch 39: val loss=0.002555862329033918, val accuracy=0.8023255813953488: 100%|██████████| 3/3 [00:00<00:00, 257.23it/s]\n",
            "Epoch 40: train loss=0.0025585942057376556, train accuracy=0.7754704737183648: 100%|██████████| 25/25 [00:00<00:00, 145.31it/s]\n",
            "Epoch 40: val loss=0.002486631360857986, val accuracy=0.8023255813953488: 100%|██████████| 3/3 [00:00<00:00, 275.31it/s]\n",
            "Epoch 41: train loss=0.002542707672624291, train accuracy=0.7819597663854639: 100%|██████████| 25/25 [00:00<00:00, 168.61it/s] \n",
            "Epoch 41: val loss=0.0025168307298837705, val accuracy=0.8081395348837209: 100%|██████████| 3/3 [00:00<00:00, 465.16it/s]\n",
            "Epoch 42: train loss=0.0025723205757249416, train accuracy=0.781310837118754: 100%|██████████| 25/25 [00:00<00:00, 189.53it/s] \n",
            "Epoch 42: val loss=0.0025134067549261938, val accuracy=0.7906976744186046: 100%|██████████| 3/3 [00:00<00:00, 112.53it/s]\n",
            "Epoch 43: train loss=0.0025801176590860703, train accuracy=0.7852044127190136: 100%|██████████| 25/25 [00:00<00:00, 172.62it/s]\n",
            "Epoch 43: val loss=0.0024413902225882507, val accuracy=0.813953488372093: 100%|██████████| 3/3 [00:00<00:00, 344.04it/s]\n"
          ]
        },
        {
          "name": "stdout",
          "output_type": "stream",
          "text": [
            "New model saved, val loss 0.0024704339719095894 -> 0.0024413902225882507\n"
          ]
        },
        {
          "name": "stderr",
          "output_type": "stream",
          "text": [
            "Epoch 44: train loss=0.002553776549604479, train accuracy=0.7845554834523037: 100%|██████████| 25/25 [00:00<00:00, 155.60it/s] \n",
            "Epoch 44: val loss=0.0024957124057204223, val accuracy=0.8023255813953488: 100%|██████████| 3/3 [00:00<00:00, 407.93it/s]\n",
            "Epoch 45: train loss=0.0025639732324171964, train accuracy=0.7839065541855937: 100%|██████████| 25/25 [00:00<00:00, 155.33it/s]\n",
            "Epoch 45: val loss=0.002545339077018028, val accuracy=0.7848837209302325: 100%|██████████| 3/3 [00:00<00:00, 340.23it/s]\n",
            "Epoch 46: train loss=0.0026636458474037943, train accuracy=0.773523685918235: 100%|██████████| 25/25 [00:00<00:00, 144.94it/s] \n",
            "Epoch 46: val loss=0.002561615520091944, val accuracy=0.8081395348837209: 100%|██████████| 3/3 [00:00<00:00, 188.29it/s]\n",
            "Epoch 47: train loss=0.002569158773658958, train accuracy=0.781310837118754: 100%|██████████| 25/25 [00:00<00:00, 111.02it/s]  \n",
            "Epoch 47: val loss=0.002548666107793187, val accuracy=0.7906976744186046: 100%|██████████| 3/3 [00:00<00:00, 322.95it/s]\n",
            "Epoch 48: train loss=0.0025412551647730265, train accuracy=0.782608695652174: 100%|██████████| 25/25 [00:00<00:00, 144.16it/s] \n",
            "Epoch 48: val loss=0.0024544478848923085, val accuracy=0.8197674418604651: 100%|██████████| 3/3 [00:00<00:00, 244.11it/s]\n",
            "Epoch 49: train loss=0.0025885176061036757, train accuracy=0.7845554834523037: 100%|██████████| 25/25 [00:00<00:00, 149.55it/s]\n",
            "Epoch 49: val loss=0.0025091714030781457, val accuracy=0.813953488372093: 100%|██████████| 3/3 [00:00<00:00, 209.90it/s]\n",
            "Epoch 50: train loss=0.002615641065227142, train accuracy=0.7774172615184944: 100%|██████████| 25/25 [00:00<00:00, 142.57it/s] \n",
            "Epoch 50: val loss=0.0024838727400746455, val accuracy=0.7848837209302325: 100%|██████████| 3/3 [00:00<00:00, 219.66it/s]\n",
            "Epoch 51: train loss=0.0026187579172296544, train accuracy=0.7845554834523037: 100%|██████████| 25/25 [00:00<00:00, 173.00it/s]\n",
            "Epoch 51: val loss=0.0025090834255828416, val accuracy=0.8081395348837209: 100%|██████████| 3/3 [00:00<00:00, 305.92it/s]\n",
            "Epoch 52: train loss=0.002488914376764155, train accuracy=0.7839065541855937: 100%|██████████| 25/25 [00:00<00:00, 158.93it/s] \n",
            "Epoch 52: val loss=0.0024375495349251946, val accuracy=0.8255813953488372: 100%|██████████| 3/3 [00:00<00:00, 428.66it/s]\n"
          ]
        },
        {
          "name": "stdout",
          "output_type": "stream",
          "text": [
            "New model saved, val loss 0.0024413902225882507 -> 0.0024375495349251946\n"
          ]
        },
        {
          "name": "stderr",
          "output_type": "stream",
          "text": [
            "Epoch 53: train loss=0.002527007517645995, train accuracy=0.7878001297858533: 100%|██████████| 25/25 [00:00<00:00, 167.72it/s] \n",
            "Epoch 53: val loss=0.0025431051590414934, val accuracy=0.7906976744186046: 100%|██████████| 3/3 [00:00<00:00, 278.14it/s]\n",
            "Epoch 54: train loss=0.002466244919202608, train accuracy=0.790395846852693: 100%|██████████| 25/25 [00:00<00:00, 137.78it/s]  \n",
            "Epoch 54: val loss=0.0024659238582433658, val accuracy=0.8081395348837209: 100%|██████████| 3/3 [00:00<00:00, 336.94it/s]\n",
            "Epoch 55: train loss=0.0024856997244084213, train accuracy=0.7878001297858533: 100%|██████████| 25/25 [00:00<00:00, 171.16it/s]\n",
            "Epoch 55: val loss=0.0025571531854396644, val accuracy=0.7906976744186046: 100%|██████████| 3/3 [00:00<00:00, 337.36it/s]\n",
            "Epoch 56: train loss=0.0024873081021769953, train accuracy=0.7929915639195327: 100%|██████████| 25/25 [00:00<00:00, 142.59it/s]\n",
            "Epoch 56: val loss=0.0025105114679696947, val accuracy=0.8081395348837209: 100%|██████████| 3/3 [00:00<00:00, 271.40it/s]\n",
            "Epoch 57: train loss=0.002538553596819321, train accuracy=0.7897469175859831: 100%|██████████| 25/25 [00:00<00:00, 137.27it/s] \n",
            "Epoch 57: val loss=0.0024352878505407376, val accuracy=0.7965116279069767: 100%|██████████| 3/3 [00:00<00:00, 178.06it/s]\n"
          ]
        },
        {
          "name": "stdout",
          "output_type": "stream",
          "text": [
            "New model saved, val loss 0.0024375495349251946 -> 0.0024352878505407376\n"
          ]
        },
        {
          "name": "stderr",
          "output_type": "stream",
          "text": [
            "Epoch 58: train loss=0.0024898837016512246, train accuracy=0.7936404931862427: 100%|██████████| 25/25 [00:00<00:00, 117.28it/s]\n",
            "Epoch 58: val loss=0.0024536581233490346, val accuracy=0.8255813953488372: 100%|██████████| 3/3 [00:00<00:00, 261.37it/s]\n",
            "Epoch 59: train loss=0.002464997858331236, train accuracy=0.7975340687865022: 100%|██████████| 25/25 [00:00<00:00, 92.43it/s] \n",
            "Epoch 59: val loss=0.002485594430635142, val accuracy=0.8081395348837209: 100%|██████████| 3/3 [00:00<00:00, 266.95it/s]\n",
            "Epoch 60: train loss=0.002537155213253905, train accuracy=0.7890979883192732: 100%|██████████| 25/25 [00:00<00:00, 122.46it/s] \n",
            "Epoch 60: val loss=0.002505567271349042, val accuracy=0.7965116279069767: 100%|██████████| 3/3 [00:00<00:00, 233.58it/s]\n",
            "Epoch 61: train loss=0.0024299004697165344, train accuracy=0.7923426346528228: 100%|██████████| 25/25 [00:00<00:00, 133.88it/s]\n",
            "Epoch 61: val loss=0.0025215204805135727, val accuracy=0.8023255813953488: 100%|██████████| 3/3 [00:00<00:00, 294.81it/s]\n",
            "Epoch 62: train loss=0.0025175153425883194, train accuracy=0.790395846852693: 100%|██████████| 25/25 [00:00<00:00, 133.36it/s] \n",
            "Epoch 62: val loss=0.0023583397269248962, val accuracy=0.8197674418604651: 100%|██████████| 3/3 [00:00<00:00, 244.28it/s]\n"
          ]
        },
        {
          "name": "stdout",
          "output_type": "stream",
          "text": [
            "New model saved, val loss 0.0024352878505407376 -> 0.0023583397269248962\n"
          ]
        },
        {
          "name": "stderr",
          "output_type": "stream",
          "text": [
            "Epoch 63: train loss=0.0024349105862887317, train accuracy=0.7878001297858533: 100%|██████████| 25/25 [00:00<00:00, 123.27it/s]\n",
            "Epoch 63: val loss=0.0024348319789697956, val accuracy=0.8081395348837209: 100%|██████████| 3/3 [00:00<00:00, 236.64it/s]\n",
            "Epoch 64: train loss=0.00239130373050608, train accuracy=0.8007787151200519: 100%|██████████| 25/25 [00:00<00:00, 109.73it/s]  \n",
            "Epoch 64: val loss=0.0024810721881167834, val accuracy=0.8081395348837209: 100%|██████████| 3/3 [00:00<00:00, 183.71it/s]\n",
            "Epoch 65: train loss=0.002494299038519417, train accuracy=0.7942894224529526: 100%|██████████| 25/25 [00:00<00:00, 125.15it/s] \n",
            "Epoch 65: val loss=0.0024740725409152895, val accuracy=0.7965116279069767: 100%|██████████| 3/3 [00:00<00:00, 262.38it/s]\n",
            "Epoch 66: train loss=0.002478877753309427, train accuracy=0.8066190785204412: 100%|██████████| 25/25 [00:00<00:00, 123.58it/s] \n",
            "Epoch 66: val loss=0.00251761338738508, val accuracy=0.813953488372093: 100%|██████████| 3/3 [00:00<00:00, 166.90it/s]\n",
            "Epoch 67: train loss=0.002351168395635913, train accuracy=0.8046722907203114: 100%|██████████| 25/25 [00:00<00:00, 117.49it/s] \n",
            "Epoch 67: val loss=0.0024243662956842157, val accuracy=0.8197674418604651: 100%|██████████| 3/3 [00:00<00:00, 208.07it/s]\n",
            "Epoch 68: train loss=0.002322463136188091, train accuracy=0.8040233614536015: 100%|██████████| 25/25 [00:00<00:00, 113.03it/s] \n",
            "Epoch 68: val loss=0.002430614170640014, val accuracy=0.8081395348837209: 100%|██████████| 3/3 [00:00<00:00, 258.80it/s]\n",
            "Epoch 69: train loss=0.002424051193429772, train accuracy=0.8059701492537313: 100%|██████████| 25/25 [00:00<00:00, 101.82it/s] \n",
            "Epoch 69: val loss=0.0024136993600878606, val accuracy=0.7906976744186046: 100%|██████████| 3/3 [00:00<00:00, 35.55it/s]\n",
            "Epoch 70: train loss=0.0024180943116129876, train accuracy=0.8033744321868916: 100%|██████████| 25/25 [00:00<00:00, 116.09it/s]\n",
            "Epoch 70: val loss=0.0024995355931825415, val accuracy=0.7965116279069767: 100%|██████████| 3/3 [00:00<00:00, 292.54it/s]\n",
            "Epoch 71: train loss=0.0023590296671268307, train accuracy=0.8059701492537313: 100%|██████████| 25/25 [00:00<00:00, 133.69it/s]\n",
            "Epoch 71: val loss=0.0025476563375356584, val accuracy=0.8081395348837209: 100%|██████████| 3/3 [00:00<00:00, 427.50it/s]\n",
            "Epoch 72: train loss=0.0023348693101921305, train accuracy=0.8066190785204412: 100%|██████████| 25/25 [00:00<00:00, 157.90it/s]\n",
            "Epoch 72: val loss=0.0024599555966465974, val accuracy=0.8023255813953488: 100%|██████████| 3/3 [00:00<00:00, 275.61it/s]\n",
            "Epoch 73: train loss=0.0022895334410559117, train accuracy=0.8046722907203114: 100%|██████████| 25/25 [00:00<00:00, 127.14it/s]\n",
            "Epoch 73: val loss=0.002490273178663365, val accuracy=0.8081395348837209: 100%|██████████| 3/3 [00:00<00:00, 314.71it/s]\n",
            "Epoch 74: train loss=0.002317674385503389, train accuracy=0.8137573004542504: 100%|██████████| 25/25 [00:00<00:00, 174.18it/s] \n",
            "Epoch 74: val loss=0.0023802923861631128, val accuracy=0.8023255813953488: 100%|██████████| 3/3 [00:00<00:00, 282.32it/s]\n",
            "Epoch 75: train loss=0.002393543628382265, train accuracy=0.8189487345879299: 100%|██████████| 25/25 [00:00<00:00, 176.79it/s] \n",
            "Epoch 75: val loss=0.0024902264392653176, val accuracy=0.8081395348837209: 100%|██████████| 3/3 [00:00<00:00, 311.07it/s]\n",
            "Epoch 76: train loss=0.0023210805143960337, train accuracy=0.8124594419208306: 100%|██████████| 25/25 [00:00<00:00, 122.09it/s]\n",
            "Epoch 76: val loss=0.0024828387987475063, val accuracy=0.8023255813953488: 100%|██████████| 3/3 [00:00<00:00, 132.26it/s]\n",
            "Epoch 77: train loss=0.00221411003154025, train accuracy=0.8170019467878001: 100%|██████████| 25/25 [00:00<00:00, 124.57it/s]  \n",
            "Epoch 77: val loss=0.002382849797953007, val accuracy=0.7906976744186046: 100%|██████████| 3/3 [00:00<00:00, 181.09it/s]\n",
            "Epoch 78: train loss=0.0022569843975852482, train accuracy=0.8137573004542504: 100%|██████████| 25/25 [00:00<00:00, 152.14it/s]\n",
            "Epoch 78: val loss=0.002394769080849581, val accuracy=0.7965116279069767: 100%|██████████| 3/3 [00:00<00:00, 169.52it/s]\n",
            "Epoch 79: train loss=0.0022892726707350194, train accuracy=0.8157040882543802: 100%|██████████| 25/25 [00:00<00:00, 136.00it/s]\n",
            "Epoch 79: val loss=0.0024170195467250292, val accuracy=0.8023255813953488: 100%|██████████| 3/3 [00:00<00:00, 74.75it/s]\n",
            "Epoch 80: train loss=0.002222198811658863, train accuracy=0.8208955223880597: 100%|██████████| 25/25 [00:00<00:00, 79.02it/s] \n",
            "Epoch 80: val loss=0.0023702673267486482, val accuracy=0.7965116279069767: 100%|██████████| 3/3 [00:00<00:00, 260.19it/s]\n",
            "Epoch 81: train loss=0.002313494401887823, train accuracy=0.8066190785204412: 100%|██████████| 25/25 [00:00<00:00, 114.11it/s] \n",
            "Epoch 81: val loss=0.0024248771369457245, val accuracy=0.7965116279069767: 100%|██████████| 3/3 [00:00<00:00, 235.27it/s]\n",
            "Epoch 82: train loss=0.002321154377160329, train accuracy=0.8241401687216093: 100%|██████████| 25/25 [00:00<00:00, 167.52it/s] \n",
            "Epoch 82: val loss=0.0024749927742536678, val accuracy=0.7732558139534884: 100%|██████████| 3/3 [00:00<00:00, 177.19it/s]\n",
            "Epoch 83: train loss=0.002353433149731987, train accuracy=0.8150551589876703: 100%|██████████| 25/25 [00:00<00:00, 99.71it/s]  \n",
            "Epoch 83: val loss=0.0024248254160548367, val accuracy=0.7906976744186046: 100%|██████████| 3/3 [00:00<00:00, 193.21it/s]\n",
            "Epoch 84: train loss=0.0023995173308154656, train accuracy=0.8215444516547696: 100%|██████████| 25/25 [00:00<00:00, 117.74it/s]\n",
            "Epoch 84: val loss=0.0024057419667410295, val accuracy=0.7790697674418605: 100%|██████████| 3/3 [00:00<00:00, 209.23it/s]\n",
            "Epoch 85: train loss=0.002236081776798429, train accuracy=0.8157040882543802: 100%|██████████| 25/25 [00:00<00:00, 96.02it/s]  \n",
            "Epoch 85: val loss=0.0023703434786131214, val accuracy=0.7906976744186046: 100%|██████████| 3/3 [00:00<00:00, 228.27it/s]\n",
            "Epoch 86: train loss=0.0022795953335195763, train accuracy=0.8157040882543802: 100%|██████████| 25/25 [00:00<00:00, 145.85it/s]\n",
            "Epoch 86: val loss=0.0024565571789131606, val accuracy=0.7965116279069767: 100%|██████████| 3/3 [00:00<00:00, 308.46it/s]\n",
            "Epoch 87: train loss=0.0022580848256153847, train accuracy=0.8254380272550292: 100%|██████████| 25/25 [00:00<00:00, 142.80it/s]\n",
            "Epoch 87: val loss=0.0025592072931833044, val accuracy=0.7965116279069767: 100%|██████████| 3/3 [00:00<00:00, 245.20it/s]\n",
            "Epoch 88: train loss=0.002386376783880299, train accuracy=0.8228423101881895: 100%|██████████| 25/25 [00:00<00:00, 93.35it/s]  \n",
            "Epoch 88: val loss=0.002456057513522547, val accuracy=0.8023255813953488: 100%|██████████| 3/3 [00:00<00:00, 187.17it/s]\n",
            "Epoch 89: train loss=0.002473081080732525, train accuracy=0.8299805321219987: 100%|██████████| 25/25 [00:00<00:00, 130.48it/s] \n",
            "Epoch 89: val loss=0.0024119819146256115, val accuracy=0.7965116279069767: 100%|██████████| 3/3 [00:00<00:00, 218.87it/s]\n",
            "Epoch 90: train loss=0.0022070176130684067, train accuracy=0.8293316028552887: 100%|██████████| 25/25 [00:00<00:00, 125.08it/s]\n",
            "Epoch 90: val loss=0.0023777274371579635, val accuracy=0.8081395348837209: 100%|██████████| 3/3 [00:00<00:00, 182.89it/s]\n",
            "Epoch 91: train loss=0.0023596547954969015, train accuracy=0.8215444516547696: 100%|██████████| 25/25 [00:00<00:00, 128.00it/s]\n",
            "Epoch 91: val loss=0.0024148157342921855, val accuracy=0.813953488372093: 100%|██████████| 3/3 [00:00<00:00, 203.60it/s]\n",
            "Epoch 92: train loss=0.002177895222640053, train accuracy=0.8312783906554185: 100%|██████████| 25/25 [00:00<00:00, 127.24it/s] \n",
            "Epoch 92: val loss=0.00247564327058404, val accuracy=0.8023255813953488: 100%|██████████| 3/3 [00:00<00:00, 213.58it/s]\n",
            "Epoch 93: train loss=0.002216599915493316, train accuracy=0.827384815055159: 100%|██████████| 25/25 [00:00<00:00, 108.79it/s]  \n",
            "Epoch 93: val loss=0.002447987798341485, val accuracy=0.8023255813953488: 100%|██████████| 3/3 [00:00<00:00, 143.55it/s]\n",
            "Epoch 94: train loss=0.0022099088783158953, train accuracy=0.8351719662556781: 100%|██████████| 25/25 [00:00<00:00, 84.28it/s]\n",
            "Epoch 94: val loss=0.0024183480025723922, val accuracy=0.7848837209302325: 100%|██████████| 3/3 [00:00<00:00, 199.47it/s]\n",
            "Epoch 95: train loss=0.002098003376969109, train accuracy=0.8397144711226476: 100%|██████████| 25/25 [00:00<00:00, 144.38it/s] \n",
            "Epoch 95: val loss=0.0024279420112454614, val accuracy=0.8023255813953488: 100%|██████████| 3/3 [00:00<00:00, 252.76it/s]\n",
            "Epoch 96: train loss=0.0020451318740960763, train accuracy=0.8332251784555483: 100%|██████████| 25/25 [00:00<00:00, 147.71it/s]\n",
            "Epoch 96: val loss=0.002415652884993442, val accuracy=0.7906976744186046: 100%|██████████| 3/3 [00:00<00:00, 249.78it/s]\n",
            "Epoch 97: train loss=0.002265197224310665, train accuracy=0.8215444516547696: 100%|██████████| 25/25 [00:00<00:00, 127.63it/s] \n",
            "Epoch 97: val loss=0.0023563850757687592, val accuracy=0.7848837209302325: 100%|██████████| 3/3 [00:00<00:00, 189.88it/s]\n"
          ]
        },
        {
          "name": "stdout",
          "output_type": "stream",
          "text": [
            "New model saved, val loss 0.0023583397269248962 -> 0.0023563850757687592\n"
          ]
        },
        {
          "name": "stderr",
          "output_type": "stream",
          "text": [
            "Epoch 98: train loss=0.002102307559490823, train accuracy=0.827384815055159: 100%|██████████| 25/25 [00:00<00:00, 122.24it/s]  \n",
            "Epoch 98: val loss=0.0024699706497580505, val accuracy=0.8081395348837209: 100%|██████████| 3/3 [00:00<00:00, 52.35it/s]\n",
            "Epoch 99: train loss=0.0021578678444250307, train accuracy=0.827384815055159: 100%|██████████| 25/25 [00:00<00:00, 123.07it/s] \n",
            "Epoch 99: val loss=0.00243384858896566, val accuracy=0.7848837209302325: 100%|██████████| 3/3 [00:00<00:00, 213.89it/s]\n",
            "Epoch 0: train loss=0.004012608551344726, train accuracy=0.5314730694354315: 100%|██████████| 25/25 [00:00<00:00, 123.41it/s]\n",
            "Epoch 0: val loss=0.00425829270551371, val accuracy=0.563953488372093: 100%|██████████| 3/3 [00:00<00:00, 192.68it/s]\n"
          ]
        },
        {
          "name": "stdout",
          "output_type": "stream",
          "text": [
            "New model saved, val loss inf -> 0.00425829270551371\n"
          ]
        },
        {
          "name": "stderr",
          "output_type": "stream",
          "text": [
            "Epoch 1: train loss=0.0038030188068950586, train accuracy=0.6132381570408826: 100%|██████████| 25/25 [00:00<00:00, 108.48it/s]\n",
            "Epoch 1: val loss=0.0041912182472472964, val accuracy=0.5872093023255814: 100%|██████████| 3/3 [00:00<00:00, 177.61it/s]\n"
          ]
        },
        {
          "name": "stdout",
          "output_type": "stream",
          "text": [
            "New model saved, val loss 0.00425829270551371 -> 0.0041912182472472964\n"
          ]
        },
        {
          "name": "stderr",
          "output_type": "stream",
          "text": [
            "Epoch 2: train loss=0.003663530236014602, train accuracy=0.6469824789097989: 100%|██████████| 25/25 [00:00<00:00, 111.06it/s] \n",
            "Epoch 2: val loss=0.004181037462034891, val accuracy=0.5988372093023255: 100%|██████████| 3/3 [00:00<00:00, 234.28it/s]\n"
          ]
        },
        {
          "name": "stdout",
          "output_type": "stream",
          "text": [
            "New model saved, val loss 0.0041912182472472964 -> 0.004181037462034891\n"
          ]
        },
        {
          "name": "stderr",
          "output_type": "stream",
          "text": [
            "Epoch 3: train loss=0.0035682002264984546, train accuracy=0.6625567813108372: 100%|██████████| 25/25 [00:00<00:00, 115.85it/s]\n",
            "Epoch 3: val loss=0.004081372778083003, val accuracy=0.6162790697674418: 100%|██████████| 3/3 [00:00<00:00, 221.04it/s]\n"
          ]
        },
        {
          "name": "stdout",
          "output_type": "stream",
          "text": [
            "New model saved, val loss 0.004181037462034891 -> 0.004081372778083003\n"
          ]
        },
        {
          "name": "stderr",
          "output_type": "stream",
          "text": [
            "Epoch 4: train loss=0.003459803474792639, train accuracy=0.6839714471122648: 100%|██████████| 25/25 [00:00<00:00, 128.76it/s] \n",
            "Epoch 4: val loss=0.0040941221076388696, val accuracy=0.5930232558139535: 100%|██████████| 3/3 [00:00<00:00, 276.77it/s]\n",
            "Epoch 5: train loss=0.0033609745449868214, train accuracy=0.6975989617131733: 100%|██████████| 25/25 [00:00<00:00, 106.09it/s]\n",
            "Epoch 5: val loss=0.004074200727911883, val accuracy=0.5813953488372093: 100%|██████████| 3/3 [00:00<00:00, 235.15it/s]\n"
          ]
        },
        {
          "name": "stdout",
          "output_type": "stream",
          "text": [
            "New model saved, val loss 0.004081372778083003 -> 0.004074200727911883\n"
          ]
        },
        {
          "name": "stderr",
          "output_type": "stream",
          "text": [
            "Epoch 6: train loss=0.0033249719857705406, train accuracy=0.7105775470473719: 100%|██████████| 25/25 [00:00<00:00, 155.38it/s]\n",
            "Epoch 6: val loss=0.004025787201731704, val accuracy=0.5988372093023255: 100%|██████████| 3/3 [00:00<00:00, 331.29it/s]\n"
          ]
        },
        {
          "name": "stdout",
          "output_type": "stream",
          "text": [
            "New model saved, val loss 0.004074200727911883 -> 0.004025787201731704\n"
          ]
        },
        {
          "name": "stderr",
          "output_type": "stream",
          "text": [
            "Epoch 7: train loss=0.003214753666224223, train accuracy=0.7164179104477612: 100%|██████████| 25/25 [00:00<00:00, 144.85it/s] \n",
            "Epoch 7: val loss=0.004040473855512087, val accuracy=0.6104651162790697: 100%|██████████| 3/3 [00:00<00:00, 299.27it/s]\n",
            "Epoch 8: train loss=0.0031650505481332558, train accuracy=0.7255029201817002: 100%|██████████| 25/25 [00:00<00:00, 154.73it/s]\n",
            "Epoch 8: val loss=0.004024723588034164, val accuracy=0.5988372093023255: 100%|██████████| 3/3 [00:00<00:00, 382.94it/s]\n"
          ]
        },
        {
          "name": "stdout",
          "output_type": "stream",
          "text": [
            "New model saved, val loss 0.004025787201731704 -> 0.004024723588034164\n"
          ]
        },
        {
          "name": "stderr",
          "output_type": "stream",
          "text": [
            "Epoch 9: train loss=0.0030508738961179563, train accuracy=0.7300454250486696: 100%|██████████| 25/25 [00:00<00:00, 106.52it/s]\n",
            "Epoch 9: val loss=0.003927060511223105, val accuracy=0.6104651162790697: 100%|██████████| 3/3 [00:00<00:00, 308.50it/s]\n"
          ]
        },
        {
          "name": "stdout",
          "output_type": "stream",
          "text": [
            "New model saved, val loss 0.004024723588034164 -> 0.003927060511223105\n"
          ]
        },
        {
          "name": "stderr",
          "output_type": "stream",
          "text": [
            "Epoch 10: train loss=0.002991676340236206, train accuracy=0.7345879299156391: 100%|██████████| 25/25 [00:00<00:00, 166.29it/s] \n",
            "Epoch 10: val loss=0.003954882885134498, val accuracy=0.6104651162790697: 100%|██████████| 3/3 [00:00<00:00, 266.60it/s]\n",
            "Epoch 11: train loss=0.0028834664187285903, train accuracy=0.7495133030499675: 100%|██████████| 25/25 [00:00<00:00, 106.85it/s]\n",
            "Epoch 11: val loss=0.003927568190319594, val accuracy=0.5930232558139535: 100%|██████████| 3/3 [00:00<00:00, 189.69it/s]\n",
            "Epoch 12: train loss=0.002818889195543075, train accuracy=0.7579493835171967: 100%|██████████| 25/25 [00:00<00:00, 125.56it/s] \n",
            "Epoch 12: val loss=0.003980515308158342, val accuracy=0.5930232558139535: 100%|██████████| 3/3 [00:00<00:00, 301.75it/s]\n",
            "Epoch 13: train loss=0.0027347834155901462, train accuracy=0.7748215444516547: 100%|██████████| 25/25 [00:00<00:00, 81.94it/s]\n",
            "Epoch 13: val loss=0.003987330163634101, val accuracy=0.6046511627906976: 100%|██████████| 3/3 [00:00<00:00, 217.27it/s]\n",
            "Epoch 14: train loss=0.002630725038817453, train accuracy=0.7728747566515249: 100%|██████████| 25/25 [00:00<00:00, 131.52it/s] \n",
            "Epoch 14: val loss=0.0040069512676361, val accuracy=0.6162790697674418: 100%|██████████| 3/3 [00:00<00:00, 234.55it/s]\n",
            "Epoch 15: train loss=0.002577636282139208, train accuracy=0.7858533419857235: 100%|██████████| 25/25 [00:00<00:00, 83.23it/s]  \n",
            "Epoch 15: val loss=0.003995470269474872, val accuracy=0.6162790697674418: 100%|██████████| 3/3 [00:00<00:00, 197.07it/s]\n",
            "Epoch 16: train loss=0.0026621552816387278, train accuracy=0.7975340687865022: 100%|██████████| 25/25 [00:00<00:00, 131.20it/s]\n",
            "Epoch 16: val loss=0.004000644264526145, val accuracy=0.6162790697674418: 100%|██████████| 3/3 [00:00<00:00, 200.14it/s]\n",
            "Epoch 17: train loss=0.0025756945960479925, train accuracy=0.8059701492537313: 100%|██████████| 25/25 [00:00<00:00, 114.03it/s]\n",
            "Epoch 17: val loss=0.004038899443870367, val accuracy=0.622093023255814: 100%|██████████| 3/3 [00:00<00:00, 275.06it/s]\n",
            "Epoch 18: train loss=0.002408268542973582, train accuracy=0.8066190785204412: 100%|██████████| 25/25 [00:00<00:00, 119.54it/s] \n",
            "Epoch 18: val loss=0.003968371381593305, val accuracy=0.622093023255814: 100%|██████████| 3/3 [00:00<00:00, 204.99it/s]\n",
            "Epoch 19: train loss=0.002375414161075639, train accuracy=0.81765087605451: 100%|██████████| 25/25 [00:00<00:00, 76.44it/s]    \n",
            "Epoch 19: val loss=0.004116710188776948, val accuracy=0.627906976744186: 100%|██████████| 3/3 [00:00<00:00, 134.12it/s]\n",
            "Epoch 20: train loss=0.002296528313006773, train accuracy=0.826735885788449: 100%|██████████| 25/25 [00:00<00:00, 115.42it/s]  \n",
            "Epoch 20: val loss=0.003853641623674437, val accuracy=0.6337209302325582: 100%|██████████| 3/3 [00:00<00:00, 182.01it/s]\n"
          ]
        },
        {
          "name": "stdout",
          "output_type": "stream",
          "text": [
            "New model saved, val loss 0.003927060511223105 -> 0.003853641623674437\n"
          ]
        },
        {
          "name": "stderr",
          "output_type": "stream",
          "text": [
            "Epoch 21: train loss=0.00233832621520251, train accuracy=0.8293316028552887: 100%|██████████| 25/25 [00:00<00:00, 87.12it/s]  \n",
            "Epoch 21: val loss=0.0041045385391213175, val accuracy=0.6104651162790697: 100%|██████████| 3/3 [00:00<00:00, 232.91it/s]\n",
            "Epoch 22: train loss=0.002221977029969985, train accuracy=0.8423101881894873: 100%|██████████| 25/25 [00:00<00:00, 110.98it/s] \n",
            "Epoch 22: val loss=0.004009449031463889, val accuracy=0.6337209302325582: 100%|██████████| 3/3 [00:00<00:00, 130.42it/s]\n",
            "Epoch 23: train loss=0.00207818512267528, train accuracy=0.8487994808565866: 100%|██████████| 25/25 [00:00<00:00, 140.49it/s]  \n",
            "Epoch 23: val loss=0.004050214016853377, val accuracy=0.6162790697674418: 100%|██████████| 3/3 [00:00<00:00, 405.46it/s]\n",
            "Epoch 24: train loss=0.0021616886433342072, train accuracy=0.8572355613238157: 100%|██████████| 25/25 [00:00<00:00, 111.75it/s]\n",
            "Epoch 24: val loss=0.00398862864388976, val accuracy=0.622093023255814: 100%|██████████| 3/3 [00:00<00:00, 308.98it/s]\n",
            "Epoch 25: train loss=0.0019836748510811872, train accuracy=0.863724853990915: 100%|██████████| 25/25 [00:00<00:00, 140.41it/s] \n",
            "Epoch 25: val loss=0.004014140904642815, val accuracy=0.6104651162790697: 100%|██████████| 3/3 [00:00<00:00, 390.86it/s]\n",
            "Epoch 26: train loss=0.002044728181719548, train accuracy=0.8695652173913043: 100%|██████████| 25/25 [00:00<00:00, 111.92it/s] \n",
            "Epoch 26: val loss=0.004071084739163865, val accuracy=0.6162790697674418: 100%|██████████| 3/3 [00:00<00:00, 122.31it/s]\n",
            "Epoch 27: train loss=0.0018903470364272942, train accuracy=0.8689162881245944: 100%|██████████| 25/25 [00:00<00:00, 142.44it/s]\n",
            "Epoch 27: val loss=0.004049671423989673, val accuracy=0.6395348837209303: 100%|██████████| 3/3 [00:00<00:00, 267.43it/s]\n",
            "Epoch 28: train loss=0.001848913613153231, train accuracy=0.8825438027255029: 100%|██████████| 25/25 [00:00<00:00, 140.37it/s] \n",
            "Epoch 28: val loss=0.004121546741834906, val accuracy=0.6395348837209303: 100%|██████████| 3/3 [00:00<00:00, 260.18it/s]\n",
            "Epoch 29: train loss=0.0018358060112253246, train accuracy=0.8747566515249838: 100%|██████████| 25/25 [00:00<00:00, 102.50it/s]\n",
            "Epoch 29: val loss=0.0040503459614376685, val accuracy=0.622093023255814: 100%|██████████| 3/3 [00:00<00:00, 211.85it/s]\n",
            "Epoch 30: train loss=0.0017675278366269577, train accuracy=0.8916288124594419: 100%|██████████| 25/25 [00:00<00:00, 133.83it/s]\n",
            "Epoch 30: val loss=0.004126493234273999, val accuracy=0.6046511627906976: 100%|██████████| 3/3 [00:00<00:00, 198.76it/s]\n",
            "Epoch 31: train loss=0.001655773188988935, train accuracy=0.8968202465931213: 100%|██████████| 25/25 [00:00<00:00, 91.62it/s]  \n",
            "Epoch 31: val loss=0.004033284131870713, val accuracy=0.6395348837209303: 100%|██████████| 3/3 [00:00<00:00, 142.29it/s]\n",
            "Epoch 32: train loss=0.001607842032666488, train accuracy=0.8987670343932511: 100%|██████████| 25/25 [00:00<00:00, 110.86it/s] \n",
            "Epoch 32: val loss=0.004088263265615286, val accuracy=0.6337209302325582: 100%|██████████| 3/3 [00:00<00:00, 181.23it/s]\n",
            "Epoch 33: train loss=0.0015522310779823411, train accuracy=0.90914990266061: 100%|██████████| 25/25 [00:00<00:00, 123.11it/s]  \n",
            "Epoch 33: val loss=0.004162943640420603, val accuracy=0.622093023255814: 100%|██████████| 3/3 [00:00<00:00, 183.33it/s]\n",
            "Epoch 34: train loss=0.001453230772735545, train accuracy=0.9123945489941596: 100%|██████████| 25/25 [00:00<00:00, 134.84it/s] \n",
            "Epoch 34: val loss=0.0040411706580672155, val accuracy=0.6337209302325582: 100%|██████████| 3/3 [00:00<00:00, 326.13it/s]\n",
            "Epoch 35: train loss=0.0015832755199738093, train accuracy=0.90914990266061: 100%|██████████| 25/25 [00:00<00:00, 98.14it/s]  \n",
            "Epoch 35: val loss=0.004281691080609033, val accuracy=0.6453488372093024: 100%|██████████| 3/3 [00:00<00:00, 227.71it/s]\n",
            "Epoch 36: train loss=0.0013727176690318226, train accuracy=0.9221284879948086: 100%|██████████| 25/25 [00:00<00:00, 134.15it/s]\n",
            "Epoch 36: val loss=0.004107392024855281, val accuracy=0.6162790697674418: 100%|██████████| 3/3 [00:00<00:00, 317.01it/s]\n",
            "Epoch 37: train loss=0.0013528746286241519, train accuracy=0.9312134977287476: 100%|██████████| 25/25 [00:00<00:00, 166.14it/s]\n",
            "Epoch 37: val loss=0.004250508494848429, val accuracy=0.6337209302325582: 100%|██████████| 3/3 [00:00<00:00, 245.91it/s]\n",
            "Epoch 38: train loss=0.001375973166621095, train accuracy=0.9299156391953277: 100%|██████████| 25/25 [00:00<00:00, 100.91it/s]\n",
            "Epoch 38: val loss=0.0042626078045645424, val accuracy=0.6104651162790697: 100%|██████████| 3/3 [00:00<00:00, 385.66it/s]\n",
            "Epoch 39: train loss=0.0012621939917186265, train accuracy=0.9305645684620376: 100%|██████████| 25/25 [00:00<00:00, 157.04it/s]\n",
            "Epoch 39: val loss=0.004247044667948124, val accuracy=0.6453488372093024: 100%|██████████| 3/3 [00:00<00:00, 293.58it/s]\n",
            "Epoch 40: train loss=0.001246779528552259, train accuracy=0.9253731343283582: 100%|██████████| 25/25 [00:00<00:00, 148.14it/s] \n",
            "Epoch 40: val loss=0.004222821097734363, val accuracy=0.6337209302325582: 100%|██████████| 3/3 [00:00<00:00, 401.96it/s]\n",
            "Epoch 41: train loss=0.0011861774802091908, train accuracy=0.9428942245295263: 100%|██████████| 25/25 [00:00<00:00, 152.71it/s]\n",
            "Epoch 41: val loss=0.0043832752420458684, val accuracy=0.627906976744186: 100%|██████████| 3/3 [00:00<00:00, 398.93it/s]\n",
            "Epoch 42: train loss=0.0010596805510197577, train accuracy=0.9513303049967553: 100%|██████████| 25/25 [00:00<00:00, 123.94it/s]\n",
            "Epoch 42: val loss=0.004156013994022857, val accuracy=0.6337209302325582: 100%|██████████| 3/3 [00:00<00:00, 35.09it/s]\n",
            "Epoch 43: train loss=0.0011893261700269078, train accuracy=0.9539260220635951: 100%|██████████| 25/25 [00:00<00:00, 114.29it/s]\n",
            "Epoch 43: val loss=0.004341503995102506, val accuracy=0.6453488372093024: 100%|██████████| 3/3 [00:00<00:00, 211.14it/s]\n",
            "Epoch 44: train loss=0.0011580293801100048, train accuracy=0.9539260220635951: 100%|██████████| 25/25 [00:00<00:00, 125.95it/s]\n",
            "Epoch 44: val loss=0.004544626921415329, val accuracy=0.622093023255814: 100%|██████████| 3/3 [00:00<00:00, 265.68it/s]\n",
            "Epoch 45: train loss=0.001004652390323004, train accuracy=0.9526281635301752: 100%|██████████| 25/25 [00:00<00:00, 125.44it/s] \n",
            "Epoch 45: val loss=0.004479496198338132, val accuracy=0.6162790697674418: 100%|██████████| 3/3 [00:00<00:00, 214.10it/s]\n",
            "Epoch 46: train loss=0.0009422044110793251, train accuracy=0.9539260220635951: 100%|██████████| 25/25 [00:00<00:00, 146.16it/s]\n",
            "Epoch 46: val loss=0.004498121436945227, val accuracy=0.6162790697674418: 100%|██████████| 3/3 [00:00<00:00, 207.75it/s]\n",
            "Epoch 47: train loss=0.0009190230077346527, train accuracy=0.963659961064244: 100%|██████████| 25/25 [00:00<00:00, 136.92it/s] \n",
            "Epoch 47: val loss=0.004593419387590053, val accuracy=0.6104651162790697: 100%|██████████| 3/3 [00:00<00:00, 369.55it/s]\n",
            "Epoch 48: train loss=0.0009902169532701615, train accuracy=0.9656067488643738: 100%|██████████| 25/25 [00:00<00:00, 103.29it/s]\n",
            "Epoch 48: val loss=0.004564096847938937, val accuracy=0.627906976744186: 100%|██████████| 3/3 [00:00<00:00, 271.76it/s]\n",
            "Epoch 49: train loss=0.0008778389178259971, train accuracy=0.9688513951979234: 100%|██████████| 25/25 [00:00<00:00, 154.86it/s]\n",
            "Epoch 49: val loss=0.004754883605380391, val accuracy=0.622093023255814: 100%|██████████| 3/3 [00:00<00:00, 206.05it/s]\n",
            "Epoch 50: train loss=0.0010103474478107392, train accuracy=0.9649578195976638: 100%|██████████| 25/25 [00:00<00:00, 139.52it/s]\n",
            "Epoch 50: val loss=0.004409831883602364, val accuracy=0.6337209302325582: 100%|██████████| 3/3 [00:00<00:00, 322.20it/s]\n",
            "Epoch 51: train loss=0.0007848067089460794, train accuracy=0.9740428293316029: 100%|██████████| 25/25 [00:00<00:00, 103.77it/s]\n",
            "Epoch 51: val loss=0.004551621630441311, val accuracy=0.627906976744186: 100%|██████████| 3/3 [00:00<00:00, 311.08it/s]\n",
            "Epoch 52: train loss=0.000754885357368851, train accuracy=0.9785853341985724: 100%|██████████| 25/25 [00:00<00:00, 157.48it/s] \n",
            "Epoch 52: val loss=0.004793957308974377, val accuracy=0.6104651162790697: 100%|██████████| 3/3 [00:00<00:00, 235.60it/s]\n",
            "Epoch 53: train loss=0.0006750022193524529, train accuracy=0.9766385463984426: 100%|██████████| 25/25 [00:00<00:00, 142.41it/s]\n",
            "Epoch 53: val loss=0.00457296970971795, val accuracy=0.627906976744186: 100%|██████████| 3/3 [00:00<00:00, 256.21it/s]\n",
            "Epoch 54: train loss=0.0006697210159919077, train accuracy=0.9785853341985724: 100%|██████████| 25/25 [00:00<00:00, 115.90it/s]\n",
            "Epoch 54: val loss=0.00459538183586542, val accuracy=0.6104651162790697: 100%|██████████| 3/3 [00:00<00:00, 291.72it/s]\n",
            "Epoch 55: train loss=0.0006619528102785794, train accuracy=0.9824789097988319: 100%|██████████| 25/25 [00:00<00:00, 151.22it/s]\n",
            "Epoch 55: val loss=0.004677574128605599, val accuracy=0.622093023255814: 100%|██████████| 3/3 [00:00<00:00, 335.16it/s]\n",
            "Epoch 56: train loss=0.0005733800144221858, train accuracy=0.9831278390655419: 100%|██████████| 25/25 [00:00<00:00, 156.47it/s]\n",
            "Epoch 56: val loss=0.004499304779740267, val accuracy=0.6337209302325582: 100%|██████████| 3/3 [00:00<00:00, 243.61it/s]\n",
            "Epoch 57: train loss=0.0007479709055151435, train accuracy=0.9850746268656716: 100%|██████████| 25/25 [00:00<00:00, 113.78it/s]\n",
            "Epoch 57: val loss=0.004597062115059342, val accuracy=0.6104651162790697: 100%|██████████| 3/3 [00:00<00:00, 278.14it/s]\n",
            "Epoch 58: train loss=0.0006049409518374939, train accuracy=0.9863724853990915: 100%|██████████| 25/25 [00:00<00:00, 151.62it/s]\n",
            "Epoch 58: val loss=0.004672602078942365, val accuracy=0.627906976744186: 100%|██████████| 3/3 [00:00<00:00, 289.37it/s]\n",
            "Epoch 59: train loss=0.0005923223637629453, train accuracy=0.9857235561323816: 100%|██████████| 25/25 [00:00<00:00, 140.86it/s]\n",
            "Epoch 59: val loss=0.004749688991280489, val accuracy=0.622093023255814: 100%|██████████| 3/3 [00:00<00:00, 247.97it/s]\n",
            "Epoch 60: train loss=0.000520604181524649, train accuracy=0.9889682024659312: 100%|██████████| 25/25 [00:00<00:00, 141.35it/s] \n",
            "Epoch 60: val loss=0.0047339325727418415, val accuracy=0.6337209302325582: 100%|██████████| 3/3 [00:00<00:00, 291.16it/s]\n",
            "Epoch 61: train loss=0.0006546223648545187, train accuracy=0.9883192731992213: 100%|██████████| 25/25 [00:00<00:00, 148.68it/s] \n",
            "Epoch 61: val loss=0.004793097113454064, val accuracy=0.622093023255814: 100%|██████████| 3/3 [00:00<00:00, 360.86it/s]\n",
            "Epoch 62: train loss=0.0005314879972756025, train accuracy=0.9883192731992213: 100%|██████████| 25/25 [00:00<00:00, 110.10it/s] \n",
            "Epoch 62: val loss=0.004752743556055912, val accuracy=0.6046511627906976: 100%|██████████| 3/3 [00:00<00:00, 248.13it/s]\n",
            "Epoch 63: train loss=0.0004726019431096559, train accuracy=0.9883192731992213: 100%|██████████| 25/25 [00:00<00:00, 167.32it/s] \n",
            "Epoch 63: val loss=0.004967948205249254, val accuracy=0.6046511627906976: 100%|██████████| 3/3 [00:00<00:00, 322.53it/s]\n",
            "Epoch 64: train loss=0.000505332103135677, train accuracy=0.9876703439325114: 100%|██████████| 25/25 [00:00<00:00, 151.54it/s]  \n",
            "Epoch 64: val loss=0.004845053823881371, val accuracy=0.5988372093023255: 100%|██████████| 3/3 [00:00<00:00, 342.67it/s]\n",
            "Epoch 65: train loss=0.0006973801215773353, train accuracy=0.9844256975989617: 100%|██████████| 25/25 [00:00<00:00, 157.82it/s] \n",
            "Epoch 65: val loss=0.004817444224690282, val accuracy=0.627906976744186: 100%|██████████| 3/3 [00:00<00:00, 294.87it/s]\n",
            "Epoch 66: train loss=0.0005724624688945599, train accuracy=0.9870214146658014: 100%|██████████| 25/25 [00:00<00:00, 128.16it/s] \n",
            "Epoch 66: val loss=0.005048505961894989, val accuracy=0.627906976744186: 100%|██████████| 3/3 [00:00<00:00, 39.07it/s]\n",
            "Epoch 67: train loss=0.00043674939330776044, train accuracy=0.9902660609993511: 100%|██████████| 25/25 [00:00<00:00, 125.90it/s]\n",
            "Epoch 67: val loss=0.004884560267592586, val accuracy=0.6162790697674418: 100%|██████████| 3/3 [00:00<00:00, 196.83it/s]\n",
            "Epoch 68: train loss=0.000493525066289091, train accuracy=0.9850746268656716: 100%|██████████| 25/25 [00:00<00:00, 111.97it/s]  \n",
            "Epoch 68: val loss=0.004961555693731751, val accuracy=0.627906976744186: 100%|██████████| 3/3 [00:00<00:00, 130.41it/s]\n",
            "Epoch 69: train loss=0.000465466975706456, train accuracy=0.9837767683322518: 100%|██████████| 25/25 [00:00<00:00, 107.36it/s]  \n",
            "Epoch 69: val loss=0.004844102748604708, val accuracy=0.622093023255814: 100%|██████████| 3/3 [00:00<00:00, 189.46it/s]\n",
            "Epoch 70: train loss=0.0005273213017777836, train accuracy=0.9883192731992213: 100%|██████████| 25/25 [00:00<00:00, 75.93it/s] \n",
            "Epoch 70: val loss=0.0049598547954892, val accuracy=0.6337209302325582: 100%|██████████| 3/3 [00:00<00:00, 184.04it/s]\n",
            "Epoch 71: train loss=0.00046671441853491226, train accuracy=0.9935107073329007: 100%|██████████| 25/25 [00:00<00:00, 132.82it/s]\n",
            "Epoch 71: val loss=0.004789203232110933, val accuracy=0.627906976744186: 100%|██████████| 3/3 [00:00<00:00, 284.86it/s]\n",
            "Epoch 72: train loss=0.0003512477620681875, train accuracy=0.9935107073329007: 100%|██████████| 25/25 [00:00<00:00, 124.22it/s] \n",
            "Epoch 72: val loss=0.004911665306534878, val accuracy=0.6395348837209303: 100%|██████████| 3/3 [00:00<00:00, 274.35it/s]\n",
            "Epoch 73: train loss=0.00036055151987180237, train accuracy=0.9941596365996106: 100%|██████████| 25/25 [00:00<00:00, 105.48it/s]\n",
            "Epoch 73: val loss=0.004685970586399699, val accuracy=0.6337209302325582: 100%|██████████| 3/3 [00:00<00:00, 269.02it/s]\n",
            "Epoch 74: train loss=0.00035728028951857016, train accuracy=0.9915639195327709: 100%|██████████| 25/25 [00:00<00:00, 151.20it/s]\n",
            "Epoch 74: val loss=0.004930484086968178, val accuracy=0.6627906976744186: 100%|██████████| 3/3 [00:00<00:00, 295.59it/s]\n",
            "Epoch 75: train loss=0.000420463442473656, train accuracy=0.9935107073329007: 100%|██████████| 25/25 [00:00<00:00, 150.87it/s]  \n",
            "Epoch 75: val loss=0.004763764264278634, val accuracy=0.6395348837209303: 100%|██████████| 3/3 [00:00<00:00, 245.49it/s]\n",
            "Epoch 76: train loss=0.00048172746535383364, train accuracy=0.9922128487994809: 100%|██████████| 25/25 [00:00<00:00, 159.52it/s]\n",
            "Epoch 76: val loss=0.00480032192413197, val accuracy=0.6337209302325582: 100%|██████████| 3/3 [00:00<00:00, 275.22it/s]\n",
            "Epoch 77: train loss=0.0004342199399303415, train accuracy=0.990914990266061: 100%|██████████| 25/25 [00:00<00:00, 145.06it/s]  \n",
            "Epoch 77: val loss=0.004633427619241005, val accuracy=0.622093023255814: 100%|██████████| 3/3 [00:00<00:00, 284.93it/s]\n",
            "Epoch 78: train loss=0.00034270956955178075, train accuracy=0.9928617780661908: 100%|██████████| 25/25 [00:00<00:00, 107.85it/s]\n",
            "Epoch 78: val loss=0.004937042850394582, val accuracy=0.6104651162790697: 100%|██████████| 3/3 [00:00<00:00, 283.73it/s]\n",
            "Epoch 79: train loss=0.0004748521489922216, train accuracy=0.9902660609993511: 100%|██████████| 25/25 [00:00<00:00, 109.70it/s] \n",
            "Epoch 79: val loss=0.005196608603000641, val accuracy=0.6337209302325582: 100%|██████████| 3/3 [00:00<00:00, 171.47it/s]\n",
            "Epoch 80: train loss=0.000576441625276995, train accuracy=0.9850746268656716: 100%|██████████| 25/25 [00:00<00:00, 103.78it/s]  \n",
            "Epoch 80: val loss=0.005121770726386891, val accuracy=0.622093023255814: 100%|██████████| 3/3 [00:00<00:00, 259.74it/s]\n",
            "Epoch 81: train loss=0.0004488143932115405, train accuracy=0.9857235561323816: 100%|██████████| 25/25 [00:00<00:00, 109.60it/s] \n",
            "Epoch 81: val loss=0.005199883393076963, val accuracy=0.5872093023255814: 100%|██████████| 3/3 [00:00<00:00, 235.46it/s]\n",
            "Epoch 82: train loss=0.00037405097471534393, train accuracy=0.9915639195327709: 100%|██████████| 25/25 [00:00<00:00, 77.29it/s] \n",
            "Epoch 82: val loss=0.005046774308348811, val accuracy=0.5988372093023255: 100%|██████████| 3/3 [00:00<00:00, 160.66it/s]\n",
            "Epoch 83: train loss=0.00042717032724390704, train accuracy=0.9883192731992213: 100%|██████████| 25/25 [00:00<00:00, 97.98it/s]\n",
            "Epoch 83: val loss=0.005120827534864115, val accuracy=0.627906976744186: 100%|██████████| 3/3 [00:00<00:00, 193.60it/s]\n",
            "Epoch 84: train loss=0.00026339943636158005, train accuracy=0.9941596365996106: 100%|██████████| 25/25 [00:00<00:00, 119.87it/s]\n",
            "Epoch 84: val loss=0.005094413667224174, val accuracy=0.627906976744186: 100%|██████████| 3/3 [00:00<00:00, 324.03it/s]\n",
            "Epoch 85: train loss=0.00034240681296099633, train accuracy=0.9935107073329007: 100%|██████████| 25/25 [00:00<00:00, 118.90it/s]\n",
            "Epoch 85: val loss=0.005052245806816013, val accuracy=0.622093023255814: 100%|██████████| 3/3 [00:00<00:00, 54.32it/s]\n",
            "Epoch 86: train loss=0.000363432587409062, train accuracy=0.990914990266061: 100%|██████████| 25/25 [00:00<00:00, 111.50it/s]   \n",
            "Epoch 86: val loss=0.0052995245124018465, val accuracy=0.6104651162790697: 100%|██████████| 3/3 [00:00<00:00, 199.63it/s]\n",
            "Epoch 87: train loss=0.0002713581277595411, train accuracy=0.9935107073329007: 100%|██████████| 25/25 [00:00<00:00, 133.54it/s] \n",
            "Epoch 87: val loss=0.004979474080163379, val accuracy=0.6337209302325582: 100%|██████████| 3/3 [00:00<00:00, 244.04it/s]\n",
            "Epoch 88: train loss=0.0002739956453781017, train accuracy=0.9935107073329007: 100%|██████████| 25/25 [00:00<00:00, 133.13it/s] \n",
            "Epoch 88: val loss=0.00486796626517939, val accuracy=0.6337209302325582: 100%|██████████| 3/3 [00:00<00:00, 231.94it/s]\n",
            "Epoch 89: train loss=0.0002028077359128161, train accuracy=0.9948085658663206: 100%|██████████| 25/25 [00:00<00:00, 136.48it/s] \n",
            "Epoch 89: val loss=0.005171296814846438, val accuracy=0.6395348837209303: 100%|██████████| 3/3 [00:00<00:00, 267.93it/s]\n",
            "Epoch 90: train loss=0.00023711136663737506, train accuracy=0.9961064243997404: 100%|██████████| 25/25 [00:00<00:00, 133.44it/s]\n",
            "Epoch 90: val loss=0.004916945169138354, val accuracy=0.6162790697674418: 100%|██████████| 3/3 [00:00<00:00, 295.71it/s]\n",
            "Epoch 91: train loss=0.0003808094019349483, train accuracy=0.9954574951330305: 100%|██████████| 25/25 [00:00<00:00, 99.40it/s] \n",
            "Epoch 91: val loss=0.005173593066459478, val accuracy=0.6453488372093024: 100%|██████████| 3/3 [00:00<00:00, 255.13it/s]\n",
            "Epoch 92: train loss=0.0002571891870598643, train accuracy=0.9935107073329007: 100%|██████████| 25/25 [00:00<00:00, 116.93it/s] \n",
            "Epoch 92: val loss=0.005219757037107335, val accuracy=0.627906976744186: 100%|██████████| 3/3 [00:00<00:00, 262.72it/s]\n",
            "Epoch 93: train loss=0.00032726442713307377, train accuracy=0.9948085658663206: 100%|██████████| 25/25 [00:00<00:00, 113.77it/s]\n",
            "Epoch 93: val loss=0.005176609338716019, val accuracy=0.622093023255814: 100%|██████████| 3/3 [00:00<00:00, 220.32it/s]\n",
            "Epoch 94: train loss=0.0005076320299190952, train accuracy=0.9915639195327709: 100%|██████████| 25/25 [00:00<00:00, 108.51it/s] \n",
            "Epoch 94: val loss=0.004952858700308689, val accuracy=0.6104651162790697: 100%|██████████| 3/3 [00:00<00:00, 210.11it/s]\n",
            "Epoch 95: train loss=0.00023530765831238415, train accuracy=0.9954574951330305: 100%|██████████| 25/25 [00:00<00:00, 111.44it/s]\n",
            "Epoch 95: val loss=0.005171631224626719, val accuracy=0.622093023255814: 100%|██████████| 3/3 [00:00<00:00, 305.11it/s]\n",
            "Epoch 96: train loss=0.0002527805894376356, train accuracy=0.9941596365996106: 100%|██████████| 25/25 [00:00<00:00, 75.87it/s] \n",
            "Epoch 96: val loss=0.0050776647620422895, val accuracy=0.5988372093023255: 100%|██████████| 3/3 [00:00<00:00, 265.01it/s]\n",
            "Epoch 97: train loss=0.0002859103926116, train accuracy=0.9935107073329007: 100%|██████████| 25/25 [00:00<00:00, 132.64it/s]    \n",
            "Epoch 97: val loss=0.005246712284725766, val accuracy=0.6046511627906976: 100%|██████████| 3/3 [00:00<00:00, 354.39it/s]\n",
            "Epoch 98: train loss=0.00033961403492468274, train accuracy=0.9915639195327709: 100%|██████████| 25/25 [00:00<00:00, 142.51it/s]\n",
            "Epoch 98: val loss=0.00528108345907788, val accuracy=0.6162790697674418: 100%|██████████| 3/3 [00:00<00:00, 335.75it/s]\n",
            "Epoch 99: train loss=0.0002649551611647522, train accuracy=0.9941596365996106: 100%|██████████| 25/25 [00:00<00:00, 170.99it/s] \n",
            "Epoch 99: val loss=0.0049072693773480345, val accuracy=0.6337209302325582: 100%|██████████| 3/3 [00:00<00:00, 310.95it/s]\n",
            "Epoch 0: train loss=0.00434036980311179, train accuracy=0.4698247890979883: 100%|██████████| 25/25 [00:00<00:00, 126.81it/s]  \n",
            "Epoch 0: val loss=0.0044238388884899225, val accuracy=0.5581395348837209: 100%|██████████| 3/3 [00:00<00:00, 230.38it/s]\n"
          ]
        },
        {
          "name": "stdout",
          "output_type": "stream",
          "text": [
            "New model saved, val loss inf -> 0.0044238388884899225\n"
          ]
        },
        {
          "name": "stderr",
          "output_type": "stream",
          "text": [
            "Epoch 1: train loss=0.003907597612282582, train accuracy=0.5898767034393251: 100%|██████████| 25/25 [00:00<00:00, 170.13it/s] \n",
            "Epoch 1: val loss=0.004324646190155384, val accuracy=0.5581395348837209: 100%|██████████| 3/3 [00:00<00:00, 303.64it/s]\n"
          ]
        },
        {
          "name": "stdout",
          "output_type": "stream",
          "text": [
            "New model saved, val loss 0.0044238388884899225 -> 0.004324646190155384\n"
          ]
        },
        {
          "name": "stderr",
          "output_type": "stream",
          "text": [
            "Epoch 2: train loss=0.003708123290484637, train accuracy=0.6164828033744322: 100%|██████████| 25/25 [00:00<00:00, 172.53it/s] \n",
            "Epoch 2: val loss=0.00419528661079185, val accuracy=0.5581395348837209: 100%|██████████| 3/3 [00:00<00:00, 358.27it/s]\n"
          ]
        },
        {
          "name": "stdout",
          "output_type": "stream",
          "text": [
            "New model saved, val loss 0.004324646190155384 -> 0.00419528661079185\n"
          ]
        },
        {
          "name": "stderr",
          "output_type": "stream",
          "text": [
            "Epoch 3: train loss=0.0036926068302720184, train accuracy=0.6054510058403634: 100%|██████████| 25/25 [00:00<00:00, 165.69it/s]\n",
            "Epoch 3: val loss=0.0041840137090793875, val accuracy=0.563953488372093: 100%|██████████| 3/3 [00:00<00:00, 338.67it/s]\n"
          ]
        },
        {
          "name": "stdout",
          "output_type": "stream",
          "text": [
            "New model saved, val loss 0.00419528661079185 -> 0.0041840137090793875\n"
          ]
        },
        {
          "name": "stderr",
          "output_type": "stream",
          "text": [
            "Epoch 4: train loss=0.0036526773847750764, train accuracy=0.6294613887086308: 100%|██████████| 25/25 [00:00<00:00, 161.07it/s]\n",
            "Epoch 4: val loss=0.004136017675316611, val accuracy=0.5813953488372093: 100%|██████████| 3/3 [00:00<00:00, 301.68it/s]\n"
          ]
        },
        {
          "name": "stdout",
          "output_type": "stream",
          "text": [
            "New model saved, val loss 0.0041840137090793875 -> 0.004136017675316611\n"
          ]
        },
        {
          "name": "stderr",
          "output_type": "stream",
          "text": [
            "Epoch 5: train loss=0.003697894663488919, train accuracy=0.627514600908501: 100%|██████████| 25/25 [00:00<00:00, 174.81it/s]  \n",
            "Epoch 5: val loss=0.0041156591371048325, val accuracy=0.5872093023255814: 100%|██████████| 3/3 [00:00<00:00, 297.09it/s]\n"
          ]
        },
        {
          "name": "stdout",
          "output_type": "stream",
          "text": [
            "New model saved, val loss 0.004136017675316611 -> 0.0041156591371048325\n"
          ]
        },
        {
          "name": "stderr",
          "output_type": "stream",
          "text": [
            "Epoch 6: train loss=0.0037409268479158477, train accuracy=0.6262167423750811: 100%|██████████| 25/25 [00:00<00:00, 178.74it/s]\n",
            "Epoch 6: val loss=0.004100330953681191, val accuracy=0.5988372093023255: 100%|██████████| 3/3 [00:00<00:00, 213.95it/s]\n"
          ]
        },
        {
          "name": "stdout",
          "output_type": "stream",
          "text": [
            "New model saved, val loss 0.0041156591371048325 -> 0.004100330953681191\n"
          ]
        },
        {
          "name": "stderr",
          "output_type": "stream",
          "text": [
            "Epoch 7: train loss=0.0037068535490982876, train accuracy=0.6229720960415315: 100%|██████████| 25/25 [00:00<00:00, 124.72it/s]\n",
            "Epoch 7: val loss=0.004195380176222602, val accuracy=0.5813953488372093: 100%|██████████| 3/3 [00:00<00:00, 197.56it/s]\n",
            "Epoch 8: train loss=0.003654795090228532, train accuracy=0.6301103179753407: 100%|██████████| 25/25 [00:00<00:00, 138.92it/s] \n",
            "Epoch 8: val loss=0.004160534503848054, val accuracy=0.5930232558139535: 100%|██████████| 3/3 [00:00<00:00, 266.06it/s]\n",
            "Epoch 9: train loss=0.0036554034366613856, train accuracy=0.6268656716417911: 100%|██████████| 25/25 [00:00<00:00, 125.71it/s]\n",
            "Epoch 9: val loss=0.004157349380642869, val accuracy=0.5872093023255814: 100%|██████████| 3/3 [00:00<00:00, 91.71it/s]\n",
            "Epoch 10: train loss=0.003618502949523431, train accuracy=0.6223231667748216: 100%|██████████| 25/25 [00:00<00:00, 96.01it/s] \n",
            "Epoch 10: val loss=0.004103182706721994, val accuracy=0.5930232558139535: 100%|██████████| 3/3 [00:00<00:00, 260.38it/s]\n",
            "Epoch 11: train loss=0.0036335930295921933, train accuracy=0.6262167423750811: 100%|██████████| 25/25 [00:00<00:00, 113.20it/s]\n",
            "Epoch 11: val loss=0.004149542818235797, val accuracy=0.5697674418604651: 100%|██████████| 3/3 [00:00<00:00, 285.99it/s]\n",
            "Epoch 12: train loss=0.0036129582670893783, train accuracy=0.6281635301752109: 100%|██████████| 25/25 [00:00<00:00, 111.43it/s]\n",
            "Epoch 12: val loss=0.004165401032497716, val accuracy=0.6046511627906976: 100%|██████████| 3/3 [00:00<00:00, 220.78it/s]\n",
            "Epoch 13: train loss=0.0037058231739314014, train accuracy=0.6340038935756003: 100%|██████████| 25/25 [00:00<00:00, 127.59it/s]\n",
            "Epoch 13: val loss=0.0041982738604379255, val accuracy=0.5872093023255814: 100%|██████████| 3/3 [00:00<00:00, 212.26it/s]\n",
            "Epoch 14: train loss=0.003667847405077187, train accuracy=0.6346528228423102: 100%|██████████| 25/25 [00:00<00:00, 140.74it/s] \n",
            "Epoch 14: val loss=0.0041340462170368015, val accuracy=0.6046511627906976: 100%|██████████| 3/3 [00:00<00:00, 267.94it/s]\n",
            "Epoch 15: train loss=0.0037092257056585928, train accuracy=0.6333549643088904: 100%|██████████| 25/25 [00:00<00:00, 142.98it/s]\n",
            "Epoch 15: val loss=0.004117693405511768, val accuracy=0.5872093023255814: 100%|██████████| 3/3 [00:00<00:00, 406.79it/s]\n",
            "Epoch 16: train loss=0.0036014836960841434, train accuracy=0.6307592472420506: 100%|██████████| 25/25 [00:00<00:00, 161.79it/s]\n",
            "Epoch 16: val loss=0.0041568491521269775, val accuracy=0.5930232558139535: 100%|██████████| 3/3 [00:00<00:00, 295.69it/s]\n",
            "Epoch 17: train loss=0.0036274849362840597, train accuracy=0.6346528228423102: 100%|██████████| 25/25 [00:00<00:00, 125.68it/s]\n",
            "Epoch 17: val loss=0.004183067745247552, val accuracy=0.5930232558139535: 100%|██████████| 3/3 [00:00<00:00, 255.50it/s]\n",
            "Epoch 18: train loss=0.003656715009600833, train accuracy=0.627514600908501: 100%|██████████| 25/25 [00:00<00:00, 144.77it/s]  \n",
            "Epoch 18: val loss=0.004092714814252631, val accuracy=0.5872093023255814: 100%|██████████| 3/3 [00:00<00:00, 276.54it/s]\n"
          ]
        },
        {
          "name": "stdout",
          "output_type": "stream",
          "text": [
            "New model saved, val loss 0.004100330953681191 -> 0.004092714814252631\n"
          ]
        },
        {
          "name": "stderr",
          "output_type": "stream",
          "text": [
            "Epoch 19: train loss=0.0035860318301328973, train accuracy=0.63659961064244: 100%|██████████| 25/25 [00:00<00:00, 179.28it/s]  \n",
            "Epoch 19: val loss=0.004080695121787315, val accuracy=0.6046511627906976: 100%|██████████| 3/3 [00:00<00:00, 376.82it/s]\n"
          ]
        },
        {
          "name": "stdout",
          "output_type": "stream",
          "text": [
            "New model saved, val loss 0.004092714814252631 -> 0.004080695121787315\n"
          ]
        },
        {
          "name": "stderr",
          "output_type": "stream",
          "text": [
            "Epoch 20: train loss=0.003681791739599957, train accuracy=0.6333549643088904: 100%|██████████| 25/25 [00:00<00:00, 185.14it/s]\n",
            "Epoch 20: val loss=0.004082365091456924, val accuracy=0.6104651162790697: 100%|██████████| 3/3 [00:00<00:00, 314.40it/s]\n",
            "Epoch 21: train loss=0.0036579047333954373, train accuracy=0.6320571057754705: 100%|██████████| 25/25 [00:00<00:00, 175.05it/s]\n",
            "Epoch 21: val loss=0.004141012943068216, val accuracy=0.6104651162790697: 100%|██████████| 3/3 [00:00<00:00, 443.25it/s]\n",
            "Epoch 22: train loss=0.003614975667711514, train accuracy=0.6424399740428294: 100%|██████████| 25/25 [00:00<00:00, 175.02it/s] \n",
            "Epoch 22: val loss=0.004165106128121532, val accuracy=0.5930232558139535: 100%|██████████| 3/3 [00:00<00:00, 379.43it/s]\n",
            "Epoch 23: train loss=0.0036784160028874757, train accuracy=0.6333549643088904: 100%|██████████| 25/25 [00:00<00:00, 182.93it/s]\n",
            "Epoch 23: val loss=0.004150439486947171, val accuracy=0.6046511627906976: 100%|██████████| 3/3 [00:00<00:00, 325.48it/s]\n",
            "Epoch 24: train loss=0.0037145362725743685, train accuracy=0.6353017521090201: 100%|██████████| 25/25 [00:00<00:00, 170.79it/s]\n",
            "Epoch 24: val loss=0.004099544570889584, val accuracy=0.6046511627906976: 100%|██████████| 3/3 [00:00<00:00, 336.91it/s]\n",
            "Epoch 25: train loss=0.003623010236516082, train accuracy=0.6346528228423102: 100%|██████████| 25/25 [00:00<00:00, 199.18it/s] \n",
            "Epoch 25: val loss=0.004115276731723963, val accuracy=0.6104651162790697: 100%|██████████| 3/3 [00:00<00:00, 313.68it/s]\n",
            "Epoch 26: train loss=0.0035979090902729517, train accuracy=0.6353017521090201: 100%|██████████| 25/25 [00:00<00:00, 149.05it/s]\n",
            "Epoch 26: val loss=0.004172711871391119, val accuracy=0.6046511627906976: 100%|██████████| 3/3 [00:00<00:00, 185.87it/s]\n",
            "Epoch 27: train loss=0.0035718699831377757, train accuracy=0.6353017521090201: 100%|██████████| 25/25 [00:00<00:00, 174.94it/s]\n",
            "Epoch 27: val loss=0.004141283156566842, val accuracy=0.6046511627906976: 100%|██████████| 3/3 [00:00<00:00, 339.89it/s]\n",
            "Epoch 28: train loss=0.0036248761693971794, train accuracy=0.6385463984425698: 100%|██████████| 25/25 [00:00<00:00, 186.81it/s]\n",
            "Epoch 28: val loss=0.004152992003878882, val accuracy=0.6104651162790697: 100%|██████████| 3/3 [00:00<00:00, 392.37it/s]\n",
            "Epoch 29: train loss=0.003590690565526988, train accuracy=0.6398442569759896: 100%|██████████| 25/25 [00:00<00:00, 193.40it/s] \n",
            "Epoch 29: val loss=0.004227575694405755, val accuracy=0.5930232558139535: 100%|██████████| 3/3 [00:00<00:00, 427.60it/s]\n",
            "Epoch 30: train loss=0.0036007443238666196, train accuracy=0.6353017521090201: 100%|██████████| 25/25 [00:00<00:00, 164.49it/s]\n",
            "Epoch 30: val loss=0.004293068030545878, val accuracy=0.6046511627906976: 100%|██████████| 3/3 [00:00<00:00, 87.71it/s]\n",
            "Epoch 31: train loss=0.003603618623450698, train accuracy=0.627514600908501: 100%|██████████| 25/25 [00:00<00:00, 151.71it/s]  \n",
            "Epoch 31: val loss=0.0041305133423139885, val accuracy=0.5872093023255814: 100%|██████████| 3/3 [00:00<00:00, 293.88it/s]\n",
            "Epoch 32: train loss=0.00362211202817022, train accuracy=0.6301103179753407: 100%|██████████| 25/25 [00:00<00:00, 178.86it/s] \n",
            "Epoch 32: val loss=0.004114864610655363, val accuracy=0.6046511627906976: 100%|██████████| 3/3 [00:00<00:00, 385.32it/s]\n",
            "Epoch 33: train loss=0.003662860737769036, train accuracy=0.6391953277092797: 100%|██████████| 25/25 [00:00<00:00, 149.16it/s] \n",
            "Epoch 33: val loss=0.004092309017514073, val accuracy=0.5930232558139535: 100%|██████████| 3/3 [00:00<00:00, 295.09it/s]\n",
            "Epoch 34: train loss=0.003592023005893987, train accuracy=0.6359506813757301: 100%|██████████| 25/25 [00:00<00:00, 100.91it/s] \n",
            "Epoch 34: val loss=0.004100634434888529, val accuracy=0.5930232558139535: 100%|██████████| 3/3 [00:00<00:00, 212.49it/s]\n",
            "Epoch 35: train loss=0.003611263731406309, train accuracy=0.6372485399091499: 100%|██████████| 25/25 [00:00<00:00, 112.86it/s] \n",
            "Epoch 35: val loss=0.004145867602769719, val accuracy=0.6162790697674418: 100%|██████████| 3/3 [00:00<00:00, 175.06it/s]\n",
            "Epoch 36: train loss=0.0035911265477818533, train accuracy=0.6430889033095393: 100%|██████████| 25/25 [00:00<00:00, 110.16it/s]\n",
            "Epoch 36: val loss=0.0041278455146523405, val accuracy=0.622093023255814: 100%|██████████| 3/3 [00:00<00:00, 232.14it/s]\n",
            "Epoch 37: train loss=0.0036353868934568224, train accuracy=0.6443867618429591: 100%|██████████| 25/25 [00:00<00:00, 73.70it/s] \n",
            "Epoch 37: val loss=0.004148294672716496, val accuracy=0.5988372093023255: 100%|██████████| 3/3 [00:00<00:00, 353.94it/s]\n",
            "Epoch 38: train loss=0.003598613612532693, train accuracy=0.6340038935756003: 100%|██████████| 25/25 [00:00<00:00, 143.96it/s] \n",
            "Epoch 38: val loss=0.004191040992736816, val accuracy=0.6046511627906976: 100%|██████████| 3/3 [00:00<00:00, 243.85it/s]\n",
            "Epoch 39: train loss=0.0036339554246720518, train accuracy=0.6424399740428294: 100%|██████████| 25/25 [00:00<00:00, 135.61it/s]\n",
            "Epoch 39: val loss=0.004130943050218183, val accuracy=0.5930232558139535: 100%|██████████| 3/3 [00:00<00:00, 188.65it/s]\n",
            "Epoch 40: train loss=0.0035981899496025267, train accuracy=0.63659961064244: 100%|██████████| 25/25 [00:00<00:00, 155.88it/s]  \n",
            "Epoch 40: val loss=0.004160993234362713, val accuracy=0.5813953488372093: 100%|██████████| 3/3 [00:00<00:00, 238.92it/s]\n",
            "Epoch 41: train loss=0.0036282289500053945, train accuracy=0.6385463984425698: 100%|██████████| 25/25 [00:00<00:00, 118.15it/s]\n",
            "Epoch 41: val loss=0.00411891313486321, val accuracy=0.5988372093023255: 100%|██████████| 3/3 [00:00<00:00, 385.22it/s]\n",
            "Epoch 42: train loss=0.0036065014904772285, train accuracy=0.6255678131083712: 100%|██████████| 25/25 [00:00<00:00, 188.49it/s]\n",
            "Epoch 42: val loss=0.004180588607871255, val accuracy=0.6104651162790697: 100%|██████████| 3/3 [00:00<00:00, 312.98it/s]\n",
            "Epoch 43: train loss=0.0036132935577209394, train accuracy=0.6450356911096691: 100%|██████████| 25/25 [00:00<00:00, 159.70it/s]\n",
            "Epoch 43: val loss=0.004125142080146213, val accuracy=0.6162790697674418: 100%|██████████| 3/3 [00:00<00:00, 229.47it/s]\n",
            "Epoch 44: train loss=0.0035801663424270946, train accuracy=0.6424399740428294: 100%|██████████| 25/25 [00:00<00:00, 99.47it/s] \n",
            "Epoch 44: val loss=0.004030204616313757, val accuracy=0.5930232558139535: 100%|██████████| 3/3 [00:00<00:00, 265.77it/s]\n"
          ]
        },
        {
          "name": "stdout",
          "output_type": "stream",
          "text": [
            "New model saved, val loss 0.004080695121787315 -> 0.004030204616313757\n"
          ]
        },
        {
          "name": "stderr",
          "output_type": "stream",
          "text": [
            "Epoch 45: train loss=0.003553565516632768, train accuracy=0.6398442569759896: 100%|██████████| 25/25 [00:00<00:00, 123.37it/s] \n",
            "Epoch 45: val loss=0.004181261672530063, val accuracy=0.5988372093023255: 100%|██████████| 3/3 [00:00<00:00, 247.74it/s]\n",
            "Epoch 46: train loss=0.003657399505705589, train accuracy=0.6430889033095393: 100%|██████████| 25/25 [00:00<00:00, 141.05it/s] \n",
            "Epoch 46: val loss=0.004170917407717816, val accuracy=0.6046511627906976: 100%|██████████| 3/3 [00:00<00:00, 236.96it/s]\n",
            "Epoch 47: train loss=0.003608200271202325, train accuracy=0.6404931862426996: 100%|██████████| 25/25 [00:00<00:00, 140.02it/s] \n",
            "Epoch 47: val loss=0.004159470803515856, val accuracy=0.5988372093023255: 100%|██████████| 3/3 [00:00<00:00, 337.16it/s]\n",
            "Epoch 48: train loss=0.003542574629003858, train accuracy=0.6411421155094095: 100%|██████████| 25/25 [00:00<00:00, 127.64it/s] \n",
            "Epoch 48: val loss=0.004034333104311034, val accuracy=0.6104651162790697: 100%|██████████| 3/3 [00:00<00:00, 169.66it/s]\n",
            "Epoch 49: train loss=0.0035664788571214768, train accuracy=0.6398442569759896: 100%|██████████| 25/25 [00:00<00:00, 97.66it/s]\n",
            "Epoch 49: val loss=0.004082148071638373, val accuracy=0.6046511627906976: 100%|██████████| 3/3 [00:00<00:00, 406.96it/s]\n",
            "Epoch 50: train loss=0.0035844496478514573, train accuracy=0.6411421155094095: 100%|██████████| 25/25 [00:00<00:00, 151.40it/s]\n",
            "Epoch 50: val loss=0.004138057921514954, val accuracy=0.5930232558139535: 100%|██████████| 3/3 [00:00<00:00, 221.29it/s]\n",
            "Epoch 51: train loss=0.003609207487199153, train accuracy=0.6450356911096691: 100%|██████████| 25/25 [00:00<00:00, 112.63it/s] \n",
            "Epoch 51: val loss=0.0041175585153491, val accuracy=0.5988372093023255: 100%|██████████| 3/3 [00:00<00:00, 366.70it/s]\n",
            "Epoch 52: train loss=0.003574721181570594, train accuracy=0.6469824789097989: 100%|██████████| 25/25 [00:00<00:00, 152.87it/s] \n",
            "Epoch 52: val loss=0.004117506621188895, val accuracy=0.5930232558139535: 100%|██████████| 3/3 [00:00<00:00, 99.98it/s]\n",
            "Epoch 53: train loss=0.003610286424099664, train accuracy=0.6385463984425698: 100%|██████████| 25/25 [00:00<00:00, 67.58it/s] \n",
            "Epoch 53: val loss=0.004025084941193115, val accuracy=0.5988372093023255: 100%|██████████| 3/3 [00:00<00:00, 314.42it/s]\n"
          ]
        },
        {
          "name": "stdout",
          "output_type": "stream",
          "text": [
            "New model saved, val loss 0.004030204616313757 -> 0.004025084941193115\n"
          ]
        },
        {
          "name": "stderr",
          "output_type": "stream",
          "text": [
            "Epoch 54: train loss=0.0035630338943136116, train accuracy=0.6372485399091499: 100%|██████████| 25/25 [00:00<00:00, 157.87it/s]\n",
            "Epoch 54: val loss=0.004219349560349486, val accuracy=0.6046511627906976: 100%|██████████| 3/3 [00:00<00:00, 273.29it/s]\n",
            "Epoch 55: train loss=0.003622969265575149, train accuracy=0.6424399740428294: 100%|██████████| 25/25 [00:00<00:00, 170.78it/s] \n",
            "Epoch 55: val loss=0.004140304184930269, val accuracy=0.5988372093023255: 100%|██████████| 3/3 [00:00<00:00, 354.52it/s]\n",
            "Epoch 56: train loss=0.003590430264191377, train accuracy=0.6372485399091499: 100%|██████████| 25/25 [00:00<00:00, 81.11it/s]  \n",
            "Epoch 56: val loss=0.004095288383406262, val accuracy=0.5988372093023255: 100%|██████████| 3/3 [00:00<00:00, 126.29it/s]\n",
            "Epoch 57: train loss=0.00359691253039529, train accuracy=0.6495781959766386: 100%|██████████| 25/25 [00:00<00:00, 102.38it/s] \n",
            "Epoch 57: val loss=0.0041104651294475375, val accuracy=0.5813953488372093: 100%|██████████| 3/3 [00:00<00:00, 156.56it/s]\n",
            "Epoch 58: train loss=0.0035678126029114227, train accuracy=0.6476314081765088: 100%|██████████| 25/25 [00:00<00:00, 171.55it/s]\n",
            "Epoch 58: val loss=0.004044057671413865, val accuracy=0.5872093023255814: 100%|██████████| 3/3 [00:00<00:00, 212.72it/s]\n",
            "Epoch 59: train loss=0.0036061994059375167, train accuracy=0.6424399740428294: 100%|██████████| 25/25 [00:00<00:00, 162.62it/s]\n",
            "Epoch 59: val loss=0.00417839034005653, val accuracy=0.5872093023255814: 100%|██████████| 3/3 [00:00<00:00, 333.16it/s]\n",
            "Epoch 60: train loss=0.00364206718748688, train accuracy=0.6489292667099286: 100%|██████████| 25/25 [00:00<00:00, 131.64it/s]  \n",
            "Epoch 60: val loss=0.004096606356459994, val accuracy=0.5872093023255814: 100%|██████████| 3/3 [00:00<00:00, 130.07it/s]\n",
            "Epoch 61: train loss=0.0035624282650944476, train accuracy=0.6320571057754705: 100%|██████████| 25/25 [00:00<00:00, 75.57it/s]\n",
            "Epoch 61: val loss=0.004124522642340771, val accuracy=0.6162790697674418: 100%|██████████| 3/3 [00:00<00:00, 299.54it/s]\n",
            "Epoch 62: train loss=0.003593101942794498, train accuracy=0.6437378325762492: 100%|██████████| 25/25 [00:00<00:00, 172.83it/s] \n",
            "Epoch 62: val loss=0.004117348166399224, val accuracy=0.5930232558139535: 100%|██████████| 3/3 [00:00<00:00, 331.88it/s]\n",
            "Epoch 63: train loss=0.003542851823479382, train accuracy=0.6346528228423102: 100%|██████████| 25/25 [00:00<00:00, 142.05it/s] \n",
            "Epoch 63: val loss=0.004122312938751176, val accuracy=0.5930232558139535: 100%|██████████| 3/3 [00:00<00:00, 289.19it/s]\n",
            "Epoch 64: train loss=0.003634938263104072, train accuracy=0.6411421155094095: 100%|██████████| 25/25 [00:00<00:00, 75.17it/s] \n",
            "Epoch 64: val loss=0.004193126288957374, val accuracy=0.6162790697674418: 100%|██████████| 3/3 [00:00<00:00, 179.21it/s]\n",
            "Epoch 65: train loss=0.003611308918379871, train accuracy=0.6385463984425698: 100%|██████████| 25/25 [00:00<00:00, 114.61it/s] \n",
            "Epoch 65: val loss=0.004121283199204955, val accuracy=0.6162790697674418: 100%|██████████| 3/3 [00:00<00:00, 266.17it/s]\n",
            "Epoch 66: train loss=0.0036363708825949952, train accuracy=0.6437378325762492: 100%|██████████| 25/25 [00:00<00:00, 100.72it/s]\n",
            "Epoch 66: val loss=0.004101875043192575, val accuracy=0.5988372093023255: 100%|██████████| 3/3 [00:00<00:00, 105.09it/s]\n",
            "Epoch 67: train loss=0.003591937776280254, train accuracy=0.6372485399091499: 100%|██████████| 25/25 [00:00<00:00, 101.85it/s] \n",
            "Epoch 67: val loss=0.004101874090211336, val accuracy=0.6162790697674418: 100%|██████████| 3/3 [00:00<00:00, 213.73it/s]\n",
            "Epoch 68: train loss=0.003605089902800449, train accuracy=0.6463335496430889: 100%|██████████| 25/25 [00:00<00:00, 72.86it/s] \n",
            "Epoch 68: val loss=0.004123473669900451, val accuracy=0.5930232558139535: 100%|██████████| 3/3 [00:00<00:00, 215.62it/s]\n",
            "Epoch 69: train loss=0.0035890223703780475, train accuracy=0.6502271252433485: 100%|██████████| 25/25 [00:00<00:00, 117.49it/s]\n",
            "Epoch 69: val loss=0.004095261180123618, val accuracy=0.6162790697674418: 100%|██████████| 3/3 [00:00<00:00, 31.67it/s]\n",
            "Epoch 70: train loss=0.0035675665258510323, train accuracy=0.6443867618429591: 100%|██████████| 25/25 [00:00<00:00, 109.42it/s]\n",
            "Epoch 70: val loss=0.004137455377467843, val accuracy=0.6162790697674418: 100%|██████████| 3/3 [00:00<00:00, 209.13it/s]\n",
            "Epoch 71: train loss=0.003653160797397012, train accuracy=0.645684620376379: 100%|██████████| 25/25 [00:00<00:00, 118.25it/s]  \n",
            "Epoch 71: val loss=0.004125472591366879, val accuracy=0.5988372093023255: 100%|██████████| 3/3 [00:00<00:00, 246.35it/s]\n",
            "Epoch 72: train loss=0.0035719343936729555, train accuracy=0.645684620376379: 100%|██████████| 25/25 [00:00<00:00, 75.66it/s] \n",
            "Epoch 72: val loss=0.004066554786160935, val accuracy=0.5988372093023255: 100%|██████████| 3/3 [00:00<00:00, 238.64it/s]\n",
            "Epoch 73: train loss=0.003639172049484649, train accuracy=0.6385463984425698: 100%|██████████| 25/25 [00:00<00:00, 135.85it/s] \n",
            "Epoch 73: val loss=0.004058186744534692, val accuracy=0.6162790697674418: 100%|██████████| 3/3 [00:00<00:00, 231.24it/s]\n",
            "Epoch 74: train loss=0.003607793133959687, train accuracy=0.6411421155094095: 100%|██████████| 25/25 [00:00<00:00, 101.57it/s]\n",
            "Epoch 74: val loss=0.004095231031262597, val accuracy=0.6104651162790697: 100%|██████████| 3/3 [00:00<00:00, 304.55it/s]\n",
            "Epoch 75: train loss=0.0035995768212715115, train accuracy=0.6502271252433485: 100%|██████████| 25/25 [00:00<00:00, 182.25it/s]\n",
            "Epoch 75: val loss=0.004047522537930067, val accuracy=0.6046511627906976: 100%|██████████| 3/3 [00:00<00:00, 405.10it/s]\n",
            "Epoch 76: train loss=0.0035801295875187897, train accuracy=0.6450356911096691: 100%|██████████| 25/25 [00:00<00:00, 109.95it/s]\n",
            "Epoch 76: val loss=0.004129775908104209, val accuracy=0.5930232558139535: 100%|██████████| 3/3 [00:00<00:00, 306.29it/s]\n",
            "Epoch 77: train loss=0.0035343318404043593, train accuracy=0.6521739130434783: 100%|██████████| 25/25 [00:00<00:00, 142.95it/s]\n",
            "Epoch 77: val loss=0.004106163458768712, val accuracy=0.5872093023255814: 100%|██████████| 3/3 [00:00<00:00, 285.02it/s]\n",
            "Epoch 78: train loss=0.003608168757325407, train accuracy=0.6320571057754705: 100%|██████████| 25/25 [00:00<00:00, 166.06it/s] \n",
            "Epoch 78: val loss=0.004118452844924705, val accuracy=0.6104651162790697: 100%|██████████| 3/3 [00:00<00:00, 427.71it/s]\n",
            "Epoch 79: train loss=0.0035515626883986396, train accuracy=0.6443867618429591: 100%|██████████| 25/25 [00:00<00:00, 103.19it/s]\n",
            "Epoch 79: val loss=0.004144258970438048, val accuracy=0.5988372093023255: 100%|██████████| 3/3 [00:00<00:00, 248.33it/s]\n",
            "Epoch 80: train loss=0.0035565364852035144, train accuracy=0.6372485399091499: 100%|██████████| 25/25 [00:00<00:00, 151.40it/s]\n",
            "Epoch 80: val loss=0.00409240968698679, val accuracy=0.6046511627906976: 100%|██████████| 3/3 [00:00<00:00, 279.07it/s]\n",
            "Epoch 81: train loss=0.0035596531679845337, train accuracy=0.6469824789097989: 100%|██████████| 25/25 [00:00<00:00, 117.44it/s]\n",
            "Epoch 81: val loss=0.004113137462111407, val accuracy=0.5813953488372093: 100%|██████████| 3/3 [00:00<00:00, 218.70it/s]\n",
            "Epoch 82: train loss=0.0035397050869611854, train accuracy=0.6495781959766386: 100%|██████████| 25/25 [00:00<00:00, 154.41it/s]\n",
            "Epoch 82: val loss=0.004109120213015135, val accuracy=0.6104651162790697: 100%|██████████| 3/3 [00:00<00:00, 233.57it/s]\n",
            "Epoch 83: train loss=0.0035616883900473446, train accuracy=0.6476314081765088: 100%|██████████| 25/25 [00:00<00:00, 140.89it/s]\n",
            "Epoch 83: val loss=0.004112489434868791, val accuracy=0.5988372093023255: 100%|██████████| 3/3 [00:00<00:00, 165.48it/s]\n",
            "Epoch 84: train loss=0.0036641856840413396, train accuracy=0.6398442569759896: 100%|██████████| 25/25 [00:00<00:00, 118.78it/s]\n",
            "Epoch 84: val loss=0.004190585814243139, val accuracy=0.5988372093023255: 100%|██████████| 3/3 [00:00<00:00, 276.19it/s]\n",
            "Epoch 85: train loss=0.0036659870903496617, train accuracy=0.6443867618429591: 100%|██████████| 25/25 [00:00<00:00, 164.59it/s]\n",
            "Epoch 85: val loss=0.0040460924596287485, val accuracy=0.6162790697674418: 100%|██████████| 3/3 [00:00<00:00, 296.58it/s]\n",
            "Epoch 86: train loss=0.003560330305371789, train accuracy=0.6463335496430889: 100%|██████████| 25/25 [00:00<00:00, 145.86it/s] \n",
            "Epoch 86: val loss=0.00412083755052367, val accuracy=0.5872093023255814: 100%|██████████| 3/3 [00:00<00:00, 247.34it/s]\n",
            "Epoch 87: train loss=0.003558974348052147, train accuracy=0.6443867618429591: 100%|██████████| 25/25 [00:00<00:00, 117.13it/s] \n",
            "Epoch 87: val loss=0.0041351826904818065, val accuracy=0.5813953488372093: 100%|██████████| 3/3 [00:00<00:00, 330.42it/s]\n",
            "Epoch 88: train loss=0.0035483043623929823, train accuracy=0.6398442569759896: 100%|██████████| 25/25 [00:00<00:00, 138.60it/s]\n",
            "Epoch 88: val loss=0.00409403114124786, val accuracy=0.6104651162790697: 100%|██████████| 3/3 [00:00<00:00, 219.12it/s]\n",
            "Epoch 89: train loss=0.003521166098806318, train accuracy=0.6495781959766386: 100%|██████████| 25/25 [00:00<00:00, 149.20it/s] \n",
            "Epoch 89: val loss=0.0041421627582505696, val accuracy=0.6046511627906976: 100%|██████████| 3/3 [00:00<00:00, 225.48it/s]\n",
            "Epoch 90: train loss=0.0035627531123424336, train accuracy=0.6469824789097989: 100%|██████████| 25/25 [00:00<00:00, 124.77it/s]\n",
            "Epoch 90: val loss=0.0041068512513193975, val accuracy=0.6046511627906976: 100%|██████████| 3/3 [00:00<00:00, 237.29it/s]\n",
            "Epoch 91: train loss=0.0036022309588581458, train accuracy=0.6391953277092797: 100%|██████████| 25/25 [00:00<00:00, 126.51it/s]\n",
            "Epoch 91: val loss=0.004052337605592816, val accuracy=0.6104651162790697: 100%|██████████| 3/3 [00:00<00:00, 83.73it/s]\n",
            "Epoch 92: train loss=0.0036956967760571253, train accuracy=0.6482803374432187: 100%|██████████| 25/25 [00:00<00:00, 107.97it/s]\n",
            "Epoch 92: val loss=0.00410705033776372, val accuracy=0.6104651162790697: 100%|██████████| 3/3 [00:00<00:00, 304.81it/s]\n",
            "Epoch 93: train loss=0.003597808214923455, train accuracy=0.6372485399091499: 100%|██████████| 25/25 [00:00<00:00, 154.22it/s] \n",
            "Epoch 93: val loss=0.004052177504744641, val accuracy=0.6162790697674418: 100%|██████████| 3/3 [00:00<00:00, 353.36it/s]\n",
            "Epoch 94: train loss=0.003594683370831568, train accuracy=0.6560674886437379: 100%|██████████| 25/25 [00:00<00:00, 166.64it/s] \n",
            "Epoch 94: val loss=0.004123992524867834, val accuracy=0.6104651162790697: 100%|██████████| 3/3 [00:00<00:00, 269.04it/s]\n",
            "Epoch 95: train loss=0.0035383847918624926, train accuracy=0.6437378325762492: 100%|██████████| 25/25 [00:00<00:00, 164.61it/s]\n",
            "Epoch 95: val loss=0.0042440799433131554, val accuracy=0.6104651162790697: 100%|██████████| 3/3 [00:00<00:00, 172.64it/s]\n",
            "Epoch 96: train loss=0.0035844638624568793, train accuracy=0.6489292667099286: 100%|██████████| 25/25 [00:00<00:00, 115.33it/s]\n",
            "Epoch 96: val loss=0.004153345993091894, val accuracy=0.6046511627906976: 100%|██████████| 3/3 [00:00<00:00, 255.65it/s]\n",
            "Epoch 97: train loss=0.00353300384814518, train accuracy=0.6521739130434783: 100%|██████████| 25/25 [00:00<00:00, 163.95it/s]  \n",
            "Epoch 97: val loss=0.0041891867511494214, val accuracy=0.5988372093023255: 100%|██████████| 3/3 [00:00<00:00, 308.94it/s]\n",
            "Epoch 98: train loss=0.003612170120402639, train accuracy=0.6340038935756003: 100%|██████████| 25/25 [00:00<00:00, 164.05it/s] \n",
            "Epoch 98: val loss=0.0042175365568593495, val accuracy=0.6162790697674418: 100%|██████████| 3/3 [00:00<00:00, 330.72it/s]\n",
            "Epoch 99: train loss=0.0036138622579754056, train accuracy=0.6430889033095393: 100%|██████████| 25/25 [00:00<00:00, 112.30it/s]\n",
            "Epoch 99: val loss=0.004241146407155103, val accuracy=0.622093023255814: 100%|██████████| 3/3 [00:00<00:00, 139.59it/s]\n"
          ]
        }
      ],
      "source": [
        "mlp_models = random_forst_models.copy()\n",
        "lr = 1e-4\n",
        "num_epochs = 100\n",
        "torch.manual_seed(SEED)\n",
        "\n",
        "for ds_name in mlp_models:\n",
        "    net = nn.Sequential(\n",
        "        nn.Linear(dataset[ds_name]['X_train'].shape[1], 64),\n",
        "        nn.Tanh(),\n",
        "        nn.BatchNorm1d(64),\n",
        "        nn.Linear(64, 32),\n",
        "        nn.Tanh(),\n",
        "        nn.BatchNorm1d(32),\n",
        "        nn.Linear(32, 32),\n",
        "        nn.Tanh(),\n",
        "        nn.BatchNorm1d(32),\n",
        "        nn.Linear(32, 16),\n",
        "        nn.Tanh(),\n",
        "        nn.BatchNorm1d(16),\n",
        "        nn.Linear(16, 1),\n",
        "        nn.Sigmoid()\n",
        "    )\n",
        "    net = net.to(device)\n",
        "    optimizer = Adam(net.parameters(), lr=lr)\n",
        "    criterion = nn.MSELoss()\n",
        "    train_dl = dataloaders[ds_name]['train']\n",
        "    val_dl = dataloaders[ds_name]['val']\n",
        "    test_dl = dataloaders[ds_name]['test']\n",
        "\n",
        "    return_vals = train(net, criterion, optimizer, train_dl, val_dl, num_epochs)\n",
        "    train_losses, val_losses, train_accs, val_accs, best_model = return_vals\n",
        "    mlp_models[ds_name] = {\n",
        "        'model': best_model,\n",
        "        'train_losses': train_losses,\n",
        "        'val_losses': val_losses,\n",
        "        'train_accs': train_accs,\n",
        "        'val_accs': val_accs\n",
        "    }"
      ]
    },
    {
      "cell_type": "code",
      "execution_count": 193,
      "id": "hFjQ3KUhUqk4",
      "metadata": {
        "id": "hFjQ3KUhUqk4"
      },
      "outputs": [
        {
          "name": "stdout",
          "output_type": "stream",
          "text": [
            "mlp accuracy on clinical dataset had accuracy of 0.7173\n",
            "mlp accuracy on gene_expr dataset had accuracy of 0.6178\n",
            "mlp accuracy on gene_expr_reduced dataset had accuracy of 0.6492\n"
          ]
        }
      ],
      "source": [
        "for ds_name in mlp_models:\n",
        "    # test\n",
        "    best_model = mlp_models[ds_name]['model']\n",
        "    test_dl = dataloaders[ds_name]['test']\n",
        "    acc, confusion = evaluate(best_model, test_dl)\n",
        "    mlp_models[ds_name]['accuracy'] = acc\n",
        "    mlp_models[ds_name]['confusion'] = confusion\n",
        "    print(f'mlp accuracy on {ds_name} dataset had accuracy of {acc:.4f}')"
      ]
    },
    {
      "cell_type": "code",
      "execution_count": 194,
      "id": "eedc24e3",
      "metadata": {},
      "outputs": [
        {
          "data": {
            "image/png": "[encoded data removed]",
            "text/plain": [
              "<Figure size 640x480 with 2 Axes>"
            ]
          },
          "metadata": {},
          "output_type": "display_data"
        }
      ],
      "source": [
        "sns.heatmap(mlp_models['clinical']['confusion'])\n",
        "plt.show()"
      ]
    },
    {
      "cell_type": "code",
      "execution_count": 195,
      "id": "1d56867f",
      "metadata": {},
      "outputs": [
        {
          "name": "stdout",
          "output_type": "stream",
          "text": [
            "0.3855421686746988\n",
            "0.48854961832061067\n",
            "0.6666666666666666\n"
          ]
        }
      ],
      "source": [
        "conf = mlp_models['gene_expr_reduced']['confusion']\n",
        "print(recall(conf))\n",
        "print(f1_score(conf))\n",
        "print(precision(conf))"
      ]
    },
    {
      "cell_type": "markdown",
      "id": "56877dc4",
      "metadata": {
        "id": "56877dc4"
      },
      "source": [
        "# Model Comparison (10 Points)"
      ]
    },
    {
      "cell_type": "markdown",
      "id": "509fe56a",
      "metadata": {
        "id": "509fe56a"
      },
      "source": [
        "Compare different models and different datasets (clinical, gene expressions, and gene reduced expressions) and try to explain their differences."
      ]
    },
    {
      "cell_type": "markdown",
      "id": "c2f05a73",
      "metadata": {
        "id": "c2f05a73"
      },
      "source": [
        "#### \\# TODO"
      ]
    }
  ],
  "metadata": {
    "colab": {
      "provenance": []
    },
    "kernelspec": {
      "display_name": "Python 3 (ipykernel)",
      "language": "python",
      "name": "python3"
    },
    "language_info": {
      "codemirror_mode": {
        "name": "ipython",
        "version": 3
      },
      "file_extension": ".py",
      "mimetype": "text/x-python",
      "name": "python",
      "nbconvert_exporter": "python",
      "pygments_lexer": "ipython3",
      "version": "3.9.12"
    },
    "toc": {
      "base_numbering": 1,
      "nav_menu": {},
      "number_sections": true,
      "sideBar": true,
      "skip_h1_title": false,
      "title_cell": "Table of Contents",
      "title_sidebar": "Contents",
      "toc_cell": false,
      "toc_position": {},
      "toc_section_display": true,
      "toc_window_display": false
    },
    "varInspector": {
      "cols": {
        "lenName": 16,
        "lenType": 16,
        "lenVar": 40
      },
      "kernels_config": {
        "python": {
          "delete_cmd_postfix": "",
          "delete_cmd_prefix": "del ",
          "library": "var_list.py",
          "varRefreshCmd": "print(var_dic_list())"
        },
        "r": {
          "delete_cmd_postfix": ") ",
          "delete_cmd_prefix": "rm(",
          "library": "var_list.r",
          "varRefreshCmd": "cat(var_dic_list()) "
        }
      },
      "types_to_exclude": [
        "module",
        "function",
        "builtin_function_or_method",
        "instance",
        "_Feature"
      ],
      "window_display": false
    },
    "vscode": {
      "interpreter": {
        "hash": "9d0e6cba9abb52fde9ce5ff9e7499c99052a279653ba0a99ce7c78819a4a9c31"
      }
    }
  },
  "nbformat": 4,
  "nbformat_minor": 5
}
