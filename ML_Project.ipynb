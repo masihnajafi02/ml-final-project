{
 "cells": [
  {
   "cell_type": "markdown",
   "id": "5902c1f3",
   "metadata": {},
   "source": [
    "<img src='http://www-scf.usc.edu/~ghasemig/images/sharif.png' alt=\"SUT logo\" width=200 height=200 align=left class=\"saturate\" >\n",
    "\n",
    "<br>\n",
    "<font face=\"Times New Roman\">\n",
    "<div dir=ltr align=center>\n",
    "<font color=0F5298 size=7>\n",
    "    Introduction to Machine Learning <br>\n",
    "<font color=2565AE size=5>\n",
    "    Computer Engineering Department <br>\n",
    "    Fall 2022<br>\n",
    "<font color=3C99D size=5>\n",
    "    Project <br>\n",
    "<font color=696880 size=4>\n",
    "    Project Team \n",
    "    \n",
    "    \n",
    "____\n"
   ]
  },
  {
   "attachments": {},
   "cell_type": "markdown",
   "id": "5e85f16a",
   "metadata": {},
   "source": [
    "### Full Name : Mohammad Bagher Soltani\n",
    "### Student Number : 98105813\n",
    "___"
   ]
  },
  {
   "cell_type": "markdown",
   "id": "40df5e74",
   "metadata": {},
   "source": [
    "# Introduction"
   ]
  },
  {
   "cell_type": "markdown",
   "id": "5a627177",
   "metadata": {},
   "source": [
    "In this project, we are going to have a brief and elementary hands-on real-world project, predicting breast cancer survival using machine learning models with clinical data and gene expression profiles."
   ]
  },
  {
   "cell_type": "markdown",
   "id": "b1e52cbc",
   "metadata": {},
   "source": [
    "# Data Documentation"
   ]
  },
  {
   "cell_type": "markdown",
   "id": "254cb90f",
   "metadata": {
    "ExecuteTime": {
     "end_time": "2023-01-29T19:31:29.604891Z",
     "start_time": "2023-01-29T19:31:29.601061Z"
    }
   },
   "source": [
    "For this purpose, we will use \"Breast Cancer Gene Expression Profiles (METABRIC)\" data. \n",
    "The first 31 columns of data contain clinical information including death status.\n",
    "The next columns of the data contain gene's related information which includes both gene expressions and mutation information. (gene's mutation info columns have been marked with \"_mut\" at the end of the names of the columns) \n",
    "For more information please read the [data documentation](https://www.kaggle.com/datasets/raghadalharbi/breast-cancer-gene-expression-profiles-metabric)."
   ]
  },
  {
   "cell_type": "markdown",
   "id": "9cef1d4a",
   "metadata": {},
   "source": [
    "# Data Preparation (15 Points)"
   ]
  },
  {
   "cell_type": "markdown",
   "id": "f3240d5d",
   "metadata": {},
   "source": [
    "In this section you must first split data into three datasets:\n",
    "<br>\n",
    "1- clinical dataset\n",
    "<br>\n",
    "2- gene expressions dataset\n",
    "<br>\n",
    "3- gene mutation dataset. (We will not use this dataset in further steps of the project)"
   ]
  },
  {
   "cell_type": "markdown",
   "id": "cc42f2b1",
   "metadata": {},
   "source": [
    "## Data Loading & Splitting"
   ]
  },
  {
   "cell_type": "code",
   "execution_count": null,
   "id": "463b243b",
   "metadata": {},
   "outputs": [],
   "source": [
    "# TODO"
   ]
  },
  {
   "cell_type": "markdown",
   "id": "aebfdb6b",
   "metadata": {},
   "source": [
    "## EDA"
   ]
  },
  {
   "cell_type": "markdown",
   "id": "e87d59d7",
   "metadata": {},
   "source": [
    "For each dataset, you must perform a sufficient EDA."
   ]
  },
  {
   "cell_type": "code",
   "execution_count": null,
   "id": "d3815455",
   "metadata": {},
   "outputs": [],
   "source": [
    "# TODO"
   ]
  },
  {
   "cell_type": "markdown",
   "id": "e2c3821f",
   "metadata": {},
   "source": [
    "## Dimension Reduction (20 + Up to 10 Points Optional)"
   ]
  },
  {
   "cell_type": "markdown",
   "id": "b925e2cf",
   "metadata": {},
   "source": [
    "For each dataset, investigate whether it is needed to use a dimensionality reduction approach or not. If yes, please reduce the dataset's dimension. You can use UMAP for this purpose but any other approach is acceptable. Finding the most important features contains extra points."
   ]
  },
  {
   "cell_type": "code",
   "execution_count": null,
   "id": "259a3804",
   "metadata": {},
   "outputs": [],
   "source": [
    "# TODO"
   ]
  },
  {
   "cell_type": "markdown",
   "id": "bf0ea4bb",
   "metadata": {},
   "source": [
    "# Classic Model (25 Points)"
   ]
  },
  {
   "cell_type": "markdown",
   "id": "389c5d75",
   "metadata": {},
   "source": [
    "In this section, you must implement a classic classification model for clinical, gene expressions, and reduced gene expressions datasets. Using Random Forest is suggested. (minimum acceptable accuracy = 60%)"
   ]
  },
  {
   "cell_type": "code",
   "execution_count": null,
   "id": "34ec1dd7",
   "metadata": {},
   "outputs": [],
   "source": [
    "# TODO"
   ]
  },
  {
   "cell_type": "markdown",
   "id": "50146d67",
   "metadata": {},
   "source": [
    "# Neural Network (30 Points)"
   ]
  },
  {
   "cell_type": "markdown",
   "id": "485c4047",
   "metadata": {},
   "source": [
    "In this section, you must implement a neural network model for clinical, gene expressions and reduced gene expressions datasets. Using the MPL models is suggested. (minimum acceptable accuracy = 60%)"
   ]
  },
  {
   "cell_type": "code",
   "execution_count": null,
   "id": "2992ff5a",
   "metadata": {},
   "outputs": [],
   "source": [
    "# TODO"
   ]
  },
  {
   "cell_type": "markdown",
   "id": "56877dc4",
   "metadata": {},
   "source": [
    "# Model Comparison (10 Points)"
   ]
  },
  {
   "cell_type": "markdown",
   "id": "509fe56a",
   "metadata": {},
   "source": [
    "Compare different models and different datasets (clinical, gene expressions, and gene reduced expressions) and try to explain their differences."
   ]
  },
  {
   "cell_type": "markdown",
   "id": "c2f05a73",
   "metadata": {},
   "source": [
    "#### \\# TODO"
   ]
  }
 ],
 "metadata": {
  "kernelspec": {
   "display_name": "Python 3 (ipykernel)",
   "language": "python",
   "name": "python3"
  },
  "language_info": {
   "codemirror_mode": {
    "name": "ipython",
    "version": 3
   },
   "file_extension": ".py",
   "mimetype": "text/x-python",
   "name": "python",
   "nbconvert_exporter": "python",
   "pygments_lexer": "ipython3",
   "version": "3.9.7"
  },
  "toc": {
   "base_numbering": 1,
   "nav_menu": {},
   "number_sections": true,
   "sideBar": true,
   "skip_h1_title": false,
   "title_cell": "Table of Contents",
   "title_sidebar": "Contents",
   "toc_cell": false,
   "toc_position": {},
   "toc_section_display": true,
   "toc_window_display": false
  },
  "varInspector": {
   "cols": {
    "lenName": 16,
    "lenType": 16,
    "lenVar": 40
   },
   "kernels_config": {
    "python": {
     "delete_cmd_postfix": "",
     "delete_cmd_prefix": "del ",
     "library": "var_list.py",
     "varRefreshCmd": "print(var_dic_list())"
    },
    "r": {
     "delete_cmd_postfix": ") ",
     "delete_cmd_prefix": "rm(",
     "library": "var_list.r",
     "varRefreshCmd": "cat(var_dic_list()) "
    }
   },
   "types_to_exclude": [
    "module",
    "function",
    "builtin_function_or_method",
    "instance",
    "_Feature"
   ],
   "window_display": false
  }
 },
 "nbformat": 4,
 "nbformat_minor": 5
}
