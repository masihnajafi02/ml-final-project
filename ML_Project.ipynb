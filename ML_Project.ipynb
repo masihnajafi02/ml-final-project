{
  "cells": [
    {
      "cell_type": "markdown",
      "id": "5902c1f3",
      "metadata": {
        "id": "5902c1f3"
      },
      "source": [
        "<img src='http://www-scf.usc.edu/~ghasemig/images/sharif.png' alt=\"SUT logo\" width=200 height=200 align=left class=\"saturate\" >\n",
        "\n",
        "<br>\n",
        "<font face=\"Times New Roman\">\n",
        "<div dir=ltr align=center>\n",
        "<font color=0F5298 size=7>\n",
        "    Introduction to Machine Learning <br>\n",
        "<font color=2565AE size=5>\n",
        "    Computer Engineering Department <br>\n",
        "    Fall 2022<br>\n",
        "<font color=3C99D size=5>\n",
        "    Project <br>\n",
        "<font color=696880 size=4>\n",
        "    Project Team \n",
        "    \n",
        "    \n",
        "____\n"
      ]
    },
    {
      "attachments": {},
      "cell_type": "markdown",
      "id": "5e85f16a",
      "metadata": {
        "id": "5e85f16a"
      },
      "source": [
        "### Full Name : Mohammad Bagher Soltani, Seyed Mohammad Yousef Najafi\n",
        "### Student Number : 98105813, 99102361\n",
        "___"
      ]
    },
    {
      "cell_type": "markdown",
      "id": "40df5e74",
      "metadata": {
        "id": "40df5e74"
      },
      "source": [
        "# Introduction"
      ]
    },
    {
      "cell_type": "markdown",
      "id": "5a627177",
      "metadata": {
        "id": "5a627177"
      },
      "source": [
        "In this project, we are going to have a brief and elementary hands-on real-world project, predicting breast cancer survival using machine learning models with clinical data and gene expression profiles."
      ]
    },
    {
      "cell_type": "code",
      "execution_count": 86,
      "id": "2970285a",
      "metadata": {
        "id": "2970285a"
      },
      "outputs": [],
      "source": [
        "# imports\n",
        "import numpy as np\n",
        "import pandas as pd\n",
        "from sklearn.preprocessing import OrdinalEncoder, StandardScaler\n",
        "from sklearn.decomposition import PCA\n",
        "from sklearn.linear_model import LinearRegression\n",
        "from sklearn.impute import SimpleImputer\n",
        "import umap\n",
        "import matplotlib.pyplot as plt\n",
        "import seaborn as sns\n",
        "from sklearn.metrics import accuracy_score\n",
        "from sklearn.model_selection import train_test_split\n",
        "from sklearn.ensemble import RandomForestClassifier\n",
        "from sklearn.svm import SVC\n",
        "import torch\n",
        "import torch.nn as nn\n",
        "from torch.utils.data import Dataset, DataLoader\n",
        "from tqdm.std import tqdm\n",
        "from torch.optim import Adam\n",
        "from copy import deepcopy"
      ]
    },
    {
      "cell_type": "code",
      "execution_count": 87,
      "id": "4dac6eb7",
      "metadata": {},
      "outputs": [],
      "source": [
        "SEED = 111"
      ]
    },
    {
      "cell_type": "code",
      "execution_count": 88,
      "id": "88e8d521",
      "metadata": {
        "id": "88e8d521"
      },
      "outputs": [],
      "source": [
        "np.random.seed(SEED)"
      ]
    },
    {
      "cell_type": "markdown",
      "id": "b1e52cbc",
      "metadata": {
        "id": "b1e52cbc"
      },
      "source": [
        "# Data Documentation"
      ]
    },
    {
      "cell_type": "markdown",
      "id": "254cb90f",
      "metadata": {
        "ExecuteTime": {
          "end_time": "2023-01-29T19:31:29.604891Z",
          "start_time": "2023-01-29T19:31:29.601061Z"
        },
        "id": "254cb90f"
      },
      "source": [
        "For this purpose, we will use \"Breast Cancer Gene Expression Profiles (METABRIC)\" data. \n",
        "The first 31 columns of data contain clinical information including death status.\n",
        "The next columns of the data contain gene's related information which includes both gene expressions and mutation information. (gene's mutation info columns have been marked with \"_mut\" at the end of the names of the columns) \n",
        "For more information please read the [data documentation](https://www.kaggle.com/datasets/raghadalharbi/breast-cancer-gene-expression-profiles-metabric)."
      ]
    },
    {
      "cell_type": "markdown",
      "id": "9cef1d4a",
      "metadata": {
        "id": "9cef1d4a"
      },
      "source": [
        "# Data Preparation (15 Points)"
      ]
    },
    {
      "cell_type": "markdown",
      "id": "f3240d5d",
      "metadata": {
        "id": "f3240d5d"
      },
      "source": [
        "In this section you must first split data into three datasets:\n",
        "<br>\n",
        "1- clinical dataset\n",
        "<br>\n",
        "2- gene expressions dataset\n",
        "<br>\n",
        "3- gene mutation dataset. (We will not use this dataset in further steps of the project)"
      ]
    },
    {
      "cell_type": "markdown",
      "id": "cc42f2b1",
      "metadata": {
        "id": "cc42f2b1"
      },
      "source": [
        "## Data Loading & Splitting"
      ]
    },
    {
      "cell_type": "code",
      "execution_count": 89,
      "id": "463b243b",
      "metadata": {
        "colab": {
          "base_uri": "https://localhost:8080/",
          "height": 404
        },
        "id": "463b243b",
        "outputId": "0a9a21cf-8dbf-4860-e2c6-8b47d54c516c"
      },
      "outputs": [
        {
          "data": {
            "text/html": [
              "<div>\n",
              "<style scoped>\n",
              "    .dataframe tbody tr th:only-of-type {\n",
              "        vertical-align: middle;\n",
              "    }\n",
              "\n",
              "    .dataframe tbody tr th {\n",
              "        vertical-align: top;\n",
              "    }\n",
              "\n",
              "    .dataframe thead th {\n",
              "        text-align: right;\n",
              "    }\n",
              "</style>\n",
              "<table border=\"1\" class=\"dataframe\">\n",
              "  <thead>\n",
              "    <tr style=\"text-align: right;\">\n",
              "      <th></th>\n",
              "      <th>patient_id</th>\n",
              "      <th>age_at_diagnosis</th>\n",
              "      <th>type_of_breast_surgery</th>\n",
              "      <th>cancer_type</th>\n",
              "      <th>cancer_type_detailed</th>\n",
              "      <th>cellularity</th>\n",
              "      <th>chemotherapy</th>\n",
              "      <th>pam50_+_claudin-low_subtype</th>\n",
              "      <th>cohort</th>\n",
              "      <th>er_status_measured_by_ihc</th>\n",
              "      <th>...</th>\n",
              "      <th>mtap_mut</th>\n",
              "      <th>ppp2cb_mut</th>\n",
              "      <th>smarcd1_mut</th>\n",
              "      <th>nras_mut</th>\n",
              "      <th>ndfip1_mut</th>\n",
              "      <th>hras_mut</th>\n",
              "      <th>prps2_mut</th>\n",
              "      <th>smarcb1_mut</th>\n",
              "      <th>stmn2_mut</th>\n",
              "      <th>siah1_mut</th>\n",
              "    </tr>\n",
              "  </thead>\n",
              "  <tbody>\n",
              "    <tr>\n",
              "      <th>0</th>\n",
              "      <td>0</td>\n",
              "      <td>75.65</td>\n",
              "      <td>MASTECTOMY</td>\n",
              "      <td>Breast Cancer</td>\n",
              "      <td>Breast Invasive Ductal Carcinoma</td>\n",
              "      <td>NaN</td>\n",
              "      <td>0</td>\n",
              "      <td>claudin-low</td>\n",
              "      <td>1.0</td>\n",
              "      <td>Positve</td>\n",
              "      <td>...</td>\n",
              "      <td>0</td>\n",
              "      <td>0</td>\n",
              "      <td>0</td>\n",
              "      <td>0</td>\n",
              "      <td>0</td>\n",
              "      <td>0</td>\n",
              "      <td>0</td>\n",
              "      <td>0</td>\n",
              "      <td>0</td>\n",
              "      <td>0</td>\n",
              "    </tr>\n",
              "    <tr>\n",
              "      <th>1</th>\n",
              "      <td>2</td>\n",
              "      <td>43.19</td>\n",
              "      <td>BREAST CONSERVING</td>\n",
              "      <td>Breast Cancer</td>\n",
              "      <td>Breast Invasive Ductal Carcinoma</td>\n",
              "      <td>High</td>\n",
              "      <td>0</td>\n",
              "      <td>LumA</td>\n",
              "      <td>1.0</td>\n",
              "      <td>Positve</td>\n",
              "      <td>...</td>\n",
              "      <td>0</td>\n",
              "      <td>0</td>\n",
              "      <td>0</td>\n",
              "      <td>0</td>\n",
              "      <td>0</td>\n",
              "      <td>0</td>\n",
              "      <td>0</td>\n",
              "      <td>0</td>\n",
              "      <td>0</td>\n",
              "      <td>0</td>\n",
              "    </tr>\n",
              "    <tr>\n",
              "      <th>2</th>\n",
              "      <td>5</td>\n",
              "      <td>48.87</td>\n",
              "      <td>MASTECTOMY</td>\n",
              "      <td>Breast Cancer</td>\n",
              "      <td>Breast Invasive Ductal Carcinoma</td>\n",
              "      <td>High</td>\n",
              "      <td>1</td>\n",
              "      <td>LumB</td>\n",
              "      <td>1.0</td>\n",
              "      <td>Positve</td>\n",
              "      <td>...</td>\n",
              "      <td>0</td>\n",
              "      <td>0</td>\n",
              "      <td>0</td>\n",
              "      <td>0</td>\n",
              "      <td>0</td>\n",
              "      <td>0</td>\n",
              "      <td>0</td>\n",
              "      <td>0</td>\n",
              "      <td>0</td>\n",
              "      <td>0</td>\n",
              "    </tr>\n",
              "    <tr>\n",
              "      <th>3</th>\n",
              "      <td>6</td>\n",
              "      <td>47.68</td>\n",
              "      <td>MASTECTOMY</td>\n",
              "      <td>Breast Cancer</td>\n",
              "      <td>Breast Mixed Ductal and Lobular Carcinoma</td>\n",
              "      <td>Moderate</td>\n",
              "      <td>1</td>\n",
              "      <td>LumB</td>\n",
              "      <td>1.0</td>\n",
              "      <td>Positve</td>\n",
              "      <td>...</td>\n",
              "      <td>0</td>\n",
              "      <td>0</td>\n",
              "      <td>0</td>\n",
              "      <td>0</td>\n",
              "      <td>0</td>\n",
              "      <td>0</td>\n",
              "      <td>0</td>\n",
              "      <td>0</td>\n",
              "      <td>0</td>\n",
              "      <td>0</td>\n",
              "    </tr>\n",
              "    <tr>\n",
              "      <th>4</th>\n",
              "      <td>8</td>\n",
              "      <td>76.97</td>\n",
              "      <td>MASTECTOMY</td>\n",
              "      <td>Breast Cancer</td>\n",
              "      <td>Breast Mixed Ductal and Lobular Carcinoma</td>\n",
              "      <td>High</td>\n",
              "      <td>1</td>\n",
              "      <td>LumB</td>\n",
              "      <td>1.0</td>\n",
              "      <td>Positve</td>\n",
              "      <td>...</td>\n",
              "      <td>0</td>\n",
              "      <td>0</td>\n",
              "      <td>0</td>\n",
              "      <td>0</td>\n",
              "      <td>0</td>\n",
              "      <td>0</td>\n",
              "      <td>0</td>\n",
              "      <td>0</td>\n",
              "      <td>0</td>\n",
              "      <td>0</td>\n",
              "    </tr>\n",
              "  </tbody>\n",
              "</table>\n",
              "<p>5 rows × 693 columns</p>\n",
              "</div>"
            ],
            "text/plain": [
              "   patient_id  age_at_diagnosis type_of_breast_surgery    cancer_type  \\\n",
              "0           0             75.65             MASTECTOMY  Breast Cancer   \n",
              "1           2             43.19      BREAST CONSERVING  Breast Cancer   \n",
              "2           5             48.87             MASTECTOMY  Breast Cancer   \n",
              "3           6             47.68             MASTECTOMY  Breast Cancer   \n",
              "4           8             76.97             MASTECTOMY  Breast Cancer   \n",
              "\n",
              "                        cancer_type_detailed cellularity  chemotherapy  \\\n",
              "0           Breast Invasive Ductal Carcinoma         NaN             0   \n",
              "1           Breast Invasive Ductal Carcinoma        High             0   \n",
              "2           Breast Invasive Ductal Carcinoma        High             1   \n",
              "3  Breast Mixed Ductal and Lobular Carcinoma    Moderate             1   \n",
              "4  Breast Mixed Ductal and Lobular Carcinoma        High             1   \n",
              "\n",
              "  pam50_+_claudin-low_subtype  cohort er_status_measured_by_ihc  ... mtap_mut  \\\n",
              "0                 claudin-low     1.0                   Positve  ...        0   \n",
              "1                        LumA     1.0                   Positve  ...        0   \n",
              "2                        LumB     1.0                   Positve  ...        0   \n",
              "3                        LumB     1.0                   Positve  ...        0   \n",
              "4                        LumB     1.0                   Positve  ...        0   \n",
              "\n",
              "   ppp2cb_mut smarcd1_mut nras_mut ndfip1_mut  hras_mut prps2_mut smarcb1_mut  \\\n",
              "0           0           0        0          0         0         0           0   \n",
              "1           0           0        0          0         0         0           0   \n",
              "2           0           0        0          0         0         0           0   \n",
              "3           0           0        0          0         0         0           0   \n",
              "4           0           0        0          0         0         0           0   \n",
              "\n",
              "  stmn2_mut  siah1_mut  \n",
              "0         0          0  \n",
              "1         0          0  \n",
              "2         0          0  \n",
              "3         0          0  \n",
              "4         0          0  \n",
              "\n",
              "[5 rows x 693 columns]"
            ]
          },
          "execution_count": 89,
          "metadata": {},
          "output_type": "execute_result"
        }
      ],
      "source": [
        "# TODO\n",
        "df = pd.read_csv('METABRIC_RNA_Mutation.csv', low_memory=False)\n",
        "df.head(5)"
      ]
    },
    {
      "cell_type": "code",
      "execution_count": 90,
      "id": "3468645e",
      "metadata": {
        "colab": {
          "base_uri": "https://localhost:8080/"
        },
        "id": "3468645e",
        "outputId": "eefa0c60-d8b3-454d-f1a5-fa9d1ba16e40"
      },
      "outputs": [
        {
          "name": "stdout",
          "output_type": "stream",
          "text": [
            "Number of clinical columns 31\n",
            "Number of gene expression columns 489\n",
            "Number of gene mutation columns 173\n"
          ]
        }
      ],
      "source": [
        "# Get column names for clinical, gene expression and gene mutation datasets\n",
        "\n",
        "columns = df.columns\n",
        "clinical_columns = columns[:31]\n",
        "clinical_data_columns = df.columns[:24].append(df.columns[25:30])\n",
        "label_column = columns[24]\n",
        "gene_columns = columns[31:]\n",
        "gene_mut_columns = pd.Index(filter(lambda s: s.endswith('_mut'),columns))\n",
        "gene_expr_columns = pd.Index(set(gene_columns) - set(gene_mut_columns))\n",
        "\n",
        "print(f'Number of clinical columns {len(clinical_columns)}')\n",
        "print(f'Number of gene expression columns {len(gene_expr_columns)}')\n",
        "print(f'Number of gene mutation columns {len(gene_mut_columns)}')"
      ]
    },
    {
      "cell_type": "code",
      "execution_count": 91,
      "id": "7c9ea55a",
      "metadata": {
        "id": "7c9ea55a"
      },
      "outputs": [],
      "source": [
        "clinical_dataset = df[clinical_columns]\n",
        "gene_expr_dataset = df[gene_expr_columns]\n",
        "gene_mut_dataset = df[gene_mut_columns]"
      ]
    },
    {
      "cell_type": "markdown",
      "id": "aebfdb6b",
      "metadata": {
        "id": "aebfdb6b"
      },
      "source": [
        "## EDA"
      ]
    },
    {
      "cell_type": "markdown",
      "id": "e87d59d7",
      "metadata": {
        "id": "e87d59d7"
      },
      "source": [
        "For each dataset, you must perform a sufficient EDA."
      ]
    },
    {
      "cell_type": "code",
      "execution_count": 92,
      "id": "d3815455",
      "metadata": {
        "colab": {
          "base_uri": "https://localhost:8080/"
        },
        "id": "d3815455",
        "outputId": "d5469703-3858-4721-9bd3-8440d1c14727"
      },
      "outputs": [
        {
          "name": "stdout",
          "output_type": "stream",
          "text": [
            "<class 'pandas.core.frame.DataFrame'>\n",
            "RangeIndex: 1904 entries, 0 to 1903\n",
            "Data columns (total 31 columns):\n",
            " #   Column                          Non-Null Count  Dtype  \n",
            "---  ------                          --------------  -----  \n",
            " 0   patient_id                      1904 non-null   int64  \n",
            " 1   age_at_diagnosis                1904 non-null   float64\n",
            " 2   type_of_breast_surgery          1882 non-null   object \n",
            " 3   cancer_type                     1904 non-null   object \n",
            " 4   cancer_type_detailed            1889 non-null   object \n",
            " 5   cellularity                     1850 non-null   object \n",
            " 6   chemotherapy                    1904 non-null   int64  \n",
            " 7   pam50_+_claudin-low_subtype     1904 non-null   object \n",
            " 8   cohort                          1904 non-null   float64\n",
            " 9   er_status_measured_by_ihc       1874 non-null   object \n",
            " 10  er_status                       1904 non-null   object \n",
            " 11  neoplasm_histologic_grade       1832 non-null   float64\n",
            " 12  her2_status_measured_by_snp6    1904 non-null   object \n",
            " 13  her2_status                     1904 non-null   object \n",
            " 14  tumor_other_histologic_subtype  1889 non-null   object \n",
            " 15  hormone_therapy                 1904 non-null   int64  \n",
            " 16  inferred_menopausal_state       1904 non-null   object \n",
            " 17  integrative_cluster             1904 non-null   object \n",
            " 18  primary_tumor_laterality        1798 non-null   object \n",
            " 19  lymph_nodes_examined_positive   1904 non-null   float64\n",
            " 20  mutation_count                  1859 non-null   float64\n",
            " 21  nottingham_prognostic_index     1904 non-null   float64\n",
            " 22  oncotree_code                   1889 non-null   object \n",
            " 23  overall_survival_months         1904 non-null   float64\n",
            " 24  overall_survival                1904 non-null   int64  \n",
            " 25  pr_status                       1904 non-null   object \n",
            " 26  radio_therapy                   1904 non-null   int64  \n",
            " 27  3-gene_classifier_subtype       1700 non-null   object \n",
            " 28  tumor_size                      1884 non-null   float64\n",
            " 29  tumor_stage                     1403 non-null   float64\n",
            " 30  death_from_cancer               1903 non-null   object \n",
            "dtypes: float64(9), int64(5), object(17)\n",
            "memory usage: 461.2+ KB\n"
          ]
        }
      ],
      "source": [
        "clinical_dataset.info()"
      ]
    },
    {
      "cell_type": "code",
      "execution_count": 93,
      "id": "1f838902",
      "metadata": {
        "colab": {
          "base_uri": "https://localhost:8080/",
          "height": 364
        },
        "id": "1f838902",
        "outputId": "27089416-58f1-4075-9e5a-f024a86654b7"
      },
      "outputs": [
        {
          "data": {
            "text/html": [
              "<div>\n",
              "<style scoped>\n",
              "    .dataframe tbody tr th:only-of-type {\n",
              "        vertical-align: middle;\n",
              "    }\n",
              "\n",
              "    .dataframe tbody tr th {\n",
              "        vertical-align: top;\n",
              "    }\n",
              "\n",
              "    .dataframe thead th {\n",
              "        text-align: right;\n",
              "    }\n",
              "</style>\n",
              "<table border=\"1\" class=\"dataframe\">\n",
              "  <thead>\n",
              "    <tr style=\"text-align: right;\">\n",
              "      <th></th>\n",
              "      <th>patient_id</th>\n",
              "      <th>age_at_diagnosis</th>\n",
              "      <th>chemotherapy</th>\n",
              "      <th>cohort</th>\n",
              "      <th>neoplasm_histologic_grade</th>\n",
              "      <th>hormone_therapy</th>\n",
              "      <th>lymph_nodes_examined_positive</th>\n",
              "      <th>mutation_count</th>\n",
              "      <th>nottingham_prognostic_index</th>\n",
              "      <th>overall_survival_months</th>\n",
              "      <th>overall_survival</th>\n",
              "      <th>radio_therapy</th>\n",
              "      <th>tumor_size</th>\n",
              "      <th>tumor_stage</th>\n",
              "    </tr>\n",
              "  </thead>\n",
              "  <tbody>\n",
              "    <tr>\n",
              "      <th>count</th>\n",
              "      <td>1904.000000</td>\n",
              "      <td>1904.000000</td>\n",
              "      <td>1904.000000</td>\n",
              "      <td>1904.000000</td>\n",
              "      <td>1832.000000</td>\n",
              "      <td>1904.000000</td>\n",
              "      <td>1904.000000</td>\n",
              "      <td>1859.000000</td>\n",
              "      <td>1904.000000</td>\n",
              "      <td>1904.000000</td>\n",
              "      <td>1904.000000</td>\n",
              "      <td>1904.000000</td>\n",
              "      <td>1884.000000</td>\n",
              "      <td>1403.000000</td>\n",
              "    </tr>\n",
              "    <tr>\n",
              "      <th>mean</th>\n",
              "      <td>3921.982143</td>\n",
              "      <td>61.087054</td>\n",
              "      <td>0.207983</td>\n",
              "      <td>2.643908</td>\n",
              "      <td>2.415939</td>\n",
              "      <td>0.616597</td>\n",
              "      <td>2.002101</td>\n",
              "      <td>5.697687</td>\n",
              "      <td>4.033019</td>\n",
              "      <td>125.121324</td>\n",
              "      <td>0.420693</td>\n",
              "      <td>0.597164</td>\n",
              "      <td>26.238726</td>\n",
              "      <td>1.750535</td>\n",
              "    </tr>\n",
              "    <tr>\n",
              "      <th>std</th>\n",
              "      <td>2358.478332</td>\n",
              "      <td>12.978711</td>\n",
              "      <td>0.405971</td>\n",
              "      <td>1.228615</td>\n",
              "      <td>0.650612</td>\n",
              "      <td>0.486343</td>\n",
              "      <td>4.079993</td>\n",
              "      <td>4.058778</td>\n",
              "      <td>1.144492</td>\n",
              "      <td>76.334148</td>\n",
              "      <td>0.493800</td>\n",
              "      <td>0.490597</td>\n",
              "      <td>15.160976</td>\n",
              "      <td>0.628999</td>\n",
              "    </tr>\n",
              "    <tr>\n",
              "      <th>min</th>\n",
              "      <td>0.000000</td>\n",
              "      <td>21.930000</td>\n",
              "      <td>0.000000</td>\n",
              "      <td>1.000000</td>\n",
              "      <td>1.000000</td>\n",
              "      <td>0.000000</td>\n",
              "      <td>0.000000</td>\n",
              "      <td>1.000000</td>\n",
              "      <td>1.000000</td>\n",
              "      <td>0.000000</td>\n",
              "      <td>0.000000</td>\n",
              "      <td>0.000000</td>\n",
              "      <td>1.000000</td>\n",
              "      <td>0.000000</td>\n",
              "    </tr>\n",
              "    <tr>\n",
              "      <th>25%</th>\n",
              "      <td>896.500000</td>\n",
              "      <td>51.375000</td>\n",
              "      <td>0.000000</td>\n",
              "      <td>1.000000</td>\n",
              "      <td>2.000000</td>\n",
              "      <td>0.000000</td>\n",
              "      <td>0.000000</td>\n",
              "      <td>3.000000</td>\n",
              "      <td>3.046000</td>\n",
              "      <td>60.825000</td>\n",
              "      <td>0.000000</td>\n",
              "      <td>0.000000</td>\n",
              "      <td>17.000000</td>\n",
              "      <td>1.000000</td>\n",
              "    </tr>\n",
              "    <tr>\n",
              "      <th>50%</th>\n",
              "      <td>4730.500000</td>\n",
              "      <td>61.770000</td>\n",
              "      <td>0.000000</td>\n",
              "      <td>3.000000</td>\n",
              "      <td>3.000000</td>\n",
              "      <td>1.000000</td>\n",
              "      <td>0.000000</td>\n",
              "      <td>5.000000</td>\n",
              "      <td>4.042000</td>\n",
              "      <td>115.616667</td>\n",
              "      <td>0.000000</td>\n",
              "      <td>1.000000</td>\n",
              "      <td>23.000000</td>\n",
              "      <td>2.000000</td>\n",
              "    </tr>\n",
              "    <tr>\n",
              "      <th>75%</th>\n",
              "      <td>5536.250000</td>\n",
              "      <td>70.592500</td>\n",
              "      <td>0.000000</td>\n",
              "      <td>3.000000</td>\n",
              "      <td>3.000000</td>\n",
              "      <td>1.000000</td>\n",
              "      <td>2.000000</td>\n",
              "      <td>7.000000</td>\n",
              "      <td>5.040250</td>\n",
              "      <td>184.716667</td>\n",
              "      <td>1.000000</td>\n",
              "      <td>1.000000</td>\n",
              "      <td>30.000000</td>\n",
              "      <td>2.000000</td>\n",
              "    </tr>\n",
              "    <tr>\n",
              "      <th>max</th>\n",
              "      <td>7299.000000</td>\n",
              "      <td>96.290000</td>\n",
              "      <td>1.000000</td>\n",
              "      <td>5.000000</td>\n",
              "      <td>3.000000</td>\n",
              "      <td>1.000000</td>\n",
              "      <td>45.000000</td>\n",
              "      <td>80.000000</td>\n",
              "      <td>6.360000</td>\n",
              "      <td>355.200000</td>\n",
              "      <td>1.000000</td>\n",
              "      <td>1.000000</td>\n",
              "      <td>182.000000</td>\n",
              "      <td>4.000000</td>\n",
              "    </tr>\n",
              "  </tbody>\n",
              "</table>\n",
              "</div>"
            ],
            "text/plain": [
              "        patient_id  age_at_diagnosis  chemotherapy       cohort  \\\n",
              "count  1904.000000       1904.000000   1904.000000  1904.000000   \n",
              "mean   3921.982143         61.087054      0.207983     2.643908   \n",
              "std    2358.478332         12.978711      0.405971     1.228615   \n",
              "min       0.000000         21.930000      0.000000     1.000000   \n",
              "25%     896.500000         51.375000      0.000000     1.000000   \n",
              "50%    4730.500000         61.770000      0.000000     3.000000   \n",
              "75%    5536.250000         70.592500      0.000000     3.000000   \n",
              "max    7299.000000         96.290000      1.000000     5.000000   \n",
              "\n",
              "       neoplasm_histologic_grade  hormone_therapy  \\\n",
              "count                1832.000000      1904.000000   \n",
              "mean                    2.415939         0.616597   \n",
              "std                     0.650612         0.486343   \n",
              "min                     1.000000         0.000000   \n",
              "25%                     2.000000         0.000000   \n",
              "50%                     3.000000         1.000000   \n",
              "75%                     3.000000         1.000000   \n",
              "max                     3.000000         1.000000   \n",
              "\n",
              "       lymph_nodes_examined_positive  mutation_count  \\\n",
              "count                    1904.000000     1859.000000   \n",
              "mean                        2.002101        5.697687   \n",
              "std                         4.079993        4.058778   \n",
              "min                         0.000000        1.000000   \n",
              "25%                         0.000000        3.000000   \n",
              "50%                         0.000000        5.000000   \n",
              "75%                         2.000000        7.000000   \n",
              "max                        45.000000       80.000000   \n",
              "\n",
              "       nottingham_prognostic_index  overall_survival_months  overall_survival  \\\n",
              "count                  1904.000000              1904.000000       1904.000000   \n",
              "mean                      4.033019               125.121324          0.420693   \n",
              "std                       1.144492                76.334148          0.493800   \n",
              "min                       1.000000                 0.000000          0.000000   \n",
              "25%                       3.046000                60.825000          0.000000   \n",
              "50%                       4.042000               115.616667          0.000000   \n",
              "75%                       5.040250               184.716667          1.000000   \n",
              "max                       6.360000               355.200000          1.000000   \n",
              "\n",
              "       radio_therapy   tumor_size  tumor_stage  \n",
              "count    1904.000000  1884.000000  1403.000000  \n",
              "mean        0.597164    26.238726     1.750535  \n",
              "std         0.490597    15.160976     0.628999  \n",
              "min         0.000000     1.000000     0.000000  \n",
              "25%         0.000000    17.000000     1.000000  \n",
              "50%         1.000000    23.000000     2.000000  \n",
              "75%         1.000000    30.000000     2.000000  \n",
              "max         1.000000   182.000000     4.000000  "
            ]
          },
          "execution_count": 93,
          "metadata": {},
          "output_type": "execute_result"
        }
      ],
      "source": [
        "clinical_dataset.describe()"
      ]
    },
    {
      "cell_type": "code",
      "execution_count": 94,
      "id": "539e4ddf",
      "metadata": {
        "colab": {
          "base_uri": "https://localhost:8080/"
        },
        "id": "539e4ddf",
        "outputId": "bcdec4fc-5f21-4cb7-b6bf-841f76bd33e8"
      },
      "outputs": [
        {
          "name": "stdout",
          "output_type": "stream",
          "text": [
            "<class 'pandas.core.frame.DataFrame'>\n",
            "RangeIndex: 1904 entries, 0 to 1903\n",
            "Columns: 489 entries, tgfbr2 to tbl1xr1\n",
            "dtypes: float64(489)\n",
            "memory usage: 7.1 MB\n"
          ]
        }
      ],
      "source": [
        "gene_expr_dataset.info()"
      ]
    },
    {
      "cell_type": "code",
      "execution_count": 95,
      "id": "9a290365",
      "metadata": {
        "colab": {
          "base_uri": "https://localhost:8080/",
          "height": 394
        },
        "id": "9a290365",
        "outputId": "3010c27f-ca55-4194-a387-e3f97a4a4fd8"
      },
      "outputs": [
        {
          "data": {
            "text/html": [
              "<div>\n",
              "<style scoped>\n",
              "    .dataframe tbody tr th:only-of-type {\n",
              "        vertical-align: middle;\n",
              "    }\n",
              "\n",
              "    .dataframe tbody tr th {\n",
              "        vertical-align: top;\n",
              "    }\n",
              "\n",
              "    .dataframe thead th {\n",
              "        text-align: right;\n",
              "    }\n",
              "</style>\n",
              "<table border=\"1\" class=\"dataframe\">\n",
              "  <thead>\n",
              "    <tr style=\"text-align: right;\">\n",
              "      <th></th>\n",
              "      <th>tgfbr2</th>\n",
              "      <th>ahnak</th>\n",
              "      <th>erbb3</th>\n",
              "      <th>ptprd</th>\n",
              "      <th>bcl2</th>\n",
              "      <th>ttyh1</th>\n",
              "      <th>bmp6</th>\n",
              "      <th>abcc10</th>\n",
              "      <th>maml1</th>\n",
              "      <th>fbxw7</th>\n",
              "      <th>...</th>\n",
              "      <th>diras3</th>\n",
              "      <th>tubb4a</th>\n",
              "      <th>srd5a2</th>\n",
              "      <th>agmo</th>\n",
              "      <th>ccna1</th>\n",
              "      <th>csf1</th>\n",
              "      <th>bap1</th>\n",
              "      <th>rasgef1b</th>\n",
              "      <th>nt5e</th>\n",
              "      <th>tbl1xr1</th>\n",
              "    </tr>\n",
              "  </thead>\n",
              "  <tbody>\n",
              "    <tr>\n",
              "      <th>count</th>\n",
              "      <td>1.904000e+03</td>\n",
              "      <td>1904.000000</td>\n",
              "      <td>1.904000e+03</td>\n",
              "      <td>1.904000e+03</td>\n",
              "      <td>1.904000e+03</td>\n",
              "      <td>1.904000e+03</td>\n",
              "      <td>1904.000000</td>\n",
              "      <td>1904.000000</td>\n",
              "      <td>1904.000000</td>\n",
              "      <td>1904.000000</td>\n",
              "      <td>...</td>\n",
              "      <td>1904.000000</td>\n",
              "      <td>1.904000e+03</td>\n",
              "      <td>1.904000e+03</td>\n",
              "      <td>1.904000e+03</td>\n",
              "      <td>1.904000e+03</td>\n",
              "      <td>1904.000000</td>\n",
              "      <td>1.904000e+03</td>\n",
              "      <td>1.904000e+03</td>\n",
              "      <td>1.904000e+03</td>\n",
              "      <td>1.904000e+03</td>\n",
              "    </tr>\n",
              "    <tr>\n",
              "      <th>mean</th>\n",
              "      <td>1.050420e-07</td>\n",
              "      <td>-0.000003</td>\n",
              "      <td>5.252101e-08</td>\n",
              "      <td>5.777311e-07</td>\n",
              "      <td>-6.302521e-07</td>\n",
              "      <td>8.928571e-07</td>\n",
              "      <td>0.000000</td>\n",
              "      <td>0.000002</td>\n",
              "      <td>0.000000</td>\n",
              "      <td>0.000001</td>\n",
              "      <td>...</td>\n",
              "      <td>-0.000001</td>\n",
              "      <td>9.453782e-07</td>\n",
              "      <td>-3.676471e-07</td>\n",
              "      <td>-6.827731e-07</td>\n",
              "      <td>-5.777311e-07</td>\n",
              "      <td>0.000001</td>\n",
              "      <td>8.928571e-07</td>\n",
              "      <td>-5.252101e-07</td>\n",
              "      <td>4.726891e-07</td>\n",
              "      <td>-3.676471e-07</td>\n",
              "    </tr>\n",
              "    <tr>\n",
              "      <th>std</th>\n",
              "      <td>1.000262e+00</td>\n",
              "      <td>1.000262</td>\n",
              "      <td>1.000263e+00</td>\n",
              "      <td>1.000263e+00</td>\n",
              "      <td>1.000261e+00</td>\n",
              "      <td>1.000263e+00</td>\n",
              "      <td>1.000262</td>\n",
              "      <td>1.000263</td>\n",
              "      <td>1.000263</td>\n",
              "      <td>1.000264</td>\n",
              "      <td>...</td>\n",
              "      <td>1.000262</td>\n",
              "      <td>1.000263e+00</td>\n",
              "      <td>1.000262e+00</td>\n",
              "      <td>1.000262e+00</td>\n",
              "      <td>1.000263e+00</td>\n",
              "      <td>1.000262</td>\n",
              "      <td>1.000262e+00</td>\n",
              "      <td>1.000263e+00</td>\n",
              "      <td>1.000263e+00</td>\n",
              "      <td>1.000263e+00</td>\n",
              "    </tr>\n",
              "    <tr>\n",
              "      <th>min</th>\n",
              "      <td>-4.260800e+00</td>\n",
              "      <td>-5.198200</td>\n",
              "      <td>-5.283000e+00</td>\n",
              "      <td>-1.821600e+00</td>\n",
              "      <td>-2.791900e+00</td>\n",
              "      <td>-9.160000e-01</td>\n",
              "      <td>-2.967900</td>\n",
              "      <td>-2.766800</td>\n",
              "      <td>-3.812000</td>\n",
              "      <td>-2.071300</td>\n",
              "      <td>...</td>\n",
              "      <td>-1.399500</td>\n",
              "      <td>-1.553900e+00</td>\n",
              "      <td>-3.364800e+00</td>\n",
              "      <td>-3.388800e+00</td>\n",
              "      <td>-1.445600e+00</td>\n",
              "      <td>-2.819000</td>\n",
              "      <td>-5.575900e+00</td>\n",
              "      <td>-4.132600e+00</td>\n",
              "      <td>-2.036800e+00</td>\n",
              "      <td>-3.897100e+00</td>\n",
              "    </tr>\n",
              "    <tr>\n",
              "      <th>25%</th>\n",
              "      <td>-5.905000e-01</td>\n",
              "      <td>-0.544700</td>\n",
              "      <td>-5.245250e-01</td>\n",
              "      <td>-7.234500e-01</td>\n",
              "      <td>-6.990750e-01</td>\n",
              "      <td>-5.096500e-01</td>\n",
              "      <td>-0.607425</td>\n",
              "      <td>-0.663950</td>\n",
              "      <td>-0.634050</td>\n",
              "      <td>-0.701950</td>\n",
              "      <td>...</td>\n",
              "      <td>-0.547400</td>\n",
              "      <td>-4.556500e-01</td>\n",
              "      <td>-6.104750e-01</td>\n",
              "      <td>-6.374250e-01</td>\n",
              "      <td>-4.711500e-01</td>\n",
              "      <td>-0.648975</td>\n",
              "      <td>-5.884250e-01</td>\n",
              "      <td>-6.552250e-01</td>\n",
              "      <td>-6.752000e-01</td>\n",
              "      <td>-6.138500e-01</td>\n",
              "    </tr>\n",
              "    <tr>\n",
              "      <th>50%</th>\n",
              "      <td>7.800000e-02</td>\n",
              "      <td>0.114400</td>\n",
              "      <td>1.574000e-01</td>\n",
              "      <td>-1.658500e-01</td>\n",
              "      <td>1.056500e-01</td>\n",
              "      <td>-3.346500e-01</td>\n",
              "      <td>-0.131500</td>\n",
              "      <td>-0.116650</td>\n",
              "      <td>-0.031050</td>\n",
              "      <td>-0.141250</td>\n",
              "      <td>...</td>\n",
              "      <td>-0.245250</td>\n",
              "      <td>-1.721500e-01</td>\n",
              "      <td>-4.690000e-02</td>\n",
              "      <td>-7.850000e-03</td>\n",
              "      <td>-2.117000e-01</td>\n",
              "      <td>-0.121500</td>\n",
              "      <td>-1.275000e-02</td>\n",
              "      <td>-9.600000e-03</td>\n",
              "      <td>-1.580000e-01</td>\n",
              "      <td>-7.585000e-02</td>\n",
              "    </tr>\n",
              "    <tr>\n",
              "      <th>75%</th>\n",
              "      <td>6.646750e-01</td>\n",
              "      <td>0.630100</td>\n",
              "      <td>6.818250e-01</td>\n",
              "      <td>5.258250e-01</td>\n",
              "      <td>7.437250e-01</td>\n",
              "      <td>1.047500e-02</td>\n",
              "      <td>0.409000</td>\n",
              "      <td>0.509700</td>\n",
              "      <td>0.616350</td>\n",
              "      <td>0.562725</td>\n",
              "      <td>...</td>\n",
              "      <td>0.211950</td>\n",
              "      <td>1.253750e-01</td>\n",
              "      <td>5.144500e-01</td>\n",
              "      <td>5.966000e-01</td>\n",
              "      <td>1.009250e-01</td>\n",
              "      <td>0.528150</td>\n",
              "      <td>5.768500e-01</td>\n",
              "      <td>6.355750e-01</td>\n",
              "      <td>5.088500e-01</td>\n",
              "      <td>5.130500e-01</td>\n",
              "    </tr>\n",
              "    <tr>\n",
              "      <th>max</th>\n",
              "      <td>2.563400e+00</td>\n",
              "      <td>3.329000</td>\n",
              "      <td>2.276100e+00</td>\n",
              "      <td>6.305800e+00</td>\n",
              "      <td>2.656100e+00</td>\n",
              "      <td>6.412300e+00</td>\n",
              "      <td>9.859300</td>\n",
              "      <td>5.684900</td>\n",
              "      <td>4.410500</td>\n",
              "      <td>4.713900</td>\n",
              "      <td>...</td>\n",
              "      <td>10.272700</td>\n",
              "      <td>1.863510e+01</td>\n",
              "      <td>1.027030e+01</td>\n",
              "      <td>1.272860e+01</td>\n",
              "      <td>1.061350e+01</td>\n",
              "      <td>6.280700</td>\n",
              "      <td>3.872200e+00</td>\n",
              "      <td>4.182200e+00</td>\n",
              "      <td>8.739500e+00</td>\n",
              "      <td>7.064900e+00</td>\n",
              "    </tr>\n",
              "  </tbody>\n",
              "</table>\n",
              "<p>8 rows × 489 columns</p>\n",
              "</div>"
            ],
            "text/plain": [
              "             tgfbr2        ahnak         erbb3         ptprd          bcl2  \\\n",
              "count  1.904000e+03  1904.000000  1.904000e+03  1.904000e+03  1.904000e+03   \n",
              "mean   1.050420e-07    -0.000003  5.252101e-08  5.777311e-07 -6.302521e-07   \n",
              "std    1.000262e+00     1.000262  1.000263e+00  1.000263e+00  1.000261e+00   \n",
              "min   -4.260800e+00    -5.198200 -5.283000e+00 -1.821600e+00 -2.791900e+00   \n",
              "25%   -5.905000e-01    -0.544700 -5.245250e-01 -7.234500e-01 -6.990750e-01   \n",
              "50%    7.800000e-02     0.114400  1.574000e-01 -1.658500e-01  1.056500e-01   \n",
              "75%    6.646750e-01     0.630100  6.818250e-01  5.258250e-01  7.437250e-01   \n",
              "max    2.563400e+00     3.329000  2.276100e+00  6.305800e+00  2.656100e+00   \n",
              "\n",
              "              ttyh1         bmp6       abcc10        maml1        fbxw7  ...  \\\n",
              "count  1.904000e+03  1904.000000  1904.000000  1904.000000  1904.000000  ...   \n",
              "mean   8.928571e-07     0.000000     0.000002     0.000000     0.000001  ...   \n",
              "std    1.000263e+00     1.000262     1.000263     1.000263     1.000264  ...   \n",
              "min   -9.160000e-01    -2.967900    -2.766800    -3.812000    -2.071300  ...   \n",
              "25%   -5.096500e-01    -0.607425    -0.663950    -0.634050    -0.701950  ...   \n",
              "50%   -3.346500e-01    -0.131500    -0.116650    -0.031050    -0.141250  ...   \n",
              "75%    1.047500e-02     0.409000     0.509700     0.616350     0.562725  ...   \n",
              "max    6.412300e+00     9.859300     5.684900     4.410500     4.713900  ...   \n",
              "\n",
              "            diras3        tubb4a        srd5a2          agmo         ccna1  \\\n",
              "count  1904.000000  1.904000e+03  1.904000e+03  1.904000e+03  1.904000e+03   \n",
              "mean     -0.000001  9.453782e-07 -3.676471e-07 -6.827731e-07 -5.777311e-07   \n",
              "std       1.000262  1.000263e+00  1.000262e+00  1.000262e+00  1.000263e+00   \n",
              "min      -1.399500 -1.553900e+00 -3.364800e+00 -3.388800e+00 -1.445600e+00   \n",
              "25%      -0.547400 -4.556500e-01 -6.104750e-01 -6.374250e-01 -4.711500e-01   \n",
              "50%      -0.245250 -1.721500e-01 -4.690000e-02 -7.850000e-03 -2.117000e-01   \n",
              "75%       0.211950  1.253750e-01  5.144500e-01  5.966000e-01  1.009250e-01   \n",
              "max      10.272700  1.863510e+01  1.027030e+01  1.272860e+01  1.061350e+01   \n",
              "\n",
              "              csf1          bap1      rasgef1b          nt5e       tbl1xr1  \n",
              "count  1904.000000  1.904000e+03  1.904000e+03  1.904000e+03  1.904000e+03  \n",
              "mean      0.000001  8.928571e-07 -5.252101e-07  4.726891e-07 -3.676471e-07  \n",
              "std       1.000262  1.000262e+00  1.000263e+00  1.000263e+00  1.000263e+00  \n",
              "min      -2.819000 -5.575900e+00 -4.132600e+00 -2.036800e+00 -3.897100e+00  \n",
              "25%      -0.648975 -5.884250e-01 -6.552250e-01 -6.752000e-01 -6.138500e-01  \n",
              "50%      -0.121500 -1.275000e-02 -9.600000e-03 -1.580000e-01 -7.585000e-02  \n",
              "75%       0.528150  5.768500e-01  6.355750e-01  5.088500e-01  5.130500e-01  \n",
              "max       6.280700  3.872200e+00  4.182200e+00  8.739500e+00  7.064900e+00  \n",
              "\n",
              "[8 rows x 489 columns]"
            ]
          },
          "execution_count": 95,
          "metadata": {},
          "output_type": "execute_result"
        }
      ],
      "source": [
        "gene_expr_dataset.describe()"
      ]
    },
    {
      "cell_type": "code",
      "execution_count": 96,
      "id": "8a055385",
      "metadata": {
        "colab": {
          "base_uri": "https://localhost:8080/"
        },
        "id": "8a055385",
        "outputId": "fbc09f2e-3a60-4302-ba09-0659a3192c20"
      },
      "outputs": [
        {
          "name": "stdout",
          "output_type": "stream",
          "text": [
            "<class 'pandas.core.frame.DataFrame'>\n",
            "RangeIndex: 1904 entries, 0 to 1903\n",
            "Columns: 173 entries, pik3ca_mut to siah1_mut\n",
            "dtypes: object(173)\n",
            "memory usage: 2.5+ MB\n"
          ]
        }
      ],
      "source": [
        "gene_mut_dataset.info()"
      ]
    },
    {
      "cell_type": "code",
      "execution_count": 97,
      "id": "0336013c",
      "metadata": {
        "colab": {
          "base_uri": "https://localhost:8080/",
          "height": 268
        },
        "id": "0336013c",
        "outputId": "8c4bb461-60ef-44f5-efd5-c2ccc9bce0f4"
      },
      "outputs": [
        {
          "data": {
            "text/html": [
              "<div>\n",
              "<style scoped>\n",
              "    .dataframe tbody tr th:only-of-type {\n",
              "        vertical-align: middle;\n",
              "    }\n",
              "\n",
              "    .dataframe tbody tr th {\n",
              "        vertical-align: top;\n",
              "    }\n",
              "\n",
              "    .dataframe thead th {\n",
              "        text-align: right;\n",
              "    }\n",
              "</style>\n",
              "<table border=\"1\" class=\"dataframe\">\n",
              "  <thead>\n",
              "    <tr style=\"text-align: right;\">\n",
              "      <th></th>\n",
              "      <th>pik3ca_mut</th>\n",
              "      <th>tp53_mut</th>\n",
              "      <th>muc16_mut</th>\n",
              "      <th>ahnak2_mut</th>\n",
              "      <th>kmt2c_mut</th>\n",
              "      <th>syne1_mut</th>\n",
              "      <th>gata3_mut</th>\n",
              "      <th>map3k1_mut</th>\n",
              "      <th>ahnak_mut</th>\n",
              "      <th>dnah11_mut</th>\n",
              "      <th>...</th>\n",
              "      <th>mtap_mut</th>\n",
              "      <th>ppp2cb_mut</th>\n",
              "      <th>smarcd1_mut</th>\n",
              "      <th>nras_mut</th>\n",
              "      <th>ndfip1_mut</th>\n",
              "      <th>hras_mut</th>\n",
              "      <th>prps2_mut</th>\n",
              "      <th>smarcb1_mut</th>\n",
              "      <th>stmn2_mut</th>\n",
              "      <th>siah1_mut</th>\n",
              "    </tr>\n",
              "  </thead>\n",
              "  <tbody>\n",
              "    <tr>\n",
              "      <th>count</th>\n",
              "      <td>1904</td>\n",
              "      <td>1904</td>\n",
              "      <td>1904</td>\n",
              "      <td>1904</td>\n",
              "      <td>1904</td>\n",
              "      <td>1904</td>\n",
              "      <td>1904</td>\n",
              "      <td>1904</td>\n",
              "      <td>1904</td>\n",
              "      <td>1904</td>\n",
              "      <td>...</td>\n",
              "      <td>1904</td>\n",
              "      <td>1904</td>\n",
              "      <td>1904</td>\n",
              "      <td>1904</td>\n",
              "      <td>1904</td>\n",
              "      <td>1904</td>\n",
              "      <td>1904</td>\n",
              "      <td>1904</td>\n",
              "      <td>1904</td>\n",
              "      <td>1904</td>\n",
              "    </tr>\n",
              "    <tr>\n",
              "      <th>unique</th>\n",
              "      <td>160</td>\n",
              "      <td>343</td>\n",
              "      <td>298</td>\n",
              "      <td>248</td>\n",
              "      <td>222</td>\n",
              "      <td>200</td>\n",
              "      <td>128</td>\n",
              "      <td>194</td>\n",
              "      <td>153</td>\n",
              "      <td>154</td>\n",
              "      <td>...</td>\n",
              "      <td>5</td>\n",
              "      <td>5</td>\n",
              "      <td>5</td>\n",
              "      <td>4</td>\n",
              "      <td>4</td>\n",
              "      <td>3</td>\n",
              "      <td>3</td>\n",
              "      <td>3</td>\n",
              "      <td>3</td>\n",
              "      <td>2</td>\n",
              "    </tr>\n",
              "    <tr>\n",
              "      <th>top</th>\n",
              "      <td>0</td>\n",
              "      <td>0</td>\n",
              "      <td>0</td>\n",
              "      <td>0</td>\n",
              "      <td>0</td>\n",
              "      <td>0</td>\n",
              "      <td>0</td>\n",
              "      <td>0</td>\n",
              "      <td>0</td>\n",
              "      <td>0</td>\n",
              "      <td>...</td>\n",
              "      <td>0</td>\n",
              "      <td>0</td>\n",
              "      <td>0</td>\n",
              "      <td>0</td>\n",
              "      <td>0</td>\n",
              "      <td>0</td>\n",
              "      <td>0</td>\n",
              "      <td>0</td>\n",
              "      <td>0</td>\n",
              "      <td>0</td>\n",
              "    </tr>\n",
              "    <tr>\n",
              "      <th>freq</th>\n",
              "      <td>1109</td>\n",
              "      <td>1245</td>\n",
              "      <td>1578</td>\n",
              "      <td>1593</td>\n",
              "      <td>1670</td>\n",
              "      <td>1672</td>\n",
              "      <td>1674</td>\n",
              "      <td>1706</td>\n",
              "      <td>1728</td>\n",
              "      <td>1729</td>\n",
              "      <td>...</td>\n",
              "      <td>1900</td>\n",
              "      <td>1900</td>\n",
              "      <td>1900</td>\n",
              "      <td>1901</td>\n",
              "      <td>1901</td>\n",
              "      <td>1902</td>\n",
              "      <td>1902</td>\n",
              "      <td>1902</td>\n",
              "      <td>1902</td>\n",
              "      <td>1903</td>\n",
              "    </tr>\n",
              "  </tbody>\n",
              "</table>\n",
              "<p>4 rows × 173 columns</p>\n",
              "</div>"
            ],
            "text/plain": [
              "       pik3ca_mut tp53_mut muc16_mut ahnak2_mut kmt2c_mut syne1_mut gata3_mut  \\\n",
              "count        1904     1904      1904       1904      1904      1904      1904   \n",
              "unique        160      343       298        248       222       200       128   \n",
              "top             0        0         0          0         0         0         0   \n",
              "freq         1109     1245      1578       1593      1670      1672      1674   \n",
              "\n",
              "       map3k1_mut ahnak_mut dnah11_mut  ... mtap_mut ppp2cb_mut smarcd1_mut  \\\n",
              "count        1904      1904       1904  ...     1904       1904        1904   \n",
              "unique        194       153        154  ...        5          5           5   \n",
              "top             0         0          0  ...        0          0           0   \n",
              "freq         1706      1728       1729  ...     1900       1900        1900   \n",
              "\n",
              "       nras_mut ndfip1_mut hras_mut prps2_mut smarcb1_mut stmn2_mut siah1_mut  \n",
              "count      1904       1904     1904      1904        1904      1904      1904  \n",
              "unique        4          4        3         3           3         3         2  \n",
              "top           0          0        0         0           0         0         0  \n",
              "freq       1901       1901     1902      1902        1902      1902      1903  \n",
              "\n",
              "[4 rows x 173 columns]"
            ]
          },
          "execution_count": 97,
          "metadata": {},
          "output_type": "execute_result"
        }
      ],
      "source": [
        "gene_mut_dataset.describe()"
      ]
    },
    {
      "cell_type": "code",
      "execution_count": 98,
      "id": "3fc5a137",
      "metadata": {
        "colab": {
          "base_uri": "https://localhost:8080/"
        },
        "id": "3fc5a137",
        "outputId": "750bf9b4-9a35-4fa3-f86c-6bf03a929c56"
      },
      "outputs": [
        {
          "name": "stdout",
          "output_type": "stream",
          "text": [
            "Clinical dataset clean data: 1092\n",
            "Gene expression dataset clean data: 1904\n",
            "Gene mutation dataset clean data: 1904\n"
          ]
        }
      ],
      "source": [
        "# clean data means data with no NaN value in any column\n",
        "def clean_stats(ds):\n",
        "    return '''clean data: {0}'''.format(ds.shape[0] - ds.isnull().any(axis=1).sum())\n",
        "\n",
        "print(f'Clinical dataset {clean_stats(clinical_dataset)}')\n",
        "print(f'Gene expression dataset {clean_stats(gene_expr_dataset)}')\n",
        "print(f'Gene mutation dataset {clean_stats(gene_mut_dataset)}')"
      ]
    },
    {
      "cell_type": "code",
      "execution_count": 99,
      "id": "0f730892",
      "metadata": {
        "colab": {
          "base_uri": "https://localhost:8080/"
        },
        "id": "0f730892",
        "outputId": "42b12e02-832c-4bf8-ebf9-3635c298918f"
      },
      "outputs": [
        {
          "data": {
            "text/plain": [
              "patient_id                          int64\n",
              "age_at_diagnosis                  float64\n",
              "type_of_breast_surgery             object\n",
              "cancer_type                        object\n",
              "cancer_type_detailed               object\n",
              "cellularity                        object\n",
              "chemotherapy                        int64\n",
              "pam50_+_claudin-low_subtype        object\n",
              "cohort                            float64\n",
              "er_status_measured_by_ihc          object\n",
              "er_status                          object\n",
              "neoplasm_histologic_grade         float64\n",
              "her2_status_measured_by_snp6       object\n",
              "her2_status                        object\n",
              "tumor_other_histologic_subtype     object\n",
              "hormone_therapy                     int64\n",
              "inferred_menopausal_state          object\n",
              "integrative_cluster                object\n",
              "primary_tumor_laterality           object\n",
              "lymph_nodes_examined_positive     float64\n",
              "mutation_count                    float64\n",
              "nottingham_prognostic_index       float64\n",
              "oncotree_code                      object\n",
              "overall_survival_months           float64\n",
              "overall_survival                    int64\n",
              "pr_status                          object\n",
              "radio_therapy                       int64\n",
              "3-gene_classifier_subtype          object\n",
              "tumor_size                        float64\n",
              "tumor_stage                       float64\n",
              "death_from_cancer                  object\n",
              "dtype: object"
            ]
          },
          "execution_count": 99,
          "metadata": {},
          "output_type": "execute_result"
        }
      ],
      "source": [
        "clinical_dataset.dtypes"
      ]
    },
    {
      "cell_type": "code",
      "execution_count": 100,
      "id": "935fefb0",
      "metadata": {
        "colab": {
          "base_uri": "https://localhost:8080/"
        },
        "id": "935fefb0",
        "outputId": "f1698807-76f3-4df7-cbef-8b7a9f49b603"
      },
      "outputs": [
        {
          "name": "stdout",
          "output_type": "stream",
          "text": [
            "Clinical dataset: \n",
            "    columns: 31, object columns: 17, int columns: 5, float columns: 9\n",
            "    \n",
            "Gene expression dataset: \n",
            "    columns: 489, object columns: 0, int columns: 0, float columns: 489\n",
            "    \n",
            "Gene mutation dataset: \n",
            "    columns: 173, object columns: 173, int columns: 0, float columns: 0\n",
            "    \n"
          ]
        }
      ],
      "source": [
        "def dtype_stats(ds):\n",
        "    return '''\n",
        "    columns: {0}, object columns: {1}, int columns: {2}, float columns: {3}\n",
        "    '''.format(len(ds.columns),\n",
        "               (ds.dtypes == 'object').sum(),\n",
        "               (ds.dtypes == 'int64').sum(),\n",
        "               (ds.dtypes == 'float64').sum())\n",
        "\n",
        "print(f'Clinical dataset: {dtype_stats(clinical_dataset)}')\n",
        "print(f'Gene expression dataset: {dtype_stats(gene_expr_dataset)}')\n",
        "print(f'Gene mutation dataset: {dtype_stats(gene_mut_dataset)}')"
      ]
    },
    {
      "cell_type": "code",
      "execution_count": 101,
      "id": "70dfb89d",
      "metadata": {
        "colab": {
          "base_uri": "https://localhost:8080/",
          "height": 206
        },
        "id": "70dfb89d",
        "outputId": "bb64426b-b8db-4bd1-8cf3-b26d71b7439a"
      },
      "outputs": [
        {
          "data": {
            "text/html": [
              "<div>\n",
              "<style scoped>\n",
              "    .dataframe tbody tr th:only-of-type {\n",
              "        vertical-align: middle;\n",
              "    }\n",
              "\n",
              "    .dataframe tbody tr th {\n",
              "        vertical-align: top;\n",
              "    }\n",
              "\n",
              "    .dataframe thead th {\n",
              "        text-align: right;\n",
              "    }\n",
              "</style>\n",
              "<table border=\"1\" class=\"dataframe\">\n",
              "  <thead>\n",
              "    <tr style=\"text-align: right;\">\n",
              "      <th></th>\n",
              "      <th>patient_id</th>\n",
              "      <th>chemotherapy</th>\n",
              "      <th>hormone_therapy</th>\n",
              "      <th>overall_survival</th>\n",
              "      <th>radio_therapy</th>\n",
              "    </tr>\n",
              "  </thead>\n",
              "  <tbody>\n",
              "    <tr>\n",
              "      <th>0</th>\n",
              "      <td>0</td>\n",
              "      <td>0</td>\n",
              "      <td>1</td>\n",
              "      <td>1</td>\n",
              "      <td>1</td>\n",
              "    </tr>\n",
              "    <tr>\n",
              "      <th>1</th>\n",
              "      <td>2</td>\n",
              "      <td>0</td>\n",
              "      <td>1</td>\n",
              "      <td>1</td>\n",
              "      <td>1</td>\n",
              "    </tr>\n",
              "    <tr>\n",
              "      <th>2</th>\n",
              "      <td>5</td>\n",
              "      <td>1</td>\n",
              "      <td>1</td>\n",
              "      <td>0</td>\n",
              "      <td>0</td>\n",
              "    </tr>\n",
              "    <tr>\n",
              "      <th>3</th>\n",
              "      <td>6</td>\n",
              "      <td>1</td>\n",
              "      <td>1</td>\n",
              "      <td>1</td>\n",
              "      <td>1</td>\n",
              "    </tr>\n",
              "    <tr>\n",
              "      <th>4</th>\n",
              "      <td>8</td>\n",
              "      <td>1</td>\n",
              "      <td>1</td>\n",
              "      <td>0</td>\n",
              "      <td>1</td>\n",
              "    </tr>\n",
              "  </tbody>\n",
              "</table>\n",
              "</div>"
            ],
            "text/plain": [
              "   patient_id  chemotherapy  hormone_therapy  overall_survival  radio_therapy\n",
              "0           0             0                1                 1              1\n",
              "1           2             0                1                 1              1\n",
              "2           5             1                1                 0              0\n",
              "3           6             1                1                 1              1\n",
              "4           8             1                1                 0              1"
            ]
          },
          "execution_count": 101,
          "metadata": {},
          "output_type": "execute_result"
        }
      ],
      "source": [
        "# check if int data needs scaling\n",
        "clinical_dataset[clinical_columns[clinical_dataset.dtypes == 'int64']].head(5)"
      ]
    },
    {
      "cell_type": "code",
      "execution_count": 102,
      "id": "00a64091",
      "metadata": {
        "id": "00a64091"
      },
      "outputs": [],
      "source": [
        "# define data and labels for each dataset\n",
        "\n",
        "labels = clinical_dataset[label_column].to_numpy()\n",
        "clinical_data = clinical_dataset[clinical_data_columns].to_numpy()\n",
        "gene_expr_data = gene_expr_dataset.to_numpy()"
      ]
    },
    {
      "cell_type": "code",
      "execution_count": 103,
      "id": "99c8a4bc",
      "metadata": {
        "id": "99c8a4bc"
      },
      "outputs": [],
      "source": [
        "# Convert categorical data to numerical data for clinical dataset\n",
        "ordinal_encoder = OrdinalEncoder()\n",
        "clinical_data = ordinal_encoder.fit_transform(clinical_data)"
      ]
    },
    {
      "cell_type": "code",
      "execution_count": 104,
      "id": "9da8ca52",
      "metadata": {
        "id": "9da8ca52"
      },
      "outputs": [],
      "source": [
        "# Perform data imputation for clinical dataset\n",
        "imputer = SimpleImputer(missing_values=np.nan, strategy='mean')\n",
        "clinical_data = imputer.fit_transform(clinical_data)"
      ]
    },
    {
      "cell_type": "code",
      "execution_count": 105,
      "id": "1BFAjN9wKRUu",
      "metadata": {
        "id": "1BFAjN9wKRUu"
      },
      "outputs": [],
      "source": [
        "scaler = StandardScaler()\n",
        "clinical_data = scaler.fit_transform(clinical_data)"
      ]
    },
    {
      "cell_type": "code",
      "execution_count": 106,
      "id": "eG4CkK4IC9d-",
      "metadata": {
        "id": "eG4CkK4IC9d-"
      },
      "outputs": [],
      "source": [
        "_clinical_train_X, _clinical_test_X, _clinical_train_y, _clinical_test_y = train_test_split(clinical_data, labels, test_size=0.10, random_state=SEED)\n",
        "_clinical_train_X, _clinical_val_X, _clinical_train_y, _clinical_val_y = train_test_split(_clinical_train_X, _clinical_train_y, test_size=0.10, random_state=SEED)\n",
        "\n",
        "_gene_expr_train_X, _gene_expr_test_X, _gene_expr_train_y, _gene_expr_test_y = train_test_split(gene_expr_data, labels, test_size=0.10, random_state=SEED)\n",
        "_gene_expr_train_X, _gene_expr_val_X, _gene_expr_train_y, _gene_expr_val_y = train_test_split(_gene_expr_train_X, _gene_expr_train_y, test_size=0.10, random_state=SEED)\n",
        "\n",
        "dataset = {\n",
        "    'clinical':{\n",
        "        'X_train': _clinical_train_X,\n",
        "        'X_val': _clinical_val_X,\n",
        "        'X_test': _clinical_test_X,\n",
        "        'y_train': _clinical_train_y,\n",
        "        'y_val': _clinical_val_y,\n",
        "        'y_test': _clinical_test_y\n",
        "    },\n",
        "    'gene_expr':{\n",
        "        'X_train': _gene_expr_train_X,\n",
        "        'X_val': _gene_expr_val_X,\n",
        "        'X_test': _gene_expr_test_X,\n",
        "        'y_train': _gene_expr_train_y,\n",
        "        'y_val': _gene_expr_val_y,\n",
        "        'y_test': _gene_expr_test_y\n",
        "    },\n",
        "    'gene_expr_reduced':{\n",
        "    }\n",
        "}"
      ]
    },
    {
      "cell_type": "markdown",
      "id": "e2c3821f",
      "metadata": {
        "id": "e2c3821f"
      },
      "source": [
        "## Dimension Reduction (20 + Up to 10 Points Optional)"
      ]
    },
    {
      "cell_type": "markdown",
      "id": "b925e2cf",
      "metadata": {
        "id": "b925e2cf"
      },
      "source": [
        "For each dataset, investigate whether it is needed to use a dimensionality reduction approach or not. If yes, please reduce the dataset's dimension. You can use UMAP for this purpose but any other approach is acceptable. Finding the most important features contains extra points."
      ]
    },
    {
      "cell_type": "markdown",
      "id": "b14cefb7",
      "metadata": {
        "id": "b14cefb7"
      },
      "source": [
        "<span style=\"color:orange\">\n",
        "    we check if dimensionality reduction is needed by using a simple linear regression model as a baseline .\n",
        "</span>\n",
        "\n"
      ]
    },
    {
      "cell_type": "code",
      "execution_count": 107,
      "id": "f0666a0d",
      "metadata": {
        "colab": {
          "base_uri": "https://localhost:8080/"
        },
        "id": "f0666a0d",
        "outputId": "3e374600-946f-4995-c0bb-a9e6eaed661c"
      },
      "outputs": [
        {
          "name": "stdout",
          "output_type": "stream",
          "text": [
            "Accuracy of simple linear regression model on clinical data: 0.733\n",
            "Accuracy of simple linear regression model on gene expression data: 0.550\n"
          ]
        }
      ],
      "source": [
        "# predict for the clinical dataset using linear regression\n",
        "_clf = LinearRegression()\n",
        "_clf.fit(dataset['clinical']['X_train'], dataset['clinical']['y_train'])\n",
        "_clinical_baseline_pred = np.round(_clf.predict(dataset['clinical']['X_test']))\n",
        "_clinical_baseline_accuracy = accuracy_score(dataset['clinical']['y_test'], _clinical_baseline_pred)\n",
        "\n",
        "# predict for the gene expression dataset using linear regression\n",
        "_clf = LinearRegression()\n",
        "_clf.fit(dataset['gene_expr']['X_train'], dataset['gene_expr']['y_train'])\n",
        "_gene_expr_baseline_pred = np.round(_clf.predict(dataset['gene_expr']['X_test']))\n",
        "_gene_expr_baseline_accuracy = accuracy_score(dataset['gene_expr']['y_test'], _gene_expr_baseline_pred)\n",
        "\n",
        "print(f'Accuracy of simple linear regression model on clinical data: {_clinical_baseline_accuracy:.3f}')\n",
        "print(f'Accuracy of simple linear regression model on gene expression data: {_gene_expr_baseline_accuracy:.3f}')"
      ]
    },
    {
      "cell_type": "markdown",
      "id": "29e2dbe8",
      "metadata": {
        "id": "29e2dbe8"
      },
      "source": [
        "<span style=\"color:orange\">\n",
        "    As we can see, the results are much better for the clinical dataset which has few dimensions, but not so much for the gene expession dataset.\n",
        "    Therefore, we will only reduce the dimensions for gene expression dataset.\n",
        "</span>\n",
        "\n"
      ]
    },
    {
      "cell_type": "code",
      "execution_count": 108,
      "id": "a3f0b1a2",
      "metadata": {
        "colab": {
          "base_uri": "https://localhost:8080/"
        },
        "id": "a3f0b1a2",
        "outputId": "7ecc82fe-56cf-4b18-844a-e15dcde3a0c8"
      },
      "outputs": [
        {
          "name": "stdout",
          "output_type": "stream",
          "text": [
            "Accuracy of simple linear regression model on reduced clinical data: 0.618\n",
            "Accuracy of simple linear regression model on reduced gene expression data: 0.613\n"
          ]
        }
      ],
      "source": [
        "# reduce the dimensions for clinical data and predict using baseline model\n",
        "CLINICAL_REDUCED_DIMENSIONS = 10\n",
        "GENE_EXPR_REDUCED_DIMENSIONS = 20\n",
        "\n",
        "\n",
        "_reducer = umap.UMAP(n_components=CLINICAL_REDUCED_DIMENSIONS, random_state=SEED)\n",
        "_reducer.fit(clinical_data)\n",
        "_reduced_X_train = _reducer.transform(dataset['clinical']['X_train'])\n",
        "_reduced_X_test = _reducer.transform(dataset['clinical']['X_test'])\n",
        "\n",
        "_clf = LinearRegression()\n",
        "_clf.fit(_reduced_X_train, dataset['clinical']['y_train'])\n",
        "_clinical_reduced_baseline_pred = np.round(_clf.predict(_reduced_X_test))\n",
        "_clinical_reduced_baseline_accuracy = accuracy_score(dataset['clinical']['y_test'], _clinical_reduced_baseline_pred)\n",
        "\n",
        "# reduce the dimensions for gene expression data and predict using baseline model\n",
        "_reducer = umap.UMAP(n_components=GENE_EXPR_REDUCED_DIMENSIONS, random_state=SEED)\n",
        "_reducer.fit(gene_expr_data)\n",
        "_reduced_X_train = _reducer.transform(dataset['gene_expr']['X_train'])\n",
        "_reduced_X_val = _reducer.transform(dataset['gene_expr']['X_val'])\n",
        "_reduced_X_test = _reducer.transform(dataset['gene_expr']['X_test'])\n",
        "\n",
        "_clf = LinearRegression()\n",
        "_clf.fit(_reduced_X_train, dataset['gene_expr']['y_train'])\n",
        "_gene_expr_reduced_baseline_pred = np.round(_clf.predict(_reduced_X_test))\n",
        "_gene_expr_reduced_baseline_accuracy = accuracy_score(dataset['gene_expr']['y_test'], _gene_expr_reduced_baseline_pred)\n",
        "\n",
        "print(f'Accuracy of simple linear regression model on reduced clinical data: {_clinical_reduced_baseline_accuracy:.3f}')\n",
        "print(f'Accuracy of simple linear regression model on reduced gene expression data: {_gene_expr_reduced_baseline_accuracy:.3f}')"
      ]
    },
    {
      "cell_type": "markdown",
      "id": "578ec633",
      "metadata": {
        "id": "578ec633"
      },
      "source": [
        "<span style=\"color:orange\">\n",
        "    As we can see, applying dimension reduction on the clinical dataset leads to worse results, while on gene expression dataset improves the predictions.\n",
        "    Therefore, we choose to reduce the dimensions of only the gene expression dataset. \n",
        "</span>\n",
        "\n"
      ]
    },
    {
      "cell_type": "code",
      "execution_count": 109,
      "id": "1dc64a2b",
      "metadata": {
        "id": "1dc64a2b"
      },
      "outputs": [],
      "source": [
        "dataset['gene_expr_reduced'] = {\n",
        "    'X_train': _reduced_X_train,\n",
        "    'X_val': _reduced_X_val,\n",
        "    'X_test': _reduced_X_test,\n",
        "    'y_train': _gene_expr_train_y,\n",
        "    'y_val': _gene_expr_val_y,\n",
        "    'y_test': _gene_expr_test_y\n",
        "}"
      ]
    },
    {
      "cell_type": "markdown",
      "id": "bf0ea4bb",
      "metadata": {
        "id": "bf0ea4bb"
      },
      "source": [
        "# Classic Model (25 Points)"
      ]
    },
    {
      "cell_type": "markdown",
      "id": "389c5d75",
      "metadata": {
        "id": "389c5d75"
      },
      "source": [
        "In this section, you must implement a classic classification model for clinical, gene expressions, and reduced gene expressions datasets. Using Random Forest is suggested. (minimum acceptable accuracy = 60%)"
      ]
    },
    {
      "cell_type": "code",
      "execution_count": 110,
      "id": "34ec1dd7",
      "metadata": {
        "colab": {
          "base_uri": "https://localhost:8080/"
        },
        "id": "34ec1dd7",
        "outputId": "a3d27908-e6d9-4dc5-d5ad-1ec701bee93e"
      },
      "outputs": [
        {
          "name": "stdout",
          "output_type": "stream",
          "text": [
            "random forest on clinical dataset had accuracy of 0.7435\n",
            "random forest on gene_expr dataset had accuracy of 0.6649\n",
            "random forest on gene_expr_reduced dataset had accuracy of 0.6178\n",
            "svm on clinical dataset had accuracy of 0.7016\n",
            "svm on gene_expr dataset had accuracy of 0.6178\n",
            "svm on gene_expr_reduced dataset had accuracy of 0.5654\n"
          ]
        }
      ],
      "source": [
        "random_forst_models = {\n",
        "    'clinical': None,\n",
        "    'gene_expr': None,\n",
        "    'gene_expr_reduced': None\n",
        "}\n",
        "\n",
        "for ds_name in random_forst_models:\n",
        "    clf = RandomForestClassifier(random_state=SEED)\n",
        "    ds = dataset[ds_name]\n",
        "    clf.fit(ds['X_train'], ds['y_train'])\n",
        "    y_pred = clf.predict(ds['X_test'])\n",
        "    acc = accuracy_score(ds['y_test'], y_pred)\n",
        "    random_forst_models[ds_name] = {\n",
        "        'model': clf,\n",
        "        'accuracy': acc\n",
        "    }\n",
        "\n",
        "    print(f'random forest on {ds_name} dataset had accuracy of {acc:.4f}')\n",
        "\n",
        "svm_models = random_forst_models.copy()\n",
        "\n",
        "for ds_name in random_forst_models:\n",
        "    clf = SVC(random_state=SEED)\n",
        "    ds = dataset[ds_name]\n",
        "    clf.fit(ds['X_train'], ds['y_train'])\n",
        "    y_pred = clf.predict(ds['X_test'])\n",
        "    acc = accuracy_score(ds['y_test'], y_pred)\n",
        "    random_forst_models[ds_name] = {\n",
        "        'model': clf,\n",
        "        'accuracy': acc\n",
        "    }\n",
        "\n",
        "    print(f'svm on {ds_name} dataset had accuracy of {acc:.4f}')\n",
        "\n"
      ]
    },
    {
      "cell_type": "markdown",
      "id": "50146d67",
      "metadata": {
        "id": "50146d67"
      },
      "source": [
        "# Neural Network (30 Points)"
      ]
    },
    {
      "cell_type": "markdown",
      "id": "485c4047",
      "metadata": {
        "id": "485c4047"
      },
      "source": [
        "In this section, you must implement a neural network model for clinical, gene expressions and reduced gene expressions datasets. Using the MPL models is suggested. (minimum acceptable accuracy = 60%)"
      ]
    },
    {
      "cell_type": "code",
      "execution_count": 111,
      "id": "c74a41b9",
      "metadata": {
        "colab": {
          "base_uri": "https://localhost:8080/"
        },
        "id": "c74a41b9",
        "outputId": "7284b7ce-3ebe-4be2-8d4b-972c2697bdfb"
      },
      "outputs": [
        {
          "data": {
            "text/plain": [
              "device(type='cuda', index=0)"
            ]
          },
          "execution_count": 111,
          "metadata": {},
          "output_type": "execute_result"
        }
      ],
      "source": [
        "device = torch.device('cuda:0' if torch.cuda.is_available() else 'cpu')\n",
        "device"
      ]
    },
    {
      "cell_type": "code",
      "execution_count": 112,
      "id": "2ecdff3a",
      "metadata": {
        "id": "2ecdff3a"
      },
      "outputs": [],
      "source": [
        "class CancerDataset(Dataset):\n",
        "\n",
        "    def __init__(self, X, y) -> None:\n",
        "        super().__init__()\n",
        "        self.X = X\n",
        "        self.y = y\n",
        "\n",
        "    def __len__(self):\n",
        "        return len(self.X)\n",
        "    \n",
        "    def __getitem__(self, idx):\n",
        "        return self.X[idx].astype(np.float32), self.y[idx].astype(np.float32)\n"
      ]
    },
    {
      "cell_type": "code",
      "execution_count": 113,
      "id": "aaa2d935",
      "metadata": {
        "id": "aaa2d935"
      },
      "outputs": [],
      "source": [
        "dataloaders = {}\n",
        "batch_size = 64\n",
        "\n",
        "for ds_name, ds_split in dataset.items():\n",
        "    dataloaders[ds_name] = {}\n",
        "    X_train = ds_split['X_train']\n",
        "    X_val = ds_split['X_val']\n",
        "    X_test = ds_split['X_test']\n",
        "    y_train = ds_split['y_train']\n",
        "    y_val = ds_split['y_val']\n",
        "    y_test = ds_split['y_test']\n",
        "    \n",
        "    train_ds = CancerDataset(X_train, y_train)\n",
        "    val_ds = CancerDataset(X_val, y_val)\n",
        "    test_ds = CancerDataset(X_test, y_test)\n",
        "\n",
        "    train_dl = DataLoader(train_ds, batch_size=batch_size, shuffle=True)\n",
        "    val_dl = DataLoader(val_ds, batch_size=batch_size, shuffle=True)\n",
        "    test_dl = DataLoader(test_ds, batch_size=batch_size, shuffle=True)\n",
        "\n",
        "    dataloaders[ds_name]['train'] = train_dl\n",
        "    dataloaders[ds_name]['val'] = val_dl\n",
        "    dataloaders[ds_name]['test'] = test_dl"
      ]
    },
    {
      "cell_type": "code",
      "execution_count": 114,
      "id": "ef943c44",
      "metadata": {},
      "outputs": [],
      "source": [
        "def precision(confusion):\n",
        "    return confusion[1, 1] / (confusion[1, 1] + confusion[1, 0])"
      ]
    },
    {
      "cell_type": "code",
      "execution_count": 115,
      "id": "e09b99a3",
      "metadata": {},
      "outputs": [],
      "source": [
        "def recall(confusion):\n",
        "    return confusion[1, 1] / (confusion[1, 1] + confusion[0, 1])"
      ]
    },
    {
      "cell_type": "code",
      "execution_count": 116,
      "id": "cfe3e2f3",
      "metadata": {},
      "outputs": [],
      "source": [
        "def f1_score(confusion):\n",
        "    return confusion[1, 1] / (confusion[1, 1] + 0.5 * (confusion[1, 0] + confusion[0, 1]))"
      ]
    },
    {
      "cell_type": "code",
      "execution_count": 117,
      "id": "e40af097",
      "metadata": {},
      "outputs": [],
      "source": [
        "def update_confusion_matrix(confusion, out, labels):\n",
        "    out = out.astype(int)\n",
        "    labels = labels.astype(int)\n",
        "    for i in range(confusion.shape[0]):\n",
        "        for j in range(confusion.shape[1]):\n",
        "            confusion[i, j] += ((out == i) & (labels == j)).sum()\n",
        "    \n",
        "    return confusion"
      ]
    },
    {
      "cell_type": "code",
      "execution_count": 118,
      "id": "JbseSF_CQnR1",
      "metadata": {
        "id": "JbseSF_CQnR1"
      },
      "outputs": [],
      "source": [
        "def evaluate(model, dataloader):\n",
        "    model.eval()\n",
        "    total, correct = 0, 0\n",
        "    confusion = np.zeros((2, 2))\n",
        "    with torch.no_grad():\n",
        "        for _, (data, labels) in enumerate(dataloader):\n",
        "            data, labels = data.to(device), labels.to(device)\n",
        "\n",
        "            pred = model(data).squeeze()\n",
        "            out = torch.round(pred)\n",
        "            update_confusion_matrix(confusion, out.cpu().numpy(), labels.cpu().numpy())\n",
        "\n",
        "            correct = correct + (labels == out).sum().detach().cpu().numpy()\n",
        "            total = total + len(data)\n",
        "    \n",
        "    return correct / total, confusion"
      ]
    },
    {
      "cell_type": "code",
      "execution_count": 150,
      "id": "2992ff5a",
      "metadata": {
        "id": "2992ff5a"
      },
      "outputs": [],
      "source": [
        "def train(model, criterion, optimizer, train_dataloader, val_dataloader, num_epochs):\n",
        "    best_model = model\n",
        "    train_losses = []\n",
        "    val_losses = []\n",
        "    train_accs = []\n",
        "    val_accs = []\n",
        "    best_val_loss = np.inf\n",
        "\n",
        "    for epoch in range(num_epochs):\n",
        "        # train \n",
        "        model.train()\n",
        "        total, correct = 0, 0\n",
        "        train_loss = 0.0\n",
        "        with tqdm(enumerate(train_dataloader), total=len(train_dataloader)) as pbar:\n",
        "            for i, (data, labels) in pbar:\n",
        "                data, labels = data.to(device), labels.to(device)\n",
        "                optimizer.zero_grad()\n",
        "\n",
        "                pred = model(data).squeeze()\n",
        "                out = pred.detach().round()\n",
        "\n",
        "                total = total + len(data)\n",
        "                correct = correct + (labels == out).sum().detach().cpu().numpy()\n",
        "                \n",
        "                loss = criterion(pred, labels)\n",
        "                loss.backward()\n",
        "                optimizer.step()\n",
        "\n",
        "                train_loss = train_loss + loss.detach().cpu().numpy()\n",
        "                \n",
        "                pbar.set_description('Epoch {0}: train loss={1}, train accuracy={2}'.format(epoch, train_loss / total,\n",
        "                                                                                            correct / total))\n",
        "        \n",
        "        train_losses.append(train_loss / total)\n",
        "        train_accs.append((correct / total))\n",
        "        \n",
        "        # validation\n",
        "        model.eval()\n",
        "        total, correct = 0, 0\n",
        "        val_loss = 0.0\n",
        "        with torch.no_grad():\n",
        "            with tqdm(enumerate(val_dataloader), total=len(val_dataloader)) as pbar:\n",
        "                for i, (data, labels) in pbar:\n",
        "                    data, labels = data.to(device), labels.to(device)\n",
        "\n",
        "                    pred = model(data).squeeze()\n",
        "                    out = torch.round(pred)\n",
        "\n",
        "                    correct = correct + (labels == out).sum().detach().cpu().numpy()\n",
        "                    total = total + len(data)\n",
        "\n",
        "                    val_loss += criterion(pred, labels).detach().cpu().numpy()\n",
        "                    \n",
        "                    pbar.set_description('Epoch {0}: val loss={1}, val accuracy={2}'.format(epoch, val_loss / total,\n",
        "                                                                                                correct / total))\n",
        "        \n",
        "\n",
        "            val_losses.append(val_loss / total)\n",
        "            val_accs.append(correct / total)\n",
        "        \n",
        "\n",
        "        val_loss = val_loss / total\n",
        "        if val_loss < best_val_loss:\n",
        "            print('New model saved, val loss {0} -> {1}'.format(best_val_loss, val_loss))\n",
        "            best_val_loss = val_loss\n",
        "            best_model = deepcopy(model)\n",
        "\n",
        "    return train_losses, val_losses, train_accs, val_accs, best_model"
      ]
    },
    {
      "cell_type": "code",
      "execution_count": 151,
      "id": "344e1754",
      "metadata": {
        "colab": {
          "base_uri": "https://localhost:8080/",
          "height": 1000
        },
        "id": "344e1754",
        "outputId": "26ba861a-ac7c-4d82-cb1c-6fb2436811cd"
      },
      "outputs": [
        {
          "name": "stderr",
          "output_type": "stream",
          "text": [
            "Epoch 0: train loss=0.004186857025163812, train accuracy=0.5139519792342635: 100%|██████████| 25/25 [00:00<00:00, 90.34it/s] \n",
            "Epoch 0: val loss=0.004254257523043211, val accuracy=0.5813953488372093: 100%|██████████| 3/3 [00:00<00:00, 199.25it/s]\n"
          ]
        },
        {
          "name": "stdout",
          "output_type": "stream",
          "text": [
            "New model saved, val loss inf -> 0.004254257523043211\n"
          ]
        },
        {
          "name": "stderr",
          "output_type": "stream",
          "text": [
            "Epoch 1: train loss=0.0037064810490778405, train accuracy=0.6417910447761194: 100%|██████████| 25/25 [00:00<00:00, 84.32it/s]\n",
            "Epoch 1: val loss=0.0037059891362522922, val accuracy=0.6918604651162791: 100%|██████████| 3/3 [00:00<00:00, 219.48it/s]\n"
          ]
        },
        {
          "name": "stdout",
          "output_type": "stream",
          "text": [
            "New model saved, val loss 0.004254257523043211 -> 0.0037059891362522922\n"
          ]
        },
        {
          "name": "stderr",
          "output_type": "stream",
          "text": [
            "Epoch 2: train loss=0.0034773016830762435, train accuracy=0.6904607397793641: 100%|██████████| 25/25 [00:00<00:00, 89.03it/s]\n",
            "Epoch 2: val loss=0.003442274796408276, val accuracy=0.7441860465116279: 100%|██████████| 3/3 [00:00<00:00, 196.34it/s]\n"
          ]
        },
        {
          "name": "stdout",
          "output_type": "stream",
          "text": [
            "New model saved, val loss 0.0037059891362522922 -> 0.003442274796408276\n"
          ]
        },
        {
          "name": "stderr",
          "output_type": "stream",
          "text": [
            "Epoch 3: train loss=0.0033907042858586692, train accuracy=0.7047371836469825: 100%|██████████| 25/25 [00:00<00:00, 89.28it/s]\n",
            "Epoch 3: val loss=0.0033052011804525242, val accuracy=0.7732558139534884: 100%|██████████| 3/3 [00:00<00:00, 165.73it/s]\n"
          ]
        },
        {
          "name": "stdout",
          "output_type": "stream",
          "text": [
            "New model saved, val loss 0.003442274796408276 -> 0.0033052011804525242\n"
          ]
        },
        {
          "name": "stderr",
          "output_type": "stream",
          "text": [
            "Epoch 4: train loss=0.00323977057884298, train accuracy=0.7177157689811811: 100%|██████████| 25/25 [00:00<00:00, 94.60it/s]  \n",
            "Epoch 4: val loss=0.0031748180126034936, val accuracy=0.7732558139534884: 100%|██████████| 3/3 [00:00<00:00, 249.24it/s]\n"
          ]
        },
        {
          "name": "stdout",
          "output_type": "stream",
          "text": [
            "New model saved, val loss 0.0033052011804525242 -> 0.0031748180126034936\n"
          ]
        },
        {
          "name": "stderr",
          "output_type": "stream",
          "text": [
            "Epoch 5: train loss=0.003200355160553528, train accuracy=0.7287475665152499: 100%|██████████| 25/25 [00:00<00:00, 94.27it/s] \n",
            "Epoch 5: val loss=0.0030229012806748234, val accuracy=0.75: 100%|██████████| 3/3 [00:00<00:00, 227.46it/s]\n"
          ]
        },
        {
          "name": "stdout",
          "output_type": "stream",
          "text": [
            "New model saved, val loss 0.0031748180126034936 -> 0.0030229012806748234\n"
          ]
        },
        {
          "name": "stderr",
          "output_type": "stream",
          "text": [
            "Epoch 6: train loss=0.0031071244451923853, train accuracy=0.7391304347826086: 100%|██████████| 25/25 [00:00<00:00, 97.66it/s]\n",
            "Epoch 6: val loss=0.002880395411751991, val accuracy=0.7616279069767442: 100%|██████████| 3/3 [00:00<00:00, 272.13it/s]\n"
          ]
        },
        {
          "name": "stdout",
          "output_type": "stream",
          "text": [
            "New model saved, val loss 0.0030229012806748234 -> 0.002880395411751991\n"
          ]
        },
        {
          "name": "stderr",
          "output_type": "stream",
          "text": [
            "Epoch 7: train loss=0.0030752084980066683, train accuracy=0.7404282933160286: 100%|██████████| 25/25 [00:00<00:00, 92.13it/s]\n",
            "Epoch 7: val loss=0.0028898170174554336, val accuracy=0.7732558139534884: 100%|██████████| 3/3 [00:00<00:00, 248.07it/s]\n",
            "Epoch 8: train loss=0.0029681421173307354, train accuracy=0.7488643737832577: 100%|██████████| 25/25 [00:00<00:00, 100.28it/s]\n",
            "Epoch 8: val loss=0.002813892568959746, val accuracy=0.7616279069767442: 100%|██████████| 3/3 [00:00<00:00, 219.61it/s]\n"
          ]
        },
        {
          "name": "stdout",
          "output_type": "stream",
          "text": [
            "New model saved, val loss 0.002880395411751991 -> 0.002813892568959746\n"
          ]
        },
        {
          "name": "stderr",
          "output_type": "stream",
          "text": [
            "Epoch 9: train loss=0.0029251424524398845, train accuracy=0.7527579493835171: 100%|██████████| 25/25 [00:00<00:00, 94.10it/s]\n",
            "Epoch 9: val loss=0.0027268126953479857, val accuracy=0.7848837209302325: 100%|██████████| 3/3 [00:00<00:00, 204.41it/s]\n"
          ]
        },
        {
          "name": "stdout",
          "output_type": "stream",
          "text": [
            "New model saved, val loss 0.002813892568959746 -> 0.0027268126953479857\n"
          ]
        },
        {
          "name": "stderr",
          "output_type": "stream",
          "text": [
            "Epoch 10: train loss=0.002883716068779935, train accuracy=0.7475665152498377: 100%|██████████| 25/25 [00:00<00:00, 95.41it/s] \n",
            "Epoch 10: val loss=0.002699995889913204, val accuracy=0.7848837209302325: 100%|██████████| 3/3 [00:00<00:00, 186.88it/s]\n"
          ]
        },
        {
          "name": "stdout",
          "output_type": "stream",
          "text": [
            "New model saved, val loss 0.0027268126953479857 -> 0.002699995889913204\n"
          ]
        },
        {
          "name": "stderr",
          "output_type": "stream",
          "text": [
            "Epoch 11: train loss=0.002848796106483316, train accuracy=0.7560025957170668: 100%|██████████| 25/25 [00:00<00:00, 84.24it/s] \n",
            "Epoch 11: val loss=0.0027269656055195386, val accuracy=0.7906976744186046: 100%|██████████| 3/3 [00:00<00:00, 213.80it/s]\n",
            "Epoch 12: train loss=0.0028345436486309802, train accuracy=0.7560025957170668: 100%|██████████| 25/25 [00:00<00:00, 100.37it/s]\n",
            "Epoch 12: val loss=0.0027188251531401345, val accuracy=0.7965116279069767: 100%|██████████| 3/3 [00:00<00:00, 248.10it/s]\n",
            "Epoch 13: train loss=0.002853294023440149, train accuracy=0.7592472420506164: 100%|██████████| 25/25 [00:00<00:00, 101.95it/s] \n",
            "Epoch 13: val loss=0.0026331493674322617, val accuracy=0.813953488372093: 100%|██████████| 3/3 [00:00<00:00, 249.01it/s]\n"
          ]
        },
        {
          "name": "stdout",
          "output_type": "stream",
          "text": [
            "New model saved, val loss 0.002699995889913204 -> 0.0026331493674322617\n"
          ]
        },
        {
          "name": "stderr",
          "output_type": "stream",
          "text": [
            "Epoch 14: train loss=0.002748334890329397, train accuracy=0.7560025957170668: 100%|██████████| 25/25 [00:00<00:00, 105.73it/s] \n",
            "Epoch 14: val loss=0.0027068249534728914, val accuracy=0.8023255813953488: 100%|██████████| 3/3 [00:00<00:00, 272.61it/s]\n",
            "Epoch 15: train loss=0.0027736915755318327, train accuracy=0.7611940298507462: 100%|██████████| 25/25 [00:00<00:00, 90.21it/s]\n",
            "Epoch 15: val loss=0.0025859022902887923, val accuracy=0.8023255813953488: 100%|██████████| 3/3 [00:00<00:00, 203.99it/s]\n"
          ]
        },
        {
          "name": "stdout",
          "output_type": "stream",
          "text": [
            "New model saved, val loss 0.0026331493674322617 -> 0.0025859022902887923\n"
          ]
        },
        {
          "name": "stderr",
          "output_type": "stream",
          "text": [
            "Epoch 16: train loss=0.002799772630257702, train accuracy=0.7566515249837767: 100%|██████████| 25/25 [00:00<00:00, 91.73it/s] \n",
            "Epoch 16: val loss=0.0025719814868860468, val accuracy=0.8081395348837209: 100%|██████████| 3/3 [00:00<00:00, 254.17it/s]\n"
          ]
        },
        {
          "name": "stdout",
          "output_type": "stream",
          "text": [
            "New model saved, val loss 0.0025859022902887923 -> 0.0025719814868860468\n"
          ]
        },
        {
          "name": "stderr",
          "output_type": "stream",
          "text": [
            "Epoch 17: train loss=0.002752687170434354, train accuracy=0.7598961713173265: 100%|██████████| 25/25 [00:00<00:00, 93.87it/s] \n",
            "Epoch 17: val loss=0.002607990489449612, val accuracy=0.7965116279069767: 100%|██████████| 3/3 [00:00<00:00, 248.59it/s]\n",
            "Epoch 18: train loss=0.002775334087693018, train accuracy=0.7637897469175859: 100%|██████████| 25/25 [00:00<00:00, 96.30it/s] \n",
            "Epoch 18: val loss=0.002621636314447536, val accuracy=0.7848837209302325: 100%|██████████| 3/3 [00:00<00:00, 212.97it/s]\n",
            "Epoch 19: train loss=0.0027289823432544236, train accuracy=0.7624918883841661: 100%|██████████| 25/25 [00:00<00:00, 97.00it/s]\n",
            "Epoch 19: val loss=0.002621595509523569, val accuracy=0.7965116279069767: 100%|██████████| 3/3 [00:00<00:00, 220.59it/s]\n",
            "Epoch 20: train loss=0.0028638462212703043, train accuracy=0.7696301103179753: 100%|██████████| 25/25 [00:00<00:00, 89.35it/s]\n",
            "Epoch 20: val loss=0.002595703962237336, val accuracy=0.7906976744186046: 100%|██████████| 3/3 [00:00<00:00, 263.38it/s]\n",
            "Epoch 21: train loss=0.002707715852743306, train accuracy=0.7637897469175859: 100%|██████████| 25/25 [00:00<00:00, 92.57it/s] \n",
            "Epoch 21: val loss=0.0026316187062928845, val accuracy=0.7906976744186046: 100%|██████████| 3/3 [00:00<00:00, 272.03it/s]\n",
            "Epoch 22: train loss=0.002763423824526906, train accuracy=0.7598961713173265: 100%|██████████| 25/25 [00:00<00:00, 98.83it/s]  \n",
            "Epoch 22: val loss=0.002551177646531615, val accuracy=0.8023255813953488: 100%|██████████| 3/3 [00:00<00:00, 236.57it/s]\n"
          ]
        },
        {
          "name": "stdout",
          "output_type": "stream",
          "text": [
            "New model saved, val loss 0.0025719814868860468 -> 0.002551177646531615\n"
          ]
        },
        {
          "name": "stderr",
          "output_type": "stream",
          "text": [
            "Epoch 23: train loss=0.002714113870818146, train accuracy=0.7573004542504866: 100%|██████████| 25/25 [00:00<00:00, 100.88it/s] \n",
            "Epoch 23: val loss=0.0025676287017589393, val accuracy=0.8023255813953488: 100%|██████████| 3/3 [00:00<00:00, 240.93it/s]\n",
            "Epoch 24: train loss=0.002744743918382371, train accuracy=0.7573004542504866: 100%|██████████| 25/25 [00:00<00:00, 102.16it/s] \n",
            "Epoch 24: val loss=0.002569200600995574, val accuracy=0.813953488372093: 100%|██████████| 3/3 [00:00<00:00, 282.05it/s]\n",
            "Epoch 25: train loss=0.0027235983922294328, train accuracy=0.763140817650876: 100%|██████████| 25/25 [00:00<00:00, 97.80it/s]  \n",
            "Epoch 25: val loss=0.0025356146831845127, val accuracy=0.8081395348837209: 100%|██████████| 3/3 [00:00<00:00, 205.56it/s]\n"
          ]
        },
        {
          "name": "stdout",
          "output_type": "stream",
          "text": [
            "New model saved, val loss 0.002551177646531615 -> 0.0025356146831845127\n"
          ]
        },
        {
          "name": "stderr",
          "output_type": "stream",
          "text": [
            "Epoch 26: train loss=0.002688529703579964, train accuracy=0.7637897469175859: 100%|██████████| 25/25 [00:00<00:00, 98.07it/s] \n",
            "Epoch 26: val loss=0.0025716767061588377, val accuracy=0.8081395348837209: 100%|██████████| 3/3 [00:00<00:00, 245.36it/s]\n",
            "Epoch 27: train loss=0.0027279196371125525, train accuracy=0.7657365347177157: 100%|██████████| 25/25 [00:00<00:00, 100.51it/s]\n",
            "Epoch 27: val loss=0.0024787207935438598, val accuracy=0.7906976744186046: 100%|██████████| 3/3 [00:00<00:00, 239.40it/s]\n"
          ]
        },
        {
          "name": "stdout",
          "output_type": "stream",
          "text": [
            "New model saved, val loss 0.0025356146831845127 -> 0.0024787207935438598\n"
          ]
        },
        {
          "name": "stderr",
          "output_type": "stream",
          "text": [
            "Epoch 28: train loss=0.002778125570278366, train accuracy=0.7585983127839065: 100%|██████████| 25/25 [00:00<00:00, 102.04it/s] \n",
            "Epoch 28: val loss=0.002591439544461494, val accuracy=0.813953488372093: 100%|██████████| 3/3 [00:00<00:00, 249.40it/s]\n",
            "Epoch 29: train loss=0.0027430106744914763, train accuracy=0.7689811810512654: 100%|██████████| 25/25 [00:00<00:00, 99.62it/s]\n",
            "Epoch 29: val loss=0.002566968892202821, val accuracy=0.8023255813953488: 100%|██████████| 3/3 [00:00<00:00, 249.61it/s]\n",
            "Epoch 30: train loss=0.002651317529791288, train accuracy=0.7696301103179753: 100%|██████████| 25/25 [00:00<00:00, 98.92it/s] \n",
            "Epoch 30: val loss=0.002582995004432146, val accuracy=0.813953488372093: 100%|██████████| 3/3 [00:00<00:00, 230.19it/s]\n",
            "Epoch 31: train loss=0.002709914823192656, train accuracy=0.7709279688513953: 100%|██████████| 25/25 [00:00<00:00, 94.64it/s] \n",
            "Epoch 31: val loss=0.0026330609134463377, val accuracy=0.7965116279069767: 100%|██████████| 3/3 [00:00<00:00, 229.36it/s]\n",
            "Epoch 32: train loss=0.0027826378468876144, train accuracy=0.7761194029850746: 100%|██████████| 25/25 [00:00<00:00, 99.19it/s]\n",
            "Epoch 32: val loss=0.002470434145178906, val accuracy=0.7965116279069767: 100%|██████████| 3/3 [00:00<00:00, 285.39it/s]\n"
          ]
        },
        {
          "name": "stdout",
          "output_type": "stream",
          "text": [
            "New model saved, val loss 0.0024787207935438598 -> 0.002470434145178906\n"
          ]
        },
        {
          "name": "stderr",
          "output_type": "stream",
          "text": [
            "Epoch 33: train loss=0.0027059535656092926, train accuracy=0.7767683322517845: 100%|██████████| 25/25 [00:00<00:00, 103.73it/s]\n",
            "Epoch 33: val loss=0.002509467130483583, val accuracy=0.813953488372093: 100%|██████████| 3/3 [00:00<00:00, 271.74it/s]\n",
            "Epoch 34: train loss=0.002706418450895182, train accuracy=0.7761194029850746: 100%|██████████| 25/25 [00:00<00:00, 104.47it/s] \n",
            "Epoch 34: val loss=0.002498256605724956, val accuracy=0.8081395348837209: 100%|██████████| 3/3 [00:00<00:00, 257.35it/s]\n",
            "Epoch 35: train loss=0.0027804335918927797, train accuracy=0.7702790395846852: 100%|██████████| 25/25 [00:00<00:00, 105.81it/s]\n",
            "Epoch 35: val loss=0.00249504410596781, val accuracy=0.813953488372093: 100%|██████████| 3/3 [00:00<00:00, 271.59it/s]\n",
            "Epoch 36: train loss=0.0026349666915800106, train accuracy=0.773523685918235: 100%|██████████| 25/25 [00:00<00:00, 104.59it/s] \n",
            "Epoch 36: val loss=0.002519461218007775, val accuracy=0.8081395348837209: 100%|██████████| 3/3 [00:00<00:00, 271.39it/s]\n",
            "Epoch 37: train loss=0.002592073747432518, train accuracy=0.7696301103179753: 100%|██████████| 25/25 [00:00<00:00, 103.31it/s] \n",
            "Epoch 37: val loss=0.002500262198060058, val accuracy=0.7965116279069767: 100%|██████████| 3/3 [00:00<00:00, 245.41it/s]\n",
            "Epoch 38: train loss=0.0026632623383164946, train accuracy=0.7780661907852044: 100%|██████████| 25/25 [00:00<00:00, 101.06it/s]\n",
            "Epoch 38: val loss=0.0025618681034376453, val accuracy=0.813953488372093: 100%|██████████| 3/3 [00:00<00:00, 257.70it/s]\n",
            "Epoch 39: train loss=0.0026380091151349504, train accuracy=0.7774172615184944: 100%|██████████| 25/25 [00:00<00:00, 96.65it/s]\n",
            "Epoch 39: val loss=0.0025558626755725505, val accuracy=0.8023255813953488: 100%|██████████| 3/3 [00:00<00:00, 298.34it/s]\n",
            "Epoch 40: train loss=0.0025585941307967085, train accuracy=0.7754704737183648: 100%|██████████| 25/25 [00:00<00:00, 102.00it/s]\n",
            "Epoch 40: val loss=0.002486631534127302, val accuracy=0.8023255813953488: 100%|██████████| 3/3 [00:00<00:00, 247.11it/s]\n",
            "Epoch 41: train loss=0.0025427075590041454, train accuracy=0.7819597663854639: 100%|██████████| 25/25 [00:00<00:00, 97.91it/s] \n",
            "Epoch 41: val loss=0.0025168306432491127, val accuracy=0.8081395348837209: 100%|██████████| 3/3 [00:00<00:00, 249.39it/s]\n",
            "Epoch 42: train loss=0.002572320440347747, train accuracy=0.781310837118754: 100%|██████████| 25/25 [00:00<00:00, 97.91it/s]  \n",
            "Epoch 42: val loss=0.0025134069281955097, val accuracy=0.7906976744186046: 100%|██████████| 3/3 [00:00<00:00, 212.70it/s]\n",
            "Epoch 43: train loss=0.0025801175817276732, train accuracy=0.7852044127190136: 100%|██████████| 25/25 [00:00<00:00, 90.27it/s]\n",
            "Epoch 43: val loss=0.002441390395857567, val accuracy=0.813953488372093: 100%|██████████| 3/3 [00:00<00:00, 248.50it/s]\n"
          ]
        },
        {
          "name": "stdout",
          "output_type": "stream",
          "text": [
            "New model saved, val loss 0.002470434145178906 -> 0.002441390395857567\n"
          ]
        },
        {
          "name": "stderr",
          "output_type": "stream",
          "text": [
            "Epoch 44: train loss=0.0025537763658782867, train accuracy=0.7845554834523037: 100%|██████████| 25/25 [00:00<00:00, 90.17it/s]\n",
            "Epoch 44: val loss=0.0024957123190857645, val accuracy=0.8023255813953488: 100%|██████████| 3/3 [00:00<00:00, 281.70it/s]\n",
            "Epoch 45: train loss=0.0025639731840681984, train accuracy=0.7839065541855937: 100%|██████████| 25/25 [00:00<00:00, 102.15it/s]\n",
            "Epoch 45: val loss=0.002545339077018028, val accuracy=0.7848837209302325: 100%|██████████| 3/3 [00:00<00:00, 281.82it/s]\n",
            "Epoch 46: train loss=0.0026636457410359987, train accuracy=0.773523685918235: 100%|██████████| 25/25 [00:00<00:00, 105.11it/s] \n",
            "Epoch 46: val loss=0.0025616156067266023, val accuracy=0.8081395348837209: 100%|██████████| 3/3 [00:00<00:00, 227.54it/s]\n",
            "Epoch 47: train loss=0.0025691587108052603, train accuracy=0.781310837118754: 100%|██████████| 25/25 [00:00<00:00, 100.51it/s] \n",
            "Epoch 47: val loss=0.0025486660211585287, val accuracy=0.7906976744186046: 100%|██████████| 3/3 [00:00<00:00, 267.11it/s]\n",
            "Epoch 48: train loss=0.002541255150268327, train accuracy=0.782608695652174: 100%|██████████| 25/25 [00:00<00:00, 103.98it/s]  \n",
            "Epoch 48: val loss=0.0024544478848923085, val accuracy=0.8197674418604651: 100%|██████████| 3/3 [00:00<00:00, 271.78it/s]\n",
            "Epoch 49: train loss=0.0025885175287452787, train accuracy=0.7845554834523037: 100%|██████████| 25/25 [00:00<00:00, 105.94it/s]\n",
            "Epoch 49: val loss=0.0025091715330301328, val accuracy=0.813953488372093: 100%|██████████| 3/3 [00:00<00:00, 272.43it/s]\n",
            "Epoch 50: train loss=0.002615640973364046, train accuracy=0.7774172615184944: 100%|██████████| 25/25 [00:00<00:00, 107.48it/s] \n",
            "Epoch 50: val loss=0.0024838728267093037, val accuracy=0.7848837209302325: 100%|██████████| 3/3 [00:00<00:00, 279.44it/s]\n",
            "Epoch 51: train loss=0.0026187578108618588, train accuracy=0.7845554834523037: 100%|██████████| 25/25 [00:00<00:00, 105.98it/s]\n",
            "Epoch 51: val loss=0.002509083252313525, val accuracy=0.8081395348837209: 100%|██████████| 3/3 [00:00<00:00, 250.09it/s]\n",
            "Epoch 52: train loss=0.002488914333250057, train accuracy=0.7839065541855937: 100%|██████████| 25/25 [00:00<00:00, 104.55it/s] \n",
            "Epoch 52: val loss=0.002437549621559853, val accuracy=0.8255813953488372: 100%|██████████| 3/3 [00:00<00:00, 279.14it/s]\n"
          ]
        },
        {
          "name": "stdout",
          "output_type": "stream",
          "text": [
            "New model saved, val loss 0.002441390395857567 -> 0.002437549621559853\n"
          ]
        },
        {
          "name": "stderr",
          "output_type": "stream",
          "text": [
            "Epoch 53: train loss=0.002527007464462097, train accuracy=0.7878001297858533: 100%|██████████| 25/25 [00:00<00:00, 100.57it/s] \n",
            "Epoch 53: val loss=0.0025431053323108094, val accuracy=0.7906976744186046: 100%|██████████| 3/3 [00:00<00:00, 244.40it/s]\n",
            "Epoch 54: train loss=0.0024662448176697117, train accuracy=0.790395846852693: 100%|██████████| 25/25 [00:00<00:00, 99.48it/s]  \n",
            "Epoch 54: val loss=0.0024659236849740493, val accuracy=0.8081395348837209: 100%|██████████| 3/3 [00:00<00:00, 280.65it/s]\n",
            "Epoch 55: train loss=0.0024856995745265275, train accuracy=0.7878001297858533: 100%|██████████| 25/25 [00:00<00:00, 100.01it/s]\n",
            "Epoch 55: val loss=0.0025571531854396644, val accuracy=0.7906976744186046: 100%|██████████| 3/3 [00:00<00:00, 256.22it/s]\n",
            "Epoch 56: train loss=0.0024873079571300014, train accuracy=0.7929915639195327: 100%|██████████| 25/25 [00:00<00:00, 100.33it/s]\n",
            "Epoch 56: val loss=0.0025105114246523658, val accuracy=0.8081395348837209: 100%|██████████| 3/3 [00:00<00:00, 280.23it/s]\n",
            "Epoch 57: train loss=0.0025385534904515256, train accuracy=0.7897469175859831: 100%|██████████| 25/25 [00:00<00:00, 99.08it/s]\n",
            "Epoch 57: val loss=0.00243528819707937, val accuracy=0.7965116279069767: 100%|██████████| 3/3 [00:00<00:00, 281.11it/s]\n"
          ]
        },
        {
          "name": "stdout",
          "output_type": "stream",
          "text": [
            "New model saved, val loss 0.002437549621559853 -> 0.00243528819707937\n"
          ]
        },
        {
          "name": "stderr",
          "output_type": "stream",
          "text": [
            "Epoch 58: train loss=0.00248988357110893, train accuracy=0.7936404931862427: 100%|██████████| 25/25 [00:00<00:00, 93.29it/s]  \n",
            "Epoch 58: val loss=0.002453657950079718, val accuracy=0.8255813953488372: 100%|██████████| 3/3 [00:00<00:00, 199.05it/s]\n",
            "Epoch 59: train loss=0.0024649978970104343, train accuracy=0.7975340687865022: 100%|██████████| 25/25 [00:00<00:00, 101.26it/s]\n",
            "Epoch 59: val loss=0.002485594733856445, val accuracy=0.8081395348837209: 100%|██████████| 3/3 [00:00<00:00, 238.15it/s]\n",
            "Epoch 60: train loss=0.00253715509721631, train accuracy=0.7890979883192732: 100%|██████████| 25/25 [00:00<00:00, 100.70it/s]  \n",
            "Epoch 60: val loss=0.0025055673579837, val accuracy=0.7965116279069767: 100%|██████████| 3/3 [00:00<00:00, 245.08it/s]\n",
            "Epoch 61: train loss=0.002429900300495041, train accuracy=0.7923426346528228: 100%|██████████| 25/25 [00:00<00:00, 101.60it/s] \n",
            "Epoch 61: val loss=0.0025215205238309016, val accuracy=0.8023255813953488: 100%|██████████| 3/3 [00:00<00:00, 220.65it/s]\n",
            "Epoch 62: train loss=0.002517515231385624, train accuracy=0.790395846852693: 100%|██████████| 25/25 [00:00<00:00, 101.95it/s]  \n",
            "Epoch 62: val loss=0.002358339770242225, val accuracy=0.8197674418604651: 100%|██████████| 3/3 [00:00<00:00, 291.28it/s]\n"
          ]
        },
        {
          "name": "stdout",
          "output_type": "stream",
          "text": [
            "New model saved, val loss 0.00243528819707937 -> 0.002358339770242225\n"
          ]
        },
        {
          "name": "stderr",
          "output_type": "stream",
          "text": [
            "Epoch 63: train loss=0.0024349105862887317, train accuracy=0.7878001297858533: 100%|██████████| 25/25 [00:00<00:00, 103.01it/s]\n",
            "Epoch 63: val loss=0.0024348319356524667, val accuracy=0.8081395348837209: 100%|██████████| 3/3 [00:00<00:00, 216.98it/s]\n",
            "Epoch 64: train loss=0.002391303604798685, train accuracy=0.8007787151200519: 100%|██████████| 25/25 [00:00<00:00, 104.71it/s] \n",
            "Epoch 64: val loss=0.002481071928212809, val accuracy=0.8081395348837209: 100%|██████████| 3/3 [00:00<00:00, 305.96it/s]\n",
            "Epoch 65: train loss=0.0024942989805006193, train accuracy=0.7942894224529526: 100%|██████████| 25/25 [00:00<00:00, 101.23it/s]\n",
            "Epoch 65: val loss=0.002474072800819264, val accuracy=0.7965116279069767: 100%|██████████| 3/3 [00:00<00:00, 279.45it/s]\n",
            "Epoch 66: train loss=0.0024788776952906293, train accuracy=0.8066190785204412: 100%|██████████| 25/25 [00:00<00:00, 101.20it/s]\n",
            "Epoch 66: val loss=0.0025176136472890545, val accuracy=0.813953488372093: 100%|██████████| 3/3 [00:00<00:00, 283.18it/s]\n",
            "Epoch 67: train loss=0.0023511683134426163, train accuracy=0.8046722907203114: 100%|██████████| 25/25 [00:00<00:00, 99.40it/s]\n",
            "Epoch 67: val loss=0.0024243664256362028, val accuracy=0.8197674418604651: 100%|██████████| 3/3 [00:00<00:00, 271.86it/s]\n",
            "Epoch 68: train loss=0.0023224631120135923, train accuracy=0.8040233614536015: 100%|██████████| 25/25 [00:00<00:00, 98.88it/s] \n",
            "Epoch 68: val loss=0.0024306139973706976, val accuracy=0.8081395348837209: 100%|██████████| 3/3 [00:00<00:00, 233.61it/s]\n",
            "Epoch 69: train loss=0.0024240510338780787, train accuracy=0.8059701492537313: 100%|██████████| 25/25 [00:00<00:00, 94.71it/s]\n",
            "Epoch 69: val loss=0.002413699619991835, val accuracy=0.7906976744186046: 100%|██████████| 3/3 [00:00<00:00, 248.61it/s]\n",
            "Epoch 70: train loss=0.0024180942632639896, train accuracy=0.8033744321868916: 100%|██████████| 25/25 [00:00<00:00, 100.09it/s]\n",
            "Epoch 70: val loss=0.0024995355931825415, val accuracy=0.7965116279069767: 100%|██████████| 3/3 [00:00<00:00, 255.83it/s]\n",
            "Epoch 71: train loss=0.00235902943988654, train accuracy=0.8059701492537313: 100%|██████████| 25/25 [00:00<00:00, 100.82it/s]  \n",
            "Epoch 71: val loss=0.0025476564241703166, val accuracy=0.8081395348837209: 100%|██████████| 3/3 [00:00<00:00, 271.51it/s]\n",
            "Epoch 72: train loss=0.00233486932953173, train accuracy=0.8066190785204412: 100%|██████████| 25/25 [00:00<00:00, 102.17it/s]  \n",
            "Epoch 72: val loss=0.002459955510011939, val accuracy=0.8023255813953488: 100%|██████████| 3/3 [00:00<00:00, 237.85it/s]\n",
            "Epoch 73: train loss=0.002289533368532415, train accuracy=0.8046722907203114: 100%|██████████| 25/25 [00:00<00:00, 97.28it/s] \n",
            "Epoch 73: val loss=0.002490273308615352, val accuracy=0.8081395348837209: 100%|██████████| 3/3 [00:00<00:00, 269.56it/s]\n",
            "Epoch 74: train loss=0.0023176743226496913, train accuracy=0.8137573004542504: 100%|██████████| 25/25 [00:00<00:00, 98.85it/s]\n",
            "Epoch 74: val loss=0.0023802925161151, val accuracy=0.8023255813953488: 100%|██████████| 3/3 [00:00<00:00, 220.53it/s]\n",
            "Epoch 75: train loss=0.002393543599372866, train accuracy=0.8189487345879299: 100%|██████████| 25/25 [00:00<00:00, 102.19it/s] \n",
            "Epoch 75: val loss=0.002490226482582647, val accuracy=0.8081395348837209: 100%|██████████| 3/3 [00:00<00:00, 250.17it/s]\n",
            "Epoch 76: train loss=0.00232108036451414, train accuracy=0.8124594419208306: 100%|██████████| 25/25 [00:00<00:00, 99.31it/s]   \n",
            "Epoch 76: val loss=0.0024828387554301774, val accuracy=0.8023255813953488: 100%|██████████| 3/3 [00:00<00:00, 236.29it/s]\n",
            "Epoch 77: train loss=0.0022141101427429455, train accuracy=0.8170019467878001: 100%|██████████| 25/25 [00:00<00:00, 96.10it/s]\n",
            "Epoch 77: val loss=0.0023828494947317033, val accuracy=0.7906976744186046: 100%|██████████| 3/3 [00:00<00:00, 236.73it/s]\n",
            "Epoch 78: train loss=0.0022569843347315507, train accuracy=0.8137573004542504: 100%|██████████| 25/25 [00:00<00:00, 99.80it/s] \n",
            "Epoch 78: val loss=0.002394769080849581, val accuracy=0.7965116279069767: 100%|██████████| 3/3 [00:00<00:00, 259.33it/s]\n",
            "Epoch 79: train loss=0.00228927265623032, train accuracy=0.8157040882543802: 100%|██████████| 25/25 [00:00<00:00, 100.60it/s]  \n",
            "Epoch 79: val loss=0.0024170196333596875, val accuracy=0.8023255813953488: 100%|██████████| 3/3 [00:00<00:00, 239.08it/s]\n",
            "Epoch 80: train loss=0.0022221988648427607, train accuracy=0.8208955223880597: 100%|██████████| 25/25 [00:00<00:00, 96.47it/s]\n",
            "Epoch 80: val loss=0.0023702675000179647, val accuracy=0.7965116279069767: 100%|██████████| 3/3 [00:00<00:00, 256.95it/s]\n",
            "Epoch 81: train loss=0.0023134944260623223, train accuracy=0.8066190785204412: 100%|██████████| 25/25 [00:00<00:00, 97.77it/s] \n",
            "Epoch 81: val loss=0.0024248768770417503, val accuracy=0.7965116279069767: 100%|██████████| 3/3 [00:00<00:00, 266.10it/s]\n",
            "Epoch 82: train loss=0.002321154406169728, train accuracy=0.8241401687216093: 100%|██████████| 25/25 [00:00<00:00, 99.88it/s]  \n",
            "Epoch 82: val loss=0.0024749926876190096, val accuracy=0.7732558139534884: 100%|██████████| 3/3 [00:00<00:00, 269.42it/s]\n",
            "Epoch 83: train loss=0.002353433120722588, train accuracy=0.8150551589876703: 100%|██████████| 25/25 [00:00<00:00, 100.32it/s] \n",
            "Epoch 83: val loss=0.0024248253294201784, val accuracy=0.7906976744186046: 100%|██████████| 3/3 [00:00<00:00, 297.14it/s]\n",
            "Epoch 84: train loss=0.0023995174226785617, train accuracy=0.8215444516547696: 100%|██████████| 25/25 [00:00<00:00, 99.02it/s]\n",
            "Epoch 84: val loss=0.002405742140010346, val accuracy=0.7790697674418605: 100%|██████████| 3/3 [00:00<00:00, 260.48it/s]\n",
            "Epoch 85: train loss=0.0022360816414212347, train accuracy=0.8157040882543802: 100%|██████████| 25/25 [00:00<00:00, 103.24it/s]\n",
            "Epoch 85: val loss=0.002370343651882438, val accuracy=0.7906976744186046: 100%|██████████| 3/3 [00:00<00:00, 230.30it/s]\n",
            "Epoch 86: train loss=0.002279595357694075, train accuracy=0.8157040882543802: 100%|██████████| 25/25 [00:00<00:00, 98.45it/s]  \n",
            "Epoch 86: val loss=0.002456557352182477, val accuracy=0.7965116279069767: 100%|██████████| 3/3 [00:00<00:00, 287.97it/s]\n",
            "Epoch 87: train loss=0.002258084815945585, train accuracy=0.8254380272550292: 100%|██████████| 25/25 [00:00<00:00, 104.31it/s] \n",
            "Epoch 87: val loss=0.0025592073798179626, val accuracy=0.7965116279069767: 100%|██████████| 3/3 [00:00<00:00, 260.40it/s]\n",
            "Epoch 88: train loss=0.0023863767500360007, train accuracy=0.8228423101881895: 100%|██████████| 25/25 [00:00<00:00, 96.41it/s] \n",
            "Epoch 88: val loss=0.0024560576001572054, val accuracy=0.8023255813953488: 100%|██████████| 3/3 [00:00<00:00, 282.75it/s]\n",
            "Epoch 89: train loss=0.002473081037218427, train accuracy=0.8299805321219987: 100%|██████████| 25/25 [00:00<00:00, 100.76it/s]\n",
            "Epoch 89: val loss=0.0024119820012602697, val accuracy=0.7965116279069767: 100%|██████████| 3/3 [00:00<00:00, 284.01it/s]\n",
            "Epoch 90: train loss=0.0022070174680214128, train accuracy=0.8293316028552887: 100%|██████████| 25/25 [00:00<00:00, 100.78it/s]\n",
            "Epoch 90: val loss=0.0023777272638886475, val accuracy=0.8081395348837209: 100%|██████████| 3/3 [00:00<00:00, 243.44it/s]\n",
            "Epoch 91: train loss=0.002359654901864697, train accuracy=0.8215444516547696: 100%|██████████| 25/25 [00:00<00:00, 100.11it/s] \n",
            "Epoch 91: val loss=0.002414816080830818, val accuracy=0.813953488372093: 100%|██████████| 3/3 [00:00<00:00, 248.26it/s]\n",
            "Epoch 92: train loss=0.002177895324172949, train accuracy=0.8312783906554185: 100%|██████████| 25/25 [00:00<00:00, 98.85it/s] \n",
            "Epoch 92: val loss=0.00247564327058404, val accuracy=0.8023255813953488: 100%|██████████| 3/3 [00:00<00:00, 248.09it/s]\n",
            "Epoch 93: train loss=0.0022165999009886167, train accuracy=0.827384815055159: 100%|██████████| 25/25 [00:00<00:00, 102.45it/s] \n",
            "Epoch 93: val loss=0.002447987798341485, val accuracy=0.8023255813953488: 100%|██████████| 3/3 [00:00<00:00, 249.85it/s]\n",
            "Epoch 94: train loss=0.0022099088638111958, train accuracy=0.8351719662556781: 100%|██████████| 25/25 [00:00<00:00, 104.20it/s]\n",
            "Epoch 94: val loss=0.0024183482624763664, val accuracy=0.7848837209302325: 100%|██████████| 3/3 [00:00<00:00, 271.46it/s]\n",
            "Epoch 95: train loss=0.00209800335037716, train accuracy=0.8397144711226476: 100%|██████████| 25/25 [00:00<00:00, 99.55it/s]   \n",
            "Epoch 95: val loss=0.002427941924610803, val accuracy=0.8023255813953488: 100%|██████████| 3/3 [00:00<00:00, 271.97it/s]\n",
            "Epoch 96: train loss=0.0020451317967376797, train accuracy=0.8332251784555483: 100%|██████████| 25/25 [00:00<00:00, 98.93it/s]\n",
            "Epoch 96: val loss=0.002415652711724126, val accuracy=0.7906976744186046: 100%|██████████| 3/3 [00:00<00:00, 168.33it/s]\n",
            "Epoch 97: train loss=0.0022651973790274588, train accuracy=0.8215444516547696: 100%|██████████| 25/25 [00:00<00:00, 96.19it/s]\n",
            "Epoch 97: val loss=0.002356385119086088, val accuracy=0.7848837209302325: 100%|██████████| 3/3 [00:00<00:00, 246.98it/s]\n"
          ]
        },
        {
          "name": "stdout",
          "output_type": "stream",
          "text": [
            "New model saved, val loss 0.002358339770242225 -> 0.002356385119086088\n"
          ]
        },
        {
          "name": "stderr",
          "output_type": "stream",
          "text": [
            "Epoch 98: train loss=0.0021023074918022256, train accuracy=0.827384815055159: 100%|██████████| 25/25 [00:00<00:00, 103.25it/s] \n",
            "Epoch 98: val loss=0.002469970952979354, val accuracy=0.8081395348837209: 100%|██████████| 3/3 [00:00<00:00, 270.28it/s]\n",
            "Epoch 99: train loss=0.002157867887939129, train accuracy=0.827384815055159: 100%|██████████| 25/25 [00:00<00:00, 101.23it/s]  \n",
            "Epoch 99: val loss=0.002433848675600318, val accuracy=0.7848837209302325: 100%|██████████| 3/3 [00:00<00:00, 296.84it/s]\n",
            "Epoch 0: train loss=0.00401063589288537, train accuracy=0.5347177157689812: 100%|██████████| 25/25 [00:00<00:00, 91.56it/s] \n",
            "Epoch 0: val loss=0.00414046636501024, val accuracy=0.5581395348837209: 100%|██████████| 3/3 [00:00<00:00, 246.89it/s]\n"
          ]
        },
        {
          "name": "stdout",
          "output_type": "stream",
          "text": [
            "New model saved, val loss inf -> 0.00414046636501024\n"
          ]
        },
        {
          "name": "stderr",
          "output_type": "stream",
          "text": [
            "Epoch 1: train loss=0.003767660149964785, train accuracy=0.6112913692407528: 100%|██████████| 25/25 [00:00<00:00, 98.88it/s] \n",
            "Epoch 1: val loss=0.004072251708008522, val accuracy=0.6046511627906976: 100%|██████████| 3/3 [00:00<00:00, 252.46it/s]\n"
          ]
        },
        {
          "name": "stdout",
          "output_type": "stream",
          "text": [
            "New model saved, val loss 0.00414046636501024 -> 0.004072251708008522\n"
          ]
        },
        {
          "name": "stderr",
          "output_type": "stream",
          "text": [
            "Epoch 2: train loss=0.0036009930407823023, train accuracy=0.6463335496430889: 100%|██████████| 25/25 [00:00<00:00, 96.63it/s]\n",
            "Epoch 2: val loss=0.0040637298032294876, val accuracy=0.5697674418604651: 100%|██████████| 3/3 [00:00<00:00, 241.29it/s]\n"
          ]
        },
        {
          "name": "stdout",
          "output_type": "stream",
          "text": [
            "New model saved, val loss 0.004072251708008522 -> 0.0040637298032294876\n"
          ]
        },
        {
          "name": "stderr",
          "output_type": "stream",
          "text": [
            "Epoch 3: train loss=0.003528363127587756, train accuracy=0.663854639844257: 100%|██████████| 25/25 [00:00<00:00, 98.33it/s]  \n",
            "Epoch 3: val loss=0.003950975055611411, val accuracy=0.5988372093023255: 100%|██████████| 3/3 [00:00<00:00, 227.61it/s]\n"
          ]
        },
        {
          "name": "stdout",
          "output_type": "stream",
          "text": [
            "New model saved, val loss 0.0040637298032294876 -> 0.003950975055611411\n"
          ]
        },
        {
          "name": "stderr",
          "output_type": "stream",
          "text": [
            "Epoch 4: train loss=0.003459962136864585, train accuracy=0.6683971447112265: 100%|██████████| 25/25 [00:00<00:00, 98.06it/s] \n",
            "Epoch 4: val loss=0.003985042315582896, val accuracy=0.5988372093023255: 100%|██████████| 3/3 [00:00<00:00, 271.31it/s]\n",
            "Epoch 5: train loss=0.0033755268874994583, train accuracy=0.6956521739130435: 100%|██████████| 25/25 [00:00<00:00, 96.53it/s]\n",
            "Epoch 5: val loss=0.00391429194877314, val accuracy=0.6337209302325582: 100%|██████████| 3/3 [00:00<00:00, 257.18it/s]\n"
          ]
        },
        {
          "name": "stdout",
          "output_type": "stream",
          "text": [
            "New model saved, val loss 0.003950975055611411 -> 0.00391429194877314\n"
          ]
        },
        {
          "name": "stderr",
          "output_type": "stream",
          "text": [
            "Epoch 6: train loss=0.003271989190756385, train accuracy=0.7079818299805322: 100%|██████████| 25/25 [00:00<00:00, 97.53it/s] \n",
            "Epoch 6: val loss=0.0038556454833163774, val accuracy=0.627906976744186: 100%|██████████| 3/3 [00:00<00:00, 271.96it/s]\n"
          ]
        },
        {
          "name": "stdout",
          "output_type": "stream",
          "text": [
            "New model saved, val loss 0.00391429194877314 -> 0.0038556454833163774\n"
          ]
        },
        {
          "name": "stderr",
          "output_type": "stream",
          "text": [
            "Epoch 7: train loss=0.0031490286184857994, train accuracy=0.7300454250486696: 100%|██████████| 25/25 [00:00<00:00, 102.47it/s]\n",
            "Epoch 7: val loss=0.0038663228583890336, val accuracy=0.6395348837209303: 100%|██████████| 3/3 [00:00<00:00, 227.26it/s]\n",
            "Epoch 8: train loss=0.003076820163507109, train accuracy=0.7378325762491889: 100%|██████████| 25/25 [00:00<00:00, 97.28it/s] \n",
            "Epoch 8: val loss=0.0038230007644309556, val accuracy=0.6104651162790697: 100%|██████████| 3/3 [00:00<00:00, 227.50it/s]\n"
          ]
        },
        {
          "name": "stdout",
          "output_type": "stream",
          "text": [
            "New model saved, val loss 0.0038556454833163774 -> 0.0038230007644309556\n"
          ]
        },
        {
          "name": "stderr",
          "output_type": "stream",
          "text": [
            "Epoch 9: train loss=0.002962676794942055, train accuracy=0.7475665152498377: 100%|██████████| 25/25 [00:00<00:00, 100.42it/s]\n",
            "Epoch 9: val loss=0.0037726304212281872, val accuracy=0.6162790697674418: 100%|██████████| 3/3 [00:00<00:00, 247.40it/s]\n"
          ]
        },
        {
          "name": "stdout",
          "output_type": "stream",
          "text": [
            "New model saved, val loss 0.0038230007644309556 -> 0.0037726304212281872\n"
          ]
        },
        {
          "name": "stderr",
          "output_type": "stream",
          "text": [
            "Epoch 10: train loss=0.0029187668731350314, train accuracy=0.7495133030499675: 100%|██████████| 25/25 [00:00<00:00, 93.21it/s]\n",
            "Epoch 10: val loss=0.0037457998408827672, val accuracy=0.6104651162790697: 100%|██████████| 3/3 [00:00<00:00, 266.32it/s]\n"
          ]
        },
        {
          "name": "stdout",
          "output_type": "stream",
          "text": [
            "New model saved, val loss 0.0037726304212281872 -> 0.0037457998408827672\n"
          ]
        },
        {
          "name": "stderr",
          "output_type": "stream",
          "text": [
            "Epoch 11: train loss=0.0028521480071397667, train accuracy=0.7573004542504866: 100%|██████████| 25/25 [00:00<00:00, 100.02it/s]\n",
            "Epoch 11: val loss=0.003703338029079659, val accuracy=0.627906976744186: 100%|██████████| 3/3 [00:00<00:00, 259.16it/s]\n"
          ]
        },
        {
          "name": "stdout",
          "output_type": "stream",
          "text": [
            "New model saved, val loss 0.0037457998408827672 -> 0.003703338029079659\n"
          ]
        },
        {
          "name": "stderr",
          "output_type": "stream",
          "text": [
            "Epoch 12: train loss=0.0027082504717890585, train accuracy=0.7702790395846852: 100%|██████████| 25/25 [00:00<00:00, 96.65it/s] \n",
            "Epoch 12: val loss=0.003821363975835401, val accuracy=0.622093023255814: 100%|██████████| 3/3 [00:00<00:00, 259.02it/s]\n",
            "Epoch 13: train loss=0.0026283234763965447, train accuracy=0.7819597663854639: 100%|██████████| 25/25 [00:00<00:00, 98.21it/s]\n",
            "Epoch 13: val loss=0.003810533430687217, val accuracy=0.6162790697674418: 100%|██████████| 3/3 [00:00<00:00, 258.22it/s]\n",
            "Epoch 14: train loss=0.0025945295574292203, train accuracy=0.7942894224529526: 100%|██████████| 25/25 [00:00<00:00, 99.66it/s] \n",
            "Epoch 14: val loss=0.003803812660450159, val accuracy=0.5988372093023255: 100%|██████████| 3/3 [00:00<00:00, 225.81it/s]\n",
            "Epoch 15: train loss=0.0024811243378520397, train accuracy=0.8020765736534717: 100%|██████████| 25/25 [00:00<00:00, 100.02it/s]\n",
            "Epoch 15: val loss=0.0037807780642842136, val accuracy=0.6162790697674418: 100%|██████████| 3/3 [00:00<00:00, 236.48it/s]\n",
            "Epoch 16: train loss=0.0025169488132038647, train accuracy=0.8040233614536015: 100%|██████████| 25/25 [00:00<00:00, 103.77it/s]\n",
            "Epoch 16: val loss=0.0038414723997892337, val accuracy=0.627906976744186: 100%|██████████| 3/3 [00:00<00:00, 259.64it/s]\n",
            "Epoch 17: train loss=0.002465783732615068, train accuracy=0.8338741077222582: 100%|██████████| 25/25 [00:00<00:00, 104.94it/s] \n",
            "Epoch 17: val loss=0.0038627091535302096, val accuracy=0.6046511627906976: 100%|██████████| 3/3 [00:00<00:00, 272.10it/s]\n",
            "Epoch 18: train loss=0.0022840616399014946, train accuracy=0.8286826735885788: 100%|██████████| 25/25 [00:00<00:00, 106.98it/s]\n",
            "Epoch 18: val loss=0.003799737366132958, val accuracy=0.622093023255814: 100%|██████████| 3/3 [00:00<00:00, 265.33it/s]\n",
            "Epoch 19: train loss=0.002229494138788202, train accuracy=0.8390655418559377: 100%|██████████| 25/25 [00:00<00:00, 106.51it/s] \n",
            "Epoch 19: val loss=0.003857271789118301, val accuracy=0.622093023255814: 100%|██████████| 3/3 [00:00<00:00, 259.02it/s]\n",
            "Epoch 20: train loss=0.0022007023249641013, train accuracy=0.854639844256976: 100%|██████████| 25/25 [00:00<00:00, 108.69it/s] \n",
            "Epoch 20: val loss=0.003686818532472433, val accuracy=0.6453488372093024: 100%|██████████| 3/3 [00:00<00:00, 246.28it/s]\n"
          ]
        },
        {
          "name": "stdout",
          "output_type": "stream",
          "text": [
            "New model saved, val loss 0.003703338029079659 -> 0.003686818532472433\n"
          ]
        },
        {
          "name": "stderr",
          "output_type": "stream",
          "text": [
            "Epoch 21: train loss=0.0022046044758973686, train accuracy=0.853990914990266: 100%|██████████| 25/25 [00:00<00:00, 98.50it/s]  \n",
            "Epoch 21: val loss=0.003920683160770771, val accuracy=0.627906976744186: 100%|██████████| 3/3 [00:00<00:00, 192.03it/s]\n",
            "Epoch 22: train loss=0.0020672615900355295, train accuracy=0.863724853990915: 100%|██████████| 25/25 [00:00<00:00, 97.00it/s] \n",
            "Epoch 22: val loss=0.0038299926145132198, val accuracy=0.6395348837209303: 100%|██████████| 3/3 [00:00<00:00, 275.83it/s]\n",
            "Epoch 23: train loss=0.0019437099415941877, train accuracy=0.872160934458144: 100%|██████████| 25/25 [00:00<00:00, 105.79it/s] \n",
            "Epoch 23: val loss=0.003868589654218319, val accuracy=0.6104651162790697: 100%|██████████| 3/3 [00:00<00:00, 250.65it/s]\n",
            "Epoch 24: train loss=0.001994845771039174, train accuracy=0.872160934458144: 100%|██████████| 25/25 [00:00<00:00, 107.29it/s]  \n",
            "Epoch 24: val loss=0.0038863327787366023, val accuracy=0.6046511627906976: 100%|██████████| 3/3 [00:00<00:00, 298.89it/s]\n",
            "Epoch 25: train loss=0.001876584044491448, train accuracy=0.8870863075924724: 100%|██████████| 25/25 [00:00<00:00, 108.53it/s] \n",
            "Epoch 25: val loss=0.0039048135973686394, val accuracy=0.6395348837209303: 100%|██████████| 3/3 [00:00<00:00, 227.52it/s]\n",
            "Epoch 26: train loss=0.0018327849482577161, train accuracy=0.881245944192083: 100%|██████████| 25/25 [00:00<00:00, 107.33it/s] \n",
            "Epoch 26: val loss=0.00398726076927296, val accuracy=0.622093023255814: 100%|██████████| 3/3 [00:00<00:00, 285.30it/s]\n",
            "Epoch 27: train loss=0.0016989872575115647, train accuracy=0.8968202465931213: 100%|██████████| 25/25 [00:00<00:00, 108.73it/s]\n",
            "Epoch 27: val loss=0.004048408030770546, val accuracy=0.6104651162790697: 100%|██████████| 3/3 [00:00<00:00, 249.32it/s]\n",
            "Epoch 28: train loss=0.0016284213316162092, train accuracy=0.9026606099935107: 100%|██████████| 25/25 [00:00<00:00, 108.44it/s]\n",
            "Epoch 28: val loss=0.004017878323793411, val accuracy=0.622093023255814: 100%|██████████| 3/3 [00:00<00:00, 269.76it/s]\n",
            "Epoch 29: train loss=0.0016227993512215513, train accuracy=0.9097988319273199: 100%|██████████| 25/25 [00:00<00:00, 101.67it/s]\n",
            "Epoch 29: val loss=0.004037051613247672, val accuracy=0.627906976744186: 100%|██████████| 3/3 [00:00<00:00, 260.53it/s]\n",
            "Epoch 30: train loss=0.0015034566909596953, train accuracy=0.9085009733939: 100%|██████████| 25/25 [00:00<00:00, 99.84it/s]    \n",
            "Epoch 30: val loss=0.003993329267169154, val accuracy=0.627906976744186: 100%|██████████| 3/3 [00:00<00:00, 270.96it/s]\n",
            "Epoch 31: train loss=0.0014336069321802573, train accuracy=0.9149902660609993: 100%|██████████| 25/25 [00:00<00:00, 96.50it/s]\n",
            "Epoch 31: val loss=0.003969338830820349, val accuracy=0.6395348837209303: 100%|██████████| 3/3 [00:00<00:00, 284.26it/s]\n",
            "Epoch 32: train loss=0.001394322015088847, train accuracy=0.9325113562621674: 100%|██████████| 25/25 [00:00<00:00, 86.94it/s] \n",
            "Epoch 32: val loss=0.004147750607063604, val accuracy=0.622093023255814: 100%|██████████| 3/3 [00:00<00:00, 196.11it/s]\n",
            "Epoch 33: train loss=0.001419575199591193, train accuracy=0.9312134977287476: 100%|██████████| 25/25 [00:00<00:00, 94.95it/s] \n",
            "Epoch 33: val loss=0.003977015181336292, val accuracy=0.6453488372093024: 100%|██████████| 3/3 [00:00<00:00, 272.17it/s]\n",
            "Epoch 34: train loss=0.0013005587911157155, train accuracy=0.9292667099286178: 100%|██████████| 25/25 [00:00<00:00, 99.52it/s] \n",
            "Epoch 34: val loss=0.00391039659464082, val accuracy=0.627906976744186: 100%|██████████| 3/3 [00:00<00:00, 220.06it/s]\n",
            "Epoch 35: train loss=0.001363489624550403, train accuracy=0.9409474367293965: 100%|██████████| 25/25 [00:00<00:00, 88.62it/s] \n",
            "Epoch 35: val loss=0.004263395486876022, val accuracy=0.6046511627906976: 100%|██████████| 3/3 [00:00<00:00, 195.00it/s]\n",
            "Epoch 36: train loss=0.0011625769756623168, train accuracy=0.9422452952628163: 100%|██████████| 25/25 [00:00<00:00, 96.07it/s]\n",
            "Epoch 36: val loss=0.004046918694363084, val accuracy=0.6337209302325582: 100%|██████████| 3/3 [00:00<00:00, 229.12it/s]\n",
            "Epoch 37: train loss=0.0011314239490736158, train accuracy=0.9532770927968851: 100%|██████████| 25/25 [00:00<00:00, 92.94it/s]\n",
            "Epoch 37: val loss=0.004226186507663062, val accuracy=0.627906976744186: 100%|██████████| 3/3 [00:00<00:00, 230.32it/s]\n",
            "Epoch 38: train loss=0.0011114700516658043, train accuracy=0.9539260220635951: 100%|██████████| 25/25 [00:00<00:00, 95.86it/s]\n",
            "Epoch 38: val loss=0.004133407026529312, val accuracy=0.6453488372093024: 100%|██████████| 3/3 [00:00<00:00, 228.96it/s]\n",
            "Epoch 39: train loss=0.0010528481558767873, train accuracy=0.9558728098637248: 100%|██████████| 25/25 [00:00<00:00, 93.65it/s]\n",
            "Epoch 39: val loss=0.004186708653389022, val accuracy=0.6162790697674418: 100%|██████████| 3/3 [00:00<00:00, 252.78it/s]\n",
            "Epoch 40: train loss=0.001037068036490644, train accuracy=0.9552238805970149: 100%|██████████| 25/25 [00:00<00:00, 88.32it/s] \n",
            "Epoch 40: val loss=0.004121594824070154, val accuracy=0.6104651162790697: 100%|██████████| 3/3 [00:00<00:00, 218.00it/s]\n",
            "Epoch 41: train loss=0.001067907159627064, train accuracy=0.9610642439974043: 100%|██████████| 25/25 [00:00<00:00, 92.79it/s] \n",
            "Epoch 41: val loss=0.004347023662439612, val accuracy=0.6046511627906976: 100%|██████████| 3/3 [00:00<00:00, 211.39it/s]\n",
            "Epoch 42: train loss=0.0009084073615143781, train accuracy=0.9662556781310837: 100%|██████████| 25/25 [00:00<00:00, 91.80it/s]\n",
            "Epoch 42: val loss=0.004262110434992369, val accuracy=0.5872093023255814: 100%|██████████| 3/3 [00:00<00:00, 222.47it/s]\n",
            "Epoch 43: train loss=0.0008596234787485184, train accuracy=0.9740428293316029: 100%|██████████| 25/25 [00:00<00:00, 96.59it/s]\n",
            "Epoch 43: val loss=0.004333885949711467, val accuracy=0.5872093023255814: 100%|██████████| 3/3 [00:00<00:00, 279.50it/s]\n",
            "Epoch 44: train loss=0.0010345510686376046, train accuracy=0.972744970798183: 100%|██████████| 25/25 [00:00<00:00, 99.49it/s]  \n",
            "Epoch 44: val loss=0.0044637060789174815, val accuracy=0.6337209302325582: 100%|██████████| 3/3 [00:00<00:00, 242.61it/s]\n",
            "Epoch 45: train loss=0.0007893442176886769, train accuracy=0.9759896171317326: 100%|██████████| 25/25 [00:00<00:00, 99.13it/s] \n",
            "Epoch 45: val loss=0.00427832541077636, val accuracy=0.627906976744186: 100%|██████████| 3/3 [00:00<00:00, 266.28it/s]\n",
            "Epoch 46: train loss=0.0007287159460578005, train accuracy=0.9824789097988319: 100%|██████████| 25/25 [00:00<00:00, 97.79it/s]\n",
            "Epoch 46: val loss=0.004370269820440647, val accuracy=0.5930232558139535: 100%|██████████| 3/3 [00:00<00:00, 229.99it/s]\n",
            "Epoch 47: train loss=0.0008261644914214446, train accuracy=0.9805321219987021: 100%|██████████| 25/25 [00:00<00:00, 99.54it/s] \n",
            "Epoch 47: val loss=0.004631993382476097, val accuracy=0.5988372093023255: 100%|██████████| 3/3 [00:00<00:00, 274.84it/s]\n",
            "Epoch 48: train loss=0.0008987365925103174, train accuracy=0.9766385463984426: 100%|██████████| 25/25 [00:00<00:00, 99.97it/s] \n",
            "Epoch 48: val loss=0.004422084536663321, val accuracy=0.6104651162790697: 100%|██████████| 3/3 [00:00<00:00, 272.71it/s]\n",
            "Epoch 49: train loss=0.0006670131215718101, train accuracy=0.9805321219987021: 100%|██████████| 25/25 [00:00<00:00, 99.22it/s]\n",
            "Epoch 49: val loss=0.004492482213779937, val accuracy=0.6104651162790697: 100%|██████████| 3/3 [00:00<00:00, 271.62it/s]\n",
            "Epoch 50: train loss=0.0008140475604632394, train accuracy=0.9863724853990915: 100%|██████████| 25/25 [00:00<00:00, 94.27it/s]\n",
            "Epoch 50: val loss=0.00429712452514227, val accuracy=0.6395348837209303: 100%|██████████| 3/3 [00:00<00:00, 212.25it/s]\n",
            "Epoch 51: train loss=0.0006149887596241922, train accuracy=0.9824789097988319: 100%|██████████| 25/25 [00:00<00:00, 78.55it/s]\n",
            "Epoch 51: val loss=0.004355226838311484, val accuracy=0.6337209302325582: 100%|██████████| 3/3 [00:00<00:00, 178.86it/s]\n",
            "Epoch 52: train loss=0.0006093835563318517, train accuracy=0.9889682024659312: 100%|██████████| 25/25 [00:00<00:00, 76.05it/s]\n",
            "Epoch 52: val loss=0.0045648948397747306, val accuracy=0.622093023255814: 100%|██████████| 3/3 [00:00<00:00, 226.00it/s]\n",
            "Epoch 53: train loss=0.0005574186563994651, train accuracy=0.9896171317326411: 100%|██████████| 25/25 [00:00<00:00, 71.25it/s]\n",
            "Epoch 53: val loss=0.00426271072653837, val accuracy=0.627906976744186: 100%|██████████| 3/3 [00:00<00:00, 170.50it/s]\n",
            "Epoch 54: train loss=0.0005316193469985594, train accuracy=0.9870214146658014: 100%|██████████| 25/25 [00:00<00:00, 83.56it/s] \n",
            "Epoch 54: val loss=0.0044433895585148835, val accuracy=0.6395348837209303: 100%|██████████| 3/3 [00:00<00:00, 269.46it/s]\n",
            "Epoch 55: train loss=0.0005418619323500095, train accuracy=0.9870214146658014: 100%|██████████| 25/25 [00:00<00:00, 70.24it/s] \n",
            "Epoch 55: val loss=0.004374623212010362, val accuracy=0.6337209302325582: 100%|██████████| 3/3 [00:00<00:00, 204.63it/s]\n",
            "Epoch 56: train loss=0.0004408781837954837, train accuracy=0.9928617780661908: 100%|██████████| 25/25 [00:00<00:00, 67.30it/s] \n",
            "Epoch 56: val loss=0.004457487703062767, val accuracy=0.6162790697674418: 100%|██████████| 3/3 [00:00<00:00, 174.73it/s]\n",
            "Epoch 57: train loss=0.0006124483437158318, train accuracy=0.9889682024659312: 100%|██████████| 25/25 [00:00<00:00, 62.76it/s] \n",
            "Epoch 57: val loss=0.004508252840402515, val accuracy=0.6337209302325582: 100%|██████████| 3/3 [00:00<00:00, 186.21it/s]\n",
            "Epoch 58: train loss=0.0005292284890458152, train accuracy=0.9941596365996106: 100%|██████████| 25/25 [00:00<00:00, 67.06it/s] \n",
            "Epoch 58: val loss=0.004635321279597837, val accuracy=0.6162790697674418: 100%|██████████| 3/3 [00:00<00:00, 165.94it/s]\n",
            "Epoch 59: train loss=0.00045193214571414094, train accuracy=0.9941596365996106: 100%|██████████| 25/25 [00:00<00:00, 84.05it/s]\n",
            "Epoch 59: val loss=0.004631433895854063, val accuracy=0.6162790697674418: 100%|██████████| 3/3 [00:00<00:00, 229.89it/s]\n",
            "Epoch 60: train loss=0.00045322886946756757, train accuracy=0.9889682024659312: 100%|██████████| 25/25 [00:00<00:00, 66.39it/s]\n",
            "Epoch 60: val loss=0.00456098536419314, val accuracy=0.6337209302325582: 100%|██████████| 3/3 [00:00<00:00, 150.95it/s]\n",
            "Epoch 61: train loss=0.0006095018554515146, train accuracy=0.9896171317326411: 100%|██████████| 25/25 [00:00<00:00, 66.00it/s] \n",
            "Epoch 61: val loss=0.004469910160053608, val accuracy=0.6453488372093024: 100%|██████████| 3/3 [00:00<00:00, 249.18it/s]\n",
            "Epoch 62: train loss=0.0003945130388277216, train accuracy=0.9922128487994809: 100%|██████████| 25/25 [00:00<00:00, 94.56it/s] \n",
            "Epoch 62: val loss=0.00450593120483465, val accuracy=0.6395348837209303: 100%|██████████| 3/3 [00:00<00:00, 233.56it/s]\n",
            "Epoch 63: train loss=0.00033091922036186585, train accuracy=0.9961064243997404: 100%|██████████| 25/25 [00:00<00:00, 99.50it/s]\n",
            "Epoch 63: val loss=0.0046356193028217136, val accuracy=0.6337209302325582: 100%|██████████| 3/3 [00:00<00:00, 247.21it/s]\n",
            "Epoch 64: train loss=0.00041745863323046123, train accuracy=0.9941596365996106: 100%|██████████| 25/25 [00:00<00:00, 97.25it/s] \n",
            "Epoch 64: val loss=0.004445217289896899, val accuracy=0.6395348837209303: 100%|██████████| 3/3 [00:00<00:00, 179.22it/s]\n",
            "Epoch 65: train loss=0.0005641010717418115, train accuracy=0.9935107073329007: 100%|██████████| 25/25 [00:00<00:00, 98.89it/s] \n",
            "Epoch 65: val loss=0.004447837555131247, val accuracy=0.6453488372093024: 100%|██████████| 3/3 [00:00<00:00, 229.59it/s]\n",
            "Epoch 66: train loss=0.00045821646960919973, train accuracy=0.9811810512654121: 100%|██████████| 25/25 [00:00<00:00, 87.46it/s]\n",
            "Epoch 66: val loss=0.004569001149299533, val accuracy=0.6627906976744186: 100%|██████████| 3/3 [00:00<00:00, 242.74it/s]\n",
            "Epoch 67: train loss=0.0003517454467099801, train accuracy=0.9928617780661908: 100%|██████████| 25/25 [00:00<00:00, 95.10it/s] \n",
            "Epoch 67: val loss=0.004610554250173791, val accuracy=0.6162790697674418: 100%|██████████| 3/3 [00:00<00:00, 248.29it/s]\n",
            "Epoch 68: train loss=0.0004138968846265717, train accuracy=0.9961064243997404: 100%|██████████| 25/25 [00:00<00:00, 100.48it/s] \n",
            "Epoch 68: val loss=0.004568669078655021, val accuracy=0.6395348837209303: 100%|██████████| 3/3 [00:00<00:00, 248.91it/s]\n",
            "Epoch 69: train loss=0.00027642364200932264, train accuracy=0.9961064243997404: 100%|██████████| 25/25 [00:00<00:00, 97.19it/s]\n",
            "Epoch 69: val loss=0.004348125828560008, val accuracy=0.6453488372093024: 100%|██████████| 3/3 [00:00<00:00, 246.77it/s]\n",
            "Epoch 70: train loss=0.00046861014709040995, train accuracy=0.9954574951330305: 100%|██████████| 25/25 [00:00<00:00, 93.66it/s]\n",
            "Epoch 70: val loss=0.004584263923556306, val accuracy=0.6395348837209303: 100%|██████████| 3/3 [00:00<00:00, 225.86it/s]\n",
            "Epoch 71: train loss=0.000379300973028196, train accuracy=0.9935107073329007: 100%|██████████| 25/25 [00:00<00:00, 95.64it/s] \n",
            "Epoch 71: val loss=0.004389530610899592, val accuracy=0.6686046511627907: 100%|██████████| 3/3 [00:00<00:00, 269.73it/s]\n",
            "Epoch 72: train loss=0.000332345275871944, train accuracy=0.9902660609993511: 100%|██████████| 25/25 [00:00<00:00, 96.81it/s]  \n",
            "Epoch 72: val loss=0.004557278093903563, val accuracy=0.6395348837209303: 100%|██████████| 3/3 [00:00<00:00, 243.53it/s]\n",
            "Epoch 73: train loss=0.000278952162855442, train accuracy=0.9928617780661908: 100%|██████████| 25/25 [00:00<00:00, 70.33it/s]  \n",
            "Epoch 73: val loss=0.004421352040629054, val accuracy=0.6511627906976745: 100%|██████████| 3/3 [00:00<00:00, 141.07it/s]\n",
            "Epoch 74: train loss=0.00033513713376638875, train accuracy=0.9935107073329007: 100%|██████████| 25/25 [00:00<00:00, 64.26it/s]\n",
            "Epoch 74: val loss=0.004756713762532833, val accuracy=0.6162790697674418: 100%|██████████| 3/3 [00:00<00:00, 177.26it/s]\n",
            "Epoch 75: train loss=0.00035616328080392053, train accuracy=0.9967553536664504: 100%|██████████| 25/25 [00:00<00:00, 70.43it/s]\n",
            "Epoch 75: val loss=0.004589843628711478, val accuracy=0.6337209302325582: 100%|██████████| 3/3 [00:00<00:00, 176.06it/s]\n",
            "Epoch 76: train loss=0.0004515769612829767, train accuracy=0.9948085658663206: 100%|██████████| 25/25 [00:00<00:00, 66.27it/s] \n",
            "Epoch 76: val loss=0.004631597288819247, val accuracy=0.6569767441860465: 100%|██████████| 3/3 [00:00<00:00, 169.61it/s]\n",
            "Epoch 77: train loss=0.0002888488848581862, train accuracy=0.9961064243997404: 100%|██████████| 25/25 [00:00<00:00, 75.05it/s] \n",
            "Epoch 77: val loss=0.004295183215723481, val accuracy=0.6627906976744186: 100%|██████████| 3/3 [00:00<00:00, 248.45it/s]\n",
            "Epoch 78: train loss=0.0003029021406080876, train accuracy=0.9967553536664504: 100%|██████████| 25/25 [00:00<00:00, 94.74it/s] \n",
            "Epoch 78: val loss=0.004464245639568151, val accuracy=0.6337209302325582: 100%|██████████| 3/3 [00:00<00:00, 247.33it/s]\n",
            "Epoch 79: train loss=0.00047150987522564175, train accuracy=0.9896171317326411: 100%|██████████| 25/25 [00:00<00:00, 82.79it/s]\n",
            "Epoch 79: val loss=0.004500530833421752, val accuracy=0.6395348837209303: 100%|██████████| 3/3 [00:00<00:00, 144.68it/s]\n",
            "Epoch 80: train loss=0.000455422368019065, train accuracy=0.9935107073329007: 100%|██████████| 25/25 [00:00<00:00, 69.23it/s]  \n",
            "Epoch 80: val loss=0.004684205405240835, val accuracy=0.6337209302325582: 100%|██████████| 3/3 [00:00<00:00, 180.78it/s]\n",
            "Epoch 81: train loss=0.00031074467504917997, train accuracy=0.9980532121998702: 100%|██████████| 25/25 [00:00<00:00, 80.01it/s]\n",
            "Epoch 81: val loss=0.004385740084703578, val accuracy=0.6569767441860465: 100%|██████████| 3/3 [00:00<00:00, 175.50it/s]\n",
            "Epoch 82: train loss=0.0002297580273583831, train accuracy=0.9961064243997404: 100%|██████████| 25/25 [00:00<00:00, 63.62it/s] \n",
            "Epoch 82: val loss=0.004481083085370618, val accuracy=0.6511627906976745: 100%|██████████| 3/3 [00:00<00:00, 198.79it/s]\n",
            "Epoch 83: train loss=0.0004126874725156059, train accuracy=0.9935107073329007: 100%|██████████| 25/25 [00:00<00:00, 68.16it/s] \n",
            "Epoch 83: val loss=0.004809757997823316, val accuracy=0.622093023255814: 100%|██████████| 3/3 [00:00<00:00, 210.15it/s]\n",
            "Epoch 84: train loss=0.00029995474217388247, train accuracy=0.9915639195327709: 100%|██████████| 25/25 [00:00<00:00, 78.54it/s]\n",
            "Epoch 84: val loss=0.004627806069545968, val accuracy=0.6453488372093024: 100%|██████████| 3/3 [00:00<00:00, 191.82it/s]\n",
            "Epoch 85: train loss=0.00023216416842940563, train accuracy=0.9967553536664504: 100%|██████████| 25/25 [00:00<00:00, 66.75it/s]\n",
            "Epoch 85: val loss=0.004690635516199955, val accuracy=0.627906976744186: 100%|██████████| 3/3 [00:00<00:00, 165.82it/s]\n",
            "Epoch 86: train loss=0.00034623225125871563, train accuracy=0.9941596365996106: 100%|██████████| 25/25 [00:00<00:00, 72.02it/s]\n",
            "Epoch 86: val loss=0.004809064400750537, val accuracy=0.5813953488372093: 100%|██████████| 3/3 [00:00<00:00, 137.95it/s]\n",
            "Epoch 87: train loss=0.00023065814548966793, train accuracy=0.9967553536664504: 100%|██████████| 25/25 [00:00<00:00, 65.93it/s]\n",
            "Epoch 87: val loss=0.004739126753668452, val accuracy=0.6337209302325582: 100%|██████████| 3/3 [00:00<00:00, 193.06it/s]\n",
            "Epoch 88: train loss=0.0002069898976507433, train accuracy=0.9961064243997404: 100%|██████████| 25/25 [00:00<00:00, 64.77it/s] \n",
            "Epoch 88: val loss=0.004594102501869202, val accuracy=0.6395348837209303: 100%|██████████| 3/3 [00:00<00:00, 156.98it/s]\n",
            "Epoch 89: train loss=0.00015368543101122904, train accuracy=0.9980532121998702: 100%|██████████| 25/25 [00:00<00:00, 64.72it/s]\n",
            "Epoch 89: val loss=0.004809238623047984, val accuracy=0.6162790697674418: 100%|██████████| 3/3 [00:00<00:00, 168.83it/s]\n",
            "Epoch 90: train loss=0.00023246343089853842, train accuracy=0.9974042829331603: 100%|██████████| 25/25 [00:00<00:00, 74.39it/s]\n",
            "Epoch 90: val loss=0.004447303452464037, val accuracy=0.627906976744186: 100%|██████████| 3/3 [00:00<00:00, 238.97it/s]\n",
            "Epoch 91: train loss=0.00038203212422289144, train accuracy=0.9954574951330305: 100%|██████████| 25/25 [00:00<00:00, 94.80it/s]\n",
            "Epoch 91: val loss=0.004633299659850986, val accuracy=0.6395348837209303: 100%|██████████| 3/3 [00:00<00:00, 249.83it/s]\n",
            "Epoch 92: train loss=0.0002757844640247857, train accuracy=0.9961064243997404: 100%|██████████| 25/25 [00:00<00:00, 95.13it/s] \n",
            "Epoch 92: val loss=0.004644864087187966, val accuracy=0.6337209302325582: 100%|██████████| 3/3 [00:00<00:00, 219.95it/s]\n",
            "Epoch 93: train loss=0.0003445582339838679, train accuracy=0.9922128487994809: 100%|██████████| 25/25 [00:00<00:00, 97.82it/s] \n",
            "Epoch 93: val loss=0.004991048817024674, val accuracy=0.622093023255814: 100%|██████████| 3/3 [00:00<00:00, 236.43it/s]\n",
            "Epoch 94: train loss=0.0004319477491540076, train accuracy=0.9889682024659312: 100%|██████████| 25/25 [00:00<00:00, 93.24it/s] \n",
            "Epoch 94: val loss=0.004676661172578501, val accuracy=0.6453488372093024: 100%|██████████| 3/3 [00:00<00:00, 186.90it/s]\n",
            "Epoch 95: train loss=0.00026076378289907495, train accuracy=0.9915639195327709: 100%|██████████| 25/25 [00:00<00:00, 98.07it/s]\n",
            "Epoch 95: val loss=0.004644595519747845, val accuracy=0.6395348837209303: 100%|██████████| 3/3 [00:00<00:00, 244.81it/s]\n",
            "Epoch 96: train loss=0.00018285731933068177, train accuracy=0.9974042829331603: 100%|██████████| 25/25 [00:00<00:00, 97.37it/s]\n",
            "Epoch 96: val loss=0.004602960549121679, val accuracy=0.6337209302325582: 100%|██████████| 3/3 [00:00<00:00, 238.33it/s]\n",
            "Epoch 97: train loss=0.00025886149897489703, train accuracy=0.9954574951330305: 100%|██████████| 25/25 [00:00<00:00, 100.71it/s]\n",
            "Epoch 97: val loss=0.004591957947542501, val accuracy=0.6627906976744186: 100%|██████████| 3/3 [00:00<00:00, 238.57it/s]\n",
            "Epoch 98: train loss=0.00021614177946646752, train accuracy=0.9987021414665801: 100%|██████████| 25/25 [00:00<00:00, 98.26it/s]\n",
            "Epoch 98: val loss=0.0046935074551160945, val accuracy=0.622093023255814: 100%|██████████| 3/3 [00:00<00:00, 247.48it/s]\n",
            "Epoch 99: train loss=0.00014447440235530455, train accuracy=0.9993510707332901: 100%|██████████| 25/25 [00:00<00:00, 98.93it/s] \n",
            "Epoch 99: val loss=0.004621497766916142, val accuracy=0.622093023255814: 100%|██████████| 3/3 [00:00<00:00, 270.03it/s]\n",
            "Epoch 0: train loss=0.00401462035315289, train accuracy=0.5412070084360805: 100%|██████████| 25/25 [00:00<00:00, 101.68it/s]  \n",
            "Epoch 0: val loss=0.004363667653050534, val accuracy=0.5581395348837209: 100%|██████████| 3/3 [00:00<00:00, 270.87it/s]\n"
          ]
        },
        {
          "name": "stdout",
          "output_type": "stream",
          "text": [
            "New model saved, val loss inf -> 0.004363667653050534\n"
          ]
        },
        {
          "name": "stderr",
          "output_type": "stream",
          "text": [
            "Epoch 1: train loss=0.003816731008208471, train accuracy=0.6048020765736535: 100%|██████████| 25/25 [00:00<00:00, 97.87it/s]  \n",
            "Epoch 1: val loss=0.004434009017639382, val accuracy=0.4883720930232558: 100%|██████████| 3/3 [00:00<00:00, 238.89it/s]\n",
            "Epoch 2: train loss=0.0036871449890111966, train accuracy=0.6054510058403634: 100%|██████████| 25/25 [00:00<00:00, 101.52it/s]\n",
            "Epoch 2: val loss=0.0043147989483766774, val accuracy=0.5465116279069767: 100%|██████████| 3/3 [00:00<00:00, 249.57it/s]\n"
          ]
        },
        {
          "name": "stdout",
          "output_type": "stream",
          "text": [
            "New model saved, val loss 0.004363667653050534 -> 0.0043147989483766774\n"
          ]
        },
        {
          "name": "stderr",
          "output_type": "stream",
          "text": [
            "Epoch 3: train loss=0.0036833712916959035, train accuracy=0.6145360155743024: 100%|██████████| 25/25 [00:00<00:00, 102.48it/s]\n",
            "Epoch 3: val loss=0.004250412763551224, val accuracy=0.5755813953488372: 100%|██████████| 3/3 [00:00<00:00, 257.98it/s]\n"
          ]
        },
        {
          "name": "stdout",
          "output_type": "stream",
          "text": [
            "New model saved, val loss 0.0043147989483766774 -> 0.004250412763551224\n"
          ]
        },
        {
          "name": "stderr",
          "output_type": "stream",
          "text": [
            "Epoch 4: train loss=0.003686450832776633, train accuracy=0.6242699545749514: 100%|██████████| 25/25 [00:00<00:00, 100.09it/s] \n",
            "Epoch 4: val loss=0.0042106672081836435, val accuracy=0.5813953488372093: 100%|██████████| 3/3 [00:00<00:00, 251.77it/s]\n"
          ]
        },
        {
          "name": "stdout",
          "output_type": "stream",
          "text": [
            "New model saved, val loss 0.004250412763551224 -> 0.0042106672081836435\n"
          ]
        },
        {
          "name": "stderr",
          "output_type": "stream",
          "text": [
            "Epoch 5: train loss=0.003741206247105682, train accuracy=0.618429591174562: 100%|██████████| 25/25 [00:00<00:00, 100.66it/s]  \n",
            "Epoch 5: val loss=0.004147362397160641, val accuracy=0.6046511627906976: 100%|██████████| 3/3 [00:00<00:00, 234.69it/s]\n"
          ]
        },
        {
          "name": "stdout",
          "output_type": "stream",
          "text": [
            "New model saved, val loss 0.0042106672081836435 -> 0.004147362397160641\n"
          ]
        },
        {
          "name": "stderr",
          "output_type": "stream",
          "text": [
            "Epoch 6: train loss=0.00377381614746017, train accuracy=0.6112913692407528: 100%|██████████| 25/25 [00:00<00:00, 99.62it/s]  \n",
            "Epoch 6: val loss=0.00413021401957024, val accuracy=0.5872093023255814: 100%|██████████| 3/3 [00:00<00:00, 248.21it/s]\n"
          ]
        },
        {
          "name": "stdout",
          "output_type": "stream",
          "text": [
            "New model saved, val loss 0.004147362397160641 -> 0.00413021401957024\n"
          ]
        },
        {
          "name": "stderr",
          "output_type": "stream",
          "text": [
            "Epoch 7: train loss=0.003681831656532733, train accuracy=0.6255678131083712: 100%|██████████| 25/25 [00:00<00:00, 97.18it/s] \n",
            "Epoch 7: val loss=0.004214010006466577, val accuracy=0.5755813953488372: 100%|██████████| 3/3 [00:00<00:00, 249.57it/s]\n",
            "Epoch 8: train loss=0.003648810257855984, train accuracy=0.6262167423750811: 100%|██████████| 25/25 [00:00<00:00, 96.13it/s]  \n",
            "Epoch 8: val loss=0.004156720586294352, val accuracy=0.5872093023255814: 100%|██████████| 3/3 [00:00<00:00, 234.40it/s]\n",
            "Epoch 9: train loss=0.003660760863426055, train accuracy=0.6223231667748216: 100%|██████████| 25/25 [00:00<00:00, 101.55it/s] \n",
            "Epoch 9: val loss=0.004163230401138926, val accuracy=0.5813953488372093: 100%|██████████| 3/3 [00:00<00:00, 280.27it/s]\n",
            "Epoch 10: train loss=0.003632847033561939, train accuracy=0.6190785204412719: 100%|██████████| 25/25 [00:00<00:00, 99.41it/s]  \n",
            "Epoch 10: val loss=0.0041625070883784185, val accuracy=0.5755813953488372: 100%|██████████| 3/3 [00:00<00:00, 279.89it/s]\n",
            "Epoch 11: train loss=0.003655834709723842, train accuracy=0.6216742375081116: 100%|██████████| 25/25 [00:00<00:00, 102.94it/s] \n",
            "Epoch 11: val loss=0.004210121323202931, val accuracy=0.5697674418604651: 100%|██████████| 3/3 [00:00<00:00, 243.68it/s]\n",
            "Epoch 12: train loss=0.0036283938587678864, train accuracy=0.6203763789746918: 100%|██████████| 25/25 [00:00<00:00, 101.91it/s]\n",
            "Epoch 12: val loss=0.004197434457235558, val accuracy=0.5697674418604651: 100%|██████████| 3/3 [00:00<00:00, 266.43it/s]\n",
            "Epoch 13: train loss=0.003707099423092886, train accuracy=0.6320571057754705: 100%|██████████| 25/25 [00:00<00:00, 104.31it/s] \n",
            "Epoch 13: val loss=0.004216239029584929, val accuracy=0.5813953488372093: 100%|██████████| 3/3 [00:00<00:00, 268.73it/s]\n",
            "Epoch 14: train loss=0.003683751556565435, train accuracy=0.6255678131083712: 100%|██████████| 25/25 [00:00<00:00, 99.31it/s]  \n",
            "Epoch 14: val loss=0.00413033054318539, val accuracy=0.5755813953488372: 100%|██████████| 3/3 [00:00<00:00, 285.58it/s]\n",
            "Epoch 15: train loss=0.003719393683671178, train accuracy=0.6288124594419209: 100%|██████████| 25/25 [00:00<00:00, 102.75it/s] \n",
            "Epoch 15: val loss=0.004135984927415848, val accuracy=0.5755813953488372: 100%|██████████| 3/3 [00:00<00:00, 268.54it/s]\n",
            "Epoch 16: train loss=0.0036173463351226796, train accuracy=0.6242699545749514: 100%|██████████| 25/25 [00:00<00:00, 101.28it/s]\n",
            "Epoch 16: val loss=0.004196656131467154, val accuracy=0.5813953488372093: 100%|██████████| 3/3 [00:00<00:00, 260.07it/s]\n",
            "Epoch 17: train loss=0.003651786235382927, train accuracy=0.6229720960415315: 100%|██████████| 25/25 [00:00<00:00, 100.30it/s] \n",
            "Epoch 17: val loss=0.00418681244170943, val accuracy=0.5930232558139535: 100%|██████████| 3/3 [00:00<00:00, 298.96it/s]\n",
            "Epoch 18: train loss=0.0036717555416164115, train accuracy=0.6190785204412719: 100%|██████████| 25/25 [00:00<00:00, 91.34it/s] \n",
            "Epoch 18: val loss=0.004142533467952595, val accuracy=0.5930232558139535: 100%|██████████| 3/3 [00:00<00:00, 221.64it/s]\n",
            "Epoch 19: train loss=0.0036173140379919936, train accuracy=0.6327060350421804: 100%|██████████| 25/25 [00:00<00:00, 73.97it/s]\n",
            "Epoch 19: val loss=0.004105454267457474, val accuracy=0.5697674418604651: 100%|██████████| 3/3 [00:00<00:00, 192.70it/s]\n"
          ]
        },
        {
          "name": "stdout",
          "output_type": "stream",
          "text": [
            "New model saved, val loss 0.00413021401957024 -> 0.004105454267457474\n"
          ]
        },
        {
          "name": "stderr",
          "output_type": "stream",
          "text": [
            "Epoch 20: train loss=0.0036980367418545396, train accuracy=0.6353017521090201: 100%|██████████| 25/25 [00:00<00:00, 74.79it/s]\n",
            "Epoch 20: val loss=0.004099061929209288, val accuracy=0.5697674418604651: 100%|██████████| 3/3 [00:00<00:00, 273.01it/s]\n"
          ]
        },
        {
          "name": "stdout",
          "output_type": "stream",
          "text": [
            "New model saved, val loss 0.004105454267457474 -> 0.004099061929209288\n"
          ]
        },
        {
          "name": "stderr",
          "output_type": "stream",
          "text": [
            "Epoch 21: train loss=0.0036704860903240505, train accuracy=0.6288124594419209: 100%|██████████| 25/25 [00:00<00:00, 96.29it/s]\n",
            "Epoch 21: val loss=0.004152823759372844, val accuracy=0.5930232558139535: 100%|██████████| 3/3 [00:00<00:00, 238.65it/s]\n",
            "Epoch 22: train loss=0.003638769679453217, train accuracy=0.6353017521090201: 100%|██████████| 25/25 [00:00<00:00, 100.82it/s] \n",
            "Epoch 22: val loss=0.00418674893850504, val accuracy=0.5930232558139535: 100%|██████████| 3/3 [00:00<00:00, 237.75it/s]\n",
            "Epoch 23: train loss=0.003677395152473202, train accuracy=0.6255678131083712: 100%|██████████| 25/25 [00:00<00:00, 102.70it/s] \n",
            "Epoch 23: val loss=0.004162428597378177, val accuracy=0.5930232558139535: 100%|██████████| 3/3 [00:00<00:00, 268.13it/s]\n",
            "Epoch 24: train loss=0.00372271457328029, train accuracy=0.6301103179753407: 100%|██████████| 25/25 [00:00<00:00, 100.68it/s]  \n",
            "Epoch 24: val loss=0.004169519210970679, val accuracy=0.5930232558139535: 100%|██████████| 3/3 [00:00<00:00, 269.67it/s]\n",
            "Epoch 25: train loss=0.0036536712080994494, train accuracy=0.6372485399091499: 100%|██████████| 25/25 [00:00<00:00, 94.70it/s] \n",
            "Epoch 25: val loss=0.00412580604816592, val accuracy=0.5930232558139535: 100%|██████████| 3/3 [00:00<00:00, 271.89it/s]\n",
            "Epoch 26: train loss=0.003593631461020958, train accuracy=0.6320571057754705: 100%|██████████| 25/25 [00:00<00:00, 97.22it/s] \n",
            "Epoch 26: val loss=0.0041819079670795175, val accuracy=0.5813953488372093: 100%|██████████| 3/3 [00:00<00:00, 256.91it/s]\n",
            "Epoch 27: train loss=0.00363001994193954, train accuracy=0.6327060350421804: 100%|██████████| 25/25 [00:00<00:00, 100.29it/s] \n",
            "Epoch 27: val loss=0.004145791277635929, val accuracy=0.5755813953488372: 100%|██████████| 3/3 [00:00<00:00, 249.48it/s]\n",
            "Epoch 28: train loss=0.003617352572143426, train accuracy=0.6346528228423102: 100%|██████████| 25/25 [00:00<00:00, 102.15it/s] \n",
            "Epoch 28: val loss=0.004143381101447482, val accuracy=0.5872093023255814: 100%|██████████| 3/3 [00:00<00:00, 277.28it/s]\n",
            "Epoch 29: train loss=0.0035921411901847795, train accuracy=0.6398442569759896: 100%|██████████| 25/25 [00:00<00:00, 98.08it/s]\n",
            "Epoch 29: val loss=0.0042523260033407876, val accuracy=0.5755813953488372: 100%|██████████| 3/3 [00:00<00:00, 269.46it/s]\n",
            "Epoch 30: train loss=0.003624694145089384, train accuracy=0.6294613887086308: 100%|██████████| 25/25 [00:00<00:00, 101.19it/s] \n",
            "Epoch 30: val loss=0.004297175033147945, val accuracy=0.5872093023255814: 100%|██████████| 3/3 [00:00<00:00, 211.83it/s]\n",
            "Epoch 31: train loss=0.003613207602872236, train accuracy=0.6242699545749514: 100%|██████████| 25/25 [00:00<00:00, 93.61it/s] \n",
            "Epoch 31: val loss=0.004132092085688613, val accuracy=0.5872093023255814: 100%|██████████| 3/3 [00:00<00:00, 266.24it/s]\n",
            "Epoch 32: train loss=0.0036289462364006166, train accuracy=0.6288124594419209: 100%|██████████| 25/25 [00:00<00:00, 100.85it/s]\n",
            "Epoch 32: val loss=0.004127109639866408, val accuracy=0.5930232558139535: 100%|██████████| 3/3 [00:00<00:00, 275.07it/s]\n",
            "Epoch 33: train loss=0.0036689231316042285, train accuracy=0.6353017521090201: 100%|██████████| 25/25 [00:00<00:00, 97.36it/s]\n",
            "Epoch 33: val loss=0.004137563497521157, val accuracy=0.5697674418604651: 100%|██████████| 3/3 [00:00<00:00, 238.97it/s]\n",
            "Epoch 34: train loss=0.0035960923766718525, train accuracy=0.6327060350421804: 100%|██████████| 25/25 [00:00<00:00, 99.41it/s] \n",
            "Epoch 34: val loss=0.004162007379670476, val accuracy=0.5813953488372093: 100%|██████████| 3/3 [00:00<00:00, 248.13it/s]\n",
            "Epoch 35: train loss=0.003631191389812888, train accuracy=0.6359506813757301: 100%|██████████| 25/25 [00:00<00:00, 98.74it/s] \n",
            "Epoch 35: val loss=0.004183348095001176, val accuracy=0.5697674418604651: 100%|██████████| 3/3 [00:00<00:00, 248.04it/s]\n",
            "Epoch 36: train loss=0.003565594587791747, train accuracy=0.6378974691758599: 100%|██████████| 25/25 [00:00<00:00, 97.61it/s] \n",
            "Epoch 36: val loss=0.004139083329328271, val accuracy=0.5755813953488372: 100%|██████████| 3/3 [00:00<00:00, 229.81it/s]\n",
            "Epoch 37: train loss=0.003626718701363229, train accuracy=0.6411421155094095: 100%|██████████| 25/25 [00:00<00:00, 103.70it/s] \n",
            "Epoch 37: val loss=0.004167769104242325, val accuracy=0.5755813953488372: 100%|██████████| 3/3 [00:00<00:00, 273.55it/s]\n",
            "Epoch 38: train loss=0.0036291693863661394, train accuracy=0.6249188838416613: 100%|██████████| 25/25 [00:00<00:00, 103.66it/s]\n",
            "Epoch 38: val loss=0.004239422810632129, val accuracy=0.5988372093023255: 100%|██████████| 3/3 [00:00<00:00, 249.12it/s]\n",
            "Epoch 39: train loss=0.0036117969241566197, train accuracy=0.6417910447761194: 100%|██████████| 25/25 [00:00<00:00, 95.14it/s] \n",
            "Epoch 39: val loss=0.0041737041847650395, val accuracy=0.5813953488372093: 100%|██████████| 3/3 [00:00<00:00, 259.82it/s]\n",
            "Epoch 40: train loss=0.003618566122324261, train accuracy=0.6307592472420506: 100%|██████████| 25/25 [00:00<00:00, 102.82it/s] \n",
            "Epoch 40: val loss=0.00418241815858109, val accuracy=0.5930232558139535: 100%|██████████| 3/3 [00:00<00:00, 224.35it/s]\n",
            "Epoch 41: train loss=0.003627259156133044, train accuracy=0.6398442569759896: 100%|██████████| 25/25 [00:00<00:00, 103.17it/s] \n",
            "Epoch 41: val loss=0.0040996928027896, val accuracy=0.5872093023255814: 100%|██████████| 3/3 [00:00<00:00, 270.80it/s]\n",
            "Epoch 42: train loss=0.0035787849535344873, train accuracy=0.6268656716417911: 100%|██████████| 25/25 [00:00<00:00, 100.12it/s]\n",
            "Epoch 42: val loss=0.004225484247124473, val accuracy=0.5813953488372093: 100%|██████████| 3/3 [00:00<00:00, 247.19it/s]\n",
            "Epoch 43: train loss=0.003654241136418466, train accuracy=0.6378974691758599: 100%|██████████| 25/25 [00:00<00:00, 103.40it/s] \n",
            "Epoch 43: val loss=0.00413033322885979, val accuracy=0.563953488372093: 100%|██████████| 3/3 [00:00<00:00, 269.80it/s]\n",
            "Epoch 44: train loss=0.0036245576752075353, train accuracy=0.63659961064244: 100%|██████████| 25/25 [00:00<00:00, 100.35it/s]  \n",
            "Epoch 44: val loss=0.004084218293428421, val accuracy=0.5872093023255814: 100%|██████████| 3/3 [00:00<00:00, 268.79it/s]\n"
          ]
        },
        {
          "name": "stdout",
          "output_type": "stream",
          "text": [
            "New model saved, val loss 0.004099061929209288 -> 0.004084218293428421\n"
          ]
        },
        {
          "name": "stderr",
          "output_type": "stream",
          "text": [
            "Epoch 45: train loss=0.003574960644488053, train accuracy=0.6398442569759896: 100%|██████████| 25/25 [00:00<00:00, 102.04it/s] \n",
            "Epoch 45: val loss=0.004233074569424918, val accuracy=0.5930232558139535: 100%|██████████| 3/3 [00:00<00:00, 273.96it/s]\n",
            "Epoch 46: train loss=0.003663880021675773, train accuracy=0.6359506813757301: 100%|██████████| 25/25 [00:00<00:00, 105.56it/s] \n",
            "Epoch 46: val loss=0.004182740786047869, val accuracy=0.5813953488372093: 100%|██████████| 3/3 [00:00<00:00, 259.42it/s]\n",
            "Epoch 47: train loss=0.0036104722679783045, train accuracy=0.6340038935756003: 100%|██████████| 25/25 [00:00<00:00, 99.60it/s] \n",
            "Epoch 47: val loss=0.004189945584119752, val accuracy=0.5813953488372093: 100%|██████████| 3/3 [00:00<00:00, 197.80it/s]\n",
            "Epoch 48: train loss=0.0035834780650661796, train accuracy=0.6443867618429591: 100%|██████████| 25/25 [00:00<00:00, 78.89it/s]\n",
            "Epoch 48: val loss=0.004074531672305839, val accuracy=0.5930232558139535: 100%|██████████| 3/3 [00:00<00:00, 198.40it/s]\n"
          ]
        },
        {
          "name": "stdout",
          "output_type": "stream",
          "text": [
            "New model saved, val loss 0.004084218293428421 -> 0.004074531672305839\n"
          ]
        },
        {
          "name": "stderr",
          "output_type": "stream",
          "text": [
            "Epoch 49: train loss=0.003596805253638454, train accuracy=0.6417910447761194: 100%|██████████| 25/25 [00:00<00:00, 71.02it/s] \n",
            "Epoch 49: val loss=0.004090035724085431, val accuracy=0.5813953488372093: 100%|██████████| 3/3 [00:00<00:00, 186.52it/s]\n",
            "Epoch 50: train loss=0.0035973504272704773, train accuracy=0.6320571057754705: 100%|██████████| 25/25 [00:00<00:00, 97.67it/s]\n",
            "Epoch 50: val loss=0.0041561210744602735, val accuracy=0.5813953488372093: 100%|██████████| 3/3 [00:00<00:00, 276.95it/s]\n",
            "Epoch 51: train loss=0.0036263509685539874, train accuracy=0.6411421155094095: 100%|██████████| 25/25 [00:00<00:00, 99.21it/s]\n",
            "Epoch 51: val loss=0.004095247145309005, val accuracy=0.5697674418604651: 100%|██████████| 3/3 [00:00<00:00, 259.36it/s]\n",
            "Epoch 52: train loss=0.003573281067984975, train accuracy=0.6430889033095393: 100%|██████████| 25/25 [00:00<00:00, 102.28it/s] \n",
            "Epoch 52: val loss=0.004109212652195332, val accuracy=0.6046511627906976: 100%|██████████| 3/3 [00:00<00:00, 260.53it/s]\n",
            "Epoch 53: train loss=0.0036503242100313993, train accuracy=0.6327060350421804: 100%|██████████| 25/25 [00:00<00:00, 99.22it/s]\n",
            "Epoch 53: val loss=0.004006221110737601, val accuracy=0.5697674418604651: 100%|██████████| 3/3 [00:00<00:00, 271.75it/s]\n"
          ]
        },
        {
          "name": "stdout",
          "output_type": "stream",
          "text": [
            "New model saved, val loss 0.004074531672305839 -> 0.004006221110737601\n"
          ]
        },
        {
          "name": "stderr",
          "output_type": "stream",
          "text": [
            "Epoch 54: train loss=0.003604464875963274, train accuracy=0.6346528228423102: 100%|██████████| 25/25 [00:00<00:00, 101.33it/s] \n",
            "Epoch 54: val loss=0.004177480416242467, val accuracy=0.5813953488372093: 100%|██████████| 3/3 [00:00<00:00, 235.05it/s]\n",
            "Epoch 55: train loss=0.0036314222756180957, train accuracy=0.6314081765087606: 100%|██████████| 25/25 [00:00<00:00, 93.79it/s] \n",
            "Epoch 55: val loss=0.004127488839764928, val accuracy=0.5697674418604651: 100%|██████████| 3/3 [00:00<00:00, 191.40it/s]\n",
            "Epoch 56: train loss=0.0035856849357418083, train accuracy=0.6320571057754705: 100%|██████████| 25/25 [00:00<00:00, 91.17it/s]\n",
            "Epoch 56: val loss=0.004101856503375741, val accuracy=0.5813953488372093: 100%|██████████| 3/3 [00:00<00:00, 245.44it/s]\n",
            "Epoch 57: train loss=0.003661104934235659, train accuracy=0.63659961064244: 100%|██████████| 25/25 [00:00<00:00, 102.01it/s]   \n",
            "Epoch 57: val loss=0.004112706974495289, val accuracy=0.5813953488372093: 100%|██████████| 3/3 [00:00<00:00, 244.12it/s]\n",
            "Epoch 58: train loss=0.003563317702932067, train accuracy=0.6417910447761194: 100%|██████████| 25/25 [00:00<00:00, 94.59it/s] \n",
            "Epoch 58: val loss=0.004073848038218742, val accuracy=0.5813953488372093: 100%|██████████| 3/3 [00:00<00:00, 246.57it/s]\n",
            "Epoch 59: train loss=0.0036505533359330786, train accuracy=0.6391953277092797: 100%|██████████| 25/25 [00:00<00:00, 100.58it/s]\n",
            "Epoch 59: val loss=0.004179370351309, val accuracy=0.5988372093023255: 100%|██████████| 3/3 [00:00<00:00, 248.78it/s]\n",
            "Epoch 60: train loss=0.003677602153873382, train accuracy=0.6391953277092797: 100%|██████████| 25/25 [00:00<00:00, 98.59it/s] \n",
            "Epoch 60: val loss=0.004113336288651755, val accuracy=0.5755813953488372: 100%|██████████| 3/3 [00:00<00:00, 271.46it/s]\n",
            "Epoch 61: train loss=0.003576303141446643, train accuracy=0.6262167423750811: 100%|██████████| 25/25 [00:00<00:00, 101.07it/s] \n",
            "Epoch 61: val loss=0.004114244046599366, val accuracy=0.5988372093023255: 100%|██████████| 3/3 [00:00<00:00, 207.34it/s]\n",
            "Epoch 62: train loss=0.00360289951913315, train accuracy=0.63659961064244: 100%|██████████| 25/25 [00:00<00:00, 100.70it/s]    \n",
            "Epoch 62: val loss=0.004123019184484039, val accuracy=0.5872093023255814: 100%|██████████| 3/3 [00:00<00:00, 271.44it/s]\n",
            "Epoch 63: train loss=0.003568540177973426, train accuracy=0.63659961064244: 100%|██████████| 25/25 [00:00<00:00, 104.56it/s]   \n",
            "Epoch 63: val loss=0.004100086384041365, val accuracy=0.5813953488372093: 100%|██████████| 3/3 [00:00<00:00, 275.08it/s]\n",
            "Epoch 64: train loss=0.0035731960414370338, train accuracy=0.6372485399091499: 100%|██████████| 25/25 [00:00<00:00, 102.54it/s]\n",
            "Epoch 64: val loss=0.004177285314992417, val accuracy=0.5755813953488372: 100%|██████████| 3/3 [00:00<00:00, 248.98it/s]\n",
            "Epoch 65: train loss=0.0035839995380193674, train accuracy=0.6378974691758599: 100%|██████████| 25/25 [00:00<00:00, 100.42it/s]\n",
            "Epoch 65: val loss=0.004129537229621133, val accuracy=0.5755813953488372: 100%|██████████| 3/3 [00:00<00:00, 225.41it/s]\n",
            "Epoch 66: train loss=0.0036444085457354378, train accuracy=0.6385463984425698: 100%|██████████| 25/25 [00:00<00:00, 100.11it/s]\n",
            "Epoch 66: val loss=0.004101934821106667, val accuracy=0.5872093023255814: 100%|██████████| 3/3 [00:00<00:00, 271.61it/s]\n",
            "Epoch 67: train loss=0.0035796352673628977, train accuracy=0.6288124594419209: 100%|██████████| 25/25 [00:00<00:00, 101.01it/s]\n",
            "Epoch 67: val loss=0.004102614296730174, val accuracy=0.5755813953488372: 100%|██████████| 3/3 [00:00<00:00, 247.67it/s]\n",
            "Epoch 68: train loss=0.0035900127222443616, train accuracy=0.6404931862426996: 100%|██████████| 25/25 [00:00<00:00, 102.43it/s]\n",
            "Epoch 68: val loss=0.004100669175386429, val accuracy=0.5755813953488372: 100%|██████████| 3/3 [00:00<00:00, 277.40it/s]\n",
            "Epoch 69: train loss=0.0035864567984860104, train accuracy=0.6320571057754705: 100%|██████████| 25/25 [00:00<00:00, 101.28it/s]\n",
            "Epoch 69: val loss=0.004108264349227728, val accuracy=0.5930232558139535: 100%|██████████| 3/3 [00:00<00:00, 299.02it/s]\n",
            "Epoch 70: train loss=0.00356613731979937, train accuracy=0.6437378325762492: 100%|██████████| 25/25 [00:00<00:00, 99.89it/s]   \n",
            "Epoch 70: val loss=0.004108163939658986, val accuracy=0.5872093023255814: 100%|██████████| 3/3 [00:00<00:00, 236.06it/s]\n",
            "Epoch 71: train loss=0.0036584489013683015, train accuracy=0.6443867618429591: 100%|██████████| 25/25 [00:00<00:00, 102.88it/s]\n",
            "Epoch 71: val loss=0.004098711665286575, val accuracy=0.5813953488372093: 100%|██████████| 3/3 [00:00<00:00, 232.17it/s]\n",
            "Epoch 72: train loss=0.0035574935149403843, train accuracy=0.6307592472420506: 100%|██████████| 25/25 [00:00<00:00, 98.51it/s]\n",
            "Epoch 72: val loss=0.004041384645672732, val accuracy=0.5755813953488372: 100%|██████████| 3/3 [00:00<00:00, 247.85it/s]\n",
            "Epoch 73: train loss=0.0036224105542236765, train accuracy=0.6424399740428294: 100%|██████████| 25/25 [00:00<00:00, 96.88it/s]\n",
            "Epoch 73: val loss=0.0040271500515383345, val accuracy=0.5697674418604651: 100%|██████████| 3/3 [00:00<00:00, 261.00it/s]\n",
            "Epoch 74: train loss=0.00357019575403388, train accuracy=0.6378974691758599: 100%|██████████| 25/25 [00:00<00:00, 102.52it/s]  \n",
            "Epoch 74: val loss=0.004133658180403155, val accuracy=0.5930232558139535: 100%|██████████| 3/3 [00:00<00:00, 203.54it/s]\n",
            "Epoch 75: train loss=0.0036011861660200464, train accuracy=0.6437378325762492: 100%|██████████| 25/25 [00:00<00:00, 103.66it/s]\n",
            "Epoch 75: val loss=0.004016757791125497, val accuracy=0.6046511627906976: 100%|██████████| 3/3 [00:00<00:00, 260.72it/s]\n",
            "Epoch 76: train loss=0.0035834148632559507, train accuracy=0.6378974691758599: 100%|██████████| 25/25 [00:00<00:00, 101.50it/s]\n",
            "Epoch 76: val loss=0.004123624587474868, val accuracy=0.5988372093023255: 100%|██████████| 3/3 [00:00<00:00, 237.77it/s]\n",
            "Epoch 77: train loss=0.0035622340181599493, train accuracy=0.6417910447761194: 100%|██████████| 25/25 [00:00<00:00, 99.98it/s] \n",
            "Epoch 77: val loss=0.004135750667300335, val accuracy=0.5988372093023255: 100%|██████████| 3/3 [00:00<00:00, 248.81it/s]\n",
            "Epoch 78: train loss=0.00365927345485056, train accuracy=0.6424399740428294: 100%|██████████| 25/25 [00:00<00:00, 101.53it/s]  \n",
            "Epoch 78: val loss=0.004117268549148427, val accuracy=0.5988372093023255: 100%|██████████| 3/3 [00:00<00:00, 271.99it/s]\n",
            "Epoch 79: train loss=0.0035800905602075776, train accuracy=0.6443867618429591: 100%|██████████| 25/25 [00:00<00:00, 101.78it/s]\n",
            "Epoch 79: val loss=0.0041697774688864864, val accuracy=0.5872093023255814: 100%|██████████| 3/3 [00:00<00:00, 248.91it/s]\n",
            "Epoch 80: train loss=0.003634350735749771, train accuracy=0.6346528228423102: 100%|██████████| 25/25 [00:00<00:00, 100.70it/s] \n",
            "Epoch 80: val loss=0.0041123164254565575, val accuracy=0.5813953488372093: 100%|██████████| 3/3 [00:00<00:00, 252.43it/s]\n",
            "Epoch 81: train loss=0.003556607219787637, train accuracy=0.6424399740428294: 100%|██████████| 25/25 [00:00<00:00, 98.10it/s] \n",
            "Epoch 81: val loss=0.004100853187400241, val accuracy=0.5697674418604651: 100%|██████████| 3/3 [00:00<00:00, 249.03it/s]\n",
            "Epoch 82: train loss=0.003513878444662967, train accuracy=0.6417910447761194: 100%|██████████| 25/25 [00:00<00:00, 93.41it/s] \n",
            "Epoch 82: val loss=0.004092475096153659, val accuracy=0.5872093023255814: 100%|██████████| 3/3 [00:00<00:00, 246.52it/s]\n",
            "Epoch 83: train loss=0.0036044773790141656, train accuracy=0.6430889033095393: 100%|██████████| 25/25 [00:00<00:00, 93.98it/s]\n",
            "Epoch 83: val loss=0.0040784446132737535, val accuracy=0.5697674418604651: 100%|██████████| 3/3 [00:00<00:00, 272.16it/s]\n",
            "Epoch 84: train loss=0.003686705158176088, train accuracy=0.6314081765087606: 100%|██████████| 25/25 [00:00<00:00, 100.65it/s] \n",
            "Epoch 84: val loss=0.004177314770776172, val accuracy=0.5697674418604651: 100%|██████████| 3/3 [00:00<00:00, 248.98it/s]\n",
            "Epoch 85: train loss=0.0036882452091406416, train accuracy=0.6463335496430889: 100%|██████████| 25/25 [00:00<00:00, 102.82it/s]\n",
            "Epoch 85: val loss=0.004036925299916156, val accuracy=0.5813953488372093: 100%|██████████| 3/3 [00:00<00:00, 258.74it/s]\n",
            "Epoch 86: train loss=0.003552080303101784, train accuracy=0.6398442569759896: 100%|██████████| 25/25 [00:00<00:00, 103.79it/s] \n",
            "Epoch 86: val loss=0.0041613715679146525, val accuracy=0.5930232558139535: 100%|██████████| 3/3 [00:00<00:00, 249.26it/s]\n",
            "Epoch 87: train loss=0.0036361709691579277, train accuracy=0.6327060350421804: 100%|██████████| 25/25 [00:00<00:00, 101.74it/s]\n",
            "Epoch 87: val loss=0.004121021995710772, val accuracy=0.5697674418604651: 100%|██████████| 3/3 [00:00<00:00, 255.03it/s]\n",
            "Epoch 88: train loss=0.0035555663722277773, train accuracy=0.6378974691758599: 100%|██████████| 25/25 [00:00<00:00, 94.48it/s]\n",
            "Epoch 88: val loss=0.004096621864063795, val accuracy=0.5697674418604651: 100%|██████████| 3/3 [00:00<00:00, 260.37it/s]\n",
            "Epoch 89: train loss=0.003571536230004352, train accuracy=0.6437378325762492: 100%|██████████| 25/25 [00:00<00:00, 101.13it/s] \n",
            "Epoch 89: val loss=0.004142723890931108, val accuracy=0.5872093023255814: 100%|██████████| 3/3 [00:00<00:00, 259.34it/s]\n",
            "Epoch 90: train loss=0.0035631358430108645, train accuracy=0.6359506813757301: 100%|██████████| 25/25 [00:00<00:00, 101.98it/s]\n",
            "Epoch 90: val loss=0.0041223127654818606, val accuracy=0.5813953488372093: 100%|██████████| 3/3 [00:00<00:00, 239.75it/s]\n",
            "Epoch 91: train loss=0.003626017331458159, train accuracy=0.6327060350421804: 100%|██████████| 25/25 [00:00<00:00, 94.62it/s] \n",
            "Epoch 91: val loss=0.004050551978654639, val accuracy=0.5581395348837209: 100%|██████████| 3/3 [00:00<00:00, 257.89it/s]\n",
            "Epoch 92: train loss=0.003688848643315295, train accuracy=0.6404931862426996: 100%|██████████| 25/25 [00:00<00:00, 102.78it/s] \n",
            "Epoch 92: val loss=0.004107699058083601, val accuracy=0.5872093023255814: 100%|██████████| 3/3 [00:00<00:00, 269.40it/s]\n",
            "Epoch 93: train loss=0.0035969855083729215, train accuracy=0.6398442569759896: 100%|██████████| 25/25 [00:00<00:00, 102.50it/s]\n",
            "Epoch 93: val loss=0.004064304970724638, val accuracy=0.5697674418604651: 100%|██████████| 3/3 [00:00<00:00, 258.96it/s]\n",
            "Epoch 94: train loss=0.0035971893477486296, train accuracy=0.6372485399091499: 100%|██████████| 25/25 [00:00<00:00, 103.87it/s]\n",
            "Epoch 94: val loss=0.004145825844864512, val accuracy=0.5755813953488372: 100%|██████████| 3/3 [00:00<00:00, 283.94it/s]\n",
            "Epoch 95: train loss=0.003535754780425877, train accuracy=0.6430889033095393: 100%|██████████| 25/25 [00:00<00:00, 102.15it/s] \n",
            "Epoch 95: val loss=0.00427803440495979, val accuracy=0.5872093023255814: 100%|██████████| 3/3 [00:00<00:00, 221.42it/s]\n",
            "Epoch 96: train loss=0.003584061047614665, train accuracy=0.6463335496430889: 100%|██████████| 25/25 [00:00<00:00, 101.09it/s] \n",
            "Epoch 96: val loss=0.004159606473390446, val accuracy=0.5872093023255814: 100%|██████████| 3/3 [00:00<00:00, 271.62it/s]\n",
            "Epoch 97: train loss=0.00355437548805722, train accuracy=0.6502271252433485: 100%|██████████| 25/25 [00:00<00:00, 102.17it/s]  \n",
            "Epoch 97: val loss=0.004127587603275166, val accuracy=0.5872093023255814: 100%|██████████| 3/3 [00:00<00:00, 248.56it/s]\n",
            "Epoch 98: train loss=0.0036459059142045277, train accuracy=0.6340038935756003: 100%|██████████| 25/25 [00:00<00:00, 99.09it/s]\n",
            "Epoch 98: val loss=0.004125195966903554, val accuracy=0.5755813953488372: 100%|██████████| 3/3 [00:00<00:00, 244.27it/s]\n",
            "Epoch 99: train loss=0.0036378531178277006, train accuracy=0.6320571057754705: 100%|██████████| 25/25 [00:00<00:00, 102.58it/s]\n",
            "Epoch 99: val loss=0.004261968700691711, val accuracy=0.5872093023255814: 100%|██████████| 3/3 [00:00<00:00, 229.65it/s]\n"
          ]
        }
      ],
      "source": [
        "mlp_models = random_forst_models.copy()\n",
        "lr = 1e-4\n",
        "num_epochs = 100\n",
        "torch.manual_seed(SEED)\n",
        "\n",
        "for ds_name in mlp_models:\n",
        "    net = nn.Sequential(\n",
        "        nn.Linear(dataset[ds_name]['X_train'].shape[1], 64),\n",
        "        nn.Tanh(),\n",
        "        nn.BatchNorm1d(64),\n",
        "        nn.Linear(64, 32),\n",
        "        nn.Tanh(),\n",
        "        nn.BatchNorm1d(32),\n",
        "        nn.Linear(32, 32),\n",
        "        nn.Tanh(),\n",
        "        nn.BatchNorm1d(32),\n",
        "        nn.Linear(32, 16),\n",
        "        nn.Tanh(),\n",
        "        nn.BatchNorm1d(16),\n",
        "        nn.Linear(16, 1),\n",
        "        nn.Sigmoid()\n",
        "    )\n",
        "    net = net.to(device)\n",
        "    optimizer = Adam(net.parameters(), lr=lr)\n",
        "    criterion = nn.MSELoss()\n",
        "    train_dl = dataloaders[ds_name]['train']\n",
        "    val_dl = dataloaders[ds_name]['val']\n",
        "    test_dl = dataloaders[ds_name]['test']\n",
        "\n",
        "    return_vals = train(net, criterion, optimizer, train_dl, val_dl, num_epochs)\n",
        "    train_losses, val_losses, train_accs, val_accs, best_model = return_vals\n",
        "    mlp_models[ds_name] = {\n",
        "        'model': best_model,\n",
        "        'train_losses': train_losses,\n",
        "        'val_losses': val_losses,\n",
        "        'train_accs': train_accs,\n",
        "        'val_accs': val_accs\n",
        "    }"
      ]
    },
    {
      "cell_type": "code",
      "execution_count": 152,
      "id": "hFjQ3KUhUqk4",
      "metadata": {
        "id": "hFjQ3KUhUqk4"
      },
      "outputs": [
        {
          "name": "stdout",
          "output_type": "stream",
          "text": [
            "mlp accuracy on clinical dataset had accuracy of 0.7173\n",
            "mlp accuracy on gene_expr dataset had accuracy of 0.5969\n",
            "mlp accuracy on gene_expr_reduced dataset had accuracy of 0.6440\n"
          ]
        }
      ],
      "source": [
        "for ds_name in mlp_models:\n",
        "    # test\n",
        "    best_model = mlp_models[ds_name]['model']\n",
        "    test_dl = dataloaders[ds_name]['test']\n",
        "    acc, confusion = evaluate(best_model, test_dl)\n",
        "    mlp_models[ds_name]['accuracy'] = acc\n",
        "    mlp_models[ds_name]['confusion'] = confusion\n",
        "    print(f'mlp accuracy on {ds_name} dataset had accuracy of {acc:.4f}')"
      ]
    },
    {
      "cell_type": "code",
      "execution_count": 153,
      "id": "eedc24e3",
      "metadata": {},
      "outputs": [
        {
          "data": {
            "image/png": "[encoded data removed]",
            "text/plain": [
              "<Figure size 432x288 with 2 Axes>"
            ]
          },
          "metadata": {
            "needs_background": "light"
          },
          "output_type": "display_data"
        }
      ],
      "source": [
        "labels=mlp_models['clinical']['confusion']\n",
        "sns.heatmap(mlp_models['clinical']['confusion'],annot=labels)\n",
        "plt.show()"
      ]
    },
    {
      "cell_type": "code",
      "execution_count": 154,
      "id": "1d56867f",
      "metadata": {},
      "outputs": [
        {
          "name": "stdout",
          "output_type": "stream",
          "text": [
            "0.37349397590361444\n",
            "0.47692307692307695\n",
            "0.6595744680851063\n"
          ]
        }
      ],
      "source": [
        "conf = mlp_models['gene_expr_reduced']['confusion']\n",
        "print(recall(conf))\n",
        "print(f1_score(conf))\n",
        "print(precision(conf))"
      ]
    },
    {
      "cell_type": "code",
      "execution_count": 155,
      "id": "f43ca6c8",
      "metadata": {},
      "outputs": [
        {
          "data": {
            "image/png": "[encoded data removed]",
            "text/plain": [
              "<Figure size 432x288 with 1 Axes>"
            ]
          },
          "metadata": {
            "needs_background": "light"
          },
          "output_type": "display_data"
        },
        {
          "data": {
            "image/png": "[encoded data removed]",
            "text/plain": [
              "<Figure size 432x288 with 1 Axes>"
            ]
          },
          "metadata": {
            "needs_background": "light"
          },
          "output_type": "display_data"
        },
        {
          "data": {
            "image/png": "[encoded data removed]",
            "text/plain": [
              "<Figure size 432x288 with 1 Axes>"
            ]
          },
          "metadata": {
            "needs_background": "light"
          },
          "output_type": "display_data"
        },
        {
          "data": {
            "image/png": "[encoded data removed]",
            "text/plain": [
              "<Figure size 432x288 with 1 Axes>"
            ]
          },
          "metadata": {
            "needs_background": "light"
          },
          "output_type": "display_data"
        },
        {
          "data": {
            "image/png": "[encoded data removed]",
            "text/plain": [
              "<Figure size 432x288 with 1 Axes>"
            ]
          },
          "metadata": {
            "needs_background": "light"
          },
          "output_type": "display_data"
        },
        {
          "data": {
            "image/png": "[encoded data removed]",
            "text/plain": [
              "<Figure size 432x288 with 1 Axes>"
            ]
          },
          "metadata": {
            "needs_background": "light"
          },
          "output_type": "display_data"
        }
      ],
      "source": [
        "#plot the loss and accuracy curves for all ds_names in mlp_models\n",
        "for ds_name in mlp_models:\n",
        "    plt.plot(mlp_models[ds_name]['train_losses'], label='train loss')\n",
        "    plt.plot(mlp_models[ds_name]['val_losses'], label='val loss')\n",
        "    plt.title(f'{ds_name} loss')\n",
        "    plt.legend()\n",
        "    plt.show()\n",
        "\n",
        "    plt.plot(mlp_models[ds_name]['train_accs'], label='train acc')\n",
        "    plt.plot(mlp_models[ds_name]['val_accs'], label='val acc')\n",
        "    plt.title(f'{ds_name} accuracy')\n",
        "    plt.legend()\n",
        "    plt.show()"
      ]
    },
    {
      "cell_type": "markdown",
      "id": "56877dc4",
      "metadata": {
        "id": "56877dc4"
      },
      "source": [
        "# Model Comparison (10 Points)"
      ]
    },
    {
      "cell_type": "markdown",
      "id": "509fe56a",
      "metadata": {
        "id": "509fe56a"
      },
      "source": [
        "Compare different models and different datasets (clinical, gene expressions, and gene reduced expressions) and try to explain their differences."
      ]
    },
    {
      "cell_type": "markdown",
      "id": "c2f05a73",
      "metadata": {
        "id": "c2f05a73"
      },
      "source": [
        "#### \\# TODO"
      ]
    }
  ],
  "metadata": {
    "colab": {
      "provenance": []
    },
    "kernelspec": {
      "display_name": "Python 3",
      "language": "python",
      "name": "python3"
    },
    "language_info": {
      "codemirror_mode": {
        "name": "ipython",
        "version": 3
      },
      "file_extension": ".py",
      "mimetype": "text/x-python",
      "name": "python",
      "nbconvert_exporter": "python",
      "pygments_lexer": "ipython3",
      "version": "3.10.2"
    },
    "toc": {
      "base_numbering": 1,
      "nav_menu": {},
      "number_sections": true,
      "sideBar": true,
      "skip_h1_title": false,
      "title_cell": "Table of Contents",
      "title_sidebar": "Contents",
      "toc_cell": false,
      "toc_position": {},
      "toc_section_display": true,
      "toc_window_display": false
    },
    "varInspector": {
      "cols": {
        "lenName": 16,
        "lenType": 16,
        "lenVar": 40
      },
      "kernels_config": {
        "python": {
          "delete_cmd_postfix": "",
          "delete_cmd_prefix": "del ",
          "library": "var_list.py",
          "varRefreshCmd": "print(var_dic_list())"
        },
        "r": {
          "delete_cmd_postfix": ") ",
          "delete_cmd_prefix": "rm(",
          "library": "var_list.r",
          "varRefreshCmd": "cat(var_dic_list()) "
        }
      },
      "types_to_exclude": [
        "module",
        "function",
        "builtin_function_or_method",
        "instance",
        "_Feature"
      ],
      "window_display": false
    },
    "vscode": {
      "interpreter": {
        "hash": "2b61712f8de5c4255c7ccdac8e80a2f17f4378d0d837f4a77cc18a4caa97a5d5"
      }
    }
  },
  "nbformat": 4,
  "nbformat_minor": 5
}
