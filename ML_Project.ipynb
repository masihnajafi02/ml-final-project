{
  "cells": [
    {
      "cell_type": "markdown",
      "id": "5902c1f3",
      "metadata": {
        "id": "5902c1f3"
      },
      "source": [
        "<img src='http://www-scf.usc.edu/~ghasemig/images/sharif.png' alt=\"SUT logo\" width=200 height=200 align=left class=\"saturate\" >\n",
        "\n",
        "<br>\n",
        "<font face=\"Times New Roman\">\n",
        "<div dir=ltr align=center>\n",
        "<font color=0F5298 size=7>\n",
        "    Introduction to Machine Learning <br>\n",
        "<font color=2565AE size=5>\n",
        "    Computer Engineering Department <br>\n",
        "    Fall 2022<br>\n",
        "<font color=3C99D size=5>\n",
        "    Project <br>\n",
        "<font color=696880 size=4>\n",
        "    Project Team \n",
        "    \n",
        "    \n",
        "____\n"
      ]
    },
    {
      "cell_type": "markdown",
      "id": "5e85f16a",
      "metadata": {
        "id": "5e85f16a"
      },
      "source": [
        "### Full Name : Mohammad Bagher Soltani, Masih Najafi\n",
        "### Student Number : 98105813, ?\n",
        "___"
      ]
    },
    {
      "cell_type": "markdown",
      "id": "40df5e74",
      "metadata": {
        "id": "40df5e74"
      },
      "source": [
        "# Introduction"
      ]
    },
    {
      "cell_type": "markdown",
      "id": "5a627177",
      "metadata": {
        "id": "5a627177"
      },
      "source": [
        "In this project, we are going to have a brief and elementary hands-on real-world project, predicting breast cancer survival using machine learning models with clinical data and gene expression profiles."
      ]
    },
    {
      "cell_type": "code",
      "execution_count": 1,
      "id": "2970285a",
      "metadata": {
        "id": "2970285a"
      },
      "outputs": [
        {
          "name": "stderr",
          "output_type": "stream",
          "text": [
            "/media/soltani/sdb3/Documents/University/Term7/ML/Project/Practical/ml-final-project/venv/lib/python3.9/site-packages/tqdm/auto.py:22: TqdmWarning: IProgress not found. Please update jupyter and ipywidgets. See https://ipywidgets.readthedocs.io/en/stable/user_install.html\n",
            "  from .autonotebook import tqdm as notebook_tqdm\n"
          ]
        }
      ],
      "source": [
        "# imports\n",
        "import numpy as np\n",
        "import pandas as pd\n",
        "from sklearn.preprocessing import OrdinalEncoder, StandardScaler\n",
        "from sklearn.decomposition import PCA\n",
        "from sklearn.linear_model import LinearRegression\n",
        "from sklearn.impute import SimpleImputer\n",
        "import umap\n",
        "import matplotlib.pyplot as plt\n",
        "import seaborn as sns\n",
        "from sklearn.metrics import accuracy_score\n",
        "from sklearn.model_selection import train_test_split\n",
        "from sklearn.ensemble import RandomForestClassifier\n",
        "from sklearn.svm import SVC\n",
        "import torch\n",
        "import torch.nn as nn\n",
        "from torch.utils.data import Dataset, DataLoader\n",
        "from tqdm.std import tqdm\n",
        "from torch.optim import Adam\n",
        "from copy import deepcopy"
      ]
    },
    {
      "cell_type": "code",
      "execution_count": 2,
      "id": "88e8d521",
      "metadata": {
        "id": "88e8d521"
      },
      "outputs": [],
      "source": [
        "np.random.seed(42)"
      ]
    },
    {
      "cell_type": "markdown",
      "id": "b1e52cbc",
      "metadata": {
        "id": "b1e52cbc"
      },
      "source": [
        "# Data Documentation"
      ]
    },
    {
      "cell_type": "markdown",
      "id": "254cb90f",
      "metadata": {
        "ExecuteTime": {
          "end_time": "2023-01-29T19:31:29.604891Z",
          "start_time": "2023-01-29T19:31:29.601061Z"
        },
        "id": "254cb90f"
      },
      "source": [
        "For this purpose, we will use \"Breast Cancer Gene Expression Profiles (METABRIC)\" data. \n",
        "The first 31 columns of data contain clinical information including death status.\n",
        "The next columns of the data contain gene's related information which includes both gene expressions and mutation information. (gene's mutation info columns have been marked with \"_mut\" at the end of the names of the columns) \n",
        "For more information please read the [data documentation](https://www.kaggle.com/datasets/raghadalharbi/breast-cancer-gene-expression-profiles-metabric)."
      ]
    },
    {
      "cell_type": "markdown",
      "id": "9cef1d4a",
      "metadata": {
        "id": "9cef1d4a"
      },
      "source": [
        "# Data Preparation (15 Points)"
      ]
    },
    {
      "cell_type": "markdown",
      "id": "f3240d5d",
      "metadata": {
        "id": "f3240d5d"
      },
      "source": [
        "In this section you must first split data into three datasets:\n",
        "<br>\n",
        "1- clinical dataset\n",
        "<br>\n",
        "2- gene expressions dataset\n",
        "<br>\n",
        "3- gene mutation dataset. (We will not use this dataset in further steps of the project)"
      ]
    },
    {
      "cell_type": "markdown",
      "id": "cc42f2b1",
      "metadata": {
        "id": "cc42f2b1"
      },
      "source": [
        "## Data Loading & Splitting"
      ]
    },
    {
      "cell_type": "code",
      "execution_count": 3,
      "id": "463b243b",
      "metadata": {
        "colab": {
          "base_uri": "https://localhost:8080/",
          "height": 404
        },
        "id": "463b243b",
        "outputId": "0a9a21cf-8dbf-4860-e2c6-8b47d54c516c"
      },
      "outputs": [
        {
          "data": {
            "text/html": [
              "<div>\n",
              "<style scoped>\n",
              "    .dataframe tbody tr th:only-of-type {\n",
              "        vertical-align: middle;\n",
              "    }\n",
              "\n",
              "    .dataframe tbody tr th {\n",
              "        vertical-align: top;\n",
              "    }\n",
              "\n",
              "    .dataframe thead th {\n",
              "        text-align: right;\n",
              "    }\n",
              "</style>\n",
              "<table border=\"1\" class=\"dataframe\">\n",
              "  <thead>\n",
              "    <tr style=\"text-align: right;\">\n",
              "      <th></th>\n",
              "      <th>patient_id</th>\n",
              "      <th>age_at_diagnosis</th>\n",
              "      <th>type_of_breast_surgery</th>\n",
              "      <th>cancer_type</th>\n",
              "      <th>cancer_type_detailed</th>\n",
              "      <th>cellularity</th>\n",
              "      <th>chemotherapy</th>\n",
              "      <th>pam50_+_claudin-low_subtype</th>\n",
              "      <th>cohort</th>\n",
              "      <th>er_status_measured_by_ihc</th>\n",
              "      <th>...</th>\n",
              "      <th>mtap_mut</th>\n",
              "      <th>ppp2cb_mut</th>\n",
              "      <th>smarcd1_mut</th>\n",
              "      <th>nras_mut</th>\n",
              "      <th>ndfip1_mut</th>\n",
              "      <th>hras_mut</th>\n",
              "      <th>prps2_mut</th>\n",
              "      <th>smarcb1_mut</th>\n",
              "      <th>stmn2_mut</th>\n",
              "      <th>siah1_mut</th>\n",
              "    </tr>\n",
              "  </thead>\n",
              "  <tbody>\n",
              "    <tr>\n",
              "      <th>0</th>\n",
              "      <td>0</td>\n",
              "      <td>75.65</td>\n",
              "      <td>MASTECTOMY</td>\n",
              "      <td>Breast Cancer</td>\n",
              "      <td>Breast Invasive Ductal Carcinoma</td>\n",
              "      <td>NaN</td>\n",
              "      <td>0</td>\n",
              "      <td>claudin-low</td>\n",
              "      <td>1.0</td>\n",
              "      <td>Positve</td>\n",
              "      <td>...</td>\n",
              "      <td>0</td>\n",
              "      <td>0</td>\n",
              "      <td>0</td>\n",
              "      <td>0</td>\n",
              "      <td>0</td>\n",
              "      <td>0</td>\n",
              "      <td>0</td>\n",
              "      <td>0</td>\n",
              "      <td>0</td>\n",
              "      <td>0</td>\n",
              "    </tr>\n",
              "    <tr>\n",
              "      <th>1</th>\n",
              "      <td>2</td>\n",
              "      <td>43.19</td>\n",
              "      <td>BREAST CONSERVING</td>\n",
              "      <td>Breast Cancer</td>\n",
              "      <td>Breast Invasive Ductal Carcinoma</td>\n",
              "      <td>High</td>\n",
              "      <td>0</td>\n",
              "      <td>LumA</td>\n",
              "      <td>1.0</td>\n",
              "      <td>Positve</td>\n",
              "      <td>...</td>\n",
              "      <td>0</td>\n",
              "      <td>0</td>\n",
              "      <td>0</td>\n",
              "      <td>0</td>\n",
              "      <td>0</td>\n",
              "      <td>0</td>\n",
              "      <td>0</td>\n",
              "      <td>0</td>\n",
              "      <td>0</td>\n",
              "      <td>0</td>\n",
              "    </tr>\n",
              "    <tr>\n",
              "      <th>2</th>\n",
              "      <td>5</td>\n",
              "      <td>48.87</td>\n",
              "      <td>MASTECTOMY</td>\n",
              "      <td>Breast Cancer</td>\n",
              "      <td>Breast Invasive Ductal Carcinoma</td>\n",
              "      <td>High</td>\n",
              "      <td>1</td>\n",
              "      <td>LumB</td>\n",
              "      <td>1.0</td>\n",
              "      <td>Positve</td>\n",
              "      <td>...</td>\n",
              "      <td>0</td>\n",
              "      <td>0</td>\n",
              "      <td>0</td>\n",
              "      <td>0</td>\n",
              "      <td>0</td>\n",
              "      <td>0</td>\n",
              "      <td>0</td>\n",
              "      <td>0</td>\n",
              "      <td>0</td>\n",
              "      <td>0</td>\n",
              "    </tr>\n",
              "    <tr>\n",
              "      <th>3</th>\n",
              "      <td>6</td>\n",
              "      <td>47.68</td>\n",
              "      <td>MASTECTOMY</td>\n",
              "      <td>Breast Cancer</td>\n",
              "      <td>Breast Mixed Ductal and Lobular Carcinoma</td>\n",
              "      <td>Moderate</td>\n",
              "      <td>1</td>\n",
              "      <td>LumB</td>\n",
              "      <td>1.0</td>\n",
              "      <td>Positve</td>\n",
              "      <td>...</td>\n",
              "      <td>0</td>\n",
              "      <td>0</td>\n",
              "      <td>0</td>\n",
              "      <td>0</td>\n",
              "      <td>0</td>\n",
              "      <td>0</td>\n",
              "      <td>0</td>\n",
              "      <td>0</td>\n",
              "      <td>0</td>\n",
              "      <td>0</td>\n",
              "    </tr>\n",
              "    <tr>\n",
              "      <th>4</th>\n",
              "      <td>8</td>\n",
              "      <td>76.97</td>\n",
              "      <td>MASTECTOMY</td>\n",
              "      <td>Breast Cancer</td>\n",
              "      <td>Breast Mixed Ductal and Lobular Carcinoma</td>\n",
              "      <td>High</td>\n",
              "      <td>1</td>\n",
              "      <td>LumB</td>\n",
              "      <td>1.0</td>\n",
              "      <td>Positve</td>\n",
              "      <td>...</td>\n",
              "      <td>0</td>\n",
              "      <td>0</td>\n",
              "      <td>0</td>\n",
              "      <td>0</td>\n",
              "      <td>0</td>\n",
              "      <td>0</td>\n",
              "      <td>0</td>\n",
              "      <td>0</td>\n",
              "      <td>0</td>\n",
              "      <td>0</td>\n",
              "    </tr>\n",
              "  </tbody>\n",
              "</table>\n",
              "<p>5 rows × 693 columns</p>\n",
              "</div>"
            ],
            "text/plain": [
              "   patient_id  age_at_diagnosis type_of_breast_surgery    cancer_type  \\\n",
              "0           0             75.65             MASTECTOMY  Breast Cancer   \n",
              "1           2             43.19      BREAST CONSERVING  Breast Cancer   \n",
              "2           5             48.87             MASTECTOMY  Breast Cancer   \n",
              "3           6             47.68             MASTECTOMY  Breast Cancer   \n",
              "4           8             76.97             MASTECTOMY  Breast Cancer   \n",
              "\n",
              "                        cancer_type_detailed cellularity  chemotherapy  \\\n",
              "0           Breast Invasive Ductal Carcinoma         NaN             0   \n",
              "1           Breast Invasive Ductal Carcinoma        High             0   \n",
              "2           Breast Invasive Ductal Carcinoma        High             1   \n",
              "3  Breast Mixed Ductal and Lobular Carcinoma    Moderate             1   \n",
              "4  Breast Mixed Ductal and Lobular Carcinoma        High             1   \n",
              "\n",
              "  pam50_+_claudin-low_subtype  cohort er_status_measured_by_ihc  ... mtap_mut  \\\n",
              "0                 claudin-low     1.0                   Positve  ...        0   \n",
              "1                        LumA     1.0                   Positve  ...        0   \n",
              "2                        LumB     1.0                   Positve  ...        0   \n",
              "3                        LumB     1.0                   Positve  ...        0   \n",
              "4                        LumB     1.0                   Positve  ...        0   \n",
              "\n",
              "   ppp2cb_mut smarcd1_mut nras_mut ndfip1_mut  hras_mut prps2_mut smarcb1_mut  \\\n",
              "0           0           0        0          0         0         0           0   \n",
              "1           0           0        0          0         0         0           0   \n",
              "2           0           0        0          0         0         0           0   \n",
              "3           0           0        0          0         0         0           0   \n",
              "4           0           0        0          0         0         0           0   \n",
              "\n",
              "  stmn2_mut  siah1_mut  \n",
              "0         0          0  \n",
              "1         0          0  \n",
              "2         0          0  \n",
              "3         0          0  \n",
              "4         0          0  \n",
              "\n",
              "[5 rows x 693 columns]"
            ]
          },
          "execution_count": 3,
          "metadata": {},
          "output_type": "execute_result"
        }
      ],
      "source": [
        "# TODO\n",
        "df = pd.read_csv('METABRIC_RNA_Mutation.csv', low_memory=False)\n",
        "df.head(5)"
      ]
    },
    {
      "cell_type": "code",
      "execution_count": 4,
      "id": "3468645e",
      "metadata": {
        "colab": {
          "base_uri": "https://localhost:8080/"
        },
        "id": "3468645e",
        "outputId": "eefa0c60-d8b3-454d-f1a5-fa9d1ba16e40"
      },
      "outputs": [
        {
          "name": "stdout",
          "output_type": "stream",
          "text": [
            "Number of clinical columns 31\n",
            "Number of gene expression columns 489\n",
            "Number of gene mutation columns 173\n"
          ]
        }
      ],
      "source": [
        "# Get column names for clinical, gene expression and gene mutation datasets\n",
        "\n",
        "columns = df.columns\n",
        "clinical_columns = columns[:31]\n",
        "clinical_data_columns = df.columns[:24].append(df.columns[25:30])\n",
        "label_column = columns[24]\n",
        "gene_columns = columns[31:]\n",
        "gene_mut_columns = pd.Index(filter(lambda s: s.endswith('_mut'),columns))\n",
        "gene_expr_columns = pd.Index(set(gene_columns) - set(gene_mut_columns))\n",
        "\n",
        "print(f'Number of clinical columns {len(clinical_columns)}')\n",
        "print(f'Number of gene expression columns {len(gene_expr_columns)}')\n",
        "print(f'Number of gene mutation columns {len(gene_mut_columns)}')"
      ]
    },
    {
      "cell_type": "code",
      "execution_count": 5,
      "id": "7c9ea55a",
      "metadata": {
        "id": "7c9ea55a"
      },
      "outputs": [],
      "source": [
        "clinical_dataset = df[clinical_columns]\n",
        "gene_expr_dataset = df[gene_expr_columns]\n",
        "gene_mut_dataset = df[gene_mut_columns]"
      ]
    },
    {
      "cell_type": "markdown",
      "id": "aebfdb6b",
      "metadata": {
        "id": "aebfdb6b"
      },
      "source": [
        "## EDA"
      ]
    },
    {
      "cell_type": "markdown",
      "id": "e87d59d7",
      "metadata": {
        "id": "e87d59d7"
      },
      "source": [
        "For each dataset, you must perform a sufficient EDA."
      ]
    },
    {
      "cell_type": "code",
      "execution_count": 6,
      "id": "d3815455",
      "metadata": {
        "colab": {
          "base_uri": "https://localhost:8080/"
        },
        "id": "d3815455",
        "outputId": "d5469703-3858-4721-9bd3-8440d1c14727"
      },
      "outputs": [
        {
          "name": "stdout",
          "output_type": "stream",
          "text": [
            "<class 'pandas.core.frame.DataFrame'>\n",
            "RangeIndex: 1904 entries, 0 to 1903\n",
            "Data columns (total 31 columns):\n",
            " #   Column                          Non-Null Count  Dtype  \n",
            "---  ------                          --------------  -----  \n",
            " 0   patient_id                      1904 non-null   int64  \n",
            " 1   age_at_diagnosis                1904 non-null   float64\n",
            " 2   type_of_breast_surgery          1882 non-null   object \n",
            " 3   cancer_type                     1904 non-null   object \n",
            " 4   cancer_type_detailed            1889 non-null   object \n",
            " 5   cellularity                     1850 non-null   object \n",
            " 6   chemotherapy                    1904 non-null   int64  \n",
            " 7   pam50_+_claudin-low_subtype     1904 non-null   object \n",
            " 8   cohort                          1904 non-null   float64\n",
            " 9   er_status_measured_by_ihc       1874 non-null   object \n",
            " 10  er_status                       1904 non-null   object \n",
            " 11  neoplasm_histologic_grade       1832 non-null   float64\n",
            " 12  her2_status_measured_by_snp6    1904 non-null   object \n",
            " 13  her2_status                     1904 non-null   object \n",
            " 14  tumor_other_histologic_subtype  1889 non-null   object \n",
            " 15  hormone_therapy                 1904 non-null   int64  \n",
            " 16  inferred_menopausal_state       1904 non-null   object \n",
            " 17  integrative_cluster             1904 non-null   object \n",
            " 18  primary_tumor_laterality        1798 non-null   object \n",
            " 19  lymph_nodes_examined_positive   1904 non-null   float64\n",
            " 20  mutation_count                  1859 non-null   float64\n",
            " 21  nottingham_prognostic_index     1904 non-null   float64\n",
            " 22  oncotree_code                   1889 non-null   object \n",
            " 23  overall_survival_months         1904 non-null   float64\n",
            " 24  overall_survival                1904 non-null   int64  \n",
            " 25  pr_status                       1904 non-null   object \n",
            " 26  radio_therapy                   1904 non-null   int64  \n",
            " 27  3-gene_classifier_subtype       1700 non-null   object \n",
            " 28  tumor_size                      1884 non-null   float64\n",
            " 29  tumor_stage                     1403 non-null   float64\n",
            " 30  death_from_cancer               1903 non-null   object \n",
            "dtypes: float64(9), int64(5), object(17)\n",
            "memory usage: 461.2+ KB\n"
          ]
        }
      ],
      "source": [
        "clinical_dataset.info()"
      ]
    },
    {
      "cell_type": "code",
      "execution_count": 7,
      "id": "1f838902",
      "metadata": {
        "colab": {
          "base_uri": "https://localhost:8080/",
          "height": 364
        },
        "id": "1f838902",
        "outputId": "27089416-58f1-4075-9e5a-f024a86654b7"
      },
      "outputs": [
        {
          "data": {
            "text/html": [
              "<div>\n",
              "<style scoped>\n",
              "    .dataframe tbody tr th:only-of-type {\n",
              "        vertical-align: middle;\n",
              "    }\n",
              "\n",
              "    .dataframe tbody tr th {\n",
              "        vertical-align: top;\n",
              "    }\n",
              "\n",
              "    .dataframe thead th {\n",
              "        text-align: right;\n",
              "    }\n",
              "</style>\n",
              "<table border=\"1\" class=\"dataframe\">\n",
              "  <thead>\n",
              "    <tr style=\"text-align: right;\">\n",
              "      <th></th>\n",
              "      <th>patient_id</th>\n",
              "      <th>age_at_diagnosis</th>\n",
              "      <th>chemotherapy</th>\n",
              "      <th>cohort</th>\n",
              "      <th>neoplasm_histologic_grade</th>\n",
              "      <th>hormone_therapy</th>\n",
              "      <th>lymph_nodes_examined_positive</th>\n",
              "      <th>mutation_count</th>\n",
              "      <th>nottingham_prognostic_index</th>\n",
              "      <th>overall_survival_months</th>\n",
              "      <th>overall_survival</th>\n",
              "      <th>radio_therapy</th>\n",
              "      <th>tumor_size</th>\n",
              "      <th>tumor_stage</th>\n",
              "    </tr>\n",
              "  </thead>\n",
              "  <tbody>\n",
              "    <tr>\n",
              "      <th>count</th>\n",
              "      <td>1904.000000</td>\n",
              "      <td>1904.000000</td>\n",
              "      <td>1904.000000</td>\n",
              "      <td>1904.000000</td>\n",
              "      <td>1832.000000</td>\n",
              "      <td>1904.000000</td>\n",
              "      <td>1904.000000</td>\n",
              "      <td>1859.000000</td>\n",
              "      <td>1904.000000</td>\n",
              "      <td>1904.000000</td>\n",
              "      <td>1904.000000</td>\n",
              "      <td>1904.000000</td>\n",
              "      <td>1884.000000</td>\n",
              "      <td>1403.000000</td>\n",
              "    </tr>\n",
              "    <tr>\n",
              "      <th>mean</th>\n",
              "      <td>3921.982143</td>\n",
              "      <td>61.087054</td>\n",
              "      <td>0.207983</td>\n",
              "      <td>2.643908</td>\n",
              "      <td>2.415939</td>\n",
              "      <td>0.616597</td>\n",
              "      <td>2.002101</td>\n",
              "      <td>5.697687</td>\n",
              "      <td>4.033019</td>\n",
              "      <td>125.121324</td>\n",
              "      <td>0.420693</td>\n",
              "      <td>0.597164</td>\n",
              "      <td>26.238726</td>\n",
              "      <td>1.750535</td>\n",
              "    </tr>\n",
              "    <tr>\n",
              "      <th>std</th>\n",
              "      <td>2358.478332</td>\n",
              "      <td>12.978711</td>\n",
              "      <td>0.405971</td>\n",
              "      <td>1.228615</td>\n",
              "      <td>0.650612</td>\n",
              "      <td>0.486343</td>\n",
              "      <td>4.079993</td>\n",
              "      <td>4.058778</td>\n",
              "      <td>1.144492</td>\n",
              "      <td>76.334148</td>\n",
              "      <td>0.493800</td>\n",
              "      <td>0.490597</td>\n",
              "      <td>15.160976</td>\n",
              "      <td>0.628999</td>\n",
              "    </tr>\n",
              "    <tr>\n",
              "      <th>min</th>\n",
              "      <td>0.000000</td>\n",
              "      <td>21.930000</td>\n",
              "      <td>0.000000</td>\n",
              "      <td>1.000000</td>\n",
              "      <td>1.000000</td>\n",
              "      <td>0.000000</td>\n",
              "      <td>0.000000</td>\n",
              "      <td>1.000000</td>\n",
              "      <td>1.000000</td>\n",
              "      <td>0.000000</td>\n",
              "      <td>0.000000</td>\n",
              "      <td>0.000000</td>\n",
              "      <td>1.000000</td>\n",
              "      <td>0.000000</td>\n",
              "    </tr>\n",
              "    <tr>\n",
              "      <th>25%</th>\n",
              "      <td>896.500000</td>\n",
              "      <td>51.375000</td>\n",
              "      <td>0.000000</td>\n",
              "      <td>1.000000</td>\n",
              "      <td>2.000000</td>\n",
              "      <td>0.000000</td>\n",
              "      <td>0.000000</td>\n",
              "      <td>3.000000</td>\n",
              "      <td>3.046000</td>\n",
              "      <td>60.825000</td>\n",
              "      <td>0.000000</td>\n",
              "      <td>0.000000</td>\n",
              "      <td>17.000000</td>\n",
              "      <td>1.000000</td>\n",
              "    </tr>\n",
              "    <tr>\n",
              "      <th>50%</th>\n",
              "      <td>4730.500000</td>\n",
              "      <td>61.770000</td>\n",
              "      <td>0.000000</td>\n",
              "      <td>3.000000</td>\n",
              "      <td>3.000000</td>\n",
              "      <td>1.000000</td>\n",
              "      <td>0.000000</td>\n",
              "      <td>5.000000</td>\n",
              "      <td>4.042000</td>\n",
              "      <td>115.616667</td>\n",
              "      <td>0.000000</td>\n",
              "      <td>1.000000</td>\n",
              "      <td>23.000000</td>\n",
              "      <td>2.000000</td>\n",
              "    </tr>\n",
              "    <tr>\n",
              "      <th>75%</th>\n",
              "      <td>5536.250000</td>\n",
              "      <td>70.592500</td>\n",
              "      <td>0.000000</td>\n",
              "      <td>3.000000</td>\n",
              "      <td>3.000000</td>\n",
              "      <td>1.000000</td>\n",
              "      <td>2.000000</td>\n",
              "      <td>7.000000</td>\n",
              "      <td>5.040250</td>\n",
              "      <td>184.716667</td>\n",
              "      <td>1.000000</td>\n",
              "      <td>1.000000</td>\n",
              "      <td>30.000000</td>\n",
              "      <td>2.000000</td>\n",
              "    </tr>\n",
              "    <tr>\n",
              "      <th>max</th>\n",
              "      <td>7299.000000</td>\n",
              "      <td>96.290000</td>\n",
              "      <td>1.000000</td>\n",
              "      <td>5.000000</td>\n",
              "      <td>3.000000</td>\n",
              "      <td>1.000000</td>\n",
              "      <td>45.000000</td>\n",
              "      <td>80.000000</td>\n",
              "      <td>6.360000</td>\n",
              "      <td>355.200000</td>\n",
              "      <td>1.000000</td>\n",
              "      <td>1.000000</td>\n",
              "      <td>182.000000</td>\n",
              "      <td>4.000000</td>\n",
              "    </tr>\n",
              "  </tbody>\n",
              "</table>\n",
              "</div>"
            ],
            "text/plain": [
              "        patient_id  age_at_diagnosis  chemotherapy       cohort  \\\n",
              "count  1904.000000       1904.000000   1904.000000  1904.000000   \n",
              "mean   3921.982143         61.087054      0.207983     2.643908   \n",
              "std    2358.478332         12.978711      0.405971     1.228615   \n",
              "min       0.000000         21.930000      0.000000     1.000000   \n",
              "25%     896.500000         51.375000      0.000000     1.000000   \n",
              "50%    4730.500000         61.770000      0.000000     3.000000   \n",
              "75%    5536.250000         70.592500      0.000000     3.000000   \n",
              "max    7299.000000         96.290000      1.000000     5.000000   \n",
              "\n",
              "       neoplasm_histologic_grade  hormone_therapy  \\\n",
              "count                1832.000000      1904.000000   \n",
              "mean                    2.415939         0.616597   \n",
              "std                     0.650612         0.486343   \n",
              "min                     1.000000         0.000000   \n",
              "25%                     2.000000         0.000000   \n",
              "50%                     3.000000         1.000000   \n",
              "75%                     3.000000         1.000000   \n",
              "max                     3.000000         1.000000   \n",
              "\n",
              "       lymph_nodes_examined_positive  mutation_count  \\\n",
              "count                    1904.000000     1859.000000   \n",
              "mean                        2.002101        5.697687   \n",
              "std                         4.079993        4.058778   \n",
              "min                         0.000000        1.000000   \n",
              "25%                         0.000000        3.000000   \n",
              "50%                         0.000000        5.000000   \n",
              "75%                         2.000000        7.000000   \n",
              "max                        45.000000       80.000000   \n",
              "\n",
              "       nottingham_prognostic_index  overall_survival_months  overall_survival  \\\n",
              "count                  1904.000000              1904.000000       1904.000000   \n",
              "mean                      4.033019               125.121324          0.420693   \n",
              "std                       1.144492                76.334148          0.493800   \n",
              "min                       1.000000                 0.000000          0.000000   \n",
              "25%                       3.046000                60.825000          0.000000   \n",
              "50%                       4.042000               115.616667          0.000000   \n",
              "75%                       5.040250               184.716667          1.000000   \n",
              "max                       6.360000               355.200000          1.000000   \n",
              "\n",
              "       radio_therapy   tumor_size  tumor_stage  \n",
              "count    1904.000000  1884.000000  1403.000000  \n",
              "mean        0.597164    26.238726     1.750535  \n",
              "std         0.490597    15.160976     0.628999  \n",
              "min         0.000000     1.000000     0.000000  \n",
              "25%         0.000000    17.000000     1.000000  \n",
              "50%         1.000000    23.000000     2.000000  \n",
              "75%         1.000000    30.000000     2.000000  \n",
              "max         1.000000   182.000000     4.000000  "
            ]
          },
          "execution_count": 7,
          "metadata": {},
          "output_type": "execute_result"
        }
      ],
      "source": [
        "clinical_dataset.describe()"
      ]
    },
    {
      "cell_type": "code",
      "execution_count": 8,
      "id": "539e4ddf",
      "metadata": {
        "colab": {
          "base_uri": "https://localhost:8080/"
        },
        "id": "539e4ddf",
        "outputId": "bcdec4fc-5f21-4cb7-b6bf-841f76bd33e8"
      },
      "outputs": [
        {
          "name": "stdout",
          "output_type": "stream",
          "text": [
            "<class 'pandas.core.frame.DataFrame'>\n",
            "RangeIndex: 1904 entries, 0 to 1903\n",
            "Columns: 489 entries, peg3 to brca1\n",
            "dtypes: float64(489)\n",
            "memory usage: 7.1 MB\n"
          ]
        }
      ],
      "source": [
        "gene_expr_dataset.info()"
      ]
    },
    {
      "cell_type": "code",
      "execution_count": 9,
      "id": "9a290365",
      "metadata": {
        "colab": {
          "base_uri": "https://localhost:8080/",
          "height": 394
        },
        "id": "9a290365",
        "outputId": "3010c27f-ca55-4194-a387-e3f97a4a4fd8"
      },
      "outputs": [
        {
          "data": {
            "text/html": [
              "<div>\n",
              "<style scoped>\n",
              "    .dataframe tbody tr th:only-of-type {\n",
              "        vertical-align: middle;\n",
              "    }\n",
              "\n",
              "    .dataframe tbody tr th {\n",
              "        vertical-align: top;\n",
              "    }\n",
              "\n",
              "    .dataframe thead th {\n",
              "        text-align: right;\n",
              "    }\n",
              "</style>\n",
              "<table border=\"1\" class=\"dataframe\">\n",
              "  <thead>\n",
              "    <tr style=\"text-align: right;\">\n",
              "      <th></th>\n",
              "      <th>peg3</th>\n",
              "      <th>tubb4b</th>\n",
              "      <th>tbl1xr1</th>\n",
              "      <th>cdk6</th>\n",
              "      <th>fanca</th>\n",
              "      <th>rassf1</th>\n",
              "      <th>epcam</th>\n",
              "      <th>tp53bp1</th>\n",
              "      <th>tgfb1</th>\n",
              "      <th>dtx2</th>\n",
              "      <th>...</th>\n",
              "      <th>rasgef1b</th>\n",
              "      <th>vegfa</th>\n",
              "      <th>eif4ebp1</th>\n",
              "      <th>hsd3b2</th>\n",
              "      <th>prkg1</th>\n",
              "      <th>bmp2</th>\n",
              "      <th>folr1</th>\n",
              "      <th>akr1c2</th>\n",
              "      <th>map2</th>\n",
              "      <th>brca1</th>\n",
              "    </tr>\n",
              "  </thead>\n",
              "  <tbody>\n",
              "    <tr>\n",
              "      <th>count</th>\n",
              "      <td>1.904000e+03</td>\n",
              "      <td>1.904000e+03</td>\n",
              "      <td>1.904000e+03</td>\n",
              "      <td>1.904000e+03</td>\n",
              "      <td>1.904000e+03</td>\n",
              "      <td>1.904000e+03</td>\n",
              "      <td>1.904000e+03</td>\n",
              "      <td>1.904000e+03</td>\n",
              "      <td>1.904000e+03</td>\n",
              "      <td>1904.000000</td>\n",
              "      <td>...</td>\n",
              "      <td>1.904000e+03</td>\n",
              "      <td>1.904000e+03</td>\n",
              "      <td>1.904000e+03</td>\n",
              "      <td>1.904000e+03</td>\n",
              "      <td>1.904000e+03</td>\n",
              "      <td>1.904000e+03</td>\n",
              "      <td>1.904000e+03</td>\n",
              "      <td>1.904000e+03</td>\n",
              "      <td>1.904000e+03</td>\n",
              "      <td>1.904000e+03</td>\n",
              "    </tr>\n",
              "    <tr>\n",
              "      <th>mean</th>\n",
              "      <td>-4.726891e-07</td>\n",
              "      <td>-1.050420e-07</td>\n",
              "      <td>-3.676471e-07</td>\n",
              "      <td>6.302521e-07</td>\n",
              "      <td>4.201681e-07</td>\n",
              "      <td>-3.151261e-07</td>\n",
              "      <td>1.492737e-17</td>\n",
              "      <td>8.928571e-07</td>\n",
              "      <td>-2.626050e-07</td>\n",
              "      <td>-0.000001</td>\n",
              "      <td>...</td>\n",
              "      <td>-5.252101e-07</td>\n",
              "      <td>5.252101e-07</td>\n",
              "      <td>-4.201681e-07</td>\n",
              "      <td>1.050420e-07</td>\n",
              "      <td>1.050420e-07</td>\n",
              "      <td>6.302521e-07</td>\n",
              "      <td>-9.978992e-07</td>\n",
              "      <td>4.726891e-07</td>\n",
              "      <td>-6.827731e-07</td>\n",
              "      <td>-6.302521e-07</td>\n",
              "    </tr>\n",
              "    <tr>\n",
              "      <th>std</th>\n",
              "      <td>1.000264e+00</td>\n",
              "      <td>1.000263e+00</td>\n",
              "      <td>1.000263e+00</td>\n",
              "      <td>1.000263e+00</td>\n",
              "      <td>1.000262e+00</td>\n",
              "      <td>1.000264e+00</td>\n",
              "      <td>1.000263e+00</td>\n",
              "      <td>1.000262e+00</td>\n",
              "      <td>1.000262e+00</td>\n",
              "      <td>1.000262</td>\n",
              "      <td>...</td>\n",
              "      <td>1.000263e+00</td>\n",
              "      <td>1.000263e+00</td>\n",
              "      <td>1.000263e+00</td>\n",
              "      <td>1.000262e+00</td>\n",
              "      <td>1.000263e+00</td>\n",
              "      <td>1.000262e+00</td>\n",
              "      <td>1.000263e+00</td>\n",
              "      <td>1.000263e+00</td>\n",
              "      <td>1.000263e+00</td>\n",
              "      <td>1.000262e+00</td>\n",
              "    </tr>\n",
              "    <tr>\n",
              "      <th>min</th>\n",
              "      <td>-1.464100e+00</td>\n",
              "      <td>-3.667700e+00</td>\n",
              "      <td>-3.897100e+00</td>\n",
              "      <td>-2.278400e+00</td>\n",
              "      <td>-3.873400e+00</td>\n",
              "      <td>-2.756700e+00</td>\n",
              "      <td>-2.165900e+00</td>\n",
              "      <td>-3.852700e+00</td>\n",
              "      <td>-3.812600e+00</td>\n",
              "      <td>-4.502600</td>\n",
              "      <td>...</td>\n",
              "      <td>-4.132600e+00</td>\n",
              "      <td>-1.934400e+00</td>\n",
              "      <td>-1.811200e+00</td>\n",
              "      <td>-3.820900e+00</td>\n",
              "      <td>-4.039200e+00</td>\n",
              "      <td>-1.571300e+00</td>\n",
              "      <td>-1.150500e+00</td>\n",
              "      <td>-1.467500e+00</td>\n",
              "      <td>-1.801200e+00</td>\n",
              "      <td>-2.444400e+00</td>\n",
              "    </tr>\n",
              "    <tr>\n",
              "      <th>25%</th>\n",
              "      <td>-7.087250e-01</td>\n",
              "      <td>-6.646250e-01</td>\n",
              "      <td>-6.138500e-01</td>\n",
              "      <td>-6.680750e-01</td>\n",
              "      <td>-6.873250e-01</td>\n",
              "      <td>-6.983500e-01</td>\n",
              "      <td>-6.860000e-01</td>\n",
              "      <td>-6.718750e-01</td>\n",
              "      <td>-6.600000e-01</td>\n",
              "      <td>-0.683300</td>\n",
              "      <td>...</td>\n",
              "      <td>-6.552250e-01</td>\n",
              "      <td>-6.937500e-01</td>\n",
              "      <td>-6.632500e-01</td>\n",
              "      <td>-6.573000e-01</td>\n",
              "      <td>-6.861500e-01</td>\n",
              "      <td>-5.201500e-01</td>\n",
              "      <td>-6.967250e-01</td>\n",
              "      <td>-7.351500e-01</td>\n",
              "      <td>-5.506000e-01</td>\n",
              "      <td>-7.198500e-01</td>\n",
              "    </tr>\n",
              "    <tr>\n",
              "      <th>50%</th>\n",
              "      <td>-2.802000e-01</td>\n",
              "      <td>-2.600000e-03</td>\n",
              "      <td>-7.585000e-02</td>\n",
              "      <td>-1.958000e-01</td>\n",
              "      <td>2.200000e-03</td>\n",
              "      <td>-7.700000e-02</td>\n",
              "      <td>-1.494500e-01</td>\n",
              "      <td>1.315000e-02</td>\n",
              "      <td>1.440000e-02</td>\n",
              "      <td>-0.097000</td>\n",
              "      <td>...</td>\n",
              "      <td>-9.600000e-03</td>\n",
              "      <td>-1.639000e-01</td>\n",
              "      <td>-2.543500e-01</td>\n",
              "      <td>-1.145000e-02</td>\n",
              "      <td>-5.055000e-02</td>\n",
              "      <td>-2.013500e-01</td>\n",
              "      <td>-4.091000e-01</td>\n",
              "      <td>-1.955500e-01</td>\n",
              "      <td>-2.434000e-01</td>\n",
              "      <td>-1.244500e-01</td>\n",
              "    </tr>\n",
              "    <tr>\n",
              "      <th>75%</th>\n",
              "      <td>4.066250e-01</td>\n",
              "      <td>6.491250e-01</td>\n",
              "      <td>5.130500e-01</td>\n",
              "      <td>4.241000e-01</td>\n",
              "      <td>6.179500e-01</td>\n",
              "      <td>6.200000e-01</td>\n",
              "      <td>5.255000e-01</td>\n",
              "      <td>6.924750e-01</td>\n",
              "      <td>6.339250e-01</td>\n",
              "      <td>0.555800</td>\n",
              "      <td>...</td>\n",
              "      <td>6.355750e-01</td>\n",
              "      <td>5.131250e-01</td>\n",
              "      <td>3.648500e-01</td>\n",
              "      <td>6.380750e-01</td>\n",
              "      <td>6.064500e-01</td>\n",
              "      <td>2.314250e-01</td>\n",
              "      <td>3.300500e-01</td>\n",
              "      <td>5.003500e-01</td>\n",
              "      <td>2.167000e-01</td>\n",
              "      <td>5.532250e-01</td>\n",
              "    </tr>\n",
              "    <tr>\n",
              "      <th>max</th>\n",
              "      <td>5.004300e+00</td>\n",
              "      <td>5.271600e+00</td>\n",
              "      <td>7.064900e+00</td>\n",
              "      <td>7.380700e+00</td>\n",
              "      <td>4.573600e+00</td>\n",
              "      <td>4.517100e+00</td>\n",
              "      <td>6.953900e+00</td>\n",
              "      <td>4.534900e+00</td>\n",
              "      <td>4.610500e+00</td>\n",
              "      <td>4.039700</td>\n",
              "      <td>...</td>\n",
              "      <td>4.182200e+00</td>\n",
              "      <td>5.131900e+00</td>\n",
              "      <td>7.403600e+00</td>\n",
              "      <td>8.560800e+00</td>\n",
              "      <td>5.169200e+00</td>\n",
              "      <td>1.154290e+01</td>\n",
              "      <td>4.441700e+00</td>\n",
              "      <td>4.417200e+00</td>\n",
              "      <td>6.900500e+00</td>\n",
              "      <td>4.554200e+00</td>\n",
              "    </tr>\n",
              "  </tbody>\n",
              "</table>\n",
              "<p>8 rows × 489 columns</p>\n",
              "</div>"
            ],
            "text/plain": [
              "               peg3        tubb4b       tbl1xr1          cdk6         fanca  \\\n",
              "count  1.904000e+03  1.904000e+03  1.904000e+03  1.904000e+03  1.904000e+03   \n",
              "mean  -4.726891e-07 -1.050420e-07 -3.676471e-07  6.302521e-07  4.201681e-07   \n",
              "std    1.000264e+00  1.000263e+00  1.000263e+00  1.000263e+00  1.000262e+00   \n",
              "min   -1.464100e+00 -3.667700e+00 -3.897100e+00 -2.278400e+00 -3.873400e+00   \n",
              "25%   -7.087250e-01 -6.646250e-01 -6.138500e-01 -6.680750e-01 -6.873250e-01   \n",
              "50%   -2.802000e-01 -2.600000e-03 -7.585000e-02 -1.958000e-01  2.200000e-03   \n",
              "75%    4.066250e-01  6.491250e-01  5.130500e-01  4.241000e-01  6.179500e-01   \n",
              "max    5.004300e+00  5.271600e+00  7.064900e+00  7.380700e+00  4.573600e+00   \n",
              "\n",
              "             rassf1         epcam       tp53bp1         tgfb1         dtx2  \\\n",
              "count  1.904000e+03  1.904000e+03  1.904000e+03  1.904000e+03  1904.000000   \n",
              "mean  -3.151261e-07  1.492737e-17  8.928571e-07 -2.626050e-07    -0.000001   \n",
              "std    1.000264e+00  1.000263e+00  1.000262e+00  1.000262e+00     1.000262   \n",
              "min   -2.756700e+00 -2.165900e+00 -3.852700e+00 -3.812600e+00    -4.502600   \n",
              "25%   -6.983500e-01 -6.860000e-01 -6.718750e-01 -6.600000e-01    -0.683300   \n",
              "50%   -7.700000e-02 -1.494500e-01  1.315000e-02  1.440000e-02    -0.097000   \n",
              "75%    6.200000e-01  5.255000e-01  6.924750e-01  6.339250e-01     0.555800   \n",
              "max    4.517100e+00  6.953900e+00  4.534900e+00  4.610500e+00     4.039700   \n",
              "\n",
              "       ...      rasgef1b         vegfa      eif4ebp1        hsd3b2  \\\n",
              "count  ...  1.904000e+03  1.904000e+03  1.904000e+03  1.904000e+03   \n",
              "mean   ... -5.252101e-07  5.252101e-07 -4.201681e-07  1.050420e-07   \n",
              "std    ...  1.000263e+00  1.000263e+00  1.000263e+00  1.000262e+00   \n",
              "min    ... -4.132600e+00 -1.934400e+00 -1.811200e+00 -3.820900e+00   \n",
              "25%    ... -6.552250e-01 -6.937500e-01 -6.632500e-01 -6.573000e-01   \n",
              "50%    ... -9.600000e-03 -1.639000e-01 -2.543500e-01 -1.145000e-02   \n",
              "75%    ...  6.355750e-01  5.131250e-01  3.648500e-01  6.380750e-01   \n",
              "max    ...  4.182200e+00  5.131900e+00  7.403600e+00  8.560800e+00   \n",
              "\n",
              "              prkg1          bmp2         folr1        akr1c2          map2  \\\n",
              "count  1.904000e+03  1.904000e+03  1.904000e+03  1.904000e+03  1.904000e+03   \n",
              "mean   1.050420e-07  6.302521e-07 -9.978992e-07  4.726891e-07 -6.827731e-07   \n",
              "std    1.000263e+00  1.000262e+00  1.000263e+00  1.000263e+00  1.000263e+00   \n",
              "min   -4.039200e+00 -1.571300e+00 -1.150500e+00 -1.467500e+00 -1.801200e+00   \n",
              "25%   -6.861500e-01 -5.201500e-01 -6.967250e-01 -7.351500e-01 -5.506000e-01   \n",
              "50%   -5.055000e-02 -2.013500e-01 -4.091000e-01 -1.955500e-01 -2.434000e-01   \n",
              "75%    6.064500e-01  2.314250e-01  3.300500e-01  5.003500e-01  2.167000e-01   \n",
              "max    5.169200e+00  1.154290e+01  4.441700e+00  4.417200e+00  6.900500e+00   \n",
              "\n",
              "              brca1  \n",
              "count  1.904000e+03  \n",
              "mean  -6.302521e-07  \n",
              "std    1.000262e+00  \n",
              "min   -2.444400e+00  \n",
              "25%   -7.198500e-01  \n",
              "50%   -1.244500e-01  \n",
              "75%    5.532250e-01  \n",
              "max    4.554200e+00  \n",
              "\n",
              "[8 rows x 489 columns]"
            ]
          },
          "execution_count": 9,
          "metadata": {},
          "output_type": "execute_result"
        }
      ],
      "source": [
        "gene_expr_dataset.describe()"
      ]
    },
    {
      "cell_type": "code",
      "execution_count": 10,
      "id": "8a055385",
      "metadata": {
        "colab": {
          "base_uri": "https://localhost:8080/"
        },
        "id": "8a055385",
        "outputId": "fbc09f2e-3a60-4302-ba09-0659a3192c20"
      },
      "outputs": [
        {
          "name": "stdout",
          "output_type": "stream",
          "text": [
            "<class 'pandas.core.frame.DataFrame'>\n",
            "RangeIndex: 1904 entries, 0 to 1903\n",
            "Columns: 173 entries, pik3ca_mut to siah1_mut\n",
            "dtypes: object(173)\n",
            "memory usage: 2.5+ MB\n"
          ]
        }
      ],
      "source": [
        "gene_mut_dataset.info()"
      ]
    },
    {
      "cell_type": "code",
      "execution_count": 11,
      "id": "0336013c",
      "metadata": {
        "colab": {
          "base_uri": "https://localhost:8080/",
          "height": 268
        },
        "id": "0336013c",
        "outputId": "8c4bb461-60ef-44f5-efd5-c2ccc9bce0f4"
      },
      "outputs": [
        {
          "data": {
            "text/html": [
              "<div>\n",
              "<style scoped>\n",
              "    .dataframe tbody tr th:only-of-type {\n",
              "        vertical-align: middle;\n",
              "    }\n",
              "\n",
              "    .dataframe tbody tr th {\n",
              "        vertical-align: top;\n",
              "    }\n",
              "\n",
              "    .dataframe thead th {\n",
              "        text-align: right;\n",
              "    }\n",
              "</style>\n",
              "<table border=\"1\" class=\"dataframe\">\n",
              "  <thead>\n",
              "    <tr style=\"text-align: right;\">\n",
              "      <th></th>\n",
              "      <th>pik3ca_mut</th>\n",
              "      <th>tp53_mut</th>\n",
              "      <th>muc16_mut</th>\n",
              "      <th>ahnak2_mut</th>\n",
              "      <th>kmt2c_mut</th>\n",
              "      <th>syne1_mut</th>\n",
              "      <th>gata3_mut</th>\n",
              "      <th>map3k1_mut</th>\n",
              "      <th>ahnak_mut</th>\n",
              "      <th>dnah11_mut</th>\n",
              "      <th>...</th>\n",
              "      <th>mtap_mut</th>\n",
              "      <th>ppp2cb_mut</th>\n",
              "      <th>smarcd1_mut</th>\n",
              "      <th>nras_mut</th>\n",
              "      <th>ndfip1_mut</th>\n",
              "      <th>hras_mut</th>\n",
              "      <th>prps2_mut</th>\n",
              "      <th>smarcb1_mut</th>\n",
              "      <th>stmn2_mut</th>\n",
              "      <th>siah1_mut</th>\n",
              "    </tr>\n",
              "  </thead>\n",
              "  <tbody>\n",
              "    <tr>\n",
              "      <th>count</th>\n",
              "      <td>1904</td>\n",
              "      <td>1904</td>\n",
              "      <td>1904</td>\n",
              "      <td>1904</td>\n",
              "      <td>1904</td>\n",
              "      <td>1904</td>\n",
              "      <td>1904</td>\n",
              "      <td>1904</td>\n",
              "      <td>1904</td>\n",
              "      <td>1904</td>\n",
              "      <td>...</td>\n",
              "      <td>1904</td>\n",
              "      <td>1904</td>\n",
              "      <td>1904</td>\n",
              "      <td>1904</td>\n",
              "      <td>1904</td>\n",
              "      <td>1904</td>\n",
              "      <td>1904</td>\n",
              "      <td>1904</td>\n",
              "      <td>1904</td>\n",
              "      <td>1904</td>\n",
              "    </tr>\n",
              "    <tr>\n",
              "      <th>unique</th>\n",
              "      <td>160</td>\n",
              "      <td>343</td>\n",
              "      <td>298</td>\n",
              "      <td>248</td>\n",
              "      <td>222</td>\n",
              "      <td>200</td>\n",
              "      <td>128</td>\n",
              "      <td>194</td>\n",
              "      <td>153</td>\n",
              "      <td>154</td>\n",
              "      <td>...</td>\n",
              "      <td>5</td>\n",
              "      <td>5</td>\n",
              "      <td>5</td>\n",
              "      <td>4</td>\n",
              "      <td>4</td>\n",
              "      <td>3</td>\n",
              "      <td>3</td>\n",
              "      <td>3</td>\n",
              "      <td>3</td>\n",
              "      <td>2</td>\n",
              "    </tr>\n",
              "    <tr>\n",
              "      <th>top</th>\n",
              "      <td>0</td>\n",
              "      <td>0</td>\n",
              "      <td>0</td>\n",
              "      <td>0</td>\n",
              "      <td>0</td>\n",
              "      <td>0</td>\n",
              "      <td>0</td>\n",
              "      <td>0</td>\n",
              "      <td>0</td>\n",
              "      <td>0</td>\n",
              "      <td>...</td>\n",
              "      <td>0</td>\n",
              "      <td>0</td>\n",
              "      <td>0</td>\n",
              "      <td>0</td>\n",
              "      <td>0</td>\n",
              "      <td>0</td>\n",
              "      <td>0</td>\n",
              "      <td>0</td>\n",
              "      <td>0</td>\n",
              "      <td>0</td>\n",
              "    </tr>\n",
              "    <tr>\n",
              "      <th>freq</th>\n",
              "      <td>1109</td>\n",
              "      <td>1245</td>\n",
              "      <td>1578</td>\n",
              "      <td>1593</td>\n",
              "      <td>1670</td>\n",
              "      <td>1672</td>\n",
              "      <td>1674</td>\n",
              "      <td>1706</td>\n",
              "      <td>1728</td>\n",
              "      <td>1729</td>\n",
              "      <td>...</td>\n",
              "      <td>1900</td>\n",
              "      <td>1900</td>\n",
              "      <td>1900</td>\n",
              "      <td>1901</td>\n",
              "      <td>1901</td>\n",
              "      <td>1902</td>\n",
              "      <td>1902</td>\n",
              "      <td>1902</td>\n",
              "      <td>1902</td>\n",
              "      <td>1903</td>\n",
              "    </tr>\n",
              "  </tbody>\n",
              "</table>\n",
              "<p>4 rows × 173 columns</p>\n",
              "</div>"
            ],
            "text/plain": [
              "       pik3ca_mut tp53_mut muc16_mut ahnak2_mut kmt2c_mut syne1_mut gata3_mut  \\\n",
              "count        1904     1904      1904       1904      1904      1904      1904   \n",
              "unique        160      343       298        248       222       200       128   \n",
              "top             0        0         0          0         0         0         0   \n",
              "freq         1109     1245      1578       1593      1670      1672      1674   \n",
              "\n",
              "       map3k1_mut ahnak_mut dnah11_mut  ... mtap_mut ppp2cb_mut smarcd1_mut  \\\n",
              "count        1904      1904       1904  ...     1904       1904        1904   \n",
              "unique        194       153        154  ...        5          5           5   \n",
              "top             0         0          0  ...        0          0           0   \n",
              "freq         1706      1728       1729  ...     1900       1900        1900   \n",
              "\n",
              "       nras_mut ndfip1_mut hras_mut prps2_mut smarcb1_mut stmn2_mut siah1_mut  \n",
              "count      1904       1904     1904      1904        1904      1904      1904  \n",
              "unique        4          4        3         3           3         3         2  \n",
              "top           0          0        0         0           0         0         0  \n",
              "freq       1901       1901     1902      1902        1902      1902      1903  \n",
              "\n",
              "[4 rows x 173 columns]"
            ]
          },
          "execution_count": 11,
          "metadata": {},
          "output_type": "execute_result"
        }
      ],
      "source": [
        "gene_mut_dataset.describe()"
      ]
    },
    {
      "cell_type": "code",
      "execution_count": 12,
      "id": "3fc5a137",
      "metadata": {
        "colab": {
          "base_uri": "https://localhost:8080/"
        },
        "id": "3fc5a137",
        "outputId": "750bf9b4-9a35-4fa3-f86c-6bf03a929c56"
      },
      "outputs": [
        {
          "name": "stdout",
          "output_type": "stream",
          "text": [
            "Clinical dataset clean data: 1092\n",
            "Gene expression dataset clean data: 1904\n",
            "Gene mutation dataset clean data: 1904\n"
          ]
        }
      ],
      "source": [
        "# clean data means data with no NaN value in any column\n",
        "def clean_stats(ds):\n",
        "    return '''clean data: {0}'''.format(ds.shape[0] - ds.isnull().any(axis=1).sum())\n",
        "\n",
        "print(f'Clinical dataset {clean_stats(clinical_dataset)}')\n",
        "print(f'Gene expression dataset {clean_stats(gene_expr_dataset)}')\n",
        "print(f'Gene mutation dataset {clean_stats(gene_mut_dataset)}')"
      ]
    },
    {
      "cell_type": "code",
      "execution_count": 13,
      "id": "0f730892",
      "metadata": {
        "colab": {
          "base_uri": "https://localhost:8080/"
        },
        "id": "0f730892",
        "outputId": "42b12e02-832c-4bf8-ebf9-3635c298918f"
      },
      "outputs": [
        {
          "data": {
            "text/plain": [
              "patient_id                          int64\n",
              "age_at_diagnosis                  float64\n",
              "type_of_breast_surgery             object\n",
              "cancer_type                        object\n",
              "cancer_type_detailed               object\n",
              "cellularity                        object\n",
              "chemotherapy                        int64\n",
              "pam50_+_claudin-low_subtype        object\n",
              "cohort                            float64\n",
              "er_status_measured_by_ihc          object\n",
              "er_status                          object\n",
              "neoplasm_histologic_grade         float64\n",
              "her2_status_measured_by_snp6       object\n",
              "her2_status                        object\n",
              "tumor_other_histologic_subtype     object\n",
              "hormone_therapy                     int64\n",
              "inferred_menopausal_state          object\n",
              "integrative_cluster                object\n",
              "primary_tumor_laterality           object\n",
              "lymph_nodes_examined_positive     float64\n",
              "mutation_count                    float64\n",
              "nottingham_prognostic_index       float64\n",
              "oncotree_code                      object\n",
              "overall_survival_months           float64\n",
              "overall_survival                    int64\n",
              "pr_status                          object\n",
              "radio_therapy                       int64\n",
              "3-gene_classifier_subtype          object\n",
              "tumor_size                        float64\n",
              "tumor_stage                       float64\n",
              "death_from_cancer                  object\n",
              "dtype: object"
            ]
          },
          "execution_count": 13,
          "metadata": {},
          "output_type": "execute_result"
        }
      ],
      "source": [
        "clinical_dataset.dtypes"
      ]
    },
    {
      "cell_type": "code",
      "execution_count": 14,
      "id": "935fefb0",
      "metadata": {
        "colab": {
          "base_uri": "https://localhost:8080/"
        },
        "id": "935fefb0",
        "outputId": "f1698807-76f3-4df7-cbef-8b7a9f49b603"
      },
      "outputs": [
        {
          "name": "stdout",
          "output_type": "stream",
          "text": [
            "Clinical dataset: \n",
            "    columns: 31, object columns: 17, int columns: 5, float columns: 9\n",
            "    \n",
            "Gene expression dataset: \n",
            "    columns: 489, object columns: 0, int columns: 0, float columns: 489\n",
            "    \n",
            "Gene mutation dataset: \n",
            "    columns: 173, object columns: 173, int columns: 0, float columns: 0\n",
            "    \n"
          ]
        }
      ],
      "source": [
        "def dtype_stats(ds):\n",
        "    return '''\n",
        "    columns: {0}, object columns: {1}, int columns: {2}, float columns: {3}\n",
        "    '''.format(len(ds.columns),\n",
        "               (ds.dtypes == 'object').sum(),\n",
        "               (ds.dtypes == 'int64').sum(),\n",
        "               (ds.dtypes == 'float64').sum())\n",
        "\n",
        "print(f'Clinical dataset: {dtype_stats(clinical_dataset)}')\n",
        "print(f'Gene expression dataset: {dtype_stats(gene_expr_dataset)}')\n",
        "print(f'Gene mutation dataset: {dtype_stats(gene_mut_dataset)}')"
      ]
    },
    {
      "cell_type": "code",
      "execution_count": 15,
      "id": "70dfb89d",
      "metadata": {
        "colab": {
          "base_uri": "https://localhost:8080/",
          "height": 206
        },
        "id": "70dfb89d",
        "outputId": "bb64426b-b8db-4bd1-8cf3-b26d71b7439a"
      },
      "outputs": [
        {
          "data": {
            "text/html": [
              "<div>\n",
              "<style scoped>\n",
              "    .dataframe tbody tr th:only-of-type {\n",
              "        vertical-align: middle;\n",
              "    }\n",
              "\n",
              "    .dataframe tbody tr th {\n",
              "        vertical-align: top;\n",
              "    }\n",
              "\n",
              "    .dataframe thead th {\n",
              "        text-align: right;\n",
              "    }\n",
              "</style>\n",
              "<table border=\"1\" class=\"dataframe\">\n",
              "  <thead>\n",
              "    <tr style=\"text-align: right;\">\n",
              "      <th></th>\n",
              "      <th>patient_id</th>\n",
              "      <th>chemotherapy</th>\n",
              "      <th>hormone_therapy</th>\n",
              "      <th>overall_survival</th>\n",
              "      <th>radio_therapy</th>\n",
              "    </tr>\n",
              "  </thead>\n",
              "  <tbody>\n",
              "    <tr>\n",
              "      <th>0</th>\n",
              "      <td>0</td>\n",
              "      <td>0</td>\n",
              "      <td>1</td>\n",
              "      <td>1</td>\n",
              "      <td>1</td>\n",
              "    </tr>\n",
              "    <tr>\n",
              "      <th>1</th>\n",
              "      <td>2</td>\n",
              "      <td>0</td>\n",
              "      <td>1</td>\n",
              "      <td>1</td>\n",
              "      <td>1</td>\n",
              "    </tr>\n",
              "    <tr>\n",
              "      <th>2</th>\n",
              "      <td>5</td>\n",
              "      <td>1</td>\n",
              "      <td>1</td>\n",
              "      <td>0</td>\n",
              "      <td>0</td>\n",
              "    </tr>\n",
              "    <tr>\n",
              "      <th>3</th>\n",
              "      <td>6</td>\n",
              "      <td>1</td>\n",
              "      <td>1</td>\n",
              "      <td>1</td>\n",
              "      <td>1</td>\n",
              "    </tr>\n",
              "    <tr>\n",
              "      <th>4</th>\n",
              "      <td>8</td>\n",
              "      <td>1</td>\n",
              "      <td>1</td>\n",
              "      <td>0</td>\n",
              "      <td>1</td>\n",
              "    </tr>\n",
              "  </tbody>\n",
              "</table>\n",
              "</div>"
            ],
            "text/plain": [
              "   patient_id  chemotherapy  hormone_therapy  overall_survival  radio_therapy\n",
              "0           0             0                1                 1              1\n",
              "1           2             0                1                 1              1\n",
              "2           5             1                1                 0              0\n",
              "3           6             1                1                 1              1\n",
              "4           8             1                1                 0              1"
            ]
          },
          "execution_count": 15,
          "metadata": {},
          "output_type": "execute_result"
        }
      ],
      "source": [
        "# check if int data needs scaling\n",
        "clinical_dataset[clinical_columns[clinical_dataset.dtypes == 'int64']].head(5)"
      ]
    },
    {
      "cell_type": "code",
      "execution_count": 16,
      "id": "00a64091",
      "metadata": {
        "id": "00a64091"
      },
      "outputs": [],
      "source": [
        "# define data and labels for each dataset\n",
        "\n",
        "labels = clinical_dataset[label_column].to_numpy()\n",
        "clinical_data = clinical_dataset[clinical_data_columns].to_numpy()\n",
        "gene_expr_data = gene_expr_dataset.to_numpy()"
      ]
    },
    {
      "cell_type": "code",
      "execution_count": 17,
      "id": "99c8a4bc",
      "metadata": {
        "id": "99c8a4bc"
      },
      "outputs": [],
      "source": [
        "# Convert categorical data to numerical data for clinical dataset\n",
        "ordinal_encoder = OrdinalEncoder()\n",
        "clinical_data = ordinal_encoder.fit_transform(clinical_data)"
      ]
    },
    {
      "cell_type": "code",
      "execution_count": 18,
      "id": "9da8ca52",
      "metadata": {
        "id": "9da8ca52"
      },
      "outputs": [],
      "source": [
        "# Perform data imputation for clinical dataset\n",
        "imputer = SimpleImputer(missing_values=np.nan, strategy='mean')\n",
        "clinical_data = imputer.fit_transform(clinical_data)"
      ]
    },
    {
      "cell_type": "code",
      "execution_count": 19,
      "id": "1BFAjN9wKRUu",
      "metadata": {
        "id": "1BFAjN9wKRUu"
      },
      "outputs": [],
      "source": [
        "scaler = StandardScaler()\n",
        "clinical_data = scaler.fit_transform(clinical_data)"
      ]
    },
    {
      "cell_type": "code",
      "execution_count": 20,
      "id": "eG4CkK4IC9d-",
      "metadata": {
        "id": "eG4CkK4IC9d-"
      },
      "outputs": [],
      "source": [
        "_clinical_train_X, _clinical_test_X, _clinical_train_y, _clinical_test_y = train_test_split(clinical_data, labels, test_size=0.10, random_state=42)\n",
        "_clinical_train_X, _clinical_val_X, _clinical_train_y, _clinical_val_y = train_test_split(_clinical_train_X, _clinical_train_y, test_size=0.10, random_state=42)\n",
        "\n",
        "_gene_expr_train_X, _gene_expr_test_X, _gene_expr_train_y, _gene_expr_test_y = train_test_split(gene_expr_data, labels, test_size=0.10, random_state=42)\n",
        "_gene_expr_train_X, _gene_expr_val_X, _gene_expr_train_y, _gene_expr_val_y = train_test_split(_gene_expr_train_X, _gene_expr_train_y, test_size=0.10, random_state=42)\n",
        "\n",
        "dataset = {\n",
        "    'clinical':{\n",
        "        'X_train': _clinical_train_X,\n",
        "        'X_val': _clinical_val_X,\n",
        "        'X_test': _clinical_test_X,\n",
        "        'y_train': _clinical_train_y,\n",
        "        'y_val': _clinical_val_y,\n",
        "        'y_test': _clinical_test_y\n",
        "    },\n",
        "    'gene_expr':{\n",
        "        'X_train': _gene_expr_train_X,\n",
        "        'X_val': _gene_expr_val_X,\n",
        "        'X_test': _gene_expr_test_X,\n",
        "        'y_train': _gene_expr_train_y,\n",
        "        'y_val': _gene_expr_val_y,\n",
        "        'y_test': _gene_expr_test_y\n",
        "    },\n",
        "    'gene_expr_reduced':{\n",
        "    }\n",
        "}"
      ]
    },
    {
      "cell_type": "markdown",
      "id": "e2c3821f",
      "metadata": {
        "id": "e2c3821f"
      },
      "source": [
        "## Dimension Reduction (20 + Up to 10 Points Optional)"
      ]
    },
    {
      "cell_type": "markdown",
      "id": "b925e2cf",
      "metadata": {
        "id": "b925e2cf"
      },
      "source": [
        "For each dataset, investigate whether it is needed to use a dimensionality reduction approach or not. If yes, please reduce the dataset's dimension. You can use UMAP for this purpose but any other approach is acceptable. Finding the most important features contains extra points."
      ]
    },
    {
      "cell_type": "markdown",
      "id": "b14cefb7",
      "metadata": {
        "id": "b14cefb7"
      },
      "source": [
        "<span style=\"color:orange\">\n",
        "    we check if dimensionality reduction is needed by using a simple linear regression model as a baseline .\n",
        "</span>\n",
        "\n"
      ]
    },
    {
      "cell_type": "code",
      "execution_count": 21,
      "id": "f0666a0d",
      "metadata": {
        "colab": {
          "base_uri": "https://localhost:8080/"
        },
        "id": "f0666a0d",
        "outputId": "3e374600-946f-4995-c0bb-a9e6eaed661c"
      },
      "outputs": [
        {
          "name": "stdout",
          "output_type": "stream",
          "text": [
            "Accuracy of simple linear regression model on clinical data: 0.738\n",
            "Accuracy of simple linear regression model on gene expression data: 0.550\n"
          ]
        }
      ],
      "source": [
        "# predict for the clinical dataset using linear regression\n",
        "_clf = LinearRegression()\n",
        "_clf.fit(dataset['clinical']['X_train'], dataset['clinical']['y_train'])\n",
        "_clinical_baseline_pred = np.round(_clf.predict(dataset['clinical']['X_test']))\n",
        "_clinical_baseline_accuracy = accuracy_score(dataset['clinical']['y_test'], _clinical_baseline_pred)\n",
        "\n",
        "# predict for the gene expression dataset using linear regression\n",
        "_clf = LinearRegression()\n",
        "_clf.fit(dataset['gene_expr']['X_train'], dataset['gene_expr']['y_train'])\n",
        "_gene_expr_baseline_pred = np.round(_clf.predict(dataset['gene_expr']['X_test']))\n",
        "_gene_expr_baseline_accuracy = accuracy_score(dataset['gene_expr']['y_test'], _gene_expr_baseline_pred)\n",
        "\n",
        "print(f'Accuracy of simple linear regression model on clinical data: {_clinical_baseline_accuracy:.3f}')\n",
        "print(f'Accuracy of simple linear regression model on gene expression data: {_gene_expr_baseline_accuracy:.3f}')"
      ]
    },
    {
      "cell_type": "markdown",
      "id": "29e2dbe8",
      "metadata": {
        "id": "29e2dbe8"
      },
      "source": [
        "<span style=\"color:orange\">\n",
        "    As we can see, the results are much better for the clinical dataset which has few dimensions, but not so much for the gene expession dataset.\n",
        "    Therefore, we will only reduce the dimensions for gene expression dataset.\n",
        "</span>\n",
        "\n"
      ]
    },
    {
      "cell_type": "code",
      "execution_count": 22,
      "id": "a3f0b1a2",
      "metadata": {
        "colab": {
          "base_uri": "https://localhost:8080/"
        },
        "id": "a3f0b1a2",
        "outputId": "7ecc82fe-56cf-4b18-844a-e15dcde3a0c8"
      },
      "outputs": [
        {
          "name": "stdout",
          "output_type": "stream",
          "text": [
            "Accuracy of simple linear regression model on reduced clinical data: 0.628\n",
            "Accuracy of simple linear regression model on reduced gene expression data: 0.618\n"
          ]
        }
      ],
      "source": [
        "# reduce the dimensions for clinical data and predict using baseline model\n",
        "CLINICAL_REDUCED_DIMENSIONS = 5\n",
        "GENE_EXPR_REDUCED_DIMENSIONS = 40\n",
        "\n",
        "\n",
        "_reducer = umap.UMAP(n_components=CLINICAL_REDUCED_DIMENSIONS, random_state=42)\n",
        "_reducer.fit(clinical_data)\n",
        "_reduced_X_train = _reducer.transform(dataset['clinical']['X_train'])\n",
        "_reduced_X_test = _reducer.transform(dataset['clinical']['X_test'])\n",
        "\n",
        "_clf = LinearRegression()\n",
        "_clf.fit(_reduced_X_train, dataset['clinical']['y_train'])\n",
        "_clinical_reduced_baseline_pred = np.round(_clf.predict(_reduced_X_test))\n",
        "_clinical_reduced_baseline_accuracy = accuracy_score(dataset['clinical']['y_test'], _clinical_reduced_baseline_pred)\n",
        "\n",
        "# reduce the dimensions for gene expression data and predict using baseline model\n",
        "_reducer = umap.UMAP(n_components=GENE_EXPR_REDUCED_DIMENSIONS, random_state=42)\n",
        "_reducer.fit(gene_expr_data)\n",
        "_reduced_X_train = _reducer.transform(dataset['gene_expr']['X_train'])\n",
        "_reduced_X_val = _reducer.transform(dataset['gene_expr']['X_val'])\n",
        "_reduced_X_test = _reducer.transform(dataset['gene_expr']['X_test'])\n",
        "\n",
        "_clf = LinearRegression()\n",
        "_clf.fit(_reduced_X_train, dataset['gene_expr']['y_train'])\n",
        "_gene_expr_reduced_baseline_pred = np.round(_clf.predict(_reduced_X_test))\n",
        "_gene_expr_reduced_baseline_accuracy = accuracy_score(dataset['gene_expr']['y_test'], _gene_expr_reduced_baseline_pred)\n",
        "\n",
        "print(f'Accuracy of simple linear regression model on reduced clinical data: {_clinical_reduced_baseline_accuracy:.3f}')\n",
        "print(f'Accuracy of simple linear regression model on reduced gene expression data: {_gene_expr_reduced_baseline_accuracy:.3f}')"
      ]
    },
    {
      "cell_type": "markdown",
      "id": "578ec633",
      "metadata": {
        "id": "578ec633"
      },
      "source": [
        "<span style=\"color:orange\">\n",
        "    As we can see, applying dimension reduction on the clinical dataset leads to worse results, while on gene expression dataset improves the predictions.\n",
        "    Therefore, we choose to reduce the dimensions of only the gene expression dataset. \n",
        "</span>\n",
        "\n"
      ]
    },
    {
      "cell_type": "code",
      "execution_count": 23,
      "id": "1dc64a2b",
      "metadata": {
        "id": "1dc64a2b"
      },
      "outputs": [],
      "source": [
        "dataset['gene_expr_reduced'] = {\n",
        "    'X_train': _reduced_X_train,\n",
        "    'X_val': _reduced_X_val,\n",
        "    'X_test': _reduced_X_test,\n",
        "    'y_train': _gene_expr_train_y,\n",
        "    'y_val': _gene_expr_val_y,\n",
        "    'y_test': _gene_expr_test_y\n",
        "}"
      ]
    },
    {
      "cell_type": "markdown",
      "id": "bf0ea4bb",
      "metadata": {
        "id": "bf0ea4bb"
      },
      "source": [
        "# Classic Model (25 Points)"
      ]
    },
    {
      "cell_type": "markdown",
      "id": "389c5d75",
      "metadata": {
        "id": "389c5d75"
      },
      "source": [
        "In this section, you must implement a classic classification model for clinical, gene expressions, and reduced gene expressions datasets. Using Random Forest is suggested. (minimum acceptable accuracy = 60%)"
      ]
    },
    {
      "cell_type": "code",
      "execution_count": 24,
      "id": "34ec1dd7",
      "metadata": {
        "colab": {
          "base_uri": "https://localhost:8080/"
        },
        "id": "34ec1dd7",
        "outputId": "a3d27908-e6d9-4dc5-d5ad-1ec701bee93e"
      },
      "outputs": [
        {
          "name": "stdout",
          "output_type": "stream",
          "text": [
            "random forest on clinical dataset had accuracy of 0.7696\n",
            "random forest on gene_expr dataset had accuracy of 0.6283\n",
            "random forest on gene_expr_reduced dataset had accuracy of 0.5550\n",
            "svm on clinical dataset had accuracy of 0.7539\n",
            "svm on gene_expr dataset had accuracy of 0.6073\n",
            "svm on gene_expr_reduced dataset had accuracy of 0.5864\n"
          ]
        }
      ],
      "source": [
        "random_forst_models = {\n",
        "    'clinical': None,\n",
        "    'gene_expr': None,\n",
        "    'gene_expr_reduced': None\n",
        "}\n",
        "\n",
        "for ds_name in random_forst_models:\n",
        "    clf = RandomForestClassifier(random_state=42)\n",
        "    ds = dataset[ds_name]\n",
        "    clf.fit(ds['X_train'], ds['y_train'])\n",
        "    y_pred = clf.predict(ds['X_test'])\n",
        "    acc = accuracy_score(ds['y_test'], y_pred)\n",
        "    random_forst_models[ds_name] = {\n",
        "        'model': clf,\n",
        "        'accuracy': acc\n",
        "    }\n",
        "\n",
        "    print(f'random forest on {ds_name} dataset had accuracy of {acc:.4f}')\n",
        "\n",
        "svm_models = random_forst_models.copy()\n",
        "\n",
        "for ds_name in random_forst_models:\n",
        "    clf = SVC(random_state=42)\n",
        "    ds = dataset[ds_name]\n",
        "    clf.fit(ds['X_train'], ds['y_train'])\n",
        "    y_pred = clf.predict(ds['X_test'])\n",
        "    acc = accuracy_score(ds['y_test'], y_pred)\n",
        "    random_forst_models[ds_name] = {\n",
        "        'model': clf,\n",
        "        'accuracy': acc\n",
        "    }\n",
        "\n",
        "    print(f'svm on {ds_name} dataset had accuracy of {acc:.4f}')\n",
        "\n"
      ]
    },
    {
      "cell_type": "markdown",
      "id": "50146d67",
      "metadata": {
        "id": "50146d67"
      },
      "source": [
        "# Neural Network (30 Points)"
      ]
    },
    {
      "cell_type": "markdown",
      "id": "485c4047",
      "metadata": {
        "id": "485c4047"
      },
      "source": [
        "In this section, you must implement a neural network model for clinical, gene expressions and reduced gene expressions datasets. Using the MPL models is suggested. (minimum acceptable accuracy = 60%)"
      ]
    },
    {
      "cell_type": "code",
      "execution_count": 25,
      "id": "c74a41b9",
      "metadata": {
        "colab": {
          "base_uri": "https://localhost:8080/"
        },
        "id": "c74a41b9",
        "outputId": "7284b7ce-3ebe-4be2-8d4b-972c2697bdfb"
      },
      "outputs": [
        {
          "data": {
            "text/plain": [
              "device(type='cpu')"
            ]
          },
          "execution_count": 25,
          "metadata": {},
          "output_type": "execute_result"
        }
      ],
      "source": [
        "device = torch.device('cuda:0' if torch.cuda.is_available() else 'cpu')\n",
        "device"
      ]
    },
    {
      "cell_type": "code",
      "execution_count": 26,
      "id": "2ecdff3a",
      "metadata": {
        "id": "2ecdff3a"
      },
      "outputs": [],
      "source": [
        "class CancerDataset(Dataset):\n",
        "\n",
        "    def __init__(self, X, y) -> None:\n",
        "        super().__init__()\n",
        "        self.X = X\n",
        "        self.y = y\n",
        "\n",
        "    def __len__(self):\n",
        "        return len(self.X)\n",
        "    \n",
        "    def __getitem__(self, idx):\n",
        "        return self.X[idx].astype(np.float32), self.y[idx].astype(np.float32)\n"
      ]
    },
    {
      "cell_type": "code",
      "execution_count": 27,
      "id": "aaa2d935",
      "metadata": {
        "id": "aaa2d935"
      },
      "outputs": [],
      "source": [
        "dataloaders = {}\n",
        "batch_size = 64\n",
        "\n",
        "for ds_name, ds_split in dataset.items():\n",
        "    dataloaders[ds_name] = {}\n",
        "    X_train = ds_split['X_train']\n",
        "    X_val = ds_split['X_val']\n",
        "    X_test = ds_split['X_test']\n",
        "    y_train = ds_split['y_train']\n",
        "    y_val = ds_split['y_val']\n",
        "    y_test = ds_split['y_test']\n",
        "    \n",
        "    train_ds = CancerDataset(X_train, y_train)\n",
        "    val_ds = CancerDataset(X_val, y_val)\n",
        "    test_ds = CancerDataset(X_test, y_test)\n",
        "\n",
        "    train_dl = DataLoader(train_ds, batch_size=batch_size, shuffle=True)\n",
        "    val_dl = DataLoader(val_ds, batch_size=batch_size, shuffle=True)\n",
        "    test_dl = DataLoader(test_ds, batch_size=batch_size, shuffle=True)\n",
        "\n",
        "    dataloaders[ds_name]['train'] = train_dl\n",
        "    dataloaders[ds_name]['val'] = val_dl\n",
        "    dataloaders[ds_name]['test'] = test_dl"
      ]
    },
    {
      "cell_type": "code",
      "execution_count": 38,
      "id": "JbseSF_CQnR1",
      "metadata": {
        "id": "JbseSF_CQnR1"
      },
      "outputs": [],
      "source": [
        "def evaluate(model, dataloader):\n",
        "    model.eval()\n",
        "    total, correct = 0, 0\n",
        "    with torch.no_grad():\n",
        "        for _, (data, labels) in enumerate(dataloader):\n",
        "            data, labels = data.to(device), labels.to(device)\n",
        "\n",
        "            pred = model(data).squeeze()\n",
        "            out = torch.round(pred)\n",
        "\n",
        "            correct = correct + (labels == out).sum().detach().cpu().numpy()\n",
        "            total = total + len(data)\n",
        "    \n",
        "    return correct / total"
      ]
    },
    {
      "cell_type": "code",
      "execution_count": 45,
      "id": "2992ff5a",
      "metadata": {
        "id": "2992ff5a"
      },
      "outputs": [],
      "source": [
        "def train(model, criterion, optimizer, train_dataloader, val_dataloader, num_epochs):\n",
        "    best_model = model\n",
        "    train_losses = []\n",
        "    val_losses = []\n",
        "    train_accs = []\n",
        "    val_accs = []\n",
        "    best_val_acc = 0.0\n",
        "\n",
        "    for epoch in range(num_epochs):\n",
        "        # train \n",
        "        model.train()\n",
        "        total, correct = 0, 0\n",
        "        train_loss = 0.0\n",
        "        with tqdm(enumerate(train_dataloader), total=len(train_dataloader)) as pbar:\n",
        "            for i, (data, labels) in pbar:\n",
        "                data, labels = data.to(device), labels.to(device)\n",
        "                optimizer.zero_grad()\n",
        "\n",
        "                pred = model(data).squeeze()\n",
        "                out = pred.detach().round()\n",
        "\n",
        "                total = total + len(data)\n",
        "                correct = correct + (labels == out).sum().detach().cpu().numpy()\n",
        "                \n",
        "                loss = criterion(pred, labels)\n",
        "                loss.backward()\n",
        "                optimizer.step()\n",
        "\n",
        "                train_loss = train_loss + loss.detach().cpu().numpy()\n",
        "                \n",
        "                pbar.set_description('Epoch {0}: train loss={1}, train accuracy={2}'.format(epoch, train_loss / total,\n",
        "                                                                                            correct / total))\n",
        "        \n",
        "        train_losses.append(train_loss)\n",
        "        train_accs.append((correct / total))\n",
        "        \n",
        "        # validation\n",
        "        model.eval()\n",
        "        total, correct = 0, 0\n",
        "        val_loss = 0.0\n",
        "        with torch.no_grad():\n",
        "            with tqdm(enumerate(val_dataloader), total=len(val_dataloader)) as pbar:\n",
        "                for i, (data, labels) in pbar:\n",
        "                    data, labels = data.to(device), labels.to(device)\n",
        "\n",
        "                    pred = model(data).squeeze()\n",
        "                    out = torch.round(pred)\n",
        "\n",
        "                    correct = correct + (labels == out).sum().detach().cpu().numpy()\n",
        "                    total = total + len(data)\n",
        "\n",
        "                    val_loss += criterion(pred, labels).detach().cpu().numpy()\n",
        "                    \n",
        "                    pbar.set_description('Epoch {0}: val loss={1}, val accuracy={2}'.format(epoch, val_loss / total,\n",
        "                                                                                                correct / total))\n",
        "        \n",
        "        val_acc = correct / total\n",
        "        if val_acc > best_val_acc:\n",
        "            print('New model saved, accuracy {0} -> {1}'.format(best_val_acc, val_acc))\n",
        "            best_val_acc = val_acc\n",
        "            best_model = deepcopy(model)\n",
        "\n",
        "    return train_losses, val_losses, train_accs, val_accs, best_model"
      ]
    },
    {
      "cell_type": "code",
      "execution_count": 46,
      "id": "344e1754",
      "metadata": {
        "colab": {
          "base_uri": "https://localhost:8080/",
          "height": 1000
        },
        "id": "344e1754",
        "outputId": "26ba861a-ac7c-4d82-cb1c-6fb2436811cd"
      },
      "outputs": [
        {
          "name": "stderr",
          "output_type": "stream",
          "text": [
            "Epoch 0: train loss=0.004382912144500044, train accuracy=0.48669695003244645: 100%|██████████| 25/25 [00:00<00:00, 51.40it/s] \n",
            "Epoch 0: val loss=0.004438582721144654, val accuracy=0.45348837209302323: 100%|██████████| 3/3 [00:00<00:00, 158.51it/s]\n"
          ]
        },
        {
          "name": "stdout",
          "output_type": "stream",
          "text": [
            "New model saved, accuracy 0.0 -> 0.45348837209302323\n"
          ]
        },
        {
          "name": "stderr",
          "output_type": "stream",
          "text": [
            "Epoch 1: train loss=0.004038453701639392, train accuracy=0.5515898767034393: 100%|██████████| 25/25 [00:00<00:00, 61.27it/s] \n",
            "Epoch 1: val loss=0.0043099106744278306, val accuracy=0.5348837209302325: 100%|██████████| 3/3 [00:00<00:00, 43.28it/s]\n"
          ]
        },
        {
          "name": "stdout",
          "output_type": "stream",
          "text": [
            "New model saved, accuracy 0.45348837209302323 -> 0.5348837209302325\n"
          ]
        },
        {
          "name": "stderr",
          "output_type": "stream",
          "text": [
            "Epoch 2: train loss=0.0037601497229780958, train accuracy=0.6242699545749514: 100%|██████████| 25/25 [00:00<00:00, 45.79it/s]\n",
            "Epoch 2: val loss=0.004122186538785003, val accuracy=0.5581395348837209: 100%|██████████| 3/3 [00:00<00:00, 114.49it/s]\n"
          ]
        },
        {
          "name": "stdout",
          "output_type": "stream",
          "text": [
            "New model saved, accuracy 0.5348837209302325 -> 0.5581395348837209\n"
          ]
        },
        {
          "name": "stderr",
          "output_type": "stream",
          "text": [
            "Epoch 3: train loss=0.003616013449944899, train accuracy=0.6463335496430889: 100%|██████████| 25/25 [00:00<00:00, 53.41it/s] \n",
            "Epoch 3: val loss=0.00405881458590197, val accuracy=0.6104651162790697: 100%|██████████| 3/3 [00:00<00:00, 199.22it/s]\n"
          ]
        },
        {
          "name": "stdout",
          "output_type": "stream",
          "text": [
            "New model saved, accuracy 0.5581395348837209 -> 0.6104651162790697\n"
          ]
        },
        {
          "name": "stderr",
          "output_type": "stream",
          "text": [
            "Epoch 4: train loss=0.0033770615427158313, train accuracy=0.6722907203114861: 100%|██████████| 25/25 [00:00<00:00, 62.21it/s]\n",
            "Epoch 4: val loss=0.0039045622702254808, val accuracy=0.622093023255814: 100%|██████████| 3/3 [00:00<00:00, 171.00it/s]\n"
          ]
        },
        {
          "name": "stdout",
          "output_type": "stream",
          "text": [
            "New model saved, accuracy 0.6104651162790697 -> 0.622093023255814\n"
          ]
        },
        {
          "name": "stderr",
          "output_type": "stream",
          "text": [
            "Epoch 5: train loss=0.0032981732288480657, train accuracy=0.6917585983127839: 100%|██████████| 25/25 [00:00<00:00, 64.81it/s]\n",
            "Epoch 5: val loss=0.003796173996010492, val accuracy=0.6395348837209303: 100%|██████████| 3/3 [00:00<00:00, 207.44it/s]\n"
          ]
        },
        {
          "name": "stdout",
          "output_type": "stream",
          "text": [
            "New model saved, accuracy 0.622093023255814 -> 0.6395348837209303\n"
          ]
        },
        {
          "name": "stderr",
          "output_type": "stream",
          "text": [
            "Epoch 6: train loss=0.0031716264856859588, train accuracy=0.7242050616482804: 100%|██████████| 25/25 [00:00<00:00, 49.87it/s]\n",
            "Epoch 6: val loss=0.003721185808264932, val accuracy=0.6337209302325582: 100%|██████████| 3/3 [00:00<00:00, 81.35it/s]\n",
            "Epoch 7: train loss=0.003007660847759185, train accuracy=0.7475665152498377: 100%|██████████| 25/25 [00:00<00:00, 35.53it/s] \n",
            "Epoch 7: val loss=0.0036021725729454396, val accuracy=0.6802325581395349: 100%|██████████| 3/3 [00:00<00:00, 198.64it/s]\n"
          ]
        },
        {
          "name": "stdout",
          "output_type": "stream",
          "text": [
            "New model saved, accuracy 0.6395348837209303 -> 0.6802325581395349\n"
          ]
        },
        {
          "name": "stderr",
          "output_type": "stream",
          "text": [
            "Epoch 8: train loss=0.003013066981304473, train accuracy=0.7579493835171967: 100%|██████████| 25/25 [00:00<00:00, 61.12it/s] \n",
            "Epoch 8: val loss=0.003645935723947924, val accuracy=0.686046511627907: 100%|██████████| 3/3 [00:00<00:00, 138.46it/s]\n"
          ]
        },
        {
          "name": "stdout",
          "output_type": "stream",
          "text": [
            "New model saved, accuracy 0.6802325581395349 -> 0.686046511627907\n"
          ]
        },
        {
          "name": "stderr",
          "output_type": "stream",
          "text": [
            "Epoch 9: train loss=0.0028327354251139352, train accuracy=0.7689811810512654: 100%|██████████| 25/25 [00:00<00:00, 65.66it/s]\n",
            "Epoch 9: val loss=0.0035713727391043374, val accuracy=0.7034883720930233: 100%|██████████| 3/3 [00:00<00:00, 183.89it/s]\n"
          ]
        },
        {
          "name": "stdout",
          "output_type": "stream",
          "text": [
            "New model saved, accuracy 0.686046511627907 -> 0.7034883720930233\n"
          ]
        },
        {
          "name": "stderr",
          "output_type": "stream",
          "text": [
            "Epoch 10: train loss=0.002833926787939573, train accuracy=0.7852044127190136: 100%|██████████| 25/25 [00:00<00:00, 59.66it/s] \n",
            "Epoch 10: val loss=0.0035036232235819793, val accuracy=0.6918604651162791: 100%|██████████| 3/3 [00:00<00:00, 159.48it/s]\n",
            "Epoch 11: train loss=0.0028091759688663918, train accuracy=0.7787151200519143: 100%|██████████| 25/25 [00:00<00:00, 45.77it/s]\n",
            "Epoch 11: val loss=0.003460543360127959, val accuracy=0.7151162790697675: 100%|██████████| 3/3 [00:00<00:00, 281.45it/s]\n"
          ]
        },
        {
          "name": "stdout",
          "output_type": "stream",
          "text": [
            "New model saved, accuracy 0.7034883720930233 -> 0.7151162790697675\n"
          ]
        },
        {
          "name": "stderr",
          "output_type": "stream",
          "text": [
            "Epoch 12: train loss=0.0027154117996703486, train accuracy=0.7988319273199221: 100%|██████████| 25/25 [00:00<00:00, 52.78it/s]\n",
            "Epoch 12: val loss=0.0034342206321483436, val accuracy=0.7151162790697675: 100%|██████████| 3/3 [00:00<00:00, 58.63it/s]\n",
            "Epoch 13: train loss=0.002602644008448339, train accuracy=0.799480856586632: 100%|██████████| 25/25 [00:00<00:00, 80.33it/s]  \n",
            "Epoch 13: val loss=0.0033958697215069173, val accuracy=0.7383720930232558: 100%|██████████| 3/3 [00:00<00:00, 248.41it/s]\n"
          ]
        },
        {
          "name": "stdout",
          "output_type": "stream",
          "text": [
            "New model saved, accuracy 0.7151162790697675 -> 0.7383720930232558\n"
          ]
        },
        {
          "name": "stderr",
          "output_type": "stream",
          "text": [
            "Epoch 14: train loss=0.002536372191560957, train accuracy=0.8053212199870214: 100%|██████████| 25/25 [00:00<00:00, 105.12it/s] \n",
            "Epoch 14: val loss=0.0034121197843274406, val accuracy=0.7151162790697675: 100%|██████████| 3/3 [00:00<00:00, 205.57it/s]\n",
            "Epoch 15: train loss=0.002564087239354559, train accuracy=0.808565866320571: 100%|██████████| 25/25 [00:00<00:00, 57.46it/s]  \n",
            "Epoch 15: val loss=0.0033531225351400152, val accuracy=0.7383720930232558: 100%|██████████| 3/3 [00:00<00:00, 188.70it/s]\n",
            "Epoch 16: train loss=0.0024861416535900444, train accuracy=0.8202465931213497: 100%|██████████| 25/25 [00:00<00:00, 67.56it/s]\n",
            "Epoch 16: val loss=0.0032638049749440924, val accuracy=0.7383720930232558: 100%|██████████| 3/3 [00:00<00:00, 122.01it/s]\n",
            "Epoch 17: train loss=0.0023501936604959635, train accuracy=0.8384166125892277: 100%|██████████| 25/25 [00:00<00:00, 66.11it/s]\n",
            "Epoch 17: val loss=0.0033844458155853803, val accuracy=0.7383720930232558: 100%|██████████| 3/3 [00:00<00:00, 102.01it/s]\n",
            "Epoch 18: train loss=0.00231023007577151, train accuracy=0.8351719662556781: 100%|██████████| 25/25 [00:00<00:00, 53.08it/s]  \n",
            "Epoch 18: val loss=0.003398298957320147, val accuracy=0.7267441860465116: 100%|██████████| 3/3 [00:00<00:00, 39.67it/s]\n",
            "Epoch 19: train loss=0.002367265208211524, train accuracy=0.8410123296560675: 100%|██████████| 25/25 [00:00<00:00, 76.96it/s] \n",
            "Epoch 19: val loss=0.003265020112658656, val accuracy=0.7267441860465116: 100%|██████████| 3/3 [00:00<00:00, 161.07it/s]\n",
            "Epoch 20: train loss=0.002292845893764867, train accuracy=0.8325762491888384: 100%|██████████| 25/25 [00:00<00:00, 68.66it/s] \n",
            "Epoch 20: val loss=0.0032754285737525584, val accuracy=0.7325581395348837: 100%|██████████| 3/3 [00:00<00:00, 46.66it/s]\n",
            "Epoch 21: train loss=0.002313553455354021, train accuracy=0.8436080467229072: 100%|██████████| 25/25 [00:00<00:00, 45.08it/s] \n",
            "Epoch 21: val loss=0.003371149648067563, val accuracy=0.7093023255813954: 100%|██████████| 3/3 [00:00<00:00, 119.91it/s]\n",
            "Epoch 22: train loss=0.0022532699906462434, train accuracy=0.8487994808565866: 100%|██████████| 25/25 [00:00<00:00, 70.96it/s]\n",
            "Epoch 22: val loss=0.00327407568693161, val accuracy=0.7383720930232558: 100%|██████████| 3/3 [00:00<00:00, 158.20it/s]\n",
            "Epoch 23: train loss=0.0022175870473163614, train accuracy=0.8591823491239455: 100%|██████████| 25/25 [00:00<00:00, 59.31it/s]\n",
            "Epoch 23: val loss=0.003376424572495527, val accuracy=0.7267441860465116: 100%|██████████| 3/3 [00:00<00:00, 295.47it/s]\n",
            "Epoch 24: train loss=0.0020546477135708393, train accuracy=0.8604802076573653: 100%|██████████| 25/25 [00:00<00:00, 53.29it/s]\n",
            "Epoch 24: val loss=0.0032653060936650566, val accuracy=0.7267441860465116: 100%|██████████| 3/3 [00:00<00:00, 74.00it/s]\n",
            "Epoch 25: train loss=0.0021229942488175256, train accuracy=0.8604802076573653: 100%|██████████| 25/25 [00:00<00:00, 52.02it/s]\n",
            "Epoch 25: val loss=0.0033632934440013976, val accuracy=0.7325581395348837: 100%|██████████| 3/3 [00:00<00:00, 200.19it/s]\n",
            "Epoch 26: train loss=0.0020205793318463796, train accuracy=0.8663205710577547: 100%|██████████| 25/25 [00:01<00:00, 22.46it/s]\n",
            "Epoch 26: val loss=0.0032949795903161514, val accuracy=0.7325581395348837: 100%|██████████| 3/3 [00:00<00:00, 109.88it/s]\n",
            "Epoch 27: train loss=0.001938554096307018, train accuracy=0.8682673588578845: 100%|██████████| 25/25 [00:00<00:00, 92.89it/s]  \n",
            "Epoch 27: val loss=0.0033232105332751606, val accuracy=0.75: 100%|██████████| 3/3 [00:00<00:00, 207.78it/s]\n"
          ]
        },
        {
          "name": "stdout",
          "output_type": "stream",
          "text": [
            "New model saved, accuracy 0.7383720930232558 -> 0.75\n"
          ]
        },
        {
          "name": "stderr",
          "output_type": "stream",
          "text": [
            "Epoch 28: train loss=0.001940470655423956, train accuracy=0.8669695003244646: 100%|██████████| 25/25 [00:00<00:00, 55.56it/s]  \n",
            "Epoch 28: val loss=0.0032953168590401493, val accuracy=0.7209302325581395: 100%|██████████| 3/3 [00:00<00:00, 119.17it/s]\n",
            "Epoch 29: train loss=0.0018435754873085764, train accuracy=0.8760545100584036: 100%|██████████| 25/25 [00:00<00:00, 65.37it/s]\n",
            "Epoch 29: val loss=0.003338813261930333, val accuracy=0.7325581395348837: 100%|██████████| 3/3 [00:00<00:00, 282.72it/s]\n",
            "Epoch 30: train loss=0.0017880300044201165, train accuracy=0.8786502271252433: 100%|██████████| 25/25 [00:00<00:00, 61.95it/s]\n",
            "Epoch 30: val loss=0.003312605238238046, val accuracy=0.7267441860465116: 100%|██████████| 3/3 [00:00<00:00, 170.50it/s]\n",
            "Epoch 31: train loss=0.0019054209050770165, train accuracy=0.8734587929915639: 100%|██████████| 25/25 [00:00<00:00, 75.89it/s]\n",
            "Epoch 31: val loss=0.0033228845270567163, val accuracy=0.7209302325581395: 100%|██████████| 3/3 [00:00<00:00, 59.18it/s]\n",
            "Epoch 32: train loss=0.001705343680943397, train accuracy=0.881245944192083: 100%|██████████| 25/25 [00:00<00:00, 90.42it/s]  \n",
            "Epoch 32: val loss=0.003422987322474635, val accuracy=0.7325581395348837: 100%|██████████| 3/3 [00:00<00:00, 72.23it/s]\n",
            "Epoch 33: train loss=0.001765177325913072, train accuracy=0.8844905905256327: 100%|██████████| 25/25 [00:00<00:00, 66.11it/s] \n",
            "Epoch 33: val loss=0.003316280367069466, val accuracy=0.7151162790697675: 100%|██████████| 3/3 [00:00<00:00, 146.20it/s]\n",
            "Epoch 34: train loss=0.0018242173220800316, train accuracy=0.8877352368591823: 100%|██████████| 25/25 [00:00<00:00, 101.69it/s]\n",
            "Epoch 34: val loss=0.003339008189911066, val accuracy=0.7093023255813954: 100%|██████████| 3/3 [00:00<00:00, 188.82it/s]\n",
            "Epoch 35: train loss=0.0016851857894430835, train accuracy=0.8942245295262816: 100%|██████████| 25/25 [00:00<00:00, 44.32it/s]\n",
            "Epoch 35: val loss=0.003371586286744406, val accuracy=0.7093023255813954: 100%|██████████| 3/3 [00:00<00:00, 328.25it/s]\n",
            "Epoch 36: train loss=0.0016257062380303042, train accuracy=0.8864373783257625: 100%|██████████| 25/25 [00:00<00:00, 55.81it/s]\n",
            "Epoch 36: val loss=0.00327505890366643, val accuracy=0.7267441860465116: 100%|██████████| 3/3 [00:00<00:00, 190.73it/s]\n",
            "Epoch 37: train loss=0.0017411787543955908, train accuracy=0.890979883192732: 100%|██████████| 25/25 [00:00<00:00, 110.17it/s] \n",
            "Epoch 37: val loss=0.0033326314459013384, val accuracy=0.7209302325581395: 100%|██████████| 3/3 [00:00<00:00, 59.89it/s]\n",
            "Epoch 38: train loss=0.001750609502051265, train accuracy=0.8974691758598313: 100%|██████████| 25/25 [00:00<00:00, 57.69it/s] \n",
            "Epoch 38: val loss=0.00328534365046856, val accuracy=0.7093023255813954: 100%|██████████| 3/3 [00:00<00:00, 220.06it/s]\n",
            "Epoch 39: train loss=0.0016294026543071409, train accuracy=0.9033095392602206: 100%|██████████| 25/25 [00:00<00:00, 96.39it/s] \n",
            "Epoch 39: val loss=0.0033440212177675826, val accuracy=0.7267441860465116: 100%|██████████| 3/3 [00:00<00:00, 41.34it/s]\n",
            "Epoch 40: train loss=0.0015195397144010668, train accuracy=0.9085009733939: 100%|██████████| 25/25 [00:00<00:00, 87.30it/s]   \n",
            "Epoch 40: val loss=0.0033593095492484956, val accuracy=0.7093023255813954: 100%|██████████| 3/3 [00:00<00:00, 39.52it/s]\n",
            "Epoch 41: train loss=0.0015523437601571576, train accuracy=0.9072031148604802: 100%|██████████| 25/25 [00:00<00:00, 105.27it/s]\n",
            "Epoch 41: val loss=0.0033498029549454533, val accuracy=0.7093023255813954: 100%|██████████| 3/3 [00:00<00:00, 328.06it/s]\n",
            "Epoch 42: train loss=0.0014980952560630888, train accuracy=0.9059052563270603: 100%|██████████| 25/25 [00:00<00:00, 117.98it/s]\n",
            "Epoch 42: val loss=0.0032710050947444384, val accuracy=0.7267441860465116: 100%|██████████| 3/3 [00:00<00:00, 178.75it/s]\n",
            "Epoch 43: train loss=0.0015683492221358843, train accuracy=0.9169370538611291: 100%|██████████| 25/25 [00:00<00:00, 68.40it/s]\n",
            "Epoch 43: val loss=0.003347383075675299, val accuracy=0.7151162790697675: 100%|██████████| 3/3 [00:00<00:00, 263.98it/s]\n",
            "Epoch 44: train loss=0.0014586393503226837, train accuracy=0.9162881245944192: 100%|██████████| 25/25 [00:00<00:00, 114.12it/s]\n",
            "Epoch 44: val loss=0.0034001881126747573, val accuracy=0.7093023255813954: 100%|██████████| 3/3 [00:00<00:00, 186.09it/s]\n",
            "Epoch 45: train loss=0.0014260455018355427, train accuracy=0.9078520441271901: 100%|██████████| 25/25 [00:00<00:00, 81.15it/s]\n",
            "Epoch 45: val loss=0.0033114065611085227, val accuracy=0.7441860465116279: 100%|██████████| 3/3 [00:00<00:00, 340.33it/s]\n",
            "Epoch 46: train loss=0.00131514782568296, train accuracy=0.9253731343283582: 100%|██████████| 25/25 [00:00<00:00, 67.11it/s] \n",
            "Epoch 46: val loss=0.0034882389875345453, val accuracy=0.7093023255813954: 100%|██████████| 3/3 [00:00<00:00, 67.03it/s]\n",
            "Epoch 47: train loss=0.0014296570003496834, train accuracy=0.9208306294613887: 100%|██████████| 25/25 [00:00<00:00, 77.78it/s]\n",
            "Epoch 47: val loss=0.003581367952879085, val accuracy=0.7151162790697675: 100%|██████████| 3/3 [00:00<00:00, 38.04it/s]\n",
            "Epoch 48: train loss=0.0012191389805210017, train accuracy=0.9279688513951979: 100%|██████████| 25/25 [00:00<00:00, 51.45it/s] \n",
            "Epoch 48: val loss=0.003298063264336697, val accuracy=0.7325581395348837: 100%|██████████| 3/3 [00:00<00:00, 167.02it/s]\n",
            "Epoch 49: train loss=0.0012396689912934028, train accuracy=0.9331602855288773: 100%|██████████| 25/25 [00:00<00:00, 104.71it/s]\n",
            "Epoch 49: val loss=0.00354738108987032, val accuracy=0.7093023255813954: 100%|██████████| 3/3 [00:00<00:00, 157.28it/s]\n",
            "Epoch 0: train loss=0.004304107977228456, train accuracy=0.5152498377676833: 100%|██████████| 25/25 [00:00<00:00, 56.03it/s]   \n",
            "Epoch 0: val loss=0.004202932639177455, val accuracy=0.627906976744186: 100%|██████████| 3/3 [00:00<00:00, 245.76it/s]\n"
          ]
        },
        {
          "name": "stdout",
          "output_type": "stream",
          "text": [
            "New model saved, accuracy 0.0 -> 0.627906976744186\n"
          ]
        },
        {
          "name": "stderr",
          "output_type": "stream",
          "text": [
            "Epoch 1: train loss=0.0036585209317055714, train accuracy=0.6463335496430889: 100%|██████████| 25/25 [00:00<00:00, 47.99it/s]\n",
            "Epoch 1: val loss=0.004275715455066326, val accuracy=0.5755813953488372: 100%|██████████| 3/3 [00:00<00:00, 264.47it/s]\n",
            "Epoch 2: train loss=0.0035055202856843614, train accuracy=0.6963011031797534: 100%|██████████| 25/25 [00:00<00:00, 70.59it/s] \n",
            "Epoch 2: val loss=0.00424319930201353, val accuracy=0.5813953488372093: 100%|██████████| 3/3 [00:00<00:00, 18.58it/s]\n",
            "Epoch 3: train loss=0.0032580138258466776, train accuracy=0.7242050616482804: 100%|██████████| 25/25 [00:00<00:00, 47.16it/s]\n",
            "Epoch 3: val loss=0.0042960331017194795, val accuracy=0.5872093023255814: 100%|██████████| 3/3 [00:00<00:00, 118.68it/s]\n",
            "Epoch 4: train loss=0.0031631179323140714, train accuracy=0.7508111615833875: 100%|██████████| 25/25 [00:00<00:00, 37.22it/s]\n",
            "Epoch 4: val loss=0.004161885744610498, val accuracy=0.5755813953488372: 100%|██████████| 3/3 [00:00<00:00, 151.48it/s]\n",
            "Epoch 5: train loss=0.002874947760416114, train accuracy=0.7910447761194029: 100%|██████████| 25/25 [00:00<00:00, 78.47it/s] \n",
            "Epoch 5: val loss=0.004211302673400834, val accuracy=0.6046511627906976: 100%|██████████| 3/3 [00:00<00:00, 259.39it/s]\n",
            "Epoch 6: train loss=0.002771365012076673, train accuracy=0.7988319273199221: 100%|██████████| 25/25 [00:00<00:00, 76.80it/s] \n",
            "Epoch 6: val loss=0.004235046287608701, val accuracy=0.5755813953488372: 100%|██████████| 3/3 [00:00<00:00, 172.34it/s]\n",
            "Epoch 7: train loss=0.0026563431808965536, train accuracy=0.8397144711226476: 100%|██████████| 25/25 [00:00<00:00, 35.32it/s]\n",
            "Epoch 7: val loss=0.0041555983209332755, val accuracy=0.6046511627906976: 100%|██████████| 3/3 [00:00<00:00, 50.37it/s]\n",
            "Epoch 8: train loss=0.002420812816220704, train accuracy=0.8676184295911745: 100%|██████████| 25/25 [00:00<00:00, 74.58it/s] \n",
            "Epoch 8: val loss=0.004092842946911967, val accuracy=0.5988372093023255: 100%|██████████| 3/3 [00:00<00:00, 93.92it/s]\n",
            "Epoch 9: train loss=0.0023502945213407607, train accuracy=0.8669695003244646: 100%|██████████| 25/25 [00:00<00:00, 63.14it/s]\n",
            "Epoch 9: val loss=0.004159206827712613, val accuracy=0.5872093023255814: 100%|██████████| 3/3 [00:00<00:00, 145.46it/s]\n",
            "Epoch 10: train loss=0.002291716649731903, train accuracy=0.8805970149253731: 100%|██████████| 25/25 [00:00<00:00, 67.69it/s] \n",
            "Epoch 10: val loss=0.004183821640042371, val accuracy=0.5930232558139535: 100%|██████████| 3/3 [00:00<00:00, 236.98it/s]\n",
            "Epoch 11: train loss=0.002108935868678195, train accuracy=0.900064892926671: 100%|██████████| 25/25 [00:00<00:00, 46.86it/s]  \n",
            "Epoch 11: val loss=0.004066773105499356, val accuracy=0.6046511627906976: 100%|██████████| 3/3 [00:00<00:00, 89.65it/s]\n",
            "Epoch 12: train loss=0.001993912408136842, train accuracy=0.917585983127839: 100%|██████████| 25/25 [00:00<00:00, 51.50it/s]  \n",
            "Epoch 12: val loss=0.004103033261936765, val accuracy=0.6395348837209303: 100%|██████████| 3/3 [00:00<00:00, 190.13it/s]\n"
          ]
        },
        {
          "name": "stdout",
          "output_type": "stream",
          "text": [
            "New model saved, accuracy 0.627906976744186 -> 0.6395348837209303\n"
          ]
        },
        {
          "name": "stderr",
          "output_type": "stream",
          "text": [
            "Epoch 13: train loss=0.0018918631207935227, train accuracy=0.9331602855288773: 100%|██████████| 25/25 [00:00<00:00, 48.73it/s]\n",
            "Epoch 13: val loss=0.004200251209874486, val accuracy=0.6395348837209303: 100%|██████████| 3/3 [00:00<00:00, 92.29it/s]\n",
            "Epoch 14: train loss=0.0018056603190884971, train accuracy=0.9286177806619078: 100%|██████████| 25/25 [00:00<00:00, 64.70it/s]\n",
            "Epoch 14: val loss=0.004154757531576379, val accuracy=0.622093023255814: 100%|██████████| 3/3 [00:00<00:00, 208.06it/s]\n",
            "Epoch 15: train loss=0.0016733030030125539, train accuracy=0.9390006489292667: 100%|██████████| 25/25 [00:00<00:00, 73.62it/s]\n",
            "Epoch 15: val loss=0.004028331228466921, val accuracy=0.6337209302325582: 100%|██████████| 3/3 [00:00<00:00, 242.95it/s]\n",
            "Epoch 16: train loss=0.001568652563749545, train accuracy=0.9487345879299156: 100%|██████████| 25/25 [00:00<00:00, 53.42it/s] \n",
            "Epoch 16: val loss=0.0040471159614795865, val accuracy=0.6627906976744186: 100%|██████████| 3/3 [00:00<00:00, 171.71it/s]\n"
          ]
        },
        {
          "name": "stdout",
          "output_type": "stream",
          "text": [
            "New model saved, accuracy 0.6395348837209303 -> 0.6627906976744186\n"
          ]
        },
        {
          "name": "stderr",
          "output_type": "stream",
          "text": [
            "Epoch 17: train loss=0.0015143219969011143, train accuracy=0.9532770927968851: 100%|██████████| 25/25 [00:00<00:00, 68.62it/s]\n",
            "Epoch 17: val loss=0.004119667289562003, val accuracy=0.6337209302325582: 100%|██████████| 3/3 [00:00<00:00, 193.20it/s]\n",
            "Epoch 18: train loss=0.0014427245958991673, train accuracy=0.9597663854639844: 100%|██████████| 25/25 [00:00<00:00, 63.09it/s]\n",
            "Epoch 18: val loss=0.004056333975736485, val accuracy=0.6453488372093024: 100%|██████████| 3/3 [00:00<00:00, 217.56it/s]\n",
            "Epoch 19: train loss=0.0014195953973851214, train accuracy=0.9669046073977936: 100%|██████████| 25/25 [00:00<00:00, 83.94it/s]\n",
            "Epoch 19: val loss=0.003994765323261882, val accuracy=0.6337209302325582: 100%|██████████| 3/3 [00:00<00:00, 227.88it/s]\n",
            "Epoch 20: train loss=0.001275325782650249, train accuracy=0.9688513951979234: 100%|██████████| 25/25 [00:00<00:00, 77.60it/s]  \n",
            "Epoch 20: val loss=0.004092892068763112, val accuracy=0.627906976744186: 100%|██████████| 3/3 [00:00<00:00, 199.13it/s]\n",
            "Epoch 21: train loss=0.0012505847542491693, train accuracy=0.9675535366645036: 100%|██████████| 25/25 [00:00<00:00, 71.07it/s]\n",
            "Epoch 21: val loss=0.0041624128298704014, val accuracy=0.627906976744186: 100%|██████████| 3/3 [00:00<00:00, 227.65it/s]\n",
            "Epoch 22: train loss=0.001125962269781937, train accuracy=0.9753406878650227: 100%|██████████| 25/25 [00:00<00:00, 76.95it/s] \n",
            "Epoch 22: val loss=0.003956826706958371, val accuracy=0.6453488372093024: 100%|██████████| 3/3 [00:00<00:00, 171.91it/s]\n",
            "Epoch 23: train loss=0.0010733863992748284, train accuracy=0.9785853341985724: 100%|██████████| 25/25 [00:00<00:00, 42.23it/s]\n",
            "Epoch 23: val loss=0.0040107793066390725, val accuracy=0.6453488372093024: 100%|██████████| 3/3 [00:00<00:00, 197.28it/s]\n",
            "Epoch 24: train loss=0.0010464132064197994, train accuracy=0.9798831927319922: 100%|██████████| 25/25 [00:00<00:00, 52.48it/s]\n",
            "Epoch 24: val loss=0.003929511319066203, val accuracy=0.6511627906976745: 100%|██████████| 3/3 [00:00<00:00, 157.53it/s]\n",
            "Epoch 25: train loss=0.0009725268260563139, train accuracy=0.9850746268656716: 100%|██████████| 25/25 [00:00<00:00, 35.35it/s]\n",
            "Epoch 25: val loss=0.004032673617435056, val accuracy=0.6511627906976745: 100%|██████████| 3/3 [00:00<00:00, 143.26it/s]\n",
            "Epoch 26: train loss=0.0010295508672361789, train accuracy=0.9844256975989617: 100%|██████████| 25/25 [00:00<00:00, 42.03it/s]\n",
            "Epoch 26: val loss=0.00413269255050393, val accuracy=0.6337209302325582: 100%|██████████| 3/3 [00:00<00:00, 95.78it/s]\n",
            "Epoch 27: train loss=0.0009430349501675402, train accuracy=0.9870214146658014: 100%|██████████| 25/25 [00:01<00:00, 24.45it/s]\n",
            "Epoch 27: val loss=0.0040330637333004975, val accuracy=0.6337209302325582: 100%|██████████| 3/3 [00:00<00:00, 67.02it/s]\n",
            "Epoch 28: train loss=0.0008955326929717463, train accuracy=0.9850746268656716: 100%|██████████| 25/25 [00:00<00:00, 81.93it/s]\n",
            "Epoch 28: val loss=0.004157894659180974, val accuracy=0.622093023255814: 100%|██████████| 3/3 [00:00<00:00, 208.07it/s]\n",
            "Epoch 29: train loss=0.000821252439913233, train accuracy=0.9922128487994809: 100%|██████████| 25/25 [00:00<00:00, 52.94it/s] \n",
            "Epoch 29: val loss=0.003981929705586544, val accuracy=0.6337209302325582: 100%|██████████| 3/3 [00:00<00:00, 226.21it/s]\n",
            "Epoch 30: train loss=0.0008748160055092138, train accuracy=0.9889682024659312: 100%|██████████| 25/25 [00:00<00:00, 66.79it/s]\n",
            "Epoch 30: val loss=0.004142165184020996, val accuracy=0.6453488372093024: 100%|██████████| 3/3 [00:00<00:00, 164.27it/s]\n",
            "Epoch 31: train loss=0.0007583801401930147, train accuracy=0.9935107073329007: 100%|██████████| 25/25 [00:00<00:00, 47.56it/s]\n",
            "Epoch 31: val loss=0.004079546606124833, val accuracy=0.6569767441860465: 100%|██████████| 3/3 [00:00<00:00, 94.88it/s]\n",
            "Epoch 32: train loss=0.0007240611728640983, train accuracy=0.9954574951330305: 100%|██████████| 25/25 [00:00<00:00, 45.25it/s]\n",
            "Epoch 32: val loss=0.004010021686553955, val accuracy=0.6511627906976745: 100%|██████████| 3/3 [00:00<00:00, 160.10it/s]\n",
            "Epoch 33: train loss=0.0007211325314236801, train accuracy=0.9948085658663206: 100%|██████████| 25/25 [00:00<00:00, 41.69it/s]\n",
            "Epoch 33: val loss=0.004032676822917406, val accuracy=0.6453488372093024: 100%|██████████| 3/3 [00:00<00:00, 254.47it/s]\n",
            "Epoch 34: train loss=0.0007526636665166005, train accuracy=0.9889682024659312: 100%|██████████| 25/25 [00:00<00:00, 59.83it/s]\n",
            "Epoch 34: val loss=0.003882760485244352, val accuracy=0.6627906976744186: 100%|██████████| 3/3 [00:00<00:00, 228.87it/s]\n",
            "Epoch 35: train loss=0.0007456577178102898, train accuracy=0.9935107073329007: 100%|██████████| 25/25 [00:00<00:00, 62.98it/s]\n",
            "Epoch 35: val loss=0.0039039767065713574, val accuracy=0.6569767441860465: 100%|██████████| 3/3 [00:00<00:00, 270.94it/s]\n",
            "Epoch 36: train loss=0.0006563290204226699, train accuracy=0.9954574951330305: 100%|██████████| 25/25 [00:00<00:00, 33.81it/s]\n",
            "Epoch 36: val loss=0.003897320045981296, val accuracy=0.6395348837209303: 100%|██████████| 3/3 [00:00<00:00, 246.38it/s]\n",
            "Epoch 37: train loss=0.0007537322905758308, train accuracy=0.9961064243997404: 100%|██████████| 25/25 [00:00<00:00, 90.12it/s]\n",
            "Epoch 37: val loss=0.004042625340611436, val accuracy=0.6569767441860465: 100%|██████████| 3/3 [00:00<00:00, 30.14it/s]\n",
            "Epoch 38: train loss=0.0005461755453437895, train accuracy=0.9948085658663206: 100%|██████████| 25/25 [00:00<00:00, 41.07it/s]\n",
            "Epoch 38: val loss=0.004057775749716648, val accuracy=0.6744186046511628: 100%|██████████| 3/3 [00:00<00:00, 130.43it/s]\n"
          ]
        },
        {
          "name": "stdout",
          "output_type": "stream",
          "text": [
            "New model saved, accuracy 0.6627906976744186 -> 0.6744186046511628\n"
          ]
        },
        {
          "name": "stderr",
          "output_type": "stream",
          "text": [
            "Epoch 39: train loss=0.0005494246910834452, train accuracy=0.9974042829331603: 100%|██████████| 25/25 [00:00<00:00, 50.97it/s] \n",
            "Epoch 39: val loss=0.004127557107875514, val accuracy=0.6511627906976745: 100%|██████████| 3/3 [00:00<00:00, 147.50it/s]\n",
            "Epoch 40: train loss=0.0005903151901626185, train accuracy=0.9961064243997404: 100%|██████████| 25/25 [00:00<00:00, 44.62it/s] \n",
            "Epoch 40: val loss=0.00414014287119688, val accuracy=0.6337209302325582: 100%|██████████| 3/3 [00:00<00:00, 138.98it/s]\n",
            "Epoch 41: train loss=0.0006086191260373724, train accuracy=0.9974042829331603: 100%|██████████| 25/25 [00:00<00:00, 44.06it/s] \n",
            "Epoch 41: val loss=0.00420205477018689, val accuracy=0.627906976744186: 100%|██████████| 3/3 [00:00<00:00, 213.28it/s]\n",
            "Epoch 42: train loss=0.0004488907532015843, train accuracy=0.9987021414665801: 100%|██████████| 25/25 [00:00<00:00, 45.35it/s] \n",
            "Epoch 42: val loss=0.004214094995066177, val accuracy=0.6453488372093024: 100%|██████████| 3/3 [00:00<00:00, 102.32it/s]\n",
            "Epoch 43: train loss=0.0004924931089012441, train accuracy=0.9967553536664504: 100%|██████████| 25/25 [00:00<00:00, 50.98it/s] \n",
            "Epoch 43: val loss=0.004125377639781597, val accuracy=0.6453488372093024: 100%|██████████| 3/3 [00:00<00:00, 155.59it/s]\n",
            "Epoch 44: train loss=0.0005467952284079569, train accuracy=0.9967553536664504: 100%|██████████| 25/25 [00:00<00:00, 27.98it/s] \n",
            "Epoch 44: val loss=0.004246838910635127, val accuracy=0.6453488372093024: 100%|██████████| 3/3 [00:00<00:00, 118.61it/s]\n",
            "Epoch 45: train loss=0.00046074954885928993, train accuracy=0.9987021414665801: 100%|██████████| 25/25 [00:00<00:00, 56.72it/s]\n",
            "Epoch 45: val loss=0.004190931659798289, val accuracy=0.627906976744186: 100%|██████████| 3/3 [00:00<00:00, 32.04it/s]\n",
            "Epoch 46: train loss=0.00046567256592025546, train accuracy=0.9987021414665801: 100%|██████████| 25/25 [00:00<00:00, 43.91it/s]\n",
            "Epoch 46: val loss=0.004158580805673156, val accuracy=0.6337209302325582: 100%|██████████| 3/3 [00:00<00:00, 20.06it/s]\n",
            "Epoch 47: train loss=0.0004461073219331343, train accuracy=0.9980532121998702: 100%|██████████| 25/25 [00:00<00:00, 40.91it/s] \n",
            "Epoch 47: val loss=0.004111977077500765, val accuracy=0.6627906976744186: 100%|██████████| 3/3 [00:00<00:00, 70.72it/s]\n",
            "Epoch 48: train loss=0.0005371308517457988, train accuracy=0.9961064243997404: 100%|██████████| 25/25 [00:00<00:00, 70.14it/s] \n",
            "Epoch 48: val loss=0.0042021031123261115, val accuracy=0.627906976744186: 100%|██████████| 3/3 [00:00<00:00, 31.27it/s]\n",
            "Epoch 49: train loss=0.00038100754700741315, train accuracy=0.9961064243997404: 100%|██████████| 25/25 [00:00<00:00, 37.41it/s]\n",
            "Epoch 49: val loss=0.004180837422609329, val accuracy=0.6395348837209303: 100%|██████████| 3/3 [00:00<00:00, 73.57it/s]\n",
            "Epoch 0: train loss=0.0039962159105897494, train accuracy=0.5619727449707982: 100%|██████████| 25/25 [00:00<00:00, 54.25it/s]\n",
            "Epoch 0: val loss=0.004246218086675156, val accuracy=0.5930232558139535: 100%|██████████| 3/3 [00:00<00:00, 194.09it/s]\n"
          ]
        },
        {
          "name": "stdout",
          "output_type": "stream",
          "text": [
            "New model saved, accuracy 0.0 -> 0.5930232558139535\n"
          ]
        },
        {
          "name": "stderr",
          "output_type": "stream",
          "text": [
            "Epoch 1: train loss=0.0038269926285604467, train accuracy=0.6164828033744322: 100%|██████████| 25/25 [00:00<00:00, 53.49it/s]\n",
            "Epoch 1: val loss=0.004079562200363292, val accuracy=0.6162790697674418: 100%|██████████| 3/3 [00:00<00:00, 64.62it/s]\n"
          ]
        },
        {
          "name": "stdout",
          "output_type": "stream",
          "text": [
            "New model saved, accuracy 0.5930232558139535 -> 0.6162790697674418\n"
          ]
        },
        {
          "name": "stderr",
          "output_type": "stream",
          "text": [
            "Epoch 2: train loss=0.00371542737361752, train accuracy=0.6333549643088904: 100%|██████████| 25/25 [00:00<00:00, 53.57it/s]  \n",
            "Epoch 2: val loss=0.0041583688972994335, val accuracy=0.6104651162790697: 100%|██████████| 3/3 [00:00<00:00, 327.48it/s]\n",
            "Epoch 3: train loss=0.0036843814279722133, train accuracy=0.6424399740428294: 100%|██████████| 25/25 [00:00<00:00, 66.59it/s]\n",
            "Epoch 3: val loss=0.004034983730593393, val accuracy=0.627906976744186: 100%|██████████| 3/3 [00:00<00:00, 222.54it/s]\n"
          ]
        },
        {
          "name": "stdout",
          "output_type": "stream",
          "text": [
            "New model saved, accuracy 0.6162790697674418 -> 0.627906976744186\n"
          ]
        },
        {
          "name": "stderr",
          "output_type": "stream",
          "text": [
            "Epoch 4: train loss=0.0037872484177447698, train accuracy=0.6353017521090201: 100%|██████████| 25/25 [00:00<00:00, 45.97it/s]\n",
            "Epoch 4: val loss=0.003983541630035223, val accuracy=0.6453488372093024: 100%|██████████| 3/3 [00:00<00:00, 82.99it/s]\n"
          ]
        },
        {
          "name": "stdout",
          "output_type": "stream",
          "text": [
            "New model saved, accuracy 0.627906976744186 -> 0.6453488372093024\n"
          ]
        },
        {
          "name": "stderr",
          "output_type": "stream",
          "text": [
            "Epoch 5: train loss=0.0037300562525940436, train accuracy=0.6340038935756003: 100%|██████████| 25/25 [00:00<00:00, 40.26it/s]\n",
            "Epoch 5: val loss=0.003994060117144918, val accuracy=0.6511627906976745: 100%|██████████| 3/3 [00:00<00:00, 165.12it/s]\n"
          ]
        },
        {
          "name": "stdout",
          "output_type": "stream",
          "text": [
            "New model saved, accuracy 0.6453488372093024 -> 0.6511627906976745\n"
          ]
        },
        {
          "name": "stderr",
          "output_type": "stream",
          "text": [
            "Epoch 6: train loss=0.003618762032464292, train accuracy=0.6404931862426996: 100%|██████████| 25/25 [00:00<00:00, 71.19it/s] \n",
            "Epoch 6: val loss=0.003956210821173912, val accuracy=0.622093023255814: 100%|██████████| 3/3 [00:00<00:00, 158.59it/s]\n",
            "Epoch 7: train loss=0.0035785330649245333, train accuracy=0.654769630110318: 100%|██████████| 25/25 [00:00<00:00, 69.03it/s] \n",
            "Epoch 7: val loss=0.003964718604503676, val accuracy=0.627906976744186: 100%|██████████| 3/3 [00:00<00:00, 91.68it/s]\n",
            "Epoch 8: train loss=0.003621402438935485, train accuracy=0.6521739130434783: 100%|██████████| 25/25 [00:00<00:00, 80.64it/s] \n",
            "Epoch 8: val loss=0.004057251696669778, val accuracy=0.622093023255814: 100%|██████████| 3/3 [00:00<00:00, 112.47it/s]\n",
            "Epoch 9: train loss=0.0035894843257146558, train accuracy=0.6385463984425698: 100%|██████████| 25/25 [00:00<00:00, 65.94it/s]\n",
            "Epoch 9: val loss=0.0040254169252029685, val accuracy=0.6337209302325582: 100%|██████████| 3/3 [00:00<00:00, 37.41it/s]\n",
            "Epoch 10: train loss=0.0035689792062151672, train accuracy=0.6476314081765088: 100%|██████████| 25/25 [00:00<00:00, 59.77it/s] \n",
            "Epoch 10: val loss=0.003928609192371368, val accuracy=0.6104651162790697: 100%|██████████| 3/3 [00:00<00:00, 113.65it/s]\n",
            "Epoch 11: train loss=0.0035472315754850217, train accuracy=0.6528228423101882: 100%|██████████| 25/25 [00:00<00:00, 39.76it/s]\n",
            "Epoch 11: val loss=0.004058616539073545, val accuracy=0.6046511627906976: 100%|██████████| 3/3 [00:00<00:00, 185.40it/s]\n",
            "Epoch 12: train loss=0.0035146932316476227, train accuracy=0.6515249837767684: 100%|██████████| 25/25 [00:00<00:00, 67.73it/s]\n",
            "Epoch 12: val loss=0.0039121247828006744, val accuracy=0.5930232558139535: 100%|██████████| 3/3 [00:00<00:00, 219.11it/s]\n",
            "Epoch 13: train loss=0.0035772443223819573, train accuracy=0.6645035691109669: 100%|██████████| 25/25 [00:00<00:00, 49.85it/s]\n",
            "Epoch 13: val loss=0.004070792000654132, val accuracy=0.6395348837209303: 100%|██████████| 3/3 [00:00<00:00, 280.39it/s]\n",
            "Epoch 14: train loss=0.0035192670371917683, train accuracy=0.6593121349772875: 100%|██████████| 25/25 [00:00<00:00, 80.76it/s]\n",
            "Epoch 14: val loss=0.004087585609319599, val accuracy=0.6453488372093024: 100%|██████████| 3/3 [00:00<00:00, 236.53it/s]\n",
            "Epoch 15: train loss=0.003491299259515647, train accuracy=0.6580142764438677: 100%|██████████| 25/25 [00:00<00:00, 46.56it/s] \n",
            "Epoch 15: val loss=0.004000964292953181, val accuracy=0.622093023255814: 100%|██████████| 3/3 [00:00<00:00, 354.89it/s]\n",
            "Epoch 16: train loss=0.0035350428704392363, train accuracy=0.6606099935107074: 100%|██████████| 25/25 [00:00<00:00, 51.34it/s]\n",
            "Epoch 16: val loss=0.003982073865657629, val accuracy=0.6337209302325582: 100%|██████████| 3/3 [00:00<00:00, 115.55it/s]\n",
            "Epoch 17: train loss=0.00348573060564837, train accuracy=0.6593121349772875: 100%|██████████| 25/25 [00:00<00:00, 123.98it/s]  \n",
            "Epoch 17: val loss=0.003980995524068212, val accuracy=0.622093023255814: 100%|██████████| 3/3 [00:00<00:00, 409.32it/s]\n",
            "Epoch 18: train loss=0.0034850998832992265, train accuracy=0.6567164179104478: 100%|██████████| 25/25 [00:00<00:00, 59.55it/s] \n",
            "Epoch 18: val loss=0.0039853624306445895, val accuracy=0.6511627906976745: 100%|██████████| 3/3 [00:00<00:00, 290.61it/s]\n",
            "Epoch 19: train loss=0.003432623698756263, train accuracy=0.6670992861778067: 100%|██████████| 25/25 [00:00<00:00, 42.27it/s] \n",
            "Epoch 19: val loss=0.00408304006207821, val accuracy=0.622093023255814: 100%|██████████| 3/3 [00:00<00:00, 158.22it/s]\n",
            "Epoch 20: train loss=0.0035250127160804446, train accuracy=0.6658014276443868: 100%|██████████| 25/25 [00:00<00:00, 49.40it/s]\n",
            "Epoch 20: val loss=0.0040865999668143515, val accuracy=0.6162790697674418: 100%|██████████| 3/3 [00:00<00:00, 177.21it/s]\n",
            "Epoch 21: train loss=0.003476888685935043, train accuracy=0.6645035691109669: 100%|██████████| 25/25 [00:00<00:00, 129.54it/s] \n",
            "Epoch 21: val loss=0.004119779048270957, val accuracy=0.5872093023255814: 100%|██████████| 3/3 [00:00<00:00, 462.96it/s]\n",
            "Epoch 22: train loss=0.003519518413302343, train accuracy=0.6632057105775471: 100%|██████████| 25/25 [00:00<00:00, 51.62it/s]  \n",
            "Epoch 22: val loss=0.004282687379177226, val accuracy=0.5581395348837209: 100%|██████████| 3/3 [00:00<00:00, 408.24it/s]\n",
            "Epoch 23: train loss=0.0034813572840594687, train accuracy=0.6664503569110967: 100%|██████████| 25/25 [00:00<00:00, 79.09it/s]\n",
            "Epoch 23: val loss=0.004027517469123353, val accuracy=0.622093023255814: 100%|██████████| 3/3 [00:00<00:00, 152.25it/s]\n",
            "Epoch 24: train loss=0.003440794447348692, train accuracy=0.672939649578196: 100%|██████████| 25/25 [00:00<00:00, 94.91it/s]   \n",
            "Epoch 24: val loss=0.003968016699303028, val accuracy=0.6162790697674418: 100%|██████████| 3/3 [00:00<00:00, 225.21it/s]\n",
            "Epoch 25: train loss=0.003451636449073059, train accuracy=0.663854639844257: 100%|██████████| 25/25 [00:00<00:00, 43.87it/s]  \n",
            "Epoch 25: val loss=0.004030303986266602, val accuracy=0.6162790697674418: 100%|██████████| 3/3 [00:00<00:00, 242.50it/s]\n",
            "Epoch 26: train loss=0.0035702558711780347, train accuracy=0.6645035691109669: 100%|██████████| 25/25 [00:00<00:00, 62.65it/s]\n",
            "Epoch 26: val loss=0.003963285320720007, val accuracy=0.6395348837209303: 100%|██████████| 3/3 [00:00<00:00, 254.12it/s]\n",
            "Epoch 27: train loss=0.003386249941018864, train accuracy=0.6690460739779364: 100%|██████████| 25/25 [00:00<00:00, 79.14it/s] \n",
            "Epoch 27: val loss=0.004064180216816969, val accuracy=0.6104651162790697: 100%|██████████| 3/3 [00:00<00:00, 268.84it/s]\n",
            "Epoch 28: train loss=0.0034632447147276554, train accuracy=0.6696950032446464: 100%|██████████| 25/25 [00:00<00:00, 68.92it/s]\n",
            "Epoch 28: val loss=0.004113930342502372, val accuracy=0.627906976744186: 100%|██████████| 3/3 [00:00<00:00, 60.48it/s]\n",
            "Epoch 29: train loss=0.003429368254350889, train accuracy=0.6586632057105776: 100%|██████████| 25/25 [00:00<00:00, 81.56it/s] \n",
            "Epoch 29: val loss=0.004178341304840043, val accuracy=0.6104651162790697: 100%|██████████| 3/3 [00:00<00:00, 241.17it/s]\n",
            "Epoch 30: train loss=0.0034749404920686924, train accuracy=0.6534717715768981: 100%|██████████| 25/25 [00:00<00:00, 72.97it/s]\n",
            "Epoch 30: val loss=0.004062675546075023, val accuracy=0.622093023255814: 100%|██████████| 3/3 [00:00<00:00, 164.84it/s]\n",
            "Epoch 31: train loss=0.0034464981206278767, train accuracy=0.6632057105775471: 100%|██████████| 25/25 [00:00<00:00, 69.43it/s]\n",
            "Epoch 31: val loss=0.00408457696091297, val accuracy=0.6104651162790697: 100%|██████████| 3/3 [00:00<00:00, 171.70it/s]\n",
            "Epoch 32: train loss=0.003418854435955372, train accuracy=0.6677482154445166: 100%|██████████| 25/25 [00:00<00:00, 64.91it/s] \n",
            "Epoch 32: val loss=0.004023262667794561, val accuracy=0.6104651162790697: 100%|██████████| 3/3 [00:00<00:00, 173.56it/s]\n",
            "Epoch 33: train loss=0.0034012155997760877, train accuracy=0.6735885788449059: 100%|██████████| 25/25 [00:00<00:00, 68.16it/s]\n",
            "Epoch 33: val loss=0.004023057950097461, val accuracy=0.6395348837209303: 100%|██████████| 3/3 [00:00<00:00, 124.79it/s]\n",
            "Epoch 34: train loss=0.003493680911819166, train accuracy=0.663854639844257: 100%|██████████| 25/25 [00:00<00:00, 71.80it/s]  \n",
            "Epoch 34: val loss=0.0039928607469381285, val accuracy=0.6395348837209303: 100%|██████████| 3/3 [00:00<00:00, 136.70it/s]\n",
            "Epoch 35: train loss=0.003524188994200952, train accuracy=0.6664503569110967: 100%|██████████| 25/25 [00:00<00:00, 67.18it/s] \n",
            "Epoch 35: val loss=0.003939270193493644, val accuracy=0.6453488372093024: 100%|██████████| 3/3 [00:00<00:00, 196.54it/s]\n",
            "Epoch 36: train loss=0.0034737501687465127, train accuracy=0.6703439325113563: 100%|██████████| 25/25 [00:00<00:00, 36.61it/s]\n",
            "Epoch 36: val loss=0.004093441072591516, val accuracy=0.6162790697674418: 100%|██████████| 3/3 [00:00<00:00, 102.58it/s]\n",
            "Epoch 37: train loss=0.003444518006753024, train accuracy=0.6606099935107074: 100%|██████████| 25/25 [00:00<00:00, 31.16it/s] \n",
            "Epoch 37: val loss=0.004145045959672263, val accuracy=0.622093023255814: 100%|██████████| 3/3 [00:00<00:00, 142.98it/s]\n",
            "Epoch 38: train loss=0.0034501731182985844, train accuracy=0.6632057105775471: 100%|██████████| 25/25 [00:00<00:00, 54.64it/s]\n",
            "Epoch 38: val loss=0.004106229474378186, val accuracy=0.6104651162790697: 100%|██████████| 3/3 [00:00<00:00, 172.01it/s]\n",
            "Epoch 39: train loss=0.0034872737799581965, train accuracy=0.6664503569110967: 100%|██████████| 25/25 [00:00<00:00, 94.60it/s]\n",
            "Epoch 39: val loss=0.004151855097260586, val accuracy=0.627906976744186: 100%|██████████| 3/3 [00:00<00:00, 127.62it/s]\n",
            "Epoch 40: train loss=0.003429288778267922, train accuracy=0.6722907203114861: 100%|██████████| 25/25 [00:00<00:00, 41.32it/s] \n",
            "Epoch 40: val loss=0.004001149604486865, val accuracy=0.6337209302325582: 100%|██████████| 3/3 [00:00<00:00, 105.96it/s]\n",
            "Epoch 41: train loss=0.003414022456431528, train accuracy=0.6683971447112265: 100%|██████████| 25/25 [00:00<00:00, 109.36it/s] \n",
            "Epoch 41: val loss=0.0040617628499519, val accuracy=0.627906976744186: 100%|██████████| 3/3 [00:00<00:00, 273.77it/s]\n",
            "Epoch 42: train loss=0.00344786536260366, train accuracy=0.6722907203114861: 100%|██████████| 25/25 [00:00<00:00, 54.95it/s]   \n",
            "Epoch 42: val loss=0.004112784165975659, val accuracy=0.622093023255814: 100%|██████████| 3/3 [00:00<00:00, 102.14it/s]\n",
            "Epoch 43: train loss=0.003424876574414802, train accuracy=0.6742375081116159: 100%|██████████| 25/25 [00:00<00:00, 69.08it/s] \n",
            "Epoch 43: val loss=0.004109361577172612, val accuracy=0.5813953488372093: 100%|██████████| 3/3 [00:00<00:00, 196.83it/s]\n",
            "Epoch 44: train loss=0.0033783820988991134, train accuracy=0.6768332251784556: 100%|██████████| 25/25 [00:00<00:00, 64.25it/s]\n",
            "Epoch 44: val loss=0.00411428909662158, val accuracy=0.6104651162790697: 100%|██████████| 3/3 [00:00<00:00, 238.66it/s]\n",
            "Epoch 45: train loss=0.003389249203423259, train accuracy=0.6670992861778067: 100%|██████████| 25/25 [00:00<00:00, 52.36it/s] \n",
            "Epoch 45: val loss=0.004004880526038103, val accuracy=0.6104651162790697: 100%|██████████| 3/3 [00:00<00:00, 123.30it/s]\n",
            "Epoch 46: train loss=0.003365816436055262, train accuracy=0.6800778715120052: 100%|██████████| 25/25 [00:00<00:00, 45.33it/s] \n",
            "Epoch 46: val loss=0.003983149868111277, val accuracy=0.6511627906976745: 100%|██████████| 3/3 [00:00<00:00, 71.48it/s]\n",
            "Epoch 47: train loss=0.0034029902110696997, train accuracy=0.6632057105775471: 100%|██████████| 25/25 [00:00<00:00, 42.06it/s]\n",
            "Epoch 47: val loss=0.0040411710046058475, val accuracy=0.6395348837209303: 100%|██████████| 3/3 [00:00<00:00, 293.49it/s]\n",
            "Epoch 48: train loss=0.0033937622149372783, train accuracy=0.6891628812459442: 100%|██████████| 25/25 [00:00<00:00, 44.44it/s]\n",
            "Epoch 48: val loss=0.004045308502607568, val accuracy=0.627906976744186: 100%|██████████| 3/3 [00:00<00:00, 218.34it/s]\n",
            "Epoch 49: train loss=0.0033407177652808305, train accuracy=0.6781310837118754: 100%|██████████| 25/25 [00:00<00:00, 53.03it/s]\n",
            "Epoch 49: val loss=0.0040508883810320565, val accuracy=0.6453488372093024: 100%|██████████| 3/3 [00:00<00:00, 11.26it/s]\n"
          ]
        }
      ],
      "source": [
        "mlp_models = random_forst_models.copy()\n",
        "lr = 1e-4\n",
        "num_epochs = 50\n",
        "\n",
        "for ds_name in mlp_models:\n",
        "    net = nn.Sequential(\n",
        "        nn.Linear(dataset[ds_name]['X_train'].shape[1], 256),\n",
        "        nn.LeakyReLU(negative_slope=0.01),\n",
        "        nn.BatchNorm1d(256),\n",
        "        nn.Linear(256, 64),\n",
        "        nn.LeakyReLU(negative_slope=0.01),\n",
        "        nn.BatchNorm1d(64),\n",
        "        nn.Linear(64, 32),\n",
        "        nn.LeakyReLU(negative_slope=0.01),\n",
        "        nn.BatchNorm1d(32),\n",
        "        nn.Linear(32, 16),\n",
        "        nn.LeakyReLU(negative_slope=0.01),\n",
        "        nn.BatchNorm1d(16),\n",
        "        nn.Linear(16, 1),\n",
        "        nn.Sigmoid()\n",
        "    )\n",
        "    net = net.to(device)\n",
        "    optimizer = Adam(net.parameters(), lr=lr)\n",
        "    criterion = nn.MSELoss()\n",
        "    train_dl = dataloaders[ds_name]['train']\n",
        "    val_dl = dataloaders[ds_name]['val']\n",
        "    test_dl = dataloaders[ds_name]['test']\n",
        "\n",
        "    return_vals = train(net, criterion, optimizer, train_dl, val_dl, num_epochs)\n",
        "    train_losses, val_losses, train_accs, val_accs, best_model = return_vals \n",
        "    # test\n",
        "    acc = evaluate(best_model, test_dl)\n",
        "    mlp_models[ds_name] = {\n",
        "        'model': best_model,\n",
        "        'accuracy': acc,\n",
        "        'train_losses': train_losses,\n",
        "        'val_losses': val_losses,\n",
        "        'train_accs': train_accs,\n",
        "        'val_accs': val_accs\n",
        "    }"
      ]
    },
    {
      "cell_type": "code",
      "execution_count": 47,
      "id": "hFjQ3KUhUqk4",
      "metadata": {
        "id": "hFjQ3KUhUqk4"
      },
      "outputs": [
        {
          "name": "stdout",
          "output_type": "stream",
          "text": [
            "mlp accuracy on clinical dataset had accuracy of 0.7382\n",
            "mlp accuracy on gene_expr dataset had accuracy of 0.5812\n",
            "mlp accuracy on gene_expr_reduced dataset had accuracy of 0.6230\n"
          ]
        }
      ],
      "source": [
        "for ds_name in mlp_models:\n",
        "    acc = mlp_models[ds_name]['accuracy']\n",
        "    print(f'mlp accuracy on {ds_name} dataset had accuracy of {acc:.4f}')"
      ]
    },
    {
      "cell_type": "markdown",
      "id": "56877dc4",
      "metadata": {
        "id": "56877dc4"
      },
      "source": [
        "# Model Comparison (10 Points)"
      ]
    },
    {
      "cell_type": "markdown",
      "id": "509fe56a",
      "metadata": {
        "id": "509fe56a"
      },
      "source": [
        "Compare different models and different datasets (clinical, gene expressions, and gene reduced expressions) and try to explain their differences."
      ]
    },
    {
      "cell_type": "markdown",
      "id": "c2f05a73",
      "metadata": {
        "id": "c2f05a73"
      },
      "source": [
        "#### \\# TODO"
      ]
    }
  ],
  "metadata": {
    "colab": {
      "provenance": []
    },
    "kernelspec": {
      "display_name": "Python 3 (ipykernel)",
      "language": "python",
      "name": "python3"
    },
    "language_info": {
      "codemirror_mode": {
        "name": "ipython",
        "version": 3
      },
      "file_extension": ".py",
      "mimetype": "text/x-python",
      "name": "python",
      "nbconvert_exporter": "python",
      "pygments_lexer": "ipython3",
      "version": "3.9.12"
    },
    "toc": {
      "base_numbering": 1,
      "nav_menu": {},
      "number_sections": true,
      "sideBar": true,
      "skip_h1_title": false,
      "title_cell": "Table of Contents",
      "title_sidebar": "Contents",
      "toc_cell": false,
      "toc_position": {},
      "toc_section_display": true,
      "toc_window_display": false
    },
    "varInspector": {
      "cols": {
        "lenName": 16,
        "lenType": 16,
        "lenVar": 40
      },
      "kernels_config": {
        "python": {
          "delete_cmd_postfix": "",
          "delete_cmd_prefix": "del ",
          "library": "var_list.py",
          "varRefreshCmd": "print(var_dic_list())"
        },
        "r": {
          "delete_cmd_postfix": ") ",
          "delete_cmd_prefix": "rm(",
          "library": "var_list.r",
          "varRefreshCmd": "cat(var_dic_list()) "
        }
      },
      "types_to_exclude": [
        "module",
        "function",
        "builtin_function_or_method",
        "instance",
        "_Feature"
      ],
      "window_display": false
    },
    "vscode": {
      "interpreter": {
        "hash": "9d0e6cba9abb52fde9ce5ff9e7499c99052a279653ba0a99ce7c78819a4a9c31"
      }
    }
  },
  "nbformat": 4,
  "nbformat_minor": 5
}
