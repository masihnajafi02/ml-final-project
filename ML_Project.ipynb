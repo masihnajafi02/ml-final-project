{
  "cells": [
    {
      "cell_type": "markdown",
      "id": "5902c1f3",
      "metadata": {
        "id": "5902c1f3"
      },
      "source": [
        "<img src='http://www-scf.usc.edu/~ghasemig/images/sharif.png' alt=\"SUT logo\" width=200 height=200 align=left class=\"saturate\" >\n",
        "\n",
        "<br>\n",
        "<font face=\"Times New Roman\">\n",
        "<div dir=ltr align=center>\n",
        "<font color=0F5298 size=7>\n",
        "    Introduction to Machine Learning <br>\n",
        "<font color=2565AE size=5>\n",
        "    Computer Engineering Department <br>\n",
        "    Fall 2022<br>\n",
        "<font color=3C99D size=5>\n",
        "    Project <br>\n",
        "<font color=696880 size=4>\n",
        "    Project Team \n",
        "    \n",
        "    \n",
        "____\n"
      ]
    },
    {
      "cell_type": "markdown",
      "id": "5e85f16a",
      "metadata": {
        "id": "5e85f16a"
      },
      "source": [
        "### Full Name : Mohammad Bagher Soltani, Masih Najafi\n",
        "### Student Number : 98105813, ?\n",
        "___"
      ]
    },
    {
      "cell_type": "markdown",
      "id": "40df5e74",
      "metadata": {
        "id": "40df5e74"
      },
      "source": [
        "# Introduction"
      ]
    },
    {
      "cell_type": "markdown",
      "id": "5a627177",
      "metadata": {
        "id": "5a627177"
      },
      "source": [
        "In this project, we are going to have a brief and elementary hands-on real-world project, predicting breast cancer survival using machine learning models with clinical data and gene expression profiles."
      ]
    },
    {
      "cell_type": "code",
      "execution_count": 99,
      "id": "2970285a",
      "metadata": {
        "id": "2970285a"
      },
      "outputs": [],
      "source": [
        "# imports\n",
        "import numpy as np\n",
        "import pandas as pd\n",
        "from sklearn.preprocessing import OrdinalEncoder, StandardScaler\n",
        "from sklearn.decomposition import PCA\n",
        "from sklearn.linear_model import LinearRegression\n",
        "from sklearn.impute import SimpleImputer\n",
        "import umap\n",
        "import matplotlib.pyplot as plt\n",
        "import seaborn as sns\n",
        "from sklearn.metrics import accuracy_score\n",
        "from sklearn.model_selection import train_test_split\n",
        "from sklearn.ensemble import RandomForestClassifier\n",
        "from sklearn.svm import SVC\n",
        "import torch\n",
        "import torch.nn as nn\n",
        "from torch.utils.data import Dataset, DataLoader\n",
        "from tqdm.std import tqdm\n",
        "from torch.optim import Adam\n",
        "from copy import deepcopy"
      ]
    },
    {
      "cell_type": "code",
      "execution_count": 100,
      "id": "4dac6eb7",
      "metadata": {},
      "outputs": [],
      "source": [
        "SEED = 111"
      ]
    },
    {
      "cell_type": "code",
      "execution_count": 101,
      "id": "88e8d521",
      "metadata": {
        "id": "88e8d521"
      },
      "outputs": [],
      "source": [
        "np.random.seed(SEED)"
      ]
    },
    {
      "cell_type": "markdown",
      "id": "b1e52cbc",
      "metadata": {
        "id": "b1e52cbc"
      },
      "source": [
        "# Data Documentation"
      ]
    },
    {
      "cell_type": "markdown",
      "id": "254cb90f",
      "metadata": {
        "ExecuteTime": {
          "end_time": "2023-01-29T19:31:29.604891Z",
          "start_time": "2023-01-29T19:31:29.601061Z"
        },
        "id": "254cb90f"
      },
      "source": [
        "For this purpose, we will use \"Breast Cancer Gene Expression Profiles (METABRIC)\" data. \n",
        "The first 31 columns of data contain clinical information including death status.\n",
        "The next columns of the data contain gene's related information which includes both gene expressions and mutation information. (gene's mutation info columns have been marked with \"_mut\" at the end of the names of the columns) \n",
        "For more information please read the [data documentation](https://www.kaggle.com/datasets/raghadalharbi/breast-cancer-gene-expression-profiles-metabric)."
      ]
    },
    {
      "cell_type": "markdown",
      "id": "9cef1d4a",
      "metadata": {
        "id": "9cef1d4a"
      },
      "source": [
        "# Data Preparation (15 Points)"
      ]
    },
    {
      "cell_type": "markdown",
      "id": "f3240d5d",
      "metadata": {
        "id": "f3240d5d"
      },
      "source": [
        "In this section you must first split data into three datasets:\n",
        "<br>\n",
        "1- clinical dataset\n",
        "<br>\n",
        "2- gene expressions dataset\n",
        "<br>\n",
        "3- gene mutation dataset. (We will not use this dataset in further steps of the project)"
      ]
    },
    {
      "cell_type": "markdown",
      "id": "cc42f2b1",
      "metadata": {
        "id": "cc42f2b1"
      },
      "source": [
        "## Data Loading & Splitting"
      ]
    },
    {
      "cell_type": "code",
      "execution_count": 102,
      "id": "463b243b",
      "metadata": {
        "colab": {
          "base_uri": "https://localhost:8080/",
          "height": 404
        },
        "id": "463b243b",
        "outputId": "0a9a21cf-8dbf-4860-e2c6-8b47d54c516c"
      },
      "outputs": [
        {
          "data": {
            "text/html": [
              "<div>\n",
              "<style scoped>\n",
              "    .dataframe tbody tr th:only-of-type {\n",
              "        vertical-align: middle;\n",
              "    }\n",
              "\n",
              "    .dataframe tbody tr th {\n",
              "        vertical-align: top;\n",
              "    }\n",
              "\n",
              "    .dataframe thead th {\n",
              "        text-align: right;\n",
              "    }\n",
              "</style>\n",
              "<table border=\"1\" class=\"dataframe\">\n",
              "  <thead>\n",
              "    <tr style=\"text-align: right;\">\n",
              "      <th></th>\n",
              "      <th>patient_id</th>\n",
              "      <th>age_at_diagnosis</th>\n",
              "      <th>type_of_breast_surgery</th>\n",
              "      <th>cancer_type</th>\n",
              "      <th>cancer_type_detailed</th>\n",
              "      <th>cellularity</th>\n",
              "      <th>chemotherapy</th>\n",
              "      <th>pam50_+_claudin-low_subtype</th>\n",
              "      <th>cohort</th>\n",
              "      <th>er_status_measured_by_ihc</th>\n",
              "      <th>...</th>\n",
              "      <th>mtap_mut</th>\n",
              "      <th>ppp2cb_mut</th>\n",
              "      <th>smarcd1_mut</th>\n",
              "      <th>nras_mut</th>\n",
              "      <th>ndfip1_mut</th>\n",
              "      <th>hras_mut</th>\n",
              "      <th>prps2_mut</th>\n",
              "      <th>smarcb1_mut</th>\n",
              "      <th>stmn2_mut</th>\n",
              "      <th>siah1_mut</th>\n",
              "    </tr>\n",
              "  </thead>\n",
              "  <tbody>\n",
              "    <tr>\n",
              "      <th>0</th>\n",
              "      <td>0</td>\n",
              "      <td>75.65</td>\n",
              "      <td>MASTECTOMY</td>\n",
              "      <td>Breast Cancer</td>\n",
              "      <td>Breast Invasive Ductal Carcinoma</td>\n",
              "      <td>NaN</td>\n",
              "      <td>0</td>\n",
              "      <td>claudin-low</td>\n",
              "      <td>1.0</td>\n",
              "      <td>Positve</td>\n",
              "      <td>...</td>\n",
              "      <td>0</td>\n",
              "      <td>0</td>\n",
              "      <td>0</td>\n",
              "      <td>0</td>\n",
              "      <td>0</td>\n",
              "      <td>0</td>\n",
              "      <td>0</td>\n",
              "      <td>0</td>\n",
              "      <td>0</td>\n",
              "      <td>0</td>\n",
              "    </tr>\n",
              "    <tr>\n",
              "      <th>1</th>\n",
              "      <td>2</td>\n",
              "      <td>43.19</td>\n",
              "      <td>BREAST CONSERVING</td>\n",
              "      <td>Breast Cancer</td>\n",
              "      <td>Breast Invasive Ductal Carcinoma</td>\n",
              "      <td>High</td>\n",
              "      <td>0</td>\n",
              "      <td>LumA</td>\n",
              "      <td>1.0</td>\n",
              "      <td>Positve</td>\n",
              "      <td>...</td>\n",
              "      <td>0</td>\n",
              "      <td>0</td>\n",
              "      <td>0</td>\n",
              "      <td>0</td>\n",
              "      <td>0</td>\n",
              "      <td>0</td>\n",
              "      <td>0</td>\n",
              "      <td>0</td>\n",
              "      <td>0</td>\n",
              "      <td>0</td>\n",
              "    </tr>\n",
              "    <tr>\n",
              "      <th>2</th>\n",
              "      <td>5</td>\n",
              "      <td>48.87</td>\n",
              "      <td>MASTECTOMY</td>\n",
              "      <td>Breast Cancer</td>\n",
              "      <td>Breast Invasive Ductal Carcinoma</td>\n",
              "      <td>High</td>\n",
              "      <td>1</td>\n",
              "      <td>LumB</td>\n",
              "      <td>1.0</td>\n",
              "      <td>Positve</td>\n",
              "      <td>...</td>\n",
              "      <td>0</td>\n",
              "      <td>0</td>\n",
              "      <td>0</td>\n",
              "      <td>0</td>\n",
              "      <td>0</td>\n",
              "      <td>0</td>\n",
              "      <td>0</td>\n",
              "      <td>0</td>\n",
              "      <td>0</td>\n",
              "      <td>0</td>\n",
              "    </tr>\n",
              "    <tr>\n",
              "      <th>3</th>\n",
              "      <td>6</td>\n",
              "      <td>47.68</td>\n",
              "      <td>MASTECTOMY</td>\n",
              "      <td>Breast Cancer</td>\n",
              "      <td>Breast Mixed Ductal and Lobular Carcinoma</td>\n",
              "      <td>Moderate</td>\n",
              "      <td>1</td>\n",
              "      <td>LumB</td>\n",
              "      <td>1.0</td>\n",
              "      <td>Positve</td>\n",
              "      <td>...</td>\n",
              "      <td>0</td>\n",
              "      <td>0</td>\n",
              "      <td>0</td>\n",
              "      <td>0</td>\n",
              "      <td>0</td>\n",
              "      <td>0</td>\n",
              "      <td>0</td>\n",
              "      <td>0</td>\n",
              "      <td>0</td>\n",
              "      <td>0</td>\n",
              "    </tr>\n",
              "    <tr>\n",
              "      <th>4</th>\n",
              "      <td>8</td>\n",
              "      <td>76.97</td>\n",
              "      <td>MASTECTOMY</td>\n",
              "      <td>Breast Cancer</td>\n",
              "      <td>Breast Mixed Ductal and Lobular Carcinoma</td>\n",
              "      <td>High</td>\n",
              "      <td>1</td>\n",
              "      <td>LumB</td>\n",
              "      <td>1.0</td>\n",
              "      <td>Positve</td>\n",
              "      <td>...</td>\n",
              "      <td>0</td>\n",
              "      <td>0</td>\n",
              "      <td>0</td>\n",
              "      <td>0</td>\n",
              "      <td>0</td>\n",
              "      <td>0</td>\n",
              "      <td>0</td>\n",
              "      <td>0</td>\n",
              "      <td>0</td>\n",
              "      <td>0</td>\n",
              "    </tr>\n",
              "  </tbody>\n",
              "</table>\n",
              "<p>5 rows × 693 columns</p>\n",
              "</div>"
            ],
            "text/plain": [
              "   patient_id  age_at_diagnosis type_of_breast_surgery    cancer_type  \\\n",
              "0           0             75.65             MASTECTOMY  Breast Cancer   \n",
              "1           2             43.19      BREAST CONSERVING  Breast Cancer   \n",
              "2           5             48.87             MASTECTOMY  Breast Cancer   \n",
              "3           6             47.68             MASTECTOMY  Breast Cancer   \n",
              "4           8             76.97             MASTECTOMY  Breast Cancer   \n",
              "\n",
              "                        cancer_type_detailed cellularity  chemotherapy  \\\n",
              "0           Breast Invasive Ductal Carcinoma         NaN             0   \n",
              "1           Breast Invasive Ductal Carcinoma        High             0   \n",
              "2           Breast Invasive Ductal Carcinoma        High             1   \n",
              "3  Breast Mixed Ductal and Lobular Carcinoma    Moderate             1   \n",
              "4  Breast Mixed Ductal and Lobular Carcinoma        High             1   \n",
              "\n",
              "  pam50_+_claudin-low_subtype  cohort er_status_measured_by_ihc  ... mtap_mut  \\\n",
              "0                 claudin-low     1.0                   Positve  ...        0   \n",
              "1                        LumA     1.0                   Positve  ...        0   \n",
              "2                        LumB     1.0                   Positve  ...        0   \n",
              "3                        LumB     1.0                   Positve  ...        0   \n",
              "4                        LumB     1.0                   Positve  ...        0   \n",
              "\n",
              "   ppp2cb_mut smarcd1_mut nras_mut ndfip1_mut  hras_mut prps2_mut smarcb1_mut  \\\n",
              "0           0           0        0          0         0         0           0   \n",
              "1           0           0        0          0         0         0           0   \n",
              "2           0           0        0          0         0         0           0   \n",
              "3           0           0        0          0         0         0           0   \n",
              "4           0           0        0          0         0         0           0   \n",
              "\n",
              "  stmn2_mut  siah1_mut  \n",
              "0         0          0  \n",
              "1         0          0  \n",
              "2         0          0  \n",
              "3         0          0  \n",
              "4         0          0  \n",
              "\n",
              "[5 rows x 693 columns]"
            ]
          },
          "execution_count": 102,
          "metadata": {},
          "output_type": "execute_result"
        }
      ],
      "source": [
        "# TODO\n",
        "df = pd.read_csv('METABRIC_RNA_Mutation.csv', low_memory=False)\n",
        "df.head(5)"
      ]
    },
    {
      "cell_type": "code",
      "execution_count": 103,
      "id": "3468645e",
      "metadata": {
        "colab": {
          "base_uri": "https://localhost:8080/"
        },
        "id": "3468645e",
        "outputId": "eefa0c60-d8b3-454d-f1a5-fa9d1ba16e40"
      },
      "outputs": [
        {
          "name": "stdout",
          "output_type": "stream",
          "text": [
            "Number of clinical columns 31\n",
            "Number of gene expression columns 489\n",
            "Number of gene mutation columns 173\n"
          ]
        }
      ],
      "source": [
        "# Get column names for clinical, gene expression and gene mutation datasets\n",
        "\n",
        "columns = df.columns\n",
        "clinical_columns = columns[:31]\n",
        "clinical_data_columns = df.columns[:24].append(df.columns[25:30])\n",
        "label_column = columns[24]\n",
        "gene_columns = columns[31:]\n",
        "gene_mut_columns = pd.Index(filter(lambda s: s.endswith('_mut'),columns))\n",
        "gene_expr_columns = pd.Index(set(gene_columns) - set(gene_mut_columns))\n",
        "\n",
        "print(f'Number of clinical columns {len(clinical_columns)}')\n",
        "print(f'Number of gene expression columns {len(gene_expr_columns)}')\n",
        "print(f'Number of gene mutation columns {len(gene_mut_columns)}')"
      ]
    },
    {
      "cell_type": "code",
      "execution_count": 104,
      "id": "7c9ea55a",
      "metadata": {
        "id": "7c9ea55a"
      },
      "outputs": [],
      "source": [
        "clinical_dataset = df[clinical_columns]\n",
        "gene_expr_dataset = df[gene_expr_columns]\n",
        "gene_mut_dataset = df[gene_mut_columns]"
      ]
    },
    {
      "cell_type": "markdown",
      "id": "aebfdb6b",
      "metadata": {
        "id": "aebfdb6b"
      },
      "source": [
        "## EDA"
      ]
    },
    {
      "cell_type": "markdown",
      "id": "e87d59d7",
      "metadata": {
        "id": "e87d59d7"
      },
      "source": [
        "For each dataset, you must perform a sufficient EDA."
      ]
    },
    {
      "cell_type": "code",
      "execution_count": 105,
      "id": "d3815455",
      "metadata": {
        "colab": {
          "base_uri": "https://localhost:8080/"
        },
        "id": "d3815455",
        "outputId": "d5469703-3858-4721-9bd3-8440d1c14727"
      },
      "outputs": [
        {
          "name": "stdout",
          "output_type": "stream",
          "text": [
            "<class 'pandas.core.frame.DataFrame'>\n",
            "RangeIndex: 1904 entries, 0 to 1903\n",
            "Data columns (total 31 columns):\n",
            " #   Column                          Non-Null Count  Dtype  \n",
            "---  ------                          --------------  -----  \n",
            " 0   patient_id                      1904 non-null   int64  \n",
            " 1   age_at_diagnosis                1904 non-null   float64\n",
            " 2   type_of_breast_surgery          1882 non-null   object \n",
            " 3   cancer_type                     1904 non-null   object \n",
            " 4   cancer_type_detailed            1889 non-null   object \n",
            " 5   cellularity                     1850 non-null   object \n",
            " 6   chemotherapy                    1904 non-null   int64  \n",
            " 7   pam50_+_claudin-low_subtype     1904 non-null   object \n",
            " 8   cohort                          1904 non-null   float64\n",
            " 9   er_status_measured_by_ihc       1874 non-null   object \n",
            " 10  er_status                       1904 non-null   object \n",
            " 11  neoplasm_histologic_grade       1832 non-null   float64\n",
            " 12  her2_status_measured_by_snp6    1904 non-null   object \n",
            " 13  her2_status                     1904 non-null   object \n",
            " 14  tumor_other_histologic_subtype  1889 non-null   object \n",
            " 15  hormone_therapy                 1904 non-null   int64  \n",
            " 16  inferred_menopausal_state       1904 non-null   object \n",
            " 17  integrative_cluster             1904 non-null   object \n",
            " 18  primary_tumor_laterality        1798 non-null   object \n",
            " 19  lymph_nodes_examined_positive   1904 non-null   float64\n",
            " 20  mutation_count                  1859 non-null   float64\n",
            " 21  nottingham_prognostic_index     1904 non-null   float64\n",
            " 22  oncotree_code                   1889 non-null   object \n",
            " 23  overall_survival_months         1904 non-null   float64\n",
            " 24  overall_survival                1904 non-null   int64  \n",
            " 25  pr_status                       1904 non-null   object \n",
            " 26  radio_therapy                   1904 non-null   int64  \n",
            " 27  3-gene_classifier_subtype       1700 non-null   object \n",
            " 28  tumor_size                      1884 non-null   float64\n",
            " 29  tumor_stage                     1403 non-null   float64\n",
            " 30  death_from_cancer               1903 non-null   object \n",
            "dtypes: float64(9), int64(5), object(17)\n",
            "memory usage: 461.2+ KB\n"
          ]
        }
      ],
      "source": [
        "clinical_dataset.info()"
      ]
    },
    {
      "cell_type": "code",
      "execution_count": 106,
      "id": "1f838902",
      "metadata": {
        "colab": {
          "base_uri": "https://localhost:8080/",
          "height": 364
        },
        "id": "1f838902",
        "outputId": "27089416-58f1-4075-9e5a-f024a86654b7"
      },
      "outputs": [
        {
          "data": {
            "text/html": [
              "<div>\n",
              "<style scoped>\n",
              "    .dataframe tbody tr th:only-of-type {\n",
              "        vertical-align: middle;\n",
              "    }\n",
              "\n",
              "    .dataframe tbody tr th {\n",
              "        vertical-align: top;\n",
              "    }\n",
              "\n",
              "    .dataframe thead th {\n",
              "        text-align: right;\n",
              "    }\n",
              "</style>\n",
              "<table border=\"1\" class=\"dataframe\">\n",
              "  <thead>\n",
              "    <tr style=\"text-align: right;\">\n",
              "      <th></th>\n",
              "      <th>patient_id</th>\n",
              "      <th>age_at_diagnosis</th>\n",
              "      <th>chemotherapy</th>\n",
              "      <th>cohort</th>\n",
              "      <th>neoplasm_histologic_grade</th>\n",
              "      <th>hormone_therapy</th>\n",
              "      <th>lymph_nodes_examined_positive</th>\n",
              "      <th>mutation_count</th>\n",
              "      <th>nottingham_prognostic_index</th>\n",
              "      <th>overall_survival_months</th>\n",
              "      <th>overall_survival</th>\n",
              "      <th>radio_therapy</th>\n",
              "      <th>tumor_size</th>\n",
              "      <th>tumor_stage</th>\n",
              "    </tr>\n",
              "  </thead>\n",
              "  <tbody>\n",
              "    <tr>\n",
              "      <th>count</th>\n",
              "      <td>1904.000000</td>\n",
              "      <td>1904.000000</td>\n",
              "      <td>1904.000000</td>\n",
              "      <td>1904.000000</td>\n",
              "      <td>1832.000000</td>\n",
              "      <td>1904.000000</td>\n",
              "      <td>1904.000000</td>\n",
              "      <td>1859.000000</td>\n",
              "      <td>1904.000000</td>\n",
              "      <td>1904.000000</td>\n",
              "      <td>1904.000000</td>\n",
              "      <td>1904.000000</td>\n",
              "      <td>1884.000000</td>\n",
              "      <td>1403.000000</td>\n",
              "    </tr>\n",
              "    <tr>\n",
              "      <th>mean</th>\n",
              "      <td>3921.982143</td>\n",
              "      <td>61.087054</td>\n",
              "      <td>0.207983</td>\n",
              "      <td>2.643908</td>\n",
              "      <td>2.415939</td>\n",
              "      <td>0.616597</td>\n",
              "      <td>2.002101</td>\n",
              "      <td>5.697687</td>\n",
              "      <td>4.033019</td>\n",
              "      <td>125.121324</td>\n",
              "      <td>0.420693</td>\n",
              "      <td>0.597164</td>\n",
              "      <td>26.238726</td>\n",
              "      <td>1.750535</td>\n",
              "    </tr>\n",
              "    <tr>\n",
              "      <th>std</th>\n",
              "      <td>2358.478332</td>\n",
              "      <td>12.978711</td>\n",
              "      <td>0.405971</td>\n",
              "      <td>1.228615</td>\n",
              "      <td>0.650612</td>\n",
              "      <td>0.486343</td>\n",
              "      <td>4.079993</td>\n",
              "      <td>4.058778</td>\n",
              "      <td>1.144492</td>\n",
              "      <td>76.334148</td>\n",
              "      <td>0.493800</td>\n",
              "      <td>0.490597</td>\n",
              "      <td>15.160976</td>\n",
              "      <td>0.628999</td>\n",
              "    </tr>\n",
              "    <tr>\n",
              "      <th>min</th>\n",
              "      <td>0.000000</td>\n",
              "      <td>21.930000</td>\n",
              "      <td>0.000000</td>\n",
              "      <td>1.000000</td>\n",
              "      <td>1.000000</td>\n",
              "      <td>0.000000</td>\n",
              "      <td>0.000000</td>\n",
              "      <td>1.000000</td>\n",
              "      <td>1.000000</td>\n",
              "      <td>0.000000</td>\n",
              "      <td>0.000000</td>\n",
              "      <td>0.000000</td>\n",
              "      <td>1.000000</td>\n",
              "      <td>0.000000</td>\n",
              "    </tr>\n",
              "    <tr>\n",
              "      <th>25%</th>\n",
              "      <td>896.500000</td>\n",
              "      <td>51.375000</td>\n",
              "      <td>0.000000</td>\n",
              "      <td>1.000000</td>\n",
              "      <td>2.000000</td>\n",
              "      <td>0.000000</td>\n",
              "      <td>0.000000</td>\n",
              "      <td>3.000000</td>\n",
              "      <td>3.046000</td>\n",
              "      <td>60.825000</td>\n",
              "      <td>0.000000</td>\n",
              "      <td>0.000000</td>\n",
              "      <td>17.000000</td>\n",
              "      <td>1.000000</td>\n",
              "    </tr>\n",
              "    <tr>\n",
              "      <th>50%</th>\n",
              "      <td>4730.500000</td>\n",
              "      <td>61.770000</td>\n",
              "      <td>0.000000</td>\n",
              "      <td>3.000000</td>\n",
              "      <td>3.000000</td>\n",
              "      <td>1.000000</td>\n",
              "      <td>0.000000</td>\n",
              "      <td>5.000000</td>\n",
              "      <td>4.042000</td>\n",
              "      <td>115.616667</td>\n",
              "      <td>0.000000</td>\n",
              "      <td>1.000000</td>\n",
              "      <td>23.000000</td>\n",
              "      <td>2.000000</td>\n",
              "    </tr>\n",
              "    <tr>\n",
              "      <th>75%</th>\n",
              "      <td>5536.250000</td>\n",
              "      <td>70.592500</td>\n",
              "      <td>0.000000</td>\n",
              "      <td>3.000000</td>\n",
              "      <td>3.000000</td>\n",
              "      <td>1.000000</td>\n",
              "      <td>2.000000</td>\n",
              "      <td>7.000000</td>\n",
              "      <td>5.040250</td>\n",
              "      <td>184.716667</td>\n",
              "      <td>1.000000</td>\n",
              "      <td>1.000000</td>\n",
              "      <td>30.000000</td>\n",
              "      <td>2.000000</td>\n",
              "    </tr>\n",
              "    <tr>\n",
              "      <th>max</th>\n",
              "      <td>7299.000000</td>\n",
              "      <td>96.290000</td>\n",
              "      <td>1.000000</td>\n",
              "      <td>5.000000</td>\n",
              "      <td>3.000000</td>\n",
              "      <td>1.000000</td>\n",
              "      <td>45.000000</td>\n",
              "      <td>80.000000</td>\n",
              "      <td>6.360000</td>\n",
              "      <td>355.200000</td>\n",
              "      <td>1.000000</td>\n",
              "      <td>1.000000</td>\n",
              "      <td>182.000000</td>\n",
              "      <td>4.000000</td>\n",
              "    </tr>\n",
              "  </tbody>\n",
              "</table>\n",
              "</div>"
            ],
            "text/plain": [
              "        patient_id  age_at_diagnosis  chemotherapy       cohort  \\\n",
              "count  1904.000000       1904.000000   1904.000000  1904.000000   \n",
              "mean   3921.982143         61.087054      0.207983     2.643908   \n",
              "std    2358.478332         12.978711      0.405971     1.228615   \n",
              "min       0.000000         21.930000      0.000000     1.000000   \n",
              "25%     896.500000         51.375000      0.000000     1.000000   \n",
              "50%    4730.500000         61.770000      0.000000     3.000000   \n",
              "75%    5536.250000         70.592500      0.000000     3.000000   \n",
              "max    7299.000000         96.290000      1.000000     5.000000   \n",
              "\n",
              "       neoplasm_histologic_grade  hormone_therapy  \\\n",
              "count                1832.000000      1904.000000   \n",
              "mean                    2.415939         0.616597   \n",
              "std                     0.650612         0.486343   \n",
              "min                     1.000000         0.000000   \n",
              "25%                     2.000000         0.000000   \n",
              "50%                     3.000000         1.000000   \n",
              "75%                     3.000000         1.000000   \n",
              "max                     3.000000         1.000000   \n",
              "\n",
              "       lymph_nodes_examined_positive  mutation_count  \\\n",
              "count                    1904.000000     1859.000000   \n",
              "mean                        2.002101        5.697687   \n",
              "std                         4.079993        4.058778   \n",
              "min                         0.000000        1.000000   \n",
              "25%                         0.000000        3.000000   \n",
              "50%                         0.000000        5.000000   \n",
              "75%                         2.000000        7.000000   \n",
              "max                        45.000000       80.000000   \n",
              "\n",
              "       nottingham_prognostic_index  overall_survival_months  overall_survival  \\\n",
              "count                  1904.000000              1904.000000       1904.000000   \n",
              "mean                      4.033019               125.121324          0.420693   \n",
              "std                       1.144492                76.334148          0.493800   \n",
              "min                       1.000000                 0.000000          0.000000   \n",
              "25%                       3.046000                60.825000          0.000000   \n",
              "50%                       4.042000               115.616667          0.000000   \n",
              "75%                       5.040250               184.716667          1.000000   \n",
              "max                       6.360000               355.200000          1.000000   \n",
              "\n",
              "       radio_therapy   tumor_size  tumor_stage  \n",
              "count    1904.000000  1884.000000  1403.000000  \n",
              "mean        0.597164    26.238726     1.750535  \n",
              "std         0.490597    15.160976     0.628999  \n",
              "min         0.000000     1.000000     0.000000  \n",
              "25%         0.000000    17.000000     1.000000  \n",
              "50%         1.000000    23.000000     2.000000  \n",
              "75%         1.000000    30.000000     2.000000  \n",
              "max         1.000000   182.000000     4.000000  "
            ]
          },
          "execution_count": 106,
          "metadata": {},
          "output_type": "execute_result"
        }
      ],
      "source": [
        "clinical_dataset.describe()"
      ]
    },
    {
      "cell_type": "code",
      "execution_count": 107,
      "id": "539e4ddf",
      "metadata": {
        "colab": {
          "base_uri": "https://localhost:8080/"
        },
        "id": "539e4ddf",
        "outputId": "bcdec4fc-5f21-4cb7-b6bf-841f76bd33e8"
      },
      "outputs": [
        {
          "name": "stdout",
          "output_type": "stream",
          "text": [
            "<class 'pandas.core.frame.DataFrame'>\n",
            "RangeIndex: 1904 entries, 0 to 1903\n",
            "Columns: 489 entries, peg3 to brca1\n",
            "dtypes: float64(489)\n",
            "memory usage: 7.1 MB\n"
          ]
        }
      ],
      "source": [
        "gene_expr_dataset.info()"
      ]
    },
    {
      "cell_type": "code",
      "execution_count": 108,
      "id": "9a290365",
      "metadata": {
        "colab": {
          "base_uri": "https://localhost:8080/",
          "height": 394
        },
        "id": "9a290365",
        "outputId": "3010c27f-ca55-4194-a387-e3f97a4a4fd8"
      },
      "outputs": [
        {
          "data": {
            "text/html": [
              "<div>\n",
              "<style scoped>\n",
              "    .dataframe tbody tr th:only-of-type {\n",
              "        vertical-align: middle;\n",
              "    }\n",
              "\n",
              "    .dataframe tbody tr th {\n",
              "        vertical-align: top;\n",
              "    }\n",
              "\n",
              "    .dataframe thead th {\n",
              "        text-align: right;\n",
              "    }\n",
              "</style>\n",
              "<table border=\"1\" class=\"dataframe\">\n",
              "  <thead>\n",
              "    <tr style=\"text-align: right;\">\n",
              "      <th></th>\n",
              "      <th>peg3</th>\n",
              "      <th>tubb4b</th>\n",
              "      <th>tbl1xr1</th>\n",
              "      <th>cdk6</th>\n",
              "      <th>fanca</th>\n",
              "      <th>rassf1</th>\n",
              "      <th>epcam</th>\n",
              "      <th>tp53bp1</th>\n",
              "      <th>tgfb1</th>\n",
              "      <th>dtx2</th>\n",
              "      <th>...</th>\n",
              "      <th>rasgef1b</th>\n",
              "      <th>vegfa</th>\n",
              "      <th>eif4ebp1</th>\n",
              "      <th>hsd3b2</th>\n",
              "      <th>prkg1</th>\n",
              "      <th>bmp2</th>\n",
              "      <th>folr1</th>\n",
              "      <th>akr1c2</th>\n",
              "      <th>map2</th>\n",
              "      <th>brca1</th>\n",
              "    </tr>\n",
              "  </thead>\n",
              "  <tbody>\n",
              "    <tr>\n",
              "      <th>count</th>\n",
              "      <td>1.904000e+03</td>\n",
              "      <td>1.904000e+03</td>\n",
              "      <td>1.904000e+03</td>\n",
              "      <td>1.904000e+03</td>\n",
              "      <td>1.904000e+03</td>\n",
              "      <td>1.904000e+03</td>\n",
              "      <td>1.904000e+03</td>\n",
              "      <td>1.904000e+03</td>\n",
              "      <td>1.904000e+03</td>\n",
              "      <td>1904.000000</td>\n",
              "      <td>...</td>\n",
              "      <td>1.904000e+03</td>\n",
              "      <td>1.904000e+03</td>\n",
              "      <td>1.904000e+03</td>\n",
              "      <td>1.904000e+03</td>\n",
              "      <td>1.904000e+03</td>\n",
              "      <td>1.904000e+03</td>\n",
              "      <td>1.904000e+03</td>\n",
              "      <td>1.904000e+03</td>\n",
              "      <td>1.904000e+03</td>\n",
              "      <td>1.904000e+03</td>\n",
              "    </tr>\n",
              "    <tr>\n",
              "      <th>mean</th>\n",
              "      <td>-4.726891e-07</td>\n",
              "      <td>-1.050420e-07</td>\n",
              "      <td>-3.676471e-07</td>\n",
              "      <td>6.302521e-07</td>\n",
              "      <td>4.201681e-07</td>\n",
              "      <td>-3.151261e-07</td>\n",
              "      <td>1.492737e-17</td>\n",
              "      <td>8.928571e-07</td>\n",
              "      <td>-2.626050e-07</td>\n",
              "      <td>-0.000001</td>\n",
              "      <td>...</td>\n",
              "      <td>-5.252101e-07</td>\n",
              "      <td>5.252101e-07</td>\n",
              "      <td>-4.201681e-07</td>\n",
              "      <td>1.050420e-07</td>\n",
              "      <td>1.050420e-07</td>\n",
              "      <td>6.302521e-07</td>\n",
              "      <td>-9.978992e-07</td>\n",
              "      <td>4.726891e-07</td>\n",
              "      <td>-6.827731e-07</td>\n",
              "      <td>-6.302521e-07</td>\n",
              "    </tr>\n",
              "    <tr>\n",
              "      <th>std</th>\n",
              "      <td>1.000264e+00</td>\n",
              "      <td>1.000263e+00</td>\n",
              "      <td>1.000263e+00</td>\n",
              "      <td>1.000263e+00</td>\n",
              "      <td>1.000262e+00</td>\n",
              "      <td>1.000264e+00</td>\n",
              "      <td>1.000263e+00</td>\n",
              "      <td>1.000262e+00</td>\n",
              "      <td>1.000262e+00</td>\n",
              "      <td>1.000262</td>\n",
              "      <td>...</td>\n",
              "      <td>1.000263e+00</td>\n",
              "      <td>1.000263e+00</td>\n",
              "      <td>1.000263e+00</td>\n",
              "      <td>1.000262e+00</td>\n",
              "      <td>1.000263e+00</td>\n",
              "      <td>1.000262e+00</td>\n",
              "      <td>1.000263e+00</td>\n",
              "      <td>1.000263e+00</td>\n",
              "      <td>1.000263e+00</td>\n",
              "      <td>1.000262e+00</td>\n",
              "    </tr>\n",
              "    <tr>\n",
              "      <th>min</th>\n",
              "      <td>-1.464100e+00</td>\n",
              "      <td>-3.667700e+00</td>\n",
              "      <td>-3.897100e+00</td>\n",
              "      <td>-2.278400e+00</td>\n",
              "      <td>-3.873400e+00</td>\n",
              "      <td>-2.756700e+00</td>\n",
              "      <td>-2.165900e+00</td>\n",
              "      <td>-3.852700e+00</td>\n",
              "      <td>-3.812600e+00</td>\n",
              "      <td>-4.502600</td>\n",
              "      <td>...</td>\n",
              "      <td>-4.132600e+00</td>\n",
              "      <td>-1.934400e+00</td>\n",
              "      <td>-1.811200e+00</td>\n",
              "      <td>-3.820900e+00</td>\n",
              "      <td>-4.039200e+00</td>\n",
              "      <td>-1.571300e+00</td>\n",
              "      <td>-1.150500e+00</td>\n",
              "      <td>-1.467500e+00</td>\n",
              "      <td>-1.801200e+00</td>\n",
              "      <td>-2.444400e+00</td>\n",
              "    </tr>\n",
              "    <tr>\n",
              "      <th>25%</th>\n",
              "      <td>-7.087250e-01</td>\n",
              "      <td>-6.646250e-01</td>\n",
              "      <td>-6.138500e-01</td>\n",
              "      <td>-6.680750e-01</td>\n",
              "      <td>-6.873250e-01</td>\n",
              "      <td>-6.983500e-01</td>\n",
              "      <td>-6.860000e-01</td>\n",
              "      <td>-6.718750e-01</td>\n",
              "      <td>-6.600000e-01</td>\n",
              "      <td>-0.683300</td>\n",
              "      <td>...</td>\n",
              "      <td>-6.552250e-01</td>\n",
              "      <td>-6.937500e-01</td>\n",
              "      <td>-6.632500e-01</td>\n",
              "      <td>-6.573000e-01</td>\n",
              "      <td>-6.861500e-01</td>\n",
              "      <td>-5.201500e-01</td>\n",
              "      <td>-6.967250e-01</td>\n",
              "      <td>-7.351500e-01</td>\n",
              "      <td>-5.506000e-01</td>\n",
              "      <td>-7.198500e-01</td>\n",
              "    </tr>\n",
              "    <tr>\n",
              "      <th>50%</th>\n",
              "      <td>-2.802000e-01</td>\n",
              "      <td>-2.600000e-03</td>\n",
              "      <td>-7.585000e-02</td>\n",
              "      <td>-1.958000e-01</td>\n",
              "      <td>2.200000e-03</td>\n",
              "      <td>-7.700000e-02</td>\n",
              "      <td>-1.494500e-01</td>\n",
              "      <td>1.315000e-02</td>\n",
              "      <td>1.440000e-02</td>\n",
              "      <td>-0.097000</td>\n",
              "      <td>...</td>\n",
              "      <td>-9.600000e-03</td>\n",
              "      <td>-1.639000e-01</td>\n",
              "      <td>-2.543500e-01</td>\n",
              "      <td>-1.145000e-02</td>\n",
              "      <td>-5.055000e-02</td>\n",
              "      <td>-2.013500e-01</td>\n",
              "      <td>-4.091000e-01</td>\n",
              "      <td>-1.955500e-01</td>\n",
              "      <td>-2.434000e-01</td>\n",
              "      <td>-1.244500e-01</td>\n",
              "    </tr>\n",
              "    <tr>\n",
              "      <th>75%</th>\n",
              "      <td>4.066250e-01</td>\n",
              "      <td>6.491250e-01</td>\n",
              "      <td>5.130500e-01</td>\n",
              "      <td>4.241000e-01</td>\n",
              "      <td>6.179500e-01</td>\n",
              "      <td>6.200000e-01</td>\n",
              "      <td>5.255000e-01</td>\n",
              "      <td>6.924750e-01</td>\n",
              "      <td>6.339250e-01</td>\n",
              "      <td>0.555800</td>\n",
              "      <td>...</td>\n",
              "      <td>6.355750e-01</td>\n",
              "      <td>5.131250e-01</td>\n",
              "      <td>3.648500e-01</td>\n",
              "      <td>6.380750e-01</td>\n",
              "      <td>6.064500e-01</td>\n",
              "      <td>2.314250e-01</td>\n",
              "      <td>3.300500e-01</td>\n",
              "      <td>5.003500e-01</td>\n",
              "      <td>2.167000e-01</td>\n",
              "      <td>5.532250e-01</td>\n",
              "    </tr>\n",
              "    <tr>\n",
              "      <th>max</th>\n",
              "      <td>5.004300e+00</td>\n",
              "      <td>5.271600e+00</td>\n",
              "      <td>7.064900e+00</td>\n",
              "      <td>7.380700e+00</td>\n",
              "      <td>4.573600e+00</td>\n",
              "      <td>4.517100e+00</td>\n",
              "      <td>6.953900e+00</td>\n",
              "      <td>4.534900e+00</td>\n",
              "      <td>4.610500e+00</td>\n",
              "      <td>4.039700</td>\n",
              "      <td>...</td>\n",
              "      <td>4.182200e+00</td>\n",
              "      <td>5.131900e+00</td>\n",
              "      <td>7.403600e+00</td>\n",
              "      <td>8.560800e+00</td>\n",
              "      <td>5.169200e+00</td>\n",
              "      <td>1.154290e+01</td>\n",
              "      <td>4.441700e+00</td>\n",
              "      <td>4.417200e+00</td>\n",
              "      <td>6.900500e+00</td>\n",
              "      <td>4.554200e+00</td>\n",
              "    </tr>\n",
              "  </tbody>\n",
              "</table>\n",
              "<p>8 rows × 489 columns</p>\n",
              "</div>"
            ],
            "text/plain": [
              "               peg3        tubb4b       tbl1xr1          cdk6         fanca  \\\n",
              "count  1.904000e+03  1.904000e+03  1.904000e+03  1.904000e+03  1.904000e+03   \n",
              "mean  -4.726891e-07 -1.050420e-07 -3.676471e-07  6.302521e-07  4.201681e-07   \n",
              "std    1.000264e+00  1.000263e+00  1.000263e+00  1.000263e+00  1.000262e+00   \n",
              "min   -1.464100e+00 -3.667700e+00 -3.897100e+00 -2.278400e+00 -3.873400e+00   \n",
              "25%   -7.087250e-01 -6.646250e-01 -6.138500e-01 -6.680750e-01 -6.873250e-01   \n",
              "50%   -2.802000e-01 -2.600000e-03 -7.585000e-02 -1.958000e-01  2.200000e-03   \n",
              "75%    4.066250e-01  6.491250e-01  5.130500e-01  4.241000e-01  6.179500e-01   \n",
              "max    5.004300e+00  5.271600e+00  7.064900e+00  7.380700e+00  4.573600e+00   \n",
              "\n",
              "             rassf1         epcam       tp53bp1         tgfb1         dtx2  \\\n",
              "count  1.904000e+03  1.904000e+03  1.904000e+03  1.904000e+03  1904.000000   \n",
              "mean  -3.151261e-07  1.492737e-17  8.928571e-07 -2.626050e-07    -0.000001   \n",
              "std    1.000264e+00  1.000263e+00  1.000262e+00  1.000262e+00     1.000262   \n",
              "min   -2.756700e+00 -2.165900e+00 -3.852700e+00 -3.812600e+00    -4.502600   \n",
              "25%   -6.983500e-01 -6.860000e-01 -6.718750e-01 -6.600000e-01    -0.683300   \n",
              "50%   -7.700000e-02 -1.494500e-01  1.315000e-02  1.440000e-02    -0.097000   \n",
              "75%    6.200000e-01  5.255000e-01  6.924750e-01  6.339250e-01     0.555800   \n",
              "max    4.517100e+00  6.953900e+00  4.534900e+00  4.610500e+00     4.039700   \n",
              "\n",
              "       ...      rasgef1b         vegfa      eif4ebp1        hsd3b2  \\\n",
              "count  ...  1.904000e+03  1.904000e+03  1.904000e+03  1.904000e+03   \n",
              "mean   ... -5.252101e-07  5.252101e-07 -4.201681e-07  1.050420e-07   \n",
              "std    ...  1.000263e+00  1.000263e+00  1.000263e+00  1.000262e+00   \n",
              "min    ... -4.132600e+00 -1.934400e+00 -1.811200e+00 -3.820900e+00   \n",
              "25%    ... -6.552250e-01 -6.937500e-01 -6.632500e-01 -6.573000e-01   \n",
              "50%    ... -9.600000e-03 -1.639000e-01 -2.543500e-01 -1.145000e-02   \n",
              "75%    ...  6.355750e-01  5.131250e-01  3.648500e-01  6.380750e-01   \n",
              "max    ...  4.182200e+00  5.131900e+00  7.403600e+00  8.560800e+00   \n",
              "\n",
              "              prkg1          bmp2         folr1        akr1c2          map2  \\\n",
              "count  1.904000e+03  1.904000e+03  1.904000e+03  1.904000e+03  1.904000e+03   \n",
              "mean   1.050420e-07  6.302521e-07 -9.978992e-07  4.726891e-07 -6.827731e-07   \n",
              "std    1.000263e+00  1.000262e+00  1.000263e+00  1.000263e+00  1.000263e+00   \n",
              "min   -4.039200e+00 -1.571300e+00 -1.150500e+00 -1.467500e+00 -1.801200e+00   \n",
              "25%   -6.861500e-01 -5.201500e-01 -6.967250e-01 -7.351500e-01 -5.506000e-01   \n",
              "50%   -5.055000e-02 -2.013500e-01 -4.091000e-01 -1.955500e-01 -2.434000e-01   \n",
              "75%    6.064500e-01  2.314250e-01  3.300500e-01  5.003500e-01  2.167000e-01   \n",
              "max    5.169200e+00  1.154290e+01  4.441700e+00  4.417200e+00  6.900500e+00   \n",
              "\n",
              "              brca1  \n",
              "count  1.904000e+03  \n",
              "mean  -6.302521e-07  \n",
              "std    1.000262e+00  \n",
              "min   -2.444400e+00  \n",
              "25%   -7.198500e-01  \n",
              "50%   -1.244500e-01  \n",
              "75%    5.532250e-01  \n",
              "max    4.554200e+00  \n",
              "\n",
              "[8 rows x 489 columns]"
            ]
          },
          "execution_count": 108,
          "metadata": {},
          "output_type": "execute_result"
        }
      ],
      "source": [
        "gene_expr_dataset.describe()"
      ]
    },
    {
      "cell_type": "code",
      "execution_count": 109,
      "id": "8a055385",
      "metadata": {
        "colab": {
          "base_uri": "https://localhost:8080/"
        },
        "id": "8a055385",
        "outputId": "fbc09f2e-3a60-4302-ba09-0659a3192c20"
      },
      "outputs": [
        {
          "name": "stdout",
          "output_type": "stream",
          "text": [
            "<class 'pandas.core.frame.DataFrame'>\n",
            "RangeIndex: 1904 entries, 0 to 1903\n",
            "Columns: 173 entries, pik3ca_mut to siah1_mut\n",
            "dtypes: object(173)\n",
            "memory usage: 2.5+ MB\n"
          ]
        }
      ],
      "source": [
        "gene_mut_dataset.info()"
      ]
    },
    {
      "cell_type": "code",
      "execution_count": 110,
      "id": "0336013c",
      "metadata": {
        "colab": {
          "base_uri": "https://localhost:8080/",
          "height": 268
        },
        "id": "0336013c",
        "outputId": "8c4bb461-60ef-44f5-efd5-c2ccc9bce0f4"
      },
      "outputs": [
        {
          "data": {
            "text/html": [
              "<div>\n",
              "<style scoped>\n",
              "    .dataframe tbody tr th:only-of-type {\n",
              "        vertical-align: middle;\n",
              "    }\n",
              "\n",
              "    .dataframe tbody tr th {\n",
              "        vertical-align: top;\n",
              "    }\n",
              "\n",
              "    .dataframe thead th {\n",
              "        text-align: right;\n",
              "    }\n",
              "</style>\n",
              "<table border=\"1\" class=\"dataframe\">\n",
              "  <thead>\n",
              "    <tr style=\"text-align: right;\">\n",
              "      <th></th>\n",
              "      <th>pik3ca_mut</th>\n",
              "      <th>tp53_mut</th>\n",
              "      <th>muc16_mut</th>\n",
              "      <th>ahnak2_mut</th>\n",
              "      <th>kmt2c_mut</th>\n",
              "      <th>syne1_mut</th>\n",
              "      <th>gata3_mut</th>\n",
              "      <th>map3k1_mut</th>\n",
              "      <th>ahnak_mut</th>\n",
              "      <th>dnah11_mut</th>\n",
              "      <th>...</th>\n",
              "      <th>mtap_mut</th>\n",
              "      <th>ppp2cb_mut</th>\n",
              "      <th>smarcd1_mut</th>\n",
              "      <th>nras_mut</th>\n",
              "      <th>ndfip1_mut</th>\n",
              "      <th>hras_mut</th>\n",
              "      <th>prps2_mut</th>\n",
              "      <th>smarcb1_mut</th>\n",
              "      <th>stmn2_mut</th>\n",
              "      <th>siah1_mut</th>\n",
              "    </tr>\n",
              "  </thead>\n",
              "  <tbody>\n",
              "    <tr>\n",
              "      <th>count</th>\n",
              "      <td>1904</td>\n",
              "      <td>1904</td>\n",
              "      <td>1904</td>\n",
              "      <td>1904</td>\n",
              "      <td>1904</td>\n",
              "      <td>1904</td>\n",
              "      <td>1904</td>\n",
              "      <td>1904</td>\n",
              "      <td>1904</td>\n",
              "      <td>1904</td>\n",
              "      <td>...</td>\n",
              "      <td>1904</td>\n",
              "      <td>1904</td>\n",
              "      <td>1904</td>\n",
              "      <td>1904</td>\n",
              "      <td>1904</td>\n",
              "      <td>1904</td>\n",
              "      <td>1904</td>\n",
              "      <td>1904</td>\n",
              "      <td>1904</td>\n",
              "      <td>1904</td>\n",
              "    </tr>\n",
              "    <tr>\n",
              "      <th>unique</th>\n",
              "      <td>160</td>\n",
              "      <td>343</td>\n",
              "      <td>298</td>\n",
              "      <td>248</td>\n",
              "      <td>222</td>\n",
              "      <td>200</td>\n",
              "      <td>128</td>\n",
              "      <td>194</td>\n",
              "      <td>153</td>\n",
              "      <td>154</td>\n",
              "      <td>...</td>\n",
              "      <td>5</td>\n",
              "      <td>5</td>\n",
              "      <td>5</td>\n",
              "      <td>4</td>\n",
              "      <td>4</td>\n",
              "      <td>3</td>\n",
              "      <td>3</td>\n",
              "      <td>3</td>\n",
              "      <td>3</td>\n",
              "      <td>2</td>\n",
              "    </tr>\n",
              "    <tr>\n",
              "      <th>top</th>\n",
              "      <td>0</td>\n",
              "      <td>0</td>\n",
              "      <td>0</td>\n",
              "      <td>0</td>\n",
              "      <td>0</td>\n",
              "      <td>0</td>\n",
              "      <td>0</td>\n",
              "      <td>0</td>\n",
              "      <td>0</td>\n",
              "      <td>0</td>\n",
              "      <td>...</td>\n",
              "      <td>0</td>\n",
              "      <td>0</td>\n",
              "      <td>0</td>\n",
              "      <td>0</td>\n",
              "      <td>0</td>\n",
              "      <td>0</td>\n",
              "      <td>0</td>\n",
              "      <td>0</td>\n",
              "      <td>0</td>\n",
              "      <td>0</td>\n",
              "    </tr>\n",
              "    <tr>\n",
              "      <th>freq</th>\n",
              "      <td>1109</td>\n",
              "      <td>1245</td>\n",
              "      <td>1578</td>\n",
              "      <td>1593</td>\n",
              "      <td>1670</td>\n",
              "      <td>1672</td>\n",
              "      <td>1674</td>\n",
              "      <td>1706</td>\n",
              "      <td>1728</td>\n",
              "      <td>1729</td>\n",
              "      <td>...</td>\n",
              "      <td>1900</td>\n",
              "      <td>1900</td>\n",
              "      <td>1900</td>\n",
              "      <td>1901</td>\n",
              "      <td>1901</td>\n",
              "      <td>1902</td>\n",
              "      <td>1902</td>\n",
              "      <td>1902</td>\n",
              "      <td>1902</td>\n",
              "      <td>1903</td>\n",
              "    </tr>\n",
              "  </tbody>\n",
              "</table>\n",
              "<p>4 rows × 173 columns</p>\n",
              "</div>"
            ],
            "text/plain": [
              "       pik3ca_mut tp53_mut muc16_mut ahnak2_mut kmt2c_mut syne1_mut gata3_mut  \\\n",
              "count        1904     1904      1904       1904      1904      1904      1904   \n",
              "unique        160      343       298        248       222       200       128   \n",
              "top             0        0         0          0         0         0         0   \n",
              "freq         1109     1245      1578       1593      1670      1672      1674   \n",
              "\n",
              "       map3k1_mut ahnak_mut dnah11_mut  ... mtap_mut ppp2cb_mut smarcd1_mut  \\\n",
              "count        1904      1904       1904  ...     1904       1904        1904   \n",
              "unique        194       153        154  ...        5          5           5   \n",
              "top             0         0          0  ...        0          0           0   \n",
              "freq         1706      1728       1729  ...     1900       1900        1900   \n",
              "\n",
              "       nras_mut ndfip1_mut hras_mut prps2_mut smarcb1_mut stmn2_mut siah1_mut  \n",
              "count      1904       1904     1904      1904        1904      1904      1904  \n",
              "unique        4          4        3         3           3         3         2  \n",
              "top           0          0        0         0           0         0         0  \n",
              "freq       1901       1901     1902      1902        1902      1902      1903  \n",
              "\n",
              "[4 rows x 173 columns]"
            ]
          },
          "execution_count": 110,
          "metadata": {},
          "output_type": "execute_result"
        }
      ],
      "source": [
        "gene_mut_dataset.describe()"
      ]
    },
    {
      "cell_type": "code",
      "execution_count": 111,
      "id": "3fc5a137",
      "metadata": {
        "colab": {
          "base_uri": "https://localhost:8080/"
        },
        "id": "3fc5a137",
        "outputId": "750bf9b4-9a35-4fa3-f86c-6bf03a929c56"
      },
      "outputs": [
        {
          "name": "stdout",
          "output_type": "stream",
          "text": [
            "Clinical dataset clean data: 1092\n",
            "Gene expression dataset clean data: 1904\n",
            "Gene mutation dataset clean data: 1904\n"
          ]
        }
      ],
      "source": [
        "# clean data means data with no NaN value in any column\n",
        "def clean_stats(ds):\n",
        "    return '''clean data: {0}'''.format(ds.shape[0] - ds.isnull().any(axis=1).sum())\n",
        "\n",
        "print(f'Clinical dataset {clean_stats(clinical_dataset)}')\n",
        "print(f'Gene expression dataset {clean_stats(gene_expr_dataset)}')\n",
        "print(f'Gene mutation dataset {clean_stats(gene_mut_dataset)}')"
      ]
    },
    {
      "cell_type": "code",
      "execution_count": 112,
      "id": "0f730892",
      "metadata": {
        "colab": {
          "base_uri": "https://localhost:8080/"
        },
        "id": "0f730892",
        "outputId": "42b12e02-832c-4bf8-ebf9-3635c298918f"
      },
      "outputs": [
        {
          "data": {
            "text/plain": [
              "patient_id                          int64\n",
              "age_at_diagnosis                  float64\n",
              "type_of_breast_surgery             object\n",
              "cancer_type                        object\n",
              "cancer_type_detailed               object\n",
              "cellularity                        object\n",
              "chemotherapy                        int64\n",
              "pam50_+_claudin-low_subtype        object\n",
              "cohort                            float64\n",
              "er_status_measured_by_ihc          object\n",
              "er_status                          object\n",
              "neoplasm_histologic_grade         float64\n",
              "her2_status_measured_by_snp6       object\n",
              "her2_status                        object\n",
              "tumor_other_histologic_subtype     object\n",
              "hormone_therapy                     int64\n",
              "inferred_menopausal_state          object\n",
              "integrative_cluster                object\n",
              "primary_tumor_laterality           object\n",
              "lymph_nodes_examined_positive     float64\n",
              "mutation_count                    float64\n",
              "nottingham_prognostic_index       float64\n",
              "oncotree_code                      object\n",
              "overall_survival_months           float64\n",
              "overall_survival                    int64\n",
              "pr_status                          object\n",
              "radio_therapy                       int64\n",
              "3-gene_classifier_subtype          object\n",
              "tumor_size                        float64\n",
              "tumor_stage                       float64\n",
              "death_from_cancer                  object\n",
              "dtype: object"
            ]
          },
          "execution_count": 112,
          "metadata": {},
          "output_type": "execute_result"
        }
      ],
      "source": [
        "clinical_dataset.dtypes"
      ]
    },
    {
      "cell_type": "code",
      "execution_count": 113,
      "id": "935fefb0",
      "metadata": {
        "colab": {
          "base_uri": "https://localhost:8080/"
        },
        "id": "935fefb0",
        "outputId": "f1698807-76f3-4df7-cbef-8b7a9f49b603"
      },
      "outputs": [
        {
          "name": "stdout",
          "output_type": "stream",
          "text": [
            "Clinical dataset: \n",
            "    columns: 31, object columns: 17, int columns: 5, float columns: 9\n",
            "    \n",
            "Gene expression dataset: \n",
            "    columns: 489, object columns: 0, int columns: 0, float columns: 489\n",
            "    \n",
            "Gene mutation dataset: \n",
            "    columns: 173, object columns: 173, int columns: 0, float columns: 0\n",
            "    \n"
          ]
        }
      ],
      "source": [
        "def dtype_stats(ds):\n",
        "    return '''\n",
        "    columns: {0}, object columns: {1}, int columns: {2}, float columns: {3}\n",
        "    '''.format(len(ds.columns),\n",
        "               (ds.dtypes == 'object').sum(),\n",
        "               (ds.dtypes == 'int64').sum(),\n",
        "               (ds.dtypes == 'float64').sum())\n",
        "\n",
        "print(f'Clinical dataset: {dtype_stats(clinical_dataset)}')\n",
        "print(f'Gene expression dataset: {dtype_stats(gene_expr_dataset)}')\n",
        "print(f'Gene mutation dataset: {dtype_stats(gene_mut_dataset)}')"
      ]
    },
    {
      "cell_type": "code",
      "execution_count": 114,
      "id": "70dfb89d",
      "metadata": {
        "colab": {
          "base_uri": "https://localhost:8080/",
          "height": 206
        },
        "id": "70dfb89d",
        "outputId": "bb64426b-b8db-4bd1-8cf3-b26d71b7439a"
      },
      "outputs": [
        {
          "data": {
            "text/html": [
              "<div>\n",
              "<style scoped>\n",
              "    .dataframe tbody tr th:only-of-type {\n",
              "        vertical-align: middle;\n",
              "    }\n",
              "\n",
              "    .dataframe tbody tr th {\n",
              "        vertical-align: top;\n",
              "    }\n",
              "\n",
              "    .dataframe thead th {\n",
              "        text-align: right;\n",
              "    }\n",
              "</style>\n",
              "<table border=\"1\" class=\"dataframe\">\n",
              "  <thead>\n",
              "    <tr style=\"text-align: right;\">\n",
              "      <th></th>\n",
              "      <th>patient_id</th>\n",
              "      <th>chemotherapy</th>\n",
              "      <th>hormone_therapy</th>\n",
              "      <th>overall_survival</th>\n",
              "      <th>radio_therapy</th>\n",
              "    </tr>\n",
              "  </thead>\n",
              "  <tbody>\n",
              "    <tr>\n",
              "      <th>0</th>\n",
              "      <td>0</td>\n",
              "      <td>0</td>\n",
              "      <td>1</td>\n",
              "      <td>1</td>\n",
              "      <td>1</td>\n",
              "    </tr>\n",
              "    <tr>\n",
              "      <th>1</th>\n",
              "      <td>2</td>\n",
              "      <td>0</td>\n",
              "      <td>1</td>\n",
              "      <td>1</td>\n",
              "      <td>1</td>\n",
              "    </tr>\n",
              "    <tr>\n",
              "      <th>2</th>\n",
              "      <td>5</td>\n",
              "      <td>1</td>\n",
              "      <td>1</td>\n",
              "      <td>0</td>\n",
              "      <td>0</td>\n",
              "    </tr>\n",
              "    <tr>\n",
              "      <th>3</th>\n",
              "      <td>6</td>\n",
              "      <td>1</td>\n",
              "      <td>1</td>\n",
              "      <td>1</td>\n",
              "      <td>1</td>\n",
              "    </tr>\n",
              "    <tr>\n",
              "      <th>4</th>\n",
              "      <td>8</td>\n",
              "      <td>1</td>\n",
              "      <td>1</td>\n",
              "      <td>0</td>\n",
              "      <td>1</td>\n",
              "    </tr>\n",
              "  </tbody>\n",
              "</table>\n",
              "</div>"
            ],
            "text/plain": [
              "   patient_id  chemotherapy  hormone_therapy  overall_survival  radio_therapy\n",
              "0           0             0                1                 1              1\n",
              "1           2             0                1                 1              1\n",
              "2           5             1                1                 0              0\n",
              "3           6             1                1                 1              1\n",
              "4           8             1                1                 0              1"
            ]
          },
          "execution_count": 114,
          "metadata": {},
          "output_type": "execute_result"
        }
      ],
      "source": [
        "# check if int data needs scaling\n",
        "clinical_dataset[clinical_columns[clinical_dataset.dtypes == 'int64']].head(5)"
      ]
    },
    {
      "cell_type": "code",
      "execution_count": 115,
      "id": "00a64091",
      "metadata": {
        "id": "00a64091"
      },
      "outputs": [],
      "source": [
        "# define data and labels for each dataset\n",
        "\n",
        "labels = clinical_dataset[label_column].to_numpy()\n",
        "clinical_data = clinical_dataset[clinical_data_columns].to_numpy()\n",
        "gene_expr_data = gene_expr_dataset.to_numpy()"
      ]
    },
    {
      "cell_type": "code",
      "execution_count": 116,
      "id": "99c8a4bc",
      "metadata": {
        "id": "99c8a4bc"
      },
      "outputs": [],
      "source": [
        "# Convert categorical data to numerical data for clinical dataset\n",
        "ordinal_encoder = OrdinalEncoder()\n",
        "clinical_data = ordinal_encoder.fit_transform(clinical_data)"
      ]
    },
    {
      "cell_type": "code",
      "execution_count": 117,
      "id": "9da8ca52",
      "metadata": {
        "id": "9da8ca52"
      },
      "outputs": [],
      "source": [
        "# Perform data imputation for clinical dataset\n",
        "imputer = SimpleImputer(missing_values=np.nan, strategy='mean')\n",
        "clinical_data = imputer.fit_transform(clinical_data)"
      ]
    },
    {
      "cell_type": "code",
      "execution_count": 118,
      "id": "1BFAjN9wKRUu",
      "metadata": {
        "id": "1BFAjN9wKRUu"
      },
      "outputs": [],
      "source": [
        "scaler = StandardScaler()\n",
        "clinical_data = scaler.fit_transform(clinical_data)"
      ]
    },
    {
      "cell_type": "code",
      "execution_count": 119,
      "id": "eG4CkK4IC9d-",
      "metadata": {
        "id": "eG4CkK4IC9d-"
      },
      "outputs": [],
      "source": [
        "_clinical_train_X, _clinical_test_X, _clinical_train_y, _clinical_test_y = train_test_split(clinical_data, labels, test_size=0.10, random_state=SEED)\n",
        "_clinical_train_X, _clinical_val_X, _clinical_train_y, _clinical_val_y = train_test_split(_clinical_train_X, _clinical_train_y, test_size=0.10, random_state=SEED)\n",
        "\n",
        "_gene_expr_train_X, _gene_expr_test_X, _gene_expr_train_y, _gene_expr_test_y = train_test_split(gene_expr_data, labels, test_size=0.10, random_state=SEED)\n",
        "_gene_expr_train_X, _gene_expr_val_X, _gene_expr_train_y, _gene_expr_val_y = train_test_split(_gene_expr_train_X, _gene_expr_train_y, test_size=0.10, random_state=SEED)\n",
        "\n",
        "dataset = {\n",
        "    'clinical':{\n",
        "        'X_train': _clinical_train_X,\n",
        "        'X_val': _clinical_val_X,\n",
        "        'X_test': _clinical_test_X,\n",
        "        'y_train': _clinical_train_y,\n",
        "        'y_val': _clinical_val_y,\n",
        "        'y_test': _clinical_test_y\n",
        "    },\n",
        "    'gene_expr':{\n",
        "        'X_train': _gene_expr_train_X,\n",
        "        'X_val': _gene_expr_val_X,\n",
        "        'X_test': _gene_expr_test_X,\n",
        "        'y_train': _gene_expr_train_y,\n",
        "        'y_val': _gene_expr_val_y,\n",
        "        'y_test': _gene_expr_test_y\n",
        "    },\n",
        "    'gene_expr_reduced':{\n",
        "    }\n",
        "}"
      ]
    },
    {
      "cell_type": "markdown",
      "id": "e2c3821f",
      "metadata": {
        "id": "e2c3821f"
      },
      "source": [
        "## Dimension Reduction (20 + Up to 10 Points Optional)"
      ]
    },
    {
      "cell_type": "markdown",
      "id": "b925e2cf",
      "metadata": {
        "id": "b925e2cf"
      },
      "source": [
        "For each dataset, investigate whether it is needed to use a dimensionality reduction approach or not. If yes, please reduce the dataset's dimension. You can use UMAP for this purpose but any other approach is acceptable. Finding the most important features contains extra points."
      ]
    },
    {
      "cell_type": "markdown",
      "id": "b14cefb7",
      "metadata": {
        "id": "b14cefb7"
      },
      "source": [
        "<span style=\"color:orange\">\n",
        "    we check if dimensionality reduction is needed by using a simple linear regression model as a baseline .\n",
        "</span>\n",
        "\n"
      ]
    },
    {
      "cell_type": "code",
      "execution_count": 120,
      "id": "f0666a0d",
      "metadata": {
        "colab": {
          "base_uri": "https://localhost:8080/"
        },
        "id": "f0666a0d",
        "outputId": "3e374600-946f-4995-c0bb-a9e6eaed661c"
      },
      "outputs": [
        {
          "name": "stdout",
          "output_type": "stream",
          "text": [
            "Accuracy of simple linear regression model on clinical data: 0.733\n",
            "Accuracy of simple linear regression model on gene expression data: 0.550\n"
          ]
        }
      ],
      "source": [
        "# predict for the clinical dataset using linear regression\n",
        "_clf = LinearRegression()\n",
        "_clf.fit(dataset['clinical']['X_train'], dataset['clinical']['y_train'])\n",
        "_clinical_baseline_pred = np.round(_clf.predict(dataset['clinical']['X_test']))\n",
        "_clinical_baseline_accuracy = accuracy_score(dataset['clinical']['y_test'], _clinical_baseline_pred)\n",
        "\n",
        "# predict for the gene expression dataset using linear regression\n",
        "_clf = LinearRegression()\n",
        "_clf.fit(dataset['gene_expr']['X_train'], dataset['gene_expr']['y_train'])\n",
        "_gene_expr_baseline_pred = np.round(_clf.predict(dataset['gene_expr']['X_test']))\n",
        "_gene_expr_baseline_accuracy = accuracy_score(dataset['gene_expr']['y_test'], _gene_expr_baseline_pred)\n",
        "\n",
        "print(f'Accuracy of simple linear regression model on clinical data: {_clinical_baseline_accuracy:.3f}')\n",
        "print(f'Accuracy of simple linear regression model on gene expression data: {_gene_expr_baseline_accuracy:.3f}')"
      ]
    },
    {
      "cell_type": "markdown",
      "id": "29e2dbe8",
      "metadata": {
        "id": "29e2dbe8"
      },
      "source": [
        "<span style=\"color:orange\">\n",
        "    As we can see, the results are much better for the clinical dataset which has few dimensions, but not so much for the gene expession dataset.\n",
        "    Therefore, we will only reduce the dimensions for gene expression dataset.\n",
        "</span>\n",
        "\n"
      ]
    },
    {
      "cell_type": "code",
      "execution_count": 121,
      "id": "a3f0b1a2",
      "metadata": {
        "colab": {
          "base_uri": "https://localhost:8080/"
        },
        "id": "a3f0b1a2",
        "outputId": "7ecc82fe-56cf-4b18-844a-e15dcde3a0c8"
      },
      "outputs": [
        {
          "name": "stdout",
          "output_type": "stream",
          "text": [
            "Accuracy of simple linear regression model on reduced clinical data: 0.634\n",
            "Accuracy of simple linear regression model on reduced gene expression data: 0.607\n"
          ]
        }
      ],
      "source": [
        "# reduce the dimensions for clinical data and predict using baseline model\n",
        "CLINICAL_REDUCED_DIMENSIONS = 10\n",
        "GENE_EXPR_REDUCED_DIMENSIONS = 20\n",
        "\n",
        "\n",
        "_reducer = umap.UMAP(n_components=CLINICAL_REDUCED_DIMENSIONS, random_state=SEED)\n",
        "_reducer.fit(clinical_data)\n",
        "_reduced_X_train = _reducer.transform(dataset['clinical']['X_train'])\n",
        "_reduced_X_test = _reducer.transform(dataset['clinical']['X_test'])\n",
        "\n",
        "_clf = LinearRegression()\n",
        "_clf.fit(_reduced_X_train, dataset['clinical']['y_train'])\n",
        "_clinical_reduced_baseline_pred = np.round(_clf.predict(_reduced_X_test))\n",
        "_clinical_reduced_baseline_accuracy = accuracy_score(dataset['clinical']['y_test'], _clinical_reduced_baseline_pred)\n",
        "\n",
        "# reduce the dimensions for gene expression data and predict using baseline model\n",
        "_reducer = umap.UMAP(n_components=GENE_EXPR_REDUCED_DIMENSIONS, random_state=SEED)\n",
        "_reducer.fit(gene_expr_data)\n",
        "_reduced_X_train = _reducer.transform(dataset['gene_expr']['X_train'])\n",
        "_reduced_X_val = _reducer.transform(dataset['gene_expr']['X_val'])\n",
        "_reduced_X_test = _reducer.transform(dataset['gene_expr']['X_test'])\n",
        "\n",
        "_clf = LinearRegression()\n",
        "_clf.fit(_reduced_X_train, dataset['gene_expr']['y_train'])\n",
        "_gene_expr_reduced_baseline_pred = np.round(_clf.predict(_reduced_X_test))\n",
        "_gene_expr_reduced_baseline_accuracy = accuracy_score(dataset['gene_expr']['y_test'], _gene_expr_reduced_baseline_pred)\n",
        "\n",
        "print(f'Accuracy of simple linear regression model on reduced clinical data: {_clinical_reduced_baseline_accuracy:.3f}')\n",
        "print(f'Accuracy of simple linear regression model on reduced gene expression data: {_gene_expr_reduced_baseline_accuracy:.3f}')"
      ]
    },
    {
      "cell_type": "markdown",
      "id": "578ec633",
      "metadata": {
        "id": "578ec633"
      },
      "source": [
        "<span style=\"color:orange\">\n",
        "    As we can see, applying dimension reduction on the clinical dataset leads to worse results, while on gene expression dataset improves the predictions.\n",
        "    Therefore, we choose to reduce the dimensions of only the gene expression dataset. \n",
        "</span>\n",
        "\n"
      ]
    },
    {
      "cell_type": "code",
      "execution_count": 122,
      "id": "1dc64a2b",
      "metadata": {
        "id": "1dc64a2b"
      },
      "outputs": [],
      "source": [
        "dataset['gene_expr_reduced'] = {\n",
        "    'X_train': _reduced_X_train,\n",
        "    'X_val': _reduced_X_val,\n",
        "    'X_test': _reduced_X_test,\n",
        "    'y_train': _gene_expr_train_y,\n",
        "    'y_val': _gene_expr_val_y,\n",
        "    'y_test': _gene_expr_test_y\n",
        "}"
      ]
    },
    {
      "cell_type": "markdown",
      "id": "bf0ea4bb",
      "metadata": {
        "id": "bf0ea4bb"
      },
      "source": [
        "# Classic Model (25 Points)"
      ]
    },
    {
      "cell_type": "markdown",
      "id": "389c5d75",
      "metadata": {
        "id": "389c5d75"
      },
      "source": [
        "In this section, you must implement a classic classification model for clinical, gene expressions, and reduced gene expressions datasets. Using Random Forest is suggested. (minimum acceptable accuracy = 60%)"
      ]
    },
    {
      "cell_type": "code",
      "execution_count": 123,
      "id": "34ec1dd7",
      "metadata": {
        "colab": {
          "base_uri": "https://localhost:8080/"
        },
        "id": "34ec1dd7",
        "outputId": "a3d27908-e6d9-4dc5-d5ad-1ec701bee93e"
      },
      "outputs": [
        {
          "name": "stdout",
          "output_type": "stream",
          "text": [
            "random forest on clinical dataset had accuracy of 0.7435\n",
            "random forest on gene_expr dataset had accuracy of 0.6230\n",
            "random forest on gene_expr_reduced dataset had accuracy of 0.6126\n",
            "svm on clinical dataset had accuracy of 0.7016\n",
            "svm on gene_expr dataset had accuracy of 0.6178\n",
            "svm on gene_expr_reduced dataset had accuracy of 0.5654\n"
          ]
        }
      ],
      "source": [
        "random_forst_models = {\n",
        "    'clinical': None,\n",
        "    'gene_expr': None,\n",
        "    'gene_expr_reduced': None\n",
        "}\n",
        "\n",
        "for ds_name in random_forst_models:\n",
        "    clf = RandomForestClassifier(random_state=SEED)\n",
        "    ds = dataset[ds_name]\n",
        "    clf.fit(ds['X_train'], ds['y_train'])\n",
        "    y_pred = clf.predict(ds['X_test'])\n",
        "    acc = accuracy_score(ds['y_test'], y_pred)\n",
        "    random_forst_models[ds_name] = {\n",
        "        'model': clf,\n",
        "        'accuracy': acc\n",
        "    }\n",
        "\n",
        "    print(f'random forest on {ds_name} dataset had accuracy of {acc:.4f}')\n",
        "\n",
        "svm_models = random_forst_models.copy()\n",
        "\n",
        "for ds_name in random_forst_models:\n",
        "    clf = SVC(random_state=SEED)\n",
        "    ds = dataset[ds_name]\n",
        "    clf.fit(ds['X_train'], ds['y_train'])\n",
        "    y_pred = clf.predict(ds['X_test'])\n",
        "    acc = accuracy_score(ds['y_test'], y_pred)\n",
        "    random_forst_models[ds_name] = {\n",
        "        'model': clf,\n",
        "        'accuracy': acc\n",
        "    }\n",
        "\n",
        "    print(f'svm on {ds_name} dataset had accuracy of {acc:.4f}')\n",
        "\n"
      ]
    },
    {
      "cell_type": "markdown",
      "id": "50146d67",
      "metadata": {
        "id": "50146d67"
      },
      "source": [
        "# Neural Network (30 Points)"
      ]
    },
    {
      "cell_type": "markdown",
      "id": "485c4047",
      "metadata": {
        "id": "485c4047"
      },
      "source": [
        "In this section, you must implement a neural network model for clinical, gene expressions and reduced gene expressions datasets. Using the MPL models is suggested. (minimum acceptable accuracy = 60%)"
      ]
    },
    {
      "cell_type": "code",
      "execution_count": 124,
      "id": "c74a41b9",
      "metadata": {
        "colab": {
          "base_uri": "https://localhost:8080/"
        },
        "id": "c74a41b9",
        "outputId": "7284b7ce-3ebe-4be2-8d4b-972c2697bdfb"
      },
      "outputs": [
        {
          "data": {
            "text/plain": [
              "device(type='cpu')"
            ]
          },
          "execution_count": 124,
          "metadata": {},
          "output_type": "execute_result"
        }
      ],
      "source": [
        "device = torch.device('cuda:0' if torch.cuda.is_available() else 'cpu')\n",
        "device"
      ]
    },
    {
      "cell_type": "code",
      "execution_count": 125,
      "id": "2ecdff3a",
      "metadata": {
        "id": "2ecdff3a"
      },
      "outputs": [],
      "source": [
        "class CancerDataset(Dataset):\n",
        "\n",
        "    def __init__(self, X, y) -> None:\n",
        "        super().__init__()\n",
        "        self.X = X\n",
        "        self.y = y\n",
        "\n",
        "    def __len__(self):\n",
        "        return len(self.X)\n",
        "    \n",
        "    def __getitem__(self, idx):\n",
        "        return self.X[idx].astype(np.float32), self.y[idx].astype(np.float32)\n"
      ]
    },
    {
      "cell_type": "code",
      "execution_count": 126,
      "id": "aaa2d935",
      "metadata": {
        "id": "aaa2d935"
      },
      "outputs": [],
      "source": [
        "dataloaders = {}\n",
        "batch_size = 64\n",
        "\n",
        "for ds_name, ds_split in dataset.items():\n",
        "    dataloaders[ds_name] = {}\n",
        "    X_train = ds_split['X_train']\n",
        "    X_val = ds_split['X_val']\n",
        "    X_test = ds_split['X_test']\n",
        "    y_train = ds_split['y_train']\n",
        "    y_val = ds_split['y_val']\n",
        "    y_test = ds_split['y_test']\n",
        "    \n",
        "    train_ds = CancerDataset(X_train, y_train)\n",
        "    val_ds = CancerDataset(X_val, y_val)\n",
        "    test_ds = CancerDataset(X_test, y_test)\n",
        "\n",
        "    train_dl = DataLoader(train_ds, batch_size=batch_size, shuffle=True)\n",
        "    val_dl = DataLoader(val_ds, batch_size=batch_size, shuffle=True)\n",
        "    test_dl = DataLoader(test_ds, batch_size=batch_size, shuffle=True)\n",
        "\n",
        "    dataloaders[ds_name]['train'] = train_dl\n",
        "    dataloaders[ds_name]['val'] = val_dl\n",
        "    dataloaders[ds_name]['test'] = test_dl"
      ]
    },
    {
      "cell_type": "code",
      "execution_count": 131,
      "id": "e40af097",
      "metadata": {},
      "outputs": [],
      "source": [
        "def update_confusion_matrix(confusion, out, labels):\n",
        "    out = out.astype(int)\n",
        "    labels = labels.astype(int)\n",
        "    for i in range(confusion.shape[0]):\n",
        "        for j in range(confusion.shape[1]):\n",
        "            confusion[i, j] += ((out == i) & (labels == j)).sum()\n",
        "    \n",
        "    return confusion"
      ]
    },
    {
      "cell_type": "code",
      "execution_count": 135,
      "id": "JbseSF_CQnR1",
      "metadata": {
        "id": "JbseSF_CQnR1"
      },
      "outputs": [],
      "source": [
        "def evaluate(model, dataloader):\n",
        "    model.eval()\n",
        "    total, correct = 0, 0\n",
        "    confusion = np.zeros((2, 2))\n",
        "    with torch.no_grad():\n",
        "        for _, (data, labels) in enumerate(dataloader):\n",
        "            data, labels = data.to(device), labels.to(device)\n",
        "\n",
        "            pred = model(data).squeeze()\n",
        "            out = torch.round(pred)\n",
        "            update_confusion_matrix(confusion, out.cpu().numpy(), labels.cpu().numpy())\n",
        "\n",
        "            correct = correct + (labels == out).sum().detach().cpu().numpy()\n",
        "            total = total + len(data)\n",
        "    \n",
        "    return correct / total, confusion"
      ]
    },
    {
      "cell_type": "code",
      "execution_count": 128,
      "id": "2992ff5a",
      "metadata": {
        "id": "2992ff5a"
      },
      "outputs": [],
      "source": [
        "def train(model, criterion, optimizer, train_dataloader, val_dataloader, num_epochs):\n",
        "    best_model = model\n",
        "    train_losses = []\n",
        "    val_losses = []\n",
        "    train_accs = []\n",
        "    val_accs = []\n",
        "    best_val_loss = np.inf\n",
        "\n",
        "    for epoch in range(num_epochs):\n",
        "        # train \n",
        "        model.train()\n",
        "        total, correct = 0, 0\n",
        "        train_loss = 0.0\n",
        "        with tqdm(enumerate(train_dataloader), total=len(train_dataloader)) as pbar:\n",
        "            for i, (data, labels) in pbar:\n",
        "                data, labels = data.to(device), labels.to(device)\n",
        "                optimizer.zero_grad()\n",
        "\n",
        "                pred = model(data).squeeze()\n",
        "                out = pred.detach().round()\n",
        "\n",
        "                total = total + len(data)\n",
        "                correct = correct + (labels == out).sum().detach().cpu().numpy()\n",
        "                \n",
        "                loss = criterion(pred, labels)\n",
        "                loss.backward()\n",
        "                optimizer.step()\n",
        "\n",
        "                train_loss = train_loss + loss.detach().cpu().numpy()\n",
        "                \n",
        "                pbar.set_description('Epoch {0}: train loss={1}, train accuracy={2}'.format(epoch, train_loss / total,\n",
        "                                                                                            correct / total))\n",
        "        \n",
        "        train_losses.append(train_loss)\n",
        "        train_accs.append((correct / total))\n",
        "        \n",
        "        # validation\n",
        "        model.eval()\n",
        "        total, correct = 0, 0\n",
        "        val_loss = 0.0\n",
        "        with torch.no_grad():\n",
        "            with tqdm(enumerate(val_dataloader), total=len(val_dataloader)) as pbar:\n",
        "                for i, (data, labels) in pbar:\n",
        "                    data, labels = data.to(device), labels.to(device)\n",
        "\n",
        "                    pred = model(data).squeeze()\n",
        "                    out = torch.round(pred)\n",
        "\n",
        "                    correct = correct + (labels == out).sum().detach().cpu().numpy()\n",
        "                    total = total + len(data)\n",
        "\n",
        "                    val_loss += criterion(pred, labels).detach().cpu().numpy()\n",
        "                    \n",
        "                    pbar.set_description('Epoch {0}: val loss={1}, val accuracy={2}'.format(epoch, val_loss / total,\n",
        "                                                                                                correct / total))\n",
        "        \n",
        "        val_loss = val_loss / total\n",
        "        if val_loss < best_val_loss:\n",
        "            print('New model saved, val loss {0} -> {1}'.format(best_val_loss, val_loss))\n",
        "            best_val_loss = val_loss\n",
        "            best_model = deepcopy(model)\n",
        "\n",
        "    return train_losses, val_losses, train_accs, val_accs, best_model"
      ]
    },
    {
      "cell_type": "code",
      "execution_count": 129,
      "id": "344e1754",
      "metadata": {
        "colab": {
          "base_uri": "https://localhost:8080/",
          "height": 1000
        },
        "id": "344e1754",
        "outputId": "26ba861a-ac7c-4d82-cb1c-6fb2436811cd"
      },
      "outputs": [
        {
          "name": "stderr",
          "output_type": "stream",
          "text": [
            "Epoch 0: train loss=0.004186856967145015, train accuracy=0.5139519792342635: 100%|██████████| 25/25 [00:00<00:00, 111.98it/s]\n",
            "Epoch 0: val loss=0.004254257869581843, val accuracy=0.5813953488372093: 100%|██████████| 3/3 [00:00<00:00, 330.89it/s]\n"
          ]
        },
        {
          "name": "stdout",
          "output_type": "stream",
          "text": [
            "New model saved, val loss inf -> 0.004254257869581843\n"
          ]
        },
        {
          "name": "stderr",
          "output_type": "stream",
          "text": [
            "Epoch 1: train loss=0.0037064810684174394, train accuracy=0.6417910447761194: 100%|██████████| 25/25 [00:00<00:00, 174.41it/s]\n",
            "Epoch 1: val loss=0.0037059890496176345, val accuracy=0.6918604651162791: 100%|██████████| 3/3 [00:00<00:00, 462.86it/s]\n"
          ]
        },
        {
          "name": "stdout",
          "output_type": "stream",
          "text": [
            "New model saved, val loss 0.004254257869581843 -> 0.0037059890496176345\n"
          ]
        },
        {
          "name": "stderr",
          "output_type": "stream",
          "text": [
            "Epoch 2: train loss=0.0034773017507648404, train accuracy=0.6904607397793641: 100%|██████████| 25/25 [00:00<00:00, 157.88it/s]\n",
            "Epoch 2: val loss=0.0034422749696775925, val accuracy=0.7441860465116279: 100%|██████████| 3/3 [00:00<00:00, 230.79it/s]\n"
          ]
        },
        {
          "name": "stdout",
          "output_type": "stream",
          "text": [
            "New model saved, val loss 0.0037059890496176345 -> 0.0034422749696775925\n"
          ]
        },
        {
          "name": "stderr",
          "output_type": "stream",
          "text": [
            "Epoch 3: train loss=0.00339070426651907, train accuracy=0.7047371836469825: 100%|██████████| 25/25 [00:00<00:00, 161.24it/s]  \n",
            "Epoch 3: val loss=0.003305201093817866, val accuracy=0.7732558139534884: 100%|██████████| 3/3 [00:00<00:00, 282.35it/s]\n"
          ]
        },
        {
          "name": "stdout",
          "output_type": "stream",
          "text": [
            "New model saved, val loss 0.0034422749696775925 -> 0.003305201093817866\n"
          ]
        },
        {
          "name": "stderr",
          "output_type": "stream",
          "text": [
            "Epoch 4: train loss=0.0032397705208241823, train accuracy=0.7177157689811811: 100%|██████████| 25/25 [00:00<00:00, 163.77it/s]\n",
            "Epoch 4: val loss=0.003174818272507468, val accuracy=0.7732558139534884: 100%|██████████| 3/3 [00:00<00:00, 483.62it/s]\n"
          ]
        },
        {
          "name": "stdout",
          "output_type": "stream",
          "text": [
            "New model saved, val loss 0.003305201093817866 -> 0.003174818272507468\n"
          ]
        },
        {
          "name": "stderr",
          "output_type": "stream",
          "text": [
            "Epoch 5: train loss=0.0032003552475817244, train accuracy=0.7287475665152499: 100%|██████████| 25/25 [00:00<00:00, 151.60it/s]\n",
            "Epoch 5: val loss=0.0030229011074055074, val accuracy=0.75: 100%|██████████| 3/3 [00:00<00:00, 258.25it/s]\n"
          ]
        },
        {
          "name": "stdout",
          "output_type": "stream",
          "text": [
            "New model saved, val loss 0.003174818272507468 -> 0.0030229011074055074\n"
          ]
        },
        {
          "name": "stderr",
          "output_type": "stream",
          "text": [
            "Epoch 6: train loss=0.003107124474201784, train accuracy=0.7391304347826086: 100%|██████████| 25/25 [00:00<00:00, 99.97it/s] \n",
            "Epoch 6: val loss=0.002880395411751991, val accuracy=0.7616279069767442: 100%|██████████| 3/3 [00:00<00:00, 227.06it/s]\n"
          ]
        },
        {
          "name": "stdout",
          "output_type": "stream",
          "text": [
            "New model saved, val loss 0.0030229011074055074 -> 0.002880395411751991\n"
          ]
        },
        {
          "name": "stderr",
          "output_type": "stream",
          "text": [
            "Epoch 7: train loss=0.0030752084883368686, train accuracy=0.7404282933160286: 100%|██████████| 25/25 [00:00<00:00, 100.65it/s]\n",
            "Epoch 7: val loss=0.0028898170174554336, val accuracy=0.7732558139534884: 100%|██████████| 3/3 [00:00<00:00, 229.59it/s]\n",
            "Epoch 8: train loss=0.002968142204358932, train accuracy=0.7488643737832577: 100%|██████████| 25/25 [00:00<00:00, 151.54it/s] \n",
            "Epoch 8: val loss=0.002813892568959746, val accuracy=0.7616279069767442: 100%|██████████| 3/3 [00:00<00:00, 306.66it/s]\n"
          ]
        },
        {
          "name": "stdout",
          "output_type": "stream",
          "text": [
            "New model saved, val loss 0.002880395411751991 -> 0.002813892568959746\n"
          ]
        },
        {
          "name": "stderr",
          "output_type": "stream",
          "text": [
            "Epoch 9: train loss=0.002925142462109684, train accuracy=0.7527579493835171: 100%|██████████| 25/25 [00:00<00:00, 154.50it/s] \n",
            "Epoch 9: val loss=0.0027268128686173017, val accuracy=0.7848837209302325: 100%|██████████| 3/3 [00:00<00:00, 252.00it/s]\n"
          ]
        },
        {
          "name": "stdout",
          "output_type": "stream",
          "text": [
            "New model saved, val loss 0.002813892568959746 -> 0.0027268128686173017\n"
          ]
        },
        {
          "name": "stderr",
          "output_type": "stream",
          "text": [
            "Epoch 10: train loss=0.0028837161026242335, train accuracy=0.7475665152498377: 100%|██████████| 25/25 [00:00<00:00, 159.21it/s]\n",
            "Epoch 10: val loss=0.002699995889913204, val accuracy=0.7848837209302325: 100%|██████████| 3/3 [00:00<00:00, 286.07it/s]\n"
          ]
        },
        {
          "name": "stdout",
          "output_type": "stream",
          "text": [
            "New model saved, val loss 0.0027268128686173017 -> 0.002699995889913204\n"
          ]
        },
        {
          "name": "stderr",
          "output_type": "stream",
          "text": [
            "Epoch 11: train loss=0.0028487961645021135, train accuracy=0.7560025957170668: 100%|██████████| 25/25 [00:00<00:00, 93.56it/s] \n",
            "Epoch 11: val loss=0.0027269654322502226, val accuracy=0.7906976744186046: 100%|██████████| 3/3 [00:00<00:00, 198.50it/s]\n",
            "Epoch 12: train loss=0.0028345436824752787, train accuracy=0.7560025957170668: 100%|██████████| 25/25 [00:00<00:00, 158.25it/s]\n",
            "Epoch 12: val loss=0.0027188251531401345, val accuracy=0.7965116279069767: 100%|██████████| 3/3 [00:00<00:00, 252.27it/s]\n",
            "Epoch 13: train loss=0.002853294110468345, train accuracy=0.7592472420506164: 100%|██████████| 25/25 [00:00<00:00, 134.94it/s] \n",
            "Epoch 13: val loss=0.0026331491075282875, val accuracy=0.813953488372093: 100%|██████████| 3/3 [00:00<00:00, 273.39it/s]\n"
          ]
        },
        {
          "name": "stdout",
          "output_type": "stream",
          "text": [
            "New model saved, val loss 0.002699995889913204 -> 0.0026331491075282875\n"
          ]
        },
        {
          "name": "stderr",
          "output_type": "stream",
          "text": [
            "Epoch 14: train loss=0.0027483349096689962, train accuracy=0.7560025957170668: 100%|██████████| 25/25 [00:00<00:00, 157.11it/s]\n",
            "Epoch 14: val loss=0.0027068248668382336, val accuracy=0.8023255813953488: 100%|██████████| 3/3 [00:00<00:00, 74.29it/s]\n",
            "Epoch 15: train loss=0.0027736915997063315, train accuracy=0.7611940298507462: 100%|██████████| 25/25 [00:00<00:00, 120.78it/s]\n",
            "Epoch 15: val loss=0.00258590194375016, val accuracy=0.8023255813953488: 100%|██████████| 3/3 [00:00<00:00, 200.50it/s]\n"
          ]
        },
        {
          "name": "stdout",
          "output_type": "stream",
          "text": [
            "New model saved, val loss 0.0026331491075282875 -> 0.00258590194375016\n"
          ]
        },
        {
          "name": "stderr",
          "output_type": "stream",
          "text": [
            "Epoch 16: train loss=0.0027997727269556986, train accuracy=0.7566515249837767: 100%|██████████| 25/25 [00:00<00:00, 155.47it/s]\n",
            "Epoch 16: val loss=0.0025719812702994014, val accuracy=0.8081395348837209: 100%|██████████| 3/3 [00:00<00:00, 289.62it/s]\n"
          ]
        },
        {
          "name": "stdout",
          "output_type": "stream",
          "text": [
            "New model saved, val loss 0.00258590194375016 -> 0.0025719812702994014\n"
          ]
        },
        {
          "name": "stderr",
          "output_type": "stream",
          "text": [
            "Epoch 17: train loss=0.0027526871414249553, train accuracy=0.7598961713173265: 100%|██████████| 25/25 [00:00<00:00, 81.97it/s] \n",
            "Epoch 17: val loss=0.002607990489449612, val accuracy=0.7965116279069767: 100%|██████████| 3/3 [00:00<00:00, 237.59it/s]\n",
            "Epoch 18: train loss=0.0027753340780232185, train accuracy=0.7637897469175859: 100%|██████████| 25/25 [00:00<00:00, 119.93it/s]\n",
            "Epoch 18: val loss=0.002621636401082194, val accuracy=0.7848837209302325: 100%|██████████| 3/3 [00:00<00:00, 326.44it/s]\n",
            "Epoch 19: train loss=0.0027289823529242233, train accuracy=0.7624918883841661: 100%|██████████| 25/25 [00:00<00:00, 136.58it/s]\n",
            "Epoch 19: val loss=0.002621595249619595, val accuracy=0.7965116279069767: 100%|██████████| 3/3 [00:00<00:00, 308.96it/s]\n",
            "Epoch 20: train loss=0.0028638460762233104, train accuracy=0.7696301103179753: 100%|██████████| 25/25 [00:00<00:00, 58.52it/s]\n",
            "Epoch 20: val loss=0.002595704048871994, val accuracy=0.7906976744186046: 100%|██████████| 3/3 [00:00<00:00, 457.61it/s]\n",
            "Epoch 21: train loss=0.002707715857578206, train accuracy=0.7637897469175859: 100%|██████████| 25/25 [00:00<00:00, 119.75it/s]\n",
            "Epoch 21: val loss=0.002631618533023568, val accuracy=0.7906976744186046: 100%|██████████| 3/3 [00:00<00:00, 216.21it/s]\n",
            "Epoch 22: train loss=0.002763423853536305, train accuracy=0.7598961713173265: 100%|██████████| 25/25 [00:00<00:00, 68.06it/s] \n",
            "Epoch 22: val loss=0.002551177646531615, val accuracy=0.8023255813953488: 100%|██████████| 3/3 [00:00<00:00, 393.76it/s]\n"
          ]
        },
        {
          "name": "stdout",
          "output_type": "stream",
          "text": [
            "New model saved, val loss 0.0025719812702994014 -> 0.002551177646531615\n"
          ]
        },
        {
          "name": "stderr",
          "output_type": "stream",
          "text": [
            "Epoch 23: train loss=0.0027141138611483464, train accuracy=0.7573004542504866: 100%|██████████| 25/25 [00:00<00:00, 144.77it/s]\n",
            "Epoch 23: val loss=0.002567628528489623, val accuracy=0.8023255813953488: 100%|██████████| 3/3 [00:00<00:00, 286.79it/s]\n",
            "Epoch 24: train loss=0.0027447439764011687, train accuracy=0.7573004542504866: 100%|██████████| 25/25 [00:00<00:00, 124.23it/s]\n",
            "Epoch 24: val loss=0.0025692005143609156, val accuracy=0.813953488372093: 100%|██████████| 3/3 [00:00<00:00, 246.01it/s]\n",
            "Epoch 25: train loss=0.00272359846475293, train accuracy=0.763140817650876: 100%|██████████| 25/25 [00:00<00:00, 113.24it/s]   \n",
            "Epoch 25: val loss=0.0025356145099151967, val accuracy=0.8081395348837209: 100%|██████████| 3/3 [00:00<00:00, 424.02it/s]\n"
          ]
        },
        {
          "name": "stdout",
          "output_type": "stream",
          "text": [
            "New model saved, val loss 0.002551177646531615 -> 0.0025356145099151967\n"
          ]
        },
        {
          "name": "stderr",
          "output_type": "stream",
          "text": [
            "Epoch 26: train loss=0.0026885297470940622, train accuracy=0.7637897469175859: 100%|██████████| 25/25 [00:00<00:00, 148.75it/s]\n",
            "Epoch 26: val loss=0.002571676446254863, val accuracy=0.8081395348837209: 100%|██████████| 3/3 [00:00<00:00, 291.68it/s]\n",
            "Epoch 27: train loss=0.002727919656452152, train accuracy=0.7657365347177157: 100%|██████████| 25/25 [00:00<00:00, 57.29it/s] \n",
            "Epoch 27: val loss=0.0024787207935438598, val accuracy=0.7906976744186046: 100%|██████████| 3/3 [00:00<00:00, 50.99it/s]\n"
          ]
        },
        {
          "name": "stdout",
          "output_type": "stream",
          "text": [
            "New model saved, val loss 0.0025356145099151967 -> 0.0024787207935438598\n"
          ]
        },
        {
          "name": "stderr",
          "output_type": "stream",
          "text": [
            "Epoch 28: train loss=0.002778125541268967, train accuracy=0.7585983127839065: 100%|██████████| 25/25 [00:00<00:00, 57.87it/s] \n",
            "Epoch 28: val loss=0.002591439544461494, val accuracy=0.813953488372093: 100%|██████████| 3/3 [00:00<00:00, 323.79it/s]\n",
            "Epoch 29: train loss=0.002743010606802879, train accuracy=0.7689811810512654: 100%|██████████| 25/25 [00:00<00:00, 161.53it/s] \n",
            "Epoch 29: val loss=0.002566968892202821, val accuracy=0.8023255813953488: 100%|██████████| 3/3 [00:00<00:00, 212.53it/s]\n",
            "Epoch 30: train loss=0.0026513175007818893, train accuracy=0.7696301103179753: 100%|██████████| 25/25 [00:00<00:00, 127.39it/s]\n",
            "Epoch 30: val loss=0.002582995091066804, val accuracy=0.813953488372093: 100%|██████████| 3/3 [00:00<00:00, 271.15it/s]\n",
            "Epoch 31: train loss=0.0027099148376973554, train accuracy=0.7709279688513953: 100%|██████████| 25/25 [00:00<00:00, 98.37it/s] \n",
            "Epoch 31: val loss=0.002633061000080996, val accuracy=0.7965116279069767: 100%|██████████| 3/3 [00:00<00:00, 218.25it/s]\n",
            "Epoch 32: train loss=0.002782637817878216, train accuracy=0.7761194029850746: 100%|██████████| 25/25 [00:00<00:00, 146.59it/s] \n",
            "Epoch 32: val loss=0.0024704339719095894, val accuracy=0.7965116279069767: 100%|██████████| 3/3 [00:00<00:00, 443.25it/s]\n"
          ]
        },
        {
          "name": "stdout",
          "output_type": "stream",
          "text": [
            "New model saved, val loss 0.0024787207935438598 -> 0.0024704339719095894\n"
          ]
        },
        {
          "name": "stderr",
          "output_type": "stream",
          "text": [
            "Epoch 33: train loss=0.002705953555939493, train accuracy=0.7767683322517845: 100%|██████████| 25/25 [00:00<00:00, 146.61it/s] \n",
            "Epoch 33: val loss=0.0025094675636568734, val accuracy=0.813953488372093: 100%|██████████| 3/3 [00:00<00:00, 284.33it/s]\n",
            "Epoch 34: train loss=0.0027064185040790796, train accuracy=0.7761194029850746: 100%|██████████| 25/25 [00:00<00:00, 123.85it/s]\n",
            "Epoch 34: val loss=0.0024982565190902976, val accuracy=0.8081395348837209: 100%|██████████| 3/3 [00:00<00:00, 317.57it/s]\n",
            "Epoch 35: train loss=0.0027804336209021783, train accuracy=0.7702790395846852: 100%|██████████| 25/25 [00:00<00:00, 148.05it/s]\n",
            "Epoch 35: val loss=0.00249504410596781, val accuracy=0.813953488372093: 100%|██████████| 3/3 [00:00<00:00, 299.94it/s]\n",
            "Epoch 36: train loss=0.0026349667641035078, train accuracy=0.773523685918235: 100%|██████████| 25/25 [00:00<00:00, 166.31it/s] \n",
            "Epoch 36: val loss=0.0025194613046424334, val accuracy=0.8081395348837209: 100%|██████████| 3/3 [00:00<00:00, 359.47it/s]\n",
            "Epoch 37: train loss=0.0025920738054513157, train accuracy=0.7696301103179753: 100%|██████████| 25/25 [00:00<00:00, 108.33it/s]\n",
            "Epoch 37: val loss=0.002500262371329374, val accuracy=0.7965116279069767: 100%|██████████| 3/3 [00:00<00:00, 275.45it/s]\n",
            "Epoch 38: train loss=0.0026632624205097915, train accuracy=0.7780661907852044: 100%|██████████| 25/25 [00:00<00:00, 123.03it/s]\n",
            "Epoch 38: val loss=0.0025618681034376453, val accuracy=0.813953488372093: 100%|██████████| 3/3 [00:00<00:00, 196.22it/s]\n",
            "Epoch 39: train loss=0.002638009192493347, train accuracy=0.7774172615184944: 100%|██████████| 25/25 [00:00<00:00, 59.59it/s] \n",
            "Epoch 39: val loss=0.002555862329033918, val accuracy=0.8023255813953488: 100%|██████████| 3/3 [00:00<00:00, 231.32it/s]\n",
            "Epoch 40: train loss=0.0025585942057376556, train accuracy=0.7754704737183648: 100%|██████████| 25/25 [00:00<00:00, 101.48it/s]\n",
            "Epoch 40: val loss=0.002486631360857986, val accuracy=0.8023255813953488: 100%|██████████| 3/3 [00:00<00:00, 101.80it/s]\n",
            "Epoch 41: train loss=0.002542707672624291, train accuracy=0.7819597663854639: 100%|██████████| 25/25 [00:00<00:00, 110.51it/s] \n",
            "Epoch 41: val loss=0.0025168307298837705, val accuracy=0.8081395348837209: 100%|██████████| 3/3 [00:00<00:00, 311.67it/s]\n",
            "Epoch 42: train loss=0.0025723205757249416, train accuracy=0.781310837118754: 100%|██████████| 25/25 [00:00<00:00, 91.85it/s]  \n",
            "Epoch 42: val loss=0.0025134067549261938, val accuracy=0.7906976744186046: 100%|██████████| 3/3 [00:00<00:00, 374.11it/s]\n",
            "Epoch 43: train loss=0.0025801176590860703, train accuracy=0.7852044127190136: 100%|██████████| 25/25 [00:00<00:00, 153.08it/s]\n",
            "Epoch 43: val loss=0.0024413902225882507, val accuracy=0.813953488372093: 100%|██████████| 3/3 [00:00<00:00, 392.77it/s]\n"
          ]
        },
        {
          "name": "stdout",
          "output_type": "stream",
          "text": [
            "New model saved, val loss 0.0024704339719095894 -> 0.0024413902225882507\n"
          ]
        },
        {
          "name": "stderr",
          "output_type": "stream",
          "text": [
            "Epoch 44: train loss=0.002553776549604479, train accuracy=0.7845554834523037: 100%|██████████| 25/25 [00:00<00:00, 140.28it/s] \n",
            "Epoch 44: val loss=0.0024957124057204223, val accuracy=0.8023255813953488: 100%|██████████| 3/3 [00:00<00:00, 394.31it/s]\n",
            "Epoch 45: train loss=0.0025639732324171964, train accuracy=0.7839065541855937: 100%|██████████| 25/25 [00:00<00:00, 120.48it/s]\n",
            "Epoch 45: val loss=0.002545339077018028, val accuracy=0.7848837209302325: 100%|██████████| 3/3 [00:00<00:00, 284.17it/s]\n",
            "Epoch 46: train loss=0.0026636458474037943, train accuracy=0.773523685918235: 100%|██████████| 25/25 [00:00<00:00, 160.45it/s] \n",
            "Epoch 46: val loss=0.002561615520091944, val accuracy=0.8081395348837209: 100%|██████████| 3/3 [00:00<00:00, 470.81it/s]\n",
            "Epoch 47: train loss=0.002569158773658958, train accuracy=0.781310837118754: 100%|██████████| 25/25 [00:00<00:00, 146.06it/s]  \n",
            "Epoch 47: val loss=0.002548666107793187, val accuracy=0.7906976744186046: 100%|██████████| 3/3 [00:00<00:00, 252.11it/s]\n",
            "Epoch 48: train loss=0.0025412551647730265, train accuracy=0.782608695652174: 100%|██████████| 25/25 [00:00<00:00, 81.34it/s] \n",
            "Epoch 48: val loss=0.0024544478848923085, val accuracy=0.8197674418604651: 100%|██████████| 3/3 [00:00<00:00, 243.27it/s]\n",
            "Epoch 49: train loss=0.0025885176061036757, train accuracy=0.7845554834523037: 100%|██████████| 25/25 [00:00<00:00, 156.78it/s]\n",
            "Epoch 49: val loss=0.0025091714030781457, val accuracy=0.813953488372093: 100%|██████████| 3/3 [00:00<00:00, 209.03it/s]\n",
            "Epoch 50: train loss=0.002615641065227142, train accuracy=0.7774172615184944: 100%|██████████| 25/25 [00:00<00:00, 116.93it/s] \n",
            "Epoch 50: val loss=0.0024838727400746455, val accuracy=0.7848837209302325: 100%|██████████| 3/3 [00:00<00:00, 192.90it/s]\n",
            "Epoch 51: train loss=0.0026187579172296544, train accuracy=0.7845554834523037: 100%|██████████| 25/25 [00:00<00:00, 139.84it/s]\n",
            "Epoch 51: val loss=0.0025090834255828416, val accuracy=0.8081395348837209: 100%|██████████| 3/3 [00:00<00:00, 275.91it/s]\n",
            "Epoch 52: train loss=0.002488914376764155, train accuracy=0.7839065541855937: 100%|██████████| 25/25 [00:00<00:00, 133.20it/s] \n",
            "Epoch 52: val loss=0.0024375495349251946, val accuracy=0.8255813953488372: 100%|██████████| 3/3 [00:00<00:00, 278.68it/s]\n"
          ]
        },
        {
          "name": "stdout",
          "output_type": "stream",
          "text": [
            "New model saved, val loss 0.0024413902225882507 -> 0.0024375495349251946\n"
          ]
        },
        {
          "name": "stderr",
          "output_type": "stream",
          "text": [
            "Epoch 53: train loss=0.002527007517645995, train accuracy=0.7878001297858533: 100%|██████████| 25/25 [00:00<00:00, 98.27it/s]  \n",
            "Epoch 53: val loss=0.0025431051590414934, val accuracy=0.7906976744186046: 100%|██████████| 3/3 [00:00<00:00, 287.58it/s]\n",
            "Epoch 54: train loss=0.002466244919202608, train accuracy=0.790395846852693: 100%|██████████| 25/25 [00:00<00:00, 152.54it/s]  \n",
            "Epoch 54: val loss=0.0024659238582433658, val accuracy=0.8081395348837209: 100%|██████████| 3/3 [00:00<00:00, 265.01it/s]\n",
            "Epoch 55: train loss=0.0024856997244084213, train accuracy=0.7878001297858533: 100%|██████████| 25/25 [00:00<00:00, 87.96it/s] \n",
            "Epoch 55: val loss=0.0025571531854396644, val accuracy=0.7906976744186046: 100%|██████████| 3/3 [00:00<00:00, 196.14it/s]\n",
            "Epoch 56: train loss=0.0024873081021769953, train accuracy=0.7929915639195327: 100%|██████████| 25/25 [00:00<00:00, 63.59it/s] \n",
            "Epoch 56: val loss=0.0025105114679696947, val accuracy=0.8081395348837209: 100%|██████████| 3/3 [00:00<00:00, 225.65it/s]\n",
            "Epoch 57: train loss=0.002538553596819321, train accuracy=0.7897469175859831: 100%|██████████| 25/25 [00:00<00:00, 113.66it/s] \n",
            "Epoch 57: val loss=0.0024352878505407376, val accuracy=0.7965116279069767: 100%|██████████| 3/3 [00:00<00:00, 258.51it/s]\n"
          ]
        },
        {
          "name": "stdout",
          "output_type": "stream",
          "text": [
            "New model saved, val loss 0.0024375495349251946 -> 0.0024352878505407376\n"
          ]
        },
        {
          "name": "stderr",
          "output_type": "stream",
          "text": [
            "Epoch 58: train loss=0.0024898837016512246, train accuracy=0.7936404931862427: 100%|██████████| 25/25 [00:00<00:00, 87.01it/s]\n",
            "Epoch 58: val loss=0.0024536581233490346, val accuracy=0.8255813953488372: 100%|██████████| 3/3 [00:00<00:00, 85.21it/s]\n",
            "Epoch 59: train loss=0.002464997858331236, train accuracy=0.7975340687865022: 100%|██████████| 25/25 [00:00<00:00, 133.30it/s] \n",
            "Epoch 59: val loss=0.002485594430635142, val accuracy=0.8081395348837209: 100%|██████████| 3/3 [00:00<00:00, 178.44it/s]\n",
            "Epoch 60: train loss=0.002537155213253905, train accuracy=0.7890979883192732: 100%|██████████| 25/25 [00:00<00:00, 158.84it/s] \n",
            "Epoch 60: val loss=0.002505567271349042, val accuracy=0.7965116279069767: 100%|██████████| 3/3 [00:00<00:00, 416.98it/s]\n",
            "Epoch 61: train loss=0.0024299004697165344, train accuracy=0.7923426346528228: 100%|██████████| 25/25 [00:00<00:00, 80.59it/s] \n",
            "Epoch 61: val loss=0.0025215204805135727, val accuracy=0.8023255813953488: 100%|██████████| 3/3 [00:00<00:00, 169.75it/s]\n",
            "Epoch 62: train loss=0.0025175153425883194, train accuracy=0.790395846852693: 100%|██████████| 25/25 [00:00<00:00, 106.26it/s]\n",
            "Epoch 62: val loss=0.0023583397269248962, val accuracy=0.8197674418604651: 100%|██████████| 3/3 [00:00<00:00, 250.46it/s]\n"
          ]
        },
        {
          "name": "stdout",
          "output_type": "stream",
          "text": [
            "New model saved, val loss 0.0024352878505407376 -> 0.0023583397269248962\n"
          ]
        },
        {
          "name": "stderr",
          "output_type": "stream",
          "text": [
            "Epoch 63: train loss=0.0024349105862887317, train accuracy=0.7878001297858533: 100%|██████████| 25/25 [00:00<00:00, 127.60it/s]\n",
            "Epoch 63: val loss=0.0024348319789697956, val accuracy=0.8081395348837209: 100%|██████████| 3/3 [00:00<00:00, 203.21it/s]\n",
            "Epoch 64: train loss=0.00239130373050608, train accuracy=0.8007787151200519: 100%|██████████| 25/25 [00:00<00:00, 69.89it/s]   \n",
            "Epoch 64: val loss=0.0024810721881167834, val accuracy=0.8081395348837209: 100%|██████████| 3/3 [00:00<00:00, 29.53it/s]\n",
            "Epoch 65: train loss=0.002494299038519417, train accuracy=0.7942894224529526: 100%|██████████| 25/25 [00:00<00:00, 68.78it/s] \n",
            "Epoch 65: val loss=0.0024740725409152895, val accuracy=0.7965116279069767: 100%|██████████| 3/3 [00:00<00:00, 241.40it/s]\n",
            "Epoch 66: train loss=0.002478877753309427, train accuracy=0.8066190785204412: 100%|██████████| 25/25 [00:00<00:00, 98.15it/s] \n",
            "Epoch 66: val loss=0.00251761338738508, val accuracy=0.813953488372093: 100%|██████████| 3/3 [00:00<00:00, 225.75it/s]\n",
            "Epoch 67: train loss=0.002351168395635913, train accuracy=0.8046722907203114: 100%|██████████| 25/25 [00:00<00:00, 93.92it/s] \n",
            "Epoch 67: val loss=0.0024243662956842157, val accuracy=0.8197674418604651: 100%|██████████| 3/3 [00:00<00:00, 313.41it/s]\n",
            "Epoch 68: train loss=0.002322463136188091, train accuracy=0.8040233614536015: 100%|██████████| 25/25 [00:00<00:00, 152.85it/s] \n",
            "Epoch 68: val loss=0.002430614170640014, val accuracy=0.8081395348837209: 100%|██████████| 3/3 [00:00<00:00, 219.32it/s]\n",
            "Epoch 69: train loss=0.002424051193429772, train accuracy=0.8059701492537313: 100%|██████████| 25/25 [00:00<00:00, 123.33it/s] \n",
            "Epoch 69: val loss=0.0024136993600878606, val accuracy=0.7906976744186046: 100%|██████████| 3/3 [00:00<00:00, 441.26it/s]\n",
            "Epoch 70: train loss=0.0024180943116129876, train accuracy=0.8033744321868916: 100%|██████████| 25/25 [00:00<00:00, 72.05it/s]\n",
            "Epoch 70: val loss=0.0024995355931825415, val accuracy=0.7965116279069767: 100%|██████████| 3/3 [00:00<00:00, 182.04it/s]\n",
            "Epoch 71: train loss=0.0023590296671268307, train accuracy=0.8059701492537313: 100%|██████████| 25/25 [00:00<00:00, 72.04it/s]\n",
            "Epoch 71: val loss=0.0025476563375356584, val accuracy=0.8081395348837209: 100%|██████████| 3/3 [00:00<00:00, 283.13it/s]\n",
            "Epoch 72: train loss=0.0023348693101921305, train accuracy=0.8066190785204412: 100%|██████████| 25/25 [00:00<00:00, 167.98it/s]\n",
            "Epoch 72: val loss=0.0024599555966465974, val accuracy=0.8023255813953488: 100%|██████████| 3/3 [00:00<00:00, 475.22it/s]\n",
            "Epoch 73: train loss=0.0022895334410559117, train accuracy=0.8046722907203114: 100%|██████████| 25/25 [00:00<00:00, 97.67it/s]\n",
            "Epoch 73: val loss=0.002490273178663365, val accuracy=0.8081395348837209: 100%|██████████| 3/3 [00:00<00:00, 259.54it/s]\n",
            "Epoch 74: train loss=0.002317674385503389, train accuracy=0.8137573004542504: 100%|██████████| 25/25 [00:00<00:00, 129.03it/s] \n",
            "Epoch 74: val loss=0.0023802923861631128, val accuracy=0.8023255813953488: 100%|██████████| 3/3 [00:00<00:00, 70.02it/s]\n",
            "Epoch 75: train loss=0.002393543628382265, train accuracy=0.8189487345879299: 100%|██████████| 25/25 [00:00<00:00, 122.89it/s] \n",
            "Epoch 75: val loss=0.0024902264392653176, val accuracy=0.8081395348837209: 100%|██████████| 3/3 [00:00<00:00, 298.11it/s]\n",
            "Epoch 76: train loss=0.0023210805143960337, train accuracy=0.8124594419208306: 100%|██████████| 25/25 [00:00<00:00, 120.92it/s]\n",
            "Epoch 76: val loss=0.0024828387987475063, val accuracy=0.8023255813953488: 100%|██████████| 3/3 [00:00<00:00, 178.29it/s]\n",
            "Epoch 77: train loss=0.00221411003154025, train accuracy=0.8170019467878001: 100%|██████████| 25/25 [00:00<00:00, 127.68it/s]  \n",
            "Epoch 77: val loss=0.002382849797953007, val accuracy=0.7906976744186046: 100%|██████████| 3/3 [00:00<00:00, 255.02it/s]\n",
            "Epoch 78: train loss=0.0022569843975852482, train accuracy=0.8137573004542504: 100%|██████████| 25/25 [00:00<00:00, 77.70it/s]\n",
            "Epoch 78: val loss=0.002394769080849581, val accuracy=0.7965116279069767: 100%|██████████| 3/3 [00:00<00:00, 337.42it/s]\n",
            "Epoch 79: train loss=0.0022892726707350194, train accuracy=0.8157040882543802: 100%|██████████| 25/25 [00:00<00:00, 120.27it/s]\n",
            "Epoch 79: val loss=0.0024170195467250292, val accuracy=0.8023255813953488: 100%|██████████| 3/3 [00:00<00:00, 423.30it/s]\n",
            "Epoch 80: train loss=0.002222198811658863, train accuracy=0.8208955223880597: 100%|██████████| 25/25 [00:00<00:00, 112.60it/s] \n",
            "Epoch 80: val loss=0.0023702673267486482, val accuracy=0.7965116279069767: 100%|██████████| 3/3 [00:00<00:00, 244.55it/s]\n",
            "Epoch 81: train loss=0.002313494401887823, train accuracy=0.8066190785204412: 100%|██████████| 25/25 [00:00<00:00, 42.73it/s] \n",
            "Epoch 81: val loss=0.0024248771369457245, val accuracy=0.7965116279069767: 100%|██████████| 3/3 [00:00<00:00, 142.00it/s]\n",
            "Epoch 82: train loss=0.002321154377160329, train accuracy=0.8241401687216093: 100%|██████████| 25/25 [00:01<00:00, 18.87it/s] \n",
            "Epoch 82: val loss=0.0024749927742536678, val accuracy=0.7732558139534884: 100%|██████████| 3/3 [00:00<00:00, 157.13it/s]\n",
            "Epoch 83: train loss=0.002353433149731987, train accuracy=0.8150551589876703: 100%|██████████| 25/25 [00:00<00:00, 25.62it/s] \n",
            "Epoch 83: val loss=0.0024248254160548367, val accuracy=0.7906976744186046: 100%|██████████| 3/3 [00:00<00:00, 199.84it/s]\n",
            "Epoch 84: train loss=0.0023995173308154656, train accuracy=0.8215444516547696: 100%|██████████| 25/25 [00:00<00:00, 68.08it/s] \n",
            "Epoch 84: val loss=0.0024057419667410295, val accuracy=0.7790697674418605: 100%|██████████| 3/3 [00:00<00:00, 196.22it/s]\n",
            "Epoch 85: train loss=0.002236081776798429, train accuracy=0.8157040882543802: 100%|██████████| 25/25 [00:00<00:00, 41.21it/s]\n",
            "Epoch 85: val loss=0.0023703434786131214, val accuracy=0.7906976744186046: 100%|██████████| 3/3 [00:00<00:00, 246.48it/s]\n",
            "Epoch 86: train loss=0.0022795953335195763, train accuracy=0.8157040882543802: 100%|██████████| 25/25 [00:00<00:00, 76.04it/s]\n",
            "Epoch 86: val loss=0.0024565571789131606, val accuracy=0.7965116279069767: 100%|██████████| 3/3 [00:00<00:00, 244.94it/s]\n",
            "Epoch 87: train loss=0.0022580848256153847, train accuracy=0.8254380272550292: 100%|██████████| 25/25 [00:00<00:00, 70.52it/s] \n",
            "Epoch 87: val loss=0.0025592072931833044, val accuracy=0.7965116279069767: 100%|██████████| 3/3 [00:00<00:00, 361.23it/s]\n",
            "Epoch 88: train loss=0.002386376783880299, train accuracy=0.8228423101881895: 100%|██████████| 25/25 [00:00<00:00, 109.41it/s] \n",
            "Epoch 88: val loss=0.002456057513522547, val accuracy=0.8023255813953488: 100%|██████████| 3/3 [00:00<00:00, 226.06it/s]\n",
            "Epoch 89: train loss=0.002473081080732525, train accuracy=0.8299805321219987: 100%|██████████| 25/25 [00:00<00:00, 120.79it/s] \n",
            "Epoch 89: val loss=0.0024119819146256115, val accuracy=0.7965116279069767: 100%|██████████| 3/3 [00:00<00:00, 221.35it/s]\n",
            "Epoch 90: train loss=0.0022070176130684067, train accuracy=0.8293316028552887: 100%|██████████| 25/25 [00:00<00:00, 52.43it/s]\n",
            "Epoch 90: val loss=0.0023777274371579635, val accuracy=0.8081395348837209: 100%|██████████| 3/3 [00:00<00:00, 166.86it/s]\n",
            "Epoch 91: train loss=0.0023596547954969015, train accuracy=0.8215444516547696: 100%|██████████| 25/25 [00:00<00:00, 59.37it/s]\n",
            "Epoch 91: val loss=0.0024148157342921855, val accuracy=0.813953488372093: 100%|██████████| 3/3 [00:00<00:00, 63.99it/s]\n",
            "Epoch 92: train loss=0.002177895222640053, train accuracy=0.8312783906554185: 100%|██████████| 25/25 [00:00<00:00, 89.44it/s] \n",
            "Epoch 92: val loss=0.00247564327058404, val accuracy=0.8023255813953488: 100%|██████████| 3/3 [00:00<00:00, 83.99it/s]\n",
            "Epoch 93: train loss=0.002216599915493316, train accuracy=0.827384815055159: 100%|██████████| 25/25 [00:00<00:00, 64.09it/s]  \n",
            "Epoch 93: val loss=0.002447987798341485, val accuracy=0.8023255813953488: 100%|██████████| 3/3 [00:00<00:00, 155.33it/s]\n",
            "Epoch 94: train loss=0.0022099088783158953, train accuracy=0.8351719662556781: 100%|██████████| 25/25 [00:00<00:00, 103.07it/s]\n",
            "Epoch 94: val loss=0.0024183480025723922, val accuracy=0.7848837209302325: 100%|██████████| 3/3 [00:00<00:00, 257.64it/s]\n",
            "Epoch 95: train loss=0.002098003376969109, train accuracy=0.8397144711226476: 100%|██████████| 25/25 [00:00<00:00, 78.11it/s]  \n",
            "Epoch 95: val loss=0.0024279420112454614, val accuracy=0.8023255813953488: 100%|██████████| 3/3 [00:00<00:00, 114.93it/s]\n",
            "Epoch 96: train loss=0.0020451318740960763, train accuracy=0.8332251784555483: 100%|██████████| 25/25 [00:00<00:00, 76.66it/s]\n",
            "Epoch 96: val loss=0.002415652884993442, val accuracy=0.7906976744186046: 100%|██████████| 3/3 [00:00<00:00, 327.03it/s]\n",
            "Epoch 97: train loss=0.002265197224310665, train accuracy=0.8215444516547696: 100%|██████████| 25/25 [00:00<00:00, 128.40it/s] \n",
            "Epoch 97: val loss=0.0023563850757687592, val accuracy=0.7848837209302325: 100%|██████████| 3/3 [00:00<00:00, 165.80it/s]\n"
          ]
        },
        {
          "name": "stdout",
          "output_type": "stream",
          "text": [
            "New model saved, val loss 0.0023583397269248962 -> 0.0023563850757687592\n"
          ]
        },
        {
          "name": "stderr",
          "output_type": "stream",
          "text": [
            "Epoch 98: train loss=0.002102307559490823, train accuracy=0.827384815055159: 100%|██████████| 25/25 [00:00<00:00, 66.00it/s]  \n",
            "Epoch 98: val loss=0.0024699706497580505, val accuracy=0.8081395348837209: 100%|██████████| 3/3 [00:00<00:00, 150.80it/s]\n",
            "Epoch 99: train loss=0.0021578678444250307, train accuracy=0.827384815055159: 100%|██████████| 25/25 [00:00<00:00, 98.17it/s]  \n",
            "Epoch 99: val loss=0.00243384858896566, val accuracy=0.7848837209302325: 100%|██████████| 3/3 [00:00<00:00, 164.95it/s]\n",
            "Epoch 0: train loss=0.003996477401310712, train accuracy=0.5489941596365996: 100%|██████████| 25/25 [00:00<00:00, 55.92it/s] \n",
            "Epoch 0: val loss=0.0041145587903122565, val accuracy=0.5930232558139535: 100%|██████████| 3/3 [00:00<00:00, 150.41it/s]\n"
          ]
        },
        {
          "name": "stdout",
          "output_type": "stream",
          "text": [
            "New model saved, val loss inf -> 0.0041145587903122565\n"
          ]
        },
        {
          "name": "stderr",
          "output_type": "stream",
          "text": [
            "Epoch 1: train loss=0.0035792337772832298, train accuracy=0.6391953277092797: 100%|██████████| 25/25 [00:00<00:00, 55.16it/s]\n",
            "Epoch 1: val loss=0.004024430936159089, val accuracy=0.5930232558139535: 100%|██████████| 3/3 [00:00<00:00, 241.78it/s]\n"
          ]
        },
        {
          "name": "stdout",
          "output_type": "stream",
          "text": [
            "New model saved, val loss 0.0041145587903122565 -> 0.004024430936159089\n"
          ]
        },
        {
          "name": "stderr",
          "output_type": "stream",
          "text": [
            "Epoch 2: train loss=0.003438333367311204, train accuracy=0.6664503569110967: 100%|██████████| 25/25 [00:00<00:00, 86.07it/s]  \n",
            "Epoch 2: val loss=0.004020379119834235, val accuracy=0.622093023255814: 100%|██████████| 3/3 [00:00<00:00, 275.07it/s]\n"
          ]
        },
        {
          "name": "stdout",
          "output_type": "stream",
          "text": [
            "New model saved, val loss 0.004024430936159089 -> 0.004020379119834235\n"
          ]
        },
        {
          "name": "stderr",
          "output_type": "stream",
          "text": [
            "Epoch 3: train loss=0.0033326805953001683, train accuracy=0.6839714471122648: 100%|██████████| 25/25 [00:00<00:00, 76.16it/s]\n",
            "Epoch 3: val loss=0.0039061518429323685, val accuracy=0.6337209302325582: 100%|██████████| 3/3 [00:00<00:00, 342.65it/s]\n"
          ]
        },
        {
          "name": "stdout",
          "output_type": "stream",
          "text": [
            "New model saved, val loss 0.004020379119834235 -> 0.0039061518429323685\n"
          ]
        },
        {
          "name": "stderr",
          "output_type": "stream",
          "text": [
            "Epoch 4: train loss=0.00328695432734443, train accuracy=0.7047371836469825: 100%|██████████| 25/25 [00:00<00:00, 83.72it/s]  \n",
            "Epoch 4: val loss=0.003932464348022328, val accuracy=0.6337209302325582: 100%|██████████| 3/3 [00:00<00:00, 96.58it/s]\n",
            "Epoch 5: train loss=0.0032000387453707995, train accuracy=0.7170668397144712: 100%|██████████| 25/25 [00:00<00:00, 95.21it/s]\n",
            "Epoch 5: val loss=0.003904346549926802, val accuracy=0.6337209302325582: 100%|██████████| 3/3 [00:00<00:00, 200.52it/s]\n"
          ]
        },
        {
          "name": "stdout",
          "output_type": "stream",
          "text": [
            "New model saved, val loss 0.0039061518429323685 -> 0.003904346549926802\n"
          ]
        },
        {
          "name": "stderr",
          "output_type": "stream",
          "text": [
            "Epoch 6: train loss=0.003141190220905851, train accuracy=0.7300454250486696: 100%|██████████| 25/25 [00:00<00:00, 64.58it/s] \n",
            "Epoch 6: val loss=0.0038405912386816603, val accuracy=0.6046511627906976: 100%|██████████| 3/3 [00:00<00:00, 218.13it/s]\n"
          ]
        },
        {
          "name": "stdout",
          "output_type": "stream",
          "text": [
            "New model saved, val loss 0.003904346549926802 -> 0.0038405912386816603\n"
          ]
        },
        {
          "name": "stderr",
          "output_type": "stream",
          "text": [
            "Epoch 7: train loss=0.0030036494667695607, train accuracy=0.7469175859831279: 100%|██████████| 25/25 [00:00<00:00, 87.14it/s]\n",
            "Epoch 7: val loss=0.0038979283079158427, val accuracy=0.6046511627906976: 100%|██████████| 3/3 [00:00<00:00, 215.52it/s]\n",
            "Epoch 8: train loss=0.002977383100004029, train accuracy=0.7430240103828682: 100%|██████████| 25/25 [00:00<00:00, 124.29it/s] \n",
            "Epoch 8: val loss=0.003867096159347268, val accuracy=0.5988372093023255: 100%|██████████| 3/3 [00:00<00:00, 230.08it/s]\n",
            "Epoch 9: train loss=0.0028630527561937812, train accuracy=0.7689811810512654: 100%|██████████| 25/25 [00:00<00:00, 97.59it/s] \n",
            "Epoch 9: val loss=0.003854401582895323, val accuracy=0.627906976744186: 100%|██████████| 3/3 [00:00<00:00, 36.46it/s]\n",
            "Epoch 10: train loss=0.0027091951918710292, train accuracy=0.7897469175859831: 100%|██████████| 25/25 [00:00<00:00, 94.50it/s] \n",
            "Epoch 10: val loss=0.0038695429819960926, val accuracy=0.6104651162790697: 100%|██████████| 3/3 [00:00<00:00, 181.08it/s]\n",
            "Epoch 11: train loss=0.002698128434994405, train accuracy=0.7761194029850746: 100%|██████████| 25/25 [00:00<00:00, 115.26it/s] \n",
            "Epoch 11: val loss=0.003959074876336164, val accuracy=0.5872093023255814: 100%|██████████| 3/3 [00:00<00:00, 238.96it/s]\n",
            "Epoch 12: train loss=0.0026345350172208705, train accuracy=0.7949383517196625: 100%|██████████| 25/25 [00:00<00:00, 77.88it/s]\n",
            "Epoch 12: val loss=0.003944415772377059, val accuracy=0.6046511627906976: 100%|██████████| 3/3 [00:00<00:00, 216.95it/s]\n",
            "Epoch 13: train loss=0.00249290213926824, train accuracy=0.8059701492537313: 100%|██████████| 25/25 [00:00<00:00, 115.13it/s]  \n",
            "Epoch 13: val loss=0.0038823886492917706, val accuracy=0.6162790697674418: 100%|██████████| 3/3 [00:00<00:00, 175.33it/s]\n",
            "Epoch 14: train loss=0.0024371478346398245, train accuracy=0.8092147955872809: 100%|██████████| 25/25 [00:00<00:00, 104.64it/s]\n",
            "Epoch 14: val loss=0.003963285234085349, val accuracy=0.627906976744186: 100%|██████████| 3/3 [00:00<00:00, 31.95it/s]\n",
            "Epoch 15: train loss=0.0023316470912182045, train accuracy=0.8254380272550292: 100%|██████████| 25/25 [00:00<00:00, 110.04it/s]\n",
            "Epoch 15: val loss=0.003986868487541066, val accuracy=0.622093023255814: 100%|██████████| 3/3 [00:00<00:00, 336.35it/s]\n",
            "Epoch 16: train loss=0.0023876123763693375, train accuracy=0.8234912394548994: 100%|██████████| 25/25 [00:00<00:00, 101.88it/s]\n",
            "Epoch 16: val loss=0.003931067450795063, val accuracy=0.622093023255814: 100%|██████████| 3/3 [00:00<00:00, 407.46it/s]\n",
            "Epoch 17: train loss=0.0022308410161660137, train accuracy=0.8332251784555483: 100%|██████████| 25/25 [00:00<00:00, 43.16it/s]\n",
            "Epoch 17: val loss=0.003918619869753372, val accuracy=0.6162790697674418: 100%|██████████| 3/3 [00:00<00:00, 214.14it/s]\n",
            "Epoch 18: train loss=0.002140761838378572, train accuracy=0.8345230369889682: 100%|██████████| 25/25 [00:00<00:00, 108.30it/s] \n",
            "Epoch 18: val loss=0.0038406368085118227, val accuracy=0.6337209302325582: 100%|██████████| 3/3 [00:00<00:00, 202.47it/s]\n",
            "Epoch 19: train loss=0.0021728778537181506, train accuracy=0.844905905256327: 100%|██████████| 25/25 [00:00<00:00, 70.44it/s]  \n",
            "Epoch 19: val loss=0.004034424503875333, val accuracy=0.627906976744186: 100%|██████████| 3/3 [00:00<00:00, 209.37it/s]\n",
            "Epoch 20: train loss=0.0020424230417054167, train accuracy=0.8598312783906554: 100%|██████████| 25/25 [00:00<00:00, 55.91it/s]\n",
            "Epoch 20: val loss=0.003992832244135613, val accuracy=0.6162790697674418: 100%|██████████| 3/3 [00:00<00:00, 67.55it/s]\n",
            "Epoch 21: train loss=0.0019946740595726594, train accuracy=0.863075924724205: 100%|██████████| 25/25 [00:00<00:00, 103.48it/s] \n",
            "Epoch 21: val loss=0.004080319040736487, val accuracy=0.627906976744186: 100%|██████████| 3/3 [00:00<00:00, 217.72it/s]\n",
            "Epoch 22: train loss=0.0019712431778155853, train accuracy=0.8513951979234263: 100%|██████████| 25/25 [00:00<00:00, 77.85it/s] \n",
            "Epoch 22: val loss=0.004061719186084215, val accuracy=0.5988372093023255: 100%|██████████| 3/3 [00:00<00:00, 197.12it/s]\n",
            "Epoch 23: train loss=0.0018126485793138773, train accuracy=0.8741077222582738: 100%|██████████| 25/25 [00:00<00:00, 81.97it/s] \n",
            "Epoch 23: val loss=0.00412616289632265, val accuracy=0.6046511627906976: 100%|██████████| 3/3 [00:00<00:00, 396.71it/s]\n",
            "Epoch 24: train loss=0.0017634873882197157, train accuracy=0.8838416612589228: 100%|██████████| 25/25 [00:00<00:00, 136.52it/s]\n",
            "Epoch 24: val loss=0.004059598889461783, val accuracy=0.6104651162790697: 100%|██████████| 3/3 [00:00<00:00, 45.41it/s]\n",
            "Epoch 25: train loss=0.001689224772875685, train accuracy=0.8948734587929915: 100%|██████████| 25/25 [00:00<00:00, 57.19it/s]  \n",
            "Epoch 25: val loss=0.004029605104479679, val accuracy=0.622093023255814: 100%|██████████| 3/3 [00:00<00:00, 264.42it/s]\n",
            "Epoch 26: train loss=0.0016569315777979138, train accuracy=0.8955223880597015: 100%|██████████| 25/25 [00:00<00:00, 90.86it/s]\n",
            "Epoch 26: val loss=0.0041693083422128544, val accuracy=0.6104651162790697: 100%|██████████| 3/3 [00:00<00:00, 111.91it/s]\n",
            "Epoch 27: train loss=0.0015516659603886291, train accuracy=0.8968202465931213: 100%|██████████| 25/25 [00:00<00:00, 104.04it/s]\n",
            "Epoch 27: val loss=0.004028063960546671, val accuracy=0.6104651162790697: 100%|██████████| 3/3 [00:00<00:00, 275.13it/s]\n",
            "Epoch 28: train loss=0.0015447354747984488, train accuracy=0.9149902660609993: 100%|██████████| 25/25 [00:00<00:00, 42.79it/s]\n",
            "Epoch 28: val loss=0.004215841723042865, val accuracy=0.6337209302325582: 100%|██████████| 3/3 [00:00<00:00, 242.64it/s]\n",
            "Epoch 29: train loss=0.0014270130498969347, train accuracy=0.9117456197274497: 100%|██████████| 25/25 [00:00<00:00, 115.94it/s]\n",
            "Epoch 29: val loss=0.004083808598130248, val accuracy=0.6104651162790697: 100%|██████████| 3/3 [00:00<00:00, 207.82it/s]\n",
            "Epoch 30: train loss=0.0014889523541672055, train accuracy=0.9156391953277093: 100%|██████████| 25/25 [00:00<00:00, 72.77it/s]\n",
            "Epoch 30: val loss=0.004128630597924077, val accuracy=0.6395348837209303: 100%|██████████| 3/3 [00:00<00:00, 67.31it/s]\n",
            "Epoch 31: train loss=0.001351607848613932, train accuracy=0.9260220635950681: 100%|██████████| 25/25 [00:00<00:00, 72.70it/s]  \n",
            "Epoch 31: val loss=0.0041162241683449854, val accuracy=0.6569767441860465: 100%|██████████| 3/3 [00:00<00:00, 66.76it/s]\n",
            "Epoch 32: train loss=0.0012823883818775552, train accuracy=0.9292667099286178: 100%|██████████| 25/25 [00:00<00:00, 105.03it/s]\n",
            "Epoch 32: val loss=0.004251400312018949, val accuracy=0.6337209302325582: 100%|██████████| 3/3 [00:00<00:00, 355.04it/s]\n",
            "Epoch 33: train loss=0.0012426797583418802, train accuracy=0.945489941596366: 100%|██████████| 25/25 [00:00<00:00, 51.14it/s] \n",
            "Epoch 33: val loss=0.00425294041633606, val accuracy=0.6511627906976745: 100%|██████████| 3/3 [00:00<00:00, 321.54it/s]\n",
            "Epoch 34: train loss=0.0012674185578541504, train accuracy=0.9448410123296561: 100%|██████████| 25/25 [00:00<00:00, 108.45it/s]\n",
            "Epoch 34: val loss=0.0042171820478383885, val accuracy=0.6395348837209303: 100%|██████████| 3/3 [00:00<00:00, 297.98it/s]\n",
            "Epoch 35: train loss=0.0012030857630281925, train accuracy=0.9402985074626866: 100%|██████████| 25/25 [00:00<00:00, 90.15it/s]\n",
            "Epoch 35: val loss=0.004266832457032315, val accuracy=0.622093023255814: 100%|██████████| 3/3 [00:00<00:00, 138.74it/s]\n",
            "Epoch 36: train loss=0.001126780223625964, train accuracy=0.9435431537962362: 100%|██████████| 25/25 [00:00<00:00, 69.59it/s] \n",
            "Epoch 36: val loss=0.004416618842718213, val accuracy=0.6453488372093024: 100%|██████████| 3/3 [00:00<00:00, 224.79it/s]\n",
            "Epoch 37: train loss=0.0010817853092064261, train accuracy=0.9474367293964958: 100%|██████████| 25/25 [00:00<00:00, 68.60it/s]\n",
            "Epoch 37: val loss=0.004196656218101812, val accuracy=0.6337209302325582: 100%|██████████| 3/3 [00:00<00:00, 313.91it/s]\n",
            "Epoch 38: train loss=0.0009899222274479503, train accuracy=0.9578195976638546: 100%|██████████| 25/25 [00:00<00:00, 59.29it/s]\n",
            "Epoch 38: val loss=0.00442855579908504, val accuracy=0.6453488372093024: 100%|██████████| 3/3 [00:00<00:00, 127.03it/s]\n",
            "Epoch 39: train loss=0.0010094100139227725, train accuracy=0.9526281635301752: 100%|██████████| 25/25 [00:00<00:00, 82.77it/s] \n",
            "Epoch 39: val loss=0.00437234896560048, val accuracy=0.622093023255814: 100%|██████████| 3/3 [00:00<00:00, 232.89it/s]\n",
            "Epoch 40: train loss=0.0008850218492483335, train accuracy=0.9623621025308241: 100%|██████████| 25/25 [00:00<00:00, 93.26it/s]\n",
            "Epoch 40: val loss=0.004302507742892864, val accuracy=0.6395348837209303: 100%|██████████| 3/3 [00:00<00:00, 185.75it/s]\n",
            "Epoch 41: train loss=0.0009538300992953631, train accuracy=0.963659961064244: 100%|██████████| 25/25 [00:00<00:00, 116.49it/s] \n",
            "Epoch 41: val loss=0.004320101855799209, val accuracy=0.6569767441860465: 100%|██████████| 3/3 [00:00<00:00, 222.02it/s]\n",
            "Epoch 42: train loss=0.0009958896747295305, train accuracy=0.9591174561972745: 100%|██████████| 25/25 [00:00<00:00, 86.81it/s] \n",
            "Epoch 42: val loss=0.004385730294987213, val accuracy=0.6511627906976745: 100%|██████████| 3/3 [00:00<00:00, 180.92it/s]\n",
            "Epoch 43: train loss=0.0007827335111627635, train accuracy=0.9714471122647631: 100%|██████████| 25/25 [00:00<00:00, 44.59it/s] \n",
            "Epoch 43: val loss=0.004449336074812468, val accuracy=0.6569767441860465: 100%|██████████| 3/3 [00:00<00:00, 63.18it/s]\n",
            "Epoch 44: train loss=0.0008507036083631126, train accuracy=0.9759896171317326: 100%|██████████| 25/25 [00:00<00:00, 43.36it/s]\n",
            "Epoch 44: val loss=0.004369341703348382, val accuracy=0.6395348837209303: 100%|██████████| 3/3 [00:00<00:00, 244.99it/s]\n",
            "Epoch 45: train loss=0.000688698400225367, train accuracy=0.9779364049318624: 100%|██████████| 25/25 [00:00<00:00, 60.44it/s] \n",
            "Epoch 45: val loss=0.004234244223943976, val accuracy=0.6337209302325582: 100%|██████████| 3/3 [00:00<00:00, 264.37it/s]\n",
            "Epoch 46: train loss=0.0008198100793079306, train accuracy=0.9792342634652823: 100%|██████████| 25/25 [00:00<00:00, 60.31it/s]\n",
            "Epoch 46: val loss=0.004286125822122707, val accuracy=0.6453488372093024: 100%|██████████| 3/3 [00:00<00:00, 231.01it/s]\n",
            "Epoch 47: train loss=0.0007138947565241497, train accuracy=0.9759896171317326: 100%|██████████| 25/25 [00:00<00:00, 53.58it/s]\n",
            "Epoch 47: val loss=0.004324189452237861, val accuracy=0.6511627906976745: 100%|██████████| 3/3 [00:00<00:00, 179.02it/s]\n",
            "Epoch 48: train loss=0.0008340668982398889, train accuracy=0.9695003244646333: 100%|██████████| 25/25 [00:00<00:00, 50.94it/s] \n",
            "Epoch 48: val loss=0.004580344398354375, val accuracy=0.6337209302325582: 100%|██████████| 3/3 [00:00<00:00, 203.92it/s]\n",
            "Epoch 49: train loss=0.0007255293324947512, train accuracy=0.972744970798183: 100%|██████████| 25/25 [00:00<00:00, 78.56it/s]  \n",
            "Epoch 49: val loss=0.00454319684311401, val accuracy=0.6453488372093024: 100%|██████████| 3/3 [00:00<00:00, 108.23it/s]\n",
            "Epoch 50: train loss=0.0006291638711669243, train accuracy=0.9792342634652823: 100%|██████████| 25/25 [00:00<00:00, 54.44it/s]\n",
            "Epoch 50: val loss=0.004518741265285847, val accuracy=0.6162790697674418: 100%|██████████| 3/3 [00:00<00:00, 168.95it/s]\n",
            "Epoch 51: train loss=0.0005582427505662424, train accuracy=0.9811810512654121: 100%|██████████| 25/25 [00:00<00:00, 51.25it/s]\n",
            "Epoch 51: val loss=0.004346369830674903, val accuracy=0.6162790697674418: 100%|██████████| 3/3 [00:00<00:00, 136.73it/s]\n",
            "Epoch 52: train loss=0.0006475820641851054, train accuracy=0.9850746268656716: 100%|██████████| 25/25 [00:00<00:00, 44.12it/s]\n",
            "Epoch 52: val loss=0.004499027115661044, val accuracy=0.627906976744186: 100%|██████████| 3/3 [00:00<00:00, 193.61it/s]\n",
            "Epoch 53: train loss=0.0006097513108981421, train accuracy=0.9863724853990915: 100%|██████████| 25/25 [00:00<00:00, 78.52it/s] \n",
            "Epoch 53: val loss=0.00457761939181838, val accuracy=0.6337209302325582: 100%|██████████| 3/3 [00:00<00:00, 234.73it/s]\n",
            "Epoch 54: train loss=0.0005699026517420137, train accuracy=0.9824789097988319: 100%|██████████| 25/25 [00:00<00:00, 108.53it/s] \n",
            "Epoch 54: val loss=0.004515348911978478, val accuracy=0.622093023255814: 100%|██████████| 3/3 [00:00<00:00, 161.97it/s]\n",
            "Epoch 55: train loss=0.0005757292535574231, train accuracy=0.9844256975989617: 100%|██████████| 25/25 [00:00<00:00, 33.18it/s] \n",
            "Epoch 55: val loss=0.004494322074014087, val accuracy=0.6453488372093024: 100%|██████████| 3/3 [00:00<00:00, 68.33it/s]\n",
            "Epoch 56: train loss=0.0005226897844521354, train accuracy=0.9876703439325114: 100%|██████████| 25/25 [00:00<00:00, 47.35it/s] \n",
            "Epoch 56: val loss=0.0046593346741310385, val accuracy=0.627906976744186: 100%|██████████| 3/3 [00:00<00:00, 58.64it/s]\n",
            "Epoch 57: train loss=0.0004390391102937001, train accuracy=0.9857235561323816: 100%|██████████| 25/25 [00:00<00:00, 80.13it/s]  \n",
            "Epoch 57: val loss=0.004598018041876859, val accuracy=0.6162790697674418: 100%|██████████| 3/3 [00:00<00:00, 213.05it/s]\n",
            "Epoch 58: train loss=0.000372713205080037, train accuracy=0.990914990266061: 100%|██████████| 25/25 [00:00<00:00, 61.66it/s]   \n",
            "Epoch 58: val loss=0.004644699827876202, val accuracy=0.6162790697674418: 100%|██████████| 3/3 [00:00<00:00, 85.20it/s]\n",
            "Epoch 59: train loss=0.0004172264643637179, train accuracy=0.9928617780661908: 100%|██████████| 25/25 [00:00<00:00, 113.01it/s] \n",
            "Epoch 59: val loss=0.0046258402425189355, val accuracy=0.622093023255814: 100%|██████████| 3/3 [00:00<00:00, 220.29it/s]\n",
            "Epoch 60: train loss=0.0003658968237295776, train accuracy=0.9928617780661908: 100%|██████████| 25/25 [00:00<00:00, 59.58it/s]  \n",
            "Epoch 60: val loss=0.0047280925304390665, val accuracy=0.6162790697674418: 100%|██████████| 3/3 [00:00<00:00, 180.67it/s]\n",
            "Epoch 61: train loss=0.0005159312472385605, train accuracy=0.990914990266061: 100%|██████████| 25/25 [00:00<00:00, 45.27it/s]  \n",
            "Epoch 61: val loss=0.0044878002169520355, val accuracy=0.622093023255814: 100%|██████████| 3/3 [00:00<00:00, 100.28it/s]\n",
            "Epoch 62: train loss=0.00039607977118683973, train accuracy=0.9896171317326411: 100%|██████████| 25/25 [00:00<00:00, 74.15it/s] \n",
            "Epoch 62: val loss=0.004824665050173915, val accuracy=0.5988372093023255: 100%|██████████| 3/3 [00:00<00:00, 307.46it/s]\n",
            "Epoch 63: train loss=0.00041438756591599923, train accuracy=0.9928617780661908: 100%|██████████| 25/25 [00:00<00:00, 120.59it/s]\n",
            "Epoch 63: val loss=0.004753948297611502, val accuracy=0.5988372093023255: 100%|██████████| 3/3 [00:00<00:00, 115.13it/s]\n",
            "Epoch 64: train loss=0.0006347694122978884, train accuracy=0.9896171317326411: 100%|██████████| 25/25 [00:00<00:00, 35.19it/s] \n",
            "Epoch 64: val loss=0.004790717086126638, val accuracy=0.5988372093023255: 100%|██████████| 3/3 [00:00<00:00, 90.28it/s]\n",
            "Epoch 65: train loss=0.0004088789506257547, train accuracy=0.9876703439325114: 100%|██████████| 25/25 [00:00<00:00, 32.91it/s] \n",
            "Epoch 65: val loss=0.0046129212823025015, val accuracy=0.6162790697674418: 100%|██████████| 3/3 [00:00<00:00, 29.01it/s]\n",
            "Epoch 66: train loss=0.0005720566775671543, train accuracy=0.9883192731992213: 100%|██████████| 25/25 [00:00<00:00, 77.77it/s] \n",
            "Epoch 66: val loss=0.004857866223468337, val accuracy=0.6046511627906976: 100%|██████████| 3/3 [00:00<00:00, 181.35it/s]\n",
            "Epoch 67: train loss=0.000502820193796557, train accuracy=0.9779364049318624: 100%|██████████| 25/25 [00:00<00:00, 54.10it/s]  \n",
            "Epoch 67: val loss=0.004713913815659146, val accuracy=0.5988372093023255: 100%|██████████| 3/3 [00:00<00:00, 330.88it/s]\n",
            "Epoch 68: train loss=0.00040100048320932405, train accuracy=0.9889682024659312: 100%|██████████| 25/25 [00:00<00:00, 90.00it/s] \n",
            "Epoch 68: val loss=0.004815567631361096, val accuracy=0.6104651162790697: 100%|██████████| 3/3 [00:00<00:00, 82.41it/s]\n",
            "Epoch 69: train loss=0.0005690768774475547, train accuracy=0.9850746268656716: 100%|██████████| 25/25 [00:00<00:00, 60.16it/s] \n",
            "Epoch 69: val loss=0.004847876207773076, val accuracy=0.6046511627906976: 100%|██████████| 3/3 [00:00<00:00, 124.20it/s]\n",
            "Epoch 70: train loss=0.00039540915064015686, train accuracy=0.9883192731992213: 100%|██████████| 25/25 [00:00<00:00, 66.67it/s]\n",
            "Epoch 70: val loss=0.004837516955164976, val accuracy=0.622093023255814: 100%|██████████| 3/3 [00:00<00:00, 141.21it/s]\n",
            "Epoch 71: train loss=0.00030290866243465044, train accuracy=0.990914990266061: 100%|██████████| 25/25 [00:00<00:00, 67.54it/s]  \n",
            "Epoch 71: val loss=0.0048326788426831715, val accuracy=0.5930232558139535: 100%|██████████| 3/3 [00:00<00:00, 147.53it/s]\n",
            "Epoch 72: train loss=0.00044679161557646094, train accuracy=0.9915639195327709: 100%|██████████| 25/25 [00:00<00:00, 50.02it/s]\n",
            "Epoch 72: val loss=0.004947357226249783, val accuracy=0.6046511627906976: 100%|██████████| 3/3 [00:00<00:00, 259.56it/s]\n",
            "Epoch 73: train loss=0.0002726984221190891, train accuracy=0.9941596365996106: 100%|██████████| 25/25 [00:00<00:00, 34.56it/s] \n",
            "Epoch 73: val loss=0.004799022404260413, val accuracy=0.6162790697674418: 100%|██████████| 3/3 [00:00<00:00, 232.79it/s]\n",
            "Epoch 74: train loss=0.0003628764077319989, train accuracy=0.9922128487994809: 100%|██████████| 25/25 [00:00<00:00, 67.51it/s] \n",
            "Epoch 74: val loss=0.004852794977121575, val accuracy=0.6162790697674418: 100%|██████████| 3/3 [00:00<00:00, 116.71it/s]\n",
            "Epoch 75: train loss=0.00022308857649767808, train accuracy=0.9954574951330305: 100%|██████████| 25/25 [00:00<00:00, 39.59it/s]\n",
            "Epoch 75: val loss=0.0047565621518811515, val accuracy=0.5988372093023255: 100%|██████████| 3/3 [00:00<00:00, 242.14it/s]\n",
            "Epoch 76: train loss=0.00019541875737864888, train accuracy=0.9961064243997404: 100%|██████████| 25/25 [00:00<00:00, 65.87it/s]\n",
            "Epoch 76: val loss=0.004676761148973953, val accuracy=0.6046511627906976: 100%|██████████| 3/3 [00:00<00:00, 175.10it/s]\n",
            "Epoch 77: train loss=0.00024930170255530045, train accuracy=0.9961064243997404: 100%|██████████| 25/25 [00:00<00:00, 53.96it/s]\n",
            "Epoch 77: val loss=0.00509513117546259, val accuracy=0.6104651162790697: 100%|██████████| 3/3 [00:00<00:00, 22.04it/s]\n",
            "Epoch 78: train loss=0.0003208266217612083, train accuracy=0.9941596365996106: 100%|██████████| 25/25 [00:00<00:00, 25.35it/s] \n",
            "Epoch 78: val loss=0.004748586391986802, val accuracy=0.6104651162790697: 100%|██████████| 3/3 [00:00<00:00, 198.73it/s]\n",
            "Epoch 79: train loss=0.00030880673479658687, train accuracy=0.9922128487994809: 100%|██████████| 25/25 [00:00<00:00, 87.93it/s]\n",
            "Epoch 79: val loss=0.004950870434905208, val accuracy=0.6162790697674418: 100%|██████████| 3/3 [00:00<00:00, 180.85it/s]\n",
            "Epoch 80: train loss=0.00040332186153662584, train accuracy=0.9870214146658014: 100%|██████████| 25/25 [00:00<00:00, 106.63it/s]\n",
            "Epoch 80: val loss=0.004908303708531136, val accuracy=0.5872093023255814: 100%|██████████| 3/3 [00:00<00:00, 175.91it/s]\n",
            "Epoch 81: train loss=0.0005293757833617797, train accuracy=0.9896171317326411: 100%|██████████| 25/25 [00:00<00:00, 72.97it/s] \n",
            "Epoch 81: val loss=0.005112861478051474, val accuracy=0.6104651162790697: 100%|██████████| 3/3 [00:00<00:00, 170.77it/s]\n",
            "Epoch 82: train loss=0.0003958582022335528, train accuracy=0.9889682024659312: 100%|██████████| 25/25 [00:00<00:00, 94.18it/s] \n",
            "Epoch 82: val loss=0.004762278046718863, val accuracy=0.627906976744186: 100%|██████████| 3/3 [00:00<00:00, 440.24it/s]\n",
            "Epoch 83: train loss=0.0004348485436868273, train accuracy=0.9902660609993511: 100%|██████████| 25/25 [00:00<00:00, 63.23it/s]  \n",
            "Epoch 83: val loss=0.00506662109563517, val accuracy=0.6104651162790697: 100%|██████████| 3/3 [00:00<00:00, 169.94it/s]\n",
            "Epoch 84: train loss=0.00023312048849363865, train accuracy=0.990914990266061: 100%|██████████| 25/25 [00:00<00:00, 67.09it/s] \n",
            "Epoch 84: val loss=0.004840969346290411, val accuracy=0.6162790697674418: 100%|██████████| 3/3 [00:00<00:00, 91.01it/s]\n",
            "Epoch 85: train loss=0.00028224746829006364, train accuracy=0.9941596365996106: 100%|██████████| 25/25 [00:00<00:00, 110.04it/s]\n",
            "Epoch 85: val loss=0.004886549919150596, val accuracy=0.6162790697674418: 100%|██████████| 3/3 [00:00<00:00, 307.51it/s]\n",
            "Epoch 86: train loss=0.00040267033642671623, train accuracy=0.9902660609993511: 100%|██████████| 25/25 [00:00<00:00, 48.22it/s]\n",
            "Epoch 86: val loss=0.004988816848327947, val accuracy=0.6104651162790697: 100%|██████████| 3/3 [00:00<00:00, 55.15it/s]\n",
            "Epoch 87: train loss=0.00026274916802343805, train accuracy=0.9935107073329007: 100%|██████████| 25/25 [00:00<00:00, 45.57it/s]\n",
            "Epoch 87: val loss=0.005021037923735242, val accuracy=0.6104651162790697: 100%|██████████| 3/3 [00:00<00:00, 219.03it/s]\n",
            "Epoch 88: train loss=0.0001974528459596371, train accuracy=0.9935107073329007: 100%|██████████| 25/25 [00:00<00:00, 49.45it/s] \n",
            "Epoch 88: val loss=0.004808013175809106, val accuracy=0.627906976744186: 100%|██████████| 3/3 [00:00<00:00, 311.69it/s]\n",
            "Epoch 89: train loss=0.00015856575590693123, train accuracy=0.9974042829331603: 100%|██████████| 25/25 [00:00<00:00, 107.52it/s]\n",
            "Epoch 89: val loss=0.005083944908408231, val accuracy=0.627906976744186: 100%|██████████| 3/3 [00:00<00:00, 260.34it/s]\n",
            "Epoch 90: train loss=0.00026422928300148904, train accuracy=0.9961064243997404: 100%|██████████| 25/25 [00:00<00:00, 98.89it/s] \n",
            "Epoch 90: val loss=0.005165376115676968, val accuracy=0.5813953488372093: 100%|██████████| 3/3 [00:00<00:00, 60.14it/s]\n",
            "Epoch 91: train loss=0.0001669688992465784, train accuracy=0.9967553536664504: 100%|██████████| 25/25 [00:00<00:00, 85.85it/s] \n",
            "Epoch 91: val loss=0.00491713403269302, val accuracy=0.6104651162790697: 100%|██████████| 3/3 [00:00<00:00, 202.44it/s]\n",
            "Epoch 92: train loss=0.00018548185327909233, train accuracy=0.9954574951330305: 100%|██████████| 25/25 [00:00<00:00, 88.26it/s] \n",
            "Epoch 92: val loss=0.005040539385274399, val accuracy=0.6104651162790697: 100%|██████████| 3/3 [00:00<00:00, 180.69it/s]\n",
            "Epoch 93: train loss=0.00023915971348897387, train accuracy=0.9967553536664504: 100%|██████████| 25/25 [00:00<00:00, 44.07it/s]\n",
            "Epoch 93: val loss=0.004990970152755117, val accuracy=0.6046511627906976: 100%|██████████| 3/3 [00:00<00:00, 20.85it/s]\n",
            "Epoch 94: train loss=0.00023171756767693816, train accuracy=0.9948085658663206: 100%|██████████| 25/25 [00:00<00:00, 115.39it/s]\n",
            "Epoch 94: val loss=0.005120023911775544, val accuracy=0.5930232558139535: 100%|██████████| 3/3 [00:00<00:00, 17.75it/s]\n",
            "Epoch 95: train loss=0.00034260426724715175, train accuracy=0.9889682024659312: 100%|██████████| 25/25 [00:00<00:00, 34.16it/s]\n",
            "Epoch 95: val loss=0.005253444837276326, val accuracy=0.5988372093023255: 100%|██████████| 3/3 [00:00<00:00, 244.80it/s]\n",
            "Epoch 96: train loss=0.00032877792543226986, train accuracy=0.9928617780661908: 100%|██████████| 25/25 [00:00<00:00, 79.46it/s]\n",
            "Epoch 96: val loss=0.0049920537790586784, val accuracy=0.6104651162790697: 100%|██████████| 3/3 [00:00<00:00, 14.34it/s]\n",
            "Epoch 97: train loss=0.00024331222354186037, train accuracy=0.9954574951330305: 100%|██████████| 25/25 [00:00<00:00, 54.71it/s]\n",
            "Epoch 97: val loss=0.004964936784533567, val accuracy=0.5988372093023255: 100%|██████████| 3/3 [00:00<00:00, 65.41it/s]\n",
            "Epoch 98: train loss=0.00040603302132717823, train accuracy=0.9948085658663206: 100%|██████████| 25/25 [00:00<00:00, 54.07it/s]\n",
            "Epoch 98: val loss=0.005030111171478449, val accuracy=0.5988372093023255: 100%|██████████| 3/3 [00:00<00:00, 232.45it/s]\n",
            "Epoch 99: train loss=0.00015169321175599392, train accuracy=0.9961064243997404: 100%|██████████| 25/25 [00:00<00:00, 69.22it/s]\n",
            "Epoch 99: val loss=0.005185029707675756, val accuracy=0.5930232558139535: 100%|██████████| 3/3 [00:00<00:00, 180.25it/s]\n",
            "Epoch 0: train loss=0.004197966309819107, train accuracy=0.5288773523685918: 100%|██████████| 25/25 [00:00<00:00, 88.20it/s]\n",
            "Epoch 0: val loss=0.0048524891567784684, val accuracy=0.4418604651162791: 100%|██████████| 3/3 [00:00<00:00, 132.73it/s]\n"
          ]
        },
        {
          "name": "stdout",
          "output_type": "stream",
          "text": [
            "New model saved, val loss inf -> 0.0048524891567784684\n"
          ]
        },
        {
          "name": "stderr",
          "output_type": "stream",
          "text": [
            "Epoch 1: train loss=0.004000521669288799, train accuracy=0.5723556132381571: 100%|██████████| 25/25 [00:00<00:00, 70.49it/s] \n",
            "Epoch 1: val loss=0.004576355132252671, val accuracy=0.5174418604651163: 100%|██████████| 3/3 [00:00<00:00, 34.28it/s]\n"
          ]
        },
        {
          "name": "stdout",
          "output_type": "stream",
          "text": [
            "New model saved, val loss 0.0048524891567784684 -> 0.004576355132252671\n"
          ]
        },
        {
          "name": "stderr",
          "output_type": "stream",
          "text": [
            "Epoch 2: train loss=0.0038988773096389076, train accuracy=0.5743024010382868: 100%|██████████| 25/25 [00:00<00:00, 84.30it/s] \n",
            "Epoch 2: val loss=0.004465490752874419, val accuracy=0.5348837209302325: 100%|██████████| 3/3 [00:00<00:00, 47.31it/s]\n"
          ]
        },
        {
          "name": "stdout",
          "output_type": "stream",
          "text": [
            "New model saved, val loss 0.004576355132252671 -> 0.004465490752874419\n"
          ]
        },
        {
          "name": "stderr",
          "output_type": "stream",
          "text": [
            "Epoch 3: train loss=0.003890939757933793, train accuracy=0.5814406229720961: 100%|██████████| 25/25 [00:00<00:00, 127.95it/s] \n",
            "Epoch 3: val loss=0.004288792263629825, val accuracy=0.5232558139534884: 100%|██████████| 3/3 [00:00<00:00, 366.41it/s]\n"
          ]
        },
        {
          "name": "stdout",
          "output_type": "stream",
          "text": [
            "New model saved, val loss 0.004465490752874419 -> 0.004288792263629825\n"
          ]
        },
        {
          "name": "stderr",
          "output_type": "stream",
          "text": [
            "Epoch 4: train loss=0.003859426606250691, train accuracy=0.5840363400389358: 100%|██████████| 25/25 [00:00<00:00, 118.85it/s] \n",
            "Epoch 4: val loss=0.004267203253368998, val accuracy=0.5523255813953488: 100%|██████████| 3/3 [00:00<00:00, 294.43it/s]\n"
          ]
        },
        {
          "name": "stdout",
          "output_type": "stream",
          "text": [
            "New model saved, val loss 0.004288792263629825 -> 0.004267203253368998\n"
          ]
        },
        {
          "name": "stderr",
          "output_type": "stream",
          "text": [
            "Epoch 5: train loss=0.003955221781476916, train accuracy=0.5807916937053861: 100%|██████████| 25/25 [00:00<00:00, 44.49it/s] \n",
            "Epoch 5: val loss=0.004227885413308477, val accuracy=0.5523255813953488: 100%|██████████| 3/3 [00:00<00:00, 213.98it/s]\n"
          ]
        },
        {
          "name": "stdout",
          "output_type": "stream",
          "text": [
            "New model saved, val loss 0.004267203253368998 -> 0.004227885413308477\n"
          ]
        },
        {
          "name": "stderr",
          "output_type": "stream",
          "text": [
            "Epoch 6: train loss=0.0038697083978046463, train accuracy=0.5872809863724854: 100%|██████████| 25/25 [00:00<00:00, 48.49it/s]\n",
            "Epoch 6: val loss=0.004226707355227581, val accuracy=0.5581395348837209: 100%|██████████| 3/3 [00:00<00:00, 283.44it/s]\n"
          ]
        },
        {
          "name": "stdout",
          "output_type": "stream",
          "text": [
            "New model saved, val loss 0.004227885413308477 -> 0.004226707355227581\n"
          ]
        },
        {
          "name": "stderr",
          "output_type": "stream",
          "text": [
            "Epoch 7: train loss=0.0038121393425444516, train accuracy=0.5885788449059053: 100%|██████████| 25/25 [00:00<00:00, 122.76it/s]\n",
            "Epoch 7: val loss=0.004242870783390001, val accuracy=0.5930232558139535: 100%|██████████| 3/3 [00:00<00:00, 248.05it/s]\n",
            "Epoch 8: train loss=0.003825123417617283, train accuracy=0.5905256327060351: 100%|██████████| 25/25 [00:00<00:00, 42.85it/s] \n",
            "Epoch 8: val loss=0.004198025392238484, val accuracy=0.5872093023255814: 100%|██████████| 3/3 [00:00<00:00, 301.84it/s]\n"
          ]
        },
        {
          "name": "stdout",
          "output_type": "stream",
          "text": [
            "New model saved, val loss 0.004226707355227581 -> 0.004198025392238484\n"
          ]
        },
        {
          "name": "stderr",
          "output_type": "stream",
          "text": [
            "Epoch 9: train loss=0.0037379094352975903, train accuracy=0.6015574302401038: 100%|██████████| 25/25 [00:00<00:00, 118.71it/s]\n",
            "Epoch 9: val loss=0.0041951010393541915, val accuracy=0.5930232558139535: 100%|██████████| 3/3 [00:00<00:00, 328.26it/s]\n"
          ]
        },
        {
          "name": "stdout",
          "output_type": "stream",
          "text": [
            "New model saved, val loss 0.004198025392238484 -> 0.0041951010393541915\n"
          ]
        },
        {
          "name": "stderr",
          "output_type": "stream",
          "text": [
            "Epoch 10: train loss=0.003808331646213742, train accuracy=0.5957170668397145: 100%|██████████| 25/25 [00:00<00:00, 107.03it/s] \n",
            "Epoch 10: val loss=0.004227674371281335, val accuracy=0.5813953488372093: 100%|██████████| 3/3 [00:00<00:00, 257.63it/s]\n",
            "Epoch 11: train loss=0.0037565233160504114, train accuracy=0.5976638546398443: 100%|██████████| 25/25 [00:00<00:00, 44.20it/s]\n",
            "Epoch 11: val loss=0.004213088213704353, val accuracy=0.5581395348837209: 100%|██████████| 3/3 [00:00<00:00, 165.69it/s]\n",
            "Epoch 12: train loss=0.0037561006587794044, train accuracy=0.6048020765736535: 100%|██████████| 25/25 [00:00<00:00, 70.25it/s]\n",
            "Epoch 12: val loss=0.0042504294840402385, val accuracy=0.5755813953488372: 100%|██████████| 3/3 [00:00<00:00, 97.68it/s]\n",
            "Epoch 13: train loss=0.0037858578715519345, train accuracy=0.6099935107073329: 100%|██████████| 25/25 [00:00<00:00, 100.95it/s]\n",
            "Epoch 13: val loss=0.00420513593180235, val accuracy=0.6046511627906976: 100%|██████████| 3/3 [00:00<00:00, 152.63it/s]\n",
            "Epoch 14: train loss=0.0037736503974251127, train accuracy=0.6073977936404932: 100%|██████████| 25/25 [00:00<00:00, 70.97it/s] \n",
            "Epoch 14: val loss=0.004172957394012185, val accuracy=0.5697674418604651: 100%|██████████| 3/3 [00:00<00:00, 128.42it/s]\n"
          ]
        },
        {
          "name": "stdout",
          "output_type": "stream",
          "text": [
            "New model saved, val loss 0.0041951010393541915 -> 0.004172957394012185\n"
          ]
        },
        {
          "name": "stderr",
          "output_type": "stream",
          "text": [
            "Epoch 15: train loss=0.0037305045058246096, train accuracy=0.6086956521739131: 100%|██████████| 25/25 [00:00<00:00, 67.49it/s]\n",
            "Epoch 15: val loss=0.004206809626762257, val accuracy=0.5930232558139535: 100%|██████████| 3/3 [00:00<00:00, 285.36it/s]\n",
            "Epoch 16: train loss=0.003753732147733551, train accuracy=0.618429591174562: 100%|██████████| 25/25 [00:00<00:00, 101.25it/s]  \n",
            "Epoch 16: val loss=0.004208472925563192, val accuracy=0.5813953488372093: 100%|██████████| 3/3 [00:00<00:00, 268.26it/s]\n",
            "Epoch 17: train loss=0.003772967023017111, train accuracy=0.6158338741077223: 100%|██████████| 25/25 [00:00<00:00, 44.06it/s] \n",
            "Epoch 17: val loss=0.0042186239950878675, val accuracy=0.5755813953488372: 100%|██████████| 3/3 [00:00<00:00, 190.47it/s]\n",
            "Epoch 18: train loss=0.003697902060885618, train accuracy=0.6216742375081116: 100%|██████████| 25/25 [00:00<00:00, 103.43it/s] \n",
            "Epoch 18: val loss=0.004188630816548369, val accuracy=0.5930232558139535: 100%|██████████| 3/3 [00:00<00:00, 139.57it/s]\n",
            "Epoch 19: train loss=0.003772979806492191, train accuracy=0.6262167423750811: 100%|██████████| 25/25 [00:00<00:00, 88.42it/s]  \n",
            "Epoch 19: val loss=0.004176221961198851, val accuracy=0.5813953488372093: 100%|██████████| 3/3 [00:00<00:00, 141.07it/s]\n",
            "Epoch 20: train loss=0.003711588066711896, train accuracy=0.6249188838416613: 100%|██████████| 25/25 [00:00<00:00, 99.01it/s] \n",
            "Epoch 20: val loss=0.004196642789729806, val accuracy=0.5813953488372093: 100%|██████████| 3/3 [00:00<00:00, 184.62it/s]\n",
            "Epoch 21: train loss=0.00367305455348617, train accuracy=0.6132381570408826: 100%|██████████| 25/25 [00:00<00:00, 65.93it/s]  \n",
            "Epoch 21: val loss=0.004237272451783336, val accuracy=0.5465116279069767: 100%|██████████| 3/3 [00:00<00:00, 251.34it/s]\n",
            "Epoch 22: train loss=0.0036893506219524753, train accuracy=0.6333549643088904: 100%|██████████| 25/25 [00:00<00:00, 60.81it/s]\n",
            "Epoch 22: val loss=0.0041718783593455025, val accuracy=0.5988372093023255: 100%|██████████| 3/3 [00:00<00:00, 205.96it/s]\n"
          ]
        },
        {
          "name": "stdout",
          "output_type": "stream",
          "text": [
            "New model saved, val loss 0.004172957394012185 -> 0.0041718783593455025\n"
          ]
        },
        {
          "name": "stderr",
          "output_type": "stream",
          "text": [
            "Epoch 23: train loss=0.00377924657154207, train accuracy=0.6307592472420506: 100%|██████████| 25/25 [00:00<00:00, 49.79it/s]  \n",
            "Epoch 23: val loss=0.004144537414229194, val accuracy=0.5755813953488372: 100%|██████████| 3/3 [00:00<00:00, 369.79it/s]\n"
          ]
        },
        {
          "name": "stdout",
          "output_type": "stream",
          "text": [
            "New model saved, val loss 0.0041718783593455025 -> 0.004144537414229194\n"
          ]
        },
        {
          "name": "stderr",
          "output_type": "stream",
          "text": [
            "Epoch 24: train loss=0.0037002709200442572, train accuracy=0.6359506813757301: 100%|██████████| 25/25 [00:00<00:00, 112.33it/s]\n",
            "Epoch 24: val loss=0.004172246296738469, val accuracy=0.5813953488372093: 100%|██████████| 3/3 [00:00<00:00, 230.37it/s]\n",
            "Epoch 25: train loss=0.0036407894104970575, train accuracy=0.627514600908501: 100%|██████████| 25/25 [00:00<00:00, 49.16it/s] \n",
            "Epoch 25: val loss=0.004224400620820911, val accuracy=0.5872093023255814: 100%|██████████| 3/3 [00:00<00:00, 94.83it/s]\n",
            "Epoch 26: train loss=0.0036267209447567376, train accuracy=0.6346528228423102: 100%|██████████| 25/25 [00:00<00:00, 107.96it/s]\n",
            "Epoch 26: val loss=0.00419147260660349, val accuracy=0.5697674418604651: 100%|██████████| 3/3 [00:00<00:00, 168.16it/s]\n",
            "Epoch 27: train loss=0.0036720725176475175, train accuracy=0.6314081765087606: 100%|██████████| 25/25 [00:00<00:00, 56.88it/s]\n",
            "Epoch 27: val loss=0.0042486214187256125, val accuracy=0.5813953488372093: 100%|██████████| 3/3 [00:00<00:00, 23.41it/s]\n",
            "Epoch 28: train loss=0.003658396993884013, train accuracy=0.6314081765087606: 100%|██████████| 25/25 [00:00<00:00, 54.82it/s] \n",
            "Epoch 28: val loss=0.004256236171999643, val accuracy=0.5755813953488372: 100%|██████████| 3/3 [00:00<00:00, 193.19it/s]\n",
            "Epoch 29: train loss=0.0036347518293676556, train accuracy=0.6236210253082414: 100%|██████████| 25/25 [00:00<00:00, 63.09it/s]\n",
            "Epoch 29: val loss=0.0042945843969666685, val accuracy=0.5872093023255814: 100%|██████████| 3/3 [00:00<00:00, 279.85it/s]\n",
            "Epoch 30: train loss=0.0036579193928116408, train accuracy=0.6320571057754705: 100%|██████████| 25/25 [00:00<00:00, 65.86it/s] \n",
            "Epoch 30: val loss=0.00414512419076853, val accuracy=0.5872093023255814: 100%|██████████| 3/3 [00:00<00:00, 245.36it/s]\n",
            "Epoch 31: train loss=0.003701344470866387, train accuracy=0.6223231667748216: 100%|██████████| 25/25 [00:00<00:00, 65.32it/s] \n",
            "Epoch 31: val loss=0.00413768487267716, val accuracy=0.5930232558139535: 100%|██████████| 3/3 [00:00<00:00, 197.42it/s]\n"
          ]
        },
        {
          "name": "stdout",
          "output_type": "stream",
          "text": [
            "New model saved, val loss 0.004144537414229194 -> 0.00413768487267716\n"
          ]
        },
        {
          "name": "stderr",
          "output_type": "stream",
          "text": [
            "Epoch 32: train loss=0.003662295837745815, train accuracy=0.6320571057754705: 100%|██████████| 25/25 [00:00<00:00, 79.13it/s] \n",
            "Epoch 32: val loss=0.004204682399367177, val accuracy=0.5930232558139535: 100%|██████████| 3/3 [00:00<00:00, 243.60it/s]\n",
            "Epoch 33: train loss=0.0036267083353380505, train accuracy=0.6411421155094095: 100%|██████████| 25/25 [00:00<00:00, 94.54it/s]\n",
            "Epoch 33: val loss=0.004190627572148345, val accuracy=0.5930232558139535: 100%|██████████| 3/3 [00:00<00:00, 193.77it/s]\n",
            "Epoch 34: train loss=0.0036374658133440556, train accuracy=0.6495781959766386: 100%|██████████| 25/25 [00:00<00:00, 119.54it/s]\n",
            "Epoch 34: val loss=0.0042343951415183935, val accuracy=0.5872093023255814: 100%|██████████| 3/3 [00:00<00:00, 232.37it/s]\n",
            "Epoch 35: train loss=0.0036331185712046936, train accuracy=0.6314081765087606: 100%|██████████| 25/25 [00:00<00:00, 56.95it/s] \n",
            "Epoch 35: val loss=0.0041947972116082215, val accuracy=0.5813953488372093: 100%|██████████| 3/3 [00:00<00:00, 200.67it/s]\n",
            "Epoch 36: train loss=0.003699774588570047, train accuracy=0.6424399740428294: 100%|██████████| 25/25 [00:00<00:00, 98.87it/s]  \n",
            "Epoch 36: val loss=0.004211578604786895, val accuracy=0.5872093023255814: 100%|██████████| 3/3 [00:00<00:00, 248.93it/s]\n",
            "Epoch 37: train loss=0.0036508117903369655, train accuracy=0.6294613887086308: 100%|██████████| 25/25 [00:00<00:00, 49.33it/s]\n",
            "Epoch 37: val loss=0.004249321686667066, val accuracy=0.5988372093023255: 100%|██████████| 3/3 [00:00<00:00, 329.72it/s]\n",
            "Epoch 38: train loss=0.00363825015012975, train accuracy=0.6404931862426996: 100%|██████████| 25/25 [00:00<00:00, 97.81it/s]   \n",
            "Epoch 38: val loss=0.004211954945741698, val accuracy=0.5988372093023255: 100%|██████████| 3/3 [00:00<00:00, 173.76it/s]\n",
            "Epoch 39: train loss=0.003599352017770256, train accuracy=0.6378974691758599: 100%|██████████| 25/25 [00:00<00:00, 90.05it/s]  \n",
            "Epoch 39: val loss=0.0042323959601479905, val accuracy=0.5813953488372093: 100%|██████████| 3/3 [00:00<00:00, 222.17it/s]\n",
            "Epoch 40: train loss=0.0036479232568078657, train accuracy=0.6307592472420506: 100%|██████████| 25/25 [00:00<00:00, 113.49it/s]\n",
            "Epoch 40: val loss=0.004155461611442788, val accuracy=0.5813953488372093: 100%|██████████| 3/3 [00:00<00:00, 210.70it/s]\n",
            "Epoch 41: train loss=0.0036129038938061903, train accuracy=0.6385463984425698: 100%|██████████| 25/25 [00:00<00:00, 60.92it/s]\n",
            "Epoch 41: val loss=0.004244739319695983, val accuracy=0.5988372093023255: 100%|██████████| 3/3 [00:00<00:00, 103.89it/s]\n",
            "Epoch 42: train loss=0.003699395764500657, train accuracy=0.645684620376379: 100%|██████████| 25/25 [00:00<00:00, 116.85it/s]  \n",
            "Epoch 42: val loss=0.00416770854661631, val accuracy=0.5813953488372093: 100%|██████████| 3/3 [00:00<00:00, 70.63it/s]\n",
            "Epoch 43: train loss=0.0035887133816014166, train accuracy=0.6443867618429591: 100%|██████████| 25/25 [00:00<00:00, 49.58it/s]\n",
            "Epoch 43: val loss=0.004109874194444612, val accuracy=0.563953488372093: 100%|██████████| 3/3 [00:00<00:00, 167.30it/s]\n"
          ]
        },
        {
          "name": "stdout",
          "output_type": "stream",
          "text": [
            "New model saved, val loss 0.00413768487267716 -> 0.004109874194444612\n"
          ]
        },
        {
          "name": "stderr",
          "output_type": "stream",
          "text": [
            "Epoch 44: train loss=0.00360414834474295, train accuracy=0.6476314081765088: 100%|██████████| 25/25 [00:00<00:00, 116.76it/s]  \n",
            "Epoch 44: val loss=0.004229295565638431, val accuracy=0.563953488372093: 100%|██████████| 3/3 [00:00<00:00, 18.88it/s]\n",
            "Epoch 45: train loss=0.0037148066111619715, train accuracy=0.6424399740428294: 100%|██████████| 25/25 [00:00<00:00, 81.96it/s]\n",
            "Epoch 45: val loss=0.00423803795562234, val accuracy=0.6104651162790697: 100%|██████████| 3/3 [00:00<00:00, 283.30it/s]\n",
            "Epoch 46: train loss=0.003633482571471287, train accuracy=0.6294613887086308: 100%|██████████| 25/25 [00:00<00:00, 57.09it/s] \n",
            "Epoch 46: val loss=0.004198703048534171, val accuracy=0.5813953488372093: 100%|██████████| 3/3 [00:00<00:00, 230.47it/s]\n",
            "Epoch 47: train loss=0.003602248828647819, train accuracy=0.6404931862426996: 100%|██████████| 25/25 [00:00<00:00, 89.01it/s]  \n",
            "Epoch 47: val loss=0.004083491255377614, val accuracy=0.5755813953488372: 100%|██████████| 3/3 [00:00<00:00, 75.22it/s]\n"
          ]
        },
        {
          "name": "stdout",
          "output_type": "stream",
          "text": [
            "New model saved, val loss 0.004109874194444612 -> 0.004083491255377614\n"
          ]
        },
        {
          "name": "stderr",
          "output_type": "stream",
          "text": [
            "Epoch 48: train loss=0.00362704242691446, train accuracy=0.6353017521090201: 100%|██████████| 25/25 [00:00<00:00, 77.43it/s]  \n",
            "Epoch 48: val loss=0.00412037379519884, val accuracy=0.5813953488372093: 100%|██████████| 3/3 [00:00<00:00, 48.15it/s]\n",
            "Epoch 49: train loss=0.0036179737020513593, train accuracy=0.6450356911096691: 100%|██████████| 25/25 [00:00<00:00, 57.32it/s]\n",
            "Epoch 49: val loss=0.004175999743300815, val accuracy=0.5988372093023255: 100%|██████████| 3/3 [00:00<00:00, 30.52it/s]\n",
            "Epoch 50: train loss=0.0036407067143708217, train accuracy=0.6450356911096691: 100%|██████████| 25/25 [00:00<00:00, 47.11it/s]\n",
            "Epoch 50: val loss=0.00412684817646825, val accuracy=0.5872093023255814: 100%|██████████| 3/3 [00:00<00:00, 238.51it/s]\n",
            "Epoch 51: train loss=0.003603766474686684, train accuracy=0.645684620376379: 100%|██████████| 25/25 [00:00<00:00, 82.90it/s]  \n",
            "Epoch 51: val loss=0.004203766151223072, val accuracy=0.5755813953488372: 100%|██████████| 3/3 [00:00<00:00, 287.50it/s]\n",
            "Epoch 52: train loss=0.003675040314523993, train accuracy=0.6385463984425698: 100%|██████████| 25/25 [00:00<00:00, 79.50it/s] \n",
            "Epoch 52: val loss=0.004077969855347345, val accuracy=0.563953488372093: 100%|██████████| 3/3 [00:00<00:00, 231.46it/s]\n"
          ]
        },
        {
          "name": "stdout",
          "output_type": "stream",
          "text": [
            "New model saved, val loss 0.004083491255377614 -> 0.004077969855347345\n"
          ]
        },
        {
          "name": "stderr",
          "output_type": "stream",
          "text": [
            "Epoch 53: train loss=0.0035850058934040305, train accuracy=0.6443867618429591: 100%|██████████| 25/25 [00:00<00:00, 76.34it/s] \n",
            "Epoch 53: val loss=0.004275000285963679, val accuracy=0.6104651162790697: 100%|██████████| 3/3 [00:00<00:00, 193.82it/s]\n",
            "Epoch 54: train loss=0.003605421954049142, train accuracy=0.6372485399091499: 100%|██████████| 25/25 [00:00<00:00, 88.45it/s] \n",
            "Epoch 54: val loss=0.0041796669017436896, val accuracy=0.5697674418604651: 100%|██████████| 3/3 [00:00<00:00, 65.29it/s]\n",
            "Epoch 55: train loss=0.0035801588966813975, train accuracy=0.6398442569759896: 100%|██████████| 25/25 [00:00<00:00, 84.72it/s]\n",
            "Epoch 55: val loss=0.004182857742836309, val accuracy=0.5872093023255814: 100%|██████████| 3/3 [00:00<00:00, 192.85it/s]\n",
            "Epoch 56: train loss=0.0036323371256890813, train accuracy=0.6398442569759896: 100%|██████████| 25/25 [00:00<00:00, 107.48it/s]\n",
            "Epoch 56: val loss=0.0041472163311270785, val accuracy=0.5930232558139535: 100%|██████████| 3/3 [00:00<00:00, 270.36it/s]\n",
            "Epoch 57: train loss=0.0035830671662714945, train accuracy=0.6430889033095393: 100%|██████████| 25/25 [00:00<00:00, 76.69it/s]\n",
            "Epoch 57: val loss=0.0040726616632106695, val accuracy=0.5872093023255814: 100%|██████████| 3/3 [00:00<00:00, 115.85it/s]\n"
          ]
        },
        {
          "name": "stdout",
          "output_type": "stream",
          "text": [
            "New model saved, val loss 0.004077969855347345 -> 0.0040726616632106695\n"
          ]
        },
        {
          "name": "stderr",
          "output_type": "stream",
          "text": [
            "Epoch 58: train loss=0.003635238017222078, train accuracy=0.6463335496430889: 100%|██████████| 25/25 [00:00<00:00, 57.06it/s] \n",
            "Epoch 58: val loss=0.004279844636140868, val accuracy=0.5697674418604651: 100%|██████████| 3/3 [00:00<00:00, 158.22it/s]\n",
            "Epoch 59: train loss=0.0036701866553094306, train accuracy=0.6495781959766386: 100%|██████████| 25/25 [00:00<00:00, 124.17it/s]\n",
            "Epoch 59: val loss=0.004130193140617636, val accuracy=0.5988372093023255: 100%|██████████| 3/3 [00:00<00:00, 253.74it/s]\n",
            "Epoch 60: train loss=0.00356297296490629, train accuracy=0.6424399740428294: 100%|██████████| 25/25 [00:00<00:00, 118.26it/s]  \n",
            "Epoch 60: val loss=0.004141632554142974, val accuracy=0.5872093023255814: 100%|██████████| 3/3 [00:00<00:00, 77.59it/s]\n",
            "Epoch 61: train loss=0.0036115664154735966, train accuracy=0.6450356911096691: 100%|██████████| 25/25 [00:00<00:00, 99.07it/s] \n",
            "Epoch 61: val loss=0.0042316820905652155, val accuracy=0.5755813953488372: 100%|██████████| 3/3 [00:00<00:00, 166.38it/s]\n",
            "Epoch 62: train loss=0.003539828483273966, train accuracy=0.6450356911096691: 100%|██████████| 25/25 [00:00<00:00, 100.03it/s] \n",
            "Epoch 62: val loss=0.004210293379633925, val accuracy=0.5697674418604651: 100%|██████████| 3/3 [00:00<00:00, 262.78it/s]\n",
            "Epoch 63: train loss=0.003670674177596199, train accuracy=0.6430889033095393: 100%|██████████| 25/25 [00:00<00:00, 87.69it/s]  \n",
            "Epoch 63: val loss=0.004251501587934272, val accuracy=0.5930232558139535: 100%|██████████| 3/3 [00:00<00:00, 44.28it/s]\n",
            "Epoch 64: train loss=0.0036384295345822533, train accuracy=0.6359506813757301: 100%|██████████| 25/25 [00:00<00:00, 83.12it/s]\n",
            "Epoch 64: val loss=0.0041328980479129526, val accuracy=0.6104651162790697: 100%|██████████| 3/3 [00:00<00:00, 240.84it/s]\n",
            "Epoch 65: train loss=0.003620244296706396, train accuracy=0.6495781959766386: 100%|██████████| 25/25 [00:00<00:00, 129.94it/s] \n",
            "Epoch 65: val loss=0.004126258887523829, val accuracy=0.5930232558139535: 100%|██████████| 3/3 [00:00<00:00, 13.61it/s]\n",
            "Epoch 66: train loss=0.0035610517884600403, train accuracy=0.6482803374432187: 100%|██████████| 25/25 [00:00<00:00, 112.80it/s]\n",
            "Epoch 66: val loss=0.004168165197899175, val accuracy=0.6046511627906976: 100%|██████████| 3/3 [00:00<00:00, 49.43it/s]\n",
            "Epoch 67: train loss=0.0036289071317310074, train accuracy=0.6495781959766386: 100%|██████████| 25/25 [00:00<00:00, 52.88it/s] \n",
            "Epoch 67: val loss=0.004218733587930369, val accuracy=0.5872093023255814: 100%|██████████| 3/3 [00:00<00:00, 245.71it/s]\n",
            "Epoch 68: train loss=0.0035901863144869005, train accuracy=0.6528228423101882: 100%|██████████| 25/25 [00:00<00:00, 141.05it/s]\n",
            "Epoch 68: val loss=0.004174486062554426, val accuracy=0.6046511627906976: 100%|██████████| 3/3 [00:00<00:00, 347.81it/s]\n",
            "Epoch 69: train loss=0.0035839524944442807, train accuracy=0.6398442569759896: 100%|██████████| 25/25 [00:00<00:00, 96.55it/s] \n",
            "Epoch 69: val loss=0.004146171083977056, val accuracy=0.5930232558139535: 100%|██████████| 3/3 [00:00<00:00, 200.14it/s]\n",
            "Epoch 70: train loss=0.003625365635313669, train accuracy=0.6521739130434783: 100%|██████████| 25/25 [00:00<00:00, 53.69it/s] \n",
            "Epoch 70: val loss=0.004150917363721271, val accuracy=0.5813953488372093: 100%|██████████| 3/3 [00:00<00:00, 93.28it/s]\n",
            "Epoch 71: train loss=0.003559879547663125, train accuracy=0.6443867618429591: 100%|██████████| 25/25 [00:00<00:00, 56.41it/s] \n",
            "Epoch 71: val loss=0.004135581209909084, val accuracy=0.5813953488372093: 100%|██████████| 3/3 [00:00<00:00, 18.35it/s]\n",
            "Epoch 72: train loss=0.0036575787354412984, train accuracy=0.6450356911096691: 100%|██████████| 25/25 [00:00<00:00, 34.99it/s]\n",
            "Epoch 72: val loss=0.004088354058736979, val accuracy=0.5930232558139535: 100%|██████████| 3/3 [00:00<00:00, 46.09it/s]\n",
            "Epoch 73: train loss=0.003621487436474027, train accuracy=0.6476314081765088: 100%|██████████| 25/25 [00:00<00:00, 91.38it/s] \n",
            "Epoch 73: val loss=0.00418918545162955, val accuracy=0.5813953488372093: 100%|██████████| 3/3 [00:00<00:00, 210.31it/s]\n",
            "Epoch 74: train loss=0.0036222241398268596, train accuracy=0.6443867618429591: 100%|██████████| 25/25 [00:00<00:00, 72.05it/s] \n",
            "Epoch 74: val loss=0.004108998058147208, val accuracy=0.6046511627906976: 100%|██████████| 3/3 [00:00<00:00, 199.37it/s]\n",
            "Epoch 75: train loss=0.0035934915776998483, train accuracy=0.6528228423101882: 100%|██████████| 25/25 [00:00<00:00, 107.39it/s]\n",
            "Epoch 75: val loss=0.004196004465568897, val accuracy=0.5697674418604651: 100%|██████████| 3/3 [00:00<00:00, 212.73it/s]\n",
            "Epoch 76: train loss=0.003532064340085197, train accuracy=0.6528228423101882: 100%|██████████| 25/25 [00:00<00:00, 40.23it/s] \n",
            "Epoch 76: val loss=0.004184674558251403, val accuracy=0.5988372093023255: 100%|██████████| 3/3 [00:00<00:00, 269.49it/s]\n",
            "Epoch 77: train loss=0.0035991047223151154, train accuracy=0.6528228423101882: 100%|██████████| 25/25 [00:00<00:00, 128.77it/s]\n",
            "Epoch 77: val loss=0.004171175925537597, val accuracy=0.5988372093023255: 100%|██████████| 3/3 [00:00<00:00, 238.46it/s]\n",
            "Epoch 78: train loss=0.0035799878766055544, train accuracy=0.6495781959766386: 100%|██████████| 25/25 [00:00<00:00, 39.95it/s]\n",
            "Epoch 78: val loss=0.004206684266411981, val accuracy=0.6046511627906976: 100%|██████████| 3/3 [00:00<00:00, 296.93it/s]\n",
            "Epoch 79: train loss=0.0035720338088827113, train accuracy=0.6437378325762492: 100%|██████████| 25/25 [00:00<00:00, 123.01it/s]\n",
            "Epoch 79: val loss=0.004174488488324853, val accuracy=0.5872093023255814: 100%|██████████| 3/3 [00:00<00:00, 61.75it/s]\n",
            "Epoch 80: train loss=0.0035370692543052066, train accuracy=0.6606099935107074: 100%|██████████| 25/25 [00:00<00:00, 57.83it/s]\n",
            "Epoch 80: val loss=0.004172223944996678, val accuracy=0.5813953488372093: 100%|██████████| 3/3 [00:00<00:00, 251.53it/s]\n",
            "Epoch 81: train loss=0.0035124637143013155, train accuracy=0.6599610642439974: 100%|██████████| 25/25 [00:00<00:00, 110.89it/s]\n",
            "Epoch 81: val loss=0.004111232539249021, val accuracy=0.5872093023255814: 100%|██████████| 3/3 [00:00<00:00, 345.73it/s]\n",
            "Epoch 82: train loss=0.003578059728233788, train accuracy=0.6469824789097989: 100%|██████████| 25/25 [00:00<00:00, 37.37it/s] \n",
            "Epoch 82: val loss=0.004156015293542729, val accuracy=0.6104651162790697: 100%|██████████| 3/3 [00:00<00:00, 125.06it/s]\n",
            "Epoch 83: train loss=0.003606827865553552, train accuracy=0.6424399740428294: 100%|██████████| 25/25 [00:00<00:00, 135.07it/s] \n",
            "Epoch 83: val loss=0.004227314577546231, val accuracy=0.6104651162790697: 100%|██████████| 3/3 [00:00<00:00, 91.47it/s]\n",
            "Epoch 84: train loss=0.0036539192771385585, train accuracy=0.6411421155094095: 100%|██████████| 25/25 [00:00<00:00, 87.30it/s]\n",
            "Epoch 84: val loss=0.004093991202670474, val accuracy=0.6104651162790697: 100%|██████████| 3/3 [00:00<00:00, 226.89it/s]\n",
            "Epoch 85: train loss=0.0035239690836182977, train accuracy=0.6573653471771577: 100%|██████████| 25/25 [00:00<00:00, 60.45it/s]\n",
            "Epoch 85: val loss=0.00420356931727986, val accuracy=0.5930232558139535: 100%|██████████| 3/3 [00:00<00:00, 58.17it/s]\n",
            "Epoch 86: train loss=0.0035051326330879304, train accuracy=0.6469824789097989: 100%|██████████| 25/25 [00:00<00:00, 32.24it/s]\n",
            "Epoch 86: val loss=0.004169550572716912, val accuracy=0.5813953488372093: 100%|██████████| 3/3 [00:00<00:00, 187.32it/s]\n",
            "Epoch 87: train loss=0.00354955348776657, train accuracy=0.645684620376379: 100%|██████████| 25/25 [00:00<00:00, 62.70it/s]   \n",
            "Epoch 87: val loss=0.004177446542091148, val accuracy=0.5813953488372093: 100%|██████████| 3/3 [00:00<00:00, 243.28it/s]\n",
            "Epoch 88: train loss=0.003504436397846452, train accuracy=0.6541207008436081: 100%|██████████| 25/25 [00:00<00:00, 125.69it/s] \n",
            "Epoch 88: val loss=0.00421930234446082, val accuracy=0.6046511627906976: 100%|██████████| 3/3 [00:00<00:00, 62.73it/s]\n",
            "Epoch 89: train loss=0.0035496265140931996, train accuracy=0.6567164179104478: 100%|██████████| 25/25 [00:00<00:00, 73.71it/s]\n",
            "Epoch 89: val loss=0.004158970488365306, val accuracy=0.5988372093023255: 100%|██████████| 3/3 [00:00<00:00, 80.14it/s]\n",
            "Epoch 90: train loss=0.0036099165445949103, train accuracy=0.6411421155094095: 100%|██████████| 25/25 [00:00<00:00, 38.00it/s]\n",
            "Epoch 90: val loss=0.0041392976634724195, val accuracy=0.5755813953488372: 100%|██████████| 3/3 [00:00<00:00, 24.63it/s]\n",
            "Epoch 91: train loss=0.003690180087692934, train accuracy=0.6450356911096691: 100%|██████████| 25/25 [00:00<00:00, 52.33it/s] \n",
            "Epoch 91: val loss=0.004161721658568049, val accuracy=0.6162790697674418: 100%|██████████| 3/3 [00:00<00:00, 354.22it/s]\n",
            "Epoch 92: train loss=0.003572247994943999, train accuracy=0.6508760545100584: 100%|██████████| 25/25 [00:00<00:00, 53.03it/s]  \n",
            "Epoch 92: val loss=0.004126070890315744, val accuracy=0.5930232558139535: 100%|██████████| 3/3 [00:00<00:00, 37.14it/s]\n",
            "Epoch 93: train loss=0.0035875823631602243, train accuracy=0.6489292667099286: 100%|██████████| 25/25 [00:00<00:00, 98.46it/s]\n",
            "Epoch 93: val loss=0.00417656789338866, val accuracy=0.5755813953488372: 100%|██████████| 3/3 [00:00<00:00, 216.00it/s]\n",
            "Epoch 94: train loss=0.0034839018144675617, train accuracy=0.6482803374432187: 100%|██████████| 25/25 [00:00<00:00, 98.42it/s] \n",
            "Epoch 94: val loss=0.004262314199708229, val accuracy=0.5988372093023255: 100%|██████████| 3/3 [00:00<00:00, 187.48it/s]\n",
            "Epoch 95: train loss=0.0035480118412850817, train accuracy=0.6528228423101882: 100%|██████████| 25/25 [00:00<00:00, 53.53it/s] \n",
            "Epoch 95: val loss=0.0042242748272973436, val accuracy=0.5988372093023255: 100%|██████████| 3/3 [00:00<00:00, 60.43it/s]\n",
            "Epoch 96: train loss=0.003577024991987279, train accuracy=0.6489292667099286: 100%|██████████| 25/25 [00:00<00:00, 46.55it/s] \n",
            "Epoch 96: val loss=0.004205560095088426, val accuracy=0.5755813953488372: 100%|██████████| 3/3 [00:00<00:00, 135.04it/s]\n",
            "Epoch 97: train loss=0.00358423841107905, train accuracy=0.645684620376379: 100%|██████████| 25/25 [00:00<00:00, 38.40it/s]   \n",
            "Epoch 97: val loss=0.004214742155962212, val accuracy=0.6104651162790697: 100%|██████████| 3/3 [00:00<00:00, 318.94it/s]\n",
            "Epoch 98: train loss=0.0035922034346848476, train accuracy=0.6515249837767684: 100%|██████████| 25/25 [00:00<00:00, 120.42it/s]\n",
            "Epoch 98: val loss=0.004332341340392135, val accuracy=0.5930232558139535: 100%|██████████| 3/3 [00:00<00:00, 28.13it/s]\n",
            "Epoch 99: train loss=0.0035742536370898127, train accuracy=0.6580142764438677: 100%|██████████| 25/25 [00:00<00:00, 79.04it/s]\n",
            "Epoch 99: val loss=0.0041500385417494665, val accuracy=0.5872093023255814: 100%|██████████| 3/3 [00:00<00:00, 92.45it/s]\n"
          ]
        }
      ],
      "source": [
        "mlp_models = random_forst_models.copy()\n",
        "lr = 1e-4\n",
        "num_epochs = 100\n",
        "torch.manual_seed(SEED)\n",
        "\n",
        "for ds_name in mlp_models:\n",
        "    net = nn.Sequential(\n",
        "        nn.Linear(dataset[ds_name]['X_train'].shape[1], 64),\n",
        "        nn.Tanh(),\n",
        "        nn.BatchNorm1d(64),\n",
        "        nn.Linear(64, 32),\n",
        "        nn.Tanh(),\n",
        "        nn.BatchNorm1d(32),\n",
        "        nn.Linear(32, 32),\n",
        "        nn.Tanh(),\n",
        "        nn.BatchNorm1d(32),\n",
        "        nn.Linear(32, 16),\n",
        "        nn.Tanh(),\n",
        "        nn.BatchNorm1d(16),\n",
        "        nn.Linear(16, 1),\n",
        "        nn.Sigmoid()\n",
        "    )\n",
        "    net = net.to(device)\n",
        "    optimizer = Adam(net.parameters(), lr=lr)\n",
        "    criterion = nn.MSELoss()\n",
        "    train_dl = dataloaders[ds_name]['train']\n",
        "    val_dl = dataloaders[ds_name]['val']\n",
        "    test_dl = dataloaders[ds_name]['test']\n",
        "\n",
        "    return_vals = train(net, criterion, optimizer, train_dl, val_dl, num_epochs)\n",
        "    train_losses, val_losses, train_accs, val_accs, best_model = return_vals\n",
        "    mlp_models[ds_name] = {\n",
        "        'model': best_model,\n",
        "        'train_losses': train_losses,\n",
        "        'val_losses': val_losses,\n",
        "        'train_accs': train_accs,\n",
        "        'val_accs': val_accs\n",
        "    }"
      ]
    },
    {
      "cell_type": "code",
      "execution_count": 138,
      "id": "hFjQ3KUhUqk4",
      "metadata": {
        "id": "hFjQ3KUhUqk4"
      },
      "outputs": [
        {
          "name": "stdout",
          "output_type": "stream",
          "text": [
            "mlp accuracy on clinical dataset had accuracy of 0.7173\n",
            "mlp accuracy on gene_expr dataset had accuracy of 0.6126\n",
            "mlp accuracy on gene_expr_reduced dataset had accuracy of 0.6335\n"
          ]
        }
      ],
      "source": [
        "for ds_name in mlp_models:\n",
        "    # test\n",
        "    best_model = mlp_models[ds_name]['model']\n",
        "    test_dl = dataloaders[ds_name]['test']\n",
        "    acc, confusion = evaluate(best_model, test_dl)\n",
        "    mlp_models[ds_name]['accuracy'] = acc\n",
        "    mlp_models[ds_name]['confusion'] = confusion\n",
        "    print(f'mlp accuracy on {ds_name} dataset had accuracy of {acc:.4f}')"
      ]
    },
    {
      "cell_type": "code",
      "execution_count": 142,
      "id": "eedc24e3",
      "metadata": {},
      "outputs": [
        {
          "data": {
            "image/png": "[encoded data removed]",
            "text/plain": [
              "<Figure size 640x480 with 2 Axes>"
            ]
          },
          "metadata": {},
          "output_type": "display_data"
        }
      ],
      "source": [
        "sns.heatmap(mlp_models['clinical']['confusion'])\n",
        "plt.show()"
      ]
    },
    {
      "cell_type": "markdown",
      "id": "56877dc4",
      "metadata": {
        "id": "56877dc4"
      },
      "source": [
        "# Model Comparison (10 Points)"
      ]
    },
    {
      "cell_type": "markdown",
      "id": "509fe56a",
      "metadata": {
        "id": "509fe56a"
      },
      "source": [
        "Compare different models and different datasets (clinical, gene expressions, and gene reduced expressions) and try to explain their differences."
      ]
    },
    {
      "cell_type": "markdown",
      "id": "c2f05a73",
      "metadata": {
        "id": "c2f05a73"
      },
      "source": [
        "#### \\# TODO"
      ]
    }
  ],
  "metadata": {
    "colab": {
      "provenance": []
    },
    "kernelspec": {
      "display_name": "Python 3 (ipykernel)",
      "language": "python",
      "name": "python3"
    },
    "language_info": {
      "codemirror_mode": {
        "name": "ipython",
        "version": 3
      },
      "file_extension": ".py",
      "mimetype": "text/x-python",
      "name": "python",
      "nbconvert_exporter": "python",
      "pygments_lexer": "ipython3",
      "version": "3.9.12"
    },
    "toc": {
      "base_numbering": 1,
      "nav_menu": {},
      "number_sections": true,
      "sideBar": true,
      "skip_h1_title": false,
      "title_cell": "Table of Contents",
      "title_sidebar": "Contents",
      "toc_cell": false,
      "toc_position": {},
      "toc_section_display": true,
      "toc_window_display": false
    },
    "varInspector": {
      "cols": {
        "lenName": 16,
        "lenType": 16,
        "lenVar": 40
      },
      "kernels_config": {
        "python": {
          "delete_cmd_postfix": "",
          "delete_cmd_prefix": "del ",
          "library": "var_list.py",
          "varRefreshCmd": "print(var_dic_list())"
        },
        "r": {
          "delete_cmd_postfix": ") ",
          "delete_cmd_prefix": "rm(",
          "library": "var_list.r",
          "varRefreshCmd": "cat(var_dic_list()) "
        }
      },
      "types_to_exclude": [
        "module",
        "function",
        "builtin_function_or_method",
        "instance",
        "_Feature"
      ],
      "window_display": false
    },
    "vscode": {
      "interpreter": {
        "hash": "9d0e6cba9abb52fde9ce5ff9e7499c99052a279653ba0a99ce7c78819a4a9c31"
      }
    }
  },
  "nbformat": 4,
  "nbformat_minor": 5
}
