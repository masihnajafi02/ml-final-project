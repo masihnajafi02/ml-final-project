{
 "cells": [
  {
   "cell_type": "markdown",
   "id": "5902c1f3",
   "metadata": {
    "id": "5902c1f3"
   },
   "source": [
    "<img src='http://www-scf.usc.edu/~ghasemig/images/sharif.png' alt=\"SUT logo\" width=200 height=200 align=left class=\"saturate\" >\n",
    "\n",
    "<br>\n",
    "<font face=\"Times New Roman\">\n",
    "<div dir=ltr align=center>\n",
    "<font color=0F5298 size=7>\n",
    "    Introduction to Machine Learning <br>\n",
    "<font color=2565AE size=5>\n",
    "    Computer Engineering Department <br>\n",
    "    Fall 2022<br>\n",
    "<font color=3C99D size=5>\n",
    "    Project <br>\n",
    "<font color=696880 size=4>\n",
    "    Project Team \n",
    "    \n",
    "    \n",
    "____\n"
   ]
  },
  {
   "cell_type": "markdown",
   "id": "5e85f16a",
   "metadata": {
    "id": "5e85f16a"
   },
   "source": [
    "### Full Name : Mohammad Bagher Soltani, Seyed Mohammad Yousef Najafi\n",
    "### Student Number : 98105813, 99102361\n",
    "___"
   ]
  },
  {
   "cell_type": "markdown",
   "id": "40df5e74",
   "metadata": {
    "id": "40df5e74"
   },
   "source": [
    "# Introduction"
   ]
  },
  {
   "cell_type": "markdown",
   "id": "5a627177",
   "metadata": {
    "id": "5a627177"
   },
   "source": [
    "In this project, we are going to have a brief and elementary hands-on real-world project, predicting breast cancer survival using machine learning models with clinical data and gene expression profiles."
   ]
  },
  {
   "cell_type": "code",
   "execution_count": 1,
   "id": "2970285a",
   "metadata": {
    "id": "2970285a"
   },
   "outputs": [],
   "source": [
    "# imports\n",
    "import numpy as np\n",
    "import pandas as pd\n",
    "from sklearn.preprocessing import OrdinalEncoder, StandardScaler\n",
    "from sklearn.decomposition import PCA\n",
    "from sklearn.linear_model import LinearRegression\n",
    "from sklearn.impute import SimpleImputer\n",
    "import umap\n",
    "import matplotlib.pyplot as plt\n",
    "import seaborn as sns\n",
    "from sklearn.metrics import accuracy_score\n",
    "from sklearn.model_selection import train_test_split\n",
    "from sklearn.ensemble import RandomForestClassifier\n",
    "from sklearn.svm import SVC\n",
    "import torch\n",
    "import torch.nn as nn\n",
    "from torch.utils.data import Dataset, DataLoader\n",
    "from tqdm.std import tqdm\n",
    "from torch.optim import Adam\n",
    "from copy import deepcopy"
   ]
  },
  {
   "cell_type": "code",
   "execution_count": 2,
   "id": "4dac6eb7",
   "metadata": {},
   "outputs": [],
   "source": [
    "SEED = 111"
   ]
  },
  {
   "cell_type": "code",
   "execution_count": 3,
   "id": "88e8d521",
   "metadata": {
    "id": "88e8d521"
   },
   "outputs": [],
   "source": [
    "np.random.seed(SEED)"
   ]
  },
  {
   "cell_type": "markdown",
   "id": "b1e52cbc",
   "metadata": {
    "id": "b1e52cbc"
   },
   "source": [
    "# Data Documentation"
   ]
  },
  {
   "cell_type": "markdown",
   "id": "254cb90f",
   "metadata": {
    "ExecuteTime": {
     "end_time": "2023-01-29T19:31:29.604891Z",
     "start_time": "2023-01-29T19:31:29.601061Z"
    },
    "id": "254cb90f"
   },
   "source": [
    "For this purpose, we will use \"Breast Cancer Gene Expression Profiles (METABRIC)\" data. \n",
    "The first 31 columns of data contain clinical information including death status.\n",
    "The next columns of the data contain gene's related information which includes both gene expressions and mutation information. (gene's mutation info columns have been marked with \"_mut\" at the end of the names of the columns) \n",
    "For more information please read the [data documentation](https://www.kaggle.com/datasets/raghadalharbi/breast-cancer-gene-expression-profiles-metabric)."
   ]
  },
  {
   "cell_type": "markdown",
   "id": "9cef1d4a",
   "metadata": {
    "id": "9cef1d4a"
   },
   "source": [
    "# Data Preparation (15 Points)"
   ]
  },
  {
   "cell_type": "markdown",
   "id": "f3240d5d",
   "metadata": {
    "id": "f3240d5d"
   },
   "source": [
    "In this section you must first split data into three datasets:\n",
    "<br>\n",
    "1- clinical dataset\n",
    "<br>\n",
    "2- gene expressions dataset\n",
    "<br>\n",
    "3- gene mutation dataset. (We will not use this dataset in further steps of the project)"
   ]
  },
  {
   "cell_type": "markdown",
   "id": "cc42f2b1",
   "metadata": {
    "id": "cc42f2b1"
   },
   "source": [
    "## Data Loading & Splitting"
   ]
  },
  {
   "cell_type": "code",
   "execution_count": 4,
   "id": "463b243b",
   "metadata": {
    "colab": {
     "base_uri": "https://localhost:8080/",
     "height": 404
    },
    "id": "463b243b",
    "outputId": "0a9a21cf-8dbf-4860-e2c6-8b47d54c516c"
   },
   "outputs": [
    {
     "data": {
      "text/html": [
       "<div>\n",
       "<style scoped>\n",
       "    .dataframe tbody tr th:only-of-type {\n",
       "        vertical-align: middle;\n",
       "    }\n",
       "\n",
       "    .dataframe tbody tr th {\n",
       "        vertical-align: top;\n",
       "    }\n",
       "\n",
       "    .dataframe thead th {\n",
       "        text-align: right;\n",
       "    }\n",
       "</style>\n",
       "<table border=\"1\" class=\"dataframe\">\n",
       "  <thead>\n",
       "    <tr style=\"text-align: right;\">\n",
       "      <th></th>\n",
       "      <th>patient_id</th>\n",
       "      <th>age_at_diagnosis</th>\n",
       "      <th>type_of_breast_surgery</th>\n",
       "      <th>cancer_type</th>\n",
       "      <th>cancer_type_detailed</th>\n",
       "      <th>cellularity</th>\n",
       "      <th>chemotherapy</th>\n",
       "      <th>pam50_+_claudin-low_subtype</th>\n",
       "      <th>cohort</th>\n",
       "      <th>er_status_measured_by_ihc</th>\n",
       "      <th>...</th>\n",
       "      <th>mtap_mut</th>\n",
       "      <th>ppp2cb_mut</th>\n",
       "      <th>smarcd1_mut</th>\n",
       "      <th>nras_mut</th>\n",
       "      <th>ndfip1_mut</th>\n",
       "      <th>hras_mut</th>\n",
       "      <th>prps2_mut</th>\n",
       "      <th>smarcb1_mut</th>\n",
       "      <th>stmn2_mut</th>\n",
       "      <th>siah1_mut</th>\n",
       "    </tr>\n",
       "  </thead>\n",
       "  <tbody>\n",
       "    <tr>\n",
       "      <th>0</th>\n",
       "      <td>0</td>\n",
       "      <td>75.65</td>\n",
       "      <td>MASTECTOMY</td>\n",
       "      <td>Breast Cancer</td>\n",
       "      <td>Breast Invasive Ductal Carcinoma</td>\n",
       "      <td>NaN</td>\n",
       "      <td>0</td>\n",
       "      <td>claudin-low</td>\n",
       "      <td>1.0</td>\n",
       "      <td>Positve</td>\n",
       "      <td>...</td>\n",
       "      <td>0</td>\n",
       "      <td>0</td>\n",
       "      <td>0</td>\n",
       "      <td>0</td>\n",
       "      <td>0</td>\n",
       "      <td>0</td>\n",
       "      <td>0</td>\n",
       "      <td>0</td>\n",
       "      <td>0</td>\n",
       "      <td>0</td>\n",
       "    </tr>\n",
       "    <tr>\n",
       "      <th>1</th>\n",
       "      <td>2</td>\n",
       "      <td>43.19</td>\n",
       "      <td>BREAST CONSERVING</td>\n",
       "      <td>Breast Cancer</td>\n",
       "      <td>Breast Invasive Ductal Carcinoma</td>\n",
       "      <td>High</td>\n",
       "      <td>0</td>\n",
       "      <td>LumA</td>\n",
       "      <td>1.0</td>\n",
       "      <td>Positve</td>\n",
       "      <td>...</td>\n",
       "      <td>0</td>\n",
       "      <td>0</td>\n",
       "      <td>0</td>\n",
       "      <td>0</td>\n",
       "      <td>0</td>\n",
       "      <td>0</td>\n",
       "      <td>0</td>\n",
       "      <td>0</td>\n",
       "      <td>0</td>\n",
       "      <td>0</td>\n",
       "    </tr>\n",
       "    <tr>\n",
       "      <th>2</th>\n",
       "      <td>5</td>\n",
       "      <td>48.87</td>\n",
       "      <td>MASTECTOMY</td>\n",
       "      <td>Breast Cancer</td>\n",
       "      <td>Breast Invasive Ductal Carcinoma</td>\n",
       "      <td>High</td>\n",
       "      <td>1</td>\n",
       "      <td>LumB</td>\n",
       "      <td>1.0</td>\n",
       "      <td>Positve</td>\n",
       "      <td>...</td>\n",
       "      <td>0</td>\n",
       "      <td>0</td>\n",
       "      <td>0</td>\n",
       "      <td>0</td>\n",
       "      <td>0</td>\n",
       "      <td>0</td>\n",
       "      <td>0</td>\n",
       "      <td>0</td>\n",
       "      <td>0</td>\n",
       "      <td>0</td>\n",
       "    </tr>\n",
       "    <tr>\n",
       "      <th>3</th>\n",
       "      <td>6</td>\n",
       "      <td>47.68</td>\n",
       "      <td>MASTECTOMY</td>\n",
       "      <td>Breast Cancer</td>\n",
       "      <td>Breast Mixed Ductal and Lobular Carcinoma</td>\n",
       "      <td>Moderate</td>\n",
       "      <td>1</td>\n",
       "      <td>LumB</td>\n",
       "      <td>1.0</td>\n",
       "      <td>Positve</td>\n",
       "      <td>...</td>\n",
       "      <td>0</td>\n",
       "      <td>0</td>\n",
       "      <td>0</td>\n",
       "      <td>0</td>\n",
       "      <td>0</td>\n",
       "      <td>0</td>\n",
       "      <td>0</td>\n",
       "      <td>0</td>\n",
       "      <td>0</td>\n",
       "      <td>0</td>\n",
       "    </tr>\n",
       "    <tr>\n",
       "      <th>4</th>\n",
       "      <td>8</td>\n",
       "      <td>76.97</td>\n",
       "      <td>MASTECTOMY</td>\n",
       "      <td>Breast Cancer</td>\n",
       "      <td>Breast Mixed Ductal and Lobular Carcinoma</td>\n",
       "      <td>High</td>\n",
       "      <td>1</td>\n",
       "      <td>LumB</td>\n",
       "      <td>1.0</td>\n",
       "      <td>Positve</td>\n",
       "      <td>...</td>\n",
       "      <td>0</td>\n",
       "      <td>0</td>\n",
       "      <td>0</td>\n",
       "      <td>0</td>\n",
       "      <td>0</td>\n",
       "      <td>0</td>\n",
       "      <td>0</td>\n",
       "      <td>0</td>\n",
       "      <td>0</td>\n",
       "      <td>0</td>\n",
       "    </tr>\n",
       "  </tbody>\n",
       "</table>\n",
       "<p>5 rows × 693 columns</p>\n",
       "</div>"
      ],
      "text/plain": [
       "   patient_id  age_at_diagnosis type_of_breast_surgery    cancer_type  \\\n",
       "0           0             75.65             MASTECTOMY  Breast Cancer   \n",
       "1           2             43.19      BREAST CONSERVING  Breast Cancer   \n",
       "2           5             48.87             MASTECTOMY  Breast Cancer   \n",
       "3           6             47.68             MASTECTOMY  Breast Cancer   \n",
       "4           8             76.97             MASTECTOMY  Breast Cancer   \n",
       "\n",
       "                        cancer_type_detailed cellularity  chemotherapy  \\\n",
       "0           Breast Invasive Ductal Carcinoma         NaN             0   \n",
       "1           Breast Invasive Ductal Carcinoma        High             0   \n",
       "2           Breast Invasive Ductal Carcinoma        High             1   \n",
       "3  Breast Mixed Ductal and Lobular Carcinoma    Moderate             1   \n",
       "4  Breast Mixed Ductal and Lobular Carcinoma        High             1   \n",
       "\n",
       "  pam50_+_claudin-low_subtype  cohort er_status_measured_by_ihc  ... mtap_mut  \\\n",
       "0                 claudin-low     1.0                   Positve  ...        0   \n",
       "1                        LumA     1.0                   Positve  ...        0   \n",
       "2                        LumB     1.0                   Positve  ...        0   \n",
       "3                        LumB     1.0                   Positve  ...        0   \n",
       "4                        LumB     1.0                   Positve  ...        0   \n",
       "\n",
       "   ppp2cb_mut smarcd1_mut nras_mut ndfip1_mut  hras_mut prps2_mut smarcb1_mut  \\\n",
       "0           0           0        0          0         0         0           0   \n",
       "1           0           0        0          0         0         0           0   \n",
       "2           0           0        0          0         0         0           0   \n",
       "3           0           0        0          0         0         0           0   \n",
       "4           0           0        0          0         0         0           0   \n",
       "\n",
       "  stmn2_mut  siah1_mut  \n",
       "0         0          0  \n",
       "1         0          0  \n",
       "2         0          0  \n",
       "3         0          0  \n",
       "4         0          0  \n",
       "\n",
       "[5 rows x 693 columns]"
      ]
     },
     "execution_count": 4,
     "metadata": {},
     "output_type": "execute_result"
    }
   ],
   "source": [
    "# TODO\n",
    "df = pd.read_csv('METABRIC_RNA_Mutation.csv', low_memory=False)\n",
    "df.head(5)"
   ]
  },
  {
   "cell_type": "code",
   "execution_count": 5,
   "id": "3468645e",
   "metadata": {
    "colab": {
     "base_uri": "https://localhost:8080/"
    },
    "id": "3468645e",
    "outputId": "eefa0c60-d8b3-454d-f1a5-fa9d1ba16e40"
   },
   "outputs": [
    {
     "name": "stdout",
     "output_type": "stream",
     "text": [
      "Number of clinical columns 31\n",
      "Number of gene expression columns 489\n",
      "Number of gene mutation columns 173\n"
     ]
    }
   ],
   "source": [
    "# Get column names for clinical, gene expression and gene mutation datasets\n",
    "\n",
    "columns = df.columns\n",
    "clinical_columns = columns[:31]\n",
    "clinical_data_columns = df.columns[:24].append(df.columns[25:30])\n",
    "label_column = columns[24]\n",
    "gene_columns = columns[31:]\n",
    "gene_mut_columns = pd.Index(filter(lambda s: s.endswith('_mut'),columns))\n",
    "gene_expr_columns = pd.Index(set(gene_columns) - set(gene_mut_columns))\n",
    "\n",
    "print(f'Number of clinical columns {len(clinical_columns)}')\n",
    "print(f'Number of gene expression columns {len(gene_expr_columns)}')\n",
    "print(f'Number of gene mutation columns {len(gene_mut_columns)}')"
   ]
  },
  {
   "cell_type": "code",
   "execution_count": 6,
   "id": "7c9ea55a",
   "metadata": {
    "id": "7c9ea55a"
   },
   "outputs": [],
   "source": [
    "clinical_dataset = df[clinical_columns]\n",
    "gene_expr_dataset = df[gene_expr_columns]\n",
    "gene_mut_dataset = df[gene_mut_columns]"
   ]
  },
  {
   "cell_type": "markdown",
   "id": "aebfdb6b",
   "metadata": {
    "id": "aebfdb6b"
   },
   "source": [
    "## EDA"
   ]
  },
  {
   "cell_type": "markdown",
   "id": "e87d59d7",
   "metadata": {
    "id": "e87d59d7"
   },
   "source": [
    "For each dataset, you must perform a sufficient EDA."
   ]
  },
  {
   "cell_type": "code",
   "execution_count": 7,
   "id": "d3815455",
   "metadata": {
    "colab": {
     "base_uri": "https://localhost:8080/"
    },
    "id": "d3815455",
    "outputId": "d5469703-3858-4721-9bd3-8440d1c14727"
   },
   "outputs": [
    {
     "name": "stdout",
     "output_type": "stream",
     "text": [
      "<class 'pandas.core.frame.DataFrame'>\n",
      "RangeIndex: 1904 entries, 0 to 1903\n",
      "Data columns (total 31 columns):\n",
      " #   Column                          Non-Null Count  Dtype  \n",
      "---  ------                          --------------  -----  \n",
      " 0   patient_id                      1904 non-null   int64  \n",
      " 1   age_at_diagnosis                1904 non-null   float64\n",
      " 2   type_of_breast_surgery          1882 non-null   object \n",
      " 3   cancer_type                     1904 non-null   object \n",
      " 4   cancer_type_detailed            1889 non-null   object \n",
      " 5   cellularity                     1850 non-null   object \n",
      " 6   chemotherapy                    1904 non-null   int64  \n",
      " 7   pam50_+_claudin-low_subtype     1904 non-null   object \n",
      " 8   cohort                          1904 non-null   float64\n",
      " 9   er_status_measured_by_ihc       1874 non-null   object \n",
      " 10  er_status                       1904 non-null   object \n",
      " 11  neoplasm_histologic_grade       1832 non-null   float64\n",
      " 12  her2_status_measured_by_snp6    1904 non-null   object \n",
      " 13  her2_status                     1904 non-null   object \n",
      " 14  tumor_other_histologic_subtype  1889 non-null   object \n",
      " 15  hormone_therapy                 1904 non-null   int64  \n",
      " 16  inferred_menopausal_state       1904 non-null   object \n",
      " 17  integrative_cluster             1904 non-null   object \n",
      " 18  primary_tumor_laterality        1798 non-null   object \n",
      " 19  lymph_nodes_examined_positive   1904 non-null   float64\n",
      " 20  mutation_count                  1859 non-null   float64\n",
      " 21  nottingham_prognostic_index     1904 non-null   float64\n",
      " 22  oncotree_code                   1889 non-null   object \n",
      " 23  overall_survival_months         1904 non-null   float64\n",
      " 24  overall_survival                1904 non-null   int64  \n",
      " 25  pr_status                       1904 non-null   object \n",
      " 26  radio_therapy                   1904 non-null   int64  \n",
      " 27  3-gene_classifier_subtype       1700 non-null   object \n",
      " 28  tumor_size                      1884 non-null   float64\n",
      " 29  tumor_stage                     1403 non-null   float64\n",
      " 30  death_from_cancer               1903 non-null   object \n",
      "dtypes: float64(9), int64(5), object(17)\n",
      "memory usage: 461.2+ KB\n"
     ]
    }
   ],
   "source": [
    "clinical_dataset.info()"
   ]
  },
  {
   "cell_type": "code",
   "execution_count": 8,
   "id": "1f838902",
   "metadata": {
    "colab": {
     "base_uri": "https://localhost:8080/",
     "height": 364
    },
    "id": "1f838902",
    "outputId": "27089416-58f1-4075-9e5a-f024a86654b7"
   },
   "outputs": [
    {
     "data": {
      "text/html": [
       "<div>\n",
       "<style scoped>\n",
       "    .dataframe tbody tr th:only-of-type {\n",
       "        vertical-align: middle;\n",
       "    }\n",
       "\n",
       "    .dataframe tbody tr th {\n",
       "        vertical-align: top;\n",
       "    }\n",
       "\n",
       "    .dataframe thead th {\n",
       "        text-align: right;\n",
       "    }\n",
       "</style>\n",
       "<table border=\"1\" class=\"dataframe\">\n",
       "  <thead>\n",
       "    <tr style=\"text-align: right;\">\n",
       "      <th></th>\n",
       "      <th>patient_id</th>\n",
       "      <th>age_at_diagnosis</th>\n",
       "      <th>chemotherapy</th>\n",
       "      <th>cohort</th>\n",
       "      <th>neoplasm_histologic_grade</th>\n",
       "      <th>hormone_therapy</th>\n",
       "      <th>lymph_nodes_examined_positive</th>\n",
       "      <th>mutation_count</th>\n",
       "      <th>nottingham_prognostic_index</th>\n",
       "      <th>overall_survival_months</th>\n",
       "      <th>overall_survival</th>\n",
       "      <th>radio_therapy</th>\n",
       "      <th>tumor_size</th>\n",
       "      <th>tumor_stage</th>\n",
       "    </tr>\n",
       "  </thead>\n",
       "  <tbody>\n",
       "    <tr>\n",
       "      <th>count</th>\n",
       "      <td>1904.000000</td>\n",
       "      <td>1904.000000</td>\n",
       "      <td>1904.000000</td>\n",
       "      <td>1904.000000</td>\n",
       "      <td>1832.000000</td>\n",
       "      <td>1904.000000</td>\n",
       "      <td>1904.000000</td>\n",
       "      <td>1859.000000</td>\n",
       "      <td>1904.000000</td>\n",
       "      <td>1904.000000</td>\n",
       "      <td>1904.000000</td>\n",
       "      <td>1904.000000</td>\n",
       "      <td>1884.000000</td>\n",
       "      <td>1403.000000</td>\n",
       "    </tr>\n",
       "    <tr>\n",
       "      <th>mean</th>\n",
       "      <td>3921.982143</td>\n",
       "      <td>61.087054</td>\n",
       "      <td>0.207983</td>\n",
       "      <td>2.643908</td>\n",
       "      <td>2.415939</td>\n",
       "      <td>0.616597</td>\n",
       "      <td>2.002101</td>\n",
       "      <td>5.697687</td>\n",
       "      <td>4.033019</td>\n",
       "      <td>125.121324</td>\n",
       "      <td>0.420693</td>\n",
       "      <td>0.597164</td>\n",
       "      <td>26.238726</td>\n",
       "      <td>1.750535</td>\n",
       "    </tr>\n",
       "    <tr>\n",
       "      <th>std</th>\n",
       "      <td>2358.478332</td>\n",
       "      <td>12.978711</td>\n",
       "      <td>0.405971</td>\n",
       "      <td>1.228615</td>\n",
       "      <td>0.650612</td>\n",
       "      <td>0.486343</td>\n",
       "      <td>4.079993</td>\n",
       "      <td>4.058778</td>\n",
       "      <td>1.144492</td>\n",
       "      <td>76.334148</td>\n",
       "      <td>0.493800</td>\n",
       "      <td>0.490597</td>\n",
       "      <td>15.160976</td>\n",
       "      <td>0.628999</td>\n",
       "    </tr>\n",
       "    <tr>\n",
       "      <th>min</th>\n",
       "      <td>0.000000</td>\n",
       "      <td>21.930000</td>\n",
       "      <td>0.000000</td>\n",
       "      <td>1.000000</td>\n",
       "      <td>1.000000</td>\n",
       "      <td>0.000000</td>\n",
       "      <td>0.000000</td>\n",
       "      <td>1.000000</td>\n",
       "      <td>1.000000</td>\n",
       "      <td>0.000000</td>\n",
       "      <td>0.000000</td>\n",
       "      <td>0.000000</td>\n",
       "      <td>1.000000</td>\n",
       "      <td>0.000000</td>\n",
       "    </tr>\n",
       "    <tr>\n",
       "      <th>25%</th>\n",
       "      <td>896.500000</td>\n",
       "      <td>51.375000</td>\n",
       "      <td>0.000000</td>\n",
       "      <td>1.000000</td>\n",
       "      <td>2.000000</td>\n",
       "      <td>0.000000</td>\n",
       "      <td>0.000000</td>\n",
       "      <td>3.000000</td>\n",
       "      <td>3.046000</td>\n",
       "      <td>60.825000</td>\n",
       "      <td>0.000000</td>\n",
       "      <td>0.000000</td>\n",
       "      <td>17.000000</td>\n",
       "      <td>1.000000</td>\n",
       "    </tr>\n",
       "    <tr>\n",
       "      <th>50%</th>\n",
       "      <td>4730.500000</td>\n",
       "      <td>61.770000</td>\n",
       "      <td>0.000000</td>\n",
       "      <td>3.000000</td>\n",
       "      <td>3.000000</td>\n",
       "      <td>1.000000</td>\n",
       "      <td>0.000000</td>\n",
       "      <td>5.000000</td>\n",
       "      <td>4.042000</td>\n",
       "      <td>115.616667</td>\n",
       "      <td>0.000000</td>\n",
       "      <td>1.000000</td>\n",
       "      <td>23.000000</td>\n",
       "      <td>2.000000</td>\n",
       "    </tr>\n",
       "    <tr>\n",
       "      <th>75%</th>\n",
       "      <td>5536.250000</td>\n",
       "      <td>70.592500</td>\n",
       "      <td>0.000000</td>\n",
       "      <td>3.000000</td>\n",
       "      <td>3.000000</td>\n",
       "      <td>1.000000</td>\n",
       "      <td>2.000000</td>\n",
       "      <td>7.000000</td>\n",
       "      <td>5.040250</td>\n",
       "      <td>184.716667</td>\n",
       "      <td>1.000000</td>\n",
       "      <td>1.000000</td>\n",
       "      <td>30.000000</td>\n",
       "      <td>2.000000</td>\n",
       "    </tr>\n",
       "    <tr>\n",
       "      <th>max</th>\n",
       "      <td>7299.000000</td>\n",
       "      <td>96.290000</td>\n",
       "      <td>1.000000</td>\n",
       "      <td>5.000000</td>\n",
       "      <td>3.000000</td>\n",
       "      <td>1.000000</td>\n",
       "      <td>45.000000</td>\n",
       "      <td>80.000000</td>\n",
       "      <td>6.360000</td>\n",
       "      <td>355.200000</td>\n",
       "      <td>1.000000</td>\n",
       "      <td>1.000000</td>\n",
       "      <td>182.000000</td>\n",
       "      <td>4.000000</td>\n",
       "    </tr>\n",
       "  </tbody>\n",
       "</table>\n",
       "</div>"
      ],
      "text/plain": [
       "        patient_id  age_at_diagnosis  chemotherapy       cohort  \\\n",
       "count  1904.000000       1904.000000   1904.000000  1904.000000   \n",
       "mean   3921.982143         61.087054      0.207983     2.643908   \n",
       "std    2358.478332         12.978711      0.405971     1.228615   \n",
       "min       0.000000         21.930000      0.000000     1.000000   \n",
       "25%     896.500000         51.375000      0.000000     1.000000   \n",
       "50%    4730.500000         61.770000      0.000000     3.000000   \n",
       "75%    5536.250000         70.592500      0.000000     3.000000   \n",
       "max    7299.000000         96.290000      1.000000     5.000000   \n",
       "\n",
       "       neoplasm_histologic_grade  hormone_therapy  \\\n",
       "count                1832.000000      1904.000000   \n",
       "mean                    2.415939         0.616597   \n",
       "std                     0.650612         0.486343   \n",
       "min                     1.000000         0.000000   \n",
       "25%                     2.000000         0.000000   \n",
       "50%                     3.000000         1.000000   \n",
       "75%                     3.000000         1.000000   \n",
       "max                     3.000000         1.000000   \n",
       "\n",
       "       lymph_nodes_examined_positive  mutation_count  \\\n",
       "count                    1904.000000     1859.000000   \n",
       "mean                        2.002101        5.697687   \n",
       "std                         4.079993        4.058778   \n",
       "min                         0.000000        1.000000   \n",
       "25%                         0.000000        3.000000   \n",
       "50%                         0.000000        5.000000   \n",
       "75%                         2.000000        7.000000   \n",
       "max                        45.000000       80.000000   \n",
       "\n",
       "       nottingham_prognostic_index  overall_survival_months  overall_survival  \\\n",
       "count                  1904.000000              1904.000000       1904.000000   \n",
       "mean                      4.033019               125.121324          0.420693   \n",
       "std                       1.144492                76.334148          0.493800   \n",
       "min                       1.000000                 0.000000          0.000000   \n",
       "25%                       3.046000                60.825000          0.000000   \n",
       "50%                       4.042000               115.616667          0.000000   \n",
       "75%                       5.040250               184.716667          1.000000   \n",
       "max                       6.360000               355.200000          1.000000   \n",
       "\n",
       "       radio_therapy   tumor_size  tumor_stage  \n",
       "count    1904.000000  1884.000000  1403.000000  \n",
       "mean        0.597164    26.238726     1.750535  \n",
       "std         0.490597    15.160976     0.628999  \n",
       "min         0.000000     1.000000     0.000000  \n",
       "25%         0.000000    17.000000     1.000000  \n",
       "50%         1.000000    23.000000     2.000000  \n",
       "75%         1.000000    30.000000     2.000000  \n",
       "max         1.000000   182.000000     4.000000  "
      ]
     },
     "execution_count": 8,
     "metadata": {},
     "output_type": "execute_result"
    }
   ],
   "source": [
    "clinical_dataset.describe()"
   ]
  },
  {
   "cell_type": "code",
   "execution_count": 9,
   "id": "539e4ddf",
   "metadata": {
    "colab": {
     "base_uri": "https://localhost:8080/"
    },
    "id": "539e4ddf",
    "outputId": "bcdec4fc-5f21-4cb7-b6bf-841f76bd33e8"
   },
   "outputs": [
    {
     "name": "stdout",
     "output_type": "stream",
     "text": [
      "<class 'pandas.core.frame.DataFrame'>\n",
      "RangeIndex: 1904 entries, 0 to 1903\n",
      "Columns: 489 entries, prkg1 to casp9\n",
      "dtypes: float64(489)\n",
      "memory usage: 7.1 MB\n"
     ]
    }
   ],
   "source": [
    "gene_expr_dataset.info()"
   ]
  },
  {
   "cell_type": "code",
   "execution_count": 10,
   "id": "9a290365",
   "metadata": {
    "colab": {
     "base_uri": "https://localhost:8080/",
     "height": 394
    },
    "id": "9a290365",
    "outputId": "3010c27f-ca55-4194-a387-e3f97a4a4fd8"
   },
   "outputs": [
    {
     "data": {
      "text/html": [
       "<div>\n",
       "<style scoped>\n",
       "    .dataframe tbody tr th:only-of-type {\n",
       "        vertical-align: middle;\n",
       "    }\n",
       "\n",
       "    .dataframe tbody tr th {\n",
       "        vertical-align: top;\n",
       "    }\n",
       "\n",
       "    .dataframe thead th {\n",
       "        text-align: right;\n",
       "    }\n",
       "</style>\n",
       "<table border=\"1\" class=\"dataframe\">\n",
       "  <thead>\n",
       "    <tr style=\"text-align: right;\">\n",
       "      <th></th>\n",
       "      <th>prkg1</th>\n",
       "      <th>gdf11</th>\n",
       "      <th>mapk7</th>\n",
       "      <th>numbl</th>\n",
       "      <th>mmp1</th>\n",
       "      <th>col12a1</th>\n",
       "      <th>acvr1c</th>\n",
       "      <th>mapk3</th>\n",
       "      <th>magea8</th>\n",
       "      <th>nek1</th>\n",
       "      <th>...</th>\n",
       "      <th>prkd1</th>\n",
       "      <th>igf1</th>\n",
       "      <th>ctcf</th>\n",
       "      <th>bmpr1a</th>\n",
       "      <th>fbxw7</th>\n",
       "      <th>casp6</th>\n",
       "      <th>pdgfb</th>\n",
       "      <th>mapk14</th>\n",
       "      <th>tgfbr3</th>\n",
       "      <th>casp9</th>\n",
       "    </tr>\n",
       "  </thead>\n",
       "  <tbody>\n",
       "    <tr>\n",
       "      <th>count</th>\n",
       "      <td>1.904000e+03</td>\n",
       "      <td>1.904000e+03</td>\n",
       "      <td>1.904000e+03</td>\n",
       "      <td>1.904000e+03</td>\n",
       "      <td>1.904000e+03</td>\n",
       "      <td>1904.000000</td>\n",
       "      <td>1.904000e+03</td>\n",
       "      <td>1.904000e+03</td>\n",
       "      <td>1.904000e+03</td>\n",
       "      <td>1.904000e+03</td>\n",
       "      <td>...</td>\n",
       "      <td>1.904000e+03</td>\n",
       "      <td>1.904000e+03</td>\n",
       "      <td>1.904000e+03</td>\n",
       "      <td>1.904000e+03</td>\n",
       "      <td>1904.000000</td>\n",
       "      <td>1.904000e+03</td>\n",
       "      <td>1.904000e+03</td>\n",
       "      <td>1904.000000</td>\n",
       "      <td>1.904000e+03</td>\n",
       "      <td>1.904000e+03</td>\n",
       "    </tr>\n",
       "    <tr>\n",
       "      <th>mean</th>\n",
       "      <td>1.050420e-07</td>\n",
       "      <td>-5.252101e-08</td>\n",
       "      <td>-2.100840e-07</td>\n",
       "      <td>-3.151261e-07</td>\n",
       "      <td>-9.453782e-07</td>\n",
       "      <td>0.000002</td>\n",
       "      <td>-6.827731e-07</td>\n",
       "      <td>-9.453782e-07</td>\n",
       "      <td>5.777311e-07</td>\n",
       "      <td>3.676471e-07</td>\n",
       "      <td>...</td>\n",
       "      <td>-3.151261e-07</td>\n",
       "      <td>6.302521e-07</td>\n",
       "      <td>-2.626050e-07</td>\n",
       "      <td>-2.100840e-07</td>\n",
       "      <td>0.000001</td>\n",
       "      <td>9.978992e-07</td>\n",
       "      <td>-2.100840e-07</td>\n",
       "      <td>-0.000002</td>\n",
       "      <td>-3.676471e-07</td>\n",
       "      <td>-1.575630e-07</td>\n",
       "    </tr>\n",
       "    <tr>\n",
       "      <th>std</th>\n",
       "      <td>1.000263e+00</td>\n",
       "      <td>1.000263e+00</td>\n",
       "      <td>1.000262e+00</td>\n",
       "      <td>1.000264e+00</td>\n",
       "      <td>1.000264e+00</td>\n",
       "      <td>1.000263</td>\n",
       "      <td>1.000262e+00</td>\n",
       "      <td>1.000263e+00</td>\n",
       "      <td>1.000264e+00</td>\n",
       "      <td>1.000261e+00</td>\n",
       "      <td>...</td>\n",
       "      <td>1.000262e+00</td>\n",
       "      <td>1.000263e+00</td>\n",
       "      <td>1.000264e+00</td>\n",
       "      <td>1.000263e+00</td>\n",
       "      <td>1.000264</td>\n",
       "      <td>1.000262e+00</td>\n",
       "      <td>1.000262e+00</td>\n",
       "      <td>1.000264</td>\n",
       "      <td>1.000263e+00</td>\n",
       "      <td>1.000264e+00</td>\n",
       "    </tr>\n",
       "    <tr>\n",
       "      <th>min</th>\n",
       "      <td>-4.039200e+00</td>\n",
       "      <td>-2.846200e+00</td>\n",
       "      <td>-2.924100e+00</td>\n",
       "      <td>-2.722700e+00</td>\n",
       "      <td>-1.377000e+00</td>\n",
       "      <td>-2.843000</td>\n",
       "      <td>-3.257400e+00</td>\n",
       "      <td>-3.142100e+00</td>\n",
       "      <td>-1.215800e+00</td>\n",
       "      <td>-3.610800e+00</td>\n",
       "      <td>...</td>\n",
       "      <td>-2.419500e+00</td>\n",
       "      <td>-1.604600e+00</td>\n",
       "      <td>-5.433400e+00</td>\n",
       "      <td>-4.123400e+00</td>\n",
       "      <td>-2.071300</td>\n",
       "      <td>-3.371700e+00</td>\n",
       "      <td>-2.635500e+00</td>\n",
       "      <td>-2.936700</td>\n",
       "      <td>-2.124300e+00</td>\n",
       "      <td>-3.559600e+00</td>\n",
       "    </tr>\n",
       "    <tr>\n",
       "      <th>25%</th>\n",
       "      <td>-6.861500e-01</td>\n",
       "      <td>-6.518500e-01</td>\n",
       "      <td>-6.466250e-01</td>\n",
       "      <td>-6.519500e-01</td>\n",
       "      <td>-5.916750e-01</td>\n",
       "      <td>-0.724900</td>\n",
       "      <td>-6.606250e-01</td>\n",
       "      <td>-6.584750e-01</td>\n",
       "      <td>-3.147500e-01</td>\n",
       "      <td>-6.815500e-01</td>\n",
       "      <td>...</td>\n",
       "      <td>-7.258750e-01</td>\n",
       "      <td>-6.649750e-01</td>\n",
       "      <td>-6.245000e-01</td>\n",
       "      <td>-5.746500e-01</td>\n",
       "      <td>-0.701950</td>\n",
       "      <td>-6.667000e-01</td>\n",
       "      <td>-6.703750e-01</td>\n",
       "      <td>-0.731475</td>\n",
       "      <td>-7.889000e-01</td>\n",
       "      <td>-6.641500e-01</td>\n",
       "    </tr>\n",
       "    <tr>\n",
       "      <th>50%</th>\n",
       "      <td>-5.055000e-02</td>\n",
       "      <td>-1.695000e-01</td>\n",
       "      <td>-6.985000e-02</td>\n",
       "      <td>-8.120000e-02</td>\n",
       "      <td>-3.603500e-01</td>\n",
       "      <td>0.001200</td>\n",
       "      <td>-4.520000e-02</td>\n",
       "      <td>-9.600000e-03</td>\n",
       "      <td>-1.283500e-01</td>\n",
       "      <td>-1.835000e-02</td>\n",
       "      <td>...</td>\n",
       "      <td>-7.310000e-02</td>\n",
       "      <td>-2.852500e-01</td>\n",
       "      <td>-6.150000e-03</td>\n",
       "      <td>1.685000e-02</td>\n",
       "      <td>-0.141250</td>\n",
       "      <td>-7.000000e-04</td>\n",
       "      <td>-1.689500e-01</td>\n",
       "      <td>-0.045100</td>\n",
       "      <td>-8.895000e-02</td>\n",
       "      <td>5.500000e-03</td>\n",
       "    </tr>\n",
       "    <tr>\n",
       "      <th>75%</th>\n",
       "      <td>6.064500e-01</td>\n",
       "      <td>4.389000e-01</td>\n",
       "      <td>5.482500e-01</td>\n",
       "      <td>5.286500e-01</td>\n",
       "      <td>1.817000e-01</td>\n",
       "      <td>0.747600</td>\n",
       "      <td>5.924000e-01</td>\n",
       "      <td>6.262000e-01</td>\n",
       "      <td>8.167500e-02</td>\n",
       "      <td>6.679000e-01</td>\n",
       "      <td>...</td>\n",
       "      <td>6.503500e-01</td>\n",
       "      <td>3.383500e-01</td>\n",
       "      <td>5.982000e-01</td>\n",
       "      <td>5.928750e-01</td>\n",
       "      <td>0.562725</td>\n",
       "      <td>6.720500e-01</td>\n",
       "      <td>5.515250e-01</td>\n",
       "      <td>0.671800</td>\n",
       "      <td>7.052500e-01</td>\n",
       "      <td>6.325750e-01</td>\n",
       "    </tr>\n",
       "    <tr>\n",
       "      <th>max</th>\n",
       "      <td>5.169200e+00</td>\n",
       "      <td>5.457000e+00</td>\n",
       "      <td>6.626600e+00</td>\n",
       "      <td>5.572100e+00</td>\n",
       "      <td>6.282700e+00</td>\n",
       "      <td>2.608800</td>\n",
       "      <td>8.701400e+00</td>\n",
       "      <td>4.722900e+00</td>\n",
       "      <td>1.268170e+01</td>\n",
       "      <td>3.810600e+00</td>\n",
       "      <td>...</td>\n",
       "      <td>3.775700e+00</td>\n",
       "      <td>7.465700e+00</td>\n",
       "      <td>8.072400e+00</td>\n",
       "      <td>7.268300e+00</td>\n",
       "      <td>4.713900</td>\n",
       "      <td>3.519200e+00</td>\n",
       "      <td>4.405900e+00</td>\n",
       "      <td>3.990100</td>\n",
       "      <td>3.307700e+00</td>\n",
       "      <td>4.173200e+00</td>\n",
       "    </tr>\n",
       "  </tbody>\n",
       "</table>\n",
       "<p>8 rows × 489 columns</p>\n",
       "</div>"
      ],
      "text/plain": [
       "              prkg1         gdf11         mapk7         numbl          mmp1  \\\n",
       "count  1.904000e+03  1.904000e+03  1.904000e+03  1.904000e+03  1.904000e+03   \n",
       "mean   1.050420e-07 -5.252101e-08 -2.100840e-07 -3.151261e-07 -9.453782e-07   \n",
       "std    1.000263e+00  1.000263e+00  1.000262e+00  1.000264e+00  1.000264e+00   \n",
       "min   -4.039200e+00 -2.846200e+00 -2.924100e+00 -2.722700e+00 -1.377000e+00   \n",
       "25%   -6.861500e-01 -6.518500e-01 -6.466250e-01 -6.519500e-01 -5.916750e-01   \n",
       "50%   -5.055000e-02 -1.695000e-01 -6.985000e-02 -8.120000e-02 -3.603500e-01   \n",
       "75%    6.064500e-01  4.389000e-01  5.482500e-01  5.286500e-01  1.817000e-01   \n",
       "max    5.169200e+00  5.457000e+00  6.626600e+00  5.572100e+00  6.282700e+00   \n",
       "\n",
       "           col12a1        acvr1c         mapk3        magea8          nek1  \\\n",
       "count  1904.000000  1.904000e+03  1.904000e+03  1.904000e+03  1.904000e+03   \n",
       "mean      0.000002 -6.827731e-07 -9.453782e-07  5.777311e-07  3.676471e-07   \n",
       "std       1.000263  1.000262e+00  1.000263e+00  1.000264e+00  1.000261e+00   \n",
       "min      -2.843000 -3.257400e+00 -3.142100e+00 -1.215800e+00 -3.610800e+00   \n",
       "25%      -0.724900 -6.606250e-01 -6.584750e-01 -3.147500e-01 -6.815500e-01   \n",
       "50%       0.001200 -4.520000e-02 -9.600000e-03 -1.283500e-01 -1.835000e-02   \n",
       "75%       0.747600  5.924000e-01  6.262000e-01  8.167500e-02  6.679000e-01   \n",
       "max       2.608800  8.701400e+00  4.722900e+00  1.268170e+01  3.810600e+00   \n",
       "\n",
       "       ...         prkd1          igf1          ctcf        bmpr1a  \\\n",
       "count  ...  1.904000e+03  1.904000e+03  1.904000e+03  1.904000e+03   \n",
       "mean   ... -3.151261e-07  6.302521e-07 -2.626050e-07 -2.100840e-07   \n",
       "std    ...  1.000262e+00  1.000263e+00  1.000264e+00  1.000263e+00   \n",
       "min    ... -2.419500e+00 -1.604600e+00 -5.433400e+00 -4.123400e+00   \n",
       "25%    ... -7.258750e-01 -6.649750e-01 -6.245000e-01 -5.746500e-01   \n",
       "50%    ... -7.310000e-02 -2.852500e-01 -6.150000e-03  1.685000e-02   \n",
       "75%    ...  6.503500e-01  3.383500e-01  5.982000e-01  5.928750e-01   \n",
       "max    ...  3.775700e+00  7.465700e+00  8.072400e+00  7.268300e+00   \n",
       "\n",
       "             fbxw7         casp6         pdgfb       mapk14        tgfbr3  \\\n",
       "count  1904.000000  1.904000e+03  1.904000e+03  1904.000000  1.904000e+03   \n",
       "mean      0.000001  9.978992e-07 -2.100840e-07    -0.000002 -3.676471e-07   \n",
       "std       1.000264  1.000262e+00  1.000262e+00     1.000264  1.000263e+00   \n",
       "min      -2.071300 -3.371700e+00 -2.635500e+00    -2.936700 -2.124300e+00   \n",
       "25%      -0.701950 -6.667000e-01 -6.703750e-01    -0.731475 -7.889000e-01   \n",
       "50%      -0.141250 -7.000000e-04 -1.689500e-01    -0.045100 -8.895000e-02   \n",
       "75%       0.562725  6.720500e-01  5.515250e-01     0.671800  7.052500e-01   \n",
       "max       4.713900  3.519200e+00  4.405900e+00     3.990100  3.307700e+00   \n",
       "\n",
       "              casp9  \n",
       "count  1.904000e+03  \n",
       "mean  -1.575630e-07  \n",
       "std    1.000264e+00  \n",
       "min   -3.559600e+00  \n",
       "25%   -6.641500e-01  \n",
       "50%    5.500000e-03  \n",
       "75%    6.325750e-01  \n",
       "max    4.173200e+00  \n",
       "\n",
       "[8 rows x 489 columns]"
      ]
     },
     "execution_count": 10,
     "metadata": {},
     "output_type": "execute_result"
    }
   ],
   "source": [
    "gene_expr_dataset.describe()"
   ]
  },
  {
   "cell_type": "code",
   "execution_count": 11,
   "id": "8a055385",
   "metadata": {
    "colab": {
     "base_uri": "https://localhost:8080/"
    },
    "id": "8a055385",
    "outputId": "fbc09f2e-3a60-4302-ba09-0659a3192c20"
   },
   "outputs": [
    {
     "name": "stdout",
     "output_type": "stream",
     "text": [
      "<class 'pandas.core.frame.DataFrame'>\n",
      "RangeIndex: 1904 entries, 0 to 1903\n",
      "Columns: 173 entries, pik3ca_mut to siah1_mut\n",
      "dtypes: object(173)\n",
      "memory usage: 2.5+ MB\n"
     ]
    }
   ],
   "source": [
    "gene_mut_dataset.info()"
   ]
  },
  {
   "cell_type": "code",
   "execution_count": 12,
   "id": "0336013c",
   "metadata": {
    "colab": {
     "base_uri": "https://localhost:8080/",
     "height": 268
    },
    "id": "0336013c",
    "outputId": "8c4bb461-60ef-44f5-efd5-c2ccc9bce0f4"
   },
   "outputs": [
    {
     "data": {
      "text/html": [
       "<div>\n",
       "<style scoped>\n",
       "    .dataframe tbody tr th:only-of-type {\n",
       "        vertical-align: middle;\n",
       "    }\n",
       "\n",
       "    .dataframe tbody tr th {\n",
       "        vertical-align: top;\n",
       "    }\n",
       "\n",
       "    .dataframe thead th {\n",
       "        text-align: right;\n",
       "    }\n",
       "</style>\n",
       "<table border=\"1\" class=\"dataframe\">\n",
       "  <thead>\n",
       "    <tr style=\"text-align: right;\">\n",
       "      <th></th>\n",
       "      <th>pik3ca_mut</th>\n",
       "      <th>tp53_mut</th>\n",
       "      <th>muc16_mut</th>\n",
       "      <th>ahnak2_mut</th>\n",
       "      <th>kmt2c_mut</th>\n",
       "      <th>syne1_mut</th>\n",
       "      <th>gata3_mut</th>\n",
       "      <th>map3k1_mut</th>\n",
       "      <th>ahnak_mut</th>\n",
       "      <th>dnah11_mut</th>\n",
       "      <th>...</th>\n",
       "      <th>mtap_mut</th>\n",
       "      <th>ppp2cb_mut</th>\n",
       "      <th>smarcd1_mut</th>\n",
       "      <th>nras_mut</th>\n",
       "      <th>ndfip1_mut</th>\n",
       "      <th>hras_mut</th>\n",
       "      <th>prps2_mut</th>\n",
       "      <th>smarcb1_mut</th>\n",
       "      <th>stmn2_mut</th>\n",
       "      <th>siah1_mut</th>\n",
       "    </tr>\n",
       "  </thead>\n",
       "  <tbody>\n",
       "    <tr>\n",
       "      <th>count</th>\n",
       "      <td>1904</td>\n",
       "      <td>1904</td>\n",
       "      <td>1904</td>\n",
       "      <td>1904</td>\n",
       "      <td>1904</td>\n",
       "      <td>1904</td>\n",
       "      <td>1904</td>\n",
       "      <td>1904</td>\n",
       "      <td>1904</td>\n",
       "      <td>1904</td>\n",
       "      <td>...</td>\n",
       "      <td>1904</td>\n",
       "      <td>1904</td>\n",
       "      <td>1904</td>\n",
       "      <td>1904</td>\n",
       "      <td>1904</td>\n",
       "      <td>1904</td>\n",
       "      <td>1904</td>\n",
       "      <td>1904</td>\n",
       "      <td>1904</td>\n",
       "      <td>1904</td>\n",
       "    </tr>\n",
       "    <tr>\n",
       "      <th>unique</th>\n",
       "      <td>160</td>\n",
       "      <td>343</td>\n",
       "      <td>298</td>\n",
       "      <td>248</td>\n",
       "      <td>222</td>\n",
       "      <td>200</td>\n",
       "      <td>128</td>\n",
       "      <td>194</td>\n",
       "      <td>153</td>\n",
       "      <td>154</td>\n",
       "      <td>...</td>\n",
       "      <td>5</td>\n",
       "      <td>5</td>\n",
       "      <td>5</td>\n",
       "      <td>4</td>\n",
       "      <td>4</td>\n",
       "      <td>3</td>\n",
       "      <td>3</td>\n",
       "      <td>3</td>\n",
       "      <td>3</td>\n",
       "      <td>2</td>\n",
       "    </tr>\n",
       "    <tr>\n",
       "      <th>top</th>\n",
       "      <td>0</td>\n",
       "      <td>0</td>\n",
       "      <td>0</td>\n",
       "      <td>0</td>\n",
       "      <td>0</td>\n",
       "      <td>0</td>\n",
       "      <td>0</td>\n",
       "      <td>0</td>\n",
       "      <td>0</td>\n",
       "      <td>0</td>\n",
       "      <td>...</td>\n",
       "      <td>0</td>\n",
       "      <td>0</td>\n",
       "      <td>0</td>\n",
       "      <td>0</td>\n",
       "      <td>0</td>\n",
       "      <td>0</td>\n",
       "      <td>0</td>\n",
       "      <td>0</td>\n",
       "      <td>0</td>\n",
       "      <td>0</td>\n",
       "    </tr>\n",
       "    <tr>\n",
       "      <th>freq</th>\n",
       "      <td>1109</td>\n",
       "      <td>1245</td>\n",
       "      <td>1578</td>\n",
       "      <td>1593</td>\n",
       "      <td>1670</td>\n",
       "      <td>1672</td>\n",
       "      <td>1674</td>\n",
       "      <td>1706</td>\n",
       "      <td>1728</td>\n",
       "      <td>1729</td>\n",
       "      <td>...</td>\n",
       "      <td>1900</td>\n",
       "      <td>1900</td>\n",
       "      <td>1900</td>\n",
       "      <td>1901</td>\n",
       "      <td>1901</td>\n",
       "      <td>1902</td>\n",
       "      <td>1902</td>\n",
       "      <td>1902</td>\n",
       "      <td>1902</td>\n",
       "      <td>1903</td>\n",
       "    </tr>\n",
       "  </tbody>\n",
       "</table>\n",
       "<p>4 rows × 173 columns</p>\n",
       "</div>"
      ],
      "text/plain": [
       "       pik3ca_mut tp53_mut muc16_mut ahnak2_mut kmt2c_mut syne1_mut gata3_mut  \\\n",
       "count        1904     1904      1904       1904      1904      1904      1904   \n",
       "unique        160      343       298        248       222       200       128   \n",
       "top             0        0         0          0         0         0         0   \n",
       "freq         1109     1245      1578       1593      1670      1672      1674   \n",
       "\n",
       "       map3k1_mut ahnak_mut dnah11_mut  ... mtap_mut ppp2cb_mut smarcd1_mut  \\\n",
       "count        1904      1904       1904  ...     1904       1904        1904   \n",
       "unique        194       153        154  ...        5          5           5   \n",
       "top             0         0          0  ...        0          0           0   \n",
       "freq         1706      1728       1729  ...     1900       1900        1900   \n",
       "\n",
       "       nras_mut ndfip1_mut hras_mut prps2_mut smarcb1_mut stmn2_mut siah1_mut  \n",
       "count      1904       1904     1904      1904        1904      1904      1904  \n",
       "unique        4          4        3         3           3         3         2  \n",
       "top           0          0        0         0           0         0         0  \n",
       "freq       1901       1901     1902      1902        1902      1902      1903  \n",
       "\n",
       "[4 rows x 173 columns]"
      ]
     },
     "execution_count": 12,
     "metadata": {},
     "output_type": "execute_result"
    }
   ],
   "source": [
    "gene_mut_dataset.describe()"
   ]
  },
  {
   "cell_type": "code",
   "execution_count": 13,
   "id": "3fc5a137",
   "metadata": {
    "colab": {
     "base_uri": "https://localhost:8080/"
    },
    "id": "3fc5a137",
    "outputId": "750bf9b4-9a35-4fa3-f86c-6bf03a929c56"
   },
   "outputs": [
    {
     "name": "stdout",
     "output_type": "stream",
     "text": [
      "Clinical dataset clean data: 1092\n",
      "Gene expression dataset clean data: 1904\n",
      "Gene mutation dataset clean data: 1904\n"
     ]
    }
   ],
   "source": [
    "# clean data means data with no NaN value in any column\n",
    "def clean_stats(ds):\n",
    "    return '''clean data: {0}'''.format(ds.shape[0] - ds.isnull().any(axis=1).sum())\n",
    "\n",
    "print(f'Clinical dataset {clean_stats(clinical_dataset)}')\n",
    "print(f'Gene expression dataset {clean_stats(gene_expr_dataset)}')\n",
    "print(f'Gene mutation dataset {clean_stats(gene_mut_dataset)}')"
   ]
  },
  {
   "cell_type": "code",
   "execution_count": 14,
   "id": "0f730892",
   "metadata": {
    "colab": {
     "base_uri": "https://localhost:8080/"
    },
    "id": "0f730892",
    "outputId": "42b12e02-832c-4bf8-ebf9-3635c298918f"
   },
   "outputs": [
    {
     "data": {
      "text/plain": [
       "patient_id                          int64\n",
       "age_at_diagnosis                  float64\n",
       "type_of_breast_surgery             object\n",
       "cancer_type                        object\n",
       "cancer_type_detailed               object\n",
       "cellularity                        object\n",
       "chemotherapy                        int64\n",
       "pam50_+_claudin-low_subtype        object\n",
       "cohort                            float64\n",
       "er_status_measured_by_ihc          object\n",
       "er_status                          object\n",
       "neoplasm_histologic_grade         float64\n",
       "her2_status_measured_by_snp6       object\n",
       "her2_status                        object\n",
       "tumor_other_histologic_subtype     object\n",
       "hormone_therapy                     int64\n",
       "inferred_menopausal_state          object\n",
       "integrative_cluster                object\n",
       "primary_tumor_laterality           object\n",
       "lymph_nodes_examined_positive     float64\n",
       "mutation_count                    float64\n",
       "nottingham_prognostic_index       float64\n",
       "oncotree_code                      object\n",
       "overall_survival_months           float64\n",
       "overall_survival                    int64\n",
       "pr_status                          object\n",
       "radio_therapy                       int64\n",
       "3-gene_classifier_subtype          object\n",
       "tumor_size                        float64\n",
       "tumor_stage                       float64\n",
       "death_from_cancer                  object\n",
       "dtype: object"
      ]
     },
     "execution_count": 14,
     "metadata": {},
     "output_type": "execute_result"
    }
   ],
   "source": [
    "clinical_dataset.dtypes"
   ]
  },
  {
   "cell_type": "code",
   "execution_count": 15,
   "id": "935fefb0",
   "metadata": {
    "colab": {
     "base_uri": "https://localhost:8080/"
    },
    "id": "935fefb0",
    "outputId": "f1698807-76f3-4df7-cbef-8b7a9f49b603"
   },
   "outputs": [
    {
     "name": "stdout",
     "output_type": "stream",
     "text": [
      "Clinical dataset: \n",
      "    columns: 31, object columns: 17, int columns: 5, float columns: 9\n",
      "    \n",
      "Gene expression dataset: \n",
      "    columns: 489, object columns: 0, int columns: 0, float columns: 489\n",
      "    \n",
      "Gene mutation dataset: \n",
      "    columns: 173, object columns: 173, int columns: 0, float columns: 0\n",
      "    \n"
     ]
    }
   ],
   "source": [
    "def dtype_stats(ds):\n",
    "    return '''\n",
    "    columns: {0}, object columns: {1}, int columns: {2}, float columns: {3}\n",
    "    '''.format(len(ds.columns),\n",
    "               (ds.dtypes == 'object').sum(),\n",
    "               (ds.dtypes == 'int64').sum(),\n",
    "               (ds.dtypes == 'float64').sum())\n",
    "\n",
    "print(f'Clinical dataset: {dtype_stats(clinical_dataset)}')\n",
    "print(f'Gene expression dataset: {dtype_stats(gene_expr_dataset)}')\n",
    "print(f'Gene mutation dataset: {dtype_stats(gene_mut_dataset)}')"
   ]
  },
  {
   "cell_type": "code",
   "execution_count": 16,
   "id": "70dfb89d",
   "metadata": {
    "colab": {
     "base_uri": "https://localhost:8080/",
     "height": 206
    },
    "id": "70dfb89d",
    "outputId": "bb64426b-b8db-4bd1-8cf3-b26d71b7439a"
   },
   "outputs": [
    {
     "data": {
      "text/html": [
       "<div>\n",
       "<style scoped>\n",
       "    .dataframe tbody tr th:only-of-type {\n",
       "        vertical-align: middle;\n",
       "    }\n",
       "\n",
       "    .dataframe tbody tr th {\n",
       "        vertical-align: top;\n",
       "    }\n",
       "\n",
       "    .dataframe thead th {\n",
       "        text-align: right;\n",
       "    }\n",
       "</style>\n",
       "<table border=\"1\" class=\"dataframe\">\n",
       "  <thead>\n",
       "    <tr style=\"text-align: right;\">\n",
       "      <th></th>\n",
       "      <th>patient_id</th>\n",
       "      <th>chemotherapy</th>\n",
       "      <th>hormone_therapy</th>\n",
       "      <th>overall_survival</th>\n",
       "      <th>radio_therapy</th>\n",
       "    </tr>\n",
       "  </thead>\n",
       "  <tbody>\n",
       "    <tr>\n",
       "      <th>0</th>\n",
       "      <td>0</td>\n",
       "      <td>0</td>\n",
       "      <td>1</td>\n",
       "      <td>1</td>\n",
       "      <td>1</td>\n",
       "    </tr>\n",
       "    <tr>\n",
       "      <th>1</th>\n",
       "      <td>2</td>\n",
       "      <td>0</td>\n",
       "      <td>1</td>\n",
       "      <td>1</td>\n",
       "      <td>1</td>\n",
       "    </tr>\n",
       "    <tr>\n",
       "      <th>2</th>\n",
       "      <td>5</td>\n",
       "      <td>1</td>\n",
       "      <td>1</td>\n",
       "      <td>0</td>\n",
       "      <td>0</td>\n",
       "    </tr>\n",
       "    <tr>\n",
       "      <th>3</th>\n",
       "      <td>6</td>\n",
       "      <td>1</td>\n",
       "      <td>1</td>\n",
       "      <td>1</td>\n",
       "      <td>1</td>\n",
       "    </tr>\n",
       "    <tr>\n",
       "      <th>4</th>\n",
       "      <td>8</td>\n",
       "      <td>1</td>\n",
       "      <td>1</td>\n",
       "      <td>0</td>\n",
       "      <td>1</td>\n",
       "    </tr>\n",
       "  </tbody>\n",
       "</table>\n",
       "</div>"
      ],
      "text/plain": [
       "   patient_id  chemotherapy  hormone_therapy  overall_survival  radio_therapy\n",
       "0           0             0                1                 1              1\n",
       "1           2             0                1                 1              1\n",
       "2           5             1                1                 0              0\n",
       "3           6             1                1                 1              1\n",
       "4           8             1                1                 0              1"
      ]
     },
     "execution_count": 16,
     "metadata": {},
     "output_type": "execute_result"
    }
   ],
   "source": [
    "# check if int data needs scaling\n",
    "clinical_dataset[clinical_columns[clinical_dataset.dtypes == 'int64']].head(5)"
   ]
  },
  {
   "cell_type": "code",
   "execution_count": 17,
   "id": "00a64091",
   "metadata": {
    "id": "00a64091"
   },
   "outputs": [],
   "source": [
    "# define data and labels for each dataset\n",
    "\n",
    "labels = clinical_dataset[label_column].to_numpy()\n",
    "clinical_data = clinical_dataset[clinical_data_columns].to_numpy()\n",
    "gene_expr_data = gene_expr_dataset.to_numpy()"
   ]
  },
  {
   "cell_type": "code",
   "execution_count": 18,
   "id": "99c8a4bc",
   "metadata": {
    "id": "99c8a4bc"
   },
   "outputs": [],
   "source": [
    "# Convert categorical data to numerical data for clinical dataset\n",
    "ordinal_encoder = OrdinalEncoder()\n",
    "clinical_data = ordinal_encoder.fit_transform(clinical_data)"
   ]
  },
  {
   "cell_type": "code",
   "execution_count": 19,
   "id": "9da8ca52",
   "metadata": {
    "id": "9da8ca52"
   },
   "outputs": [],
   "source": [
    "# Perform data imputation for clinical dataset\n",
    "imputer = SimpleImputer(missing_values=np.nan, strategy='mean')\n",
    "clinical_data = imputer.fit_transform(clinical_data)"
   ]
  },
  {
   "cell_type": "code",
   "execution_count": 20,
   "id": "1BFAjN9wKRUu",
   "metadata": {
    "id": "1BFAjN9wKRUu"
   },
   "outputs": [],
   "source": [
    "scaler = StandardScaler()\n",
    "clinical_data = scaler.fit_transform(clinical_data)"
   ]
  },
  {
   "cell_type": "code",
   "execution_count": 21,
   "id": "eG4CkK4IC9d-",
   "metadata": {
    "id": "eG4CkK4IC9d-"
   },
   "outputs": [],
   "source": [
    "_clinical_train_X, _clinical_test_X, _clinical_train_y, _clinical_test_y = train_test_split(clinical_data, labels, test_size=0.10, random_state=SEED)\n",
    "_clinical_train_X, _clinical_val_X, _clinical_train_y, _clinical_val_y = train_test_split(_clinical_train_X, _clinical_train_y, test_size=0.10, random_state=SEED)\n",
    "\n",
    "_gene_expr_train_X, _gene_expr_test_X, _gene_expr_train_y, _gene_expr_test_y = train_test_split(gene_expr_data, labels, test_size=0.10, random_state=SEED)\n",
    "_gene_expr_train_X, _gene_expr_val_X, _gene_expr_train_y, _gene_expr_val_y = train_test_split(_gene_expr_train_X, _gene_expr_train_y, test_size=0.10, random_state=SEED)\n",
    "\n",
    "dataset = {\n",
    "    'clinical':{\n",
    "        'X_train': _clinical_train_X,\n",
    "        'X_val': _clinical_val_X,\n",
    "        'X_test': _clinical_test_X,\n",
    "        'y_train': _clinical_train_y,\n",
    "        'y_val': _clinical_val_y,\n",
    "        'y_test': _clinical_test_y\n",
    "    },\n",
    "    'gene_expr':{\n",
    "        'X_train': _gene_expr_train_X,\n",
    "        'X_val': _gene_expr_val_X,\n",
    "        'X_test': _gene_expr_test_X,\n",
    "        'y_train': _gene_expr_train_y,\n",
    "        'y_val': _gene_expr_val_y,\n",
    "        'y_test': _gene_expr_test_y\n",
    "    },\n",
    "    'gene_expr_reduced':{\n",
    "    }\n",
    "}"
   ]
  },
  {
   "cell_type": "markdown",
   "id": "e2c3821f",
   "metadata": {
    "id": "e2c3821f"
   },
   "source": [
    "## Dimension Reduction (20 + Up to 10 Points Optional)"
   ]
  },
  {
   "cell_type": "markdown",
   "id": "b925e2cf",
   "metadata": {
    "id": "b925e2cf"
   },
   "source": [
    "For each dataset, investigate whether it is needed to use a dimensionality reduction approach or not. If yes, please reduce the dataset's dimension. You can use UMAP for this purpose but any other approach is acceptable. Finding the most important features contains extra points."
   ]
  },
  {
   "cell_type": "markdown",
   "id": "b14cefb7",
   "metadata": {
    "id": "b14cefb7"
   },
   "source": [
    "<span style=\"color:orange\">\n",
    "    we check if dimensionality reduction is needed by using a simple linear regression model as a baseline .\n",
    "</span>\n",
    "\n"
   ]
  },
  {
   "cell_type": "code",
   "execution_count": 22,
   "id": "f0666a0d",
   "metadata": {
    "colab": {
     "base_uri": "https://localhost:8080/"
    },
    "id": "f0666a0d",
    "outputId": "3e374600-946f-4995-c0bb-a9e6eaed661c"
   },
   "outputs": [
    {
     "name": "stdout",
     "output_type": "stream",
     "text": [
      "Accuracy of simple linear regression model on clinical data: 0.733\n",
      "Accuracy of simple linear regression model on gene expression data: 0.550\n"
     ]
    }
   ],
   "source": [
    "# predict for the clinical dataset using linear regression\n",
    "_clf = LinearRegression()\n",
    "_clf.fit(dataset['clinical']['X_train'], dataset['clinical']['y_train'])\n",
    "_clinical_baseline_pred = np.round(_clf.predict(dataset['clinical']['X_test']))\n",
    "_clinical_baseline_accuracy = accuracy_score(dataset['clinical']['y_test'], _clinical_baseline_pred)\n",
    "\n",
    "# predict for the gene expression dataset using linear regression\n",
    "_clf = LinearRegression()\n",
    "_clf.fit(dataset['gene_expr']['X_train'], dataset['gene_expr']['y_train'])\n",
    "_gene_expr_baseline_pred = np.round(_clf.predict(dataset['gene_expr']['X_test']))\n",
    "_gene_expr_baseline_accuracy = accuracy_score(dataset['gene_expr']['y_test'], _gene_expr_baseline_pred)\n",
    "\n",
    "print(f'Accuracy of simple linear regression model on clinical data: {_clinical_baseline_accuracy:.3f}')\n",
    "print(f'Accuracy of simple linear regression model on gene expression data: {_gene_expr_baseline_accuracy:.3f}')"
   ]
  },
  {
   "cell_type": "markdown",
   "id": "29e2dbe8",
   "metadata": {
    "id": "29e2dbe8"
   },
   "source": [
    "<span style=\"color:orange\">\n",
    "    As we can see, the results are much better for the clinical dataset which has few dimensions, but not so much for the gene expession dataset.\n",
    "    Therefore, we will only reduce the dimensions for gene expression dataset.\n",
    "</span>\n",
    "\n"
   ]
  },
  {
   "cell_type": "code",
   "execution_count": 23,
   "id": "a3f0b1a2",
   "metadata": {
    "colab": {
     "base_uri": "https://localhost:8080/"
    },
    "id": "a3f0b1a2",
    "outputId": "7ecc82fe-56cf-4b18-844a-e15dcde3a0c8"
   },
   "outputs": [
    {
     "name": "stdout",
     "output_type": "stream",
     "text": [
      "Accuracy of simple linear regression model on reduced clinical data: 0.618\n",
      "Accuracy of simple linear regression model on reduced gene expression data: 0.613\n"
     ]
    }
   ],
   "source": [
    "# reduce the dimensions for clinical data and predict using baseline model\n",
    "CLINICAL_REDUCED_DIMENSIONS = 10\n",
    "GENE_EXPR_REDUCED_DIMENSIONS = 20\n",
    "\n",
    "\n",
    "_reducer = umap.UMAP(n_components=CLINICAL_REDUCED_DIMENSIONS, random_state=SEED)\n",
    "_reducer.fit(clinical_data)\n",
    "_reduced_X_train = _reducer.transform(dataset['clinical']['X_train'])\n",
    "_reduced_X_test = _reducer.transform(dataset['clinical']['X_test'])\n",
    "\n",
    "_clf = LinearRegression()\n",
    "_clf.fit(_reduced_X_train, dataset['clinical']['y_train'])\n",
    "_clinical_reduced_baseline_pred = np.round(_clf.predict(_reduced_X_test))\n",
    "_clinical_reduced_baseline_accuracy = accuracy_score(dataset['clinical']['y_test'], _clinical_reduced_baseline_pred)\n",
    "\n",
    "# reduce the dimensions for gene expression data and predict using baseline model\n",
    "_reducer = umap.UMAP(n_components=GENE_EXPR_REDUCED_DIMENSIONS, random_state=SEED)\n",
    "_reducer.fit(gene_expr_data)\n",
    "_reduced_X_train = _reducer.transform(dataset['gene_expr']['X_train'])\n",
    "_reduced_X_val = _reducer.transform(dataset['gene_expr']['X_val'])\n",
    "_reduced_X_test = _reducer.transform(dataset['gene_expr']['X_test'])\n",
    "\n",
    "_clf = LinearRegression()\n",
    "_clf.fit(_reduced_X_train, dataset['gene_expr']['y_train'])\n",
    "_gene_expr_reduced_baseline_pred = np.round(_clf.predict(_reduced_X_test))\n",
    "_gene_expr_reduced_baseline_accuracy = accuracy_score(dataset['gene_expr']['y_test'], _gene_expr_reduced_baseline_pred)\n",
    "\n",
    "print(f'Accuracy of simple linear regression model on reduced clinical data: {_clinical_reduced_baseline_accuracy:.3f}')\n",
    "print(f'Accuracy of simple linear regression model on reduced gene expression data: {_gene_expr_reduced_baseline_accuracy:.3f}')"
   ]
  },
  {
   "cell_type": "markdown",
   "id": "578ec633",
   "metadata": {
    "id": "578ec633"
   },
   "source": [
    "<span style=\"color:orange\">\n",
    "    As we can see, applying dimension reduction on the clinical dataset leads to worse results, while on gene expression dataset improves the predictions.\n",
    "    Therefore, we choose to reduce the dimensions of only the gene expression dataset. \n",
    "</span>\n",
    "\n"
   ]
  },
  {
   "cell_type": "code",
   "execution_count": 24,
   "id": "1dc64a2b",
   "metadata": {
    "id": "1dc64a2b"
   },
   "outputs": [],
   "source": [
    "dataset['gene_expr_reduced'] = {\n",
    "    'X_train': _reduced_X_train,\n",
    "    'X_val': _reduced_X_val,\n",
    "    'X_test': _reduced_X_test,\n",
    "    'y_train': _gene_expr_train_y,\n",
    "    'y_val': _gene_expr_val_y,\n",
    "    'y_test': _gene_expr_test_y\n",
    "}"
   ]
  },
  {
   "cell_type": "markdown",
   "id": "bf0ea4bb",
   "metadata": {
    "id": "bf0ea4bb"
   },
   "source": [
    "# Classic Model (25 Points)"
   ]
  },
  {
   "cell_type": "markdown",
   "id": "389c5d75",
   "metadata": {
    "id": "389c5d75"
   },
   "source": [
    "In this section, you must implement a classic classification model for clinical, gene expressions, and reduced gene expressions datasets. Using Random Forest is suggested. (minimum acceptable accuracy = 60%)"
   ]
  },
  {
   "cell_type": "code",
   "execution_count": 25,
   "id": "34ec1dd7",
   "metadata": {
    "colab": {
     "base_uri": "https://localhost:8080/"
    },
    "id": "34ec1dd7",
    "outputId": "a3d27908-e6d9-4dc5-d5ad-1ec701bee93e"
   },
   "outputs": [
    {
     "name": "stdout",
     "output_type": "stream",
     "text": [
      "random forest on clinical dataset had accuracy of 0.7435\n",
      "random forest on gene_expr dataset had accuracy of 0.6230\n",
      "random forest on gene_expr_reduced dataset had accuracy of 0.6178\n",
      "svm on clinical dataset had accuracy of 0.7016\n",
      "svm on gene_expr dataset had accuracy of 0.6178\n",
      "svm on gene_expr_reduced dataset had accuracy of 0.5654\n"
     ]
    }
   ],
   "source": [
    "random_forst_models = {\n",
    "    'clinical': None,\n",
    "    'gene_expr': None,\n",
    "    'gene_expr_reduced': None\n",
    "}\n",
    "\n",
    "for ds_name in random_forst_models:\n",
    "    clf = RandomForestClassifier(random_state=SEED)\n",
    "    ds = dataset[ds_name]\n",
    "    clf.fit(ds['X_train'], ds['y_train'])\n",
    "    y_pred = clf.predict(ds['X_test'])\n",
    "    acc = accuracy_score(ds['y_test'], y_pred)\n",
    "    random_forst_models[ds_name] = {\n",
    "        'model': clf,\n",
    "        'accuracy': acc\n",
    "    }\n",
    "\n",
    "    print(f'random forest on {ds_name} dataset had accuracy of {acc:.4f}')\n",
    "\n",
    "svm_models = random_forst_models.copy()\n",
    "\n",
    "for ds_name in random_forst_models:\n",
    "    clf = SVC(random_state=SEED)\n",
    "    ds = dataset[ds_name]\n",
    "    clf.fit(ds['X_train'], ds['y_train'])\n",
    "    y_pred = clf.predict(ds['X_test'])\n",
    "    acc = accuracy_score(ds['y_test'], y_pred)\n",
    "    random_forst_models[ds_name] = {\n",
    "        'model': clf,\n",
    "        'accuracy': acc\n",
    "    }\n",
    "\n",
    "    print(f'svm on {ds_name} dataset had accuracy of {acc:.4f}')\n",
    "\n"
   ]
  },
  {
   "cell_type": "markdown",
   "id": "50146d67",
   "metadata": {
    "id": "50146d67"
   },
   "source": [
    "# Neural Network (30 Points)"
   ]
  },
  {
   "cell_type": "markdown",
   "id": "485c4047",
   "metadata": {
    "id": "485c4047"
   },
   "source": [
    "In this section, you must implement a neural network model for clinical, gene expressions and reduced gene expressions datasets. Using the MPL models is suggested. (minimum acceptable accuracy = 60%)"
   ]
  },
  {
   "cell_type": "code",
   "execution_count": 26,
   "id": "c74a41b9",
   "metadata": {
    "colab": {
     "base_uri": "https://localhost:8080/"
    },
    "id": "c74a41b9",
    "outputId": "7284b7ce-3ebe-4be2-8d4b-972c2697bdfb"
   },
   "outputs": [
    {
     "data": {
      "text/plain": [
       "device(type='cuda', index=0)"
      ]
     },
     "execution_count": 26,
     "metadata": {},
     "output_type": "execute_result"
    }
   ],
   "source": [
    "device = torch.device('cuda:0' if torch.cuda.is_available() else 'cpu')\n",
    "device"
   ]
  },
  {
   "cell_type": "code",
   "execution_count": 27,
   "id": "2ecdff3a",
   "metadata": {
    "id": "2ecdff3a"
   },
   "outputs": [],
   "source": [
    "class CancerDataset(Dataset):\n",
    "\n",
    "    def __init__(self, X, y) -> None:\n",
    "        super().__init__()\n",
    "        self.X = X\n",
    "        self.y = y\n",
    "\n",
    "    def __len__(self):\n",
    "        return len(self.X)\n",
    "    \n",
    "    def __getitem__(self, idx):\n",
    "        return self.X[idx].astype(np.float32), self.y[idx].astype(np.float32)\n"
   ]
  },
  {
   "cell_type": "code",
   "execution_count": 28,
   "id": "aaa2d935",
   "metadata": {
    "id": "aaa2d935"
   },
   "outputs": [],
   "source": [
    "dataloaders = {}\n",
    "batch_size = 64\n",
    "\n",
    "for ds_name, ds_split in dataset.items():\n",
    "    dataloaders[ds_name] = {}\n",
    "    X_train = ds_split['X_train']\n",
    "    X_val = ds_split['X_val']\n",
    "    X_test = ds_split['X_test']\n",
    "    y_train = ds_split['y_train']\n",
    "    y_val = ds_split['y_val']\n",
    "    y_test = ds_split['y_test']\n",
    "    \n",
    "    train_ds = CancerDataset(X_train, y_train)\n",
    "    val_ds = CancerDataset(X_val, y_val)\n",
    "    test_ds = CancerDataset(X_test, y_test)\n",
    "\n",
    "    train_dl = DataLoader(train_ds, batch_size=batch_size, shuffle=True)\n",
    "    val_dl = DataLoader(val_ds, batch_size=batch_size, shuffle=True)\n",
    "    test_dl = DataLoader(test_ds, batch_size=batch_size, shuffle=True)\n",
    "\n",
    "    dataloaders[ds_name]['train'] = train_dl\n",
    "    dataloaders[ds_name]['val'] = val_dl\n",
    "    dataloaders[ds_name]['test'] = test_dl"
   ]
  },
  {
   "cell_type": "code",
   "execution_count": 29,
   "id": "e40af097",
   "metadata": {},
   "outputs": [],
   "source": [
    "def update_confusion_matrix(confusion, out, labels):\n",
    "    out = out.astype(int)\n",
    "    labels = labels.astype(int)\n",
    "    for i in range(confusion.shape[0]):\n",
    "        for j in range(confusion.shape[1]):\n",
    "            confusion[i, j] += ((out == i) & (labels == j)).sum()\n",
    "    \n",
    "    return confusion"
   ]
  },
  {
   "cell_type": "code",
   "execution_count": 30,
   "id": "JbseSF_CQnR1",
   "metadata": {
    "id": "JbseSF_CQnR1"
   },
   "outputs": [],
   "source": [
    "def evaluate(model, dataloader):\n",
    "    model.eval()\n",
    "    total, correct = 0, 0\n",
    "    confusion = np.zeros((2, 2))\n",
    "    with torch.no_grad():\n",
    "        for _, (data, labels) in enumerate(dataloader):\n",
    "            data, labels = data.to(device), labels.to(device)\n",
    "\n",
    "            pred = model(data).squeeze()\n",
    "            out = torch.round(pred)\n",
    "            update_confusion_matrix(confusion, out.cpu().numpy(), labels.cpu().numpy())\n",
    "\n",
    "            correct = correct + (labels == out).sum().detach().cpu().numpy()\n",
    "            total = total + len(data)\n",
    "    \n",
    "    return correct / total, confusion"
   ]
  },
  {
   "cell_type": "code",
   "execution_count": 31,
   "id": "2992ff5a",
   "metadata": {
    "id": "2992ff5a"
   },
   "outputs": [],
   "source": [
    "def train(model, criterion, optimizer, train_dataloader, val_dataloader, num_epochs):\n",
    "    best_model = model\n",
    "    train_losses = []\n",
    "    val_losses = []\n",
    "    train_accs = []\n",
    "    val_accs = []\n",
    "    best_val_loss = np.inf\n",
    "\n",
    "    for epoch in range(num_epochs):\n",
    "        # train \n",
    "        model.train()\n",
    "        total, correct = 0, 0\n",
    "        train_loss = 0.0\n",
    "        with tqdm(enumerate(train_dataloader), total=len(train_dataloader)) as pbar:\n",
    "            for i, (data, labels) in pbar:\n",
    "                data, labels = data.to(device), labels.to(device)\n",
    "                optimizer.zero_grad()\n",
    "\n",
    "                pred = model(data).squeeze()\n",
    "                out = pred.detach().round()\n",
    "\n",
    "                total = total + len(data)\n",
    "                correct = correct + (labels == out).sum().detach().cpu().numpy()\n",
    "                \n",
    "                loss = criterion(pred, labels)\n",
    "                loss.backward()\n",
    "                optimizer.step()\n",
    "\n",
    "                train_loss = train_loss + loss.detach().cpu().numpy()\n",
    "                \n",
    "                pbar.set_description('Epoch {0}: train loss={1}, train accuracy={2}'.format(epoch, train_loss / total,\n",
    "                                                                                            correct / total))\n",
    "        \n",
    "        train_losses.append(train_loss)\n",
    "        train_accs.append((correct / total))\n",
    "        \n",
    "        # validation\n",
    "        model.eval()\n",
    "        total, correct = 0, 0\n",
    "        val_loss = 0.0\n",
    "        with torch.no_grad():\n",
    "            with tqdm(enumerate(val_dataloader), total=len(val_dataloader)) as pbar:\n",
    "                for i, (data, labels) in pbar:\n",
    "                    data, labels = data.to(device), labels.to(device)\n",
    "\n",
    "                    pred = model(data).squeeze()\n",
    "                    out = torch.round(pred)\n",
    "\n",
    "                    correct = correct + (labels == out).sum().detach().cpu().numpy()\n",
    "                    total = total + len(data)\n",
    "\n",
    "                    val_loss += criterion(pred, labels).detach().cpu().numpy()\n",
    "                    \n",
    "                    pbar.set_description('Epoch {0}: val loss={1}, val accuracy={2}'.format(epoch, val_loss / total,\n",
    "                                                                                                correct / total))\n",
    "        \n",
    "        val_loss = val_loss / total\n",
    "        if val_loss < best_val_loss:\n",
    "            print('New model saved, val loss {0} -> {1}'.format(best_val_loss, val_loss))\n",
    "            best_val_loss = val_loss\n",
    "            best_model = deepcopy(model)\n",
    "\n",
    "    return train_losses, val_losses, train_accs, val_accs, best_model"
   ]
  },
  {
   "cell_type": "code",
   "execution_count": 32,
   "id": "344e1754",
   "metadata": {
    "colab": {
     "base_uri": "https://localhost:8080/",
     "height": 1000
    },
    "id": "344e1754",
    "outputId": "26ba861a-ac7c-4d82-cb1c-6fb2436811cd"
   },
   "outputs": [
    {
     "name": "stderr",
     "output_type": "stream",
     "text": [
      "Epoch 0: train loss=0.004186857025163812, train accuracy=0.5139519792342635: 100%|█████| 25/25 [00:02<00:00, 10.14it/s]\n",
      "Epoch 0: val loss=0.004254257523043211, val accuracy=0.5813953488372093: 100%|██████████| 3/3 [00:00<00:00, 228.85it/s]\n"
     ]
    },
    {
     "name": "stdout",
     "output_type": "stream",
     "text": [
      "New model saved, val loss inf -> 0.004254257523043211\n"
     ]
    },
    {
     "name": "stderr",
     "output_type": "stream",
     "text": [
      "Epoch 1: train loss=0.0037064810490778405, train accuracy=0.6417910447761194: 100%|███| 25/25 [00:00<00:00, 107.66it/s]\n",
      "Epoch 1: val loss=0.0037059891362522922, val accuracy=0.6918604651162791: 100%|█████████| 3/3 [00:00<00:00, 330.92it/s]\n"
     ]
    },
    {
     "name": "stdout",
     "output_type": "stream",
     "text": [
      "New model saved, val loss 0.004254257523043211 -> 0.0037059891362522922\n"
     ]
    },
    {
     "name": "stderr",
     "output_type": "stream",
     "text": [
      "Epoch 2: train loss=0.0034773016830762435, train accuracy=0.6904607397793641: 100%|███| 25/25 [00:00<00:00, 107.28it/s]\n",
      "Epoch 2: val loss=0.003442274796408276, val accuracy=0.7441860465116279: 100%|██████████| 3/3 [00:00<00:00, 259.99it/s]\n"
     ]
    },
    {
     "name": "stdout",
     "output_type": "stream",
     "text": [
      "New model saved, val loss 0.0037059891362522922 -> 0.003442274796408276\n"
     ]
    },
    {
     "name": "stderr",
     "output_type": "stream",
     "text": [
      "Epoch 3: train loss=0.0033907042858586692, train accuracy=0.7047371836469825: 100%|███| 25/25 [00:00<00:00, 106.08it/s]\n",
      "Epoch 3: val loss=0.0033052011804525242, val accuracy=0.7732558139534884: 100%|█████████| 3/3 [00:00<00:00, 259.28it/s]\n"
     ]
    },
    {
     "name": "stdout",
     "output_type": "stream",
     "text": [
      "New model saved, val loss 0.003442274796408276 -> 0.0033052011804525242\n"
     ]
    },
    {
     "name": "stderr",
     "output_type": "stream",
     "text": [
      "Epoch 4: train loss=0.00323977057884298, train accuracy=0.7177157689811811: 100%|█████| 25/25 [00:00<00:00, 105.04it/s]\n",
      "Epoch 4: val loss=0.0031748180126034936, val accuracy=0.7732558139534884: 100%|█████████| 3/3 [00:00<00:00, 259.43it/s]\n"
     ]
    },
    {
     "name": "stdout",
     "output_type": "stream",
     "text": [
      "New model saved, val loss 0.0033052011804525242 -> 0.0031748180126034936\n"
     ]
    },
    {
     "name": "stderr",
     "output_type": "stream",
     "text": [
      "Epoch 5: train loss=0.003200355160553528, train accuracy=0.7287475665152499: 100%|████| 25/25 [00:00<00:00, 108.93it/s]\n",
      "Epoch 5: val loss=0.0030229012806748234, val accuracy=0.75: 100%|███████████████████████| 3/3 [00:00<00:00, 259.37it/s]\n"
     ]
    },
    {
     "name": "stdout",
     "output_type": "stream",
     "text": [
      "New model saved, val loss 0.0031748180126034936 -> 0.0030229012806748234\n"
     ]
    },
    {
     "name": "stderr",
     "output_type": "stream",
     "text": [
      "Epoch 6: train loss=0.0031071244451923853, train accuracy=0.7391304347826086: 100%|███| 25/25 [00:00<00:00, 111.03it/s]\n",
      "Epoch 6: val loss=0.002880395411751991, val accuracy=0.7616279069767442: 100%|██████████| 3/3 [00:00<00:00, 284.29it/s]\n"
     ]
    },
    {
     "name": "stdout",
     "output_type": "stream",
     "text": [
      "New model saved, val loss 0.0030229012806748234 -> 0.002880395411751991\n"
     ]
    },
    {
     "name": "stderr",
     "output_type": "stream",
     "text": [
      "Epoch 7: train loss=0.0030752084980066683, train accuracy=0.7404282933160286: 100%|███| 25/25 [00:00<00:00, 108.28it/s]\n",
      "Epoch 7: val loss=0.0028898170174554336, val accuracy=0.7732558139534884: 100%|█████████| 3/3 [00:00<00:00, 262.44it/s]\n",
      "Epoch 8: train loss=0.0029681421173307354, train accuracy=0.7488643737832577: 100%|███| 25/25 [00:00<00:00, 110.97it/s]\n",
      "Epoch 8: val loss=0.002813892568959746, val accuracy=0.7616279069767442: 100%|██████████| 3/3 [00:00<00:00, 269.46it/s]\n"
     ]
    },
    {
     "name": "stdout",
     "output_type": "stream",
     "text": [
      "New model saved, val loss 0.002880395411751991 -> 0.002813892568959746\n"
     ]
    },
    {
     "name": "stderr",
     "output_type": "stream",
     "text": [
      "Epoch 9: train loss=0.0029251424524398845, train accuracy=0.7527579493835171: 100%|███| 25/25 [00:00<00:00, 109.94it/s]\n",
      "Epoch 9: val loss=0.0027268126953479857, val accuracy=0.7848837209302325: 100%|█████████| 3/3 [00:00<00:00, 259.86it/s]\n"
     ]
    },
    {
     "name": "stdout",
     "output_type": "stream",
     "text": [
      "New model saved, val loss 0.002813892568959746 -> 0.0027268126953479857\n"
     ]
    },
    {
     "name": "stderr",
     "output_type": "stream",
     "text": [
      "Epoch 10: train loss=0.002883716068779935, train accuracy=0.7475665152498377: 100%|███| 25/25 [00:00<00:00, 112.17it/s]\n",
      "Epoch 10: val loss=0.002699995889913204, val accuracy=0.7848837209302325: 100%|█████████| 3/3 [00:00<00:00, 260.75it/s]\n"
     ]
    },
    {
     "name": "stdout",
     "output_type": "stream",
     "text": [
      "New model saved, val loss 0.0027268126953479857 -> 0.002699995889913204\n"
     ]
    },
    {
     "name": "stderr",
     "output_type": "stream",
     "text": [
      "Epoch 11: train loss=0.002848796106483316, train accuracy=0.7560025957170668: 100%|███| 25/25 [00:00<00:00, 108.31it/s]\n",
      "Epoch 11: val loss=0.0027269656055195386, val accuracy=0.7906976744186046: 100%|████████| 3/3 [00:00<00:00, 283.62it/s]\n",
      "Epoch 12: train loss=0.0028345436486309802, train accuracy=0.7560025957170668: 100%|██| 25/25 [00:00<00:00, 106.87it/s]\n",
      "Epoch 12: val loss=0.0027188251531401345, val accuracy=0.7965116279069767: 100%|████████| 3/3 [00:00<00:00, 284.66it/s]\n",
      "Epoch 13: train loss=0.002853294023440149, train accuracy=0.7592472420506164: 100%|███| 25/25 [00:00<00:00, 107.30it/s]\n",
      "Epoch 13: val loss=0.0026331493674322617, val accuracy=0.813953488372093: 100%|█████████| 3/3 [00:00<00:00, 284.80it/s]\n"
     ]
    },
    {
     "name": "stdout",
     "output_type": "stream",
     "text": [
      "New model saved, val loss 0.002699995889913204 -> 0.0026331493674322617\n"
     ]
    },
    {
     "name": "stderr",
     "output_type": "stream",
     "text": [
      "Epoch 14: train loss=0.002748334890329397, train accuracy=0.7560025957170668: 100%|███| 25/25 [00:00<00:00, 107.18it/s]\n",
      "Epoch 14: val loss=0.0027068249534728914, val accuracy=0.8023255813953488: 100%|████████| 3/3 [00:00<00:00, 284.46it/s]\n",
      "Epoch 15: train loss=0.0027736915755318327, train accuracy=0.7611940298507462: 100%|██| 25/25 [00:00<00:00, 102.38it/s]\n",
      "Epoch 15: val loss=0.0025859022902887923, val accuracy=0.8023255813953488: 100%|████████| 3/3 [00:00<00:00, 296.50it/s]\n"
     ]
    },
    {
     "name": "stdout",
     "output_type": "stream",
     "text": [
      "New model saved, val loss 0.0026331493674322617 -> 0.0025859022902887923\n"
     ]
    },
    {
     "name": "stderr",
     "output_type": "stream",
     "text": [
      "Epoch 16: train loss=0.002799772630257702, train accuracy=0.7566515249837767: 100%|███| 25/25 [00:00<00:00, 109.51it/s]\n",
      "Epoch 16: val loss=0.0025719814868860468, val accuracy=0.8081395348837209: 100%|████████| 3/3 [00:00<00:00, 260.29it/s]\n"
     ]
    },
    {
     "name": "stdout",
     "output_type": "stream",
     "text": [
      "New model saved, val loss 0.0025859022902887923 -> 0.0025719814868860468\n"
     ]
    },
    {
     "name": "stderr",
     "output_type": "stream",
     "text": [
      "Epoch 17: train loss=0.002752687170434354, train accuracy=0.7598961713173265: 100%|███| 25/25 [00:00<00:00, 100.82it/s]\n",
      "Epoch 17: val loss=0.002607990489449612, val accuracy=0.7965116279069767: 100%|█████████| 3/3 [00:00<00:00, 246.81it/s]\n",
      "Epoch 18: train loss=0.002775334087693018, train accuracy=0.7637897469175859: 100%|███| 25/25 [00:00<00:00, 103.20it/s]\n",
      "Epoch 18: val loss=0.002621636314447536, val accuracy=0.7848837209302325: 100%|█████████| 3/3 [00:00<00:00, 284.35it/s]\n",
      "Epoch 19: train loss=0.0027289823432544236, train accuracy=0.7624918883841661: 100%|██| 25/25 [00:00<00:00, 102.63it/s]\n",
      "Epoch 19: val loss=0.002621595509523569, val accuracy=0.7965116279069767: 100%|█████████| 3/3 [00:00<00:00, 265.71it/s]\n",
      "Epoch 20: train loss=0.0028638462212703043, train accuracy=0.7696301103179753: 100%|██| 25/25 [00:00<00:00, 100.11it/s]\n",
      "Epoch 20: val loss=0.002595703962237336, val accuracy=0.7906976744186046: 100%|█████████| 3/3 [00:00<00:00, 247.50it/s]\n",
      "Epoch 21: train loss=0.002707715852743306, train accuracy=0.7637897469175859: 100%|████| 25/25 [00:00<00:00, 99.23it/s]\n",
      "Epoch 21: val loss=0.0026316187062928845, val accuracy=0.7906976744186046: 100%|████████| 3/3 [00:00<00:00, 229.64it/s]\n",
      "Epoch 22: train loss=0.002763423824526906, train accuracy=0.7598961713173265: 100%|███| 25/25 [00:00<00:00, 100.50it/s]\n",
      "Epoch 22: val loss=0.002551177646531615, val accuracy=0.8023255813953488: 100%|█████████| 3/3 [00:00<00:00, 220.70it/s]\n"
     ]
    },
    {
     "name": "stdout",
     "output_type": "stream",
     "text": [
      "New model saved, val loss 0.0025719814868860468 -> 0.002551177646531615\n"
     ]
    },
    {
     "name": "stderr",
     "output_type": "stream",
     "text": [
      "Epoch 23: train loss=0.002714113870818146, train accuracy=0.7573004542504866: 100%|███| 25/25 [00:00<00:00, 101.82it/s]\n",
      "Epoch 23: val loss=0.0025676287017589393, val accuracy=0.8023255813953488: 100%|████████| 3/3 [00:00<00:00, 259.81it/s]\n",
      "Epoch 24: train loss=0.002744743918382371, train accuracy=0.7573004542504866: 100%|████| 25/25 [00:00<00:00, 92.11it/s]\n",
      "Epoch 24: val loss=0.002569200600995574, val accuracy=0.813953488372093: 100%|██████████| 3/3 [00:00<00:00, 238.77it/s]\n",
      "Epoch 25: train loss=0.0027235983922294328, train accuracy=0.763140817650876: 100%|████| 25/25 [00:00<00:00, 99.07it/s]\n",
      "Epoch 25: val loss=0.0025356146831845127, val accuracy=0.8081395348837209: 100%|████████| 3/3 [00:00<00:00, 228.93it/s]\n"
     ]
    },
    {
     "name": "stdout",
     "output_type": "stream",
     "text": [
      "New model saved, val loss 0.002551177646531615 -> 0.0025356146831845127\n"
     ]
    },
    {
     "name": "stderr",
     "output_type": "stream",
     "text": [
      "Epoch 26: train loss=0.002688529703579964, train accuracy=0.7637897469175859: 100%|████| 25/25 [00:00<00:00, 95.65it/s]\n",
      "Epoch 26: val loss=0.0025716767061588377, val accuracy=0.8081395348837209: 100%|████████| 3/3 [00:00<00:00, 234.18it/s]\n",
      "Epoch 27: train loss=0.0027279196371125525, train accuracy=0.7657365347177157: 100%|███| 25/25 [00:00<00:00, 95.59it/s]\n",
      "Epoch 27: val loss=0.0024787207935438598, val accuracy=0.7906976744186046: 100%|████████| 3/3 [00:00<00:00, 259.75it/s]\n"
     ]
    },
    {
     "name": "stdout",
     "output_type": "stream",
     "text": [
      "New model saved, val loss 0.0025356146831845127 -> 0.0024787207935438598\n"
     ]
    },
    {
     "name": "stderr",
     "output_type": "stream",
     "text": [
      "Epoch 28: train loss=0.002778125570278366, train accuracy=0.7585983127839065: 100%|███| 25/25 [00:00<00:00, 101.16it/s]\n",
      "Epoch 28: val loss=0.002591439544461494, val accuracy=0.813953488372093: 100%|██████████| 3/3 [00:00<00:00, 221.35it/s]\n",
      "Epoch 29: train loss=0.0027430106744914763, train accuracy=0.7689811810512654: 100%|███| 25/25 [00:00<00:00, 99.21it/s]\n",
      "Epoch 29: val loss=0.002566968892202821, val accuracy=0.8023255813953488: 100%|█████████| 3/3 [00:00<00:00, 248.73it/s]\n",
      "Epoch 30: train loss=0.002651317529791288, train accuracy=0.7696301103179753: 100%|███| 25/25 [00:00<00:00, 100.85it/s]\n",
      "Epoch 30: val loss=0.002582995004432146, val accuracy=0.813953488372093: 100%|██████████| 3/3 [00:00<00:00, 259.99it/s]\n",
      "Epoch 31: train loss=0.002709914823192656, train accuracy=0.7709279688513953: 100%|███| 25/25 [00:00<00:00, 100.57it/s]\n",
      "Epoch 31: val loss=0.0026330609134463377, val accuracy=0.7965116279069767: 100%|████████| 3/3 [00:00<00:00, 229.29it/s]\n",
      "Epoch 32: train loss=0.0027826378468876144, train accuracy=0.7761194029850746: 100%|███| 25/25 [00:00<00:00, 98.01it/s]\n",
      "Epoch 32: val loss=0.002470434145178906, val accuracy=0.7965116279069767: 100%|█████████| 3/3 [00:00<00:00, 241.04it/s]\n"
     ]
    },
    {
     "name": "stdout",
     "output_type": "stream",
     "text": [
      "New model saved, val loss 0.0024787207935438598 -> 0.002470434145178906\n"
     ]
    },
    {
     "name": "stderr",
     "output_type": "stream",
     "text": [
      "Epoch 33: train loss=0.0027059535656092926, train accuracy=0.7767683322517845: 100%|██| 25/25 [00:00<00:00, 102.38it/s]\n",
      "Epoch 33: val loss=0.002509467130483583, val accuracy=0.813953488372093: 100%|██████████| 3/3 [00:00<00:00, 238.67it/s]\n",
      "Epoch 34: train loss=0.002706418450895182, train accuracy=0.7761194029850746: 100%|███| 25/25 [00:00<00:00, 102.97it/s]\n",
      "Epoch 34: val loss=0.002498256605724956, val accuracy=0.8081395348837209: 100%|█████████| 3/3 [00:00<00:00, 247.09it/s]\n",
      "Epoch 35: train loss=0.0027804335918927797, train accuracy=0.7702790395846852: 100%|███| 25/25 [00:00<00:00, 99.56it/s]\n",
      "Epoch 35: val loss=0.00249504410596781, val accuracy=0.813953488372093: 100%|███████████| 3/3 [00:00<00:00, 258.15it/s]\n",
      "Epoch 36: train loss=0.0026349666915800106, train accuracy=0.773523685918235: 100%|████| 25/25 [00:00<00:00, 99.27it/s]\n",
      "Epoch 36: val loss=0.002519461218007775, val accuracy=0.8081395348837209: 100%|█████████| 3/3 [00:00<00:00, 238.49it/s]\n",
      "Epoch 37: train loss=0.002592073747432518, train accuracy=0.7696301103179753: 100%|███| 25/25 [00:00<00:00, 101.31it/s]\n",
      "Epoch 37: val loss=0.002500262198060058, val accuracy=0.7965116279069767: 100%|█████████| 3/3 [00:00<00:00, 239.21it/s]\n",
      "Epoch 38: train loss=0.0026632623383164946, train accuracy=0.7780661907852044: 100%|██| 25/25 [00:00<00:00, 101.57it/s]\n",
      "Epoch 38: val loss=0.0025618681034376453, val accuracy=0.813953488372093: 100%|█████████| 3/3 [00:00<00:00, 228.49it/s]\n",
      "Epoch 39: train loss=0.0026380091151349504, train accuracy=0.7774172615184944: 100%|███| 25/25 [00:00<00:00, 99.71it/s]\n",
      "Epoch 39: val loss=0.0025558626755725505, val accuracy=0.8023255813953488: 100%|████████| 3/3 [00:00<00:00, 239.32it/s]\n",
      "Epoch 40: train loss=0.0025585941307967085, train accuracy=0.7754704737183648: 100%|██| 25/25 [00:00<00:00, 102.09it/s]\n",
      "Epoch 40: val loss=0.002486631534127302, val accuracy=0.8023255813953488: 100%|█████████| 3/3 [00:00<00:00, 220.83it/s]\n",
      "Epoch 41: train loss=0.0025427075590041454, train accuracy=0.7819597663854639: 100%|██| 25/25 [00:00<00:00, 100.34it/s]\n",
      "Epoch 41: val loss=0.0025168306432491127, val accuracy=0.8081395348837209: 100%|████████| 3/3 [00:00<00:00, 221.18it/s]\n",
      "Epoch 42: train loss=0.002572320440347747, train accuracy=0.781310837118754: 100%|█████| 25/25 [00:00<00:00, 99.66it/s]\n",
      "Epoch 42: val loss=0.0025134069281955097, val accuracy=0.7906976744186046: 100%|████████| 3/3 [00:00<00:00, 259.34it/s]\n",
      "Epoch 43: train loss=0.0025801175817276732, train accuracy=0.7852044127190136: 100%|██| 25/25 [00:00<00:00, 103.18it/s]\n",
      "Epoch 43: val loss=0.002441390395857567, val accuracy=0.813953488372093: 100%|██████████| 3/3 [00:00<00:00, 221.23it/s]\n"
     ]
    },
    {
     "name": "stdout",
     "output_type": "stream",
     "text": [
      "New model saved, val loss 0.002470434145178906 -> 0.002441390395857567\n"
     ]
    },
    {
     "name": "stderr",
     "output_type": "stream",
     "text": [
      "Epoch 44: train loss=0.0025537763658782867, train accuracy=0.7845554834523037: 100%|██| 25/25 [00:00<00:00, 101.59it/s]\n",
      "Epoch 44: val loss=0.0024957123190857645, val accuracy=0.8023255813953488: 100%|████████| 3/3 [00:00<00:00, 221.95it/s]\n",
      "Epoch 45: train loss=0.0025639731840681984, train accuracy=0.7839065541855937: 100%|███| 25/25 [00:00<00:00, 97.07it/s]\n",
      "Epoch 45: val loss=0.002545339077018028, val accuracy=0.7848837209302325: 100%|█████████| 3/3 [00:00<00:00, 242.61it/s]\n",
      "Epoch 46: train loss=0.0026636457410359987, train accuracy=0.773523685918235: 100%|████| 25/25 [00:00<00:00, 97.83it/s]\n",
      "Epoch 46: val loss=0.0025616156067266023, val accuracy=0.8081395348837209: 100%|████████| 3/3 [00:00<00:00, 260.32it/s]\n",
      "Epoch 47: train loss=0.0025691587108052603, train accuracy=0.781310837118754: 100%|███| 25/25 [00:00<00:00, 101.74it/s]\n",
      "Epoch 47: val loss=0.0025486660211585287, val accuracy=0.7906976744186046: 100%|████████| 3/3 [00:00<00:00, 238.99it/s]\n",
      "Epoch 48: train loss=0.002541255150268327, train accuracy=0.782608695652174: 100%|█████| 25/25 [00:00<00:00, 99.66it/s]\n",
      "Epoch 48: val loss=0.0024544478848923085, val accuracy=0.8197674418604651: 100%|████████| 3/3 [00:00<00:00, 213.05it/s]\n",
      "Epoch 49: train loss=0.0025885175287452787, train accuracy=0.7845554834523037: 100%|███| 25/25 [00:00<00:00, 99.27it/s]\n",
      "Epoch 49: val loss=0.0025091715330301328, val accuracy=0.813953488372093: 100%|█████████| 3/3 [00:00<00:00, 239.27it/s]\n",
      "Epoch 50: train loss=0.002615640973364046, train accuracy=0.7774172615184944: 100%|████| 25/25 [00:00<00:00, 97.25it/s]\n",
      "Epoch 50: val loss=0.0024838728267093037, val accuracy=0.7848837209302325: 100%|████████| 3/3 [00:00<00:00, 239.55it/s]\n",
      "Epoch 51: train loss=0.0026187578108618588, train accuracy=0.7845554834523037: 100%|███| 25/25 [00:00<00:00, 97.39it/s]\n",
      "Epoch 51: val loss=0.002509083252313525, val accuracy=0.8081395348837209: 100%|█████████| 3/3 [00:00<00:00, 203.84it/s]\n",
      "Epoch 52: train loss=0.002488914333250057, train accuracy=0.7839065541855937: 100%|████| 25/25 [00:00<00:00, 98.72it/s]\n",
      "Epoch 52: val loss=0.002437549621559853, val accuracy=0.8255813953488372: 100%|█████████| 3/3 [00:00<00:00, 225.12it/s]\n"
     ]
    },
    {
     "name": "stdout",
     "output_type": "stream",
     "text": [
      "New model saved, val loss 0.002441390395857567 -> 0.002437549621559853\n"
     ]
    },
    {
     "name": "stderr",
     "output_type": "stream",
     "text": [
      "Epoch 53: train loss=0.002527007464462097, train accuracy=0.7878001297858533: 100%|████| 25/25 [00:00<00:00, 99.06it/s]\n",
      "Epoch 53: val loss=0.0025431053323108094, val accuracy=0.7906976744186046: 100%|████████| 3/3 [00:00<00:00, 259.62it/s]\n",
      "Epoch 54: train loss=0.0024662448176697117, train accuracy=0.790395846852693: 100%|████| 25/25 [00:00<00:00, 98.35it/s]\n",
      "Epoch 54: val loss=0.0024659236849740493, val accuracy=0.8081395348837209: 100%|████████| 3/3 [00:00<00:00, 221.33it/s]\n",
      "Epoch 55: train loss=0.0024856995745265275, train accuracy=0.7878001297858533: 100%|███| 25/25 [00:00<00:00, 95.69it/s]\n",
      "Epoch 55: val loss=0.0025571531854396644, val accuracy=0.7906976744186046: 100%|████████| 3/3 [00:00<00:00, 199.45it/s]\n",
      "Epoch 56: train loss=0.0024873079571300014, train accuracy=0.7929915639195327: 100%|██| 25/25 [00:00<00:00, 100.69it/s]\n",
      "Epoch 56: val loss=0.0025105114246523658, val accuracy=0.8081395348837209: 100%|████████| 3/3 [00:00<00:00, 212.96it/s]\n",
      "Epoch 57: train loss=0.0025385534904515256, train accuracy=0.7897469175859831: 100%|███| 25/25 [00:00<00:00, 96.47it/s]\n",
      "Epoch 57: val loss=0.00243528819707937, val accuracy=0.7965116279069767: 100%|██████████| 3/3 [00:00<00:00, 221.20it/s]\n"
     ]
    },
    {
     "name": "stdout",
     "output_type": "stream",
     "text": [
      "New model saved, val loss 0.002437549621559853 -> 0.00243528819707937\n"
     ]
    },
    {
     "name": "stderr",
     "output_type": "stream",
     "text": [
      "Epoch 58: train loss=0.00248988357110893, train accuracy=0.7936404931862427: 100%|████| 25/25 [00:00<00:00, 100.98it/s]\n",
      "Epoch 58: val loss=0.002453657950079718, val accuracy=0.8255813953488372: 100%|█████████| 3/3 [00:00<00:00, 260.88it/s]\n",
      "Epoch 59: train loss=0.0024649978970104343, train accuracy=0.7975340687865022: 100%|███| 25/25 [00:00<00:00, 98.13it/s]\n",
      "Epoch 59: val loss=0.002485594733856445, val accuracy=0.8081395348837209: 100%|█████████| 3/3 [00:00<00:00, 222.35it/s]\n",
      "Epoch 60: train loss=0.00253715509721631, train accuracy=0.7890979883192732: 100%|█████| 25/25 [00:00<00:00, 97.12it/s]\n",
      "Epoch 60: val loss=0.0025055673579837, val accuracy=0.7965116279069767: 100%|███████████| 3/3 [00:00<00:00, 284.05it/s]\n",
      "Epoch 61: train loss=0.002429900300495041, train accuracy=0.7923426346528228: 100%|████| 25/25 [00:00<00:00, 97.07it/s]\n",
      "Epoch 61: val loss=0.0025215205238309016, val accuracy=0.8023255813953488: 100%|████████| 3/3 [00:00<00:00, 248.98it/s]\n",
      "Epoch 62: train loss=0.002517515231385624, train accuracy=0.790395846852693: 100%|█████| 25/25 [00:00<00:00, 97.63it/s]\n",
      "Epoch 62: val loss=0.002358339770242225, val accuracy=0.8197674418604651: 100%|█████████| 3/3 [00:00<00:00, 239.73it/s]\n"
     ]
    },
    {
     "name": "stdout",
     "output_type": "stream",
     "text": [
      "New model saved, val loss 0.00243528819707937 -> 0.002358339770242225\n"
     ]
    },
    {
     "name": "stderr",
     "output_type": "stream",
     "text": [
      "Epoch 63: train loss=0.0024349105862887317, train accuracy=0.7878001297858533: 100%|███| 25/25 [00:00<00:00, 99.51it/s]\n",
      "Epoch 63: val loss=0.0024348319356524667, val accuracy=0.8081395348837209: 100%|████████| 3/3 [00:00<00:00, 247.70it/s]\n",
      "Epoch 64: train loss=0.002391303604798685, train accuracy=0.8007787151200519: 100%|███| 25/25 [00:00<00:00, 101.43it/s]\n",
      "Epoch 64: val loss=0.002481071928212809, val accuracy=0.8081395348837209: 100%|█████████| 3/3 [00:00<00:00, 262.54it/s]\n",
      "Epoch 65: train loss=0.0024942989805006193, train accuracy=0.7942894224529526: 100%|███| 25/25 [00:00<00:00, 98.28it/s]\n",
      "Epoch 65: val loss=0.002474072800819264, val accuracy=0.7965116279069767: 100%|█████████| 3/3 [00:00<00:00, 221.85it/s]\n",
      "Epoch 66: train loss=0.0024788776952906293, train accuracy=0.8066190785204412: 100%|███| 25/25 [00:00<00:00, 99.78it/s]\n",
      "Epoch 66: val loss=0.0025176136472890545, val accuracy=0.813953488372093: 100%|█████████| 3/3 [00:00<00:00, 239.72it/s]\n",
      "Epoch 67: train loss=0.0023511683134426163, train accuracy=0.8046722907203114: 100%|██| 25/25 [00:00<00:00, 100.07it/s]\n",
      "Epoch 67: val loss=0.0024243664256362028, val accuracy=0.8197674418604651: 100%|████████| 3/3 [00:00<00:00, 221.72it/s]\n",
      "Epoch 68: train loss=0.0023224631120135923, train accuracy=0.8040233614536015: 100%|███| 25/25 [00:00<00:00, 96.79it/s]\n",
      "Epoch 68: val loss=0.0024306139973706976, val accuracy=0.8081395348837209: 100%|████████| 3/3 [00:00<00:00, 239.77it/s]\n",
      "Epoch 69: train loss=0.0024240510338780787, train accuracy=0.8059701492537313: 100%|███| 25/25 [00:00<00:00, 94.67it/s]\n",
      "Epoch 69: val loss=0.002413699619991835, val accuracy=0.7906976744186046: 100%|█████████| 3/3 [00:00<00:00, 229.80it/s]\n",
      "Epoch 70: train loss=0.0024180942632639896, train accuracy=0.8033744321868916: 100%|██| 25/25 [00:00<00:00, 100.19it/s]\n",
      "Epoch 70: val loss=0.0024995355931825415, val accuracy=0.7965116279069767: 100%|████████| 3/3 [00:00<00:00, 216.58it/s]\n",
      "Epoch 71: train loss=0.00235902943988654, train accuracy=0.8059701492537313: 100%|█████| 25/25 [00:00<00:00, 97.36it/s]\n",
      "Epoch 71: val loss=0.0025476564241703166, val accuracy=0.8081395348837209: 100%|████████| 3/3 [00:00<00:00, 239.22it/s]\n",
      "Epoch 72: train loss=0.00233486932953173, train accuracy=0.8066190785204412: 100%|█████| 25/25 [00:00<00:00, 97.46it/s]\n",
      "Epoch 72: val loss=0.002459955510011939, val accuracy=0.8023255813953488: 100%|█████████| 3/3 [00:00<00:00, 206.46it/s]\n",
      "Epoch 73: train loss=0.002289533368532415, train accuracy=0.8046722907203114: 100%|████| 25/25 [00:00<00:00, 98.44it/s]\n",
      "Epoch 73: val loss=0.002490273308615352, val accuracy=0.8081395348837209: 100%|█████████| 3/3 [00:00<00:00, 229.44it/s]\n",
      "Epoch 74: train loss=0.0023176743226496913, train accuracy=0.8137573004542504: 100%|███| 25/25 [00:00<00:00, 97.48it/s]\n",
      "Epoch 74: val loss=0.0023802925161151, val accuracy=0.8023255813953488: 100%|███████████| 3/3 [00:00<00:00, 245.57it/s]\n",
      "Epoch 75: train loss=0.002393543599372866, train accuracy=0.8189487345879299: 100%|████| 25/25 [00:00<00:00, 98.57it/s]\n",
      "Epoch 75: val loss=0.002490226482582647, val accuracy=0.8081395348837209: 100%|█████████| 3/3 [00:00<00:00, 238.24it/s]\n",
      "Epoch 76: train loss=0.00232108036451414, train accuracy=0.8124594419208306: 100%|████| 25/25 [00:00<00:00, 100.12it/s]\n",
      "Epoch 76: val loss=0.0024828387554301774, val accuracy=0.8023255813953488: 100%|████████| 3/3 [00:00<00:00, 221.94it/s]\n",
      "Epoch 77: train loss=0.0022141101427429455, train accuracy=0.8170019467878001: 100%|██| 25/25 [00:00<00:00, 100.71it/s]\n",
      "Epoch 77: val loss=0.0023828494947317033, val accuracy=0.7906976744186046: 100%|████████| 3/3 [00:00<00:00, 247.26it/s]\n",
      "Epoch 78: train loss=0.0022569843347315507, train accuracy=0.8137573004542504: 100%|███| 25/25 [00:00<00:00, 96.19it/s]\n",
      "Epoch 78: val loss=0.002394769080849581, val accuracy=0.7965116279069767: 100%|█████████| 3/3 [00:00<00:00, 206.00it/s]\n",
      "Epoch 79: train loss=0.00228927265623032, train accuracy=0.8157040882543802: 100%|█████| 25/25 [00:00<00:00, 90.64it/s]\n",
      "Epoch 79: val loss=0.0024170196333596875, val accuracy=0.8023255813953488: 100%|████████| 3/3 [00:00<00:00, 246.44it/s]\n",
      "Epoch 80: train loss=0.0022221988648427607, train accuracy=0.8208955223880597: 100%|███| 25/25 [00:00<00:00, 98.42it/s]\n",
      "Epoch 80: val loss=0.0023702675000179647, val accuracy=0.7965116279069767: 100%|████████| 3/3 [00:00<00:00, 213.49it/s]\n",
      "Epoch 81: train loss=0.0023134944260623223, train accuracy=0.8066190785204412: 100%|███| 25/25 [00:00<00:00, 95.86it/s]\n",
      "Epoch 81: val loss=0.0024248768770417503, val accuracy=0.7965116279069767: 100%|████████| 3/3 [00:00<00:00, 238.90it/s]\n",
      "Epoch 82: train loss=0.002321154406169728, train accuracy=0.8241401687216093: 100%|████| 25/25 [00:00<00:00, 91.33it/s]\n",
      "Epoch 82: val loss=0.0024749926876190096, val accuracy=0.7732558139534884: 100%|████████| 3/3 [00:00<00:00, 229.70it/s]\n",
      "Epoch 83: train loss=0.002353433120722588, train accuracy=0.8150551589876703: 100%|████| 25/25 [00:00<00:00, 92.99it/s]\n",
      "Epoch 83: val loss=0.0024248253294201784, val accuracy=0.7906976744186046: 100%|████████| 3/3 [00:00<00:00, 190.24it/s]\n",
      "Epoch 84: train loss=0.0023995174226785617, train accuracy=0.8215444516547696: 100%|███| 25/25 [00:00<00:00, 92.56it/s]\n",
      "Epoch 84: val loss=0.002405742140010346, val accuracy=0.7790697674418605: 100%|█████████| 3/3 [00:00<00:00, 229.08it/s]\n",
      "Epoch 85: train loss=0.0022360816414212347, train accuracy=0.8157040882543802: 100%|███| 25/25 [00:00<00:00, 93.67it/s]\n",
      "Epoch 85: val loss=0.002370343651882438, val accuracy=0.7906976744186046: 100%|█████████| 3/3 [00:00<00:00, 221.50it/s]\n",
      "Epoch 86: train loss=0.002279595357694075, train accuracy=0.8157040882543802: 100%|████| 25/25 [00:00<00:00, 94.68it/s]\n",
      "Epoch 86: val loss=0.002456557352182477, val accuracy=0.7965116279069767: 100%|█████████| 3/3 [00:00<00:00, 259.59it/s]\n",
      "Epoch 87: train loss=0.002258084815945585, train accuracy=0.8254380272550292: 100%|████| 25/25 [00:00<00:00, 94.08it/s]\n",
      "Epoch 87: val loss=0.0025592073798179626, val accuracy=0.7965116279069767: 100%|████████| 3/3 [00:00<00:00, 212.99it/s]\n",
      "Epoch 88: train loss=0.0023863767500360007, train accuracy=0.8228423101881895: 100%|██| 25/25 [00:00<00:00, 100.16it/s]\n",
      "Epoch 88: val loss=0.0024560576001572054, val accuracy=0.8023255813953488: 100%|████████| 3/3 [00:00<00:00, 239.16it/s]\n",
      "Epoch 89: train loss=0.002473081037218427, train accuracy=0.8299805321219987: 100%|███| 25/25 [00:00<00:00, 101.66it/s]\n",
      "Epoch 89: val loss=0.0024119820012602697, val accuracy=0.7965116279069767: 100%|████████| 3/3 [00:00<00:00, 226.64it/s]\n",
      "Epoch 90: train loss=0.0022070174680214128, train accuracy=0.8293316028552887: 100%|███| 25/25 [00:00<00:00, 94.81it/s]\n",
      "Epoch 90: val loss=0.0023777272638886475, val accuracy=0.8081395348837209: 100%|████████| 3/3 [00:00<00:00, 238.74it/s]\n",
      "Epoch 91: train loss=0.002359654901864697, train accuracy=0.8215444516547696: 100%|████| 25/25 [00:00<00:00, 98.29it/s]\n",
      "Epoch 91: val loss=0.002414816080830818, val accuracy=0.813953488372093: 100%|██████████| 3/3 [00:00<00:00, 232.75it/s]\n",
      "Epoch 92: train loss=0.002177895324172949, train accuracy=0.8312783906554185: 100%|████| 25/25 [00:00<00:00, 93.76it/s]\n",
      "Epoch 92: val loss=0.00247564327058404, val accuracy=0.8023255813953488: 100%|██████████| 3/3 [00:00<00:00, 259.97it/s]\n",
      "Epoch 93: train loss=0.0022165999009886167, train accuracy=0.827384815055159: 100%|████| 25/25 [00:00<00:00, 94.90it/s]\n",
      "Epoch 93: val loss=0.002447987798341485, val accuracy=0.8023255813953488: 100%|█████████| 3/3 [00:00<00:00, 239.13it/s]\n",
      "Epoch 94: train loss=0.0022099088638111958, train accuracy=0.8351719662556781: 100%|███| 25/25 [00:00<00:00, 96.86it/s]\n",
      "Epoch 94: val loss=0.0024183482624763664, val accuracy=0.7848837209302325: 100%|████████| 3/3 [00:00<00:00, 238.96it/s]\n",
      "Epoch 95: train loss=0.00209800335037716, train accuracy=0.8397144711226476: 100%|█████| 25/25 [00:00<00:00, 96.63it/s]\n",
      "Epoch 95: val loss=0.002427941924610803, val accuracy=0.8023255813953488: 100%|█████████| 3/3 [00:00<00:00, 206.16it/s]\n",
      "Epoch 96: train loss=0.0020451317967376797, train accuracy=0.8332251784555483: 100%|███| 25/25 [00:00<00:00, 89.13it/s]\n",
      "Epoch 96: val loss=0.002415652711724126, val accuracy=0.7906976744186046: 100%|█████████| 3/3 [00:00<00:00, 254.51it/s]\n"
     ]
    },
    {
     "name": "stderr",
     "output_type": "stream",
     "text": [
      "Epoch 97: train loss=0.0022651973790274588, train accuracy=0.8215444516547696: 100%|██| 25/25 [00:00<00:00, 102.99it/s]\n",
      "Epoch 97: val loss=0.002356385119086088, val accuracy=0.7848837209302325: 100%|█████████| 3/3 [00:00<00:00, 228.11it/s]\n"
     ]
    },
    {
     "name": "stdout",
     "output_type": "stream",
     "text": [
      "New model saved, val loss 0.002358339770242225 -> 0.002356385119086088\n"
     ]
    },
    {
     "name": "stderr",
     "output_type": "stream",
     "text": [
      "Epoch 98: train loss=0.0021023074918022256, train accuracy=0.827384815055159: 100%|████| 25/25 [00:00<00:00, 99.07it/s]\n",
      "Epoch 98: val loss=0.002469970952979354, val accuracy=0.8081395348837209: 100%|█████████| 3/3 [00:00<00:00, 198.66it/s]\n",
      "Epoch 99: train loss=0.002157867887939129, train accuracy=0.827384815055159: 100%|█████| 25/25 [00:00<00:00, 99.70it/s]\n",
      "Epoch 99: val loss=0.002433848675600318, val accuracy=0.7848837209302325: 100%|█████████| 3/3 [00:00<00:00, 239.72it/s]\n",
      "Epoch 0: train loss=0.004034069288790342, train accuracy=0.5476963011031798: 100%|█████| 25/25 [00:00<00:00, 99.04it/s]\n",
      "Epoch 0: val loss=0.004259580529706423, val accuracy=0.5581395348837209: 100%|██████████| 3/3 [00:00<00:00, 247.37it/s]\n"
     ]
    },
    {
     "name": "stdout",
     "output_type": "stream",
     "text": [
      "New model saved, val loss inf -> 0.004259580529706423\n"
     ]
    },
    {
     "name": "stderr",
     "output_type": "stream",
     "text": [
      "Epoch 1: train loss=0.0038334910046505044, train accuracy=0.6048020765736535: 100%|███| 25/25 [00:00<00:00, 100.24it/s]\n",
      "Epoch 1: val loss=0.004185498887023261, val accuracy=0.5872093023255814: 100%|██████████| 3/3 [00:00<00:00, 239.09it/s]\n"
     ]
    },
    {
     "name": "stdout",
     "output_type": "stream",
     "text": [
      "New model saved, val loss 0.004259580529706423 -> 0.004185498887023261\n"
     ]
    },
    {
     "name": "stderr",
     "output_type": "stream",
     "text": [
      "Epoch 2: train loss=0.0036430633799121566, train accuracy=0.6171317326411421: 100%|████| 25/25 [00:00<00:00, 96.75it/s]\n",
      "Epoch 2: val loss=0.004182288379863251, val accuracy=0.5872093023255814: 100%|██████████| 3/3 [00:00<00:00, 229.64it/s]\n"
     ]
    },
    {
     "name": "stdout",
     "output_type": "stream",
     "text": [
      "New model saved, val loss 0.004185498887023261 -> 0.004182288379863251\n"
     ]
    },
    {
     "name": "stderr",
     "output_type": "stream",
     "text": [
      "Epoch 3: train loss=0.0035741528487685126, train accuracy=0.645684620376379: 100%|█████| 25/25 [00:00<00:00, 95.72it/s]\n",
      "Epoch 3: val loss=0.004101254998944526, val accuracy=0.6046511627906976: 100%|██████████| 3/3 [00:00<00:00, 221.41it/s]\n"
     ]
    },
    {
     "name": "stdout",
     "output_type": "stream",
     "text": [
      "New model saved, val loss 0.004182288379863251 -> 0.004101254998944526\n"
     ]
    },
    {
     "name": "stderr",
     "output_type": "stream",
     "text": [
      "Epoch 4: train loss=0.0035001646188232206, train accuracy=0.6541207008436081: 100%|███| 25/25 [00:00<00:00, 100.04it/s]\n",
      "Epoch 4: val loss=0.004130225282075794, val accuracy=0.6162790697674418: 100%|██████████| 3/3 [00:00<00:00, 206.37it/s]\n",
      "Epoch 5: train loss=0.0034288239413310306, train accuracy=0.6658014276443868: 100%|████| 25/25 [00:00<00:00, 94.91it/s]\n",
      "Epoch 5: val loss=0.004041883747938068, val accuracy=0.6104651162790697: 100%|██████████| 3/3 [00:00<00:00, 230.65it/s]\n"
     ]
    },
    {
     "name": "stdout",
     "output_type": "stream",
     "text": [
      "New model saved, val loss 0.004101254998944526 -> 0.004041883747938068\n"
     ]
    },
    {
     "name": "stderr",
     "output_type": "stream",
     "text": [
      "Epoch 6: train loss=0.0033424875416746395, train accuracy=0.6852693056456847: 100%|████| 25/25 [00:00<00:00, 94.14it/s]\n",
      "Epoch 6: val loss=0.004010418300018754, val accuracy=0.5930232558139535: 100%|██████████| 3/3 [00:00<00:00, 221.68it/s]\n"
     ]
    },
    {
     "name": "stdout",
     "output_type": "stream",
     "text": [
      "New model saved, val loss 0.004041883747938068 -> 0.004010418300018754\n"
     ]
    },
    {
     "name": "stderr",
     "output_type": "stream",
     "text": [
      "Epoch 7: train loss=0.003178748718567439, train accuracy=0.7034393251135627: 100%|█████| 25/25 [00:00<00:00, 97.24it/s]\n",
      "Epoch 7: val loss=0.004062511546667232, val accuracy=0.6046511627906976: 100%|██████████| 3/3 [00:00<00:00, 206.58it/s]\n",
      "Epoch 8: train loss=0.0031457001284141963, train accuracy=0.7170668397144712: 100%|████| 25/25 [00:00<00:00, 92.66it/s]\n",
      "Epoch 8: val loss=0.004066143444804258, val accuracy=0.6046511627906976: 100%|██████████| 3/3 [00:00<00:00, 215.46it/s]\n",
      "Epoch 9: train loss=0.003071419851181184, train accuracy=0.7157689811810513: 100%|█████| 25/25 [00:00<00:00, 97.11it/s]\n",
      "Epoch 9: val loss=0.003959581429182097, val accuracy=0.5813953488372093: 100%|██████████| 3/3 [00:00<00:00, 199.13it/s]\n"
     ]
    },
    {
     "name": "stdout",
     "output_type": "stream",
     "text": [
      "New model saved, val loss 0.004010418300018754 -> 0.003959581429182097\n"
     ]
    },
    {
     "name": "stderr",
     "output_type": "stream",
     "text": [
      "Epoch 10: train loss=0.0029488064440560758, train accuracy=0.7410772225827384: 100%|███| 25/25 [00:00<00:00, 97.50it/s]\n",
      "Epoch 10: val loss=0.00400231986544853, val accuracy=0.5930232558139535: 100%|██████████| 3/3 [00:00<00:00, 206.11it/s]\n",
      "Epoch 11: train loss=0.0028982112192627984, train accuracy=0.7475665152498377: 100%|███| 25/25 [00:00<00:00, 96.10it/s]\n",
      "Epoch 11: val loss=0.003921451870092126, val accuracy=0.5813953488372093: 100%|█████████| 3/3 [00:00<00:00, 213.43it/s]\n"
     ]
    },
    {
     "name": "stdout",
     "output_type": "stream",
     "text": [
      "New model saved, val loss 0.003959581429182097 -> 0.003921451870092126\n"
     ]
    },
    {
     "name": "stderr",
     "output_type": "stream",
     "text": [
      "Epoch 12: train loss=0.0028020766920891773, train accuracy=0.7689811810512654: 100%|███| 25/25 [00:00<00:00, 93.91it/s]\n",
      "Epoch 12: val loss=0.004053608795931173, val accuracy=0.5755813953488372: 100%|█████████| 3/3 [00:00<00:00, 214.83it/s]\n",
      "Epoch 13: train loss=0.0026703186086599585, train accuracy=0.7715768981181051: 100%|███| 25/25 [00:00<00:00, 98.16it/s]\n",
      "Epoch 13: val loss=0.004066407593876817, val accuracy=0.5930232558139535: 100%|█████████| 3/3 [00:00<00:00, 239.33it/s]\n",
      "Epoch 14: train loss=0.0026383090046301514, train accuracy=0.7793640493186242: 100%|███| 25/25 [00:00<00:00, 97.46it/s]\n",
      "Epoch 14: val loss=0.004054821854413942, val accuracy=0.5930232558139535: 100%|█████████| 3/3 [00:00<00:00, 238.68it/s]\n",
      "Epoch 15: train loss=0.0025841803480324073, train accuracy=0.7839065541855937: 100%|███| 25/25 [00:00<00:00, 96.13it/s]\n",
      "Epoch 15: val loss=0.003971133121224337, val accuracy=0.5988372093023255: 100%|█████████| 3/3 [00:00<00:00, 239.04it/s]\n",
      "Epoch 16: train loss=0.002563644246494979, train accuracy=0.8001297858533419: 100%|████| 25/25 [00:00<00:00, 98.60it/s]\n",
      "Epoch 16: val loss=0.004039307146571403, val accuracy=0.5813953488372093: 100%|█████████| 3/3 [00:00<00:00, 198.66it/s]\n",
      "Epoch 17: train loss=0.0024320795010390954, train accuracy=0.8079169370538611: 100%|███| 25/25 [00:00<00:00, 98.04it/s]\n",
      "Epoch 17: val loss=0.004127962211536807, val accuracy=0.5872093023255814: 100%|█████████| 3/3 [00:00<00:00, 221.39it/s]\n",
      "Epoch 18: train loss=0.002352361914826863, train accuracy=0.8066190785204412: 100%|████| 25/25 [00:00<00:00, 92.36it/s]\n",
      "Epoch 18: val loss=0.004043116039314935, val accuracy=0.5930232558139535: 100%|█████████| 3/3 [00:00<00:00, 213.10it/s]\n",
      "Epoch 19: train loss=0.0023105741562509134, train accuracy=0.827384815055159: 100%|████| 25/25 [00:00<00:00, 97.16it/s]\n",
      "Epoch 19: val loss=0.004116582316021586, val accuracy=0.6104651162790697: 100%|█████████| 3/3 [00:00<00:00, 213.15it/s]\n",
      "Epoch 20: train loss=0.0022384568923174137, train accuracy=0.8293316028552887: 100%|██| 25/25 [00:00<00:00, 101.56it/s]\n",
      "Epoch 20: val loss=0.003935123165679532, val accuracy=0.622093023255814: 100%|██████████| 3/3 [00:00<00:00, 221.04it/s]\n",
      "Epoch 21: train loss=0.0022193629108490224, train accuracy=0.8462037637897469: 100%|███| 25/25 [00:00<00:00, 94.26it/s]\n",
      "Epoch 21: val loss=0.004130397511776103, val accuracy=0.5988372093023255: 100%|█████████| 3/3 [00:00<00:00, 204.93it/s]\n",
      "Epoch 22: train loss=0.002136418082201968, train accuracy=0.8487994808565866: 100%|████| 25/25 [00:00<00:00, 93.73it/s]\n",
      "Epoch 22: val loss=0.004113560845685559, val accuracy=0.6162790697674418: 100%|█████████| 3/3 [00:00<00:00, 228.39it/s]\n",
      "Epoch 23: train loss=0.0019792175182733033, train accuracy=0.8624269954574951: 100%|███| 25/25 [00:00<00:00, 98.87it/s]\n",
      "Epoch 23: val loss=0.004132223857003589, val accuracy=0.6395348837209303: 100%|█████████| 3/3 [00:00<00:00, 221.52it/s]\n",
      "Epoch 24: train loss=0.0020601218741563604, train accuracy=0.8663205710577547: 100%|███| 25/25 [00:00<00:00, 96.73it/s]\n",
      "Epoch 24: val loss=0.004005564939837123, val accuracy=0.6453488372093024: 100%|█████████| 3/3 [00:00<00:00, 221.75it/s]\n",
      "Epoch 25: train loss=0.0018573520072940725, train accuracy=0.8747566515249838: 100%|███| 25/25 [00:00<00:00, 99.45it/s]\n",
      "Epoch 25: val loss=0.004104441768208215, val accuracy=0.6337209302325582: 100%|█████████| 3/3 [00:00<00:00, 213.45it/s]\n",
      "Epoch 26: train loss=0.0018860632668525504, train accuracy=0.8741077222582738: 100%|███| 25/25 [00:00<00:00, 99.61it/s]\n",
      "Epoch 26: val loss=0.004167566725680995, val accuracy=0.6337209302325582: 100%|█████████| 3/3 [00:00<00:00, 221.92it/s]\n",
      "Epoch 27: train loss=0.0017147663736559987, train accuracy=0.8877352368591823: 100%|███| 25/25 [00:00<00:00, 98.04it/s]\n",
      "Epoch 27: val loss=0.004144394207139348, val accuracy=0.6627906976744186: 100%|█████████| 3/3 [00:00<00:00, 195.34it/s]\n",
      "Epoch 28: train loss=0.0016387296546828353, train accuracy=0.8922777417261518: 100%|███| 25/25 [00:00<00:00, 97.85it/s]\n",
      "Epoch 28: val loss=0.00418813552620799, val accuracy=0.6337209302325582: 100%|██████████| 3/3 [00:00<00:00, 221.56it/s]\n",
      "Epoch 29: train loss=0.0016571979759421773, train accuracy=0.9013627514600908: 100%|███| 25/25 [00:00<00:00, 95.70it/s]\n",
      "Epoch 29: val loss=0.004166814303675363, val accuracy=0.627906976744186: 100%|██████████| 3/3 [00:00<00:00, 236.51it/s]\n",
      "Epoch 30: train loss=0.0015313700083244319, train accuracy=0.9072031148604802: 100%|███| 25/25 [00:00<00:00, 97.63it/s]\n",
      "Epoch 30: val loss=0.004170565844275231, val accuracy=0.6337209302325582: 100%|█████████| 3/3 [00:00<00:00, 180.64it/s]\n",
      "Epoch 31: train loss=0.0014662977445829542, train accuracy=0.9156391953277093: 100%|██| 25/25 [00:00<00:00, 100.91it/s]\n",
      "Epoch 31: val loss=0.004051911016536313, val accuracy=0.6569767441860465: 100%|█████████| 3/3 [00:00<00:00, 244.45it/s]\n",
      "Epoch 32: train loss=0.0014146156053044903, train accuracy=0.918234912394549: 100%|████| 25/25 [00:00<00:00, 95.46it/s]\n",
      "Epoch 32: val loss=0.004172828828179559, val accuracy=0.6627906976744186: 100%|█████████| 3/3 [00:00<00:00, 238.83it/s]\n",
      "Epoch 33: train loss=0.0013943760039975008, train accuracy=0.9227774172615185: 100%|███| 25/25 [00:00<00:00, 99.23it/s]\n",
      "Epoch 33: val loss=0.004229137717291366, val accuracy=0.6511627906976745: 100%|█████████| 3/3 [00:00<00:00, 199.23it/s]\n",
      "Epoch 34: train loss=0.0013056071662500568, train accuracy=0.9377027903958468: 100%|███| 25/25 [00:00<00:00, 99.22it/s]\n",
      "Epoch 34: val loss=0.004133689542149388, val accuracy=0.6627906976744186: 100%|█████████| 3/3 [00:00<00:00, 199.28it/s]\n",
      "Epoch 35: train loss=0.0013588350616748422, train accuracy=0.9318624269954575: 100%|███| 25/25 [00:00<00:00, 91.73it/s]\n",
      "Epoch 35: val loss=0.004273285872714464, val accuracy=0.6337209302325582: 100%|█████████| 3/3 [00:00<00:00, 237.03it/s]\n",
      "Epoch 36: train loss=0.0011425679507269478, train accuracy=0.9402985074626866: 100%|███| 25/25 [00:00<00:00, 96.42it/s]\n",
      "Epoch 36: val loss=0.004133487423492032, val accuracy=0.6569767441860465: 100%|█████████| 3/3 [00:00<00:00, 221.89it/s]\n",
      "Epoch 37: train loss=0.001168623897818139, train accuracy=0.9409474367293965: 100%|████| 25/25 [00:00<00:00, 96.76it/s]\n",
      "Epoch 37: val loss=0.004220378953357076, val accuracy=0.6395348837209303: 100%|█████████| 3/3 [00:00<00:00, 228.69it/s]\n",
      "Epoch 38: train loss=0.0010756792707307086, train accuracy=0.9532770927968851: 100%|███| 25/25 [00:00<00:00, 92.93it/s]\n",
      "Epoch 38: val loss=0.004216278881527657, val accuracy=0.6627906976744186: 100%|█████████| 3/3 [00:00<00:00, 239.51it/s]\n",
      "Epoch 39: train loss=0.0010126990149502317, train accuracy=0.9565217391304348: 100%|██| 25/25 [00:00<00:00, 103.74it/s]\n",
      "Epoch 39: val loss=0.004240269057972487, val accuracy=0.6453488372093024: 100%|█████████| 3/3 [00:00<00:00, 221.83it/s]\n",
      "Epoch 40: train loss=0.0010434182132319303, train accuracy=0.9526281635301752: 100%|███| 25/25 [00:00<00:00, 97.49it/s]\n",
      "Epoch 40: val loss=0.004334431921326837, val accuracy=0.6337209302325582: 100%|█████████| 3/3 [00:00<00:00, 221.56it/s]\n",
      "Epoch 41: train loss=0.0010001010211313954, train accuracy=0.9591174561972745: 100%|██| 25/25 [00:00<00:00, 107.04it/s]\n",
      "Epoch 41: val loss=0.004423365343448727, val accuracy=0.6511627906976745: 100%|█████████| 3/3 [00:00<00:00, 221.94it/s]\n",
      "Epoch 42: train loss=0.0009724104052952247, train accuracy=0.9695003244646333: 100%|██| 25/25 [00:00<00:00, 100.18it/s]\n",
      "Epoch 42: val loss=0.004374896977529969, val accuracy=0.6162790697674418: 100%|█████████| 3/3 [00:00<00:00, 230.37it/s]\n",
      "Epoch 43: train loss=0.0008717909610016172, train accuracy=0.9688513951979234: 100%|██| 25/25 [00:00<00:00, 100.60it/s]\n",
      "Epoch 43: val loss=0.004262994021870369, val accuracy=0.6337209302325582: 100%|█████████| 3/3 [00:00<00:00, 242.07it/s]\n",
      "Epoch 44: train loss=0.0009358076138166852, train accuracy=0.9733939000648929: 100%|███| 25/25 [00:00<00:00, 99.95it/s]\n",
      "Epoch 44: val loss=0.004450170106666033, val accuracy=0.6337209302325582: 100%|█████████| 3/3 [00:00<00:00, 192.73it/s]\n",
      "Epoch 45: train loss=0.0008621980193796907, train accuracy=0.9707981829980532: 100%|███| 25/25 [00:00<00:00, 90.58it/s]\n",
      "Epoch 45: val loss=0.004263907151166783, val accuracy=0.6511627906976745: 100%|█████████| 3/3 [00:00<00:00, 222.01it/s]\n"
     ]
    },
    {
     "name": "stderr",
     "output_type": "stream",
     "text": [
      "Epoch 46: train loss=0.0007273377554514128, train accuracy=0.9753406878650227: 100%|███| 25/25 [00:00<00:00, 93.93it/s]\n",
      "Epoch 46: val loss=0.0043620068666546845, val accuracy=0.6337209302325582: 100%|████████| 3/3 [00:00<00:00, 259.17it/s]\n",
      "Epoch 47: train loss=0.0007506796001111587, train accuracy=0.9779364049318624: 100%|███| 25/25 [00:00<00:00, 93.18it/s]\n",
      "Epoch 47: val loss=0.004500604386246482, val accuracy=0.6569767441860465: 100%|█████████| 3/3 [00:00<00:00, 229.44it/s]\n",
      "Epoch 48: train loss=0.0007542728214953179, train accuracy=0.9811810512654121: 100%|███| 25/25 [00:00<00:00, 98.82it/s]\n",
      "Epoch 48: val loss=0.0044765278350475226, val accuracy=0.6104651162790697: 100%|████████| 3/3 [00:00<00:00, 221.80it/s]\n",
      "Epoch 49: train loss=0.0006912186388881232, train accuracy=0.9798831927319922: 100%|██| 25/25 [00:00<00:00, 103.08it/s]\n",
      "Epoch 49: val loss=0.0045532015000664915, val accuracy=0.627906976744186: 100%|█████████| 3/3 [00:00<00:00, 222.58it/s]\n",
      "Epoch 50: train loss=0.0007754786618145777, train accuracy=0.981829980532122: 100%|████| 25/25 [00:00<00:00, 99.14it/s]\n",
      "Epoch 50: val loss=0.0043805392329082935, val accuracy=0.627906976744186: 100%|█████████| 3/3 [00:00<00:00, 239.00it/s]\n",
      "Epoch 51: train loss=0.0005732147031542854, train accuracy=0.9889682024659312: 100%|███| 25/25 [00:00<00:00, 99.57it/s]\n",
      "Epoch 51: val loss=0.0044168891428514965, val accuracy=0.6162790697674418: 100%|████████| 3/3 [00:00<00:00, 206.19it/s]\n",
      "Epoch 52: train loss=0.0005501519615467611, train accuracy=0.9889682024659312: 100%|███| 25/25 [00:00<00:00, 96.61it/s]\n",
      "Epoch 52: val loss=0.004545782367850459, val accuracy=0.6104651162790697: 100%|█████████| 3/3 [00:00<00:00, 227.53it/s]\n",
      "Epoch 53: train loss=0.0005103136901728601, train accuracy=0.9883192731992213: 100%|███| 25/25 [00:00<00:00, 91.17it/s]\n",
      "Epoch 53: val loss=0.004477471113204956, val accuracy=0.6104651162790697: 100%|█████████| 3/3 [00:00<00:00, 199.21it/s]\n",
      "Epoch 54: train loss=0.0004898941230166662, train accuracy=0.9902660609993511: 100%|███| 25/25 [00:00<00:00, 91.83it/s]\n",
      "Epoch 54: val loss=0.004571990911350693, val accuracy=0.6162790697674418: 100%|█████████| 3/3 [00:00<00:00, 221.46it/s]\n",
      "Epoch 55: train loss=0.0004622967736064266, train accuracy=0.9915639195327709: 100%|██| 25/25 [00:00<00:00, 100.29it/s]\n",
      "Epoch 55: val loss=0.004464092729396598, val accuracy=0.6395348837209303: 100%|█████████| 3/3 [00:00<00:00, 226.41it/s]\n",
      "Epoch 56: train loss=0.0004013010532166724, train accuracy=0.9922128487994809: 100%|███| 25/25 [00:00<00:00, 98.98it/s]\n",
      "Epoch 56: val loss=0.004359657507996226, val accuracy=0.6337209302325582: 100%|█████████| 3/3 [00:00<00:00, 221.61it/s]\n",
      "Epoch 57: train loss=0.0005663682239481878, train accuracy=0.9922128487994809: 100%|███| 25/25 [00:00<00:00, 96.97it/s]\n",
      "Epoch 57: val loss=0.004365063943835192, val accuracy=0.6337209302325582: 100%|█████████| 3/3 [00:00<00:00, 222.61it/s]\n",
      "Epoch 58: train loss=0.0004719044798036275, train accuracy=0.9941596365996106: 100%|███| 25/25 [00:00<00:00, 93.26it/s]\n",
      "Epoch 58: val loss=0.004582262056511502, val accuracy=0.6627906976744186: 100%|█████████| 3/3 [00:00<00:00, 221.25it/s]\n",
      "Epoch 59: train loss=0.00049654661274668, train accuracy=0.9889682024659312: 100%|█████| 25/25 [00:00<00:00, 95.83it/s]\n",
      "Epoch 59: val loss=0.004435265393451203, val accuracy=0.6337209302325582: 100%|█████████| 3/3 [00:00<00:00, 248.59it/s]\n",
      "Epoch 60: train loss=0.00041615594683685217, train accuracy=0.9883192731992213: 100%|██| 25/25 [00:00<00:00, 95.02it/s]\n",
      "Epoch 60: val loss=0.004432870031789292, val accuracy=0.6453488372093024: 100%|█████████| 3/3 [00:00<00:00, 221.50it/s]\n",
      "Epoch 61: train loss=0.0005838235756799356, train accuracy=0.9915639195327709: 100%|███| 25/25 [00:00<00:00, 94.86it/s]\n",
      "Epoch 61: val loss=0.004290377591238465, val accuracy=0.622093023255814: 100%|██████████| 3/3 [00:00<00:00, 205.09it/s]\n",
      "Epoch 62: train loss=0.00045042012447683475, train accuracy=0.9922128487994809: 100%|██| 25/25 [00:00<00:00, 96.58it/s]\n",
      "Epoch 62: val loss=0.004399618610393169, val accuracy=0.6337209302325582: 100%|█████████| 3/3 [00:00<00:00, 239.05it/s]\n",
      "Epoch 63: train loss=0.0003677428398452975, train accuracy=0.9967553536664504: 100%|███| 25/25 [00:00<00:00, 97.66it/s]\n",
      "Epoch 63: val loss=0.004379911131637041, val accuracy=0.622093023255814: 100%|██████████| 3/3 [00:00<00:00, 230.52it/s]\n",
      "Epoch 64: train loss=0.0003765813467237255, train accuracy=0.990914990266061: 100%|████| 25/25 [00:00<00:00, 94.29it/s]\n",
      "Epoch 64: val loss=0.004476619494515796, val accuracy=0.6337209302325582: 100%|█████████| 3/3 [00:00<00:00, 180.06it/s]\n",
      "Epoch 65: train loss=0.0006333836895219696, train accuracy=0.9915639195327709: 100%|███| 25/25 [00:00<00:00, 99.40it/s]\n",
      "Epoch 65: val loss=0.004617757835360461, val accuracy=0.627906976744186: 100%|██████████| 3/3 [00:00<00:00, 239.29it/s]\n",
      "Epoch 66: train loss=0.0003291132813349782, train accuracy=0.9954574951330305: 100%|███| 25/25 [00:00<00:00, 98.31it/s]\n",
      "Epoch 66: val loss=0.0047862205741017365, val accuracy=0.627906976744186: 100%|█████████| 3/3 [00:00<00:00, 221.50it/s]\n",
      "Epoch 67: train loss=0.00029623660208786715, train accuracy=0.9967553536664504: 100%|██| 25/25 [00:00<00:00, 96.95it/s]\n",
      "Epoch 67: val loss=0.004653003499951474, val accuracy=0.627906976744186: 100%|██████████| 3/3 [00:00<00:00, 239.56it/s]\n",
      "Epoch 68: train loss=0.00039261169453610236, train accuracy=0.9967553536664504: 100%|██| 25/25 [00:00<00:00, 92.88it/s]\n",
      "Epoch 68: val loss=0.004609544349964275, val accuracy=0.6337209302325582: 100%|█████████| 3/3 [00:00<00:00, 221.58it/s]\n",
      "Epoch 69: train loss=0.00029065993437416595, train accuracy=0.9948085658663206: 100%|██| 25/25 [00:00<00:00, 94.16it/s]\n",
      "Epoch 69: val loss=0.004516728742178096, val accuracy=0.6162790697674418: 100%|█████████| 3/3 [00:00<00:00, 221.81it/s]\n",
      "Epoch 70: train loss=0.0003349060279732397, train accuracy=0.9948085658663206: 100%|███| 25/25 [00:00<00:00, 95.93it/s]\n",
      "Epoch 70: val loss=0.004577167332172394, val accuracy=0.6511627906976745: 100%|█████████| 3/3 [00:00<00:00, 206.07it/s]\n",
      "Epoch 71: train loss=0.0002824877002587727, train accuracy=0.9954574951330305: 100%|███| 25/25 [00:00<00:00, 98.30it/s]\n",
      "Epoch 71: val loss=0.004650504609873128, val accuracy=0.6395348837209303: 100%|█████████| 3/3 [00:00<00:00, 221.63it/s]\n",
      "Epoch 72: train loss=0.00032943683222545425, train accuracy=0.9954574951330305: 100%|█| 25/25 [00:00<00:00, 102.19it/s]\n",
      "Epoch 72: val loss=0.004557379023280255, val accuracy=0.6337209302325582: 100%|█████████| 3/3 [00:00<00:00, 226.17it/s]\n",
      "Epoch 73: train loss=0.00031731515188473605, train accuracy=0.9922128487994809: 100%|██| 25/25 [00:00<00:00, 97.41it/s]\n",
      "Epoch 73: val loss=0.00451926193958105, val accuracy=0.6627906976744186: 100%|██████████| 3/3 [00:00<00:00, 194.95it/s]\n",
      "Epoch 74: train loss=0.0002983955283861397, train accuracy=0.9954574951330305: 100%|███| 25/25 [00:00<00:00, 93.89it/s]\n",
      "Epoch 74: val loss=0.004509186242208924, val accuracy=0.627906976744186: 100%|██████████| 3/3 [00:00<00:00, 228.40it/s]\n",
      "Epoch 75: train loss=0.0002863809598113019, train accuracy=0.9974042829331603: 100%|███| 25/25 [00:00<00:00, 98.48it/s]\n",
      "Epoch 75: val loss=0.004468034259801687, val accuracy=0.6395348837209303: 100%|█████████| 3/3 [00:00<00:00, 229.13it/s]\n",
      "Epoch 76: train loss=0.0004714843820077038, train accuracy=0.9948085658663206: 100%|███| 25/25 [00:00<00:00, 97.82it/s]\n",
      "Epoch 76: val loss=0.004688121465056441, val accuracy=0.6511627906976745: 100%|█████████| 3/3 [00:00<00:00, 228.89it/s]\n",
      "Epoch 77: train loss=0.00035489048466743933, train accuracy=0.9967553536664504: 100%|██| 25/25 [00:00<00:00, 95.59it/s]\n",
      "Epoch 77: val loss=0.004458807322175004, val accuracy=0.6627906976744186: 100%|█████████| 3/3 [00:00<00:00, 185.35it/s]\n",
      "Epoch 78: train loss=0.0003428384915506739, train accuracy=0.9941596365996106: 100%|███| 25/25 [00:00<00:00, 97.48it/s]\n",
      "Epoch 78: val loss=0.004478478847548019, val accuracy=0.6395348837209303: 100%|█████████| 3/3 [00:00<00:00, 221.53it/s]\n",
      "Epoch 79: train loss=0.0005512631665685593, train accuracy=0.9889682024659312: 100%|███| 25/25 [00:00<00:00, 96.80it/s]\n",
      "Epoch 79: val loss=0.0045646988721780996, val accuracy=0.6569767441860465: 100%|████████| 3/3 [00:00<00:00, 213.33it/s]\n"
     ]
    },
    {
     "name": "stderr",
     "output_type": "stream",
     "text": [
      "Epoch 80: train loss=0.0004506467803490773, train accuracy=0.9935107073329007: 100%|██| 25/25 [00:00<00:00, 101.12it/s]\n",
      "Epoch 80: val loss=0.004507343349761741, val accuracy=0.6395348837209303: 100%|█████████| 3/3 [00:00<00:00, 212.48it/s]\n",
      "Epoch 81: train loss=0.00025686196496953136, train accuracy=0.9954574951330305: 100%|█| 25/25 [00:00<00:00, 101.00it/s]\n",
      "Epoch 81: val loss=0.0045166178498157235, val accuracy=0.6569767441860465: 100%|████████| 3/3 [00:00<00:00, 221.42it/s]\n",
      "Epoch 82: train loss=0.00021564082673458912, train accuracy=0.9987021414665801: 100%|██| 25/25 [00:00<00:00, 98.79it/s]\n",
      "Epoch 82: val loss=0.004567274693832841, val accuracy=0.6511627906976745: 100%|█████████| 3/3 [00:00<00:00, 239.42it/s]\n",
      "Epoch 83: train loss=0.00032871180636437195, train accuracy=0.9967553536664504: 100%|██| 25/25 [00:00<00:00, 98.23it/s]\n",
      "Epoch 83: val loss=0.004804154814675797, val accuracy=0.627906976744186: 100%|██████████| 3/3 [00:00<00:00, 248.67it/s]\n",
      "Epoch 84: train loss=0.00020278694100876198, train accuracy=0.9987021414665801: 100%|█| 25/25 [00:00<00:00, 103.24it/s]\n",
      "Epoch 84: val loss=0.004648204979508422, val accuracy=0.6453488372093024: 100%|█████████| 3/3 [00:00<00:00, 186.65it/s]\n",
      "Epoch 85: train loss=0.00027018552857567785, train accuracy=0.9974042829331603: 100%|█| 25/25 [00:00<00:00, 102.68it/s]\n",
      "Epoch 85: val loss=0.0045773970006510265, val accuracy=0.6627906976744186: 100%|████████| 3/3 [00:00<00:00, 248.88it/s]\n",
      "Epoch 86: train loss=0.0003429121131743416, train accuracy=0.9954574951330305: 100%|███| 25/25 [00:00<00:00, 99.42it/s]\n",
      "Epoch 86: val loss=0.004735144764878029, val accuracy=0.6395348837209303: 100%|█████████| 3/3 [00:00<00:00, 219.13it/s]\n",
      "Epoch 87: train loss=0.00018612176420422128, train accuracy=0.9974042829331603: 100%|██| 25/25 [00:00<00:00, 98.48it/s]\n",
      "Epoch 87: val loss=0.004556571155093437, val accuracy=0.6337209302325582: 100%|█████████| 3/3 [00:00<00:00, 221.50it/s]\n",
      "Epoch 88: train loss=0.00017848728305619696, train accuracy=0.9980532121998702: 100%|█| 25/25 [00:00<00:00, 102.71it/s]\n",
      "Epoch 88: val loss=0.004511698474024617, val accuracy=0.6511627906976745: 100%|█████████| 3/3 [00:00<00:00, 238.50it/s]\n",
      "Epoch 89: train loss=0.00022330700216173044, train accuracy=0.9980532121998702: 100%|██| 25/25 [00:00<00:00, 99.15it/s]\n",
      "Epoch 89: val loss=0.004626155332770459, val accuracy=0.6627906976744186: 100%|█████████| 3/3 [00:00<00:00, 219.38it/s]\n",
      "Epoch 90: train loss=0.0001794322270544646, train accuracy=0.9967553536664504: 100%|███| 25/25 [00:00<00:00, 96.51it/s]\n",
      "Epoch 90: val loss=0.004239257338435151, val accuracy=0.6395348837209303: 100%|█████████| 3/3 [00:00<00:00, 212.85it/s]\n",
      "Epoch 91: train loss=0.0004073778737885158, train accuracy=0.9974042829331603: 100%|███| 25/25 [00:00<00:00, 96.30it/s]\n",
      "Epoch 91: val loss=0.0046141504548316776, val accuracy=0.6453488372093024: 100%|████████| 3/3 [00:00<00:00, 242.64it/s]\n",
      "Epoch 92: train loss=0.0001717383987200794, train accuracy=0.9987021414665801: 100%|███| 25/25 [00:00<00:00, 92.28it/s]\n",
      "Epoch 92: val loss=0.004634654799173045, val accuracy=0.6337209302325582: 100%|█████████| 3/3 [00:00<00:00, 213.14it/s]\n",
      "Epoch 93: train loss=0.00019499642555683485, train accuracy=0.9967553536664504: 100%|██| 25/25 [00:00<00:00, 98.71it/s]\n",
      "Epoch 93: val loss=0.0045452834388544396, val accuracy=0.6511627906976745: 100%|████████| 3/3 [00:00<00:00, 239.56it/s]\n",
      "Epoch 94: train loss=0.0003566633756432651, train accuracy=0.9961064243997404: 100%|██| 25/25 [00:00<00:00, 101.07it/s]\n",
      "Epoch 94: val loss=0.00440670064715452, val accuracy=0.6627906976744186: 100%|██████████| 3/3 [00:00<00:00, 220.52it/s]\n",
      "Epoch 95: train loss=0.0002217124189666577, train accuracy=0.9948085658663206: 100%|███| 25/25 [00:00<00:00, 95.53it/s]\n",
      "Epoch 95: val loss=0.004788495686858199, val accuracy=0.6511627906976745: 100%|█████████| 3/3 [00:00<00:00, 229.24it/s]\n",
      "Epoch 96: train loss=0.0002611869750308727, train accuracy=0.9961064243997404: 100%|███| 25/25 [00:00<00:00, 95.91it/s]\n",
      "Epoch 96: val loss=0.004570826368276463, val accuracy=0.6569767441860465: 100%|█████████| 3/3 [00:00<00:00, 193.43it/s]\n",
      "Epoch 97: train loss=0.0001855732865225449, train accuracy=0.9987021414665801: 100%|███| 25/25 [00:00<00:00, 94.27it/s]\n",
      "Epoch 97: val loss=0.00465947484900785, val accuracy=0.6686046511627907: 100%|██████████| 3/3 [00:00<00:00, 229.98it/s]\n",
      "Epoch 98: train loss=0.00031556241005165943, train accuracy=0.9935107073329007: 100%|██| 25/25 [00:00<00:00, 94.63it/s]\n",
      "Epoch 98: val loss=0.004742175080748492, val accuracy=0.6453488372093024: 100%|█████████| 3/3 [00:00<00:00, 239.13it/s]\n",
      "Epoch 99: train loss=0.00022273596272230303, train accuracy=0.9980532121998702: 100%|██| 25/25 [00:00<00:00, 99.58it/s]\n",
      "Epoch 99: val loss=0.004538068764431532, val accuracy=0.6569767441860465: 100%|█████████| 3/3 [00:00<00:00, 221.53it/s]\n",
      "Epoch 0: train loss=0.00401462035315289, train accuracy=0.5412070084360805: 100%|██████| 25/25 [00:00<00:00, 92.02it/s]\n",
      "Epoch 0: val loss=0.004363667653050534, val accuracy=0.5581395348837209: 100%|██████████| 3/3 [00:00<00:00, 200.54it/s]\n"
     ]
    },
    {
     "name": "stdout",
     "output_type": "stream",
     "text": [
      "New model saved, val loss inf -> 0.004363667653050534\n"
     ]
    },
    {
     "name": "stderr",
     "output_type": "stream",
     "text": [
      "Epoch 1: train loss=0.003816731008208471, train accuracy=0.6048020765736535: 100%|█████| 25/25 [00:00<00:00, 93.25it/s]\n",
      "Epoch 1: val loss=0.004434009017639382, val accuracy=0.4883720930232558: 100%|██████████| 3/3 [00:00<00:00, 187.14it/s]\n",
      "Epoch 2: train loss=0.0036871449890111966, train accuracy=0.6054510058403634: 100%|████| 25/25 [00:00<00:00, 85.13it/s]\n",
      "Epoch 2: val loss=0.0043147989483766774, val accuracy=0.5465116279069767: 100%|█████████| 3/3 [00:00<00:00, 236.69it/s]\n"
     ]
    },
    {
     "name": "stdout",
     "output_type": "stream",
     "text": [
      "New model saved, val loss 0.004363667653050534 -> 0.0043147989483766774\n"
     ]
    },
    {
     "name": "stderr",
     "output_type": "stream",
     "text": [
      "Epoch 3: train loss=0.0036833712916959035, train accuracy=0.6145360155743024: 100%|████| 25/25 [00:00<00:00, 99.44it/s]\n",
      "Epoch 3: val loss=0.004250412763551224, val accuracy=0.5755813953488372: 100%|██████████| 3/3 [00:00<00:00, 239.55it/s]\n"
     ]
    },
    {
     "name": "stdout",
     "output_type": "stream",
     "text": [
      "New model saved, val loss 0.0043147989483766774 -> 0.004250412763551224\n"
     ]
    },
    {
     "name": "stderr",
     "output_type": "stream",
     "text": [
      "Epoch 4: train loss=0.003686450832776633, train accuracy=0.6242699545749514: 100%|████| 25/25 [00:00<00:00, 103.51it/s]\n",
      "Epoch 4: val loss=0.0042106672081836435, val accuracy=0.5813953488372093: 100%|█████████| 3/3 [00:00<00:00, 202.19it/s]\n"
     ]
    },
    {
     "name": "stdout",
     "output_type": "stream",
     "text": [
      "New model saved, val loss 0.004250412763551224 -> 0.0042106672081836435\n"
     ]
    },
    {
     "name": "stderr",
     "output_type": "stream",
     "text": [
      "Epoch 5: train loss=0.003741206247105682, train accuracy=0.618429591174562: 100%|█████| 25/25 [00:00<00:00, 102.89it/s]\n",
      "Epoch 5: val loss=0.004147362397160641, val accuracy=0.6046511627906976: 100%|██████████| 3/3 [00:00<00:00, 239.02it/s]\n"
     ]
    },
    {
     "name": "stdout",
     "output_type": "stream",
     "text": [
      "New model saved, val loss 0.0042106672081836435 -> 0.004147362397160641\n"
     ]
    },
    {
     "name": "stderr",
     "output_type": "stream",
     "text": [
      "Epoch 6: train loss=0.00377381614746017, train accuracy=0.6112913692407528: 100%|█████| 25/25 [00:00<00:00, 104.47it/s]\n",
      "Epoch 6: val loss=0.00413021401957024, val accuracy=0.5872093023255814: 100%|███████████| 3/3 [00:00<00:00, 239.26it/s]\n"
     ]
    },
    {
     "name": "stdout",
     "output_type": "stream",
     "text": [
      "New model saved, val loss 0.004147362397160641 -> 0.00413021401957024\n"
     ]
    },
    {
     "name": "stderr",
     "output_type": "stream",
     "text": [
      "Epoch 7: train loss=0.003681831656532733, train accuracy=0.6255678131083712: 100%|████| 25/25 [00:00<00:00, 104.85it/s]\n",
      "Epoch 7: val loss=0.004214010006466577, val accuracy=0.5755813953488372: 100%|██████████| 3/3 [00:00<00:00, 229.33it/s]\n",
      "Epoch 8: train loss=0.003648810257855984, train accuracy=0.6262167423750811: 100%|████| 25/25 [00:00<00:00, 103.64it/s]\n",
      "Epoch 8: val loss=0.004156720586294352, val accuracy=0.5872093023255814: 100%|██████████| 3/3 [00:00<00:00, 228.78it/s]\n",
      "Epoch 9: train loss=0.003660760863426055, train accuracy=0.6223231667748216: 100%|████| 25/25 [00:00<00:00, 106.05it/s]\n",
      "Epoch 9: val loss=0.004163230401138926, val accuracy=0.5813953488372093: 100%|██████████| 3/3 [00:00<00:00, 206.34it/s]\n",
      "Epoch 10: train loss=0.003632847033561939, train accuracy=0.6190785204412719: 100%|███| 25/25 [00:00<00:00, 106.32it/s]\n",
      "Epoch 10: val loss=0.0041625070883784185, val accuracy=0.5755813953488372: 100%|████████| 3/3 [00:00<00:00, 248.84it/s]\n",
      "Epoch 11: train loss=0.003655834709723842, train accuracy=0.6216742375081116: 100%|███| 25/25 [00:00<00:00, 107.39it/s]\n",
      "Epoch 11: val loss=0.004210121323202931, val accuracy=0.5697674418604651: 100%|█████████| 3/3 [00:00<00:00, 248.27it/s]\n",
      "Epoch 12: train loss=0.0036283938587678864, train accuracy=0.6203763789746918: 100%|███| 25/25 [00:00<00:00, 96.28it/s]\n",
      "Epoch 12: val loss=0.004197434457235558, val accuracy=0.5697674418604651: 100%|█████████| 3/3 [00:00<00:00, 215.33it/s]\n",
      "Epoch 13: train loss=0.003707099423092886, train accuracy=0.6320571057754705: 100%|████| 25/25 [00:00<00:00, 93.41it/s]\n",
      "Epoch 13: val loss=0.004216239029584929, val accuracy=0.5813953488372093: 100%|█████████| 3/3 [00:00<00:00, 221.84it/s]\n",
      "Epoch 14: train loss=0.003683751556565435, train accuracy=0.6255678131083712: 100%|███| 25/25 [00:00<00:00, 101.40it/s]\n",
      "Epoch 14: val loss=0.00413033054318539, val accuracy=0.5755813953488372: 100%|██████████| 3/3 [00:00<00:00, 249.14it/s]\n",
      "Epoch 15: train loss=0.003719393683671178, train accuracy=0.6288124594419209: 100%|███| 25/25 [00:00<00:00, 100.13it/s]\n",
      "Epoch 15: val loss=0.004135984927415848, val accuracy=0.5755813953488372: 100%|█████████| 3/3 [00:00<00:00, 239.39it/s]\n",
      "Epoch 16: train loss=0.0036173463351226796, train accuracy=0.6242699545749514: 100%|██| 25/25 [00:00<00:00, 100.66it/s]\n",
      "Epoch 16: val loss=0.004196656131467154, val accuracy=0.5813953488372093: 100%|█████████| 3/3 [00:00<00:00, 221.32it/s]\n",
      "Epoch 17: train loss=0.003651786235382927, train accuracy=0.6229720960415315: 100%|████| 25/25 [00:00<00:00, 98.80it/s]\n",
      "Epoch 17: val loss=0.00418681244170943, val accuracy=0.5930232558139535: 100%|██████████| 3/3 [00:00<00:00, 202.70it/s]\n",
      "Epoch 18: train loss=0.0036717555416164115, train accuracy=0.6190785204412719: 100%|███| 25/25 [00:00<00:00, 98.03it/s]\n",
      "Epoch 18: val loss=0.004142533467952595, val accuracy=0.5930232558139535: 100%|█████████| 3/3 [00:00<00:00, 213.65it/s]\n",
      "Epoch 19: train loss=0.0036173140379919936, train accuracy=0.6327060350421804: 100%|███| 25/25 [00:00<00:00, 97.60it/s]\n",
      "Epoch 19: val loss=0.004105454267457474, val accuracy=0.5697674418604651: 100%|█████████| 3/3 [00:00<00:00, 216.74it/s]\n"
     ]
    },
    {
     "name": "stdout",
     "output_type": "stream",
     "text": [
      "New model saved, val loss 0.00413021401957024 -> 0.004105454267457474\n"
     ]
    },
    {
     "name": "stderr",
     "output_type": "stream",
     "text": [
      "Epoch 20: train loss=0.0036980367418545396, train accuracy=0.6353017521090201: 100%|██| 25/25 [00:00<00:00, 101.65it/s]\n",
      "Epoch 20: val loss=0.004099061929209288, val accuracy=0.5697674418604651: 100%|█████████| 3/3 [00:00<00:00, 239.20it/s]\n"
     ]
    },
    {
     "name": "stdout",
     "output_type": "stream",
     "text": [
      "New model saved, val loss 0.004105454267457474 -> 0.004099061929209288\n"
     ]
    },
    {
     "name": "stderr",
     "output_type": "stream",
     "text": [
      "Epoch 21: train loss=0.0036704860903240505, train accuracy=0.6288124594419209: 100%|██| 25/25 [00:00<00:00, 101.66it/s]\n",
      "Epoch 21: val loss=0.004152823759372844, val accuracy=0.5930232558139535: 100%|█████████| 3/3 [00:00<00:00, 242.66it/s]\n",
      "Epoch 22: train loss=0.003638769679453217, train accuracy=0.6353017521090201: 100%|███| 25/25 [00:00<00:00, 100.66it/s]\n",
      "Epoch 22: val loss=0.00418674893850504, val accuracy=0.5930232558139535: 100%|██████████| 3/3 [00:00<00:00, 239.37it/s]\n",
      "Epoch 23: train loss=0.003677395152473202, train accuracy=0.6255678131083712: 100%|████| 25/25 [00:00<00:00, 94.32it/s]\n",
      "Epoch 23: val loss=0.004162428597378177, val accuracy=0.5930232558139535: 100%|█████████| 3/3 [00:00<00:00, 229.47it/s]\n",
      "Epoch 24: train loss=0.00372271457328029, train accuracy=0.6301103179753407: 100%|█████| 25/25 [00:00<00:00, 95.10it/s]\n",
      "Epoch 24: val loss=0.004169519210970679, val accuracy=0.5930232558139535: 100%|█████████| 3/3 [00:00<00:00, 206.36it/s]\n",
      "Epoch 25: train loss=0.0036536712080994494, train accuracy=0.6372485399091499: 100%|███| 25/25 [00:00<00:00, 97.09it/s]\n",
      "Epoch 25: val loss=0.00412580604816592, val accuracy=0.5930232558139535: 100%|██████████| 3/3 [00:00<00:00, 269.79it/s]\n",
      "Epoch 26: train loss=0.003593631461020958, train accuracy=0.6320571057754705: 100%|████| 25/25 [00:00<00:00, 95.65it/s]\n",
      "Epoch 26: val loss=0.0041819079670795175, val accuracy=0.5813953488372093: 100%|████████| 3/3 [00:00<00:00, 254.15it/s]\n",
      "Epoch 27: train loss=0.00363001994193954, train accuracy=0.6327060350421804: 100%|█████| 25/25 [00:00<00:00, 94.59it/s]\n",
      "Epoch 27: val loss=0.004145791277635929, val accuracy=0.5755813953488372: 100%|█████████| 3/3 [00:00<00:00, 221.40it/s]\n",
      "Epoch 28: train loss=0.003617352572143426, train accuracy=0.6346528228423102: 100%|████| 25/25 [00:00<00:00, 98.74it/s]\n",
      "Epoch 28: val loss=0.004143381101447482, val accuracy=0.5872093023255814: 100%|█████████| 3/3 [00:00<00:00, 248.75it/s]\n",
      "Epoch 29: train loss=0.0035921411901847795, train accuracy=0.6398442569759896: 100%|███| 25/25 [00:00<00:00, 93.59it/s]\n",
      "Epoch 29: val loss=0.0042523260033407876, val accuracy=0.5755813953488372: 100%|████████| 3/3 [00:00<00:00, 221.60it/s]\n",
      "Epoch 30: train loss=0.003624694145089384, train accuracy=0.6294613887086308: 100%|████| 25/25 [00:00<00:00, 91.35it/s]\n",
      "Epoch 30: val loss=0.004297175033147945, val accuracy=0.5872093023255814: 100%|█████████| 3/3 [00:00<00:00, 255.88it/s]\n",
      "Epoch 31: train loss=0.003613207602872236, train accuracy=0.6242699545749514: 100%|████| 25/25 [00:00<00:00, 92.79it/s]\n",
      "Epoch 31: val loss=0.004132092085688613, val accuracy=0.5872093023255814: 100%|█████████| 3/3 [00:00<00:00, 213.31it/s]\n",
      "Epoch 32: train loss=0.0036289462364006166, train accuracy=0.6288124594419209: 100%|███| 25/25 [00:00<00:00, 88.88it/s]\n",
      "Epoch 32: val loss=0.004127109639866408, val accuracy=0.5930232558139535: 100%|█████████| 3/3 [00:00<00:00, 205.57it/s]\n",
      "Epoch 33: train loss=0.0036689231316042285, train accuracy=0.6353017521090201: 100%|███| 25/25 [00:00<00:00, 94.21it/s]\n",
      "Epoch 33: val loss=0.004137563497521157, val accuracy=0.5697674418604651: 100%|█████████| 3/3 [00:00<00:00, 206.87it/s]\n",
      "Epoch 34: train loss=0.0035960923766718525, train accuracy=0.6327060350421804: 100%|███| 25/25 [00:00<00:00, 96.45it/s]\n",
      "Epoch 34: val loss=0.004162007379670476, val accuracy=0.5813953488372093: 100%|█████████| 3/3 [00:00<00:00, 212.96it/s]\n",
      "Epoch 35: train loss=0.003631191389812888, train accuracy=0.6359506813757301: 100%|████| 25/25 [00:00<00:00, 95.02it/s]\n",
      "Epoch 35: val loss=0.004183348095001176, val accuracy=0.5697674418604651: 100%|█████████| 3/3 [00:00<00:00, 206.15it/s]\n",
      "Epoch 36: train loss=0.003565594587791747, train accuracy=0.6378974691758599: 100%|████| 25/25 [00:00<00:00, 98.02it/s]\n",
      "Epoch 36: val loss=0.004139083329328271, val accuracy=0.5755813953488372: 100%|█████████| 3/3 [00:00<00:00, 239.19it/s]\n",
      "Epoch 37: train loss=0.003626718701363229, train accuracy=0.6411421155094095: 100%|███| 25/25 [00:00<00:00, 101.56it/s]\n",
      "Epoch 37: val loss=0.004167769104242325, val accuracy=0.5755813953488372: 100%|█████████| 3/3 [00:00<00:00, 228.70it/s]\n",
      "Epoch 38: train loss=0.0036291693863661394, train accuracy=0.6249188838416613: 100%|██| 25/25 [00:00<00:00, 100.93it/s]\n",
      "Epoch 38: val loss=0.004239422810632129, val accuracy=0.5988372093023255: 100%|█████████| 3/3 [00:00<00:00, 205.95it/s]\n",
      "Epoch 39: train loss=0.0036117969241566197, train accuracy=0.6417910447761194: 100%|██| 25/25 [00:00<00:00, 104.51it/s]\n",
      "Epoch 39: val loss=0.0041737041847650395, val accuracy=0.5813953488372093: 100%|████████| 3/3 [00:00<00:00, 211.92it/s]\n",
      "Epoch 40: train loss=0.003618566122324261, train accuracy=0.6307592472420506: 100%|███| 25/25 [00:00<00:00, 102.06it/s]\n",
      "Epoch 40: val loss=0.00418241815858109, val accuracy=0.5930232558139535: 100%|██████████| 3/3 [00:00<00:00, 242.94it/s]\n",
      "Epoch 41: train loss=0.003627259156133044, train accuracy=0.6398442569759896: 100%|███| 25/25 [00:00<00:00, 100.36it/s]\n",
      "Epoch 41: val loss=0.0040996928027896, val accuracy=0.5872093023255814: 100%|███████████| 3/3 [00:00<00:00, 198.94it/s]\n",
      "Epoch 42: train loss=0.0035787849535344873, train accuracy=0.6268656716417911: 100%|██| 25/25 [00:00<00:00, 103.06it/s]\n",
      "Epoch 42: val loss=0.004225484247124473, val accuracy=0.5813953488372093: 100%|█████████| 3/3 [00:00<00:00, 221.25it/s]\n",
      "Epoch 43: train loss=0.003654241136418466, train accuracy=0.6378974691758599: 100%|███| 25/25 [00:00<00:00, 104.14it/s]\n",
      "Epoch 43: val loss=0.00413033322885979, val accuracy=0.563953488372093: 100%|███████████| 3/3 [00:00<00:00, 218.21it/s]\n",
      "Epoch 44: train loss=0.0036245576752075353, train accuracy=0.63659961064244: 100%|████| 25/25 [00:00<00:00, 101.53it/s]\n",
      "Epoch 44: val loss=0.004084218293428421, val accuracy=0.5872093023255814: 100%|█████████| 3/3 [00:00<00:00, 253.17it/s]\n"
     ]
    },
    {
     "name": "stdout",
     "output_type": "stream",
     "text": [
      "New model saved, val loss 0.004099061929209288 -> 0.004084218293428421\n"
     ]
    },
    {
     "name": "stderr",
     "output_type": "stream",
     "text": [
      "Epoch 45: train loss=0.003574960644488053, train accuracy=0.6398442569759896: 100%|███| 25/25 [00:00<00:00, 105.67it/s]\n",
      "Epoch 45: val loss=0.004233074569424918, val accuracy=0.5930232558139535: 100%|█████████| 3/3 [00:00<00:00, 238.29it/s]\n",
      "Epoch 46: train loss=0.003663880021675773, train accuracy=0.6359506813757301: 100%|███| 25/25 [00:00<00:00, 106.30it/s]\n",
      "Epoch 46: val loss=0.004182740786047869, val accuracy=0.5813953488372093: 100%|█████████| 3/3 [00:00<00:00, 221.32it/s]\n",
      "Epoch 47: train loss=0.0036104722679783045, train accuracy=0.6340038935756003: 100%|██| 25/25 [00:00<00:00, 106.58it/s]\n",
      "Epoch 47: val loss=0.004189945584119752, val accuracy=0.5813953488372093: 100%|█████████| 3/3 [00:00<00:00, 259.83it/s]\n",
      "Epoch 48: train loss=0.0035834780650661796, train accuracy=0.6443867618429591: 100%|██| 25/25 [00:00<00:00, 106.32it/s]\n",
      "Epoch 48: val loss=0.004074531672305839, val accuracy=0.5930232558139535: 100%|█████████| 3/3 [00:00<00:00, 265.79it/s]\n"
     ]
    },
    {
     "name": "stdout",
     "output_type": "stream",
     "text": [
      "New model saved, val loss 0.004084218293428421 -> 0.004074531672305839\n"
     ]
    },
    {
     "name": "stderr",
     "output_type": "stream",
     "text": [
      "Epoch 49: train loss=0.003596805253638454, train accuracy=0.6417910447761194: 100%|███| 25/25 [00:00<00:00, 102.80it/s]\n",
      "Epoch 49: val loss=0.004090035724085431, val accuracy=0.5813953488372093: 100%|█████████| 3/3 [00:00<00:00, 238.80it/s]\n",
      "Epoch 50: train loss=0.0035973504272704773, train accuracy=0.6320571057754705: 100%|██| 25/25 [00:00<00:00, 106.38it/s]\n",
      "Epoch 50: val loss=0.0041561210744602735, val accuracy=0.5813953488372093: 100%|████████| 3/3 [00:00<00:00, 239.01it/s]\n",
      "Epoch 51: train loss=0.0036263509685539874, train accuracy=0.6411421155094095: 100%|██| 25/25 [00:00<00:00, 105.39it/s]\n",
      "Epoch 51: val loss=0.004095247145309005, val accuracy=0.5697674418604651: 100%|█████████| 3/3 [00:00<00:00, 241.18it/s]\n",
      "Epoch 52: train loss=0.003573281067984975, train accuracy=0.6430889033095393: 100%|███| 25/25 [00:00<00:00, 105.51it/s]\n",
      "Epoch 52: val loss=0.004109212652195332, val accuracy=0.6046511627906976: 100%|█████████| 3/3 [00:00<00:00, 248.27it/s]\n",
      "Epoch 53: train loss=0.0036503242100313993, train accuracy=0.6327060350421804: 100%|██| 25/25 [00:00<00:00, 106.07it/s]\n",
      "Epoch 53: val loss=0.004006221110737601, val accuracy=0.5697674418604651: 100%|█████████| 3/3 [00:00<00:00, 243.63it/s]\n"
     ]
    },
    {
     "name": "stdout",
     "output_type": "stream",
     "text": [
      "New model saved, val loss 0.004074531672305839 -> 0.004006221110737601\n"
     ]
    },
    {
     "name": "stderr",
     "output_type": "stream",
     "text": [
      "Epoch 54: train loss=0.003604464875963274, train accuracy=0.6346528228423102: 100%|███| 25/25 [00:00<00:00, 106.25it/s]\n",
      "Epoch 54: val loss=0.004177480416242467, val accuracy=0.5813953488372093: 100%|█████████| 3/3 [00:00<00:00, 239.03it/s]\n",
      "Epoch 55: train loss=0.0036314222756180957, train accuracy=0.6314081765087606: 100%|██| 25/25 [00:00<00:00, 105.76it/s]\n",
      "Epoch 55: val loss=0.004127488839764928, val accuracy=0.5697674418604651: 100%|█████████| 3/3 [00:00<00:00, 195.92it/s]\n",
      "Epoch 56: train loss=0.0035856849357418083, train accuracy=0.6320571057754705: 100%|██| 25/25 [00:00<00:00, 107.13it/s]\n",
      "Epoch 56: val loss=0.004101856503375741, val accuracy=0.5813953488372093: 100%|█████████| 3/3 [00:00<00:00, 259.60it/s]\n",
      "Epoch 57: train loss=0.003661104934235659, train accuracy=0.63659961064244: 100%|█████| 25/25 [00:00<00:00, 105.16it/s]\n",
      "Epoch 57: val loss=0.004112706974495289, val accuracy=0.5813953488372093: 100%|█████████| 3/3 [00:00<00:00, 229.34it/s]\n",
      "Epoch 58: train loss=0.003563317702932067, train accuracy=0.6417910447761194: 100%|███| 25/25 [00:00<00:00, 107.78it/s]\n",
      "Epoch 58: val loss=0.004073848038218742, val accuracy=0.5813953488372093: 100%|█████████| 3/3 [00:00<00:00, 260.17it/s]\n",
      "Epoch 59: train loss=0.0036505533359330786, train accuracy=0.6391953277092797: 100%|██| 25/25 [00:00<00:00, 105.78it/s]\n",
      "Epoch 59: val loss=0.004179370351309, val accuracy=0.5988372093023255: 100%|████████████| 3/3 [00:00<00:00, 238.28it/s]\n",
      "Epoch 60: train loss=0.003677602153873382, train accuracy=0.6391953277092797: 100%|███| 25/25 [00:00<00:00, 100.85it/s]\n",
      "Epoch 60: val loss=0.004113336288651755, val accuracy=0.5755813953488372: 100%|█████████| 3/3 [00:00<00:00, 239.24it/s]\n",
      "Epoch 61: train loss=0.003576303141446643, train accuracy=0.6262167423750811: 100%|███| 25/25 [00:00<00:00, 106.33it/s]\n",
      "Epoch 61: val loss=0.004114244046599366, val accuracy=0.5988372093023255: 100%|█████████| 3/3 [00:00<00:00, 252.49it/s]\n",
      "Epoch 62: train loss=0.00360289951913315, train accuracy=0.63659961064244: 100%|██████| 25/25 [00:00<00:00, 105.01it/s]\n",
      "Epoch 62: val loss=0.004123019184484039, val accuracy=0.5872093023255814: 100%|█████████| 3/3 [00:00<00:00, 224.01it/s]\n",
      "Epoch 63: train loss=0.003568540177973426, train accuracy=0.63659961064244: 100%|██████| 25/25 [00:00<00:00, 98.97it/s]\n",
      "Epoch 63: val loss=0.004100086384041365, val accuracy=0.5813953488372093: 100%|█████████| 3/3 [00:00<00:00, 220.40it/s]\n",
      "Epoch 64: train loss=0.0035731960414370338, train accuracy=0.6372485399091499: 100%|██| 25/25 [00:00<00:00, 105.77it/s]\n",
      "Epoch 64: val loss=0.004177285314992417, val accuracy=0.5755813953488372: 100%|█████████| 3/3 [00:00<00:00, 238.72it/s]\n",
      "Epoch 65: train loss=0.0035839995380193674, train accuracy=0.6378974691758599: 100%|███| 25/25 [00:00<00:00, 94.88it/s]\n",
      "Epoch 65: val loss=0.004129537229621133, val accuracy=0.5755813953488372: 100%|█████████| 3/3 [00:00<00:00, 246.91it/s]\n",
      "Epoch 66: train loss=0.0036444085457354378, train accuracy=0.6385463984425698: 100%|███| 25/25 [00:00<00:00, 96.73it/s]\n",
      "Epoch 66: val loss=0.004101934821106667, val accuracy=0.5872093023255814: 100%|█████████| 3/3 [00:00<00:00, 233.70it/s]\n",
      "Epoch 67: train loss=0.0035796352673628977, train accuracy=0.6288124594419209: 100%|██| 25/25 [00:00<00:00, 104.23it/s]\n",
      "Epoch 67: val loss=0.004102614296730174, val accuracy=0.5755813953488372: 100%|█████████| 3/3 [00:00<00:00, 248.75it/s]\n",
      "Epoch 68: train loss=0.0035900127222443616, train accuracy=0.6404931862426996: 100%|██| 25/25 [00:00<00:00, 102.82it/s]\n",
      "Epoch 68: val loss=0.004100669175386429, val accuracy=0.5755813953488372: 100%|█████████| 3/3 [00:00<00:00, 221.34it/s]\n",
      "Epoch 69: train loss=0.0035864567984860104, train accuracy=0.6320571057754705: 100%|███| 25/25 [00:00<00:00, 98.17it/s]\n",
      "Epoch 69: val loss=0.004108264349227728, val accuracy=0.5930232558139535: 100%|█████████| 3/3 [00:00<00:00, 259.79it/s]\n",
      "Epoch 70: train loss=0.00356613731979937, train accuracy=0.6437378325762492: 100%|████| 25/25 [00:00<00:00, 101.43it/s]\n",
      "Epoch 70: val loss=0.004108163939658986, val accuracy=0.5872093023255814: 100%|█████████| 3/3 [00:00<00:00, 221.68it/s]\n",
      "Epoch 71: train loss=0.0036584489013683015, train accuracy=0.6443867618429591: 100%|██| 25/25 [00:00<00:00, 101.64it/s]\n",
      "Epoch 71: val loss=0.004098711665286575, val accuracy=0.5813953488372093: 100%|█████████| 3/3 [00:00<00:00, 284.48it/s]\n",
      "Epoch 72: train loss=0.0035574935149403843, train accuracy=0.6307592472420506: 100%|██| 25/25 [00:00<00:00, 102.59it/s]\n",
      "Epoch 72: val loss=0.004041384645672732, val accuracy=0.5755813953488372: 100%|█████████| 3/3 [00:00<00:00, 238.97it/s]\n",
      "Epoch 73: train loss=0.0036224105542236765, train accuracy=0.6424399740428294: 100%|██| 25/25 [00:00<00:00, 100.33it/s]\n",
      "Epoch 73: val loss=0.0040271500515383345, val accuracy=0.5697674418604651: 100%|████████| 3/3 [00:00<00:00, 212.93it/s]\n",
      "Epoch 74: train loss=0.00357019575403388, train accuracy=0.6378974691758599: 100%|████| 25/25 [00:00<00:00, 102.90it/s]\n",
      "Epoch 74: val loss=0.004133658180403155, val accuracy=0.5930232558139535: 100%|█████████| 3/3 [00:00<00:00, 238.69it/s]\n",
      "Epoch 75: train loss=0.0036011861660200464, train accuracy=0.6437378325762492: 100%|██| 25/25 [00:00<00:00, 100.78it/s]\n",
      "Epoch 75: val loss=0.004016757791125497, val accuracy=0.6046511627906976: 100%|█████████| 3/3 [00:00<00:00, 206.21it/s]\n",
      "Epoch 76: train loss=0.0035834148632559507, train accuracy=0.6378974691758599: 100%|██| 25/25 [00:00<00:00, 104.78it/s]\n",
      "Epoch 76: val loss=0.004123624587474868, val accuracy=0.5988372093023255: 100%|█████████| 3/3 [00:00<00:00, 236.10it/s]\n",
      "Epoch 77: train loss=0.0035622340181599493, train accuracy=0.6417910447761194: 100%|██| 25/25 [00:00<00:00, 101.68it/s]\n",
      "Epoch 77: val loss=0.004135750667300335, val accuracy=0.5988372093023255: 100%|█████████| 3/3 [00:00<00:00, 229.85it/s]\n",
      "Epoch 78: train loss=0.00365927345485056, train accuracy=0.6424399740428294: 100%|█████| 25/25 [00:00<00:00, 86.72it/s]\n",
      "Epoch 78: val loss=0.004117268549148427, val accuracy=0.5988372093023255: 100%|█████████| 3/3 [00:00<00:00, 166.09it/s]\n",
      "Epoch 79: train loss=0.0035800905602075776, train accuracy=0.6443867618429591: 100%|███| 25/25 [00:00<00:00, 99.45it/s]\n",
      "Epoch 79: val loss=0.0041697774688864864, val accuracy=0.5872093023255814: 100%|████████| 3/3 [00:00<00:00, 283.56it/s]\n",
      "Epoch 80: train loss=0.003634350735749771, train accuracy=0.6346528228423102: 100%|███| 25/25 [00:00<00:00, 107.08it/s]\n",
      "Epoch 80: val loss=0.0041123164254565575, val accuracy=0.5813953488372093: 100%|████████| 3/3 [00:00<00:00, 213.45it/s]\n",
      "Epoch 81: train loss=0.003556607219787637, train accuracy=0.6424399740428294: 100%|████| 25/25 [00:00<00:00, 97.61it/s]\n",
      "Epoch 81: val loss=0.004100853187400241, val accuracy=0.5697674418604651: 100%|█████████| 3/3 [00:00<00:00, 221.73it/s]\n",
      "Epoch 82: train loss=0.003513878444662967, train accuracy=0.6417910447761194: 100%|████| 25/25 [00:00<00:00, 95.74it/s]\n",
      "Epoch 82: val loss=0.004092475096153659, val accuracy=0.5872093023255814: 100%|█████████| 3/3 [00:00<00:00, 249.26it/s]\n",
      "Epoch 83: train loss=0.0036044773790141656, train accuracy=0.6430889033095393: 100%|███| 25/25 [00:00<00:00, 92.42it/s]\n",
      "Epoch 83: val loss=0.0040784446132737535, val accuracy=0.5697674418604651: 100%|████████| 3/3 [00:00<00:00, 198.57it/s]\n",
      "Epoch 84: train loss=0.003686705158176088, train accuracy=0.6314081765087606: 100%|████| 25/25 [00:00<00:00, 95.76it/s]\n",
      "Epoch 84: val loss=0.004177314770776172, val accuracy=0.5697674418604651: 100%|█████████| 3/3 [00:00<00:00, 239.13it/s]\n",
      "Epoch 85: train loss=0.0036882452091406416, train accuracy=0.6463335496430889: 100%|███| 25/25 [00:00<00:00, 94.06it/s]\n",
      "Epoch 85: val loss=0.004036925299916156, val accuracy=0.5813953488372093: 100%|█████████| 3/3 [00:00<00:00, 220.95it/s]\n",
      "Epoch 86: train loss=0.003552080303101784, train accuracy=0.6398442569759896: 100%|████| 25/25 [00:00<00:00, 97.98it/s]\n",
      "Epoch 86: val loss=0.0041613715679146525, val accuracy=0.5930232558139535: 100%|████████| 3/3 [00:00<00:00, 186.21it/s]\n",
      "Epoch 87: train loss=0.0036361709691579277, train accuracy=0.6327060350421804: 100%|███| 25/25 [00:00<00:00, 94.93it/s]\n",
      "Epoch 87: val loss=0.004121021995710772, val accuracy=0.5697674418604651: 100%|█████████| 3/3 [00:00<00:00, 260.45it/s]\n"
     ]
    },
    {
     "name": "stderr",
     "output_type": "stream",
     "text": [
      "Epoch 88: train loss=0.0035555663722277773, train accuracy=0.6378974691758599: 100%|██| 25/25 [00:00<00:00, 102.45it/s]\n",
      "Epoch 88: val loss=0.004096621864063795, val accuracy=0.5697674418604651: 100%|█████████| 3/3 [00:00<00:00, 260.09it/s]\n",
      "Epoch 89: train loss=0.003571536230004352, train accuracy=0.6437378325762492: 100%|████| 25/25 [00:00<00:00, 93.46it/s]\n",
      "Epoch 89: val loss=0.004142723890931108, val accuracy=0.5872093023255814: 100%|█████████| 3/3 [00:00<00:00, 245.90it/s]\n",
      "Epoch 90: train loss=0.0035631358430108645, train accuracy=0.6359506813757301: 100%|███| 25/25 [00:00<00:00, 93.57it/s]\n",
      "Epoch 90: val loss=0.0041223127654818606, val accuracy=0.5813953488372093: 100%|████████| 3/3 [00:00<00:00, 219.33it/s]\n",
      "Epoch 91: train loss=0.003626017331458159, train accuracy=0.6327060350421804: 100%|████| 25/25 [00:00<00:00, 96.94it/s]\n",
      "Epoch 91: val loss=0.004050551978654639, val accuracy=0.5581395348837209: 100%|█████████| 3/3 [00:00<00:00, 239.48it/s]\n",
      "Epoch 92: train loss=0.003688848643315295, train accuracy=0.6404931862426996: 100%|███| 25/25 [00:00<00:00, 101.97it/s]\n",
      "Epoch 92: val loss=0.004107699058083601, val accuracy=0.5872093023255814: 100%|█████████| 3/3 [00:00<00:00, 239.33it/s]\n",
      "Epoch 93: train loss=0.0035969855083729215, train accuracy=0.6398442569759896: 100%|██| 25/25 [00:00<00:00, 102.29it/s]\n",
      "Epoch 93: val loss=0.004064304970724638, val accuracy=0.5697674418604651: 100%|█████████| 3/3 [00:00<00:00, 221.44it/s]\n",
      "Epoch 94: train loss=0.0035971893477486296, train accuracy=0.6372485399091499: 100%|███| 25/25 [00:00<00:00, 97.29it/s]\n",
      "Epoch 94: val loss=0.004145825844864512, val accuracy=0.5755813953488372: 100%|█████████| 3/3 [00:00<00:00, 227.31it/s]\n",
      "Epoch 95: train loss=0.003535754780425877, train accuracy=0.6430889033095393: 100%|████| 25/25 [00:00<00:00, 99.19it/s]\n",
      "Epoch 95: val loss=0.00427803440495979, val accuracy=0.5872093023255814: 100%|██████████| 3/3 [00:00<00:00, 239.71it/s]\n",
      "Epoch 96: train loss=0.003584061047614665, train accuracy=0.6463335496430889: 100%|████| 25/25 [00:00<00:00, 98.22it/s]\n",
      "Epoch 96: val loss=0.004159606473390446, val accuracy=0.5872093023255814: 100%|█████████| 3/3 [00:00<00:00, 284.58it/s]\n",
      "Epoch 97: train loss=0.00355437548805722, train accuracy=0.6502271252433485: 100%|████| 25/25 [00:00<00:00, 100.73it/s]\n",
      "Epoch 97: val loss=0.004127587603275166, val accuracy=0.5872093023255814: 100%|█████████| 3/3 [00:00<00:00, 229.46it/s]\n",
      "Epoch 98: train loss=0.0036459059142045277, train accuracy=0.6340038935756003: 100%|██| 25/25 [00:00<00:00, 102.35it/s]\n",
      "Epoch 98: val loss=0.004125195966903554, val accuracy=0.5755813953488372: 100%|█████████| 3/3 [00:00<00:00, 236.46it/s]\n",
      "Epoch 99: train loss=0.0036378531178277006, train accuracy=0.6320571057754705: 100%|███| 25/25 [00:00<00:00, 96.46it/s]\n",
      "Epoch 99: val loss=0.004261968700691711, val accuracy=0.5872093023255814: 100%|█████████| 3/3 [00:00<00:00, 260.34it/s]\n"
     ]
    }
   ],
   "source": [
    "mlp_models = random_forst_models.copy()\n",
    "lr = 1e-4\n",
    "num_epochs = 100\n",
    "torch.manual_seed(SEED)\n",
    "\n",
    "for ds_name in mlp_models:\n",
    "    net = nn.Sequential(\n",
    "        nn.Linear(dataset[ds_name]['X_train'].shape[1], 64),\n",
    "        nn.Tanh(),\n",
    "        nn.BatchNorm1d(64),\n",
    "        nn.Linear(64, 32),\n",
    "        nn.Tanh(),\n",
    "        nn.BatchNorm1d(32),\n",
    "        nn.Linear(32, 32),\n",
    "        nn.Tanh(),\n",
    "        nn.BatchNorm1d(32),\n",
    "        nn.Linear(32, 16),\n",
    "        nn.Tanh(),\n",
    "        nn.BatchNorm1d(16),\n",
    "        nn.Linear(16, 1),\n",
    "        nn.Sigmoid()\n",
    "    )\n",
    "    net = net.to(device)\n",
    "    optimizer = Adam(net.parameters(), lr=lr)\n",
    "    criterion = nn.MSELoss()\n",
    "    train_dl = dataloaders[ds_name]['train']\n",
    "    val_dl = dataloaders[ds_name]['val']\n",
    "    test_dl = dataloaders[ds_name]['test']\n",
    "\n",
    "    return_vals = train(net, criterion, optimizer, train_dl, val_dl, num_epochs)\n",
    "    train_losses, val_losses, train_accs, val_accs, best_model = return_vals\n",
    "    mlp_models[ds_name] = {\n",
    "        'model': best_model,\n",
    "        'train_losses': train_losses,\n",
    "        'val_losses': val_losses,\n",
    "        'train_accs': train_accs,\n",
    "        'val_accs': val_accs\n",
    "    }"
   ]
  },
  {
   "cell_type": "code",
   "execution_count": 33,
   "id": "hFjQ3KUhUqk4",
   "metadata": {
    "id": "hFjQ3KUhUqk4"
   },
   "outputs": [
    {
     "name": "stdout",
     "output_type": "stream",
     "text": [
      "mlp accuracy on clinical dataset had accuracy of 0.7173\n",
      "mlp accuracy on gene_expr dataset had accuracy of 0.5969\n",
      "mlp accuracy on gene_expr_reduced dataset had accuracy of 0.6440\n"
     ]
    }
   ],
   "source": [
    "for ds_name in mlp_models:\n",
    "    # test\n",
    "    best_model = mlp_models[ds_name]['model']\n",
    "    test_dl = dataloaders[ds_name]['test']\n",
    "    acc, confusion = evaluate(best_model, test_dl)\n",
    "    mlp_models[ds_name]['accuracy'] = acc\n",
    "    mlp_models[ds_name]['confusion'] = confusion\n",
    "    print(f'mlp accuracy on {ds_name} dataset had accuracy of {acc:.4f}')"
   ]
  },
  {
   "cell_type": "code",
   "execution_count": 40,
   "id": "eedc24e3",
   "metadata": {},
   "outputs": [
    {
     "name": "stdout",
     "output_type": "stream",
     "text": [
      "[[91. 37.]\n",
      " [17. 46.]]\n",
      "[91, 37, 17, 46]\n"
     ]
    },
    {
     "ename": "ValueError",
     "evalue": "`data` and `annot` must have same shape.",
     "output_type": "error",
     "traceback": [
      "\u001b[1;31m---------------------------------------------------------------------------\u001b[0m",
      "\u001b[1;31mValueError\u001b[0m                                Traceback (most recent call last)",
      "Input \u001b[1;32mIn [40]\u001b[0m, in \u001b[0;36m<module>\u001b[1;34m\u001b[0m\n\u001b[0;32m      2\u001b[0m labels\u001b[38;5;241m=\u001b[39m[\u001b[38;5;28mint\u001b[39m(mlp_models[\u001b[38;5;124m'\u001b[39m\u001b[38;5;124mclinical\u001b[39m\u001b[38;5;124m'\u001b[39m][\u001b[38;5;124m'\u001b[39m\u001b[38;5;124mconfusion\u001b[39m\u001b[38;5;124m'\u001b[39m][\u001b[38;5;241m0\u001b[39m][\u001b[38;5;241m0\u001b[39m]),\u001b[38;5;28mint\u001b[39m(mlp_models[\u001b[38;5;124m'\u001b[39m\u001b[38;5;124mclinical\u001b[39m\u001b[38;5;124m'\u001b[39m][\u001b[38;5;124m'\u001b[39m\u001b[38;5;124mconfusion\u001b[39m\u001b[38;5;124m'\u001b[39m][\u001b[38;5;241m0\u001b[39m][\u001b[38;5;241m1\u001b[39m]),\n\u001b[0;32m      3\u001b[0m         \u001b[38;5;28mint\u001b[39m(mlp_models[\u001b[38;5;124m'\u001b[39m\u001b[38;5;124mclinical\u001b[39m\u001b[38;5;124m'\u001b[39m][\u001b[38;5;124m'\u001b[39m\u001b[38;5;124mconfusion\u001b[39m\u001b[38;5;124m'\u001b[39m][\u001b[38;5;241m1\u001b[39m][\u001b[38;5;241m0\u001b[39m]),\u001b[38;5;28mint\u001b[39m(mlp_models[\u001b[38;5;124m'\u001b[39m\u001b[38;5;124mclinical\u001b[39m\u001b[38;5;124m'\u001b[39m][\u001b[38;5;124m'\u001b[39m\u001b[38;5;124mconfusion\u001b[39m\u001b[38;5;124m'\u001b[39m][\u001b[38;5;241m1\u001b[39m][\u001b[38;5;241m1\u001b[39m])]\n\u001b[0;32m      4\u001b[0m \u001b[38;5;28mprint\u001b[39m(labels)\n\u001b[1;32m----> 5\u001b[0m \u001b[43msns\u001b[49m\u001b[38;5;241;43m.\u001b[39;49m\u001b[43mheatmap\u001b[49m\u001b[43m(\u001b[49m\u001b[43mmlp_models\u001b[49m\u001b[43m[\u001b[49m\u001b[38;5;124;43m'\u001b[39;49m\u001b[38;5;124;43mclinical\u001b[39;49m\u001b[38;5;124;43m'\u001b[39;49m\u001b[43m]\u001b[49m\u001b[43m[\u001b[49m\u001b[38;5;124;43m'\u001b[39;49m\u001b[38;5;124;43mconfusion\u001b[39;49m\u001b[38;5;124;43m'\u001b[39;49m\u001b[43m]\u001b[49m\u001b[43m,\u001b[49m\u001b[43mannot\u001b[49m\u001b[38;5;241;43m=\u001b[39;49m\u001b[43mlabels\u001b[49m\u001b[43m)\u001b[49m\n\u001b[0;32m      6\u001b[0m plt\u001b[38;5;241m.\u001b[39mshow()\n",
      "File \u001b[1;32m~\\AppData\\Local\\Programs\\Python\\Python310\\lib\\site-packages\\seaborn\\matrix.py:446\u001b[0m, in \u001b[0;36mheatmap\u001b[1;34m(data, vmin, vmax, cmap, center, robust, annot, fmt, annot_kws, linewidths, linecolor, cbar, cbar_kws, cbar_ax, square, xticklabels, yticklabels, mask, ax, **kwargs)\u001b[0m\n\u001b[0;32m    365\u001b[0m \u001b[38;5;124;03m\"\"\"Plot rectangular data as a color-encoded matrix.\u001b[39;00m\n\u001b[0;32m    366\u001b[0m \n\u001b[0;32m    367\u001b[0m \u001b[38;5;124;03mThis is an Axes-level function and will draw the heatmap into the\u001b[39;00m\n\u001b[1;32m   (...)\u001b[0m\n\u001b[0;32m    443\u001b[0m \n\u001b[0;32m    444\u001b[0m \u001b[38;5;124;03m\"\"\"\u001b[39;00m\n\u001b[0;32m    445\u001b[0m \u001b[38;5;66;03m# Initialize the plotter object\u001b[39;00m\n\u001b[1;32m--> 446\u001b[0m plotter \u001b[38;5;241m=\u001b[39m \u001b[43m_HeatMapper\u001b[49m\u001b[43m(\u001b[49m\u001b[43mdata\u001b[49m\u001b[43m,\u001b[49m\u001b[43m \u001b[49m\u001b[43mvmin\u001b[49m\u001b[43m,\u001b[49m\u001b[43m \u001b[49m\u001b[43mvmax\u001b[49m\u001b[43m,\u001b[49m\u001b[43m \u001b[49m\u001b[43mcmap\u001b[49m\u001b[43m,\u001b[49m\u001b[43m \u001b[49m\u001b[43mcenter\u001b[49m\u001b[43m,\u001b[49m\u001b[43m \u001b[49m\u001b[43mrobust\u001b[49m\u001b[43m,\u001b[49m\u001b[43m \u001b[49m\u001b[43mannot\u001b[49m\u001b[43m,\u001b[49m\u001b[43m \u001b[49m\u001b[43mfmt\u001b[49m\u001b[43m,\u001b[49m\n\u001b[0;32m    447\u001b[0m \u001b[43m                      \u001b[49m\u001b[43mannot_kws\u001b[49m\u001b[43m,\u001b[49m\u001b[43m \u001b[49m\u001b[43mcbar\u001b[49m\u001b[43m,\u001b[49m\u001b[43m \u001b[49m\u001b[43mcbar_kws\u001b[49m\u001b[43m,\u001b[49m\u001b[43m \u001b[49m\u001b[43mxticklabels\u001b[49m\u001b[43m,\u001b[49m\n\u001b[0;32m    448\u001b[0m \u001b[43m                      \u001b[49m\u001b[43myticklabels\u001b[49m\u001b[43m,\u001b[49m\u001b[43m \u001b[49m\u001b[43mmask\u001b[49m\u001b[43m)\u001b[49m\n\u001b[0;32m    450\u001b[0m \u001b[38;5;66;03m# Add the pcolormesh kwargs here\u001b[39;00m\n\u001b[0;32m    451\u001b[0m kwargs[\u001b[38;5;124m\"\u001b[39m\u001b[38;5;124mlinewidths\u001b[39m\u001b[38;5;124m\"\u001b[39m] \u001b[38;5;241m=\u001b[39m linewidths\n",
      "File \u001b[1;32m~\\AppData\\Local\\Programs\\Python\\Python310\\lib\\site-packages\\seaborn\\matrix.py:177\u001b[0m, in \u001b[0;36m_HeatMapper.__init__\u001b[1;34m(self, data, vmin, vmax, cmap, center, robust, annot, fmt, annot_kws, cbar, cbar_kws, xticklabels, yticklabels, mask)\u001b[0m\n\u001b[0;32m    175\u001b[0m         \u001b[38;5;28;01mif\u001b[39;00m annot_data\u001b[38;5;241m.\u001b[39mshape \u001b[38;5;241m!=\u001b[39m plot_data\u001b[38;5;241m.\u001b[39mshape:\n\u001b[0;32m    176\u001b[0m             err \u001b[38;5;241m=\u001b[39m \u001b[38;5;124m\"\u001b[39m\u001b[38;5;124m`data` and `annot` must have same shape.\u001b[39m\u001b[38;5;124m\"\u001b[39m\n\u001b[1;32m--> 177\u001b[0m             \u001b[38;5;28;01mraise\u001b[39;00m \u001b[38;5;167;01mValueError\u001b[39;00m(err)\n\u001b[0;32m    178\u001b[0m     annot \u001b[38;5;241m=\u001b[39m \u001b[38;5;28;01mTrue\u001b[39;00m\n\u001b[0;32m    180\u001b[0m \u001b[38;5;66;03m# Save other attributes to the object\u001b[39;00m\n",
      "\u001b[1;31mValueError\u001b[0m: `data` and `annot` must have same shape."
     ]
    }
   ],
   "source": [
    "print(mlp_models['clinical']['confusion'])\n",
    "labels=[int(mlp_models['clinical']['confusion'][0][0]),int(mlp_models['clinical']['confusion'][0][1]),\n",
    "        int(mlp_models['clinical']['confusion'][1][0]),int(mlp_models['clinical']['confusion'][1][1])]\n",
    "print(labels)\n",
    "sns.heatmap(mlp_models['clinical']['confusion'],annot=labels)\n",
    "plt.show()"
   ]
  },
  {
   "cell_type": "markdown",
   "id": "56877dc4",
   "metadata": {
    "id": "56877dc4"
   },
   "source": [
    "# Model Comparison (10 Points)"
   ]
  },
  {
   "cell_type": "markdown",
   "id": "509fe56a",
   "metadata": {
    "id": "509fe56a"
   },
   "source": [
    "Compare different models and different datasets (clinical, gene expressions, and gene reduced expressions) and try to explain their differences."
   ]
  },
  {
   "cell_type": "markdown",
   "id": "c2f05a73",
   "metadata": {
    "id": "c2f05a73"
   },
   "source": [
    "#### \\# TODO"
   ]
  }
 ],
 "metadata": {
  "colab": {
   "provenance": []
  },
  "kernelspec": {
   "display_name": "Python 3 (ipykernel)",
   "language": "python",
   "name": "python3"
  },
  "language_info": {
   "codemirror_mode": {
    "name": "ipython",
    "version": 3
   },
   "file_extension": ".py",
   "mimetype": "text/x-python",
   "name": "python",
   "nbconvert_exporter": "python",
   "pygments_lexer": "ipython3",
   "version": "3.10.2"
  },
  "toc": {
   "base_numbering": 1,
   "nav_menu": {},
   "number_sections": true,
   "sideBar": true,
   "skip_h1_title": false,
   "title_cell": "Table of Contents",
   "title_sidebar": "Contents",
   "toc_cell": false,
   "toc_position": {},
   "toc_section_display": true,
   "toc_window_display": false
  },
  "varInspector": {
   "cols": {
    "lenName": 16,
    "lenType": 16,
    "lenVar": 40
   },
   "kernels_config": {
    "python": {
     "delete_cmd_postfix": "",
     "delete_cmd_prefix": "del ",
     "library": "var_list.py",
     "varRefreshCmd": "print(var_dic_list())"
    },
    "r": {
     "delete_cmd_postfix": ") ",
     "delete_cmd_prefix": "rm(",
     "library": "var_list.r",
     "varRefreshCmd": "cat(var_dic_list()) "
    }
   },
   "types_to_exclude": [
    "module",
    "function",
    "builtin_function_or_method",
    "instance",
    "_Feature"
   ],
   "window_display": false
  },
  "vscode": {
   "interpreter": {
    "hash": "9d0e6cba9abb52fde9ce5ff9e7499c99052a279653ba0a99ce7c78819a4a9c31"
   }
  }
 },
 "nbformat": 4,
 "nbformat_minor": 5
}
