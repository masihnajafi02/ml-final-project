{
  "cells": [
    {
      "cell_type": "markdown",
      "id": "5902c1f3",
      "metadata": {
        "id": "5902c1f3"
      },
      "source": [
        "<img src='http://www-scf.usc.edu/~ghasemig/images/sharif.png' alt=\"SUT logo\" width=200 height=200 align=left class=\"saturate\" >\n",
        "\n",
        "<br>\n",
        "<font face=\"Times New Roman\">\n",
        "<div dir=ltr align=center>\n",
        "<font color=0F5298 size=7>\n",
        "    Introduction to Machine Learning <br>\n",
        "<font color=2565AE size=5>\n",
        "    Computer Engineering Department <br>\n",
        "    Fall 2022<br>\n",
        "<font color=3C99D size=5>\n",
        "    Project <br>\n",
        "<font color=696880 size=4>\n",
        "    Project Team \n",
        "    \n",
        "    \n",
        "____\n"
      ]
    },
    {
      "cell_type": "markdown",
      "id": "5e85f16a",
      "metadata": {
        "id": "5e85f16a"
      },
      "source": [
        "### Full Name : Mohammad Bagher Soltani, Masih Najafi\n",
        "### Student Number : 98105813, ?\n",
        "___"
      ]
    },
    {
      "cell_type": "markdown",
      "id": "40df5e74",
      "metadata": {
        "id": "40df5e74"
      },
      "source": [
        "# Introduction"
      ]
    },
    {
      "cell_type": "markdown",
      "id": "5a627177",
      "metadata": {
        "id": "5a627177"
      },
      "source": [
        "In this project, we are going to have a brief and elementary hands-on real-world project, predicting breast cancer survival using machine learning models with clinical data and gene expression profiles."
      ]
    },
    {
      "cell_type": "code",
      "execution_count": 1,
      "id": "2970285a",
      "metadata": {
        "id": "2970285a"
      },
      "outputs": [
        {
          "name": "stderr",
          "output_type": "stream",
          "text": [
            "/media/soltani/sdb3/Documents/University/Term7/ML/Project/Practical/ml-final-project/venv/lib/python3.9/site-packages/tqdm/auto.py:22: TqdmWarning: IProgress not found. Please update jupyter and ipywidgets. See https://ipywidgets.readthedocs.io/en/stable/user_install.html\n",
            "  from .autonotebook import tqdm as notebook_tqdm\n"
          ]
        }
      ],
      "source": [
        "# imports\n",
        "import numpy as np\n",
        "import pandas as pd\n",
        "from sklearn.preprocessing import OrdinalEncoder, StandardScaler\n",
        "from sklearn.decomposition import PCA\n",
        "from sklearn.linear_model import LinearRegression\n",
        "from sklearn.impute import SimpleImputer\n",
        "import umap\n",
        "import matplotlib.pyplot as plt\n",
        "import seaborn as sns\n",
        "from sklearn.metrics import accuracy_score\n",
        "from sklearn.model_selection import train_test_split\n",
        "from sklearn.ensemble import RandomForestClassifier\n",
        "from sklearn.svm import SVC\n",
        "import torch\n",
        "import torch.nn as nn\n",
        "from torch.utils.data import Dataset, DataLoader\n",
        "from tqdm.std import tqdm\n",
        "from torch.optim import Adam\n",
        "from copy import deepcopy"
      ]
    },
    {
      "cell_type": "code",
      "execution_count": 2,
      "id": "88e8d521",
      "metadata": {
        "id": "88e8d521"
      },
      "outputs": [],
      "source": [
        "np.random.seed(42)"
      ]
    },
    {
      "cell_type": "markdown",
      "id": "b1e52cbc",
      "metadata": {
        "id": "b1e52cbc"
      },
      "source": [
        "# Data Documentation"
      ]
    },
    {
      "cell_type": "markdown",
      "id": "254cb90f",
      "metadata": {
        "ExecuteTime": {
          "end_time": "2023-01-29T19:31:29.604891Z",
          "start_time": "2023-01-29T19:31:29.601061Z"
        },
        "id": "254cb90f"
      },
      "source": [
        "For this purpose, we will use \"Breast Cancer Gene Expression Profiles (METABRIC)\" data. \n",
        "The first 31 columns of data contain clinical information including death status.\n",
        "The next columns of the data contain gene's related information which includes both gene expressions and mutation information. (gene's mutation info columns have been marked with \"_mut\" at the end of the names of the columns) \n",
        "For more information please read the [data documentation](https://www.kaggle.com/datasets/raghadalharbi/breast-cancer-gene-expression-profiles-metabric)."
      ]
    },
    {
      "cell_type": "markdown",
      "id": "9cef1d4a",
      "metadata": {
        "id": "9cef1d4a"
      },
      "source": [
        "# Data Preparation (15 Points)"
      ]
    },
    {
      "cell_type": "markdown",
      "id": "f3240d5d",
      "metadata": {
        "id": "f3240d5d"
      },
      "source": [
        "In this section you must first split data into three datasets:\n",
        "<br>\n",
        "1- clinical dataset\n",
        "<br>\n",
        "2- gene expressions dataset\n",
        "<br>\n",
        "3- gene mutation dataset. (We will not use this dataset in further steps of the project)"
      ]
    },
    {
      "cell_type": "markdown",
      "id": "cc42f2b1",
      "metadata": {
        "id": "cc42f2b1"
      },
      "source": [
        "## Data Loading & Splitting"
      ]
    },
    {
      "cell_type": "code",
      "execution_count": 3,
      "id": "463b243b",
      "metadata": {
        "colab": {
          "base_uri": "https://localhost:8080/",
          "height": 404
        },
        "id": "463b243b",
        "outputId": "0a9a21cf-8dbf-4860-e2c6-8b47d54c516c"
      },
      "outputs": [
        {
          "data": {
            "text/html": [
              "<div>\n",
              "<style scoped>\n",
              "    .dataframe tbody tr th:only-of-type {\n",
              "        vertical-align: middle;\n",
              "    }\n",
              "\n",
              "    .dataframe tbody tr th {\n",
              "        vertical-align: top;\n",
              "    }\n",
              "\n",
              "    .dataframe thead th {\n",
              "        text-align: right;\n",
              "    }\n",
              "</style>\n",
              "<table border=\"1\" class=\"dataframe\">\n",
              "  <thead>\n",
              "    <tr style=\"text-align: right;\">\n",
              "      <th></th>\n",
              "      <th>patient_id</th>\n",
              "      <th>age_at_diagnosis</th>\n",
              "      <th>type_of_breast_surgery</th>\n",
              "      <th>cancer_type</th>\n",
              "      <th>cancer_type_detailed</th>\n",
              "      <th>cellularity</th>\n",
              "      <th>chemotherapy</th>\n",
              "      <th>pam50_+_claudin-low_subtype</th>\n",
              "      <th>cohort</th>\n",
              "      <th>er_status_measured_by_ihc</th>\n",
              "      <th>...</th>\n",
              "      <th>mtap_mut</th>\n",
              "      <th>ppp2cb_mut</th>\n",
              "      <th>smarcd1_mut</th>\n",
              "      <th>nras_mut</th>\n",
              "      <th>ndfip1_mut</th>\n",
              "      <th>hras_mut</th>\n",
              "      <th>prps2_mut</th>\n",
              "      <th>smarcb1_mut</th>\n",
              "      <th>stmn2_mut</th>\n",
              "      <th>siah1_mut</th>\n",
              "    </tr>\n",
              "  </thead>\n",
              "  <tbody>\n",
              "    <tr>\n",
              "      <th>0</th>\n",
              "      <td>0</td>\n",
              "      <td>75.65</td>\n",
              "      <td>MASTECTOMY</td>\n",
              "      <td>Breast Cancer</td>\n",
              "      <td>Breast Invasive Ductal Carcinoma</td>\n",
              "      <td>NaN</td>\n",
              "      <td>0</td>\n",
              "      <td>claudin-low</td>\n",
              "      <td>1.0</td>\n",
              "      <td>Positve</td>\n",
              "      <td>...</td>\n",
              "      <td>0</td>\n",
              "      <td>0</td>\n",
              "      <td>0</td>\n",
              "      <td>0</td>\n",
              "      <td>0</td>\n",
              "      <td>0</td>\n",
              "      <td>0</td>\n",
              "      <td>0</td>\n",
              "      <td>0</td>\n",
              "      <td>0</td>\n",
              "    </tr>\n",
              "    <tr>\n",
              "      <th>1</th>\n",
              "      <td>2</td>\n",
              "      <td>43.19</td>\n",
              "      <td>BREAST CONSERVING</td>\n",
              "      <td>Breast Cancer</td>\n",
              "      <td>Breast Invasive Ductal Carcinoma</td>\n",
              "      <td>High</td>\n",
              "      <td>0</td>\n",
              "      <td>LumA</td>\n",
              "      <td>1.0</td>\n",
              "      <td>Positve</td>\n",
              "      <td>...</td>\n",
              "      <td>0</td>\n",
              "      <td>0</td>\n",
              "      <td>0</td>\n",
              "      <td>0</td>\n",
              "      <td>0</td>\n",
              "      <td>0</td>\n",
              "      <td>0</td>\n",
              "      <td>0</td>\n",
              "      <td>0</td>\n",
              "      <td>0</td>\n",
              "    </tr>\n",
              "    <tr>\n",
              "      <th>2</th>\n",
              "      <td>5</td>\n",
              "      <td>48.87</td>\n",
              "      <td>MASTECTOMY</td>\n",
              "      <td>Breast Cancer</td>\n",
              "      <td>Breast Invasive Ductal Carcinoma</td>\n",
              "      <td>High</td>\n",
              "      <td>1</td>\n",
              "      <td>LumB</td>\n",
              "      <td>1.0</td>\n",
              "      <td>Positve</td>\n",
              "      <td>...</td>\n",
              "      <td>0</td>\n",
              "      <td>0</td>\n",
              "      <td>0</td>\n",
              "      <td>0</td>\n",
              "      <td>0</td>\n",
              "      <td>0</td>\n",
              "      <td>0</td>\n",
              "      <td>0</td>\n",
              "      <td>0</td>\n",
              "      <td>0</td>\n",
              "    </tr>\n",
              "    <tr>\n",
              "      <th>3</th>\n",
              "      <td>6</td>\n",
              "      <td>47.68</td>\n",
              "      <td>MASTECTOMY</td>\n",
              "      <td>Breast Cancer</td>\n",
              "      <td>Breast Mixed Ductal and Lobular Carcinoma</td>\n",
              "      <td>Moderate</td>\n",
              "      <td>1</td>\n",
              "      <td>LumB</td>\n",
              "      <td>1.0</td>\n",
              "      <td>Positve</td>\n",
              "      <td>...</td>\n",
              "      <td>0</td>\n",
              "      <td>0</td>\n",
              "      <td>0</td>\n",
              "      <td>0</td>\n",
              "      <td>0</td>\n",
              "      <td>0</td>\n",
              "      <td>0</td>\n",
              "      <td>0</td>\n",
              "      <td>0</td>\n",
              "      <td>0</td>\n",
              "    </tr>\n",
              "    <tr>\n",
              "      <th>4</th>\n",
              "      <td>8</td>\n",
              "      <td>76.97</td>\n",
              "      <td>MASTECTOMY</td>\n",
              "      <td>Breast Cancer</td>\n",
              "      <td>Breast Mixed Ductal and Lobular Carcinoma</td>\n",
              "      <td>High</td>\n",
              "      <td>1</td>\n",
              "      <td>LumB</td>\n",
              "      <td>1.0</td>\n",
              "      <td>Positve</td>\n",
              "      <td>...</td>\n",
              "      <td>0</td>\n",
              "      <td>0</td>\n",
              "      <td>0</td>\n",
              "      <td>0</td>\n",
              "      <td>0</td>\n",
              "      <td>0</td>\n",
              "      <td>0</td>\n",
              "      <td>0</td>\n",
              "      <td>0</td>\n",
              "      <td>0</td>\n",
              "    </tr>\n",
              "  </tbody>\n",
              "</table>\n",
              "<p>5 rows × 693 columns</p>\n",
              "</div>"
            ],
            "text/plain": [
              "   patient_id  age_at_diagnosis type_of_breast_surgery    cancer_type  \\\n",
              "0           0             75.65             MASTECTOMY  Breast Cancer   \n",
              "1           2             43.19      BREAST CONSERVING  Breast Cancer   \n",
              "2           5             48.87             MASTECTOMY  Breast Cancer   \n",
              "3           6             47.68             MASTECTOMY  Breast Cancer   \n",
              "4           8             76.97             MASTECTOMY  Breast Cancer   \n",
              "\n",
              "                        cancer_type_detailed cellularity  chemotherapy  \\\n",
              "0           Breast Invasive Ductal Carcinoma         NaN             0   \n",
              "1           Breast Invasive Ductal Carcinoma        High             0   \n",
              "2           Breast Invasive Ductal Carcinoma        High             1   \n",
              "3  Breast Mixed Ductal and Lobular Carcinoma    Moderate             1   \n",
              "4  Breast Mixed Ductal and Lobular Carcinoma        High             1   \n",
              "\n",
              "  pam50_+_claudin-low_subtype  cohort er_status_measured_by_ihc  ... mtap_mut  \\\n",
              "0                 claudin-low     1.0                   Positve  ...        0   \n",
              "1                        LumA     1.0                   Positve  ...        0   \n",
              "2                        LumB     1.0                   Positve  ...        0   \n",
              "3                        LumB     1.0                   Positve  ...        0   \n",
              "4                        LumB     1.0                   Positve  ...        0   \n",
              "\n",
              "   ppp2cb_mut smarcd1_mut nras_mut ndfip1_mut  hras_mut prps2_mut smarcb1_mut  \\\n",
              "0           0           0        0          0         0         0           0   \n",
              "1           0           0        0          0         0         0           0   \n",
              "2           0           0        0          0         0         0           0   \n",
              "3           0           0        0          0         0         0           0   \n",
              "4           0           0        0          0         0         0           0   \n",
              "\n",
              "  stmn2_mut  siah1_mut  \n",
              "0         0          0  \n",
              "1         0          0  \n",
              "2         0          0  \n",
              "3         0          0  \n",
              "4         0          0  \n",
              "\n",
              "[5 rows x 693 columns]"
            ]
          },
          "execution_count": 3,
          "metadata": {},
          "output_type": "execute_result"
        }
      ],
      "source": [
        "# TODO\n",
        "df = pd.read_csv('METABRIC_RNA_Mutation.csv', low_memory=False)\n",
        "df.head(5)"
      ]
    },
    {
      "cell_type": "code",
      "execution_count": 4,
      "id": "3468645e",
      "metadata": {
        "colab": {
          "base_uri": "https://localhost:8080/"
        },
        "id": "3468645e",
        "outputId": "eefa0c60-d8b3-454d-f1a5-fa9d1ba16e40"
      },
      "outputs": [
        {
          "name": "stdout",
          "output_type": "stream",
          "text": [
            "Number of clinical columns 31\n",
            "Number of gene expression columns 489\n",
            "Number of gene mutation columns 173\n"
          ]
        }
      ],
      "source": [
        "# Get column names for clinical, gene expression and gene mutation datasets\n",
        "\n",
        "columns = df.columns\n",
        "clinical_columns = columns[:31]\n",
        "clinical_data_columns = df.columns[:24].append(df.columns[25:30])\n",
        "label_column = columns[24]\n",
        "gene_columns = columns[31:]\n",
        "gene_mut_columns = pd.Index(filter(lambda s: s.endswith('_mut'),columns))\n",
        "gene_expr_columns = pd.Index(set(gene_columns) - set(gene_mut_columns))\n",
        "\n",
        "print(f'Number of clinical columns {len(clinical_columns)}')\n",
        "print(f'Number of gene expression columns {len(gene_expr_columns)}')\n",
        "print(f'Number of gene mutation columns {len(gene_mut_columns)}')"
      ]
    },
    {
      "cell_type": "code",
      "execution_count": 5,
      "id": "7c9ea55a",
      "metadata": {
        "id": "7c9ea55a"
      },
      "outputs": [],
      "source": [
        "clinical_dataset = df[clinical_columns]\n",
        "gene_expr_dataset = df[gene_expr_columns]\n",
        "gene_mut_dataset = df[gene_mut_columns]"
      ]
    },
    {
      "cell_type": "markdown",
      "id": "aebfdb6b",
      "metadata": {
        "id": "aebfdb6b"
      },
      "source": [
        "## EDA"
      ]
    },
    {
      "cell_type": "markdown",
      "id": "e87d59d7",
      "metadata": {
        "id": "e87d59d7"
      },
      "source": [
        "For each dataset, you must perform a sufficient EDA."
      ]
    },
    {
      "cell_type": "code",
      "execution_count": 6,
      "id": "d3815455",
      "metadata": {
        "colab": {
          "base_uri": "https://localhost:8080/"
        },
        "id": "d3815455",
        "outputId": "d5469703-3858-4721-9bd3-8440d1c14727"
      },
      "outputs": [
        {
          "name": "stdout",
          "output_type": "stream",
          "text": [
            "<class 'pandas.core.frame.DataFrame'>\n",
            "RangeIndex: 1904 entries, 0 to 1903\n",
            "Data columns (total 31 columns):\n",
            " #   Column                          Non-Null Count  Dtype  \n",
            "---  ------                          --------------  -----  \n",
            " 0   patient_id                      1904 non-null   int64  \n",
            " 1   age_at_diagnosis                1904 non-null   float64\n",
            " 2   type_of_breast_surgery          1882 non-null   object \n",
            " 3   cancer_type                     1904 non-null   object \n",
            " 4   cancer_type_detailed            1889 non-null   object \n",
            " 5   cellularity                     1850 non-null   object \n",
            " 6   chemotherapy                    1904 non-null   int64  \n",
            " 7   pam50_+_claudin-low_subtype     1904 non-null   object \n",
            " 8   cohort                          1904 non-null   float64\n",
            " 9   er_status_measured_by_ihc       1874 non-null   object \n",
            " 10  er_status                       1904 non-null   object \n",
            " 11  neoplasm_histologic_grade       1832 non-null   float64\n",
            " 12  her2_status_measured_by_snp6    1904 non-null   object \n",
            " 13  her2_status                     1904 non-null   object \n",
            " 14  tumor_other_histologic_subtype  1889 non-null   object \n",
            " 15  hormone_therapy                 1904 non-null   int64  \n",
            " 16  inferred_menopausal_state       1904 non-null   object \n",
            " 17  integrative_cluster             1904 non-null   object \n",
            " 18  primary_tumor_laterality        1798 non-null   object \n",
            " 19  lymph_nodes_examined_positive   1904 non-null   float64\n",
            " 20  mutation_count                  1859 non-null   float64\n",
            " 21  nottingham_prognostic_index     1904 non-null   float64\n",
            " 22  oncotree_code                   1889 non-null   object \n",
            " 23  overall_survival_months         1904 non-null   float64\n",
            " 24  overall_survival                1904 non-null   int64  \n",
            " 25  pr_status                       1904 non-null   object \n",
            " 26  radio_therapy                   1904 non-null   int64  \n",
            " 27  3-gene_classifier_subtype       1700 non-null   object \n",
            " 28  tumor_size                      1884 non-null   float64\n",
            " 29  tumor_stage                     1403 non-null   float64\n",
            " 30  death_from_cancer               1903 non-null   object \n",
            "dtypes: float64(9), int64(5), object(17)\n",
            "memory usage: 461.2+ KB\n"
          ]
        }
      ],
      "source": [
        "clinical_dataset.info()"
      ]
    },
    {
      "cell_type": "code",
      "execution_count": 7,
      "id": "1f838902",
      "metadata": {
        "colab": {
          "base_uri": "https://localhost:8080/",
          "height": 364
        },
        "id": "1f838902",
        "outputId": "27089416-58f1-4075-9e5a-f024a86654b7"
      },
      "outputs": [
        {
          "data": {
            "text/html": [
              "<div>\n",
              "<style scoped>\n",
              "    .dataframe tbody tr th:only-of-type {\n",
              "        vertical-align: middle;\n",
              "    }\n",
              "\n",
              "    .dataframe tbody tr th {\n",
              "        vertical-align: top;\n",
              "    }\n",
              "\n",
              "    .dataframe thead th {\n",
              "        text-align: right;\n",
              "    }\n",
              "</style>\n",
              "<table border=\"1\" class=\"dataframe\">\n",
              "  <thead>\n",
              "    <tr style=\"text-align: right;\">\n",
              "      <th></th>\n",
              "      <th>patient_id</th>\n",
              "      <th>age_at_diagnosis</th>\n",
              "      <th>chemotherapy</th>\n",
              "      <th>cohort</th>\n",
              "      <th>neoplasm_histologic_grade</th>\n",
              "      <th>hormone_therapy</th>\n",
              "      <th>lymph_nodes_examined_positive</th>\n",
              "      <th>mutation_count</th>\n",
              "      <th>nottingham_prognostic_index</th>\n",
              "      <th>overall_survival_months</th>\n",
              "      <th>overall_survival</th>\n",
              "      <th>radio_therapy</th>\n",
              "      <th>tumor_size</th>\n",
              "      <th>tumor_stage</th>\n",
              "    </tr>\n",
              "  </thead>\n",
              "  <tbody>\n",
              "    <tr>\n",
              "      <th>count</th>\n",
              "      <td>1904.000000</td>\n",
              "      <td>1904.000000</td>\n",
              "      <td>1904.000000</td>\n",
              "      <td>1904.000000</td>\n",
              "      <td>1832.000000</td>\n",
              "      <td>1904.000000</td>\n",
              "      <td>1904.000000</td>\n",
              "      <td>1859.000000</td>\n",
              "      <td>1904.000000</td>\n",
              "      <td>1904.000000</td>\n",
              "      <td>1904.000000</td>\n",
              "      <td>1904.000000</td>\n",
              "      <td>1884.000000</td>\n",
              "      <td>1403.000000</td>\n",
              "    </tr>\n",
              "    <tr>\n",
              "      <th>mean</th>\n",
              "      <td>3921.982143</td>\n",
              "      <td>61.087054</td>\n",
              "      <td>0.207983</td>\n",
              "      <td>2.643908</td>\n",
              "      <td>2.415939</td>\n",
              "      <td>0.616597</td>\n",
              "      <td>2.002101</td>\n",
              "      <td>5.697687</td>\n",
              "      <td>4.033019</td>\n",
              "      <td>125.121324</td>\n",
              "      <td>0.420693</td>\n",
              "      <td>0.597164</td>\n",
              "      <td>26.238726</td>\n",
              "      <td>1.750535</td>\n",
              "    </tr>\n",
              "    <tr>\n",
              "      <th>std</th>\n",
              "      <td>2358.478332</td>\n",
              "      <td>12.978711</td>\n",
              "      <td>0.405971</td>\n",
              "      <td>1.228615</td>\n",
              "      <td>0.650612</td>\n",
              "      <td>0.486343</td>\n",
              "      <td>4.079993</td>\n",
              "      <td>4.058778</td>\n",
              "      <td>1.144492</td>\n",
              "      <td>76.334148</td>\n",
              "      <td>0.493800</td>\n",
              "      <td>0.490597</td>\n",
              "      <td>15.160976</td>\n",
              "      <td>0.628999</td>\n",
              "    </tr>\n",
              "    <tr>\n",
              "      <th>min</th>\n",
              "      <td>0.000000</td>\n",
              "      <td>21.930000</td>\n",
              "      <td>0.000000</td>\n",
              "      <td>1.000000</td>\n",
              "      <td>1.000000</td>\n",
              "      <td>0.000000</td>\n",
              "      <td>0.000000</td>\n",
              "      <td>1.000000</td>\n",
              "      <td>1.000000</td>\n",
              "      <td>0.000000</td>\n",
              "      <td>0.000000</td>\n",
              "      <td>0.000000</td>\n",
              "      <td>1.000000</td>\n",
              "      <td>0.000000</td>\n",
              "    </tr>\n",
              "    <tr>\n",
              "      <th>25%</th>\n",
              "      <td>896.500000</td>\n",
              "      <td>51.375000</td>\n",
              "      <td>0.000000</td>\n",
              "      <td>1.000000</td>\n",
              "      <td>2.000000</td>\n",
              "      <td>0.000000</td>\n",
              "      <td>0.000000</td>\n",
              "      <td>3.000000</td>\n",
              "      <td>3.046000</td>\n",
              "      <td>60.825000</td>\n",
              "      <td>0.000000</td>\n",
              "      <td>0.000000</td>\n",
              "      <td>17.000000</td>\n",
              "      <td>1.000000</td>\n",
              "    </tr>\n",
              "    <tr>\n",
              "      <th>50%</th>\n",
              "      <td>4730.500000</td>\n",
              "      <td>61.770000</td>\n",
              "      <td>0.000000</td>\n",
              "      <td>3.000000</td>\n",
              "      <td>3.000000</td>\n",
              "      <td>1.000000</td>\n",
              "      <td>0.000000</td>\n",
              "      <td>5.000000</td>\n",
              "      <td>4.042000</td>\n",
              "      <td>115.616667</td>\n",
              "      <td>0.000000</td>\n",
              "      <td>1.000000</td>\n",
              "      <td>23.000000</td>\n",
              "      <td>2.000000</td>\n",
              "    </tr>\n",
              "    <tr>\n",
              "      <th>75%</th>\n",
              "      <td>5536.250000</td>\n",
              "      <td>70.592500</td>\n",
              "      <td>0.000000</td>\n",
              "      <td>3.000000</td>\n",
              "      <td>3.000000</td>\n",
              "      <td>1.000000</td>\n",
              "      <td>2.000000</td>\n",
              "      <td>7.000000</td>\n",
              "      <td>5.040250</td>\n",
              "      <td>184.716667</td>\n",
              "      <td>1.000000</td>\n",
              "      <td>1.000000</td>\n",
              "      <td>30.000000</td>\n",
              "      <td>2.000000</td>\n",
              "    </tr>\n",
              "    <tr>\n",
              "      <th>max</th>\n",
              "      <td>7299.000000</td>\n",
              "      <td>96.290000</td>\n",
              "      <td>1.000000</td>\n",
              "      <td>5.000000</td>\n",
              "      <td>3.000000</td>\n",
              "      <td>1.000000</td>\n",
              "      <td>45.000000</td>\n",
              "      <td>80.000000</td>\n",
              "      <td>6.360000</td>\n",
              "      <td>355.200000</td>\n",
              "      <td>1.000000</td>\n",
              "      <td>1.000000</td>\n",
              "      <td>182.000000</td>\n",
              "      <td>4.000000</td>\n",
              "    </tr>\n",
              "  </tbody>\n",
              "</table>\n",
              "</div>"
            ],
            "text/plain": [
              "        patient_id  age_at_diagnosis  chemotherapy       cohort  \\\n",
              "count  1904.000000       1904.000000   1904.000000  1904.000000   \n",
              "mean   3921.982143         61.087054      0.207983     2.643908   \n",
              "std    2358.478332         12.978711      0.405971     1.228615   \n",
              "min       0.000000         21.930000      0.000000     1.000000   \n",
              "25%     896.500000         51.375000      0.000000     1.000000   \n",
              "50%    4730.500000         61.770000      0.000000     3.000000   \n",
              "75%    5536.250000         70.592500      0.000000     3.000000   \n",
              "max    7299.000000         96.290000      1.000000     5.000000   \n",
              "\n",
              "       neoplasm_histologic_grade  hormone_therapy  \\\n",
              "count                1832.000000      1904.000000   \n",
              "mean                    2.415939         0.616597   \n",
              "std                     0.650612         0.486343   \n",
              "min                     1.000000         0.000000   \n",
              "25%                     2.000000         0.000000   \n",
              "50%                     3.000000         1.000000   \n",
              "75%                     3.000000         1.000000   \n",
              "max                     3.000000         1.000000   \n",
              "\n",
              "       lymph_nodes_examined_positive  mutation_count  \\\n",
              "count                    1904.000000     1859.000000   \n",
              "mean                        2.002101        5.697687   \n",
              "std                         4.079993        4.058778   \n",
              "min                         0.000000        1.000000   \n",
              "25%                         0.000000        3.000000   \n",
              "50%                         0.000000        5.000000   \n",
              "75%                         2.000000        7.000000   \n",
              "max                        45.000000       80.000000   \n",
              "\n",
              "       nottingham_prognostic_index  overall_survival_months  overall_survival  \\\n",
              "count                  1904.000000              1904.000000       1904.000000   \n",
              "mean                      4.033019               125.121324          0.420693   \n",
              "std                       1.144492                76.334148          0.493800   \n",
              "min                       1.000000                 0.000000          0.000000   \n",
              "25%                       3.046000                60.825000          0.000000   \n",
              "50%                       4.042000               115.616667          0.000000   \n",
              "75%                       5.040250               184.716667          1.000000   \n",
              "max                       6.360000               355.200000          1.000000   \n",
              "\n",
              "       radio_therapy   tumor_size  tumor_stage  \n",
              "count    1904.000000  1884.000000  1403.000000  \n",
              "mean        0.597164    26.238726     1.750535  \n",
              "std         0.490597    15.160976     0.628999  \n",
              "min         0.000000     1.000000     0.000000  \n",
              "25%         0.000000    17.000000     1.000000  \n",
              "50%         1.000000    23.000000     2.000000  \n",
              "75%         1.000000    30.000000     2.000000  \n",
              "max         1.000000   182.000000     4.000000  "
            ]
          },
          "execution_count": 7,
          "metadata": {},
          "output_type": "execute_result"
        }
      ],
      "source": [
        "clinical_dataset.describe()"
      ]
    },
    {
      "cell_type": "code",
      "execution_count": 8,
      "id": "539e4ddf",
      "metadata": {
        "colab": {
          "base_uri": "https://localhost:8080/"
        },
        "id": "539e4ddf",
        "outputId": "bcdec4fc-5f21-4cb7-b6bf-841f76bd33e8"
      },
      "outputs": [
        {
          "name": "stdout",
          "output_type": "stream",
          "text": [
            "<class 'pandas.core.frame.DataFrame'>\n",
            "RangeIndex: 1904 entries, 0 to 1903\n",
            "Columns: 489 entries, peg3 to brca1\n",
            "dtypes: float64(489)\n",
            "memory usage: 7.1 MB\n"
          ]
        }
      ],
      "source": [
        "gene_expr_dataset.info()"
      ]
    },
    {
      "cell_type": "code",
      "execution_count": 9,
      "id": "9a290365",
      "metadata": {
        "colab": {
          "base_uri": "https://localhost:8080/",
          "height": 394
        },
        "id": "9a290365",
        "outputId": "3010c27f-ca55-4194-a387-e3f97a4a4fd8"
      },
      "outputs": [
        {
          "data": {
            "text/html": [
              "<div>\n",
              "<style scoped>\n",
              "    .dataframe tbody tr th:only-of-type {\n",
              "        vertical-align: middle;\n",
              "    }\n",
              "\n",
              "    .dataframe tbody tr th {\n",
              "        vertical-align: top;\n",
              "    }\n",
              "\n",
              "    .dataframe thead th {\n",
              "        text-align: right;\n",
              "    }\n",
              "</style>\n",
              "<table border=\"1\" class=\"dataframe\">\n",
              "  <thead>\n",
              "    <tr style=\"text-align: right;\">\n",
              "      <th></th>\n",
              "      <th>peg3</th>\n",
              "      <th>tubb4b</th>\n",
              "      <th>tbl1xr1</th>\n",
              "      <th>cdk6</th>\n",
              "      <th>fanca</th>\n",
              "      <th>rassf1</th>\n",
              "      <th>epcam</th>\n",
              "      <th>tp53bp1</th>\n",
              "      <th>tgfb1</th>\n",
              "      <th>dtx2</th>\n",
              "      <th>...</th>\n",
              "      <th>rasgef1b</th>\n",
              "      <th>vegfa</th>\n",
              "      <th>eif4ebp1</th>\n",
              "      <th>hsd3b2</th>\n",
              "      <th>prkg1</th>\n",
              "      <th>bmp2</th>\n",
              "      <th>folr1</th>\n",
              "      <th>akr1c2</th>\n",
              "      <th>map2</th>\n",
              "      <th>brca1</th>\n",
              "    </tr>\n",
              "  </thead>\n",
              "  <tbody>\n",
              "    <tr>\n",
              "      <th>count</th>\n",
              "      <td>1.904000e+03</td>\n",
              "      <td>1.904000e+03</td>\n",
              "      <td>1.904000e+03</td>\n",
              "      <td>1.904000e+03</td>\n",
              "      <td>1.904000e+03</td>\n",
              "      <td>1.904000e+03</td>\n",
              "      <td>1.904000e+03</td>\n",
              "      <td>1.904000e+03</td>\n",
              "      <td>1.904000e+03</td>\n",
              "      <td>1904.000000</td>\n",
              "      <td>...</td>\n",
              "      <td>1.904000e+03</td>\n",
              "      <td>1.904000e+03</td>\n",
              "      <td>1.904000e+03</td>\n",
              "      <td>1.904000e+03</td>\n",
              "      <td>1.904000e+03</td>\n",
              "      <td>1.904000e+03</td>\n",
              "      <td>1.904000e+03</td>\n",
              "      <td>1.904000e+03</td>\n",
              "      <td>1.904000e+03</td>\n",
              "      <td>1.904000e+03</td>\n",
              "    </tr>\n",
              "    <tr>\n",
              "      <th>mean</th>\n",
              "      <td>-4.726891e-07</td>\n",
              "      <td>-1.050420e-07</td>\n",
              "      <td>-3.676471e-07</td>\n",
              "      <td>6.302521e-07</td>\n",
              "      <td>4.201681e-07</td>\n",
              "      <td>-3.151261e-07</td>\n",
              "      <td>1.492737e-17</td>\n",
              "      <td>8.928571e-07</td>\n",
              "      <td>-2.626050e-07</td>\n",
              "      <td>-0.000001</td>\n",
              "      <td>...</td>\n",
              "      <td>-5.252101e-07</td>\n",
              "      <td>5.252101e-07</td>\n",
              "      <td>-4.201681e-07</td>\n",
              "      <td>1.050420e-07</td>\n",
              "      <td>1.050420e-07</td>\n",
              "      <td>6.302521e-07</td>\n",
              "      <td>-9.978992e-07</td>\n",
              "      <td>4.726891e-07</td>\n",
              "      <td>-6.827731e-07</td>\n",
              "      <td>-6.302521e-07</td>\n",
              "    </tr>\n",
              "    <tr>\n",
              "      <th>std</th>\n",
              "      <td>1.000264e+00</td>\n",
              "      <td>1.000263e+00</td>\n",
              "      <td>1.000263e+00</td>\n",
              "      <td>1.000263e+00</td>\n",
              "      <td>1.000262e+00</td>\n",
              "      <td>1.000264e+00</td>\n",
              "      <td>1.000263e+00</td>\n",
              "      <td>1.000262e+00</td>\n",
              "      <td>1.000262e+00</td>\n",
              "      <td>1.000262</td>\n",
              "      <td>...</td>\n",
              "      <td>1.000263e+00</td>\n",
              "      <td>1.000263e+00</td>\n",
              "      <td>1.000263e+00</td>\n",
              "      <td>1.000262e+00</td>\n",
              "      <td>1.000263e+00</td>\n",
              "      <td>1.000262e+00</td>\n",
              "      <td>1.000263e+00</td>\n",
              "      <td>1.000263e+00</td>\n",
              "      <td>1.000263e+00</td>\n",
              "      <td>1.000262e+00</td>\n",
              "    </tr>\n",
              "    <tr>\n",
              "      <th>min</th>\n",
              "      <td>-1.464100e+00</td>\n",
              "      <td>-3.667700e+00</td>\n",
              "      <td>-3.897100e+00</td>\n",
              "      <td>-2.278400e+00</td>\n",
              "      <td>-3.873400e+00</td>\n",
              "      <td>-2.756700e+00</td>\n",
              "      <td>-2.165900e+00</td>\n",
              "      <td>-3.852700e+00</td>\n",
              "      <td>-3.812600e+00</td>\n",
              "      <td>-4.502600</td>\n",
              "      <td>...</td>\n",
              "      <td>-4.132600e+00</td>\n",
              "      <td>-1.934400e+00</td>\n",
              "      <td>-1.811200e+00</td>\n",
              "      <td>-3.820900e+00</td>\n",
              "      <td>-4.039200e+00</td>\n",
              "      <td>-1.571300e+00</td>\n",
              "      <td>-1.150500e+00</td>\n",
              "      <td>-1.467500e+00</td>\n",
              "      <td>-1.801200e+00</td>\n",
              "      <td>-2.444400e+00</td>\n",
              "    </tr>\n",
              "    <tr>\n",
              "      <th>25%</th>\n",
              "      <td>-7.087250e-01</td>\n",
              "      <td>-6.646250e-01</td>\n",
              "      <td>-6.138500e-01</td>\n",
              "      <td>-6.680750e-01</td>\n",
              "      <td>-6.873250e-01</td>\n",
              "      <td>-6.983500e-01</td>\n",
              "      <td>-6.860000e-01</td>\n",
              "      <td>-6.718750e-01</td>\n",
              "      <td>-6.600000e-01</td>\n",
              "      <td>-0.683300</td>\n",
              "      <td>...</td>\n",
              "      <td>-6.552250e-01</td>\n",
              "      <td>-6.937500e-01</td>\n",
              "      <td>-6.632500e-01</td>\n",
              "      <td>-6.573000e-01</td>\n",
              "      <td>-6.861500e-01</td>\n",
              "      <td>-5.201500e-01</td>\n",
              "      <td>-6.967250e-01</td>\n",
              "      <td>-7.351500e-01</td>\n",
              "      <td>-5.506000e-01</td>\n",
              "      <td>-7.198500e-01</td>\n",
              "    </tr>\n",
              "    <tr>\n",
              "      <th>50%</th>\n",
              "      <td>-2.802000e-01</td>\n",
              "      <td>-2.600000e-03</td>\n",
              "      <td>-7.585000e-02</td>\n",
              "      <td>-1.958000e-01</td>\n",
              "      <td>2.200000e-03</td>\n",
              "      <td>-7.700000e-02</td>\n",
              "      <td>-1.494500e-01</td>\n",
              "      <td>1.315000e-02</td>\n",
              "      <td>1.440000e-02</td>\n",
              "      <td>-0.097000</td>\n",
              "      <td>...</td>\n",
              "      <td>-9.600000e-03</td>\n",
              "      <td>-1.639000e-01</td>\n",
              "      <td>-2.543500e-01</td>\n",
              "      <td>-1.145000e-02</td>\n",
              "      <td>-5.055000e-02</td>\n",
              "      <td>-2.013500e-01</td>\n",
              "      <td>-4.091000e-01</td>\n",
              "      <td>-1.955500e-01</td>\n",
              "      <td>-2.434000e-01</td>\n",
              "      <td>-1.244500e-01</td>\n",
              "    </tr>\n",
              "    <tr>\n",
              "      <th>75%</th>\n",
              "      <td>4.066250e-01</td>\n",
              "      <td>6.491250e-01</td>\n",
              "      <td>5.130500e-01</td>\n",
              "      <td>4.241000e-01</td>\n",
              "      <td>6.179500e-01</td>\n",
              "      <td>6.200000e-01</td>\n",
              "      <td>5.255000e-01</td>\n",
              "      <td>6.924750e-01</td>\n",
              "      <td>6.339250e-01</td>\n",
              "      <td>0.555800</td>\n",
              "      <td>...</td>\n",
              "      <td>6.355750e-01</td>\n",
              "      <td>5.131250e-01</td>\n",
              "      <td>3.648500e-01</td>\n",
              "      <td>6.380750e-01</td>\n",
              "      <td>6.064500e-01</td>\n",
              "      <td>2.314250e-01</td>\n",
              "      <td>3.300500e-01</td>\n",
              "      <td>5.003500e-01</td>\n",
              "      <td>2.167000e-01</td>\n",
              "      <td>5.532250e-01</td>\n",
              "    </tr>\n",
              "    <tr>\n",
              "      <th>max</th>\n",
              "      <td>5.004300e+00</td>\n",
              "      <td>5.271600e+00</td>\n",
              "      <td>7.064900e+00</td>\n",
              "      <td>7.380700e+00</td>\n",
              "      <td>4.573600e+00</td>\n",
              "      <td>4.517100e+00</td>\n",
              "      <td>6.953900e+00</td>\n",
              "      <td>4.534900e+00</td>\n",
              "      <td>4.610500e+00</td>\n",
              "      <td>4.039700</td>\n",
              "      <td>...</td>\n",
              "      <td>4.182200e+00</td>\n",
              "      <td>5.131900e+00</td>\n",
              "      <td>7.403600e+00</td>\n",
              "      <td>8.560800e+00</td>\n",
              "      <td>5.169200e+00</td>\n",
              "      <td>1.154290e+01</td>\n",
              "      <td>4.441700e+00</td>\n",
              "      <td>4.417200e+00</td>\n",
              "      <td>6.900500e+00</td>\n",
              "      <td>4.554200e+00</td>\n",
              "    </tr>\n",
              "  </tbody>\n",
              "</table>\n",
              "<p>8 rows × 489 columns</p>\n",
              "</div>"
            ],
            "text/plain": [
              "               peg3        tubb4b       tbl1xr1          cdk6         fanca  \\\n",
              "count  1.904000e+03  1.904000e+03  1.904000e+03  1.904000e+03  1.904000e+03   \n",
              "mean  -4.726891e-07 -1.050420e-07 -3.676471e-07  6.302521e-07  4.201681e-07   \n",
              "std    1.000264e+00  1.000263e+00  1.000263e+00  1.000263e+00  1.000262e+00   \n",
              "min   -1.464100e+00 -3.667700e+00 -3.897100e+00 -2.278400e+00 -3.873400e+00   \n",
              "25%   -7.087250e-01 -6.646250e-01 -6.138500e-01 -6.680750e-01 -6.873250e-01   \n",
              "50%   -2.802000e-01 -2.600000e-03 -7.585000e-02 -1.958000e-01  2.200000e-03   \n",
              "75%    4.066250e-01  6.491250e-01  5.130500e-01  4.241000e-01  6.179500e-01   \n",
              "max    5.004300e+00  5.271600e+00  7.064900e+00  7.380700e+00  4.573600e+00   \n",
              "\n",
              "             rassf1         epcam       tp53bp1         tgfb1         dtx2  \\\n",
              "count  1.904000e+03  1.904000e+03  1.904000e+03  1.904000e+03  1904.000000   \n",
              "mean  -3.151261e-07  1.492737e-17  8.928571e-07 -2.626050e-07    -0.000001   \n",
              "std    1.000264e+00  1.000263e+00  1.000262e+00  1.000262e+00     1.000262   \n",
              "min   -2.756700e+00 -2.165900e+00 -3.852700e+00 -3.812600e+00    -4.502600   \n",
              "25%   -6.983500e-01 -6.860000e-01 -6.718750e-01 -6.600000e-01    -0.683300   \n",
              "50%   -7.700000e-02 -1.494500e-01  1.315000e-02  1.440000e-02    -0.097000   \n",
              "75%    6.200000e-01  5.255000e-01  6.924750e-01  6.339250e-01     0.555800   \n",
              "max    4.517100e+00  6.953900e+00  4.534900e+00  4.610500e+00     4.039700   \n",
              "\n",
              "       ...      rasgef1b         vegfa      eif4ebp1        hsd3b2  \\\n",
              "count  ...  1.904000e+03  1.904000e+03  1.904000e+03  1.904000e+03   \n",
              "mean   ... -5.252101e-07  5.252101e-07 -4.201681e-07  1.050420e-07   \n",
              "std    ...  1.000263e+00  1.000263e+00  1.000263e+00  1.000262e+00   \n",
              "min    ... -4.132600e+00 -1.934400e+00 -1.811200e+00 -3.820900e+00   \n",
              "25%    ... -6.552250e-01 -6.937500e-01 -6.632500e-01 -6.573000e-01   \n",
              "50%    ... -9.600000e-03 -1.639000e-01 -2.543500e-01 -1.145000e-02   \n",
              "75%    ...  6.355750e-01  5.131250e-01  3.648500e-01  6.380750e-01   \n",
              "max    ...  4.182200e+00  5.131900e+00  7.403600e+00  8.560800e+00   \n",
              "\n",
              "              prkg1          bmp2         folr1        akr1c2          map2  \\\n",
              "count  1.904000e+03  1.904000e+03  1.904000e+03  1.904000e+03  1.904000e+03   \n",
              "mean   1.050420e-07  6.302521e-07 -9.978992e-07  4.726891e-07 -6.827731e-07   \n",
              "std    1.000263e+00  1.000262e+00  1.000263e+00  1.000263e+00  1.000263e+00   \n",
              "min   -4.039200e+00 -1.571300e+00 -1.150500e+00 -1.467500e+00 -1.801200e+00   \n",
              "25%   -6.861500e-01 -5.201500e-01 -6.967250e-01 -7.351500e-01 -5.506000e-01   \n",
              "50%   -5.055000e-02 -2.013500e-01 -4.091000e-01 -1.955500e-01 -2.434000e-01   \n",
              "75%    6.064500e-01  2.314250e-01  3.300500e-01  5.003500e-01  2.167000e-01   \n",
              "max    5.169200e+00  1.154290e+01  4.441700e+00  4.417200e+00  6.900500e+00   \n",
              "\n",
              "              brca1  \n",
              "count  1.904000e+03  \n",
              "mean  -6.302521e-07  \n",
              "std    1.000262e+00  \n",
              "min   -2.444400e+00  \n",
              "25%   -7.198500e-01  \n",
              "50%   -1.244500e-01  \n",
              "75%    5.532250e-01  \n",
              "max    4.554200e+00  \n",
              "\n",
              "[8 rows x 489 columns]"
            ]
          },
          "execution_count": 9,
          "metadata": {},
          "output_type": "execute_result"
        }
      ],
      "source": [
        "gene_expr_dataset.describe()"
      ]
    },
    {
      "cell_type": "code",
      "execution_count": 10,
      "id": "8a055385",
      "metadata": {
        "colab": {
          "base_uri": "https://localhost:8080/"
        },
        "id": "8a055385",
        "outputId": "fbc09f2e-3a60-4302-ba09-0659a3192c20"
      },
      "outputs": [
        {
          "name": "stdout",
          "output_type": "stream",
          "text": [
            "<class 'pandas.core.frame.DataFrame'>\n",
            "RangeIndex: 1904 entries, 0 to 1903\n",
            "Columns: 173 entries, pik3ca_mut to siah1_mut\n",
            "dtypes: object(173)\n",
            "memory usage: 2.5+ MB\n"
          ]
        }
      ],
      "source": [
        "gene_mut_dataset.info()"
      ]
    },
    {
      "cell_type": "code",
      "execution_count": 11,
      "id": "0336013c",
      "metadata": {
        "colab": {
          "base_uri": "https://localhost:8080/",
          "height": 268
        },
        "id": "0336013c",
        "outputId": "8c4bb461-60ef-44f5-efd5-c2ccc9bce0f4"
      },
      "outputs": [
        {
          "data": {
            "text/html": [
              "<div>\n",
              "<style scoped>\n",
              "    .dataframe tbody tr th:only-of-type {\n",
              "        vertical-align: middle;\n",
              "    }\n",
              "\n",
              "    .dataframe tbody tr th {\n",
              "        vertical-align: top;\n",
              "    }\n",
              "\n",
              "    .dataframe thead th {\n",
              "        text-align: right;\n",
              "    }\n",
              "</style>\n",
              "<table border=\"1\" class=\"dataframe\">\n",
              "  <thead>\n",
              "    <tr style=\"text-align: right;\">\n",
              "      <th></th>\n",
              "      <th>pik3ca_mut</th>\n",
              "      <th>tp53_mut</th>\n",
              "      <th>muc16_mut</th>\n",
              "      <th>ahnak2_mut</th>\n",
              "      <th>kmt2c_mut</th>\n",
              "      <th>syne1_mut</th>\n",
              "      <th>gata3_mut</th>\n",
              "      <th>map3k1_mut</th>\n",
              "      <th>ahnak_mut</th>\n",
              "      <th>dnah11_mut</th>\n",
              "      <th>...</th>\n",
              "      <th>mtap_mut</th>\n",
              "      <th>ppp2cb_mut</th>\n",
              "      <th>smarcd1_mut</th>\n",
              "      <th>nras_mut</th>\n",
              "      <th>ndfip1_mut</th>\n",
              "      <th>hras_mut</th>\n",
              "      <th>prps2_mut</th>\n",
              "      <th>smarcb1_mut</th>\n",
              "      <th>stmn2_mut</th>\n",
              "      <th>siah1_mut</th>\n",
              "    </tr>\n",
              "  </thead>\n",
              "  <tbody>\n",
              "    <tr>\n",
              "      <th>count</th>\n",
              "      <td>1904</td>\n",
              "      <td>1904</td>\n",
              "      <td>1904</td>\n",
              "      <td>1904</td>\n",
              "      <td>1904</td>\n",
              "      <td>1904</td>\n",
              "      <td>1904</td>\n",
              "      <td>1904</td>\n",
              "      <td>1904</td>\n",
              "      <td>1904</td>\n",
              "      <td>...</td>\n",
              "      <td>1904</td>\n",
              "      <td>1904</td>\n",
              "      <td>1904</td>\n",
              "      <td>1904</td>\n",
              "      <td>1904</td>\n",
              "      <td>1904</td>\n",
              "      <td>1904</td>\n",
              "      <td>1904</td>\n",
              "      <td>1904</td>\n",
              "      <td>1904</td>\n",
              "    </tr>\n",
              "    <tr>\n",
              "      <th>unique</th>\n",
              "      <td>160</td>\n",
              "      <td>343</td>\n",
              "      <td>298</td>\n",
              "      <td>248</td>\n",
              "      <td>222</td>\n",
              "      <td>200</td>\n",
              "      <td>128</td>\n",
              "      <td>194</td>\n",
              "      <td>153</td>\n",
              "      <td>154</td>\n",
              "      <td>...</td>\n",
              "      <td>5</td>\n",
              "      <td>5</td>\n",
              "      <td>5</td>\n",
              "      <td>4</td>\n",
              "      <td>4</td>\n",
              "      <td>3</td>\n",
              "      <td>3</td>\n",
              "      <td>3</td>\n",
              "      <td>3</td>\n",
              "      <td>2</td>\n",
              "    </tr>\n",
              "    <tr>\n",
              "      <th>top</th>\n",
              "      <td>0</td>\n",
              "      <td>0</td>\n",
              "      <td>0</td>\n",
              "      <td>0</td>\n",
              "      <td>0</td>\n",
              "      <td>0</td>\n",
              "      <td>0</td>\n",
              "      <td>0</td>\n",
              "      <td>0</td>\n",
              "      <td>0</td>\n",
              "      <td>...</td>\n",
              "      <td>0</td>\n",
              "      <td>0</td>\n",
              "      <td>0</td>\n",
              "      <td>0</td>\n",
              "      <td>0</td>\n",
              "      <td>0</td>\n",
              "      <td>0</td>\n",
              "      <td>0</td>\n",
              "      <td>0</td>\n",
              "      <td>0</td>\n",
              "    </tr>\n",
              "    <tr>\n",
              "      <th>freq</th>\n",
              "      <td>1109</td>\n",
              "      <td>1245</td>\n",
              "      <td>1578</td>\n",
              "      <td>1593</td>\n",
              "      <td>1670</td>\n",
              "      <td>1672</td>\n",
              "      <td>1674</td>\n",
              "      <td>1706</td>\n",
              "      <td>1728</td>\n",
              "      <td>1729</td>\n",
              "      <td>...</td>\n",
              "      <td>1900</td>\n",
              "      <td>1900</td>\n",
              "      <td>1900</td>\n",
              "      <td>1901</td>\n",
              "      <td>1901</td>\n",
              "      <td>1902</td>\n",
              "      <td>1902</td>\n",
              "      <td>1902</td>\n",
              "      <td>1902</td>\n",
              "      <td>1903</td>\n",
              "    </tr>\n",
              "  </tbody>\n",
              "</table>\n",
              "<p>4 rows × 173 columns</p>\n",
              "</div>"
            ],
            "text/plain": [
              "       pik3ca_mut tp53_mut muc16_mut ahnak2_mut kmt2c_mut syne1_mut gata3_mut  \\\n",
              "count        1904     1904      1904       1904      1904      1904      1904   \n",
              "unique        160      343       298        248       222       200       128   \n",
              "top             0        0         0          0         0         0         0   \n",
              "freq         1109     1245      1578       1593      1670      1672      1674   \n",
              "\n",
              "       map3k1_mut ahnak_mut dnah11_mut  ... mtap_mut ppp2cb_mut smarcd1_mut  \\\n",
              "count        1904      1904       1904  ...     1904       1904        1904   \n",
              "unique        194       153        154  ...        5          5           5   \n",
              "top             0         0          0  ...        0          0           0   \n",
              "freq         1706      1728       1729  ...     1900       1900        1900   \n",
              "\n",
              "       nras_mut ndfip1_mut hras_mut prps2_mut smarcb1_mut stmn2_mut siah1_mut  \n",
              "count      1904       1904     1904      1904        1904      1904      1904  \n",
              "unique        4          4        3         3           3         3         2  \n",
              "top           0          0        0         0           0         0         0  \n",
              "freq       1901       1901     1902      1902        1902      1902      1903  \n",
              "\n",
              "[4 rows x 173 columns]"
            ]
          },
          "execution_count": 11,
          "metadata": {},
          "output_type": "execute_result"
        }
      ],
      "source": [
        "gene_mut_dataset.describe()"
      ]
    },
    {
      "cell_type": "code",
      "execution_count": 12,
      "id": "3fc5a137",
      "metadata": {
        "colab": {
          "base_uri": "https://localhost:8080/"
        },
        "id": "3fc5a137",
        "outputId": "750bf9b4-9a35-4fa3-f86c-6bf03a929c56"
      },
      "outputs": [
        {
          "name": "stdout",
          "output_type": "stream",
          "text": [
            "Clinical dataset clean data: 1092\n",
            "Gene expression dataset clean data: 1904\n",
            "Gene mutation dataset clean data: 1904\n"
          ]
        }
      ],
      "source": [
        "# clean data means data with no NaN value in any column\n",
        "def clean_stats(ds):\n",
        "    return '''clean data: {0}'''.format(ds.shape[0] - ds.isnull().any(axis=1).sum())\n",
        "\n",
        "print(f'Clinical dataset {clean_stats(clinical_dataset)}')\n",
        "print(f'Gene expression dataset {clean_stats(gene_expr_dataset)}')\n",
        "print(f'Gene mutation dataset {clean_stats(gene_mut_dataset)}')"
      ]
    },
    {
      "cell_type": "code",
      "execution_count": 13,
      "id": "0f730892",
      "metadata": {
        "colab": {
          "base_uri": "https://localhost:8080/"
        },
        "id": "0f730892",
        "outputId": "42b12e02-832c-4bf8-ebf9-3635c298918f"
      },
      "outputs": [
        {
          "data": {
            "text/plain": [
              "patient_id                          int64\n",
              "age_at_diagnosis                  float64\n",
              "type_of_breast_surgery             object\n",
              "cancer_type                        object\n",
              "cancer_type_detailed               object\n",
              "cellularity                        object\n",
              "chemotherapy                        int64\n",
              "pam50_+_claudin-low_subtype        object\n",
              "cohort                            float64\n",
              "er_status_measured_by_ihc          object\n",
              "er_status                          object\n",
              "neoplasm_histologic_grade         float64\n",
              "her2_status_measured_by_snp6       object\n",
              "her2_status                        object\n",
              "tumor_other_histologic_subtype     object\n",
              "hormone_therapy                     int64\n",
              "inferred_menopausal_state          object\n",
              "integrative_cluster                object\n",
              "primary_tumor_laterality           object\n",
              "lymph_nodes_examined_positive     float64\n",
              "mutation_count                    float64\n",
              "nottingham_prognostic_index       float64\n",
              "oncotree_code                      object\n",
              "overall_survival_months           float64\n",
              "overall_survival                    int64\n",
              "pr_status                          object\n",
              "radio_therapy                       int64\n",
              "3-gene_classifier_subtype          object\n",
              "tumor_size                        float64\n",
              "tumor_stage                       float64\n",
              "death_from_cancer                  object\n",
              "dtype: object"
            ]
          },
          "execution_count": 13,
          "metadata": {},
          "output_type": "execute_result"
        }
      ],
      "source": [
        "clinical_dataset.dtypes"
      ]
    },
    {
      "cell_type": "code",
      "execution_count": 14,
      "id": "935fefb0",
      "metadata": {
        "colab": {
          "base_uri": "https://localhost:8080/"
        },
        "id": "935fefb0",
        "outputId": "f1698807-76f3-4df7-cbef-8b7a9f49b603"
      },
      "outputs": [
        {
          "name": "stdout",
          "output_type": "stream",
          "text": [
            "Clinical dataset: \n",
            "    columns: 31, object columns: 17, int columns: 5, float columns: 9\n",
            "    \n",
            "Gene expression dataset: \n",
            "    columns: 489, object columns: 0, int columns: 0, float columns: 489\n",
            "    \n",
            "Gene mutation dataset: \n",
            "    columns: 173, object columns: 173, int columns: 0, float columns: 0\n",
            "    \n"
          ]
        }
      ],
      "source": [
        "def dtype_stats(ds):\n",
        "    return '''\n",
        "    columns: {0}, object columns: {1}, int columns: {2}, float columns: {3}\n",
        "    '''.format(len(ds.columns),\n",
        "               (ds.dtypes == 'object').sum(),\n",
        "               (ds.dtypes == 'int64').sum(),\n",
        "               (ds.dtypes == 'float64').sum())\n",
        "\n",
        "print(f'Clinical dataset: {dtype_stats(clinical_dataset)}')\n",
        "print(f'Gene expression dataset: {dtype_stats(gene_expr_dataset)}')\n",
        "print(f'Gene mutation dataset: {dtype_stats(gene_mut_dataset)}')"
      ]
    },
    {
      "cell_type": "code",
      "execution_count": 15,
      "id": "70dfb89d",
      "metadata": {
        "colab": {
          "base_uri": "https://localhost:8080/",
          "height": 206
        },
        "id": "70dfb89d",
        "outputId": "bb64426b-b8db-4bd1-8cf3-b26d71b7439a"
      },
      "outputs": [
        {
          "data": {
            "text/html": [
              "<div>\n",
              "<style scoped>\n",
              "    .dataframe tbody tr th:only-of-type {\n",
              "        vertical-align: middle;\n",
              "    }\n",
              "\n",
              "    .dataframe tbody tr th {\n",
              "        vertical-align: top;\n",
              "    }\n",
              "\n",
              "    .dataframe thead th {\n",
              "        text-align: right;\n",
              "    }\n",
              "</style>\n",
              "<table border=\"1\" class=\"dataframe\">\n",
              "  <thead>\n",
              "    <tr style=\"text-align: right;\">\n",
              "      <th></th>\n",
              "      <th>patient_id</th>\n",
              "      <th>chemotherapy</th>\n",
              "      <th>hormone_therapy</th>\n",
              "      <th>overall_survival</th>\n",
              "      <th>radio_therapy</th>\n",
              "    </tr>\n",
              "  </thead>\n",
              "  <tbody>\n",
              "    <tr>\n",
              "      <th>0</th>\n",
              "      <td>0</td>\n",
              "      <td>0</td>\n",
              "      <td>1</td>\n",
              "      <td>1</td>\n",
              "      <td>1</td>\n",
              "    </tr>\n",
              "    <tr>\n",
              "      <th>1</th>\n",
              "      <td>2</td>\n",
              "      <td>0</td>\n",
              "      <td>1</td>\n",
              "      <td>1</td>\n",
              "      <td>1</td>\n",
              "    </tr>\n",
              "    <tr>\n",
              "      <th>2</th>\n",
              "      <td>5</td>\n",
              "      <td>1</td>\n",
              "      <td>1</td>\n",
              "      <td>0</td>\n",
              "      <td>0</td>\n",
              "    </tr>\n",
              "    <tr>\n",
              "      <th>3</th>\n",
              "      <td>6</td>\n",
              "      <td>1</td>\n",
              "      <td>1</td>\n",
              "      <td>1</td>\n",
              "      <td>1</td>\n",
              "    </tr>\n",
              "    <tr>\n",
              "      <th>4</th>\n",
              "      <td>8</td>\n",
              "      <td>1</td>\n",
              "      <td>1</td>\n",
              "      <td>0</td>\n",
              "      <td>1</td>\n",
              "    </tr>\n",
              "  </tbody>\n",
              "</table>\n",
              "</div>"
            ],
            "text/plain": [
              "   patient_id  chemotherapy  hormone_therapy  overall_survival  radio_therapy\n",
              "0           0             0                1                 1              1\n",
              "1           2             0                1                 1              1\n",
              "2           5             1                1                 0              0\n",
              "3           6             1                1                 1              1\n",
              "4           8             1                1                 0              1"
            ]
          },
          "execution_count": 15,
          "metadata": {},
          "output_type": "execute_result"
        }
      ],
      "source": [
        "# check if int data needs scaling\n",
        "clinical_dataset[clinical_columns[clinical_dataset.dtypes == 'int64']].head(5)"
      ]
    },
    {
      "cell_type": "code",
      "execution_count": 16,
      "id": "00a64091",
      "metadata": {
        "id": "00a64091"
      },
      "outputs": [],
      "source": [
        "# define data and labels for each dataset\n",
        "\n",
        "labels = clinical_dataset[label_column].to_numpy()\n",
        "clinical_data = clinical_dataset[clinical_data_columns].to_numpy()\n",
        "gene_expr_data = gene_expr_dataset.to_numpy()"
      ]
    },
    {
      "cell_type": "code",
      "execution_count": 17,
      "id": "99c8a4bc",
      "metadata": {
        "id": "99c8a4bc"
      },
      "outputs": [],
      "source": [
        "# Convert categorical data to numerical data for clinical dataset\n",
        "ordinal_encoder = OrdinalEncoder()\n",
        "clinical_data = ordinal_encoder.fit_transform(clinical_data)"
      ]
    },
    {
      "cell_type": "code",
      "execution_count": 18,
      "id": "9da8ca52",
      "metadata": {
        "id": "9da8ca52"
      },
      "outputs": [],
      "source": [
        "# Perform data imputation for clinical dataset\n",
        "imputer = SimpleImputer(missing_values=np.nan, strategy='mean')\n",
        "clinical_data = imputer.fit_transform(clinical_data)"
      ]
    },
    {
      "cell_type": "code",
      "execution_count": 19,
      "id": "1BFAjN9wKRUu",
      "metadata": {
        "id": "1BFAjN9wKRUu"
      },
      "outputs": [],
      "source": [
        "scaler = StandardScaler()\n",
        "clinical_data = scaler.fit_transform(clinical_data)"
      ]
    },
    {
      "cell_type": "code",
      "execution_count": 20,
      "id": "eG4CkK4IC9d-",
      "metadata": {
        "id": "eG4CkK4IC9d-"
      },
      "outputs": [],
      "source": [
        "_clinical_train_X, _clinical_test_X, _clinical_train_y, _clinical_test_y = train_test_split(clinical_data, labels, test_size=0.10, random_state=42)\n",
        "_clinical_train_X, _clinical_val_X, _clinical_train_y, _clinical_val_y = train_test_split(_clinical_train_X, _clinical_train_y, test_size=0.10, random_state=42)\n",
        "\n",
        "_gene_expr_train_X, _gene_expr_test_X, _gene_expr_train_y, _gene_expr_test_y = train_test_split(gene_expr_data, labels, test_size=0.10, random_state=42)\n",
        "_gene_expr_train_X, _gene_expr_val_X, _gene_expr_train_y, _gene_expr_val_y = train_test_split(_gene_expr_train_X, _gene_expr_train_y, test_size=0.10, random_state=42)\n",
        "\n",
        "dataset = {\n",
        "    'clinical':{\n",
        "        'X_train': _clinical_train_X,\n",
        "        'X_val': _clinical_val_X,\n",
        "        'X_test': _clinical_test_X,\n",
        "        'y_train': _clinical_train_y,\n",
        "        'y_val': _clinical_val_y,\n",
        "        'y_test': _clinical_test_y\n",
        "    },\n",
        "    'gene_expr':{\n",
        "        'X_train': _gene_expr_train_X,\n",
        "        'X_val': _gene_expr_val_X,\n",
        "        'X_test': _gene_expr_test_X,\n",
        "        'y_train': _gene_expr_train_y,\n",
        "        'y_val': _gene_expr_val_y,\n",
        "        'y_test': _gene_expr_test_y\n",
        "    },\n",
        "    'gene_expr_reduced':{\n",
        "    }\n",
        "}"
      ]
    },
    {
      "cell_type": "markdown",
      "id": "e2c3821f",
      "metadata": {
        "id": "e2c3821f"
      },
      "source": [
        "## Dimension Reduction (20 + Up to 10 Points Optional)"
      ]
    },
    {
      "cell_type": "markdown",
      "id": "b925e2cf",
      "metadata": {
        "id": "b925e2cf"
      },
      "source": [
        "For each dataset, investigate whether it is needed to use a dimensionality reduction approach or not. If yes, please reduce the dataset's dimension. You can use UMAP for this purpose but any other approach is acceptable. Finding the most important features contains extra points."
      ]
    },
    {
      "cell_type": "markdown",
      "id": "b14cefb7",
      "metadata": {
        "id": "b14cefb7"
      },
      "source": [
        "<span style=\"color:orange\">\n",
        "    we check if dimensionality reduction is needed by using a simple linear regression model as a baseline .\n",
        "</span>\n",
        "\n"
      ]
    },
    {
      "cell_type": "code",
      "execution_count": 21,
      "id": "f0666a0d",
      "metadata": {
        "colab": {
          "base_uri": "https://localhost:8080/"
        },
        "id": "f0666a0d",
        "outputId": "3e374600-946f-4995-c0bb-a9e6eaed661c"
      },
      "outputs": [
        {
          "name": "stdout",
          "output_type": "stream",
          "text": [
            "Accuracy of simple linear regression model on clinical data: 0.738\n",
            "Accuracy of simple linear regression model on gene expression data: 0.550\n"
          ]
        }
      ],
      "source": [
        "# predict for the clinical dataset using linear regression\n",
        "_clf = LinearRegression()\n",
        "_clf.fit(dataset['clinical']['X_train'], dataset['clinical']['y_train'])\n",
        "_clinical_baseline_pred = np.round(_clf.predict(dataset['clinical']['X_test']))\n",
        "_clinical_baseline_accuracy = accuracy_score(dataset['clinical']['y_test'], _clinical_baseline_pred)\n",
        "\n",
        "# predict for the gene expression dataset using linear regression\n",
        "_clf = LinearRegression()\n",
        "_clf.fit(dataset['gene_expr']['X_train'], dataset['gene_expr']['y_train'])\n",
        "_gene_expr_baseline_pred = np.round(_clf.predict(dataset['gene_expr']['X_test']))\n",
        "_gene_expr_baseline_accuracy = accuracy_score(dataset['gene_expr']['y_test'], _gene_expr_baseline_pred)\n",
        "\n",
        "print(f'Accuracy of simple linear regression model on clinical data: {_clinical_baseline_accuracy:.3f}')\n",
        "print(f'Accuracy of simple linear regression model on gene expression data: {_gene_expr_baseline_accuracy:.3f}')"
      ]
    },
    {
      "cell_type": "markdown",
      "id": "29e2dbe8",
      "metadata": {
        "id": "29e2dbe8"
      },
      "source": [
        "<span style=\"color:orange\">\n",
        "    As we can see, the results are much better for the clinical dataset which has few dimensions, but not so much for the gene expession dataset.\n",
        "    Therefore, we will only reduce the dimensions for gene expression dataset.\n",
        "</span>\n",
        "\n"
      ]
    },
    {
      "cell_type": "code",
      "execution_count": 22,
      "id": "a3f0b1a2",
      "metadata": {
        "colab": {
          "base_uri": "https://localhost:8080/"
        },
        "id": "a3f0b1a2",
        "outputId": "7ecc82fe-56cf-4b18-844a-e15dcde3a0c8"
      },
      "outputs": [
        {
          "name": "stdout",
          "output_type": "stream",
          "text": [
            "Accuracy of simple linear regression model on reduced clinical data: 0.628\n",
            "Accuracy of simple linear regression model on reduced gene expression data: 0.618\n"
          ]
        }
      ],
      "source": [
        "# reduce the dimensions for clinical data and predict using baseline model\n",
        "CLINICAL_REDUCED_DIMENSIONS = 5\n",
        "GENE_EXPR_REDUCED_DIMENSIONS = 40\n",
        "\n",
        "\n",
        "_reducer = umap.UMAP(n_components=CLINICAL_REDUCED_DIMENSIONS, random_state=42)\n",
        "_reducer.fit(clinical_data)\n",
        "_reduced_X_train = _reducer.transform(dataset['clinical']['X_train'])\n",
        "_reduced_X_test = _reducer.transform(dataset['clinical']['X_test'])\n",
        "\n",
        "_clf = LinearRegression()\n",
        "_clf.fit(_reduced_X_train, dataset['clinical']['y_train'])\n",
        "_clinical_reduced_baseline_pred = np.round(_clf.predict(_reduced_X_test))\n",
        "_clinical_reduced_baseline_accuracy = accuracy_score(dataset['clinical']['y_test'], _clinical_reduced_baseline_pred)\n",
        "\n",
        "# reduce the dimensions for gene expression data and predict using baseline model\n",
        "_reducer = umap.UMAP(n_components=GENE_EXPR_REDUCED_DIMENSIONS, random_state=42)\n",
        "_reducer.fit(gene_expr_data)\n",
        "_reduced_X_train = _reducer.transform(dataset['gene_expr']['X_train'])\n",
        "_reduced_X_val = _reducer.transform(dataset['gene_expr']['X_val'])\n",
        "_reduced_X_test = _reducer.transform(dataset['gene_expr']['X_test'])\n",
        "\n",
        "_clf = LinearRegression()\n",
        "_clf.fit(_reduced_X_train, dataset['gene_expr']['y_train'])\n",
        "_gene_expr_reduced_baseline_pred = np.round(_clf.predict(_reduced_X_test))\n",
        "_gene_expr_reduced_baseline_accuracy = accuracy_score(dataset['gene_expr']['y_test'], _gene_expr_reduced_baseline_pred)\n",
        "\n",
        "print(f'Accuracy of simple linear regression model on reduced clinical data: {_clinical_reduced_baseline_accuracy:.3f}')\n",
        "print(f'Accuracy of simple linear regression model on reduced gene expression data: {_gene_expr_reduced_baseline_accuracy:.3f}')"
      ]
    },
    {
      "cell_type": "markdown",
      "id": "578ec633",
      "metadata": {
        "id": "578ec633"
      },
      "source": [
        "<span style=\"color:orange\">\n",
        "    As we can see, applying dimension reduction on the clinical dataset leads to worse results, while on gene expression dataset improves the predictions.\n",
        "    Therefore, we choose to reduce the dimensions of only the gene expression dataset. \n",
        "</span>\n",
        "\n"
      ]
    },
    {
      "cell_type": "code",
      "execution_count": 23,
      "id": "1dc64a2b",
      "metadata": {
        "id": "1dc64a2b"
      },
      "outputs": [],
      "source": [
        "dataset['gene_expr_reduced'] = {\n",
        "    'X_train': _reduced_X_train,\n",
        "    'X_val': _reduced_X_val,\n",
        "    'X_test': _reduced_X_test,\n",
        "    'y_train': _gene_expr_train_y,\n",
        "    'y_val': _gene_expr_val_y,\n",
        "    'y_test': _gene_expr_test_y\n",
        "}"
      ]
    },
    {
      "cell_type": "markdown",
      "id": "bf0ea4bb",
      "metadata": {
        "id": "bf0ea4bb"
      },
      "source": [
        "# Classic Model (25 Points)"
      ]
    },
    {
      "cell_type": "markdown",
      "id": "389c5d75",
      "metadata": {
        "id": "389c5d75"
      },
      "source": [
        "In this section, you must implement a classic classification model for clinical, gene expressions, and reduced gene expressions datasets. Using Random Forest is suggested. (minimum acceptable accuracy = 60%)"
      ]
    },
    {
      "cell_type": "code",
      "execution_count": 24,
      "id": "34ec1dd7",
      "metadata": {
        "colab": {
          "base_uri": "https://localhost:8080/"
        },
        "id": "34ec1dd7",
        "outputId": "a3d27908-e6d9-4dc5-d5ad-1ec701bee93e"
      },
      "outputs": [
        {
          "name": "stdout",
          "output_type": "stream",
          "text": [
            "random forest on clinical dataset had accuracy of 0.7696\n",
            "random forest on gene_expr dataset had accuracy of 0.6283\n",
            "random forest on gene_expr_reduced dataset had accuracy of 0.5550\n",
            "svm on clinical dataset had accuracy of 0.7539\n",
            "svm on gene_expr dataset had accuracy of 0.6073\n",
            "svm on gene_expr_reduced dataset had accuracy of 0.5864\n"
          ]
        }
      ],
      "source": [
        "random_forst_models = {\n",
        "    'clinical': None,\n",
        "    'gene_expr': None,\n",
        "    'gene_expr_reduced': None\n",
        "}\n",
        "\n",
        "for ds_name in random_forst_models:\n",
        "    clf = RandomForestClassifier(random_state=42)\n",
        "    ds = dataset[ds_name]\n",
        "    clf.fit(ds['X_train'], ds['y_train'])\n",
        "    y_pred = clf.predict(ds['X_test'])\n",
        "    acc = accuracy_score(ds['y_test'], y_pred)\n",
        "    random_forst_models[ds_name] = {\n",
        "        'model': clf,\n",
        "        'accuracy': acc\n",
        "    }\n",
        "\n",
        "    print(f'random forest on {ds_name} dataset had accuracy of {acc:.4f}')\n",
        "\n",
        "svm_models = random_forst_models.copy()\n",
        "\n",
        "for ds_name in random_forst_models:\n",
        "    clf = SVC(random_state=42)\n",
        "    ds = dataset[ds_name]\n",
        "    clf.fit(ds['X_train'], ds['y_train'])\n",
        "    y_pred = clf.predict(ds['X_test'])\n",
        "    acc = accuracy_score(ds['y_test'], y_pred)\n",
        "    random_forst_models[ds_name] = {\n",
        "        'model': clf,\n",
        "        'accuracy': acc\n",
        "    }\n",
        "\n",
        "    print(f'svm on {ds_name} dataset had accuracy of {acc:.4f}')\n",
        "\n"
      ]
    },
    {
      "cell_type": "markdown",
      "id": "50146d67",
      "metadata": {
        "id": "50146d67"
      },
      "source": [
        "# Neural Network (30 Points)"
      ]
    },
    {
      "cell_type": "markdown",
      "id": "485c4047",
      "metadata": {
        "id": "485c4047"
      },
      "source": [
        "In this section, you must implement a neural network model for clinical, gene expressions and reduced gene expressions datasets. Using the MPL models is suggested. (minimum acceptable accuracy = 60%)"
      ]
    },
    {
      "cell_type": "code",
      "execution_count": 25,
      "id": "c74a41b9",
      "metadata": {
        "colab": {
          "base_uri": "https://localhost:8080/"
        },
        "id": "c74a41b9",
        "outputId": "7284b7ce-3ebe-4be2-8d4b-972c2697bdfb"
      },
      "outputs": [
        {
          "data": {
            "text/plain": [
              "device(type='cpu')"
            ]
          },
          "execution_count": 25,
          "metadata": {},
          "output_type": "execute_result"
        }
      ],
      "source": [
        "device = torch.device('cuda:0' if torch.cuda.is_available() else 'cpu')\n",
        "device"
      ]
    },
    {
      "cell_type": "code",
      "execution_count": 26,
      "id": "2ecdff3a",
      "metadata": {
        "id": "2ecdff3a"
      },
      "outputs": [],
      "source": [
        "class CancerDataset(Dataset):\n",
        "\n",
        "    def __init__(self, X, y) -> None:\n",
        "        super().__init__()\n",
        "        self.X = X\n",
        "        self.y = y\n",
        "\n",
        "    def __len__(self):\n",
        "        return len(self.X)\n",
        "    \n",
        "    def __getitem__(self, idx):\n",
        "        return self.X[idx].astype(np.float32), self.y[idx].astype(np.float32)\n"
      ]
    },
    {
      "cell_type": "code",
      "execution_count": 27,
      "id": "aaa2d935",
      "metadata": {
        "id": "aaa2d935"
      },
      "outputs": [],
      "source": [
        "dataloaders = {}\n",
        "batch_size = 64\n",
        "\n",
        "for ds_name, ds_split in dataset.items():\n",
        "    dataloaders[ds_name] = {}\n",
        "    X_train = ds_split['X_train']\n",
        "    X_val = ds_split['X_val']\n",
        "    X_test = ds_split['X_test']\n",
        "    y_train = ds_split['y_train']\n",
        "    y_val = ds_split['y_val']\n",
        "    y_test = ds_split['y_test']\n",
        "    \n",
        "    train_ds = CancerDataset(X_train, y_train)\n",
        "    val_ds = CancerDataset(X_val, y_val)\n",
        "    test_ds = CancerDataset(X_test, y_test)\n",
        "\n",
        "    train_dl = DataLoader(train_ds, batch_size=batch_size, shuffle=True)\n",
        "    val_dl = DataLoader(val_ds, batch_size=batch_size, shuffle=True)\n",
        "    test_dl = DataLoader(test_ds, batch_size=batch_size, shuffle=True)\n",
        "\n",
        "    dataloaders[ds_name]['train'] = train_dl\n",
        "    dataloaders[ds_name]['val'] = val_dl\n",
        "    dataloaders[ds_name]['test'] = test_dl"
      ]
    },
    {
      "cell_type": "code",
      "execution_count": 28,
      "id": "JbseSF_CQnR1",
      "metadata": {
        "id": "JbseSF_CQnR1"
      },
      "outputs": [],
      "source": [
        "def evaluate(model, dataloader):\n",
        "    model.eval()\n",
        "    total, correct = 0, 0\n",
        "    with torch.no_grad():\n",
        "        for _, (data, labels) in enumerate(dataloader):\n",
        "            data, labels = data.to(device), labels.to(device)\n",
        "\n",
        "            pred = model(data).squeeze()\n",
        "            out = torch.round(pred)\n",
        "\n",
        "            correct = correct + (labels == out).sum()\n",
        "            total = total + len(data)\n",
        "    \n",
        "    return correct / total"
      ]
    },
    {
      "cell_type": "code",
      "execution_count": 29,
      "id": "2992ff5a",
      "metadata": {
        "id": "2992ff5a"
      },
      "outputs": [],
      "source": [
        "def train(model, criterion, optimizer, train_dataloader, val_dataloader, num_epochs):\n",
        "    best_model = model\n",
        "    train_losses = []\n",
        "    val_losses = []\n",
        "    train_accs = []\n",
        "    val_accs = []\n",
        "    best_val_loss = np.inf\n",
        "\n",
        "    for epoch in range(num_epochs):\n",
        "        # train \n",
        "        model.train()\n",
        "        total, correct = 0, 0\n",
        "        train_loss = 0.0\n",
        "        with tqdm(enumerate(train_dataloader), total=len(train_dataloader)) as pbar:\n",
        "            for i, (data, labels) in pbar:\n",
        "                data, labels = data.to(device), labels.to(device)\n",
        "                optimizer.zero_grad()\n",
        "\n",
        "                pred = model(data).squeeze()\n",
        "                out = pred.detach().round()\n",
        "\n",
        "                total = total + len(data)\n",
        "                correct = correct + (labels == out).sum()\n",
        "                \n",
        "                loss = criterion(pred, labels)\n",
        "                loss.backward()\n",
        "                optimizer.step()\n",
        "\n",
        "                train_loss = train_loss + loss.detach()\n",
        "\n",
        "                if correct/total > 0.95:\n",
        "                        return model\n",
        "                \n",
        "                pbar.set_description('Epoch {0}: train loss={1}, train accuracy={2}'.format(epoch, train_loss / total,\n",
        "                                                                                            correct / total))\n",
        "        \n",
        "        train_losses.append(train_loss)\n",
        "        train_accs.append((correct / total))\n",
        "        \n",
        "        # validation\n",
        "        model.eval()\n",
        "        total, correct = 0, 0\n",
        "        val_loss = 0.0\n",
        "        with torch.no_grad():\n",
        "            with tqdm(enumerate(val_dataloader), total=len(val_dataloader)) as pbar:\n",
        "                for i, (data, labels) in pbar:\n",
        "                    data, labels = data.to(device), labels.to(device)\n",
        "\n",
        "                    pred = model(data).squeeze()\n",
        "                    out = torch.round(pred)\n",
        "\n",
        "                    correct = correct + (labels == out).sum()\n",
        "                    total = total + len(data)\n",
        "\n",
        "                    val_loss += criterion(pred, labels).detach().cpu()\n",
        "                    \n",
        "                    pbar.set_description('Epoch {0}: val loss={1}, val accuracy={2}'.format(epoch, val_loss / total,\n",
        "                                                                                                correct / total))\n",
        "        if val_loss < best_val_loss:\n",
        "            print('New model saved, loss {0} -> {1}'.format(best_val_loss, val_loss))\n",
        "            best_val_loss = val_loss\n",
        "            best_model = deepcopy(model)\n",
        "\n",
        "    return [best_model, train_losses, val_losses, train_accs, val_accs]"
      ]
    },
    {
      "cell_type": "code",
      "execution_count": 30,
      "id": "344e1754",
      "metadata": {
        "colab": {
          "base_uri": "https://localhost:8080/",
          "height": 1000
        },
        "id": "344e1754",
        "outputId": "26ba861a-ac7c-4d82-cb1c-6fb2436811cd"
      },
      "outputs": [
        {
          "name": "stderr",
          "output_type": "stream",
          "text": [
            "Epoch 0: train loss=0.004064494743943214, train accuracy=0.5353666543960571: 100%|██████████| 25/25 [00:01<00:00, 24.56it/s]\n",
            "Epoch 0: val loss=0.004318842198699713, val accuracy=0.5: 100%|██████████| 3/3 [00:00<00:00, 657.59it/s]\n"
          ]
        },
        {
          "name": "stdout",
          "output_type": "stream",
          "text": [
            "New model saved, loss inf -> 0.7428408265113831\n"
          ]
        },
        {
          "name": "stderr",
          "output_type": "stream",
          "text": [
            "Epoch 1: train loss=0.0036985548213124275, train accuracy=0.6067488789558411: 100%|██████████| 25/25 [00:00<00:00, 223.63it/s]\n",
            "Epoch 1: val loss=0.0038636194076389074, val accuracy=0.680232584476471: 100%|██████████| 3/3 [00:00<00:00, 459.47it/s]\n"
          ]
        },
        {
          "name": "stdout",
          "output_type": "stream",
          "text": [
            "New model saved, loss 0.7428408265113831 -> 0.664542555809021\n"
          ]
        },
        {
          "name": "stderr",
          "output_type": "stream",
          "text": [
            "Epoch 2: train loss=0.003556503914296627, train accuracy=0.6391953229904175: 100%|██████████| 25/25 [00:00<00:00, 161.90it/s] \n",
            "Epoch 2: val loss=0.0037381132133305073, val accuracy=0.6744186282157898: 100%|██████████| 3/3 [00:00<00:00, 340.23it/s]\n"
          ]
        },
        {
          "name": "stdout",
          "output_type": "stream",
          "text": [
            "New model saved, loss 0.664542555809021 -> 0.642955482006073\n"
          ]
        },
        {
          "name": "stderr",
          "output_type": "stream",
          "text": [
            "Epoch 3: train loss=0.003454444231465459, train accuracy=0.6755353808403015: 100%|██████████| 25/25 [00:00<00:00, 205.41it/s]\n",
            "Epoch 3: val loss=0.003708320204168558, val accuracy=0.6860465407371521: 100%|██████████| 3/3 [00:00<00:00, 472.15it/s]\n"
          ]
        },
        {
          "name": "stdout",
          "output_type": "stream",
          "text": [
            "New model saved, loss 0.642955482006073 -> 0.6378310918807983\n"
          ]
        },
        {
          "name": "stderr",
          "output_type": "stream",
          "text": [
            "Epoch 4: train loss=0.003233248135074973, train accuracy=0.6891629099845886: 100%|██████████| 25/25 [00:00<00:00, 203.43it/s] \n",
            "Epoch 4: val loss=0.003517341101542115, val accuracy=0.6686046719551086: 100%|██████████| 3/3 [00:00<00:00, 80.93it/s]\n"
          ]
        },
        {
          "name": "stdout",
          "output_type": "stream",
          "text": [
            "New model saved, loss 0.6378310918807983 -> 0.6049826741218567\n"
          ]
        },
        {
          "name": "stderr",
          "output_type": "stream",
          "text": [
            "Epoch 5: train loss=0.003174412529915571, train accuracy=0.7235561609268188: 100%|██████████| 25/25 [00:00<00:00, 193.14it/s] \n",
            "Epoch 5: val loss=0.0034870896488428116, val accuracy=0.6918604373931885: 100%|██████████| 3/3 [00:00<00:00, 328.45it/s]\n"
          ]
        },
        {
          "name": "stdout",
          "output_type": "stream",
          "text": [
            "New model saved, loss 0.6049826741218567 -> 0.5997794270515442\n"
          ]
        },
        {
          "name": "stderr",
          "output_type": "stream",
          "text": [
            "Epoch 6: train loss=0.003074994310736656, train accuracy=0.7300454378128052: 100%|██████████| 25/25 [00:00<00:00, 215.07it/s]\n",
            "Epoch 6: val loss=0.0035475760232657194, val accuracy=0.7151162624359131: 100%|██████████| 3/3 [00:00<00:00, 329.07it/s]\n",
            "Epoch 7: train loss=0.0029827633406966925, train accuracy=0.7566515207290649: 100%|██████████| 25/25 [00:00<00:00, 208.11it/s]\n",
            "Epoch 7: val loss=0.0033412931952625513, val accuracy=0.6976743936538696: 100%|██████████| 3/3 [00:00<00:00, 338.73it/s]\n"
          ]
        },
        {
          "name": "stdout",
          "output_type": "stream",
          "text": [
            "New model saved, loss 0.5997794270515442 -> 0.5747024416923523\n"
          ]
        },
        {
          "name": "stderr",
          "output_type": "stream",
          "text": [
            "Epoch 8: train loss=0.0029082479886710644, train accuracy=0.7618429660797119: 100%|██████████| 25/25 [00:00<00:00, 154.86it/s]\n",
            "Epoch 8: val loss=0.0034197531640529633, val accuracy=0.7209302186965942: 100%|██████████| 3/3 [00:00<00:00, 500.24it/s]\n",
            "Epoch 9: train loss=0.0029281156603246927, train accuracy=0.7631407976150513: 100%|██████████| 25/25 [00:00<00:00, 210.38it/s]\n",
            "Epoch 9: val loss=0.0033552872482687235, val accuracy=0.7325581312179565: 100%|██████████| 3/3 [00:00<00:00, 479.92it/s]\n",
            "Epoch 10: train loss=0.0027322375681251287, train accuracy=0.7839065790176392: 100%|██████████| 25/25 [00:00<00:00, 216.72it/s]\n",
            "Epoch 10: val loss=0.0032182831782847643, val accuracy=0.7383720874786377: 100%|██████████| 3/3 [00:00<00:00, 353.31it/s]\n"
          ]
        },
        {
          "name": "stdout",
          "output_type": "stream",
          "text": [
            "New model saved, loss 0.5747024416923523 -> 0.5535447001457214\n"
          ]
        },
        {
          "name": "stderr",
          "output_type": "stream",
          "text": [
            "Epoch 11: train loss=0.0028104630764573812, train accuracy=0.7806618809700012: 100%|██████████| 25/25 [00:00<00:00, 180.51it/s]\n",
            "Epoch 11: val loss=0.0032856955658644438, val accuracy=0.75: 100%|██████████| 3/3 [00:00<00:00, 477.78it/s]\n",
            "Epoch 12: train loss=0.0026331671979278326, train accuracy=0.7858533263206482: 100%|██████████| 25/25 [00:00<00:00, 212.27it/s]\n",
            "Epoch 12: val loss=0.0033004970755428076, val accuracy=0.7441860437393188: 100%|██████████| 3/3 [00:00<00:00, 558.25it/s]\n",
            "Epoch 13: train loss=0.0025841824244707823, train accuracy=0.805321216583252: 100%|██████████| 25/25 [00:00<00:00, 212.91it/s] \n",
            "Epoch 13: val loss=0.003187190042808652, val accuracy=0.7674418687820435: 100%|██████████| 3/3 [00:00<00:00, 396.14it/s]\n"
          ]
        },
        {
          "name": "stdout",
          "output_type": "stream",
          "text": [
            "New model saved, loss 0.5535447001457214 -> 0.5481966733932495\n"
          ]
        },
        {
          "name": "stderr",
          "output_type": "stream",
          "text": [
            "Epoch 14: train loss=0.0025685965083539486, train accuracy=0.8027254939079285: 100%|██████████| 25/25 [00:00<00:00, 163.51it/s]\n",
            "Epoch 14: val loss=0.00323846354149282, val accuracy=0.7732558250427246: 100%|██████████| 3/3 [00:00<00:00, 603.99it/s]\n",
            "Epoch 15: train loss=0.0025164878461509943, train accuracy=0.8254380226135254: 100%|██████████| 25/25 [00:00<00:00, 212.47it/s]\n",
            "Epoch 15: val loss=0.003154254984110594, val accuracy=0.7616279125213623: 100%|██████████| 3/3 [00:00<00:00, 479.15it/s]\n"
          ]
        },
        {
          "name": "stdout",
          "output_type": "stream",
          "text": [
            "New model saved, loss 0.5481966733932495 -> 0.5425318479537964\n"
          ]
        },
        {
          "name": "stderr",
          "output_type": "stream",
          "text": [
            "Epoch 16: train loss=0.0024187962990254164, train accuracy=0.8234912157058716: 100%|██████████| 25/25 [00:00<00:00, 199.89it/s]\n",
            "Epoch 16: val loss=0.0031456381548196077, val accuracy=0.7616279125213623: 100%|██████████| 3/3 [00:00<00:00, 504.91it/s]\n"
          ]
        },
        {
          "name": "stdout",
          "output_type": "stream",
          "text": [
            "New model saved, loss 0.5425318479537964 -> 0.5410497784614563\n"
          ]
        },
        {
          "name": "stderr",
          "output_type": "stream",
          "text": [
            "Epoch 17: train loss=0.0024570198729634285, train accuracy=0.8170019388198853: 100%|██████████| 25/25 [00:00<00:00, 155.74it/s]\n",
            "Epoch 17: val loss=0.0030965828336775303, val accuracy=0.7441860437393188: 100%|██████████| 3/3 [00:00<00:00, 476.64it/s]\n"
          ]
        },
        {
          "name": "stdout",
          "output_type": "stream",
          "text": [
            "New model saved, loss 0.5410497784614563 -> 0.5326122641563416\n"
          ]
        },
        {
          "name": "stderr",
          "output_type": "stream",
          "text": [
            "Epoch 18: train loss=0.002315877005457878, train accuracy=0.8176508545875549: 100%|██████████| 25/25 [00:00<00:00, 212.28it/s] \n",
            "Epoch 18: val loss=0.003220517886802554, val accuracy=0.7325581312179565: 100%|██████████| 3/3 [00:00<00:00, 379.21it/s]\n",
            "Epoch 19: train loss=0.0023259855806827545, train accuracy=0.8215444684028625: 100%|██████████| 25/25 [00:00<00:00, 211.63it/s]\n",
            "Epoch 19: val loss=0.0031291479244828224, val accuracy=0.7441860437393188: 100%|██████████| 3/3 [00:00<00:00, 506.21it/s]\n",
            "Epoch 20: train loss=0.002295862417668104, train accuracy=0.8371187448501587: 100%|██████████| 25/25 [00:00<00:00, 157.15it/s] \n",
            "Epoch 20: val loss=0.003224814310669899, val accuracy=0.7383720874786377: 100%|██████████| 3/3 [00:00<00:00, 312.11it/s]\n",
            "Epoch 21: train loss=0.0022710664197802544, train accuracy=0.8325762748718262: 100%|██████████| 25/25 [00:00<00:00, 207.33it/s]\n",
            "Epoch 21: val loss=0.003105603624135256, val accuracy=0.7732558250427246: 100%|██████████| 3/3 [00:00<00:00, 362.29it/s]\n",
            "Epoch 22: train loss=0.002271608216688037, train accuracy=0.8513951897621155: 100%|██████████| 25/25 [00:00<00:00, 213.41it/s] \n",
            "Epoch 22: val loss=0.0031336224637925625, val accuracy=0.7674418687820435: 100%|██████████| 3/3 [00:00<00:00, 177.12it/s]\n",
            "Epoch 23: train loss=0.002215953776612878, train accuracy=0.8546398282051086: 100%|██████████| 25/25 [00:00<00:00, 184.34it/s] \n",
            "Epoch 23: val loss=0.0031140041537582874, val accuracy=0.75: 100%|██████████| 3/3 [00:00<00:00, 438.20it/s]\n",
            "Epoch 24: train loss=0.0020866950508207083, train accuracy=0.8500973582267761: 100%|██████████| 25/25 [00:00<00:00, 207.34it/s]\n",
            "Epoch 24: val loss=0.003138032741844654, val accuracy=0.7616279125213623: 100%|██████████| 3/3 [00:00<00:00, 304.52it/s]\n",
            "Epoch 25: train loss=0.002016686601564288, train accuracy=0.8578844666481018: 100%|██████████| 25/25 [00:00<00:00, 209.51it/s]\n",
            "Epoch 25: val loss=0.003143195528537035, val accuracy=0.75: 100%|██████████| 3/3 [00:00<00:00, 314.60it/s]\n",
            "Epoch 26: train loss=0.0019456343725323677, train accuracy=0.8669695258140564: 100%|██████████| 25/25 [00:00<00:00, 155.07it/s]\n",
            "Epoch 26: val loss=0.003128054551780224, val accuracy=0.7383720874786377: 100%|██████████| 3/3 [00:00<00:00, 467.16it/s]\n",
            "Epoch 27: train loss=0.002062823623418808, train accuracy=0.8481505513191223: 100%|██████████| 25/25 [00:00<00:00, 201.77it/s] \n",
            "Epoch 27: val loss=0.0030729216523468494, val accuracy=0.75: 100%|██████████| 3/3 [00:00<00:00, 432.15it/s]\n"
          ]
        },
        {
          "name": "stdout",
          "output_type": "stream",
          "text": [
            "New model saved, loss 0.5326122641563416 -> 0.5285425186157227\n"
          ]
        },
        {
          "name": "stderr",
          "output_type": "stream",
          "text": [
            "  0%|          | 0/25 [00:00<?, ?it/s]\n"
          ]
        },
        {
          "ename": "ValueError",
          "evalue": "too many values to unpack (expected 5)",
          "output_type": "error",
          "traceback": [
            "\u001b[0;31m---------------------------------------------------------------------------\u001b[0m",
            "\u001b[0;31mValueError\u001b[0m                                Traceback (most recent call last)",
            "Cell \u001b[0;32mIn[30], line 30\u001b[0m\n\u001b[1;32m     27\u001b[0m test_dl \u001b[39m=\u001b[39m dataloaders[ds_name][\u001b[39m'\u001b[39m\u001b[39mtest\u001b[39m\u001b[39m'\u001b[39m]\n\u001b[1;32m     29\u001b[0m return_vals \u001b[39m=\u001b[39m train(net, criterion, optimizer, train_dl, val_dl, num_epochs)\n\u001b[0;32m---> 30\u001b[0m net, train_losses, val_losses, train_accs, val_accs \u001b[39m=\u001b[39m return_vals \n\u001b[1;32m     31\u001b[0m \u001b[39m# test\u001b[39;00m\n\u001b[1;32m     32\u001b[0m acc \u001b[39m=\u001b[39m evaluate(net, test_dl)\n",
            "\u001b[0;31mValueError\u001b[0m: too many values to unpack (expected 5)"
          ]
        }
      ],
      "source": [
        "mlp_models = random_forst_models.copy()\n",
        "lr = 1e-4\n",
        "num_epochs = 100\n",
        "\n",
        "for ds_name in mlp_models:\n",
        "    net = nn.Sequential(\n",
        "        nn.Linear(dataset[ds_name]['X_train'].shape[1], 256),\n",
        "        nn.LeakyReLU(negative_slope=0.01),\n",
        "        nn.BatchNorm1d(256),\n",
        "        nn.Linear(256, 64),\n",
        "        nn.LeakyReLU(negative_slope=0.01),\n",
        "        nn.BatchNorm1d(64),\n",
        "        nn.Linear(64, 32),\n",
        "        nn.LeakyReLU(negative_slope=0.01),\n",
        "        nn.BatchNorm1d(32),\n",
        "        nn.Linear(32, 16),\n",
        "        nn.LeakyReLU(negative_slope=0.01),\n",
        "        nn.BatchNorm1d(16),\n",
        "        nn.Linear(16, 1),\n",
        "        nn.Sigmoid()\n",
        "    )\n",
        "    net = net.to(device)\n",
        "    optimizer = Adam(net.parameters(), lr=lr)\n",
        "    criterion = nn.MSELoss()\n",
        "    train_dl = dataloaders[ds_name]['train']\n",
        "    val_dl = dataloaders[ds_name]['val']\n",
        "    test_dl = dataloaders[ds_name]['test']\n",
        "\n",
        "    return_vals = train(net, criterion, optimizer, train_dl, val_dl, num_epochs)\n",
        "    net, train_losses, val_losses, train_accs, val_accs = return_vals \n",
        "    # test\n",
        "    acc = evaluate(net, test_dl)\n",
        "    mlp_models[ds_name] = {\n",
        "        'model': net,\n",
        "        'accuracy': acc,\n",
        "        'train_losses': train_losses,\n",
        "        'val_losses': val_losses,\n",
        "        'train_accs': train_accs,\n",
        "        'val_accs': val_accs\n",
        "    }"
      ]
    },
    {
      "cell_type": "code",
      "execution_count": null,
      "id": "hFjQ3KUhUqk4",
      "metadata": {
        "id": "hFjQ3KUhUqk4"
      },
      "outputs": [],
      "source": [
        "for ds_name in mlp_models:\n",
        "    acc = mlp_models[ds_name]['accuracy']\n",
        "    print(f'mlp accuracy on {ds_name} dataset had accuracy of {acc:.4f}')"
      ]
    },
    {
      "cell_type": "markdown",
      "id": "56877dc4",
      "metadata": {
        "id": "56877dc4"
      },
      "source": [
        "# Model Comparison (10 Points)"
      ]
    },
    {
      "cell_type": "markdown",
      "id": "509fe56a",
      "metadata": {
        "id": "509fe56a"
      },
      "source": [
        "Compare different models and different datasets (clinical, gene expressions, and gene reduced expressions) and try to explain their differences."
      ]
    },
    {
      "cell_type": "markdown",
      "id": "c2f05a73",
      "metadata": {
        "id": "c2f05a73"
      },
      "source": [
        "#### \\# TODO"
      ]
    }
  ],
  "metadata": {
    "colab": {
      "provenance": []
    },
    "kernelspec": {
      "display_name": "Python 3 (ipykernel)",
      "language": "python",
      "name": "python3"
    },
    "language_info": {
      "codemirror_mode": {
        "name": "ipython",
        "version": 3
      },
      "file_extension": ".py",
      "mimetype": "text/x-python",
      "name": "python",
      "nbconvert_exporter": "python",
      "pygments_lexer": "ipython3",
      "version": "3.9.12"
    },
    "toc": {
      "base_numbering": 1,
      "nav_menu": {},
      "number_sections": true,
      "sideBar": true,
      "skip_h1_title": false,
      "title_cell": "Table of Contents",
      "title_sidebar": "Contents",
      "toc_cell": false,
      "toc_position": {},
      "toc_section_display": true,
      "toc_window_display": false
    },
    "varInspector": {
      "cols": {
        "lenName": 16,
        "lenType": 16,
        "lenVar": 40
      },
      "kernels_config": {
        "python": {
          "delete_cmd_postfix": "",
          "delete_cmd_prefix": "del ",
          "library": "var_list.py",
          "varRefreshCmd": "print(var_dic_list())"
        },
        "r": {
          "delete_cmd_postfix": ") ",
          "delete_cmd_prefix": "rm(",
          "library": "var_list.r",
          "varRefreshCmd": "cat(var_dic_list()) "
        }
      },
      "types_to_exclude": [
        "module",
        "function",
        "builtin_function_or_method",
        "instance",
        "_Feature"
      ],
      "window_display": false
    },
    "vscode": {
      "interpreter": {
        "hash": "9d0e6cba9abb52fde9ce5ff9e7499c99052a279653ba0a99ce7c78819a4a9c31"
      }
    }
  },
  "nbformat": 4,
  "nbformat_minor": 5
}
